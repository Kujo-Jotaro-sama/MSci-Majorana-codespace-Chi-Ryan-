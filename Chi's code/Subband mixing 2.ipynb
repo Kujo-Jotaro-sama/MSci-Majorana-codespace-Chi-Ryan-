{
 "cells": [
  {
   "cell_type": "code",
   "execution_count": 1,
   "id": "8468b2ad-e15f-43dc-a05e-eb830fe82681",
   "metadata": {},
   "outputs": [],
   "source": [
    "# Copyright 2011-2019 Kwant authors.\n",
    "#\n",
    "# This file is part of Kwant.  It is subject to the license terms in the file\n",
    "# LICENSE.rst found in the top-level directory of this distribution and at\n",
    "# http://kwant-project.org/license.  A list of Kwant authors can be found in\n",
    "# the file AUTHORS.rst at the top-level directory of this distribution and at\n",
    "# http://kwant-project.org/authors.\n",
    "\n",
    "from packaging import version\n",
    "\n",
    "import numpy as np\n",
    "import scipy.linalg\n",
    "import scipy.optimize\n",
    "import scipy.sparse as sp\n",
    "\n",
    "__all__ = [\"find_boundstates\"]\n",
    "\n",
    "# TODO: remove this when we depend on scipy > 1.1\n",
    "#1.3.1 here\n",
    "if version.parse(scipy.__version__) > version.parse(\"1.1\"):\n",
    "    null_space = scipy.linalg.null_space\n",
    "else:\n",
    "\n",
    "    def null_space(A, rcond=None):\n",
    "        u, s, vh = scipy.linalg.svd(A, full_matrices=True)\n",
    "        M, N = u.shape[0], vh.shape[1]\n",
    "        if rcond is None:\n",
    "            rcond = np.finfo(s.dtype).eps * max(M, N)\n",
    "        tol = np.amax(s) * rcond\n",
    "        num = np.sum(s > tol, dtype=int)\n",
    "        Q = vh[num:, :].T.conj()\n",
    "        return Q\n",
    "\n",
    "\n",
    "# If available, use MUMPS support for shift-inverse sparse diagonalization\n",
    "# Can import mumps alright.\n",
    "try:\n",
    "    from kwant.linalg import mumps\n",
    "except ImportError:\n",
    "    sparse_diag = sp.linalg.eigsh\n",
    "else:\n",
    "\n",
    "    class _LuInv(sp.linalg.LinearOperator):\n",
    "        def __init__(self, A):\n",
    "            inst = mumps.MUMPSContext()\n",
    "            inst.analyze(A)\n",
    "            inst.factor(A)\n",
    "            self.solve = inst.solve\n",
    "            super().__init__(A.dtype, A.shape)\n",
    "\n",
    "        def _matvec(self, x):\n",
    "            return self.solve(x.astype(self.dtype))\n",
    "\n",
    "    def sparse_diag(matrix, k, sigma, **kwargs):\n",
    "        if sigma == 0:\n",
    "            shifted_matrix = matrix\n",
    "        else:\n",
    "            shifted_matrix = matrix - sigma * sp.identity(matrix.shape[0])\n",
    "        return sp.linalg.eigsh(matrix, k, sigma=sigma, OPinv=_LuInv(shifted_matrix),\n",
    "                               **kwargs)\n",
    "\n",
    "\"\"\"syst: kwant.system.FiniteSystem\n",
    "\"\"\"\n",
    "\n",
    "def find_boundstates(\n",
    "    syst,\n",
    "    min_energy,\n",
    "    max_energy,\n",
    "    params=None,\n",
    "    sparse=True,\n",
    "    check_hermiticity=True,\n",
    "    rtol=1e-3,\n",
    "):\n",
    "    \"\"\"Return boundstates of an open system in an energy window\n",
    "\n",
    "    Parameters\n",
    "    ----------\n",
    "    syst : kwant.system.FiniteSystem\n",
    "        Must have leads.\n",
    "    min_energy, max_energy : float\n",
    "        The lower and upper bounds in energy to search for boundstates.\n",
    "    params : dict, optional\n",
    "        The keyword arguments to 'syst'.\n",
    "    sparse : bool, default: True\n",
    "        If True use sparse linear algebra, otherwise use dense.\n",
    "    check_hermiticity : bool, default: True\n",
    "        If True, checks the Hermiticity of the system Hamiltonian\n",
    "    rtol : float, default: 1E-3\n",
    "        boundstates that are closer together than\n",
    "        'rtol * (max_energy - min_energy)' may be missed.\n",
    "\n",
    "    Returns\n",
    "    -------\n",
    "    energies : 1D float array\n",
    "        The energies of the bound states.\n",
    "    wavefunctions : 2D complex array\n",
    "        The columns are the bound state wavefunctions defined\n",
    "        over the scattering region.\n",
    "    \"\"\"\n",
    "\n",
    "    # TODO: apply lru_cache to this once\n",
    "    # https://github.com/scipy/scipy/issues/10846 is solved.\n",
    "    def min_eigenvalue(energy):\n",
    "        H_eff = make_linsys(\n",
    "            syst,\n",
    "            energy,\n",
    "            params=params,\n",
    "            sparse=sparse,\n",
    "            check_hermiticity=check_hermiticity,\n",
    "        )\n",
    "        try:\n",
    "            if sparse:\n",
    "                if H_eff.shape[0] <= 2:\n",
    "                    raise ValueError(\n",
    "                        \"The system is too small to use sparse diagonalization. \"\n",
    "                        \"Try setting 'sparse=False'.\"\n",
    "                    )\n",
    "                vals = sparse_diag(\n",
    "                    H_eff.tocsc(), k=1, sigma=1e-10, which=\"LM\", return_eigenvectors=False\n",
    "                )\n",
    "                '''print('energy:')\n",
    "                print(energy)\n",
    "                print('Direct Diagonalisation:')\n",
    "                print(spi.linalg.eigvals(H_eff.toarray()))\n",
    "                print('sparce f:')\n",
    "                print(vals[np.argmin(np.abs(vals))]'''\n",
    "                return vals[0]\n",
    "            else:\n",
    "                vals = np.linalg.eigvalsh(H_eff)\n",
    "                which = np.argmin(np.abs(vals))\n",
    "                return vals[which]\n",
    "        except RuntimeError:  # Some problem diagonalizing\n",
    "            return np.inf\n",
    "\n",
    "    if syst.site_ranges is not None:\n",
    "        tot_norbs = syst.site_ranges[-1][-1]\n",
    "    else:\n",
    "        _, norbs = syst.hamiltonian_submatrix(params=params, return_norb=True)[:2]\n",
    "        tot_norbs = sum(norbs)\n",
    "\n",
    "    # Grid the energy window and search for roots in the sub-windows\n",
    "    # where the min-eigenvalue changes sign. These will either be\n",
    "    # true roots or discontinuities. Note that if there are >1 roots\n",
    "    # in the same sub-window then at least one of them will be missed.\n",
    "    '''print('f(0):')\n",
    "    print(min_eigenvalue(0))\n",
    "    print('f(1e-16)')\n",
    "    print(min_eigenvalue(1e-16))\n",
    "    print('f(3e-16)')\n",
    "    print(min_eigenvalue(3e-16))\n",
    "    print('f(1e-15)')\n",
    "    print(min_eigenvalue(1e-15))'''\n",
    "    \n",
    "    '''print('f(0):')\n",
    "    print(min_eigenvalue(0.))'''\n",
    "    \n",
    "    energies = np.linspace(\n",
    "        min_energy, max_energy, int((max_energy - min_energy) / rtol)\n",
    "    )\n",
    "    intervals = zip(energies, energies[1:])\n",
    "    candidates = []\n",
    "    for a, b in intervals:\n",
    "        try:\n",
    "            if np.sign(min_eigenvalue(a)) != np.sign(min_eigenvalue(b)):\n",
    "                candidate = scipy.optimize.brentq(min_eigenvalue, a, b)\n",
    "                candidates.append(candidate)\n",
    "        except RuntimeError: #some problems with lead modes\n",
    "            continue\n",
    "    \n",
    "    '''f_E = []\n",
    "    for e in energies:\n",
    "        f_E.append(min_eigenvalue(e))\n",
    "    plt.scatter(energies, f_E)'''\n",
    "    \n",
    "    # Check which candidate points give actual boundstates.\n",
    "    energies = []\n",
    "    states = []\n",
    "    for energy in candidates:\n",
    "        vecs = extract_boundstates(syst, energy, params=params, sparse=sparse)\n",
    "        # vecs.shape[1] == 0 if there were no boundstates found\n",
    "        energies.append([energy] * vecs.shape[1])\n",
    "        # Here we discard the mode part of the solution just to\n",
    "        # make the output format more uniform (wavefunction has\n",
    "        # same number of components at all energies).\n",
    "        states.append(vecs[:tot_norbs, :])\n",
    "\n",
    "    if not energies:\n",
    "        return np.empty((0,)), np.empty((tot_norbs, 0))\n",
    "    else:\n",
    "        return np.hstack(energies), np.hstack(states)\n",
    "\n",
    "\n",
    "def extract_boundstates(\n",
    "    syst, energy=0, params=None, sparse=True, check_hermiticity=True, tol=1e-8\n",
    "):\n",
    "    \"\"\"Return any true boundstates of 'syst' at 'energy'\n",
    "\n",
    "    Params\n",
    "    ------\n",
    "    syst : kwant.FiniteSystem\n",
    "        Must have leads\n",
    "    energy : float\n",
    "    params : dict, optional\n",
    "        Keyword arguments to 'syst'\n",
    "    sparse : bool, default: True\n",
    "        If True, returns sparse matrices\n",
    "    check_hermiticity : bool, default: True\n",
    "        If True, check the system Hamiltonian for hermiticity\n",
    "\n",
    "    Returns\n",
    "    -------\n",
    "    vecs : 2D array\n",
    "        The columns are bound state wavefunctions.\n",
    "        The first N rows is in the tight-binding basis of the\n",
    "        scattering region, and the remaining rows are in the\n",
    "        basis of stabilized evanescent modes of the leads.\n",
    "\n",
    "    Notes\n",
    "    -----\n",
    "    We diagonalize the linear system returned by 'make_linsys', and\n",
    "    search for zero eigenvalues. We then look for vectors in the basis\n",
    "    of zero-eigenvalue eigenvectors that satisfy the bound state condition,\n",
    "    eq. 19 of https://doi.org/10.21468/SciPostPhys.4.5.026.\n",
    "    \"\"\"\n",
    "\n",
    "    lhs, T = make_linsys(\n",
    "        syst,\n",
    "        energy,\n",
    "        params=params,\n",
    "        sparse=sparse,\n",
    "        check_hermiticity=check_hermiticity,\n",
    "        return_validation=True,\n",
    "        which=\"hermitian\",\n",
    "    )\n",
    "\n",
    "    if sparse:\n",
    "        if lhs.shape[0] <= 2:\n",
    "            raise ValueError(\n",
    "                \"The system is too small to use sparse diagonalization. \"\n",
    "                \"Try setting 'sparse=False'.\"\n",
    "            )\n",
    "        k = min(6, lhs.shape[0] - 2)  # 6 is the default for sp.linalg.eigsh\n",
    "        try_again = True\n",
    "        # Solve the eigenproblem with successively large values of 'k' until\n",
    "        # we get all the zero eigenvalues. (In most cases this loop will\n",
    "        # run once).\n",
    "        while try_again:\n",
    "            vals, vecs = sparse_diag(lhs.tocsc(), k=k, sigma=1e-10, which=\"LM\")\n",
    "            zeros = np.abs(vals) < tol  # TODO: make this check better\n",
    "            if not np.all(zeros):  # we have found all the zero eigenvalues\n",
    "                try_again = False\n",
    "            else:\n",
    "                k *= 2  # try again with twice the number of eigenvalues\n",
    "                if k >= lhs.shape[0] - 1:\n",
    "                    raise ValueError(\n",
    "                        \"More eigenvalues are 0 than can be obtained by \"\n",
    "                        \"sparse diagonalization. Try setting 'sparse=False'.\"\n",
    "                    )\n",
    "    else:\n",
    "        vals, vecs = np.linalg.eigh(lhs)\n",
    "        zeros = np.abs(vals) < tol  # TODO make this check better\n",
    "\n",
    "    if not np.any(zeros):\n",
    "        return np.empty((lhs.shape[0], 0))\n",
    "\n",
    "\n",
    "    zero_vecs = vecs[:, zeros]\n",
    "    # To find the true boundstates we find the null space of the operator\n",
    "    # in eq 19 (T) in the basis of zero-eigenvalue vectors.\n",
    "    p = T @ zero_vecs\n",
    "    if np.allclose(p, 0):\n",
    "        # 'zero_vecs' are already a basis for the null space of T\n",
    "        return zero_vecs\n",
    "    else:\n",
    "        # TODO: not sure about this value for 'rcond', we need to ensure\n",
    "        #       that rcond is sufficiently large in the case that p is\n",
    "        #       zero (i.e. zero_vecs are individually boundstates).\n",
    "        bound_states = null_space(p, rcond=tol / np.max(np.abs(p)))\n",
    "        # transform back to original basis\n",
    "        # TODO: rotate the basis so the bound states have the correct symmetries\n",
    "        return np.asarray(zero_vecs @ bound_states)\n",
    "\n",
    "\n",
    "def make_linsys(\n",
    "    syst,\n",
    "    energy=0,\n",
    "    params=None,\n",
    "    sparse=True,\n",
    "    check_hermiticity=True,\n",
    "    return_validation=False,\n",
    "    which=\"hermitian\",\n",
    "):\n",
    "    \"\"\"Return the linear system for finding boundstates\n",
    "\n",
    "    Returns ether the linear system defined in equation 12 or equation 11\n",
    "    of https://doi.org/10.21468/SciPostPhys.4.5.026, and the linear\n",
    "    operator defined in equation 19 of the same article.\n",
    "\n",
    "    Params\n",
    "    ------\n",
    "    syst : kwant.FiniteSystem\n",
    "        Must have leads\n",
    "    energy : float\n",
    "    params : dict, optional\n",
    "        Keyword arguments to 'syst'\n",
    "    sparse : bool, default: True\n",
    "        If True, returns sparse matrices\n",
    "    check_hermiticity : bool, default: True\n",
    "        If True, check the system Hamiltonian for hermiticity\n",
    "    return_validation: bool, default: False\n",
    "        If True, also return the linear operator used for\n",
    "        checking for true bound states (equation 19 of the article).\n",
    "    which : str, default: \"hermitian\"\n",
    "        Which linear system to return. If \"hermitian\" returns the\n",
    "        linear system defined in equation 12, if \"svd\" returns\n",
    "        the linear system defined in equation 11.\n",
    "\n",
    "    Returns\n",
    "    -------\n",
    "    lhs : 2D array or sparse matrix\n",
    "        The linear system for finding boundstates\n",
    "    T : 2D array or sparse matrix\n",
    "        A linear operator for checking bound states.\n",
    "        zero-eigenvalue eigenvectors of 'lhs' that are in the\n",
    "        null-space of 'T' are true bound states. Only returned\n",
    "        if 'return_validation' is True.\n",
    "    \"\"\"\n",
    "    if not syst.leads:\n",
    "        raise ValueError(\"'syst' must have leads attached\")\n",
    "    if any(interface.shape[0] == 0 for interface in syst.lead_interfaces):\n",
    "        raise ValueError(\n",
    "            \"All the leads of 'syst' must have non-zero \" \"inter-cell hopping\"\n",
    "        )\n",
    "\n",
    "    lhs, norb = syst.hamiltonian_submatrix(\n",
    "        params=params, sparse=sparse, return_norb=True\n",
    "    )[:2]\n",
    "    offsets = np.empty(norb.shape[0] + 1, int)\n",
    "    offsets[0] = 0\n",
    "    offsets[1:] = np.cumsum(norb)\n",
    "    scattering_region_norbs = offsets[-1]\n",
    "\n",
    "    if check_hermiticity and len(lhs.data):\n",
    "        rtol = 1e-13\n",
    "        atol = 1e-300\n",
    "        tol = rtol * np.max(np.abs(lhs.data)) + atol\n",
    "        if np.any(np.abs((lhs - lhs.T.conj()).data) > tol):\n",
    "            raise ValueError(\n",
    "                \"System Hamiltonian is not Hermitian. \"\n",
    "                \"Use option `check_hermiticity=False` \"\n",
    "                \"if this is intentional.\"\n",
    "            )\n",
    "\n",
    "    if sparse:\n",
    "        lhs = lhs - energy * sp.identity(lhs.shape[0])\n",
    "    else:\n",
    "        lhs.flat[:: (offsets[-1] + 1)] -= energy\n",
    "\n",
    "    phi_e = []\n",
    "    svd_vs = []\n",
    "    transfs = []\n",
    "    for leadnum, interface in enumerate(syst.lead_interfaces):\n",
    "        lead = syst.leads[leadnum]\n",
    "        _, stab = lead.modes(energy, params=params)\n",
    "        svd_v = stab.sqrt_hop\n",
    "        # Evanescent modes (schur vectors) are stored after\n",
    "        # the 2*nmodes propagating (in/out) modes\n",
    "        evan_vecs = slice(2 * stab.nmodes, None)\n",
    "        u_out = stab.vecs[:, evan_vecs]\n",
    "        ulinv_out = stab.vecslmbdainv[:, evan_vecs]\n",
    "\n",
    "        # Construct a matrix of 1's that translates the\n",
    "        # inter-cell hopping to a proper hopping\n",
    "        # from the system to the lead.\n",
    "        iface_orbs = np.r_[tuple(slice(offsets[i], offsets[i + 1]) for i in interface)]\n",
    "\n",
    "        n_lead_orbs = svd_v.shape[0]\n",
    "        if n_lead_orbs != len(iface_orbs):\n",
    "            msg = (\n",
    "                \"Lead {0} has hopping with dimensions \"\n",
    "                \"incompatible with its interface dimension.\"\n",
    "            )\n",
    "            raise ValueError(msg.format(leadnum))\n",
    "\n",
    "        coords = np.r_[[np.arange(len(iface_orbs))], [iface_orbs]]\n",
    "        transf = sp.csc_matrix(\n",
    "            (np.ones(len(iface_orbs)), coords), shape=(iface_orbs.size, lhs.shape[0])\n",
    "        )\n",
    "\n",
    "        phi_e.append(ulinv_out)\n",
    "        svd_vs.append(svd_v)\n",
    "        # We are saving these for use in '_validation_operator', where we\n",
    "        # expect each projector to project *from the scattering region only*,\n",
    "        # hence the slice up to 'scattering_region_norbs'\n",
    "        transfs.append(transf[:, :scattering_region_norbs])\n",
    "\n",
    "        if which == \"hermitian\":\n",
    "            A, B, C = _hermitian_matrices(svd_v, transf, u_out, ulinv_out)\n",
    "        elif which == \"svd\":\n",
    "            A, B, C = _svd_matrices(svd_v, transf, u_out, ulinv_out)\n",
    "        else:\n",
    "            raise ValueError(\"'which' must be 'hermitian' or 'svd'\")\n",
    "\n",
    "        if sparse:\n",
    "            A = sp.csc_matrix(A)\n",
    "            B = sp.csc_matrix(B)\n",
    "            C = sp.csc_matrix(C)\n",
    "            lhs = sp.bmat([[lhs, A], [B, C]])\n",
    "        else:\n",
    "            lhs = np.block([[lhs, A], [B, C]])\n",
    "\n",
    "    if return_validation:\n",
    "        return (\n",
    "            lhs,\n",
    "            _validation_operator(\n",
    "                phi_e=phi_e,\n",
    "                svd_vs=svd_vs,\n",
    "                transfs=transfs,\n",
    "                orb_offsets=offsets,\n",
    "                sparse=sparse,\n",
    "            ),\n",
    "        )\n",
    "    else:\n",
    "        return lhs\n",
    "\n",
    "\n",
    "# Equation 12\n",
    "def _hermitian_matrices(svd_v, transf, u_out, ulinv_out):\n",
    "    A = transf.T @ svd_v @ u_out\n",
    "    B = A.conj().T\n",
    "    C = -u_out.T.conj() @ ulinv_out\n",
    "    return A, B, C\n",
    "\n",
    "\n",
    "# Equation 11\n",
    "def _svd_matrices(svd_v, transf, u_out, ulinv_out):\n",
    "    A = transf.T @ svd_v @ u_out\n",
    "    B = svd_v.conj().T @ transf\n",
    "    C = -ulinv_out\n",
    "    return A, B, C\n",
    "\n",
    "\n",
    "# Equation 19\n",
    "def _validation_operator(phi_e, svd_vs, transfs, orb_offsets, sparse):\n",
    "\n",
    "    syst_size = orb_offsets[-1]\n",
    "    mode_size = sum(phi.shape[1] for phi in phi_e)\n",
    "    sol_size = syst_size + mode_size\n",
    "\n",
    "    p_psi = sp.csc_matrix(\n",
    "        (np.ones(syst_size), (np.arange(syst_size),) * 2), shape=(syst_size, sol_size)\n",
    "    )\n",
    "    p_q = sp.csc_matrix(\n",
    "        (np.ones(mode_size), (np.arange(mode_size), np.arange(syst_size, sol_size))),\n",
    "        shape=(mode_size, sol_size),\n",
    "    )\n",
    "\n",
    "    svd_v = np.vstack(svd_vs)\n",
    "    transf = sp.vstack(transfs)\n",
    "    # The states are the *columns*, so use hstack rather than vstack\n",
    "    phi = np.hstack(phi_e)\n",
    "\n",
    "    r = svd_v.conj().T @ (transf @ p_psi) - phi @ p_q\n",
    "\n",
    "    if sparse:\n",
    "        r = sp.csc_matrix(r)\n",
    "\n",
    "    return r\n"
   ]
  },
  {
   "cell_type": "code",
   "execution_count": 2,
   "id": "bb62f81f-c9dd-4db0-a8db-08c2eb40ce6c",
   "metadata": {},
   "outputs": [
    {
     "name": "stdout",
     "output_type": "stream",
     "text": [
      "1.4.2\n",
      "2.1283060540757397\n"
     ]
    }
   ],
   "source": [
    "import kwant\n",
    "print(kwant.version.version)\n",
    "import kwantspectrum as ks\n",
    "\n",
    "import matplotlib.pyplot as plt\n",
    "import numpy as np\n",
    "import matplotlib.colors as colors\n",
    "import scipy as spi\n",
    "import scipy.constants as const\n",
    "import scipy.optimize as op\n",
    "import scipy.misc as misc\n",
    "import scipy.signal as signal\n",
    "plt.rcParams.update({'font.size': 20})\n",
    "\n",
    "\n",
    "#constants\n",
    "hbar = const.hbar\n",
    "m_e = const.m_e\n",
    "eV = const.e\n",
    "mu_B = const.physical_constants['Bohr magneton'][0]\n",
    "B_c = np.sqrt(0.182**2.+0.887**2.)\n",
    "B_T_c = B_c*const.e/1000.*2./14.7/mu_B\n",
    "print(B_T_c)"
   ]
  },
  {
   "cell_type": "code",
   "execution_count": 3,
   "id": "c1b60b86-0072-4c23-9525-6cc0c7302f65",
   "metadata": {},
   "outputs": [
    {
     "name": "stdout",
     "output_type": "stream",
     "text": [
      "[[0.+0.j 0.+0.j 0.+0.j 0.+0.j 0.+0.j 0.-1.j 0.+0.j 0.+0.j]\n",
      " [0.+0.j 0.+0.j 0.+0.j 0.+0.j 0.+1.j 0.+0.j 0.+0.j 0.+0.j]\n",
      " [0.+0.j 0.+0.j 0.+0.j 0.+0.j 0.+0.j 0.+0.j 0.+0.j 0.-1.j]\n",
      " [0.+0.j 0.+0.j 0.+0.j 0.+0.j 0.+0.j 0.+0.j 0.+1.j 0.+0.j]\n",
      " [0.+0.j 0.-1.j 0.+0.j 0.+0.j 0.+0.j 0.+0.j 0.+0.j 0.+0.j]\n",
      " [0.+1.j 0.+0.j 0.+0.j 0.+0.j 0.+0.j 0.+0.j 0.+0.j 0.+0.j]\n",
      " [0.+0.j 0.+0.j 0.+0.j 0.-1.j 0.+0.j 0.+0.j 0.+0.j 0.+0.j]\n",
      " [0.+0.j 0.+0.j 0.+1.j 0.+0.j 0.+0.j 0.+0.j 0.+0.j 0.+0.j]]\n",
      "[[ 0.+0.j  0.+0.j  0.+0.j  0.+0.j  0.+0.j -1.+0.j  0.+0.j  0.+0.j]\n",
      " [ 0.+0.j  0.+0.j  0.+0.j  0.+0.j  1.+0.j  0.+0.j  0.+0.j  0.+0.j]\n",
      " [ 0.+0.j  0.+0.j  0.+0.j  0.+0.j  0.+0.j  0.+0.j  0.+0.j -1.+0.j]\n",
      " [ 0.+0.j  0.+0.j  0.+0.j  0.+0.j  0.+0.j  0.+0.j  1.+0.j  0.+0.j]\n",
      " [ 0.+0.j  1.+0.j  0.+0.j  0.+0.j  0.+0.j  0.+0.j  0.+0.j  0.+0.j]\n",
      " [-1.+0.j  0.+0.j  0.+0.j  0.+0.j  0.+0.j  0.+0.j  0.+0.j  0.+0.j]\n",
      " [ 0.+0.j  0.+0.j  0.+0.j  1.+0.j  0.+0.j  0.+0.j  0.+0.j  0.+0.j]\n",
      " [ 0.+0.j  0.+0.j -1.+0.j  0.+0.j  0.+0.j  0.+0.j  0.+0.j  0.+0.j]]\n",
      "0.8555726139588046\n",
      "0.5218998231943537\n",
      "[[ 1.  0.  0.  0.  0.  0.  0.  0.]\n",
      " [ 0.  1.  0.  0.  0.  0.  0.  0.]\n",
      " [ 0.  0. -1. -0.  0.  0. -0. -0.]\n",
      " [ 0.  0. -0. -1.  0.  0. -0. -0.]\n",
      " [ 0.  0.  0.  0.  1.  0.  0.  0.]\n",
      " [ 0.  0.  0.  0.  0.  1.  0.  0.]\n",
      " [ 0.  0. -0. -0.  0.  0. -1. -0.]\n",
      " [ 0.  0. -0. -0.  0.  0. -0. -1.]]\n"
     ]
    }
   ],
   "source": [
    "t_x = np.kron(np.kron(np.array([[0, 1], [1, 0]]), np.eye(2)), np.eye(2)) # e-h subspace\n",
    "t_y = np.kron(np.kron(np.array([[0, -1j], [1j, 0]]), np.eye(2)), np.eye(2))\n",
    "t_z = np.kron(np.kron(np.array([[1, 0], [0, -1]]), np.eye(2)), np.eye(2))\n",
    "sigma_x = np.kron(np.kron(np.eye(2), np.array([[0, 1], [1, 0]])), np.eye(2)) # subband subspace\n",
    "sigma_y = np.kron(np.kron(np.eye(2), np.array([[0, -1j], [1j, 0]])), np.eye(2))\n",
    "sigma_z = np.kron(np.kron(np.eye(2), np.array([[1, 0], [0, -1]])), np.eye(2))\n",
    "s_x = np.kron(np.kron(np.eye(2), np.eye(2)), np.array([[0, 1], [1, 0]])) # spin subspace\n",
    "s_y = np.kron(np.kron(np.eye(2), np.eye(2)), np.array([[0, -1j], [1j, 0]]))\n",
    "s_z = np.kron(np.kron(np.eye(2), np.eye(2)), np.array([[1, 0], [0, -1]]))\n",
    "print(1*(np.cos(0./2.)*t_x@s_y - np.sin(0./2.)*t_y@s_y))\n",
    "print(1*spi.linalg.expm(1j*0*t_z/2.)@t_y@s_y)\n",
    "print(0.182*2./1000.*eV/14.7/mu_B*2.)\n",
    "print(np.sqrt(0.182**2.+(0.887-1.0141922225789335)**2.)/1000.*eV/14.7/mu_B*2.)\n",
    "print(sigma_z)"
   ]
  },
  {
   "cell_type": "code",
   "execution_count": 3,
   "id": "48a4f54f-8470-4b70-8907-b743eb6d6ad9",
   "metadata": {},
   "outputs": [],
   "source": [
    "## realistic parameters InAs with Al shell\n",
    "# Energy unit: meV, length unit: A\n",
    "#g = 14.7 #https://doi.org/10.1016/0375-9601(67)90541-5\n",
    "\n",
    "def make_system_mixed(L_A=3700., W=1400., a=6.0583, m=0.023, alpha=350., mu=0., U_0=0., delta=0.182, B_Tesla=0.85, phi=0., g=14.7, salt='chizhang', eta=None):\n",
    "    \n",
    "    #a = 6.0583 #https://en.wikipedia.org/wiki/Indium_arsenide\n",
    "    L = int(np.round(L_A/a))\n",
    "    t = (const.hbar**2.)/(2.*m*const.m_e*(a*1e-10)**2.)/const.e*1000.\n",
    "    E_plus = (6.*const.hbar**2.)/(m*const.m_e*(W*1e-10)**2.)/const.e*1000.\n",
    "    E_minus = (-2.*const.hbar**2.)/(m*const.m_e*(W*1e-10)**2.)/const.e*1000.\n",
    "    if eta is None:\n",
    "        eta = np.sqrt(2)*alpha/W\n",
    "    else:\n",
    "        eta = eta\n",
    "    nu = alpha/(2.*a)\n",
    "    B = g*mu_B*B_Tesla/2./const.e*1000.\n",
    "    print('Parameters: L, t, E_plus, E_minus, eta, nu, B')\n",
    "    print([L, t, E_plus, E_minus, eta, nu, B])\n",
    "    lat = kwant.lattice.chain()\n",
    "    syst = kwant.Builder()\n",
    "    \n",
    "    # Pauli matrices\n",
    "    t_x = np.kron(np.kron(np.array([[0, 1], [1, 0]]), np.eye(2)), np.eye(2)) # e-h subspace\n",
    "    t_y = np.kron(np.kron(np.array([[0, -1j], [1j, 0]]), np.eye(2)), np.eye(2))\n",
    "    t_z = np.kron(np.kron(np.array([[1, 0], [0, -1]]), np.eye(2)), np.eye(2))\n",
    "    sigma_x = np.kron(np.kron(np.eye(2), np.array([[0, 1], [1, 0]])), np.eye(2)) # subband subspace\n",
    "    sigma_y = np.kron(np.kron(np.eye(2), np.array([[0, -1j], [1j, 0]])), np.eye(2))\n",
    "    sigma_z = np.kron(np.kron(np.eye(2), np.array([[1, 0], [0, -1]])), np.eye(2))\n",
    "    s_x = np.kron(np.kron(np.eye(2), np.eye(2)), np.array([[0, 1], [1, 0]])) # spin subspace\n",
    "    s_y = np.kron(np.kron(np.eye(2), np.eye(2)), np.array([[0, -1j], [1j, 0]]))\n",
    "    s_z = np.kron(np.kron(np.eye(2), np.eye(2)), np.array([[1, 0], [0, -1]]))\n",
    "    \n",
    "    #### Define onsite and hopping ####\n",
    "    '''def onsite(site):\n",
    "        return (2.*t-mu-U_0*kwant.digest.gauss(repr(site), repr(salt)))*tau_z + B*tau_z@sigma_x'''\n",
    "    \n",
    "    #### Define the scattering region. ####\n",
    "    ham = (2.*t+E_plus-mu)*t_z + E_minus*sigma_z@t_z + eta*s_x@sigma_y@t_z + B*s_x\n",
    "    hop = -t*t_z + 1j*nu*s_y@t_z\n",
    "    #ham_scl = delta*(np.cos(-phi/2.)*t_x@s_y@sigma_y - np.sin(-phi/2.)*t_y@s_y@sigma_y)\n",
    "    #ham_scr = delta*(np.cos(phi/2.)*t_x@s_y@sigma_y - np.sin(phi/2.)*t_y@s_y@sigma_y)\n",
    "    ham_scl = delta*(np.cos(-phi/2.)*t_x - np.sin(-phi/2.)*t_y)\n",
    "    ham_scr = delta*(np.cos(phi/2.)*t_x - np.sin(phi/2.)*t_y)\n",
    "    #ham_scl = delta*spi.linalg.expm(-1j*phi*t_z/2.)@t_y@s_y\n",
    "    #ham_scr = delta*spi.linalg.expm(1j*phi*t_z/2.)@t_y@s_y\n",
    "    \n",
    "    syst[(lat(x) for x in range(0, L))] = ham\n",
    "    syst[(lat(int(np.round(L/2.))))] = ham-U_0*t_z\n",
    "    syst[((lat(x), lat(x+1)) for x in range(0, L-1))] = hop\n",
    "    \n",
    "    '''#### Define callable methods ####\n",
    "    def plot_mu():\n",
    "        site_array = np.arange(0, W+2)\n",
    "        mu_array.append(mu)\n",
    "        plt.plot(site_array, mu_array)\n",
    "        plt.xlabel('sites')\n",
    "        plt.ylabel(r'$\\mu$')'''\n",
    "        \n",
    "    \n",
    "    #### Define the leads. ####\n",
    "    sym_left = kwant.TranslationalSymmetry([-1])\n",
    "    lead0 = kwant.Builder(sym_left)\n",
    "    lead0[(lat(-1))] = ham+ham_scl\n",
    "    lead0[lat.neighbors()] = hop\n",
    "    sym_right = kwant.TranslationalSymmetry([1])\n",
    "    lead1 = kwant.Builder(sym_right)\n",
    "    lead1[(lat(L))] =  ham+ham_scr\n",
    "    lead1[lat.neighbors()] = hop\n",
    "\n",
    "    #### Attach the leads and return the system. ####\n",
    "    syst.attach_lead(lead0)\n",
    "    syst.attach_lead(lead1)\n",
    "\n",
    "    return syst.finalized()"
   ]
  },
  {
   "cell_type": "code",
   "execution_count": null,
   "id": "c54478b5-03c3-44d3-96e1-cbfba009340c",
   "metadata": {},
   "outputs": [],
   "source": []
  },
  {
   "cell_type": "code",
   "execution_count": 5,
   "id": "249ae3ad-1882-4328-b771-c62fc212f6b7",
   "metadata": {},
   "outputs": [
    {
     "name": "stdout",
     "output_type": "stream",
     "text": [
      "Parameters: L, t, E_plus, E_minus, eta, nu, B\n",
      "[611, 4513.29322846401, 1.0141922225789335, -0.3380640741929778, 0.3, 28.885991119621014, 0.36333093758301105]\n"
     ]
    },
    {
     "data": {
      "image/png": "[encoded data removed]",
      "text/plain": [
       "<Figure size 1800x1200 with 1 Axes>"
      ]
     },
     "metadata": {
      "needs_background": "light"
     },
     "output_type": "display_data"
    },
    {
     "data": {
      "image/png": "[encoded data removed]",
      "text/plain": [
       "<Figure size 1800x1200 with 1 Axes>"
      ]
     },
     "execution_count": 5,
     "metadata": {},
     "output_type": "execute_result"
    }
   ],
   "source": [
    "kwant.plot(make_system_mixed(B_Tesla=0.427*2., eta=0.3), dpi=300)"
   ]
  },
  {
   "cell_type": "code",
   "execution_count": 6,
   "id": "78faba3b-22d4-4e2c-8368-3d5acaa65e55",
   "metadata": {},
   "outputs": [
    {
     "name": "stdout",
     "output_type": "stream",
     "text": [
      "Parameters: L, t, E_plus, E_minus, eta, nu, B\n",
      "[6, 0.4513293228464011, 1.0141922225789335, -0.3380640741929778, 0.3535533905932738, 0.28885991119621013, 0.36162915333203677]\n"
     ]
    },
    {
     "data": {
      "text/plain": [
       "<matplotlib.colorbar.Colorbar at 0x1117806a0>"
      ]
     },
     "execution_count": 6,
     "metadata": {},
     "output_type": "execute_result"
    },
    {
     "data": {
      "image/png": "[encoded data removed]",
      "text/plain": [
       "<Figure size 1080x1080 with 4 Axes>"
      ]
     },
     "metadata": {
      "needs_background": "light"
     },
     "output_type": "display_data"
    }
   ],
   "source": [
    "syst = make_system_mixed(phi=0., a=6.0583*100., U_0=50)\n",
    "ham_bdg = syst.hamiltonian_submatrix()\n",
    "\n",
    "norm1 = colors.TwoSlopeNorm(vcenter=0)\n",
    "norm2 = colors.TwoSlopeNorm(vcenter=0)\n",
    "\n",
    "fig, ((ax1, ax2)) = plt.subplots(1, 2, figsize=(15,15))\n",
    "im1 = ax1.imshow(np.real(ham_bdg), cmap='bwr', interpolation='none', norm=norm1)\n",
    "fig.colorbar(im1, ax=ax1)\n",
    "im2 = ax2.imshow(np.imag(ham_bdg), cmap='bwr', interpolation='none', norm=norm2)\n",
    "fig.colorbar(im2, ax=ax2)"
   ]
  },
  {
   "cell_type": "code",
   "execution_count": 4,
   "id": "36694cd5-bdc4-4bcc-9bc5-96a6763e0515",
   "metadata": {},
   "outputs": [],
   "source": [
    "def dispersion(k_x_over_a, j, a=6.0583e-10, m_star=0.023, W_nm=140, alpha_meVnm=35):\n",
    "    alpha = alpha_meVnm*eV*1e-12\n",
    "    W = W_nm*1e-9\n",
    "    #print(alpha)\n",
    "    E_1_perp = (4*hbar**2.)/(m_star*m_e*W**2.)\n",
    "    E_2_perp = (8*hbar**2.)/(m_star*m_e*W**2.)\n",
    "    eta = np.sqrt(2)*alpha/W\n",
    "    k_x = k_x_over_a/a\n",
    "    #print(eta/eV*1000.)\n",
    "    #print(E_2_perp/eV*1000)\n",
    "    #print((E_2_perp - E_1_perp)/eV*1000.)\n",
    "    #print((E_1_perp-E_2_perp)/(2.*(-1.)**j*alpha)*6.0583e-10)\n",
    "    return ((hbar*k_x)**2./(2.*m_star*m_e) + (E_1_perp+E_2_perp)/2. - np.sqrt((((E_1_perp-E_2_perp)/2.)+(-1.)**j*alpha*k_x)**2.+eta**2.))/eV*1000."
   ]
  },
  {
   "cell_type": "code",
   "execution_count": 8,
   "id": "494cdd19-f851-45e4-887a-2c4e106f89e7",
   "metadata": {},
   "outputs": [
    {
     "name": "stdout",
     "output_type": "stream",
     "text": [
      "2.08797385187536\n"
     ]
    }
   ],
   "source": [
    "print(dispersion(0.03, 1)-0.887)"
   ]
  },
  {
   "cell_type": "code",
   "execution_count": 22,
   "id": "bf1a1626-f4a9-42a3-beb3-e29b5b7c2fc6",
   "metadata": {},
   "outputs": [
    {
     "name": "stdout",
     "output_type": "stream",
     "text": [
      "Parameters: L, t, E_plus, E_minus, eta, nu, B\n",
      "[61, 45.13293228464011, 1.0141922225789335, -0.3380640741929778, 0.3535533905932738, 2.8885991119621015, 0.0]\n",
      "Spectral gap:\n",
      "0.44465557296971286\n",
      "Fermi momentum\n",
      "4676374981.442444\n",
      "Fermi wavelength:\n",
      "1.343601685517853e-09\n",
      "(array([4910, 5090]),)\n",
      "[[0.44465557 0.44465557]]\n",
      "[2.83308826 2.82177852]\n"
     ]
    },
    {
     "data": {
      "text/plain": [
       "'grad1 = v_F_given_mu()[0]*hbar*1000/eV/6.0583e-10\\nprint(grad1)\\ngrad2 = v_F_given_mu()[1]*hbar*1000/eV/6.0583e-10\\ndef linear_func(k_x, k_0, E_0, grad):\\n    return E_0+grad*(k_x-k_0)\\nplt.plot(momenta, linear_func(momenta, k_F_given_mu(1)*6.0583e-10, dispersion(k_F_given_mu(1)*6.0583e-10, 1), grad1))\\nplt.plot(momenta, linear_func(momenta, k_F_given_mu(2)*6.0583e-10, dispersion(k_F_given_mu(2)*6.0583e-10, 2), grad2))'"
      ]
     },
     "execution_count": 22,
     "metadata": {},
     "output_type": "execute_result"
    },
    {
     "data": {
      "image/png": "[encoded data removed]",
      "text/plain": [
       "<Figure size 432x288 with 1 Axes>"
      ]
     },
     "metadata": {
      "needs_background": "light"
     },
     "output_type": "display_data"
    }
   ],
   "source": [
    "syst = make_system_mixed(B_Tesla=0., mu=0., eta=None, a=6.0583*10.)\n",
    "bands=kwant.physics.Bands(syst.leads[1])\n",
    "momenta=np.linspace(-np.pi,np.pi,10001)\n",
    "energies=[bands(k) for k in momenta]\n",
    "x=np.array(energies)\n",
    "en=(x)\n",
    "plt.plot(momenta, en)\n",
    "plt.scatter(np.linspace(-np.pi,np.pi,101), dispersion(np.linspace(-np.pi,np.pi,101), 1, a=6.0583e-9), marker='x', s=50.)\n",
    "plt.scatter(np.linspace(-np.pi,np.pi,101), dispersion(np.linspace(-np.pi,np.pi,101), 2, 6.0583e-9), marker='x', s=50.)\n",
    "#plt.scatter(np.linspace(-0.1, 0.1, 50), dispersion(np.linspace(-0.1, 0.1, 50), 1), marker='x')\n",
    "#plt.scatter(np.linspace(-0.1, 0.1, 50), dispersion(np.linspace(-0.1, 0.1, 50), 2), marker='x')\n",
    "plt.xlabel(r'$k$ ($a^{-1}$)')\n",
    "plt.ylabel(r'$E$ (meV)')\n",
    "plt.xlim(-1, 1)\n",
    "plt.ylim(-5, 5)\n",
    "plt.savefig('./BS validation thesis', dpi=300, bbox_inches='tight')\n",
    "#plt.axhline(1.8)\n",
    "#plt.axvline(0.016314840778883132)\n",
    "#plt.axvline(0.0072165728173898625)\n",
    "#plt.title(r'$B=1.35T, \\mu=1.8meV$')\n",
    "#plt.savefig('./Real params/dispersion a~60', dpi=300)\n",
    "\n",
    "print('Spectral gap:')\n",
    "print(np.min(en[:,4]))\n",
    "print('Fermi momentum')\n",
    "k_F = np.abs(np.linspace(-np.pi,np.pi,100001)[np.argmin(en[:,4])])/6.0583e-10\n",
    "print(k_F)\n",
    "print('Fermi wavelength:')\n",
    "print(2.*np.pi/k_F)\n",
    "# Fermi wavelength comparable to junction length\n",
    "\n",
    "#try the scipy function\n",
    "local_minima = signal.argrelextrema(en[:,4], np.less)\n",
    "print(local_minima)\n",
    "print(en[local_minima, 4])\n",
    "print(np.abs(np.linspace(-np.pi,np.pi,100001)[local_minima]))\n",
    "#plt.savefig('./subband/effect of delta on band 4', dpi=300)\n",
    "\n",
    "'''grad1 = v_F_given_mu()[0]*hbar*1000/eV/6.0583e-10\n",
    "print(grad1)\n",
    "grad2 = v_F_given_mu()[1]*hbar*1000/eV/6.0583e-10\n",
    "def linear_func(k_x, k_0, E_0, grad):\n",
    "    return E_0+grad*(k_x-k_0)\n",
    "plt.plot(momenta, linear_func(momenta, k_F_given_mu(1)*6.0583e-10, dispersion(k_F_given_mu(1)*6.0583e-10, 1), grad1))\n",
    "plt.plot(momenta, linear_func(momenta, k_F_given_mu(2)*6.0583e-10, dispersion(k_F_given_mu(2)*6.0583e-10, 2), grad2))'''"
   ]
  },
  {
   "cell_type": "code",
   "execution_count": 10,
   "id": "1ce5df59-c959-4481-8191-ab656f6f7ff0",
   "metadata": {},
   "outputs": [
    {
     "name": "stdout",
     "output_type": "stream",
     "text": [
      "Parameters: L, t, E_plus, E_minus, eta, nu, B\n",
      "[611, 4513.29322846401, 1.0141922225789335, -0.3380640741929778, 0.293, 28.885991119621014, 0.5743521847038231]\n"
     ]
    },
    {
     "name": "stderr",
     "output_type": "stream",
     "text": [
      "/Users/afasjasd/anaconda3/envs/snakes/lib/python3.9/site-packages/kwantspectrum/kwant_spectrum.py:361: VisibleDeprecationWarning: Creating an ndarray from ragged nested sequences (which is a list-or-tuple of lists-or-tuples-or ndarrays with different lengths or shapes) is deprecated. If you meant to do this, you must specify 'dtype=object' when creating the ndarray.\n",
      "  pvec = np.array([b * b / 3, 0, a * a])\n"
     ]
    },
    {
     "name": "stdout",
     "output_type": "stream",
     "text": [
      "0\n",
      "0\n",
      "0\n",
      "0\n",
      "2\n",
      "[-0.01773774  0.01773774]\n",
      "0\n",
      "0\n",
      "0\n"
     ]
    },
    {
     "data": {
      "text/plain": [
       "Text(0, 0.5, '$E_n(k)$')"
      ]
     },
     "execution_count": 10,
     "metadata": {},
     "output_type": "execute_result"
    },
    {
     "data": {
      "image/png": "[encoded data removed]",
      "text/plain": [
       "<Figure size 432x288 with 1 Axes>"
      ]
     },
     "metadata": {
      "needs_background": "light"
     },
     "output_type": "display_data"
    }
   ],
   "source": [
    "syst = make_system_mixed(B_Tesla=1.35, mu=0, eta=0.293)\n",
    "spec = ks.spectrum(syst.leads[1])\n",
    "\n",
    "kmin=-0.03\n",
    "kmax=0.03\n",
    "upper=0.887\n",
    "momenta=np.linspace(-0.03, 0.03, 501)\n",
    "plt.plot(momenta, spec(momenta), '--k', alpha=0.4)\n",
    "\n",
    "for band in range(spec.nbands):\n",
    "    cross = spec.intersect(upper, band, kmin=kmin, kmax=kmax)\n",
    "    print(cross.size)\n",
    "    if cross.size > 0:\n",
    "        plt.plot(cross, spec(cross, band), 'go')\n",
    "        print(cross)\n",
    "\n",
    "    #velocity_zeros = spec.intersect(0, band, derivative_order=1, kmin=kmin, kmax=kmax)\n",
    "    #plt.plot(velocity_zeros, spec(velocity_zeros, band), 'bo')\n",
    "\n",
    "    #curvature_zeros = spec.intersect(0, band, derivative_order=2, kmin=kmin, kmax=kmax)\n",
    "    #plt.plot(curvature_zeros, spec(curvature_zeros, band), 'ro')\n",
    "\n",
    "    '''ie = spec.intervals(band, lower=lower, upper=upper, kmin=kmin, kmax=kmax)\n",
    "    iv = spec.intervals(band, lower=0, derivative_order=1, kmin=kmin, kmax=kmax)\n",
    "    intervals = ks.intersect_intervals(ie, iv)\n",
    "    for interval in intervals:\n",
    "        k = np.linspace(*interval)\n",
    "        plt.plot(k, spec(k, band), 'k', linewidth=3.0)'''\n",
    "\n",
    "\n",
    "plt.plot([kmin, kmax],[upper, upper], '--k')\n",
    "plt.xlabel(r'$k$')\n",
    "plt.ylabel(r'$E_n(k)$')\n",
    "#plt.show()\n",
    "#plt.savefig('subband/dispersion eta=0p35', dpi=300)"
   ]
  },
  {
   "cell_type": "code",
   "execution_count": 11,
   "id": "27275b80-bff4-4104-88d8-22cfb09aa1d1",
   "metadata": {},
   "outputs": [],
   "source": [
    "def lambda_F_given_B(B, mode=1):\n",
    "    a = 6.0583e-10\n",
    "    kmin=-0.03\n",
    "    kmax=0.03\n",
    "    upper=0.887\n",
    "    syst = make_system_mixed(B_Tesla=B, mu=0.)\n",
    "    spec = ks.spectrum(syst.leads[1])\n",
    "    momenta=np.linspace(kmin, kmax, 501)\n",
    "    \n",
    "    k_F_array = []\n",
    "    for band in range(spec.nbands):\n",
    "        cross = spec.intersect(upper, band, kmin=kmin, kmax=kmax)\n",
    "        if cross.size > 0:\n",
    "            k_F_array.append(cross[-1])\n",
    "    k_F_array = np.array(k_F_array)/a\n",
    "    lambda_F_array = 2*np.pi/k_F_array\n",
    "    print('len')\n",
    "    print(len(lambda_F_array))\n",
    "    if len(lambda_F_array) > 1:\n",
    "        return lambda_F_array[mode]\n",
    "    else:\n",
    "        return lambda_F_array[0]\n",
    "        \n"
   ]
  },
  {
   "cell_type": "code",
   "execution_count": 115,
   "id": "e31e7f03-8f73-47ae-ba16-c9897f4b7da1",
   "metadata": {},
   "outputs": [
    {
     "name": "stdout",
     "output_type": "stream",
     "text": [
      "Parameters: L, t, E_plus, E_minus, eta, nu, B\n",
      "[611, 4513.29322846401, 1.0141922225789335, -0.3380640741929778, 0.3535533905932738, 28.885991119621014, 0.0]\n"
     ]
    },
    {
     "name": "stderr",
     "output_type": "stream",
     "text": [
      "/Users/afasjasd/anaconda3/envs/snakes/lib/python3.9/site-packages/kwantspectrum/kwant_spectrum.py:361: VisibleDeprecationWarning: Creating an ndarray from ragged nested sequences (which is a list-or-tuple of lists-or-tuples-or ndarrays with different lengths or shapes) is deprecated. If you meant to do this, you must specify 'dtype=object' when creating the ndarray.\n",
      "  pvec = np.array([b * b / 3, 0, a * a])\n"
     ]
    },
    {
     "name": "stdout",
     "output_type": "stream",
     "text": [
      "len\n",
      "2\n",
      "Parameters: L, t, E_plus, E_minus, eta, nu, B\n",
      "[611, 4513.29322846401, 1.0141922225789335, -0.3380640741929778, 0.3535533905932738, 28.885991119621014, 0.042544606274357265]\n"
     ]
    },
    {
     "name": "stderr",
     "output_type": "stream",
     "text": [
      "/Users/afasjasd/anaconda3/envs/snakes/lib/python3.9/site-packages/kwantspectrum/kwant_spectrum.py:361: VisibleDeprecationWarning: Creating an ndarray from ragged nested sequences (which is a list-or-tuple of lists-or-tuples-or ndarrays with different lengths or shapes) is deprecated. If you meant to do this, you must specify 'dtype=object' when creating the ndarray.\n",
      "  pvec = np.array([b * b / 3, 0, a * a])\n"
     ]
    },
    {
     "name": "stdout",
     "output_type": "stream",
     "text": [
      "len\n",
      "2\n",
      "Parameters: L, t, E_plus, E_minus, eta, nu, B\n",
      "[611, 4513.29322846401, 1.0141922225789335, -0.3380640741929778, 0.3535533905932738, 28.885991119621014, 0.08508921254871453]\n"
     ]
    },
    {
     "name": "stderr",
     "output_type": "stream",
     "text": [
      "/Users/afasjasd/anaconda3/envs/snakes/lib/python3.9/site-packages/kwantspectrum/kwant_spectrum.py:361: VisibleDeprecationWarning: Creating an ndarray from ragged nested sequences (which is a list-or-tuple of lists-or-tuples-or ndarrays with different lengths or shapes) is deprecated. If you meant to do this, you must specify 'dtype=object' when creating the ndarray.\n",
      "  pvec = np.array([b * b / 3, 0, a * a])\n",
      "/Users/afasjasd/anaconda3/envs/snakes/lib/python3.9/site-packages/kwantspectrum/kwant_spectrum.py:361: VisibleDeprecationWarning: Creating an ndarray from ragged nested sequences (which is a list-or-tuple of lists-or-tuples-or ndarrays with different lengths or shapes) is deprecated. If you meant to do this, you must specify 'dtype=object' when creating the ndarray.\n",
      "  pvec = np.array([b * b / 3, 0, a * a])\n"
     ]
    },
    {
     "name": "stdout",
     "output_type": "stream",
     "text": [
      "len\n",
      "2\n",
      "Parameters: L, t, E_plus, E_minus, eta, nu, B\n",
      "[611, 4513.29322846401, 1.0141922225789335, -0.3380640741929778, 0.3535533905932738, 28.885991119621014, 0.12763381882307182]\n",
      "len\n",
      "2\n",
      "Parameters: L, t, E_plus, E_minus, eta, nu, B\n",
      "[611, 4513.29322846401, 1.0141922225789335, -0.3380640741929778, 0.3535533905932738, 28.885991119621014, 0.17017842509742906]\n"
     ]
    },
    {
     "name": "stderr",
     "output_type": "stream",
     "text": [
      "/Users/afasjasd/anaconda3/envs/snakes/lib/python3.9/site-packages/kwantspectrum/kwant_spectrum.py:361: VisibleDeprecationWarning: Creating an ndarray from ragged nested sequences (which is a list-or-tuple of lists-or-tuples-or ndarrays with different lengths or shapes) is deprecated. If you meant to do this, you must specify 'dtype=object' when creating the ndarray.\n",
      "  pvec = np.array([b * b / 3, 0, a * a])\n",
      "/Users/afasjasd/anaconda3/envs/snakes/lib/python3.9/site-packages/kwantspectrum/kwant_spectrum.py:361: VisibleDeprecationWarning: Creating an ndarray from ragged nested sequences (which is a list-or-tuple of lists-or-tuples-or ndarrays with different lengths or shapes) is deprecated. If you meant to do this, you must specify 'dtype=object' when creating the ndarray.\n",
      "  pvec = np.array([b * b / 3, 0, a * a])\n"
     ]
    },
    {
     "name": "stdout",
     "output_type": "stream",
     "text": [
      "len\n",
      "2\n",
      "Parameters: L, t, E_plus, E_minus, eta, nu, B\n",
      "[611, 4513.29322846401, 1.0141922225789335, -0.3380640741929778, 0.3535533905932738, 28.885991119621014, 0.2127230313717863]\n",
      "len\n",
      "2\n",
      "Parameters: L, t, E_plus, E_minus, eta, nu, B\n",
      "[611, 4513.29322846401, 1.0141922225789335, -0.3380640741929778, 0.3535533905932738, 28.885991119621014, 0.25526763764614363]\n"
     ]
    },
    {
     "name": "stderr",
     "output_type": "stream",
     "text": [
      "/Users/afasjasd/anaconda3/envs/snakes/lib/python3.9/site-packages/kwantspectrum/kwant_spectrum.py:361: VisibleDeprecationWarning: Creating an ndarray from ragged nested sequences (which is a list-or-tuple of lists-or-tuples-or ndarrays with different lengths or shapes) is deprecated. If you meant to do this, you must specify 'dtype=object' when creating the ndarray.\n",
      "  pvec = np.array([b * b / 3, 0, a * a])\n",
      "/Users/afasjasd/anaconda3/envs/snakes/lib/python3.9/site-packages/kwantspectrum/kwant_spectrum.py:361: VisibleDeprecationWarning: Creating an ndarray from ragged nested sequences (which is a list-or-tuple of lists-or-tuples-or ndarrays with different lengths or shapes) is deprecated. If you meant to do this, you must specify 'dtype=object' when creating the ndarray.\n",
      "  pvec = np.array([b * b / 3, 0, a * a])\n"
     ]
    },
    {
     "name": "stdout",
     "output_type": "stream",
     "text": [
      "len\n",
      "2\n",
      "Parameters: L, t, E_plus, E_minus, eta, nu, B\n",
      "[611, 4513.29322846401, 1.0141922225789335, -0.3380640741929778, 0.3535533905932738, 28.885991119621014, 0.2978122439205009]\n",
      "len\n",
      "2\n",
      "Parameters: L, t, E_plus, E_minus, eta, nu, B\n",
      "[611, 4513.29322846401, 1.0141922225789335, -0.3380640741929778, 0.3535533905932738, 28.885991119621014, 0.3403568501948581]\n"
     ]
    },
    {
     "name": "stderr",
     "output_type": "stream",
     "text": [
      "/Users/afasjasd/anaconda3/envs/snakes/lib/python3.9/site-packages/kwantspectrum/kwant_spectrum.py:361: VisibleDeprecationWarning: Creating an ndarray from ragged nested sequences (which is a list-or-tuple of lists-or-tuples-or ndarrays with different lengths or shapes) is deprecated. If you meant to do this, you must specify 'dtype=object' when creating the ndarray.\n",
      "  pvec = np.array([b * b / 3, 0, a * a])\n",
      "/Users/afasjasd/anaconda3/envs/snakes/lib/python3.9/site-packages/kwantspectrum/kwant_spectrum.py:361: VisibleDeprecationWarning: Creating an ndarray from ragged nested sequences (which is a list-or-tuple of lists-or-tuples-or ndarrays with different lengths or shapes) is deprecated. If you meant to do this, you must specify 'dtype=object' when creating the ndarray.\n",
      "  pvec = np.array([b * b / 3, 0, a * a])\n"
     ]
    },
    {
     "name": "stdout",
     "output_type": "stream",
     "text": [
      "len\n",
      "1\n",
      "Parameters: L, t, E_plus, E_minus, eta, nu, B\n",
      "[611, 4513.29322846401, 1.0141922225789335, -0.3380640741929778, 0.3535533905932738, 28.885991119621014, 0.3829014564692154]\n",
      "len\n",
      "1\n",
      "Parameters: L, t, E_plus, E_minus, eta, nu, B\n",
      "[611, 4513.29322846401, 1.0141922225789335, -0.3380640741929778, 0.3535533905932738, 28.885991119621014, 0.4254460627435726]\n"
     ]
    },
    {
     "name": "stderr",
     "output_type": "stream",
     "text": [
      "/Users/afasjasd/anaconda3/envs/snakes/lib/python3.9/site-packages/kwantspectrum/kwant_spectrum.py:361: VisibleDeprecationWarning: Creating an ndarray from ragged nested sequences (which is a list-or-tuple of lists-or-tuples-or ndarrays with different lengths or shapes) is deprecated. If you meant to do this, you must specify 'dtype=object' when creating the ndarray.\n",
      "  pvec = np.array([b * b / 3, 0, a * a])\n",
      "/Users/afasjasd/anaconda3/envs/snakes/lib/python3.9/site-packages/kwantspectrum/kwant_spectrum.py:361: VisibleDeprecationWarning: Creating an ndarray from ragged nested sequences (which is a list-or-tuple of lists-or-tuples-or ndarrays with different lengths or shapes) is deprecated. If you meant to do this, you must specify 'dtype=object' when creating the ndarray.\n",
      "  pvec = np.array([b * b / 3, 0, a * a])\n"
     ]
    },
    {
     "name": "stdout",
     "output_type": "stream",
     "text": [
      "len\n",
      "1\n",
      "Parameters: L, t, E_plus, E_minus, eta, nu, B\n",
      "[611, 4513.29322846401, 1.0141922225789335, -0.3380640741929778, 0.3535533905932738, 28.885991119621014, 0.46799066901792996]\n",
      "len\n",
      "1\n",
      "Parameters: L, t, E_plus, E_minus, eta, nu, B\n",
      "[611, 4513.29322846401, 1.0141922225789335, -0.3380640741929778, 0.3535533905932738, 28.885991119621014, 0.5105352752922873]\n"
     ]
    },
    {
     "name": "stderr",
     "output_type": "stream",
     "text": [
      "/Users/afasjasd/anaconda3/envs/snakes/lib/python3.9/site-packages/kwantspectrum/kwant_spectrum.py:361: VisibleDeprecationWarning: Creating an ndarray from ragged nested sequences (which is a list-or-tuple of lists-or-tuples-or ndarrays with different lengths or shapes) is deprecated. If you meant to do this, you must specify 'dtype=object' when creating the ndarray.\n",
      "  pvec = np.array([b * b / 3, 0, a * a])\n",
      "/Users/afasjasd/anaconda3/envs/snakes/lib/python3.9/site-packages/kwantspectrum/kwant_spectrum.py:361: VisibleDeprecationWarning: Creating an ndarray from ragged nested sequences (which is a list-or-tuple of lists-or-tuples-or ndarrays with different lengths or shapes) is deprecated. If you meant to do this, you must specify 'dtype=object' when creating the ndarray.\n",
      "  pvec = np.array([b * b / 3, 0, a * a])\n"
     ]
    },
    {
     "name": "stdout",
     "output_type": "stream",
     "text": [
      "len\n",
      "1\n",
      "Parameters: L, t, E_plus, E_minus, eta, nu, B\n",
      "[611, 4513.29322846401, 1.0141922225789335, -0.3380640741929778, 0.3535533905932738, 28.885991119621014, 0.5530798815666444]\n",
      "len\n",
      "1\n",
      "Parameters: L, t, E_plus, E_minus, eta, nu, B\n",
      "[611, 4513.29322846401, 1.0141922225789335, -0.3380640741929778, 0.3535533905932738, 28.885991119621014, 0.5956244878410017]\n"
     ]
    },
    {
     "name": "stderr",
     "output_type": "stream",
     "text": [
      "/Users/afasjasd/anaconda3/envs/snakes/lib/python3.9/site-packages/kwantspectrum/kwant_spectrum.py:361: VisibleDeprecationWarning: Creating an ndarray from ragged nested sequences (which is a list-or-tuple of lists-or-tuples-or ndarrays with different lengths or shapes) is deprecated. If you meant to do this, you must specify 'dtype=object' when creating the ndarray.\n",
      "  pvec = np.array([b * b / 3, 0, a * a])\n",
      "/Users/afasjasd/anaconda3/envs/snakes/lib/python3.9/site-packages/kwantspectrum/kwant_spectrum.py:361: VisibleDeprecationWarning: Creating an ndarray from ragged nested sequences (which is a list-or-tuple of lists-or-tuples-or ndarrays with different lengths or shapes) is deprecated. If you meant to do this, you must specify 'dtype=object' when creating the ndarray.\n",
      "  pvec = np.array([b * b / 3, 0, a * a])\n"
     ]
    },
    {
     "name": "stdout",
     "output_type": "stream",
     "text": [
      "len\n",
      "1\n",
      "Parameters: L, t, E_plus, E_minus, eta, nu, B\n",
      "[611, 4513.29322846401, 1.0141922225789335, -0.3380640741929778, 0.3535533905932738, 28.885991119621014, 0.6381690941153589]\n",
      "len\n",
      "2\n",
      "Parameters: L, t, E_plus, E_minus, eta, nu, B\n",
      "[611, 4513.29322846401, 1.0141922225789335, -0.3380640741929778, 0.3535533905932738, 28.885991119621014, 0.6807137003897162]\n",
      "len\n",
      "2\n",
      "Parameters: L, t, E_plus, E_minus, eta, nu, B\n",
      "[611, 4513.29322846401, 1.0141922225789335, -0.3380640741929778, 0.3535533905932738, 28.885991119621014, 0.7232583066640735]\n"
     ]
    },
    {
     "name": "stderr",
     "output_type": "stream",
     "text": [
      "/Users/afasjasd/anaconda3/envs/snakes/lib/python3.9/site-packages/kwantspectrum/kwant_spectrum.py:361: VisibleDeprecationWarning: Creating an ndarray from ragged nested sequences (which is a list-or-tuple of lists-or-tuples-or ndarrays with different lengths or shapes) is deprecated. If you meant to do this, you must specify 'dtype=object' when creating the ndarray.\n",
      "  pvec = np.array([b * b / 3, 0, a * a])\n",
      "/Users/afasjasd/anaconda3/envs/snakes/lib/python3.9/site-packages/kwantspectrum/kwant_spectrum.py:361: VisibleDeprecationWarning: Creating an ndarray from ragged nested sequences (which is a list-or-tuple of lists-or-tuples-or ndarrays with different lengths or shapes) is deprecated. If you meant to do this, you must specify 'dtype=object' when creating the ndarray.\n",
      "  pvec = np.array([b * b / 3, 0, a * a])\n"
     ]
    },
    {
     "name": "stdout",
     "output_type": "stream",
     "text": [
      "len\n",
      "2\n",
      "Parameters: L, t, E_plus, E_minus, eta, nu, B\n",
      "[611, 4513.29322846401, 1.0141922225789335, -0.3380640741929778, 0.3535533905932738, 28.885991119621014, 0.7658029129384308]\n"
     ]
    },
    {
     "name": "stderr",
     "output_type": "stream",
     "text": [
      "/Users/afasjasd/anaconda3/envs/snakes/lib/python3.9/site-packages/kwantspectrum/kwant_spectrum.py:361: VisibleDeprecationWarning: Creating an ndarray from ragged nested sequences (which is a list-or-tuple of lists-or-tuples-or ndarrays with different lengths or shapes) is deprecated. If you meant to do this, you must specify 'dtype=object' when creating the ndarray.\n",
      "  pvec = np.array([b * b / 3, 0, a * a])\n"
     ]
    },
    {
     "name": "stdout",
     "output_type": "stream",
     "text": [
      "len\n",
      "2\n",
      "Parameters: L, t, E_plus, E_minus, eta, nu, B\n",
      "[611, 4513.29322846401, 1.0141922225789335, -0.3380640741929778, 0.3535533905932738, 28.885991119621014, 0.808347519212788]\n",
      "len\n",
      "2\n",
      "Parameters: L, t, E_plus, E_minus, eta, nu, B\n",
      "[611, 4513.29322846401, 1.0141922225789335, -0.3380640741929778, 0.3535533905932738, 28.885991119621014, 0.8508921254871452]\n"
     ]
    },
    {
     "name": "stderr",
     "output_type": "stream",
     "text": [
      "/Users/afasjasd/anaconda3/envs/snakes/lib/python3.9/site-packages/kwantspectrum/kwant_spectrum.py:361: VisibleDeprecationWarning: Creating an ndarray from ragged nested sequences (which is a list-or-tuple of lists-or-tuples-or ndarrays with different lengths or shapes) is deprecated. If you meant to do this, you must specify 'dtype=object' when creating the ndarray.\n",
      "  pvec = np.array([b * b / 3, 0, a * a])\n",
      "/Users/afasjasd/anaconda3/envs/snakes/lib/python3.9/site-packages/kwantspectrum/kwant_spectrum.py:361: VisibleDeprecationWarning: Creating an ndarray from ragged nested sequences (which is a list-or-tuple of lists-or-tuples-or ndarrays with different lengths or shapes) is deprecated. If you meant to do this, you must specify 'dtype=object' when creating the ndarray.\n",
      "  pvec = np.array([b * b / 3, 0, a * a])\n"
     ]
    },
    {
     "name": "stdout",
     "output_type": "stream",
     "text": [
      "len\n",
      "2\n"
     ]
    },
    {
     "data": {
      "text/plain": [
       "[<matplotlib.lines.Line2D at 0x167f69fa0>]"
      ]
     },
     "execution_count": 115,
     "metadata": {},
     "output_type": "execute_result"
    },
    {
     "data": {
      "image/png": "[encoded data removed]",
      "text/plain": [
       "<Figure size 432x288 with 1 Axes>"
      ]
     },
     "metadata": {
      "needs_background": "light"
     },
     "output_type": "display_data"
    }
   ],
   "source": [
    "lambda_array = []\n",
    "for B in np.linspace(0, 2, 21):\n",
    "    lambda_array.append(lambda_F_given_B(B, mode=0))\n",
    "plt.plot(np.linspace(0, 2, 21), lambda_array)"
   ]
  },
  {
   "cell_type": "code",
   "execution_count": 122,
   "id": "8a5fdbea-752b-48d0-b84f-2d4a035b77a1",
   "metadata": {},
   "outputs": [
    {
     "name": "stdout",
     "output_type": "stream",
     "text": [
      "Parameters: L, t, E_plus, E_minus, eta, nu, B\n",
      "[611, 4513.29322846401, 1.0141922225789335, -0.3380640741929778, 0.3535533905932738, 28.885991119621014, 0.0]\n"
     ]
    },
    {
     "name": "stderr",
     "output_type": "stream",
     "text": [
      "/Users/afasjasd/anaconda3/envs/snakes/lib/python3.9/site-packages/kwantspectrum/kwant_spectrum.py:361: VisibleDeprecationWarning: Creating an ndarray from ragged nested sequences (which is a list-or-tuple of lists-or-tuples-or ndarrays with different lengths or shapes) is deprecated. If you meant to do this, you must specify 'dtype=object' when creating the ndarray.\n",
      "  pvec = np.array([b * b / 3, 0, a * a])\n"
     ]
    },
    {
     "name": "stdout",
     "output_type": "stream",
     "text": [
      "len\n",
      "2\n",
      "Parameters: L, t, E_plus, E_minus, eta, nu, B\n",
      "[611, 4513.29322846401, 1.0141922225789335, -0.3380640741929778, 0.3535533905932738, 28.885991119621014, 0.8508921254871452]\n",
      "len\n",
      "2\n",
      "Parameters: L, t, E_plus, E_minus, eta, nu, B\n",
      "[611, 4513.29322846401, 1.0141922225789335, -0.3380640741929778, 0.3535533905932738, 28.885991119621014, 0.47720523633933476]\n"
     ]
    },
    {
     "name": "stderr",
     "output_type": "stream",
     "text": [
      "/Users/afasjasd/anaconda3/envs/snakes/lib/python3.9/site-packages/kwantspectrum/kwant_spectrum.py:361: VisibleDeprecationWarning: Creating an ndarray from ragged nested sequences (which is a list-or-tuple of lists-or-tuples-or ndarrays with different lengths or shapes) is deprecated. If you meant to do this, you must specify 'dtype=object' when creating the ndarray.\n",
      "  pvec = np.array([b * b / 3, 0, a * a])\n",
      "/Users/afasjasd/anaconda3/envs/snakes/lib/python3.9/site-packages/kwantspectrum/kwant_spectrum.py:361: VisibleDeprecationWarning: Creating an ndarray from ragged nested sequences (which is a list-or-tuple of lists-or-tuples-or ndarrays with different lengths or shapes) is deprecated. If you meant to do this, you must specify 'dtype=object' when creating the ndarray.\n",
      "  pvec = np.array([b * b / 3, 0, a * a])\n"
     ]
    },
    {
     "name": "stdout",
     "output_type": "stream",
     "text": [
      "len\n",
      "1\n",
      "Parameters: L, t, E_plus, E_minus, eta, nu, B\n",
      "[611, 4513.29322846401, 1.0141922225789335, -0.3380640741929778, 0.3535533905932738, 28.885991119621014, 0.5422117183293518]\n",
      "len\n",
      "1\n",
      "Parameters: L, t, E_plus, E_minus, eta, nu, B\n",
      "[611, 4513.29322846401, 1.0141922225789335, -0.3380640741929778, 0.3535533905932738, 28.885991119621014, 0.5399714189558649]\n"
     ]
    },
    {
     "name": "stderr",
     "output_type": "stream",
     "text": [
      "/Users/afasjasd/anaconda3/envs/snakes/lib/python3.9/site-packages/kwantspectrum/kwant_spectrum.py:361: VisibleDeprecationWarning: Creating an ndarray from ragged nested sequences (which is a list-or-tuple of lists-or-tuples-or ndarrays with different lengths or shapes) is deprecated. If you meant to do this, you must specify 'dtype=object' when creating the ndarray.\n",
      "  pvec = np.array([b * b / 3, 0, a * a])\n",
      "/Users/afasjasd/anaconda3/envs/snakes/lib/python3.9/site-packages/kwantspectrum/kwant_spectrum.py:361: VisibleDeprecationWarning: Creating an ndarray from ragged nested sequences (which is a list-or-tuple of lists-or-tuples-or ndarrays with different lengths or shapes) is deprecated. If you meant to do this, you must specify 'dtype=object' when creating the ndarray.\n",
      "  pvec = np.array([b * b / 3, 0, a * a])\n"
     ]
    },
    {
     "name": "stdout",
     "output_type": "stream",
     "text": [
      "len\n",
      "1\n",
      "Parameters: L, t, E_plus, E_minus, eta, nu, B\n",
      "[611, 4513.29322846401, 1.0141922225789335, -0.3380640741929778, 0.3535533905932738, 28.885991119621014, 0.5399730537379042]\n",
      "len\n",
      "1\n",
      "Parameters: L, t, E_plus, E_minus, eta, nu, B\n",
      "[611, 4513.29322846401, 1.0141922225789335, -0.3380640741929778, 0.3535533905932738, 28.885991119621014, 0.5399730536441084]\n"
     ]
    },
    {
     "name": "stderr",
     "output_type": "stream",
     "text": [
      "/Users/afasjasd/anaconda3/envs/snakes/lib/python3.9/site-packages/kwantspectrum/kwant_spectrum.py:361: VisibleDeprecationWarning: Creating an ndarray from ragged nested sequences (which is a list-or-tuple of lists-or-tuples-or ndarrays with different lengths or shapes) is deprecated. If you meant to do this, you must specify 'dtype=object' when creating the ndarray.\n",
      "  pvec = np.array([b * b / 3, 0, a * a])\n",
      "/Users/afasjasd/anaconda3/envs/snakes/lib/python3.9/site-packages/kwantspectrum/kwant_spectrum.py:361: VisibleDeprecationWarning: Creating an ndarray from ragged nested sequences (which is a list-or-tuple of lists-or-tuples-or ndarrays with different lengths or shapes) is deprecated. If you meant to do this, you must specify 'dtype=object' when creating the ndarray.\n",
      "  pvec = np.array([b * b / 3, 0, a * a])\n"
     ]
    },
    {
     "name": "stdout",
     "output_type": "stream",
     "text": [
      "len\n",
      "1\n",
      "Parameters: L, t, E_plus, E_minus, eta, nu, B\n",
      "[611, 4513.29322846401, 1.0141922225789335, -0.3380640741929778, 0.3535533905932738, 28.885991119621014, 0.5399730536436829]\n",
      "len\n",
      "1\n",
      "1.2691927389384825\n"
     ]
    },
    {
     "name": "stderr",
     "output_type": "stream",
     "text": [
      "/Users/afasjasd/anaconda3/envs/snakes/lib/python3.9/site-packages/kwantspectrum/kwant_spectrum.py:361: VisibleDeprecationWarning: Creating an ndarray from ragged nested sequences (which is a list-or-tuple of lists-or-tuples-or ndarrays with different lengths or shapes) is deprecated. If you meant to do this, you must specify 'dtype=object' when creating the ndarray.\n",
      "  pvec = np.array([b * b / 3, 0, a * a])\n"
     ]
    }
   ],
   "source": [
    "B_FP = op.brentq(lambda B: lambda_F_given_B(B, mode=0)-roots[3], 0, 2)\n",
    "print(B_FP)"
   ]
  },
  {
   "cell_type": "code",
   "execution_count": 121,
   "id": "df486e15-6971-47cd-aed4-e29b60fcbde8",
   "metadata": {},
   "outputs": [
    {
     "name": "stdout",
     "output_type": "stream",
     "text": [
      "[1.50000000e-06 5.00000000e-07 3.00000000e-07 2.14285714e-07\n",
      " 1.66666667e-07 1.36363636e-07 1.15384615e-07 1.00000000e-07\n",
      " 8.82352941e-08 7.89473684e-08]\n"
     ]
    }
   ],
   "source": [
    "'''def lambda_F_given_B(B):\n",
    "    a = 6.0583e-10\n",
    "    syst = make_system_mixed(B_Tesla=B, mu=0.887)\n",
    "    bands=kwant.physics.Bands(syst.leads[1])\n",
    "    momenta=np.linspace(-np.pi,np.pi,100001)\n",
    "    energies=[bands(k) for k in momenta]\n",
    "    x=np.array(energies)\n",
    "    en=(x)\n",
    "    k_F = np.abs(np.linspace(-np.pi,np.pi,100001)[np.argmin(en[:,4])])/a\n",
    "    lambda_F = 2.*np.pi/k_F\n",
    "    return lambda_F'''\n",
    "\n",
    "roots = np.array([4.*3750e-10/(2.*i+1.) for i in range(0, 10)])\n",
    "print(roots)\n"
   ]
  },
  {
   "cell_type": "code",
   "execution_count": 12,
   "id": "8c38e871-038c-42d3-ac01-2b0333076ec5",
   "metadata": {},
   "outputs": [
    {
     "name": "stdout",
     "output_type": "stream",
     "text": [
      "Parameters: L, t, E_plus, E_minus, eta, nu, B\n",
      "[611, 4513.29322846401, 1.0141922225789335, -0.3380640741929778, 0.3535533905932738, 28.885991119621014, 0.5530798815666444]\n"
     ]
    },
    {
     "data": {
      "text/plain": [
       "Text(0.5, 1.0, '$B=0T, \\\\mu=0meV$')"
      ]
     },
     "execution_count": 12,
     "metadata": {},
     "output_type": "execute_result"
    },
    {
     "data": {
      "image/png": "[encoded data removed]",
      "text/plain": [
       "<Figure size 432x288 with 1 Axes>"
      ]
     },
     "metadata": {
      "needs_background": "light"
     },
     "output_type": "display_data"
    }
   ],
   "source": [
    "syst = make_system_mixed(B_Tesla=1.3, mu=0., delta=0.)\n",
    "bands=kwant.physics.Bands(syst.leads[1])\n",
    "momenta=np.linspace(-np.pi,np.pi,100001)\n",
    "energies=[bands(k) for k in momenta]\n",
    "x=np.array(energies)\n",
    "en=(x)\n",
    "plt.plot(momenta, en)\n",
    "#plt.plot(momenta, dispersion(momenta, 1), ls=':')\n",
    "#plt.plot(momenta, dispersion(momenta, 2), ls=':')\n",
    "#plt.scatter(np.linspace(-0.1, 0.1, 50), dispersion(np.linspace(-0.1, 0.1, 50), 1), marker='x')\n",
    "#plt.scatter(np.linspace(-0.1, 0.1, 50), dispersion(np.linspace(-0.1, 0.1, 50), 2), marker='x')\n",
    "plt.axhline(0.7)\n",
    "plt.xlabel(r'$k$')\n",
    "plt.ylabel(r'$E$')\n",
    "plt.xlim(-0.1, 0.1)\n",
    "plt.ylim(-5, 5)\n",
    "#plt.axhline(0.887)\n",
    "#plt.axvline(0.016314840778883132)\n",
    "#plt.axvline(0.0072165728173898625)\n",
    "plt.title(r'$B=0T, \\mu=0meV$')\n",
    "#plt.savefig('./subband/effect of delta on band 2', dpi=300)\n"
   ]
  },
  {
   "cell_type": "code",
   "execution_count": 42,
   "id": "6b457d9e-6e3a-4c31-8f51-c61bb0fb0736",
   "metadata": {},
   "outputs": [
    {
     "name": "stdout",
     "output_type": "stream",
     "text": [
      "Parameters: L, t, E_plus, E_minus, eta, nu, B\n",
      "[611, 4513.29322846401, 1.0141922225789335, -0.3380640741929778, 0.3535533905932738, 28.885991119621014, 0.3275934683125509]\n"
     ]
    },
    {
     "data": {
      "text/plain": [
       "Text(0.5, 1.0, '$B=0T, \\\\mu=1.5meV$')"
      ]
     },
     "execution_count": 42,
     "metadata": {},
     "output_type": "execute_result"
    },
    {
     "data": {
      "image/png": "[encoded data removed]",
      "text/plain": [
       "<Figure size 432x288 with 1 Axes>"
      ]
     },
     "metadata": {
      "needs_background": "light"
     },
     "output_type": "display_data"
    }
   ],
   "source": [
    "syst = make_system_mixed(B_Tesla=0.77, mu=1.8)\n",
    "bands=kwant.physics.Bands(syst.leads[1])\n",
    "momenta=np.linspace(-np.pi,np.pi,100001)\n",
    "energies=[bands(k) for k in momenta]\n",
    "x=np.array(energies)\n",
    "en=(x)\n",
    "plt.plot(momenta, en)\n",
    "#plt.plot(momenta, dispersion(momenta, 1), ls=':')\n",
    "#plt.plot(momenta, dispersion(momenta, 2), ls=':')\n",
    "#plt.scatter(np.linspace(-0.1, 0.1, 50), dispersion(np.linspace(-0.1, 0.1, 50), 1), marker='x')\n",
    "#plt.scatter(np.linspace(-0.1, 0.1, 50), dispersion(np.linspace(-0.1, 0.1, 50), 2), marker='x')\n",
    "plt.xlabel(r'$k$')\n",
    "plt.ylabel(r'$E$')\n",
    "plt.xlim(-0.1, 0.1)\n",
    "plt.ylim(-5, 5)\n",
    "#plt.axhline(0.887)\n",
    "#plt.axvline(0.016314840778883132)\n",
    "#plt.axvline(0.0072165728173898625)\n",
    "plt.title(r'$B=0T, \\mu=1.5meV$')"
   ]
  },
  {
   "cell_type": "code",
   "execution_count": null,
   "id": "022791a0-53d8-4ba9-98f5-fb54f2155152",
   "metadata": {},
   "outputs": [],
   "source": [
    "gap_energies = []\n",
    "for B in np.linspace(0, 2, 51):\n",
    "    #fig=plt.figure()\n",
    "    syst = make_system_mixed(B_Tesla=B, mu=1.8)\n",
    "    bands=kwant.physics.Bands(syst.leads[1])\n",
    "    momenta=np.linspace(-np.pi,np.pi,100001)\n",
    "    energies=[bands(k) for k in momenta]\n",
    "    x=np.array(energies)\n",
    "    en=(x)\n",
    "    gap_energies.append(np.min(en[:,4]))\n",
    "    #plt.plot(momenta, en)\n",
    "    #plt.xlabel(r'$k$')\n",
    "    #plt.ylabel(r'$E$')\n",
    "    #plt.xlim(-0.1, 0.1)\n",
    "    #plt.ylim(-5, 5)\n",
    "    #plt.title(r'$B=%.2fT, \\mu=0.887$' % (B))\n",
    "    #plt.savefig('./subband/gif 4/dispersion at B=%i over 1000 mu=0p6, ' % (int(B*1000)), dpi=300)"
   ]
  },
  {
   "cell_type": "code",
   "execution_count": 89,
   "id": "6543e96b-abf6-4162-b85f-02de1c548c1d",
   "metadata": {},
   "outputs": [
    {
     "name": "stdout",
     "output_type": "stream",
     "text": [
      "Parameters: L, t, E_plus, E_minus, eta, nu, B\n",
      "[611, 4513.29322846401, 1.0141922225789335, -0.3380640741929778, 0.21, 28.885991119621014, 0.5743521847038231]\n",
      "Parameters: L, t, E_plus, E_minus, eta, nu, B\n",
      "[611, 4513.29322846401, 1.0141922225789335, -0.3380640741929778, 0.22, 28.885991119621014, 0.5743521847038231]\n",
      "Parameters: L, t, E_plus, E_minus, eta, nu, B\n",
      "[611, 4513.29322846401, 1.0141922225789335, -0.3380640741929778, 0.23, 28.885991119621014, 0.5743521847038231]\n",
      "Parameters: L, t, E_plus, E_minus, eta, nu, B\n",
      "[611, 4513.29322846401, 1.0141922225789335, -0.3380640741929778, 0.24000000000000002, 28.885991119621014, 0.5743521847038231]\n",
      "Parameters: L, t, E_plus, E_minus, eta, nu, B\n",
      "[611, 4513.29322846401, 1.0141922225789335, -0.3380640741929778, 0.25, 28.885991119621014, 0.5743521847038231]\n",
      "Parameters: L, t, E_plus, E_minus, eta, nu, B\n",
      "[611, 4513.29322846401, 1.0141922225789335, -0.3380640741929778, 0.26, 28.885991119621014, 0.5743521847038231]\n",
      "Parameters: L, t, E_plus, E_minus, eta, nu, B\n",
      "[611, 4513.29322846401, 1.0141922225789335, -0.3380640741929778, 0.27, 28.885991119621014, 0.5743521847038231]\n",
      "Parameters: L, t, E_plus, E_minus, eta, nu, B\n",
      "[611, 4513.29322846401, 1.0141922225789335, -0.3380640741929778, 0.28, 28.885991119621014, 0.5743521847038231]\n",
      "Parameters: L, t, E_plus, E_minus, eta, nu, B\n",
      "[611, 4513.29322846401, 1.0141922225789335, -0.3380640741929778, 0.29000000000000004, 28.885991119621014, 0.5743521847038231]\n",
      "Parameters: L, t, E_plus, E_minus, eta, nu, B\n",
      "[611, 4513.29322846401, 1.0141922225789335, -0.3380640741929778, 0.30000000000000004, 28.885991119621014, 0.5743521847038231]\n",
      "Parameters: L, t, E_plus, E_minus, eta, nu, B\n",
      "[611, 4513.29322846401, 1.0141922225789335, -0.3380640741929778, 0.31000000000000005, 28.885991119621014, 0.5743521847038231]\n",
      "Parameters: L, t, E_plus, E_minus, eta, nu, B\n",
      "[611, 4513.29322846401, 1.0141922225789335, -0.3380640741929778, 0.32000000000000006, 28.885991119621014, 0.5743521847038231]\n",
      "Parameters: L, t, E_plus, E_minus, eta, nu, B\n",
      "[611, 4513.29322846401, 1.0141922225789335, -0.3380640741929778, 0.33000000000000007, 28.885991119621014, 0.5743521847038231]\n",
      "Parameters: L, t, E_plus, E_minus, eta, nu, B\n",
      "[611, 4513.29322846401, 1.0141922225789335, -0.3380640741929778, 0.3400000000000001, 28.885991119621014, 0.5743521847038231]\n",
      "Parameters: L, t, E_plus, E_minus, eta, nu, B\n",
      "[611, 4513.29322846401, 1.0141922225789335, -0.3380640741929778, 0.3500000000000001, 28.885991119621014, 0.5743521847038231]\n",
      "done\n"
     ]
    }
   ],
   "source": [
    "gap_energies_eta1 = []\n",
    "gap_kF_eta1 = []\n",
    "gap_energies_eta2 = []\n",
    "gap_kF_eta2 = []\n",
    "for eta in np.arange(0.21, 0.36, 0.01):\n",
    "    syst = make_system_mixed(B_Tesla=1.35, mu=0.887, eta=eta)\n",
    "    bands=kwant.physics.Bands(syst.leads[1])\n",
    "    momenta=np.linspace(-np.pi,np.pi,100001)\n",
    "    energies=[bands(k) for k in momenta]\n",
    "    x=np.array(energies)\n",
    "    en=(x)\n",
    "    local_minima1 = signal.argrelextrema(en[:,4], np.less)\n",
    "    local_gap1 = en[local_minima1, 4]\n",
    "    local_minima2 = signal.argrelextrema(en[:,5], np.less)\n",
    "    local_gap2 = en[local_minima2, 5]\n",
    "    local_kF1 = np.linspace(-np.pi,np.pi,100001)[local_minima1]\n",
    "    local_kF2 = np.linspace(-np.pi,np.pi,100001)[local_minima2]\n",
    "    gap_energies_eta1.append(local_gap1)\n",
    "    gap_kF_eta1.append(local_kF1)\n",
    "    gap_energies_eta2.append(local_gap2)\n",
    "    gap_kF_eta2.append(local_kF2)\n",
    "print('done')"
   ]
  },
  {
   "cell_type": "code",
   "execution_count": 13,
   "id": "3b9682f4-47dd-4eb4-b1bd-50143d803620",
   "metadata": {},
   "outputs": [
    {
     "name": "stdout",
     "output_type": "stream",
     "text": [
      "Parameters: L, t, E_plus, E_minus, eta, nu, B\n",
      "[611, 4513.29322846401, 1.0141922225789335, -0.3380640741929778, 0.3535533905932738, 28.885991119621014, 0.0]\n",
      "Parameters: L, t, E_plus, E_minus, eta, nu, B\n",
      "[611, 4513.29322846401, 1.0141922225789335, -0.3380640741929778, 0.3535533905932738, 28.885991119621014, 0.008508921254871453]\n",
      "Parameters: L, t, E_plus, E_minus, eta, nu, B\n",
      "[611, 4513.29322846401, 1.0141922225789335, -0.3380640741929778, 0.3535533905932738, 28.885991119621014, 0.017017842509742906]\n",
      "Parameters: L, t, E_plus, E_minus, eta, nu, B\n",
      "[611, 4513.29322846401, 1.0141922225789335, -0.3380640741929778, 0.3535533905932738, 28.885991119621014, 0.02552676376461436]\n",
      "Parameters: L, t, E_plus, E_minus, eta, nu, B\n",
      "[611, 4513.29322846401, 1.0141922225789335, -0.3380640741929778, 0.3535533905932738, 28.885991119621014, 0.03403568501948581]\n",
      "Parameters: L, t, E_plus, E_minus, eta, nu, B\n",
      "[611, 4513.29322846401, 1.0141922225789335, -0.3380640741929778, 0.3535533905932738, 28.885991119621014, 0.042544606274357265]\n",
      "Parameters: L, t, E_plus, E_minus, eta, nu, B\n",
      "[611, 4513.29322846401, 1.0141922225789335, -0.3380640741929778, 0.3535533905932738, 28.885991119621014, 0.05105352752922872]\n",
      "Parameters: L, t, E_plus, E_minus, eta, nu, B\n",
      "[611, 4513.29322846401, 1.0141922225789335, -0.3380640741929778, 0.3535533905932738, 28.885991119621014, 0.05956244878410017]\n",
      "Parameters: L, t, E_plus, E_minus, eta, nu, B\n",
      "[611, 4513.29322846401, 1.0141922225789335, -0.3380640741929778, 0.3535533905932738, 28.885991119621014, 0.06807137003897162]\n",
      "Parameters: L, t, E_plus, E_minus, eta, nu, B\n",
      "[611, 4513.29322846401, 1.0141922225789335, -0.3380640741929778, 0.3535533905932738, 28.885991119621014, 0.07658029129384307]\n",
      "Parameters: L, t, E_plus, E_minus, eta, nu, B\n",
      "[611, 4513.29322846401, 1.0141922225789335, -0.3380640741929778, 0.3535533905932738, 28.885991119621014, 0.08508921254871453]\n",
      "Parameters: L, t, E_plus, E_minus, eta, nu, B\n",
      "[611, 4513.29322846401, 1.0141922225789335, -0.3380640741929778, 0.3535533905932738, 28.885991119621014, 0.09359813380358598]\n",
      "Parameters: L, t, E_plus, E_minus, eta, nu, B\n",
      "[611, 4513.29322846401, 1.0141922225789335, -0.3380640741929778, 0.3535533905932738, 28.885991119621014, 0.10210705505845744]\n",
      "Parameters: L, t, E_plus, E_minus, eta, nu, B\n",
      "[611, 4513.29322846401, 1.0141922225789335, -0.3380640741929778, 0.3535533905932738, 28.885991119621014, 0.11061597631332887]\n",
      "Parameters: L, t, E_plus, E_minus, eta, nu, B\n",
      "[611, 4513.29322846401, 1.0141922225789335, -0.3380640741929778, 0.3535533905932738, 28.885991119621014, 0.11912489756820034]\n",
      "Parameters: L, t, E_plus, E_minus, eta, nu, B\n",
      "[611, 4513.29322846401, 1.0141922225789335, -0.3380640741929778, 0.3535533905932738, 28.885991119621014, 0.1276338188230718]\n",
      "Parameters: L, t, E_plus, E_minus, eta, nu, B\n",
      "[611, 4513.29322846401, 1.0141922225789335, -0.3380640741929778, 0.3535533905932738, 28.885991119621014, 0.13614274007794325]\n",
      "Parameters: L, t, E_plus, E_minus, eta, nu, B\n",
      "[611, 4513.29322846401, 1.0141922225789335, -0.3380640741929778, 0.3535533905932738, 28.885991119621014, 0.14465166133281468]\n",
      "Parameters: L, t, E_plus, E_minus, eta, nu, B\n",
      "[611, 4513.29322846401, 1.0141922225789335, -0.3380640741929778, 0.3535533905932738, 28.885991119621014, 0.15316058258768614]\n",
      "Parameters: L, t, E_plus, E_minus, eta, nu, B\n",
      "[611, 4513.29322846401, 1.0141922225789335, -0.3380640741929778, 0.3535533905932738, 28.885991119621014, 0.1616695038425576]\n",
      "Parameters: L, t, E_plus, E_minus, eta, nu, B\n",
      "[611, 4513.29322846401, 1.0141922225789335, -0.3380640741929778, 0.3535533905932738, 28.885991119621014, 0.17017842509742906]\n",
      "Parameters: L, t, E_plus, E_minus, eta, nu, B\n",
      "[611, 4513.29322846401, 1.0141922225789335, -0.3380640741929778, 0.3535533905932738, 28.885991119621014, 0.17868734635230052]\n",
      "Parameters: L, t, E_plus, E_minus, eta, nu, B\n",
      "[611, 4513.29322846401, 1.0141922225789335, -0.3380640741929778, 0.3535533905932738, 28.885991119621014, 0.18719626760717195]\n",
      "Parameters: L, t, E_plus, E_minus, eta, nu, B\n",
      "[611, 4513.29322846401, 1.0141922225789335, -0.3380640741929778, 0.3535533905932738, 28.885991119621014, 0.1957051888620434]\n",
      "Parameters: L, t, E_plus, E_minus, eta, nu, B\n",
      "[611, 4513.29322846401, 1.0141922225789335, -0.3380640741929778, 0.3535533905932738, 28.885991119621014, 0.20421411011691487]\n",
      "Parameters: L, t, E_plus, E_minus, eta, nu, B\n",
      "[611, 4513.29322846401, 1.0141922225789335, -0.3380640741929778, 0.3535533905932738, 28.885991119621014, 0.2127230313717863]\n",
      "Parameters: L, t, E_plus, E_minus, eta, nu, B\n",
      "[611, 4513.29322846401, 1.0141922225789335, -0.3380640741929778, 0.3535533905932738, 28.885991119621014, 0.22123195262665774]\n",
      "Parameters: L, t, E_plus, E_minus, eta, nu, B\n",
      "[611, 4513.29322846401, 1.0141922225789335, -0.3380640741929778, 0.3535533905932738, 28.885991119621014, 0.22974087388152925]\n",
      "Parameters: L, t, E_plus, E_minus, eta, nu, B\n",
      "[611, 4513.29322846401, 1.0141922225789335, -0.3380640741929778, 0.3535533905932738, 28.885991119621014, 0.23824979513640068]\n",
      "Parameters: L, t, E_plus, E_minus, eta, nu, B\n",
      "[611, 4513.29322846401, 1.0141922225789335, -0.3380640741929778, 0.3535533905932738, 28.885991119621014, 0.24675871639127211]\n",
      "Parameters: L, t, E_plus, E_minus, eta, nu, B\n",
      "[611, 4513.29322846401, 1.0141922225789335, -0.3380640741929778, 0.3535533905932738, 28.885991119621014, 0.2552676376461436]\n",
      "Parameters: L, t, E_plus, E_minus, eta, nu, B\n",
      "[611, 4513.29322846401, 1.0141922225789335, -0.3380640741929778, 0.3535533905932738, 28.885991119621014, 0.26377655890101503]\n",
      "Parameters: L, t, E_plus, E_minus, eta, nu, B\n",
      "[611, 4513.29322846401, 1.0141922225789335, -0.3380640741929778, 0.3535533905932738, 28.885991119621014, 0.2722854801558865]\n",
      "Parameters: L, t, E_plus, E_minus, eta, nu, B\n",
      "[611, 4513.29322846401, 1.0141922225789335, -0.3380640741929778, 0.3535533905932738, 28.885991119621014, 0.28079440141075795]\n",
      "Parameters: L, t, E_plus, E_minus, eta, nu, B\n",
      "[611, 4513.29322846401, 1.0141922225789335, -0.3380640741929778, 0.3535533905932738, 28.885991119621014, 0.28930332266562936]\n",
      "Parameters: L, t, E_plus, E_minus, eta, nu, B\n",
      "[611, 4513.29322846401, 1.0141922225789335, -0.3380640741929778, 0.3535533905932738, 28.885991119621014, 0.2978122439205009]\n",
      "Parameters: L, t, E_plus, E_minus, eta, nu, B\n",
      "[611, 4513.29322846401, 1.0141922225789335, -0.3380640741929778, 0.3535533905932738, 28.885991119621014, 0.3063211651753723]\n",
      "Parameters: L, t, E_plus, E_minus, eta, nu, B\n",
      "[611, 4513.29322846401, 1.0141922225789335, -0.3380640741929778, 0.3535533905932738, 28.885991119621014, 0.3148300864302437]\n",
      "Parameters: L, t, E_plus, E_minus, eta, nu, B\n",
      "[611, 4513.29322846401, 1.0141922225789335, -0.3380640741929778, 0.3535533905932738, 28.885991119621014, 0.3233390076851152]\n",
      "Parameters: L, t, E_plus, E_minus, eta, nu, B\n",
      "[611, 4513.29322846401, 1.0141922225789335, -0.3380640741929778, 0.3535533905932738, 28.885991119621014, 0.33184792893998666]\n",
      "Parameters: L, t, E_plus, E_minus, eta, nu, B\n",
      "[611, 4513.29322846401, 1.0141922225789335, -0.3380640741929778, 0.3535533905932738, 28.885991119621014, 0.3403568501948581]\n",
      "Parameters: L, t, E_plus, E_minus, eta, nu, B\n",
      "[611, 4513.29322846401, 1.0141922225789335, -0.3380640741929778, 0.3535533905932738, 28.885991119621014, 0.34886577144972963]\n",
      "Parameters: L, t, E_plus, E_minus, eta, nu, B\n",
      "[611, 4513.29322846401, 1.0141922225789335, -0.3380640741929778, 0.3535533905932738, 28.885991119621014, 0.35737469270460104]\n",
      "Parameters: L, t, E_plus, E_minus, eta, nu, B\n",
      "[611, 4513.29322846401, 1.0141922225789335, -0.3380640741929778, 0.3535533905932738, 28.885991119621014, 0.3658836139594724]\n",
      "Parameters: L, t, E_plus, E_minus, eta, nu, B\n",
      "[611, 4513.29322846401, 1.0141922225789335, -0.3380640741929778, 0.3535533905932738, 28.885991119621014, 0.3743925352143439]\n",
      "Parameters: L, t, E_plus, E_minus, eta, nu, B\n",
      "[611, 4513.29322846401, 1.0141922225789335, -0.3380640741929778, 0.3535533905932738, 28.885991119621014, 0.3829014564692154]\n",
      "Parameters: L, t, E_plus, E_minus, eta, nu, B\n",
      "[611, 4513.29322846401, 1.0141922225789335, -0.3380640741929778, 0.3535533905932738, 28.885991119621014, 0.3914103777240868]\n",
      "Parameters: L, t, E_plus, E_minus, eta, nu, B\n",
      "[611, 4513.29322846401, 1.0141922225789335, -0.3380640741929778, 0.3535533905932738, 28.885991119621014, 0.3999192989789583]\n",
      "Parameters: L, t, E_plus, E_minus, eta, nu, B\n",
      "[611, 4513.29322846401, 1.0141922225789335, -0.3380640741929778, 0.3535533905932738, 28.885991119621014, 0.40842822023382974]\n",
      "Parameters: L, t, E_plus, E_minus, eta, nu, B\n",
      "[611, 4513.29322846401, 1.0141922225789335, -0.3380640741929778, 0.3535533905932738, 28.885991119621014, 0.41693714148870115]\n",
      "Parameters: L, t, E_plus, E_minus, eta, nu, B\n",
      "[611, 4513.29322846401, 1.0141922225789335, -0.3380640741929778, 0.3535533905932738, 28.885991119621014, 0.4254460627435726]\n",
      "Parameters: L, t, E_plus, E_minus, eta, nu, B\n",
      "[611, 4513.29322846401, 1.0141922225789335, -0.3380640741929778, 0.3535533905932738, 28.885991119621014, 0.4339549839984441]\n",
      "Parameters: L, t, E_plus, E_minus, eta, nu, B\n",
      "[611, 4513.29322846401, 1.0141922225789335, -0.3380640741929778, 0.3535533905932738, 28.885991119621014, 0.44246390525331547]\n",
      "Parameters: L, t, E_plus, E_minus, eta, nu, B\n",
      "[611, 4513.29322846401, 1.0141922225789335, -0.3380640741929778, 0.3535533905932738, 28.885991119621014, 0.450972826508187]\n",
      "Parameters: L, t, E_plus, E_minus, eta, nu, B\n",
      "[611, 4513.29322846401, 1.0141922225789335, -0.3380640741929778, 0.3535533905932738, 28.885991119621014, 0.4594817477630585]\n",
      "Parameters: L, t, E_plus, E_minus, eta, nu, B\n",
      "[611, 4513.29322846401, 1.0141922225789335, -0.3380640741929778, 0.3535533905932738, 28.885991119621014, 0.46799066901792996]\n",
      "Parameters: L, t, E_plus, E_minus, eta, nu, B\n",
      "[611, 4513.29322846401, 1.0141922225789335, -0.3380640741929778, 0.3535533905932738, 28.885991119621014, 0.47649959027280137]\n",
      "Parameters: L, t, E_plus, E_minus, eta, nu, B\n",
      "[611, 4513.29322846401, 1.0141922225789335, -0.3380640741929778, 0.3535533905932738, 28.885991119621014, 0.4850085115276729]\n",
      "Parameters: L, t, E_plus, E_minus, eta, nu, B\n",
      "[611, 4513.29322846401, 1.0141922225789335, -0.3380640741929778, 0.3535533905932738, 28.885991119621014, 0.49351743278254423]\n",
      "Parameters: L, t, E_plus, E_minus, eta, nu, B\n",
      "[611, 4513.29322846401, 1.0141922225789335, -0.3380640741929778, 0.3535533905932738, 28.885991119621014, 0.5020263540374156]\n",
      "Parameters: L, t, E_plus, E_minus, eta, nu, B\n",
      "[611, 4513.29322846401, 1.0141922225789335, -0.3380640741929778, 0.3535533905932738, 28.885991119621014, 0.5105352752922871]\n",
      "Parameters: L, t, E_plus, E_minus, eta, nu, B\n",
      "[611, 4513.29322846401, 1.0141922225789335, -0.3380640741929778, 0.3535533905932738, 28.885991119621014, 0.5190441965471586]\n",
      "Parameters: L, t, E_plus, E_minus, eta, nu, B\n",
      "[611, 4513.29322846401, 1.0141922225789335, -0.3380640741929778, 0.3535533905932738, 28.885991119621014, 0.5275531178020301]\n",
      "Parameters: L, t, E_plus, E_minus, eta, nu, B\n",
      "[611, 4513.29322846401, 1.0141922225789335, -0.3380640741929778, 0.3535533905932738, 28.885991119621014, 0.5360620390569015]\n",
      "Parameters: L, t, E_plus, E_minus, eta, nu, B\n",
      "[611, 4513.29322846401, 1.0141922225789335, -0.3380640741929778, 0.3535533905932738, 28.885991119621014, 0.544570960311773]\n",
      "Parameters: L, t, E_plus, E_minus, eta, nu, B\n",
      "[611, 4513.29322846401, 1.0141922225789335, -0.3380640741929778, 0.3535533905932738, 28.885991119621014, 0.5530798815666444]\n",
      "Parameters: L, t, E_plus, E_minus, eta, nu, B\n",
      "[611, 4513.29322846401, 1.0141922225789335, -0.3380640741929778, 0.3535533905932738, 28.885991119621014, 0.5615888028215159]\n",
      "Parameters: L, t, E_plus, E_minus, eta, nu, B\n",
      "[611, 4513.29322846401, 1.0141922225789335, -0.3380640741929778, 0.3535533905932738, 28.885991119621014, 0.5700977240763874]\n",
      "Parameters: L, t, E_plus, E_minus, eta, nu, B\n",
      "[611, 4513.29322846401, 1.0141922225789335, -0.3380640741929778, 0.3535533905932738, 28.885991119621014, 0.5786066453312587]\n",
      "Parameters: L, t, E_plus, E_minus, eta, nu, B\n",
      "[611, 4513.29322846401, 1.0141922225789335, -0.3380640741929778, 0.3535533905932738, 28.885991119621014, 0.5871155665861303]\n",
      "Parameters: L, t, E_plus, E_minus, eta, nu, B\n",
      "[611, 4513.29322846401, 1.0141922225789335, -0.3380640741929778, 0.3535533905932738, 28.885991119621014, 0.5956244878410017]\n",
      "Parameters: L, t, E_plus, E_minus, eta, nu, B\n",
      "[611, 4513.29322846401, 1.0141922225789335, -0.3380640741929778, 0.3535533905932738, 28.885991119621014, 0.6041334090958731]\n",
      "Parameters: L, t, E_plus, E_minus, eta, nu, B\n",
      "[611, 4513.29322846401, 1.0141922225789335, -0.3380640741929778, 0.3535533905932738, 28.885991119621014, 0.6126423303507446]\n",
      "Parameters: L, t, E_plus, E_minus, eta, nu, B\n",
      "[611, 4513.29322846401, 1.0141922225789335, -0.3380640741929778, 0.3535533905932738, 28.885991119621014, 0.621151251605616]\n",
      "Parameters: L, t, E_plus, E_minus, eta, nu, B\n",
      "[611, 4513.29322846401, 1.0141922225789335, -0.3380640741929778, 0.3535533905932738, 28.885991119621014, 0.6296601728604874]\n",
      "Parameters: L, t, E_plus, E_minus, eta, nu, B\n",
      "[611, 4513.29322846401, 1.0141922225789335, -0.3380640741929778, 0.3535533905932738, 28.885991119621014, 0.6381690941153589]\n",
      "Parameters: L, t, E_plus, E_minus, eta, nu, B\n",
      "[611, 4513.29322846401, 1.0141922225789335, -0.3380640741929778, 0.3535533905932738, 28.885991119621014, 0.6466780153702304]\n",
      "Parameters: L, t, E_plus, E_minus, eta, nu, B\n",
      "[611, 4513.29322846401, 1.0141922225789335, -0.3380640741929778, 0.3535533905932738, 28.885991119621014, 0.6551869366251017]\n",
      "Parameters: L, t, E_plus, E_minus, eta, nu, B\n",
      "[611, 4513.29322846401, 1.0141922225789335, -0.3380640741929778, 0.3535533905932738, 28.885991119621014, 0.6636958578799733]\n",
      "Parameters: L, t, E_plus, E_minus, eta, nu, B\n",
      "[611, 4513.29322846401, 1.0141922225789335, -0.3380640741929778, 0.3535533905932738, 28.885991119621014, 0.6722047791348448]\n",
      "Parameters: L, t, E_plus, E_minus, eta, nu, B\n",
      "[611, 4513.29322846401, 1.0141922225789335, -0.3380640741929778, 0.3535533905932738, 28.885991119621014, 0.6807137003897162]\n",
      "Parameters: L, t, E_plus, E_minus, eta, nu, B\n",
      "[611, 4513.29322846401, 1.0141922225789335, -0.3380640741929778, 0.3535533905932738, 28.885991119621014, 0.6892226216445878]\n",
      "Parameters: L, t, E_plus, E_minus, eta, nu, B\n",
      "[611, 4513.29322846401, 1.0141922225789335, -0.3380640741929778, 0.3535533905932738, 28.885991119621014, 0.6977315428994593]\n",
      "Parameters: L, t, E_plus, E_minus, eta, nu, B\n",
      "[611, 4513.29322846401, 1.0141922225789335, -0.3380640741929778, 0.3535533905932738, 28.885991119621014, 0.7062404641543305]\n",
      "Parameters: L, t, E_plus, E_minus, eta, nu, B\n",
      "[611, 4513.29322846401, 1.0141922225789335, -0.3380640741929778, 0.3535533905932738, 28.885991119621014, 0.7147493854092021]\n",
      "Parameters: L, t, E_plus, E_minus, eta, nu, B\n",
      "[611, 4513.29322846401, 1.0141922225789335, -0.3380640741929778, 0.3535533905932738, 28.885991119621014, 0.7232583066640735]\n",
      "Parameters: L, t, E_plus, E_minus, eta, nu, B\n",
      "[611, 4513.29322846401, 1.0141922225789335, -0.3380640741929778, 0.3535533905932738, 28.885991119621014, 0.7317672279189448]\n",
      "Parameters: L, t, E_plus, E_minus, eta, nu, B\n",
      "[611, 4513.29322846401, 1.0141922225789335, -0.3380640741929778, 0.3535533905932738, 28.885991119621014, 0.7402761491738163]\n",
      "Parameters: L, t, E_plus, E_minus, eta, nu, B\n",
      "[611, 4513.29322846401, 1.0141922225789335, -0.3380640741929778, 0.3535533905932738, 28.885991119621014, 0.7487850704286878]\n",
      "Parameters: L, t, E_plus, E_minus, eta, nu, B\n",
      "[611, 4513.29322846401, 1.0141922225789335, -0.3380640741929778, 0.3535533905932738, 28.885991119621014, 0.7572939916835593]\n",
      "Parameters: L, t, E_plus, E_minus, eta, nu, B\n",
      "[611, 4513.29322846401, 1.0141922225789335, -0.3380640741929778, 0.3535533905932738, 28.885991119621014, 0.7658029129384308]\n",
      "Parameters: L, t, E_plus, E_minus, eta, nu, B\n",
      "[611, 4513.29322846401, 1.0141922225789335, -0.3380640741929778, 0.3535533905932738, 28.885991119621014, 0.7743118341933023]\n",
      "Parameters: L, t, E_plus, E_minus, eta, nu, B\n",
      "[611, 4513.29322846401, 1.0141922225789335, -0.3380640741929778, 0.3535533905932738, 28.885991119621014, 0.7828207554481736]\n",
      "Parameters: L, t, E_plus, E_minus, eta, nu, B\n",
      "[611, 4513.29322846401, 1.0141922225789335, -0.3380640741929778, 0.3535533905932738, 28.885991119621014, 0.7913296767030452]\n",
      "Parameters: L, t, E_plus, E_minus, eta, nu, B\n",
      "[611, 4513.29322846401, 1.0141922225789335, -0.3380640741929778, 0.3535533905932738, 28.885991119621014, 0.7998385979579166]\n",
      "Parameters: L, t, E_plus, E_minus, eta, nu, B\n",
      "[611, 4513.29322846401, 1.0141922225789335, -0.3380640741929778, 0.3535533905932738, 28.885991119621014, 0.808347519212788]\n",
      "Parameters: L, t, E_plus, E_minus, eta, nu, B\n",
      "[611, 4513.29322846401, 1.0141922225789335, -0.3380640741929778, 0.3535533905932738, 28.885991119621014, 0.8168564404676595]\n",
      "Parameters: L, t, E_plus, E_minus, eta, nu, B\n",
      "[611, 4513.29322846401, 1.0141922225789335, -0.3380640741929778, 0.3535533905932738, 28.885991119621014, 0.8253653617225308]\n",
      "Parameters: L, t, E_plus, E_minus, eta, nu, B\n",
      "[611, 4513.29322846401, 1.0141922225789335, -0.3380640741929778, 0.3535533905932738, 28.885991119621014, 0.8338742829774023]\n",
      "Parameters: L, t, E_plus, E_minus, eta, nu, B\n",
      "[611, 4513.29322846401, 1.0141922225789335, -0.3380640741929778, 0.3535533905932738, 28.885991119621014, 0.8423832042322739]\n",
      "Parameters: L, t, E_plus, E_minus, eta, nu, B\n",
      "[611, 4513.29322846401, 1.0141922225789335, -0.3380640741929778, 0.3535533905932738, 28.885991119621014, 0.8508921254871452]\n",
      "done\n"
     ]
    }
   ],
   "source": [
    "gap_energies_B1 = []\n",
    "gap_kF_B1 = []\n",
    "gap_energies_B2 = []\n",
    "gap_kF_B2 = []\n",
    "for B in np.linspace(0, 2, 101):\n",
    "    syst = make_system_mixed(B_Tesla=B, mu=0.887)\n",
    "    bands=kwant.physics.Bands(syst.leads[1])\n",
    "    momenta=np.linspace(-np.pi,np.pi,100001)\n",
    "    energies=[bands(k) for k in momenta]\n",
    "    x=np.array(energies)\n",
    "    en=(x)\n",
    "    local_minima1 = signal.argrelextrema(en[:,4], np.less)\n",
    "    local_gap1 = en[local_minima1, 4]\n",
    "    local_minima2 = signal.argrelextrema(en[:,5], np.less)\n",
    "    local_gap2 = en[local_minima2, 5]\n",
    "    local_kF1 = np.linspace(-np.pi,np.pi,100001)[local_minima1]\n",
    "    local_kF2 = np.linspace(-np.pi,np.pi,100001)[local_minima2]\n",
    "    gap_energies_B1.append(local_gap1)\n",
    "    gap_kF_B1.append(local_kF1)\n",
    "    gap_energies_B2.append(local_gap2)\n",
    "    gap_kF_B2.append(local_kF2)\n",
    "print('done')"
   ]
  },
  {
   "cell_type": "code",
   "execution_count": 36,
   "id": "495a17b0-7110-43aa-a9b1-5a4e7c7e2966",
   "metadata": {},
   "outputs": [
    {
     "data": {
      "text/plain": [
       "0.1820006266906846"
      ]
     },
     "execution_count": 36,
     "metadata": {},
     "output_type": "execute_result"
    }
   ],
   "source": [
    "gap_energies_B1[0][0][int(np.floor(len(gap_energies_B1[0][0])/2))]"
   ]
  },
  {
   "cell_type": "code",
   "execution_count": 38,
   "id": "cb368dcd-1767-4046-8137-076853ae9fc4",
   "metadata": {},
   "outputs": [
    {
     "data": {
      "text/plain": [
       "[<matplotlib.lines.Line2D at 0x15e20e760>]"
      ]
     },
     "execution_count": 38,
     "metadata": {},
     "output_type": "execute_result"
    },
    {
     "data": {
      "image/png": "[encoded data removed]",
      "text/plain": [
       "<Figure size 432x288 with 1 Axes>"
      ]
     },
     "metadata": {
      "needs_background": "light"
     },
     "output_type": "display_data"
    }
   ],
   "source": [
    "plt.plot(np.linspace(0, 2, 101), [np.min(gap_energies_B1[i]) for i in range(len(gap_energies_B1))])\n",
    "plt.plot(np.linspace(0, 2, 101), [gap_energies_B1[i][0][int(np.floor(len(gap_energies_B1[i][0])/2))] for i in range(len(gap_energies_B1))])\n",
    "plt.plot(np.linspace(0, 2, 101), [gap_energies_B1[i][0][-1] for i in range(len(gap_energies_B1))])\n",
    "#plt.plot(np.linspace(0, 2, 101), [np.min(gap_energies_B2[i]) for i in range(len(gap_energies_B2))])\n",
    "#plt.plot(np.linspace(0, 2, 101), [gap_energies_B2[i][0][-1] for i in range(len(gap_energies_B2))])\n",
    "#gap_kF_B1\n",
    "#gap_energies_B2"
   ]
  },
  {
   "cell_type": "code",
   "execution_count": 132,
   "id": "0568ef95-0df5-4a6b-91fd-844cb8303caf",
   "metadata": {},
   "outputs": [
    {
     "name": "stdout",
     "output_type": "stream",
     "text": [
      "[array([[0.3843748 , 0.33544679, 0.2785515 , 0.33544679, 0.3843748 ]]), array([[0.38431366, 0.33533963, 0.28706042, 0.33533963, 0.38431366]]), array([[0.38413027, 0.3350184 , 0.29556934, 0.3350184 , 0.38413027]]), array([[0.38382477, 0.33448381, 0.30407826, 0.33448381, 0.38382477]]), array([[0.38403153, 0.33373704, 0.31258718, 0.33373704, 0.38403153]]), array([[0.38432634, 0.33277975, 0.32109611, 0.33277975, 0.38432634]]), array([[0.38400215, 0.33161403, 0.32960503, 0.33161403, 0.38400215]]), array([[0.38331514, 0.33046172, 0.33811395, 0.33046172, 0.38331514]]), array([[0.38381238, 0.328869  , 0.34662287, 0.328869  , 0.38381238]]), array([[0.38316064, 0.32707446, 0.35513179, 0.32707446, 0.38316064]]), array([[0.3831869 , 0.32508188, 0.36364071, 0.32508188, 0.3831869 ]]), array([[0.38269507, 0.32289531, 0.37214963, 0.32289531, 0.38269507]]), array([[0.38281608, 0.32051914, 0.38065855, 0.32051914, 0.38281608]]), array([[0.38183356, 0.31806577, 0.31806577, 0.38183356]]), array([[0.38226943, 0.31529515, 0.31529515, 0.38226943]]), array([[0.38178632, 0.31242026, 0.31242026, 0.38178632]]), array([[0.38091064, 0.30926962, 0.30926962, 0.38091064]]), array([[0.38108975, 0.30598134, 0.30598134, 0.38108975]]), array([[0.38125979, 0.30246792, 0.30246792, 0.38125979]]), array([[0.38057617, 0.29877791, 0.29877791, 0.38057617]]), array([[0.37989829, 0.29486762, 0.29486762, 0.37989829]]), array([[0.37926007, 0.29073688, 0.29073688, 0.37926007]]), array([[0.3791338 , 0.28637966, 0.28637966, 0.3791338 ]]), array([[0.37903216, 0.28178466, 0.28178466, 0.37903216]]), array([[0.37889156, 0.27694912, 0.27694912, 0.37889156]]), array([[0.37871407, 0.27185841, 0.27185841, 0.37871407]]), array([[0.37850174, 0.26649967, 0.26649967, 0.37850174]]), array([[0.37825652, 0.26085483, 0.26085483, 0.37825652]]), array([[0.37798034, 0.2549005 , 0.2549005 , 0.37798034]]), array([[0.37767506, 0.24860423, 0.24860423, 0.37767506]]), array([[0.3773425, 0.2419219, 0.2419219, 0.3773425]]), array([[0.37698442, 0.23479078, 0.23479078, 0.37698442]]), array([[0.37660254, 0.2271167 , 0.2271167 , 0.37660254]]), array([[0.37619852, 0.21879285, 0.37619852]]), array([[0.37577397, 0.21028393, 0.37577397]]), array([[0.37533046, 0.20177501, 0.37533046]]), array([[0.3748695 , 0.19326609, 0.3748695 ]]), array([[0.37439257, 0.18475716, 0.37439257]]), array([[0.37390111, 0.17624824, 0.37390111]]), array([[0.37339648, 0.16773932, 0.37339648]]), array([[0.37330389, 0.1592304 , 0.37330389]]), array([[0.37323675, 0.15072148, 0.37323675]]), array([[0.3731863 , 0.14221256, 0.3731863 ]]), array([[0.37315145, 0.13370364, 0.37315145]]), array([[0.37313113, 0.12519472, 0.37313113]]), array([[0.37312427, 0.11668579, 0.37312427]]), array([[0.37303678, 0.11285888, 0.37303678]]), array([[0.37251772, 0.1213678 , 0.37251772]]), array([[0.37199612, 0.12987672, 0.37199612]]), array([[0.37147299, 0.13838564, 0.37147299]]), array([[0.37094929, 0.14689456, 0.37094929]]), array([[0.37042597, 0.15540348, 0.37042597]]), array([[0.36995029, 0.16391241, 0.36995029]]), array([[0.36996859, 0.17242133, 0.36996859]]), array([[0.36999143, 0.18093025, 0.36999143]]), array([[0.37001791, 0.18943917, 0.37001791]]), array([[0.37004717, 0.19794809, 0.37004717]]), array([[0.37007836, 0.20645701, 0.37007836]]), array([[0.37011065, 0.21496593, 0.37011065]]), array([[0.37014323, 0.22347485, 0.37014323]]), array([[0.36997913, 0.23198378, 0.36997913]]), array([[0.36955042, 0.2404927 , 0.36955042]]), array([[0.36913064, 0.24900162, 0.36913064]]), array([[0.36872045, 0.25751054, 0.36872045]]), array([[0.36832047, 0.26601946, 0.36832047]]), array([[0.36793131, 0.27452838, 0.36793131]]), array([[0.36755356, 0.2830373 , 0.36755356]]), array([[0.3671878 , 0.29154622, 0.3671878 ]]), array([[0.36683458, 0.30005515, 0.36683458]]), array([[0.36649445, 0.30856407, 0.36649445]]), array([[0.36616793, 0.31707299, 0.36616793]]), array([[0.36596713, 0.32558191, 0.36596713]]), array([[0.3658913 , 0.33409083, 0.3658913 ]]), array([[0.3658062 , 0.34259975, 0.3658062 ]]), array([[0.36571124, 0.35110867, 0.36571124]]), array([[0.36560587, 0.35961759, 0.36560587]]), array([[0.36548956, 0.36812652, 0.36548956]]), array([[0.36536178, 0.37663544, 0.36536178]]), array([[0.36522201, 0.38514436, 0.36522201]]), array([[0.36506976, 0.39365328, 0.36506976]]), array([[0.36490453, 0.4021622 , 0.36490453]]), array([[0.36472585, 0.41067112, 0.36472585]]), array([[0.36453326, 0.41918004, 0.36453326]]), array([[0.3643263 , 0.42768896, 0.3643263 ]]), array([[0.36410454, 0.43619789, 0.36410454]]), array([[0.36386755, 0.44470681, 0.36386755]]), array([[0.3636149 , 0.45321573, 0.3636149 ]]), array([[0.36334619, 0.46172465, 0.36334619]]), array([[0.36313462, 0.47023357, 0.36313462]]), array([[0.36314895, 0.47874249, 0.36314895]]), array([[0.3631848 , 0.48725141, 0.3631848 ]]), array([[0.36324246, 0.49576033, 0.36324246]]), array([[0.36332222, 0.50426926, 0.36332222]]), array([[0.36342436, 0.51277818, 0.36342436]]), array([[0.36354915, 0.5212871 , 0.36354915]]), array([[0.36369685, 0.52979602, 0.36369685]]), array([[0.36386774, 0.53830494, 0.36386774]]), array([[0.36406207, 0.54681386, 0.36406207]]), array([[0.36428009, 0.55532278, 0.36428009]]), array([[0.36429683, 0.5638317 , 0.36429683]]), array([[0.36382956, 0.57234063, 0.36382956]])]\n"
     ]
    }
   ],
   "source": [
    "#print(gap_energies_B1)\n",
    "print(gap_energies_B2)"
   ]
  },
  {
   "cell_type": "code",
   "execution_count": 100,
   "id": "76ac8553-0c4d-4fb1-b2a4-4feab69dfef9",
   "metadata": {},
   "outputs": [
    {
     "name": "stdout",
     "output_type": "stream",
     "text": [
      "[array([-1.75929189e-02, -4.44089210e-16,  1.75929189e-02]), array([-1.75929189e-02, -4.44089210e-16,  1.75929189e-02]), array([-1.75929189e-02, -4.44089210e-16,  1.75929189e-02]), array([-1.76557507e-02, -4.44089210e-16,  1.76557507e-02]), array([-1.76557507e-02, -4.44089210e-16,  1.76557507e-02]), array([-1.76557507e-02, -4.44089210e-16,  1.76557507e-02]), array([-1.77185826e-02, -4.44089210e-16,  1.77185826e-02]), array([-1.77185826e-02, -4.44089210e-16,  1.77185826e-02]), array([-0.01771858, -0.00100531,  0.00100531,  0.01771858]), array([-0.01778141, -0.00144513,  0.00144513,  0.01778141]), array([-0.01778141, -0.00182212,  0.00182212,  0.01778141]), array([-0.01784425, -0.00207345,  0.00207345,  0.01784425]), array([-0.01784425, -0.00226195,  0.00226195,  0.01784425]), array([-0.01790708, -0.00245044,  0.00245044,  0.01790708]), array([-0.01790708, -0.00257611,  0.00257611,  0.01790708])]\n",
      "[array([[0.15153202, 0.0185385 , 0.15153202]]), array([[0.15093253, 0.01346546, 0.15093253]]), array([[0.15034745, 0.00822209, 0.15034745]]), array([[0.1497618 , 0.00281463, 0.1497618 ]]), array([[0.14911208, 0.00275082, 0.14911208]]), array([[0.14848924, 0.00846828, 0.14848924]]), array([[0.14784135, 0.01433193, 0.14784135]]), array([[0.1471656 , 0.02033613, 0.1471656 ]]), array([[0.14653078, 0.02570185, 0.02570185, 0.14653078]]), array([[0.14580987, 0.02966488, 0.02966488, 0.14580987]]), array([[0.14513649, 0.03274123, 0.03274123, 0.14513649]]), array([[0.1444222 , 0.03517513, 0.03517513, 0.1444222 ]]), array([[0.14371773, 0.03711374, 0.03711374, 0.14371773]]), array([[0.14300444, 0.03864745, 0.03864745, 0.14300444]]), array([[0.14227717, 0.03984154, 0.03984154, 0.14227717]])]\n",
      "[array([-1.38858395e-02, -4.44089210e-16,  1.38858395e-02]), array([-1.39486714e-02, -4.44089210e-16,  1.39486714e-02]), array([-1.39486714e-02, -4.44089210e-16,  1.39486714e-02]), array([-1.39486714e-02, -4.44089210e-16,  1.39486714e-02]), array([-1.40115032e-02, -4.44089210e-16,  1.40115032e-02]), array([-1.40115032e-02, -4.44089210e-16,  1.40115032e-02]), array([-1.40743351e-02, -4.44089210e-16,  1.40743351e-02]), array([-1.40743351e-02, -4.44089210e-16,  1.40743351e-02]), array([-1.41371669e-02, -4.44089210e-16,  1.41371669e-02]), array([-1.41371669e-02, -4.44089210e-16,  1.41371669e-02]), array([-1.41999988e-02, -4.44089210e-16,  1.41999988e-02]), array([-1.41999988e-02, -4.44089210e-16,  1.41999988e-02]), array([-1.42628306e-02, -4.44089210e-16,  1.42628306e-02]), array([-1.42628306e-02, -4.44089210e-16,  1.42628306e-02]), array([-1.43256625e-02, -4.44089210e-16,  1.43256625e-02])]\n",
      "[array([[0.43194443, 0.24808619, 0.43194443]]), array([[0.43535243, 0.24361899, 0.43535243]]), array([[0.43870683, 0.23897914, 0.43870683]]), array([[0.44212497, 0.23417108, 0.44212497]]), array([[0.4454884 , 0.22919935, 0.4454884 ]]), array([[0.44888453, 0.22406849, 0.44888453]]), array([[0.45225883, 0.21878311, 0.45225883]]), array([[0.45563241, 0.2133478 , 0.45563241]]), array([[0.45899504, 0.20776715, 0.45899504]]), array([[0.46234639, 0.20204572, 0.46234639]]), array([[0.46567931, 0.19618803, 0.46567931]]), array([[0.46900944, 0.19019854, 0.46900944]]), array([[0.472298  , 0.18408165, 0.472298  ]]), array([[0.47560853, 0.17784169, 0.47560853]]), array([[0.47884079, 0.17148287, 0.47884079]])]\n",
      "[0.15153202 0.0185385  0.15153202]\n"
     ]
    }
   ],
   "source": [
    "print(gap_kF_eta1)\n",
    "print(gap_energies_eta1)\n",
    "print(gap_kF_eta2)\n",
    "print(gap_energies_eta2)\n",
    "print(gap_energies_eta1[0].flatten())"
   ]
  },
  {
   "cell_type": "code",
   "execution_count": 40,
   "id": "d2eb08e0-f762-468d-8e94-ea35f641a638",
   "metadata": {},
   "outputs": [
    {
     "data": {
      "text/plain": [
       "<matplotlib.lines.Line2D at 0x159231730>"
      ]
     },
     "execution_count": 40,
     "metadata": {},
     "output_type": "execute_result"
    },
    {
     "data": {
      "image/png": "[encoded data removed]",
      "text/plain": [
       "<Figure size 432x288 with 1 Axes>"
      ]
     },
     "metadata": {
      "needs_background": "light"
     },
     "output_type": "display_data"
    }
   ],
   "source": [
    "plt.plot(np.linspace(0, 2, 51), gap_energies)\n",
    "#plt.ylim(0, 0)\n",
    "plt.axhline(0)"
   ]
  },
  {
   "cell_type": "code",
   "execution_count": 76,
   "id": "4c367d79-25eb-48ef-bec1-f73ee8897d9f",
   "metadata": {},
   "outputs": [
    {
     "data": {
      "text/plain": [
       "array([   0., 1000.])"
      ]
     },
     "execution_count": 76,
     "metadata": {},
     "output_type": "execute_result"
    }
   ],
   "source": [
    "np.linspace(0, 1, 2)*1000"
   ]
  },
  {
   "cell_type": "code",
   "execution_count": 23,
   "id": "3c62133d-65f1-4905-815b-bff29498b0fe",
   "metadata": {},
   "outputs": [
    {
     "name": "stdout",
     "output_type": "stream",
     "text": [
      "None\n"
     ]
    }
   ],
   "source": []
  },
  {
   "cell_type": "markdown",
   "id": "e1d7e3db-80d8-434a-874d-0ff5fc689852",
   "metadata": {},
   "source": [
    "# Validation"
   ]
  },
  {
   "cell_type": "markdown",
   "id": "440756b9-94b6-47d9-b062-d50137a6f5c1",
   "metadata": {},
   "source": [
    "## ABS spectra in Tosi"
   ]
  },
  {
   "cell_type": "code",
   "execution_count": 24,
   "id": "7f4fbb15-30ff-4820-91e5-2778e9564354",
   "metadata": {},
   "outputs": [],
   "source": [
    "def phi_scan(phi_array=[0, 4.*np.pi], L_A=3700., W=1400., a=6.0583*10, m=0.023, alpha=350., mu=0.887, U_0=0., delta=0.182, B_Tesla=0., g=14.7, salt='chizhang', eta=None):\n",
    "    energy_arrays=[]\n",
    "    wavefunc_arrays=[]\n",
    "    for i in np.linspace(phi_array[0], phi_array[1], 41):\n",
    "        print(i)\n",
    "        syst = make_system_mixed(L_A=L_A, W=W, a=a, m=m, alpha=alpha, mu=mu, U_0=U_0, delta=delta, B_Tesla=B_Tesla, g=g, phi=i, salt='chizhang', eta=eta)\n",
    "        energies, wavefunctions = find_boundstates(syst, -1.1*delta, 1.1*delta, rtol=1e-2*delta)\n",
    "        energy_arrays.append(energies)\n",
    "        wavefunc_arrays.append(wavefunctions)\n",
    "        print(energies)\n",
    "    return energy_arrays, wavefunc_arrays"
   ]
  },
  {
   "cell_type": "code",
   "execution_count": 123,
   "id": "8d87e6f4-3911-4c2f-9007-0b584abf39c9",
   "metadata": {},
   "outputs": [],
   "source": [
    "def B_scan(phi=0, L_A=3700., W=1400., a=6.0583*10, m=0.023, alpha=350., mu=0.887, U_0=0., delta=0.182, B_Tesla_array=[0., 2], g=14.7, salt='chizhang', eta=None):\n",
    "    energy_arrays=[]\n",
    "    wavefunc_arrays=[]\n",
    "    for i in np.linspace(B_Tesla_array[0], B_Tesla_array[1]):\n",
    "        print(i)\n",
    "        syst = make_system_mixed(L_A=L_A, W=W, a=a, m=m, alpha=alpha, mu=mu, U_0=U_0, delta=delta, B_Tesla=i, g=g, phi=phi, salt='chizhang', eta=eta)\n",
    "        energies, wavefunctions = find_boundstates(syst, -1.1*delta, 1.1*delta, rtol=1e-2*delta)\n",
    "        energy_arrays.append(energies)\n",
    "        wavefunc_arrays.append(wavefunctions)\n",
    "        print(energies)\n",
    "    return energy_arrays, wavefunc_arrays"
   ]
  },
  {
   "cell_type": "code",
   "execution_count": null,
   "id": "a6b0fe3b-ad06-46f4-b6f9-90781638c1ec",
   "metadata": {},
   "outputs": [],
   "source": [
    "e_array1, psi_array1 = phi_scan()"
   ]
  },
  {
   "cell_type": "code",
   "execution_count": null,
   "id": "37465863-01c4-446d-b994-21da66e378b9",
   "metadata": {},
   "outputs": [],
   "source": [
    "e_array1prime, psi_array1prime = phi_scan(B_Tesla=2.1283060540757397)"
   ]
  },
  {
   "cell_type": "code",
   "execution_count": null,
   "id": "e5a8ba37-efb1-4769-915b-b726d12db4a9",
   "metadata": {},
   "outputs": [],
   "source": [
    "e_array2, psi_array2 = phi_scan()"
   ]
  },
  {
   "cell_type": "code",
   "execution_count": null,
   "id": "3d44b6fc-d39b-4c88-baaa-ae6adee9c808",
   "metadata": {},
   "outputs": [],
   "source": [
    "e_array3, psi_array3 = phi_scan()"
   ]
  },
  {
   "cell_type": "code",
   "execution_count": null,
   "id": "c6b30b85-4158-4882-933b-9c586682ec76",
   "metadata": {},
   "outputs": [],
   "source": [
    "e_array4, psi_array4 = phi_scan(W=1e9)"
   ]
  },
  {
   "cell_type": "code",
   "execution_count": null,
   "id": "9948c048-6bb2-42d3-bfae-e241f4e32142",
   "metadata": {},
   "outputs": [],
   "source": [
    "e_array5, psi_array5 = phi_scan(B_Tesla=1.1)"
   ]
  },
  {
   "cell_type": "code",
   "execution_count": null,
   "id": "5ba99651-f930-4c65-be1d-2d3a7c8bfff1",
   "metadata": {},
   "outputs": [],
   "source": [
    "e_array6, psi_array6 = phi_scan(B_Tesla=1.35)"
   ]
  },
  {
   "cell_type": "code",
   "execution_count": null,
   "id": "5dd411ff-41c2-4b0e-b53a-ea9262c4c441",
   "metadata": {},
   "outputs": [],
   "source": [
    "e_array7, psi_array7 = phi_scan(B_Tesla=1.35, U_0=0.)"
   ]
  },
  {
   "cell_type": "code",
   "execution_count": null,
   "id": "783f4256-f7f4-41b6-894a-56af3916111a",
   "metadata": {},
   "outputs": [],
   "source": [
    "e_array8, psi_array8 = phi_scan(B_Tesla=1.35, U_0=0., mu=1.8)"
   ]
  },
  {
   "cell_type": "code",
   "execution_count": null,
   "id": "8b6a072e-1c54-4bf2-8e17-9973ef2dbd86",
   "metadata": {},
   "outputs": [],
   "source": [
    "e_array9, psi_array9 = phi_scan(B_Tesla=1.35, U_0=5., mu=1.8)"
   ]
  },
  {
   "cell_type": "code",
   "execution_count": null,
   "id": "2b6301b0-012a-422d-bfe0-e832b3573cc9",
   "metadata": {},
   "outputs": [],
   "source": [
    "e_array10, psi_array10 = B_scan()"
   ]
  },
  {
   "cell_type": "code",
   "execution_count": null,
   "id": "f4cd42d1-1c85-419a-bbb9-9d1f58785940",
   "metadata": {},
   "outputs": [],
   "source": [
    "e_array11, psi_array11 = phi_scan(B_Tesla=1.35, U_0=0.)"
   ]
  },
  {
   "cell_type": "code",
   "execution_count": null,
   "id": "d445aef8-f419-48b0-abcd-6bb00b4b0f3a",
   "metadata": {},
   "outputs": [],
   "source": [
    "e_array12, psi_array12 = phi_scan(B_Tesla=1.35, U_0=5.)"
   ]
  },
  {
   "cell_type": "code",
   "execution_count": null,
   "id": "a7a0dbd7-f0cf-47e1-ae75-efe903886bdb",
   "metadata": {},
   "outputs": [],
   "source": [
    "e_array13, psi_array13 = phi_scan(B_Tesla=1.35, U_0=0.)"
   ]
  },
  {
   "cell_type": "code",
   "execution_count": null,
   "id": "8d302422-f9ff-4127-bfda-5df10285f563",
   "metadata": {},
   "outputs": [],
   "source": [
    "e_array14, psi_array14 = phi_scan(B_Tesla=1.35, U_0=5.)"
   ]
  },
  {
   "cell_type": "code",
   "execution_count": null,
   "id": "8562e757-51bc-438b-831a-d96ac44ef5ff",
   "metadata": {},
   "outputs": [],
   "source": [
    "e_array15, psi_array15 = phi_scan(B_Tesla=1.35, U_0=0.)"
   ]
  },
  {
   "cell_type": "code",
   "execution_count": null,
   "id": "6713a36f-b9b8-4100-b08e-cad05241edf4",
   "metadata": {},
   "outputs": [],
   "source": [
    "e_array16, psi_array16 = phi_scan(B_Tesla=1.35, U_0=5.)"
   ]
  },
  {
   "cell_type": "code",
   "execution_count": null,
   "id": "ca788024-205e-4209-a4fb-ced7f5d27bbe",
   "metadata": {},
   "outputs": [],
   "source": [
    "e_array17, psi_array17 = phi_scan(B_Tesla=1.35, U_0=0., eta=0.3)"
   ]
  },
  {
   "cell_type": "code",
   "execution_count": null,
   "id": "d66c9ead-e03d-4502-938e-b4ee4dfd9a2f",
   "metadata": {},
   "outputs": [],
   "source": [
    "e_array18, psi_array18 = B_scan(eta=0.)"
   ]
  },
  {
   "cell_type": "code",
   "execution_count": null,
   "id": "aecf6da8-abf6-44c5-9493-9cee262da924",
   "metadata": {},
   "outputs": [],
   "source": [
    "e_phi_eta_array = []\n",
    "for eta in np.linspace(0.31, 0.35, 5):\n",
    "    print('eta:')\n",
    "    print(eta)\n",
    "    e_temp, _ = phi_scan(B_Tesla=1.35, U_0=0., eta=eta)\n",
    "    e_phi_eta_array.append(e_temp)"
   ]
  },
  {
   "cell_type": "code",
   "execution_count": null,
   "id": "370ca4e7-76f7-4c7f-9d97-f297ed42d701",
   "metadata": {},
   "outputs": [],
   "source": [
    "e_phi_eta_array2 = []\n",
    "for eta in np.linspace(0.342, 0.348, 4):\n",
    "    print('eta:')\n",
    "    print(eta)\n",
    "    e_temp, _ = phi_scan(B_Tesla=1.35, U_0=0., eta=eta)\n",
    "    e_phi_eta_array2.append(e_temp)"
   ]
  },
  {
   "cell_type": "code",
   "execution_count": null,
   "id": "e0b29fbe-229c-4306-91a2-6f93c68f65d5",
   "metadata": {},
   "outputs": [],
   "source": [
    "e_phi_eta_array3 = []\n",
    "for eta in np.linspace(0.21, 0.29, 9):\n",
    "    print('eta:')\n",
    "    print(eta)\n",
    "    e_temp, _ = phi_scan(B_Tesla=1.35, U_0=0., eta=eta)\n",
    "    e_phi_eta_array3.append(e_temp)"
   ]
  },
  {
   "cell_type": "code",
   "execution_count": null,
   "id": "f78210df-e916-4e21-b71a-0c8d92f916f7",
   "metadata": {},
   "outputs": [],
   "source": [
    "e_phi_U_0_array = []\n",
    "for U_0 in np.linspace(0.1, 1, 10):\n",
    "    print('U_0:')\n",
    "    print(U_0)\n",
    "    e_temp, _ = phi_scan(B_Tesla=1.35, U_0=U_0)\n",
    "    e_phi_U_0_array.append(e_temp)"
   ]
  },
  {
   "cell_type": "code",
   "execution_count": 229,
   "id": "8e716ef5-3e45-4921-96df-8f59b360ec6f",
   "metadata": {},
   "outputs": [
    {
     "name": "stdout",
     "output_type": "stream",
     "text": [
      "26929734.0489628\n",
      "11911877.618126972\n",
      "[84290.6779541  48382.05919565]\n"
     ]
    }
   ],
   "source": [
    "def k_F_given_mu(j, m_star=0.023, W_nm=140, alpha_meVnm=35, a=6.0583e-10, mu_meV=0.887):\n",
    "    def func(k_x):\n",
    "        #print(k_x)\n",
    "        #print(dispersion(k_x, j, a=a, m_star=m_star, W_nm=W_nm, alpha_meVnm=alpha_meVnm)-mu_meV)\n",
    "        return dispersion(k_x, j, a=a, m_star=m_star, W_nm=W_nm, alpha_meVnm=alpha_meVnm)-mu_meV\n",
    "    k_F = op.brentq(func, 0, 0.03)\n",
    "    return k_F/a\n",
    "\n",
    "def v_F_given_mu(m_star=0.023, W_nm=140, alpha_meVnm=35, a=6.0583e-10, mu_meV=0.887):\n",
    "    alpha = alpha_meVnm*eV*1e-12\n",
    "    W = W_nm*1e-9\n",
    "    E_1_perp = (4*hbar**2.)/(m_star*m_e*W**2.)\n",
    "    E_2_perp = (8*hbar**2.)/(m_star*m_e*W**2.)\n",
    "    eta = np.sqrt(2)*alpha/W\n",
    "    \n",
    "    k_F1 = k_F_given_mu(1, m_star=m_star, W_nm=W_nm, alpha_meVnm=alpha_meVnm, a=a, mu_meV=mu_meV)\n",
    "    k_F2 = k_F_given_mu(2, m_star, W_nm, alpha_meVnm, a, mu_meV)\n",
    "    \n",
    "    #print(k_F1-k_F2-2.*m_star*m_e*alpha/hbar**2.)\n",
    "    \n",
    "    v_1 = hbar*k_F1/(m_star*m_e) + (-1)**1*(alpha*((E_1_perp/2.)-(-1)**1*alpha*k_F1))/(hbar*np.sqrt(((E_1_perp/2.)-(-1.)**1*alpha*k_F1)**2. + eta**2.))\n",
    "    v_2 = hbar*k_F2/(m_star*m_e) + (-1)**2*(alpha*((E_1_perp/2.)-(-1)**2*alpha*k_F2))/(hbar*np.sqrt(((E_1_perp/2.)-(-1.)**2*alpha*k_F2)**2. + eta**2.))\n",
    "    \n",
    "    #print(v_1-v_2)\n",
    "    return np.array([v_1, v_2])\n"
   ]
  },
  {
   "cell_type": "code",
   "execution_count": 343,
   "id": "30394ddb-7185-4b69-8283-5d4f8937595d",
   "metadata": {},
   "outputs": [
    {
     "name": "stdout",
     "output_type": "stream",
     "text": [
      "3695.563\n"
     ]
    }
   ],
   "source": [
    "print(61*6.0583*10)"
   ]
  },
  {
   "cell_type": "code",
   "execution_count": null,
   "id": "ccb8297f-961e-4190-be60-45fe870523ca",
   "metadata": {},
   "outputs": [],
   "source": [
    "def lambda_i(j, delta=0.182, L=3700):\n",
    "    delta_0 = delta/1000*eV\n",
    "    L_0 = L*1e-10\n",
    "    v_j = v_F_given_mu()[j-1]\n",
    "    return delta_0*L_0/(hbar*v_j)\n",
    "\n",
    "def transcendental_eq(e, phi, s):\n",
    "    return np.sin(e*lambda_i(1, L=3695.563)-s*phi/2.-np.arccos(e))*np.sin(e*lambda_i(2, L=3695.563)+s*phi/2.-np.arccos(e))\n",
    "\n",
    "def e_given_phi_s(phi, s):\n",
    "    energies = np.linspace(0, 1, 101)\n",
    "    intervals = zip(energies, energies[1:])\n",
    "    candidates = []\n",
    "    for a, b in intervals:\n",
    "        try:\n",
    "            if np.sign(transcendental_eq(a, phi, s)) != np.sign(transcendental_eq(b, phi, s)):\n",
    "                candidate = scipy.optimize.brentq(lambda e: transcendental_eq(e, phi, s), a, b)\n",
    "                candidates.append(candidate)\n",
    "        except RuntimeError: #some problems with lead modes\n",
    "            continue\n",
    "    return candidates\n",
    "\n",
    "e_1 = []\n",
    "e_2 = []\n",
    "for phi in np.linspace(0, 4*np.pi, 101):\n",
    "    e_1.append(e_given_phi_s(phi, -1))\n",
    "    e_2.append(e_given_phi_s(phi, 1))\n",
    "    \n",
    "print(e_1)\n",
    "print(e_2)\n",
    "#print(op.brentq(lambda e: transcendental_eq(e, 4*np.pi*0.04, -1.), 0, 0.55))\n",
    "#print(op.brentq(lambda e: transcendental_eq(e, 4*np.pi*0.04, -1.), 0.55, 1.))\n",
    "plt.plot(np.linspace(0, 1, 101), transcendental_eq(np.linspace(0, 1, 101), 4*np.pi*0.05, -1))\n",
    "plt.axhline(0, color='k', ls=':')"
   ]
  },
  {
   "cell_type": "code",
   "execution_count": 110,
   "id": "6920dc38-247a-410b-92dc-b28badcf4858",
   "metadata": {},
   "outputs": [],
   "source": [
    "def phi_plot(energy_array, gap_energies1, gap_energies2, figure_title, delta=0.182, title=r'$L=3700, W=1400, mu=0.887, delta=0.182, B=0T$'):\n",
    "    ex=[]\n",
    "    ey=[]\n",
    "    \n",
    "    ex1=[]\n",
    "    ey1=[]\n",
    "    ex2=[]\n",
    "    ey2=[]\n",
    "    \n",
    "    phi = np.linspace(0, 4.*np.pi, 41)\n",
    "    phi1 = np.linspace(0, 4.*np.pi, 101)\n",
    "    for i in range(len(energy_array)):\n",
    "        for j in range(len(energy_array[i])):\n",
    "            ex.append(phi[i])\n",
    "            ey.append(energy_array[i][j])\n",
    "    '''for i in range(len(analytic_array[0])):\n",
    "        for j in range(len(analytic_array[0][i])):\n",
    "            ex1.append(phi1[i])\n",
    "            ey1.append(analytic_array[0][i][j])\n",
    "    for i in range(len(analytic_array[1])):\n",
    "        for j in range(len(analytic_array[1][i])):\n",
    "            ex2.append(phi1[i])\n",
    "            ey2.append(analytic_array[1][i][j])'''\n",
    "        \n",
    "    ex = np.array(ex)\n",
    "    ey = np.array(ey)/delta\n",
    "    #plt.axhline(gap/delta, color='r')\n",
    "    #plt.axhline(-gap/delta, color='r')\n",
    "    plt.scatter(ex, ey, s=5)\n",
    "    #plt.scatter(ex1, ey1, s=5, c='orange', marker='_')\n",
    "    #plt.scatter(ex2, ey2, s=5, c='green', marker='_')\n",
    "    #plt.xlim(B_range[0], B_range[1])\n",
    "    plt.xlabel(r'$\\phi$')\n",
    "    plt.ylabel(r'$E/\\Delta$')\n",
    "    plt.xticks(ticks=np.linspace(0, 4.*np.pi, 5), labels=[r'$0$', r'$\\pi$', r'$2\\pi$', r'$3\\pi$', r'$4\\pi$'])\n",
    "    #plt.ylim(-0.25, 0.25)\n",
    "    '''for gap_energy1 in gap_energies1:\n",
    "        plt.axhline(gap_energy1, color='k', ls='--')\n",
    "    for gap_energy2 in gap_energies2:\n",
    "        plt.axhline(gap_energy2, color='g', ls='--')'''\n",
    "    plt.title(title)\n",
    "    #plt.savefig('./subband/'+figure_title, dpi=300)"
   ]
  },
  {
   "cell_type": "code",
   "execution_count": 56,
   "id": "8b3a7606-8c21-43fa-be80-54b9f357a689",
   "metadata": {},
   "outputs": [],
   "source": [
    "def B_plot(energy_array, figure_title, delta=0.182, title=r'$L=3700, W=1400, mu=0.887, delta=0.182, \\phi=0$'):\n",
    "    ex=[]\n",
    "    ey=[]\n",
    "    \n",
    "    ex1=[]\n",
    "    ey1=[]\n",
    "    ex2=[]\n",
    "    ey2=[]\n",
    "    \n",
    "    B = np.linspace(0, 2)\n",
    "    B1 = np.linspace(0, 2)\n",
    "    for i in range(len(energy_array)):\n",
    "        for j in range(len(energy_array[i])):\n",
    "            ex.append(B[i])\n",
    "            ey.append(energy_array[i][j])\n",
    "    '''for i in range(len(analytic_array[0])):\n",
    "        for j in range(len(analytic_array[0][i])):\n",
    "            ex1.append(phi1[i])\n",
    "            ey1.append(analytic_array[0][i][j])\n",
    "    for i in range(len(analytic_array[1])):\n",
    "        for j in range(len(analytic_array[1][i])):\n",
    "            ex2.append(phi1[i])\n",
    "            ey2.append(analytic_array[1][i][j])'''\n",
    "        \n",
    "    ex = np.array(ex)\n",
    "    ey = np.array(ey)/delta\n",
    "    #plt.axhline(gap/delta, color='r')\n",
    "    #plt.axhline(-gap/delta, color='r')\n",
    "    plt.scatter(ex, ey, s=5)\n",
    "    #plt.scatter(ex1, ey1, s=5, c='orange', marker='_')\n",
    "    #plt.scatter(ex2, ey2, s=5, c='green', marker='_')\n",
    "    #plt.xlim(B_range[0], B_range[1])\n",
    "    plt.xlabel(r'$B (T)$')\n",
    "    #plt.ylabel(r'$E/\\Delta$')\n",
    "    #plt.xticks(ticks=np.linspace(0, 4.*np.pi, 5), labels=[r'$0$', r'$\\pi$', r'$2\\pi$', r'$3\\pi$', r'$4\\pi$'])\n",
    "    #plt.ylim(-1.1, 1.1)\n",
    "    plt.title(title)\n",
    "    #plt.savefig('./subband/'+figure_title, dpi=300)"
   ]
  },
  {
   "cell_type": "code",
   "execution_count": null,
   "id": "f9b02a0e-b91b-42f0-913c-6513788c30d6",
   "metadata": {},
   "outputs": [],
   "source": [
    "import pickle\n",
    "import matplotlib.pyplot as plt\n",
    "plt.rcParams.update({'font.size': 22})\n",
    "e_B_replot = pickle.load(open('./subband/Data/B scan', 'rb'))\n",
    "e_B_replot"
   ]
  },
  {
   "cell_type": "code",
   "execution_count": 60,
   "id": "cc195bc4-c9c5-48a0-aa46-c18900e96e91",
   "metadata": {},
   "outputs": [
    {
     "data": {
      "image/png": "[encoded data removed]",
      "text/plain": [
       "<Figure size 432x288 with 1 Axes>"
      ]
     },
     "metadata": {
      "needs_background": "light"
     },
     "output_type": "display_data"
    }
   ],
   "source": [
    "B_plot(e_B_replot, 'B scan (mu=0p887, eta=0)', title='Mixed Subbands')\n",
    "plt.plot(np.linspace(0, 2, 101), np.array([np.min(gap_energies_B1[i]) for i in range(len(gap_energies_B1))])/0.182, c='red', label=r'$\\Delta_{min}$', linestyle='-.', lw=2)\n",
    "plt.plot(np.linspace(0, 2, 101), -np.array([np.min(gap_energies_B1[i]) for i in range(len(gap_energies_B1))])/0.182, c='red', linestyle='-.', lw=2)\n",
    "plt.legend()\n",
    "plt.yticks(ticks=[-1, -0.5, 0, 0.5, 1], labels=[])\n",
    "plt.ylim(-1, 1)\n",
    "plt.savefig('./poster_replots/fig2', dpi=300, bbox_inches='tight')\n",
    "#plt.axvline(B_FP, ls='--', c='g')\n",
    "#plt.axvline(B_FP2, ls='--', c='g')\n",
    "#plt.savefig('./subband/B_scan with FP pts', dpi=300)"
   ]
  },
  {
   "cell_type": "code",
   "execution_count": null,
   "id": "014b54c1-5916-413b-93c5-914e9b673b69",
   "metadata": {},
   "outputs": [],
   "source": [
    "e_phi_trivial_replot = pickle.load(open('./subband/Data/e_array1-really-really-correct', 'rb'))\n",
    "e_phi_trivial_replot"
   ]
  },
  {
   "cell_type": "code",
   "execution_count": 109,
   "id": "b7561d83-49ec-4a36-bcb4-336727ba4e3d",
   "metadata": {},
   "outputs": [
    {
     "data": {
      "image/png": "[encoded data removed]",
      "text/plain": [
       "<Figure size 432x288 with 1 Axes>"
      ]
     },
     "metadata": {
      "needs_background": "light"
     },
     "output_type": "display_data"
    }
   ],
   "source": [
    "arr,waves,etas=pickle.load(open('./poster_scripts/Flat_band_highres','rb'))\n",
    "\n",
    "phi_arr=np.linspace(0,2*np.pi,31)\n",
    "new_data,new_phi=process_data(arr,phi_arr)\n",
    "\n",
    "\n",
    "x,y=arrange_E(new_data[12],new_phi)\n",
    "\n",
    "plt.locator_params(axis='y', nbins=5)\n",
    "plt.scatter(x,np.array(y)/0.182, 5)\n",
    "plt.xlabel(r'$\\phi$')\n",
    "#plt.ylabel(r'$E/\\Delta$')\n",
    "plt.xticks(ticks=np.linspace(0, 4.*np.pi, 5), labels=[r'$0$', r'$\\pi$', r'$2\\pi$', r'$3\\pi$', r'$4\\pi$'])\n",
    "plt.title('Topological Regime')\n",
    "plt.xlim(0, 4*np.pi)\n",
    "plt.savefig('./poster_replots/fig4', dpi=300, bbox_inches='tight')"
   ]
  },
  {
   "cell_type": "code",
   "execution_count": 66,
   "id": "227bdf2f-1088-4291-bb66-811bef49e86d",
   "metadata": {},
   "outputs": [
    {
     "data": {
      "image/png": "[encoded data removed]",
      "text/plain": [
       "<Figure size 432x288 with 1 Axes>"
      ]
     },
     "metadata": {
      "needs_background": "light"
     },
     "output_type": "display_data"
    }
   ],
   "source": [
    "phi_plot(e_phi_trivial_replot, 0, 0, 'sth', title='Trivial regime')\n",
    "plt.xlim(0, 4*np.pi)\n",
    "plt.ylim(-1, 1)\n",
    "plt.savefig('./poster_replots/fig3', dpi=300, bbox_inches='tight')"
   ]
  },
  {
   "cell_type": "code",
   "execution_count": 67,
   "id": "20c78069-0a6a-4a1c-9edf-490389bfde79",
   "metadata": {},
   "outputs": [],
   "source": [
    "e_phi_replot_try = pickle.load(open('./poster_scripts/Flat_band_highres', 'rb'))"
   ]
  },
  {
   "cell_type": "code",
   "execution_count": 93,
   "id": "1be48477-5920-476a-9c97-03ffdfc3f3de",
   "metadata": {},
   "outputs": [],
   "source": [
    "def process_data(arr,phi_arr,fill=True,extend=True,single=False):\n",
    "    '''\n",
    "    Takes the data, fills missing points, extend to 4pi\n",
    "    Interpolation is not included since that one requires the tracking of\n",
    "    specific branch solutions.\n",
    "    If single, we are analysing only one solution/phi.\n",
    "    '''\n",
    "    if single:\n",
    "        data=arr.copy()\n",
    "        phic=np.array(phi_arr.copy())\n",
    "        if fill:\n",
    "            for j in range(len(data)):\n",
    "                testdataj=[round(k,5) for k in data[j]]\n",
    "                data[j]=np.append(data[j],[-k for k in data[j] if round(-k,5) not in testdataj])\n",
    "                \n",
    "        if extend: #extends the solution from 2pi to 4pi\n",
    "            list1=list(reversed(data))\n",
    "            data=data+list1[1:]\n",
    "            list2=4*np.pi-np.array(list(reversed(phic))[1:])\n",
    "            phic=np.append(phic,list2)\n",
    "    \n",
    "        return data,phic         \n",
    "        \n",
    "    l=len(arr)\n",
    "    arrc=arr.copy() #making changes to new array rather than touching old one.\n",
    "    phic=np.array(phi_arr.copy())\n",
    "    for i in range(l):\n",
    "        data=arrc[i]\n",
    "        if fill: #fills all missing solutions. assuming they were lost due to rtol\n",
    "            for j in range(len(data)):\n",
    "                testdataj=[round(k,5) for k in data[j]]\n",
    "                data[j]=np.append(data[j],[-k for k in data[j] if round(-k,5) not in testdataj])\n",
    "                \n",
    "        if extend: #extends the solution from 2pi to 4pi\n",
    "            list1=list(reversed(data))\n",
    "            arrc[i]=data+list1[1:]\n",
    "\n",
    "    if extend: #extends the phi array as a final step\n",
    "        list2=4*np.pi-np.array(list(reversed(phic))[1:])\n",
    "        phic=np.append(phic,list2)\n",
    "    \n",
    "    return arrc,phic"
   ]
  },
  {
   "cell_type": "code",
   "execution_count": 96,
   "id": "12b470d3-4aaa-4e54-85fc-898827e10440",
   "metadata": {},
   "outputs": [],
   "source": [
    "def arrange_E(E_arr,phi_arr):\n",
    "    '''\n",
    "    Takes the output from boundstate algorithm and the scanned phases\n",
    "    and arranges them into a single list for plotting.\n",
    "    '''\n",
    "    new_y=[]\n",
    "    new_x=[]\n",
    "    for i in range(len(phi_arr)):\n",
    "        for j in range(len(E_arr[i])):\n",
    "            new_x.append(phi_arr[i])\n",
    "            new_y.append(E_arr[i][j])\n",
    "    \n",
    "    return new_x,new_y"
   ]
  },
  {
   "cell_type": "code",
   "execution_count": 91,
   "id": "adf4bcd7-405d-4539-90bf-c24faacd06c0",
   "metadata": {},
   "outputs": [
    {
     "data": {
      "text/plain": [
       "0.36"
      ]
     },
     "execution_count": 91,
     "metadata": {},
     "output_type": "execute_result"
    }
   ],
   "source": [
    "e_phi_replot_try[2][12]"
   ]
  },
  {
   "cell_type": "code",
   "execution_count": 95,
   "id": "8954ffee-c4ec-48e0-9df8-3515850327a4",
   "metadata": {},
   "outputs": [
    {
     "ename": "TypeError",
     "evalue": "'numpy.float64' object is not iterable",
     "output_type": "error",
     "traceback": [
      "\u001b[0;31m---------------------------------------------------------------------------\u001b[0m",
      "\u001b[0;31mTypeError\u001b[0m                                 Traceback (most recent call last)",
      "\u001b[0;32m/var/folders/tq/z3lkw8s95r1g4v3_7b8tv3_w0000gn/T/ipykernel_8603/859951344.py\u001b[0m in \u001b[0;36m<module>\u001b[0;34m\u001b[0m\n\u001b[0;32m----> 1\u001b[0;31m \u001b[0me_phi_replot_recons\u001b[0m \u001b[0;34m=\u001b[0m \u001b[0mprocess_data\u001b[0m\u001b[0;34m(\u001b[0m\u001b[0me_phi_replot_try\u001b[0m\u001b[0;34m[\u001b[0m\u001b[0;36m0\u001b[0m\u001b[0;34m]\u001b[0m\u001b[0;34m[\u001b[0m\u001b[0;36m12\u001b[0m\u001b[0;34m]\u001b[0m\u001b[0;34m,\u001b[0m \u001b[0mnp\u001b[0m\u001b[0;34m.\u001b[0m\u001b[0mlinspace\u001b[0m\u001b[0;34m(\u001b[0m\u001b[0;36m0\u001b[0m\u001b[0;34m,\u001b[0m \u001b[0;36m4\u001b[0m\u001b[0;34m*\u001b[0m\u001b[0mnp\u001b[0m\u001b[0;34m.\u001b[0m\u001b[0mpi\u001b[0m\u001b[0;34m)\u001b[0m\u001b[0;34m)\u001b[0m\u001b[0;34m\u001b[0m\u001b[0;34m\u001b[0m\u001b[0m\n\u001b[0m\u001b[1;32m      2\u001b[0m \u001b[0me_phi_replot_recons\u001b[0m\u001b[0;34m\u001b[0m\u001b[0;34m\u001b[0m\u001b[0m\n",
      "\u001b[0;32m/var/folders/tq/z3lkw8s95r1g4v3_7b8tv3_w0000gn/T/ipykernel_8603/4100279758.py\u001b[0m in \u001b[0;36mprocess_data\u001b[0;34m(arr, phi_arr, fill, extend, single)\u001b[0m\n\u001b[1;32m     29\u001b[0m         \u001b[0;32mif\u001b[0m \u001b[0mfill\u001b[0m\u001b[0;34m:\u001b[0m \u001b[0;31m#fills all missing solutions. assuming they were lost due to rtol\u001b[0m\u001b[0;34m\u001b[0m\u001b[0;34m\u001b[0m\u001b[0m\n\u001b[1;32m     30\u001b[0m             \u001b[0;32mfor\u001b[0m \u001b[0mj\u001b[0m \u001b[0;32min\u001b[0m \u001b[0mrange\u001b[0m\u001b[0;34m(\u001b[0m\u001b[0mlen\u001b[0m\u001b[0;34m(\u001b[0m\u001b[0mdata\u001b[0m\u001b[0;34m)\u001b[0m\u001b[0;34m)\u001b[0m\u001b[0;34m:\u001b[0m\u001b[0;34m\u001b[0m\u001b[0;34m\u001b[0m\u001b[0m\n\u001b[0;32m---> 31\u001b[0;31m                 \u001b[0mtestdataj\u001b[0m\u001b[0;34m=\u001b[0m\u001b[0;34m[\u001b[0m\u001b[0mround\u001b[0m\u001b[0;34m(\u001b[0m\u001b[0mk\u001b[0m\u001b[0;34m,\u001b[0m\u001b[0;36m5\u001b[0m\u001b[0;34m)\u001b[0m \u001b[0;32mfor\u001b[0m \u001b[0mk\u001b[0m \u001b[0;32min\u001b[0m \u001b[0mdata\u001b[0m\u001b[0;34m[\u001b[0m\u001b[0mj\u001b[0m\u001b[0;34m]\u001b[0m\u001b[0;34m]\u001b[0m\u001b[0;34m\u001b[0m\u001b[0;34m\u001b[0m\u001b[0m\n\u001b[0m\u001b[1;32m     32\u001b[0m                 \u001b[0mdata\u001b[0m\u001b[0;34m[\u001b[0m\u001b[0mj\u001b[0m\u001b[0;34m]\u001b[0m\u001b[0;34m=\u001b[0m\u001b[0mnp\u001b[0m\u001b[0;34m.\u001b[0m\u001b[0mappend\u001b[0m\u001b[0;34m(\u001b[0m\u001b[0mdata\u001b[0m\u001b[0;34m[\u001b[0m\u001b[0mj\u001b[0m\u001b[0;34m]\u001b[0m\u001b[0;34m,\u001b[0m\u001b[0;34m[\u001b[0m\u001b[0;34m-\u001b[0m\u001b[0mk\u001b[0m \u001b[0;32mfor\u001b[0m \u001b[0mk\u001b[0m \u001b[0;32min\u001b[0m \u001b[0mdata\u001b[0m\u001b[0;34m[\u001b[0m\u001b[0mj\u001b[0m\u001b[0;34m]\u001b[0m \u001b[0;32mif\u001b[0m \u001b[0mround\u001b[0m\u001b[0;34m(\u001b[0m\u001b[0;34m-\u001b[0m\u001b[0mk\u001b[0m\u001b[0;34m,\u001b[0m\u001b[0;36m5\u001b[0m\u001b[0;34m)\u001b[0m \u001b[0;32mnot\u001b[0m \u001b[0;32min\u001b[0m \u001b[0mtestdataj\u001b[0m\u001b[0;34m]\u001b[0m\u001b[0;34m)\u001b[0m\u001b[0;34m\u001b[0m\u001b[0;34m\u001b[0m\u001b[0m\n\u001b[1;32m     33\u001b[0m \u001b[0;34m\u001b[0m\u001b[0m\n",
      "\u001b[0;31mTypeError\u001b[0m: 'numpy.float64' object is not iterable"
     ]
    }
   ],
   "source": [
    "e_phi_replot_recons = process_data(e_phi_replot_try[0][12], np.linspace(0, 4*np.pi))\n",
    "e_phi_replot_recons"
   ]
  },
  {
   "cell_type": "code",
   "execution_count": 116,
   "id": "2ee282e4-715e-4bd1-a302-1c6c30bfc1f2",
   "metadata": {},
   "outputs": [
    {
     "data": {
      "text/plain": [
       "(0.0, 12.566370614359172)"
      ]
     },
     "execution_count": 116,
     "metadata": {},
     "output_type": "execute_result"
    },
    {
     "data": {
      "image/png": "[encoded data removed]",
      "text/plain": [
       "<Figure size 432x288 with 1 Axes>"
      ]
     },
     "metadata": {
      "needs_background": "light"
     },
     "output_type": "display_data"
    }
   ],
   "source": [
    "phi_plot(e_phi_replot_try[0][12], 0, 0, 'sth', title='Topological regime')\n",
    "plt.xlim(0, 4*np.pi)\n",
    "#plt.ylim(-1, 1)\n",
    "#plt.savefig('./poster_replots/fig4', dpi=300, bbox_inches='tight')\n",
    "#"
   ]
  },
  {
   "cell_type": "code",
   "execution_count": 112,
   "id": "96d2c9e8-3220-437f-881e-03ea0274289d",
   "metadata": {},
   "outputs": [
    {
     "data": {
      "text/plain": [
       "[array([-0.12183009, -0.08985041, -0.06043882, -0.03337631,  0.03337631,\n",
       "         0.06043882,  0.08985041,  0.12183009]),\n",
       " array([-0.06091187, -0.0327201 ,  0.0327201 ,  0.06091187]),\n",
       " array([-0.1296629 , -0.08041611, -0.06218778, -0.03088864,  0.03088864,\n",
       "         0.06218778,  0.08041611,  0.1296629 ]),\n",
       " array([-0.13611142, -0.07188372, -0.06395346, -0.02817716,  0.02817716,\n",
       "         0.06395346,  0.07188372,  0.13611142]),\n",
       " array([-0.1424664 , -0.06590137, -0.06245303, -0.02486499,  0.02486499,\n",
       "         0.06245303,  0.06590137,  0.1424664 ]),\n",
       " array([-0.14815851, -0.06779606, -0.0525256 , -0.02115268,  0.02115268,\n",
       "         0.0525256 ,  0.06779606,  0.14815851]),\n",
       " array([-0.1527761 , -0.06947115, -0.04229343, -0.01717263,  0.01717263,\n",
       "         0.04229343,  0.06947115,  0.1527761 ]),\n",
       " array([-0.15596979, -0.07081759, -0.03186407, -0.0130128 ,  0.0130128 ,\n",
       "         0.03186407,  0.07081759,  0.15596979]),\n",
       " array([-0.15752784, -0.07177889, -0.02130673, -0.00873467,  0.00873467,\n",
       "         0.02130673,  0.07177889,  0.15752784]),\n",
       " array([-0.07234456, -0.01067177, -0.00438444,  0.00438444,  0.01067177,\n",
       "         0.07234456]),\n",
       " array([-7.25297099e-02,  2.03497005e-11,  2.03497005e-11,  2.03497005e-11,\n",
       "         2.03497005e-11,  7.25297099e-02]),\n",
       " array([-0.07234456, -0.01067177, -0.00438444,  0.00438444,  0.01067177,\n",
       "         0.07234456]),\n",
       " array([-0.15752784, -0.07177889, -0.02130673, -0.00873467,  0.00873467,\n",
       "         0.02130673,  0.07177889,  0.15752784]),\n",
       " array([-0.15596979, -0.07081759, -0.03186407, -0.0130128 ,  0.0130128 ,\n",
       "         0.03186407,  0.07081759,  0.15596979]),\n",
       " array([-0.1527761 , -0.06947115, -0.04229343, -0.01717263,  0.01717263,\n",
       "         0.04229343,  0.06947115,  0.1527761 ]),\n",
       " array([-0.14815851, -0.06779606, -0.0525256 , -0.02115268,  0.02115268,\n",
       "         0.0525256 ,  0.06779606,  0.14815851]),\n",
       " array([-0.1424664 , -0.06590137, -0.06245303, -0.02486499,  0.02486499,\n",
       "         0.06245303,  0.06590137,  0.1424664 ]),\n",
       " array([-0.13611142, -0.07188372, -0.06395346, -0.02817716,  0.02817716,\n",
       "         0.06395346,  0.07188372,  0.13611142]),\n",
       " array([-0.1296629 , -0.08041611, -0.06218778, -0.03088864,  0.03088864,\n",
       "         0.06218778,  0.08041611,  0.1296629 ]),\n",
       " array([-0.06091187, -0.0327201 ,  0.0327201 ,  0.06091187]),\n",
       " array([-0.12183009, -0.08985041, -0.06043882, -0.03337631,  0.03337631,\n",
       "         0.06043882,  0.08985041,  0.12183009]),\n",
       " array([-0.06091187, -0.0327201 ,  0.0327201 ,  0.06091187]),\n",
       " array([-0.1296629 , -0.08041611, -0.06218778, -0.03088864,  0.03088864,\n",
       "         0.06218778,  0.08041611,  0.1296629 ]),\n",
       " array([-0.13611142, -0.07188372, -0.06395346, -0.02817716,  0.02817716,\n",
       "         0.06395346,  0.07188372,  0.13611142]),\n",
       " array([-0.1424664 , -0.06590137, -0.06245303, -0.02486499,  0.02486499,\n",
       "         0.06245303,  0.06590137,  0.1424664 ]),\n",
       " array([-0.14815851, -0.06779606, -0.0525256 , -0.02115268,  0.02115268,\n",
       "         0.0525256 ,  0.06779606,  0.14815851]),\n",
       " array([-0.1527761 , -0.06947115, -0.04229343, -0.01717263,  0.01717263,\n",
       "         0.04229343,  0.06947115,  0.1527761 ]),\n",
       " array([-0.15596979, -0.07081759, -0.03186407, -0.0130128 ,  0.0130128 ,\n",
       "         0.03186407,  0.07081759,  0.15596979]),\n",
       " array([-0.15752784, -0.07177889, -0.02130673, -0.00873467,  0.00873467,\n",
       "         0.02130673,  0.07177889,  0.15752784]),\n",
       " array([-0.07234456, -0.01067177, -0.00438444,  0.00438444,  0.01067177,\n",
       "         0.07234456]),\n",
       " array([-7.25297099e-02,  2.05275257e-11,  2.05275257e-11,  2.05275257e-11,\n",
       "         2.05275257e-11,  7.25297099e-02]),\n",
       " array([-0.07234456, -0.01067177, -0.00438444,  0.00438444,  0.01067177,\n",
       "         0.07234456]),\n",
       " array([-0.15752784, -0.07177889, -0.02130673, -0.00873467,  0.00873467,\n",
       "         0.02130673,  0.07177889,  0.15752784]),\n",
       " array([-0.15596979, -0.07081759, -0.03186407, -0.0130128 ,  0.0130128 ,\n",
       "         0.03186407,  0.07081759,  0.15596979]),\n",
       " array([-0.1527761 , -0.06947115, -0.04229343, -0.01717263,  0.01717263,\n",
       "         0.04229343,  0.06947115,  0.1527761 ]),\n",
       " array([-0.14815851, -0.06779606, -0.0525256 , -0.02115268,  0.02115268,\n",
       "         0.0525256 ,  0.06779606,  0.14815851]),\n",
       " array([-0.1424664 , -0.06590137, -0.06245303, -0.02486499,  0.02486499,\n",
       "         0.06245303,  0.06590137,  0.1424664 ]),\n",
       " array([-0.13611142, -0.07188372, -0.06395346, -0.02817716,  0.02817716,\n",
       "         0.06395346,  0.07188372,  0.13611142]),\n",
       " array([-0.1296629 , -0.08041611, -0.06218778, -0.03088864,  0.03088864,\n",
       "         0.06218778,  0.08041611,  0.1296629 ]),\n",
       " array([-0.06091187, -0.0327201 ,  0.0327201 ,  0.06091187]),\n",
       " array([-0.12183009, -0.08985041, -0.06043882, -0.03337631,  0.03337631,\n",
       "         0.06043882,  0.08985041,  0.12183009])]"
      ]
     },
     "execution_count": 112,
     "metadata": {},
     "output_type": "execute_result"
    }
   ],
   "source": [
    "e_eta0 = pickle.load(open('./subband/Data/eta=0 no barrier', 'rb'))\n",
    "e_eta0"
   ]
  },
  {
   "cell_type": "code",
   "execution_count": null,
   "id": "71f2a5ee-c1ac-469a-9d4d-0a2cced7c0fc",
   "metadata": {},
   "outputs": [],
   "source": [
    "for i in range(0, 9):\n",
    "    plt.figure()\n",
    "    phi_plot(e_phi_eta_array3[i], gap_energies_eta1[i].flatten()/0.182, gap_energies_eta2[i].flatten()/0.182, 'eta=0p2%s no barrier ylim' % (i+1), title=r'$L=3700, W=1400, \\mu=1.8, \\Delta=0.182, B=1.35T, U_0=0, \\eta=0.2%i$' % (i+1))\n",
    "#phi_plot(e_phi_eta_array3[0], gap_energies_eta1[0].flatten(), gap_energies_eta2[0].flatten(), 'eta=0p21 no barrier ylim', title=r'$L=3700, W=1400, \\mu=1.8, \\Delta=0.182, B=1.35T, U_0=0, \\eta=0.21$')\n",
    "#plt.plot(np.linspace(0, 4*np.pi), 0.08*np.cos(np.linspace(0, 4*np.pi)/2), c='r')\n",
    "#plt.savefig('./subband/eta=0p3 no barrier cos', dpi=300)"
   ]
  },
  {
   "cell_type": "code",
   "execution_count": 111,
   "id": "7c308ab6-088e-4c41-b8cd-92af35cb21ad",
   "metadata": {},
   "outputs": [
    {
     "data": {
      "image/png": "[encoded data removed]",
      "text/plain": [
       "<Figure size 432x288 with 1 Axes>"
      ]
     },
     "metadata": {
      "needs_background": "light"
     },
     "output_type": "display_data"
    }
   ],
   "source": [
    "phi_plot(e_array17, gap_energies_eta1[9].flatten()/0.182, gap_energies_eta2[9].flatten()/0.182, 'eta=0p30 no barrier ylim', title=r'$L=3700, W=1400, \\mu=1.8, \\Delta=0.182, B=1.35T, U_0=0, \\eta=0.30$')"
   ]
  },
  {
   "cell_type": "code",
   "execution_count": 133,
   "id": "dbf73e0d-abec-440a-aa84-6aad8d3282c1",
   "metadata": {},
   "outputs": [],
   "source": [
    "import pickle\n",
    "pickle.dump(e_array18, open('./subband/data/e_array18', 'wb'))"
   ]
  },
  {
   "cell_type": "code",
   "execution_count": 421,
   "id": "88a73970-8fb9-41ae-a2dc-45e90114462c",
   "metadata": {},
   "outputs": [
    {
     "name": "stdout",
     "output_type": "stream",
     "text": [
      "hello!\n"
     ]
    }
   ],
   "source": [
    "print('hello!')"
   ]
  },
  {
   "cell_type": "code",
   "execution_count": 100,
   "id": "68974864-db9a-455b-b71a-142c36b85965",
   "metadata": {},
   "outputs": [
    {
     "name": "stdout",
     "output_type": "stream",
     "text": [
      "0.0\n",
      "Parameters: L, t, E_plus, E_minus, eta, nu, B\n",
      "[61, 45.13293228464011, 1.0141922225789335, -0.3380640741929778, 0.3535533905932738, 2.8885991119621015, 0.0]\n",
      "[-0.12140932 -0.12140932 -0.1011652  -0.1011652   0.1011652   0.1011652\n",
      "  0.12140932  0.12140932]\n",
      "0.3141592653589793\n",
      "Parameters: L, t, E_plus, E_minus, eta, nu, B\n",
      "[61, 45.13293228464011, 1.0141922225789335, -0.3380640741929778, 0.3535533905932738, 2.8885991119621015, 0.0]\n",
      "[-0.13179426 -0.11213561 -0.09171015  0.09171015  0.11213561  0.13179426]\n",
      "0.6283185307179586\n",
      "Parameters: L, t, E_plus, E_minus, eta, nu, B\n",
      "[61, 45.13293228464011, 1.0141922225789335, -0.3380640741929778, 0.3535533905932738, 2.8885991119621015, 0.0]\n",
      "[-0.14165815 -0.11983259 -0.09892418 -0.08204064  0.08204064  0.09892418\n",
      "  0.11983259  0.14165815]\n",
      "0.9424777960769379\n",
      "Parameters: L, t, E_plus, E_minus, eta, nu, B\n",
      "[61, 45.13293228464011, 1.0141922225789335, -0.3380640741929778, 0.3535533905932738, 2.8885991119621015, 0.0]\n",
      "[-0.15084173 -0.12857358 -0.08736931 -0.07221972  0.07221972  0.08736931\n",
      "  0.12857358  0.15084173]\n",
      "1.2566370614359172\n",
      "Parameters: L, t, E_plus, E_minus, eta, nu, B\n",
      "[61, 45.13293228464011, 1.0141922225789335, -0.3380640741929778, 0.3535533905932738, 2.8885991119621015, 0.0]\n",
      "[-0.15917288 -0.13702929 -0.07551838 -0.06228374  0.06228374  0.07551838\n",
      "  0.13702929  0.15917288]\n",
      "1.5707963267948966\n",
      "Parameters: L, t, E_plus, E_minus, eta, nu, B\n",
      "[61, 45.13293228464011, 1.0141922225789335, -0.3380640741929778, 0.3535533905932738, 2.8885991119621015, 0.0]\n",
      "[-0.16642503 -0.14510599 -0.06346343 -0.05226775  0.05226775  0.06346343\n",
      "  0.14510599  0.16642503]\n",
      "1.8849555921538759\n",
      "Parameters: L, t, E_plus, E_minus, eta, nu, B\n",
      "[61, 45.13293228464011, 1.0141922225789335, -0.3380640741929778, 0.3535533905932738, 2.8885991119621015, 0.0]\n",
      "[-0.17228962 -0.15271684 -0.05127732 -0.04221525  0.04221525  0.05127732\n",
      "  0.15271684  0.17228962]\n",
      "2.199114857512855\n",
      "Parameters: L, t, E_plus, E_minus, eta, nu, B\n",
      "[61, 45.13293228464011, 1.0141922225789335, -0.3380640741929778, 0.3535533905932738, 2.8885991119621015, 0.0]\n",
      "[-0.17636968 -0.15975168 -0.03905348 -0.03219684  0.03219684  0.03905348\n",
      "  0.15975168  0.17636968]\n",
      "2.5132741228718345\n",
      "Parameters: L, t, E_plus, E_minus, eta, nu, B\n",
      "[61, 45.13293228464011, 1.0141922225789335, -0.3380640741929778, 0.3535533905932738, 2.8885991119621015, 0.0]\n",
      "[-0.17828789 -0.16605867 -0.02697415 -0.02237493  0.02237493  0.02697415\n",
      "  0.16605867  0.17828789]\n",
      "2.827433388230814\n",
      "Parameters: L, t, E_plus, E_minus, eta, nu, B\n",
      "[61, 45.13293228464011, 1.0141922225789335, -0.3380640741929778, 0.3535533905932738, 2.8885991119621015, 0.0]\n",
      "[-0.17793712 -0.17141931 -0.01565465 -0.0133467   0.0133467   0.01565465\n",
      "  0.17141931  0.17793712]\n",
      "3.141592653589793\n",
      "Parameters: L, t, E_plus, E_minus, eta, nu, B\n",
      "[61, 45.13293228464011, 1.0141922225789335, -0.3380640741929778, 0.3535533905932738, 2.8885991119621015, 0.0]\n",
      "[-0.1755172  -0.1755172  -0.00877622 -0.00877622  0.00877622  0.00877622\n",
      "  0.1755172   0.1755172 ]\n",
      "3.4557519189487724\n",
      "Parameters: L, t, E_plus, E_minus, eta, nu, B\n",
      "[61, 45.13293228464011, 1.0141922225789335, -0.3380640741929778, 0.3535533905932738, 2.8885991119621015, 0.0]\n",
      "[-0.17793712 -0.17141931 -0.01565465 -0.0133467   0.0133467   0.01565465\n",
      "  0.17141931  0.17793712]\n",
      "3.7699111843077517\n",
      "Parameters: L, t, E_plus, E_minus, eta, nu, B\n",
      "[61, 45.13293228464011, 1.0141922225789335, -0.3380640741929778, 0.3535533905932738, 2.8885991119621015, 0.0]\n",
      "[-0.17828789 -0.16605867 -0.02697415 -0.02237493  0.02237493  0.02697415\n",
      "  0.16605867  0.17828789]\n",
      "4.084070449666731\n",
      "Parameters: L, t, E_plus, E_minus, eta, nu, B\n",
      "[61, 45.13293228464011, 1.0141922225789335, -0.3380640741929778, 0.3535533905932738, 2.8885991119621015, 0.0]\n",
      "[-0.17636968 -0.15975168 -0.03905348 -0.03219684  0.03219684  0.03905348\n",
      "  0.15975168  0.17636968]\n",
      "4.39822971502571\n",
      "Parameters: L, t, E_plus, E_minus, eta, nu, B\n",
      "[61, 45.13293228464011, 1.0141922225789335, -0.3380640741929778, 0.3535533905932738, 2.8885991119621015, 0.0]\n",
      "[-0.17228962 -0.15271684 -0.05127732 -0.04221525  0.04221525  0.05127732\n",
      "  0.15271684  0.17228962]\n",
      "4.71238898038469\n",
      "Parameters: L, t, E_plus, E_minus, eta, nu, B\n",
      "[61, 45.13293228464011, 1.0141922225789335, -0.3380640741929778, 0.3535533905932738, 2.8885991119621015, 0.0]\n",
      "[-0.16642503 -0.14510599 -0.06346343 -0.05226775  0.05226775  0.06346343\n",
      "  0.14510599  0.16642503]\n",
      "5.026548245743669\n",
      "Parameters: L, t, E_plus, E_minus, eta, nu, B\n",
      "[61, 45.13293228464011, 1.0141922225789335, -0.3380640741929778, 0.3535533905932738, 2.8885991119621015, 0.0]\n",
      "[-0.15917288 -0.13702929 -0.07551838 -0.06228374  0.06228374  0.07551838\n",
      "  0.13702929  0.15917288]\n",
      "5.340707511102648\n",
      "Parameters: L, t, E_plus, E_minus, eta, nu, B\n",
      "[61, 45.13293228464011, 1.0141922225789335, -0.3380640741929778, 0.3535533905932738, 2.8885991119621015, 0.0]\n",
      "[-0.15084173 -0.12857358 -0.08736931 -0.07221972  0.07221972  0.08736931\n",
      "  0.12857358  0.15084173]\n",
      "5.654866776461628\n",
      "Parameters: L, t, E_plus, E_minus, eta, nu, B\n",
      "[61, 45.13293228464011, 1.0141922225789335, -0.3380640741929778, 0.3535533905932738, 2.8885991119621015, 0.0]\n",
      "[-0.14165815 -0.11983259 -0.09892418 -0.08204064  0.08204064  0.09892418\n",
      "  0.11983259  0.14165815]\n",
      "5.969026041820607\n",
      "Parameters: L, t, E_plus, E_minus, eta, nu, B\n",
      "[61, 45.13293228464011, 1.0141922225789335, -0.3380640741929778, 0.3535533905932738, 2.8885991119621015, 0.0]\n",
      "[-0.13179426 -0.11213561 -0.09171015  0.09171015  0.11213561  0.13179426]\n",
      "6.283185307179586\n",
      "Parameters: L, t, E_plus, E_minus, eta, nu, B\n",
      "[61, 45.13293228464011, 1.0141922225789335, -0.3380640741929778, 0.3535533905932738, 2.8885991119621015, 0.0]\n",
      "[-0.12140932 -0.12140932 -0.1011652  -0.1011652   0.1011652   0.1011652\n",
      "  0.12140932  0.12140932]\n",
      "6.5973445725385655\n",
      "Parameters: L, t, E_plus, E_minus, eta, nu, B\n",
      "[61, 45.13293228464011, 1.0141922225789335, -0.3380640741929778, 0.3535533905932738, 2.8885991119621015, 0.0]\n",
      "[-0.13179426 -0.11213561 -0.09171015  0.09171015  0.11213561  0.13179426]\n",
      "6.911503837897545\n",
      "Parameters: L, t, E_plus, E_minus, eta, nu, B\n",
      "[61, 45.13293228464011, 1.0141922225789335, -0.3380640741929778, 0.3535533905932738, 2.8885991119621015, 0.0]\n",
      "[-0.14165815 -0.11983259 -0.09892418 -0.08204064  0.08204064  0.09892418\n",
      "  0.11983259  0.14165815]\n",
      "7.225663103256524\n",
      "Parameters: L, t, E_plus, E_minus, eta, nu, B\n",
      "[61, 45.13293228464011, 1.0141922225789335, -0.3380640741929778, 0.3535533905932738, 2.8885991119621015, 0.0]\n",
      "[-0.15084173 -0.12857358 -0.08736931 -0.07221972  0.07221972  0.08736931\n",
      "  0.12857358  0.15084173]\n",
      "7.5398223686155035\n",
      "Parameters: L, t, E_plus, E_minus, eta, nu, B\n",
      "[61, 45.13293228464011, 1.0141922225789335, -0.3380640741929778, 0.3535533905932738, 2.8885991119621015, 0.0]\n",
      "[-0.15917288 -0.13702929 -0.07551838 -0.06228374  0.06228374  0.07551838\n",
      "  0.13702929  0.15917288]\n",
      "7.853981633974483\n",
      "Parameters: L, t, E_plus, E_minus, eta, nu, B\n",
      "[61, 45.13293228464011, 1.0141922225789335, -0.3380640741929778, 0.3535533905932738, 2.8885991119621015, 0.0]\n",
      "[-0.16642503 -0.14510599 -0.06346343 -0.05226775  0.05226775  0.06346343\n",
      "  0.14510599  0.16642503]\n",
      "8.168140899333462\n",
      "Parameters: L, t, E_plus, E_minus, eta, nu, B\n",
      "[61, 45.13293228464011, 1.0141922225789335, -0.3380640741929778, 0.3535533905932738, 2.8885991119621015, 0.0]\n",
      "[-0.17228962 -0.15271684 -0.05127732 -0.04221525  0.04221525  0.05127732\n",
      "  0.15271684  0.17228962]\n",
      "8.482300164692441\n",
      "Parameters: L, t, E_plus, E_minus, eta, nu, B\n",
      "[61, 45.13293228464011, 1.0141922225789335, -0.3380640741929778, 0.3535533905932738, 2.8885991119621015, 0.0]\n",
      "[-0.17636968 -0.15975168 -0.03905348 -0.03219684  0.03219684  0.03905348\n",
      "  0.15975168  0.17636968]\n",
      "8.79645943005142\n",
      "Parameters: L, t, E_plus, E_minus, eta, nu, B\n",
      "[61, 45.13293228464011, 1.0141922225789335, -0.3380640741929778, 0.3535533905932738, 2.8885991119621015, 0.0]\n",
      "[-0.17828789 -0.16605867 -0.02697415 -0.02237493  0.02237493  0.02697415\n",
      "  0.16605867  0.17828789]\n",
      "9.1106186954104\n",
      "Parameters: L, t, E_plus, E_minus, eta, nu, B\n",
      "[61, 45.13293228464011, 1.0141922225789335, -0.3380640741929778, 0.3535533905932738, 2.8885991119621015, 0.0]\n",
      "[-0.17793712 -0.17141931 -0.01565465 -0.0133467   0.0133467   0.01565465\n",
      "  0.17141931  0.17793712]\n",
      "9.42477796076938\n",
      "Parameters: L, t, E_plus, E_minus, eta, nu, B\n",
      "[61, 45.13293228464011, 1.0141922225789335, -0.3380640741929778, 0.3535533905932738, 2.8885991119621015, 0.0]\n",
      "[-0.1755172  -0.1755172  -0.00877622 -0.00877622  0.00877622  0.00877622\n",
      "  0.1755172   0.1755172 ]\n",
      "9.738937226128359\n",
      "Parameters: L, t, E_plus, E_minus, eta, nu, B\n",
      "[61, 45.13293228464011, 1.0141922225789335, -0.3380640741929778, 0.3535533905932738, 2.8885991119621015, 0.0]\n",
      "[-0.17793712 -0.17141931 -0.01565465 -0.0133467   0.0133467   0.01565465\n",
      "  0.17141931  0.17793712]\n",
      "10.053096491487338\n",
      "Parameters: L, t, E_plus, E_minus, eta, nu, B\n",
      "[61, 45.13293228464011, 1.0141922225789335, -0.3380640741929778, 0.3535533905932738, 2.8885991119621015, 0.0]\n",
      "[-0.17828789 -0.16605867 -0.02697415 -0.02237493  0.02237493  0.02697415\n",
      "  0.16605867  0.17828789]\n",
      "10.367255756846317\n",
      "Parameters: L, t, E_plus, E_minus, eta, nu, B\n",
      "[61, 45.13293228464011, 1.0141922225789335, -0.3380640741929778, 0.3535533905932738, 2.8885991119621015, 0.0]\n",
      "[-0.17636968 -0.15975168 -0.03905348 -0.03219684  0.03219684  0.03905348\n",
      "  0.15975168  0.17636968]\n",
      "10.681415022205297\n",
      "Parameters: L, t, E_plus, E_minus, eta, nu, B\n",
      "[61, 45.13293228464011, 1.0141922225789335, -0.3380640741929778, 0.3535533905932738, 2.8885991119621015, 0.0]\n",
      "[-0.17228962 -0.15271684 -0.05127732 -0.04221525  0.04221525  0.05127732\n",
      "  0.15271684  0.17228962]\n",
      "10.995574287564276\n",
      "Parameters: L, t, E_plus, E_minus, eta, nu, B\n",
      "[61, 45.13293228464011, 1.0141922225789335, -0.3380640741929778, 0.3535533905932738, 2.8885991119621015, 0.0]\n",
      "[-0.16642503 -0.14510599 -0.06346343 -0.05226775  0.05226775  0.06346343\n",
      "  0.14510599  0.16642503]\n",
      "11.309733552923255\n",
      "Parameters: L, t, E_plus, E_minus, eta, nu, B\n",
      "[61, 45.13293228464011, 1.0141922225789335, -0.3380640741929778, 0.3535533905932738, 2.8885991119621015, 0.0]\n",
      "[-0.15917288 -0.13702929 -0.07551838 -0.06228374  0.06228374  0.07551838\n",
      "  0.13702929  0.15917288]\n",
      "11.623892818282235\n",
      "Parameters: L, t, E_plus, E_minus, eta, nu, B\n",
      "[61, 45.13293228464011, 1.0141922225789335, -0.3380640741929778, 0.3535533905932738, 2.8885991119621015, 0.0]\n",
      "[-0.15084173 -0.12857358 -0.08736931 -0.07221972  0.07221972  0.08736931\n",
      "  0.12857358  0.15084173]\n",
      "11.938052083641214\n",
      "Parameters: L, t, E_plus, E_minus, eta, nu, B\n",
      "[61, 45.13293228464011, 1.0141922225789335, -0.3380640741929778, 0.3535533905932738, 2.8885991119621015, 0.0]\n",
      "[-0.14165815 -0.11983259 -0.09892418 -0.08204064  0.08204064  0.09892418\n",
      "  0.11983259  0.14165815]\n",
      "12.252211349000193\n",
      "Parameters: L, t, E_plus, E_minus, eta, nu, B\n",
      "[61, 45.13293228464011, 1.0141922225789335, -0.3380640741929778, 0.3535533905932738, 2.8885991119621015, 0.0]\n",
      "[-0.13179426 -0.11213561 -0.09171015  0.09171015  0.11213561  0.13179426]\n",
      "12.566370614359172\n",
      "Parameters: L, t, E_plus, E_minus, eta, nu, B\n",
      "[61, 45.13293228464011, 1.0141922225789335, -0.3380640741929778, 0.3535533905932738, 2.8885991119621015, 0.0]\n",
      "[-0.12140932 -0.12140932 -0.1011652  -0.1011652   0.1011652   0.1011652\n",
      "  0.12140932  0.12140932]\n"
     ]
    }
   ],
   "source": [
    "e_array2, psi_array2 = phi_scan()"
   ]
  },
  {
   "cell_type": "code",
   "execution_count": null,
   "id": "ab7a94a0-3e8e-4fa6-8bc3-bb16060968f7",
   "metadata": {},
   "outputs": [],
   "source": []
  }
 ],
 "metadata": {
  "kernelspec": {
   "display_name": "Python 3 (ipykernel)",
   "language": "python",
   "name": "python3"
  },
  "language_info": {
   "codemirror_mode": {
    "name": "ipython",
    "version": 3
   },
   "file_extension": ".py",
   "mimetype": "text/x-python",
   "name": "python",
   "nbconvert_exporter": "python",
   "pygments_lexer": "ipython3",
   "version": "3.9.6"
  }
 },
 "nbformat": 4,
 "nbformat_minor": 5
}
