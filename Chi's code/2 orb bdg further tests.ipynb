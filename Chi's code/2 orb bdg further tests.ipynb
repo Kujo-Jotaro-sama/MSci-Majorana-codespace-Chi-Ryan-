{
 "cells": [
  {
   "cell_type": "code",
   "execution_count": null,
   "id": "26886a85-1fcb-4226-9b29-cdfdb7526bf5",
   "metadata": {},
   "outputs": [],
   "source": []
  },
  {
   "cell_type": "code",
   "execution_count": 1,
   "id": "21fa4c7f-b3a4-4828-a9e9-33ff3d672020",
   "metadata": {},
   "outputs": [],
   "source": [
    "import numpy as np\n",
    "import kwant\n",
    "from scipy import linalg\n",
    "import matplotlib.colors as colors"
   ]
  },
  {
   "cell_type": "markdown",
   "id": "f174a8eb-d5a2-4920-b1a2-a98a31d7aae9",
   "metadata": {},
   "source": [
    "# Functions"
   ]
  },
  {
   "cell_type": "code",
   "execution_count": 2,
   "id": "eab1fbb9-4c14-4f9c-964a-265a45a973ef",
   "metadata": {},
   "outputs": [],
   "source": [
    "# code chunk useful for selecting every n elements to separate the wavefunctions in the two leads.\n",
    "def select_in_groups_strided(a, M, N): # Keep first M, delete next N and so on.\n",
    "    K = M+N\n",
    "    na = a.size\n",
    "    nrows = (1+((na-1)//K))\n",
    "    n = a.strides[0]\n",
    "    out = np.lib.index_tricks.as_strided(a, shape=(nrows,K), strides=(K*n,n))\n",
    "    N = M*(na//K) + (na - (K*(na//K)))\n",
    "    return out[:,:M].ravel()[:N]"
   ]
  },
  {
   "cell_type": "code",
   "execution_count": 3,
   "id": "f2c91be9-7d7d-4690-a6ee-49ece955293c",
   "metadata": {},
   "outputs": [],
   "source": [
    "#returns the wavefunction in the leads up to a given last-cell magnitude, or a given number of cells.\n",
    "def long_wf_in_leads(q_e, L_out, Phi, lead_no=1, fixed_no_cells=None, limit=100., no_orb=2):\n",
    "    '''return wavefunction with leads with number of unit cells'''\n",
    "    no_orb = int(no_orb)\n",
    "    if fixed_no_cells is None:\n",
    "        j=0\n",
    "        quick_wf = wf_in_leads(q_e, L_out, Phi, 0)\n",
    "        wave_func_array = quick_wf\n",
    "        first_site_amplitude = quick_wf.T.conj()@quick_wf\n",
    "        last_site_amplitude = first_site_amplitude\n",
    "        while last_site_amplitude > first_site_amplitude/limit:\n",
    "            j+=1\n",
    "            quick_wfj = wf_in_leads(q_e, L_out, Phi, j)\n",
    "            wave_func_array = np.vstack((wave_func_array, quick_wfj))\n",
    "            last_site_amplitude = quick_wfj.T.conj()@quick_wfj\n",
    "        wave_func_array = np.array(wave_func_array)\n",
    "        if lead_no==0:\n",
    "            return select_in_groups_strided(wave_func_array, no_orb, no_orb), wave_func_array.shape[0]/(no_orb*2)\n",
    "        elif lead_no==1:\n",
    "            return select_in_groups_strided(wave_func_array[no_orb:], no_orb, no_orb), wave_func_array.shape[0]/(no_orb*2)\n",
    "    else:\n",
    "        wave_func_array = wf_in_leads(q_e, L_out, Phi, 0)\n",
    "        for i in range(0, fixed_no_cells):\n",
    "            quick_wfj = wf_in_leads(q_e, L_out, Phi, i+1)\n",
    "            wave_func_array = np.vstack((wave_func_array, quick_wfj))\n",
    "        wave_func_array = np.array(wave_func_array)\n",
    "        if lead_no==0:\n",
    "            return select_in_groups_strided(wave_func_array, no_orb, no_orb), wave_func_array.shape[0]/(no_orb*2)\n",
    "        elif lead_no==1:\n",
    "            return select_in_groups_strided(wave_func_array[no_orb:], no_orb, no_orb), wave_func_array.shape[0]/(no_orb*2)"
   ]
  },
  {
   "cell_type": "code",
   "execution_count": 4,
   "id": "ea413086-804f-4131-bc91-ed55270656f9",
   "metadata": {},
   "outputs": [],
   "source": [
    "# re-inputs the boundstate energies into the Istas version boundstate code to extract lead wavefunctions.\n",
    "# has a plot function inside to visualise the overall wavefunction of each state in each orbital.\n",
    "# code not optimised. Only for showing the problem we have encountered with the algorithm.\n",
    "def istas_scan(e_subarray, syst, params=None, all_out=False, no_orb=2):\n",
    "    no_orb = int(no_orb)\n",
    "    no_states = len(e_subarray)\n",
    "    e_division = np.array([[e_subarray[i], e_subarray[i]] for i in range(len(e_subarray))])\n",
    "    e_compare = []\n",
    "    wavefunc_lleads = []\n",
    "    no_cells_lleads = []\n",
    "    wavefunc_rleads = []\n",
    "    no_cells_rleads = []\n",
    "    wavefunc_scat = []\n",
    "    fig, axs = plt.subplots(no_states, 2, figsize=(15,15))\n",
    "    for i in range(len(e_subarray)):\n",
    "        print(i)\n",
    "        print(e_division[i])\n",
    "        try:\n",
    "            E, psi_alpha_0, q_e, L_out, Phi = bound_state(syst, e_division[i], return_wf=True, params=params)\n",
    "        except:\n",
    "            continue\n",
    "        e_compare.append(E)\n",
    "        wavefunc_scat.append(psi_alpha_0)\n",
    "        trial_wfr, no_cellsr = long_wf_in_leads(q_e, L_out, Phi, lead_no=1, limit=10000., no_orb=no_orb)\n",
    "        trial_wfl, no_cellsl = long_wf_in_leads(q_e, L_out, Phi, lead_no=0, limit=10000., no_orb=no_orb)\n",
    "        no_cells_lleads.append(no_cellsl)\n",
    "        no_cells_rleads.append(no_cellsr)\n",
    "        wavefunc_lleads.append(trial_wfl)\n",
    "        wavefunc_rleads.append(trial_wfr)\n",
    "        #print(trial_wf)\n",
    "        #print(trial_wfr)\n",
    "        #print(trial_wfr.shape)\n",
    "        #print(trial_wfr.shape[0]/8)\n",
    "        #print(psi_alpha_0.shape)\n",
    "        for k in range(no_orb):\n",
    "            ax = axs[i][k]\n",
    "            ax.plot(np.arange(-trial_wfl.shape[0]/no_orb+1, 1), np.array([np.abs(trial_wfl[j*no_orb+k])**2. for j in range(int(trial_wfl.shape[0]/no_orb)-1, -1, -1)]))\n",
    "                #[trial_wfl[j*no_orb:(j+1)*no_orb].T.conj()@trial_wfl[j*no_orb:(j+1)*no_orb] for j in range(int(trial_wfl.shape[0]/no_orb)-1, -1, -1)]))\n",
    "            ax.plot(np.arange(psi_alpha_0.shape[0]/no_orb), np.array([np.abs(psi_alpha_0[j*no_orb+k,0])**2. for j in range(int(psi_alpha_0.shape[0]/no_orb))]))\n",
    "                #psi_alpha_0[j*no_orb:(j+1)*no_orb,0].T.conj()@psi_alpha_0[j*no_orb:(j+1)*no_orb,0] for j in range(int(psi_alpha_0.shape[0]/no_orb))]))\n",
    "            ax.plot(np.arange(psi_alpha_0.shape[0]/no_orb-1, trial_wfr.shape[0]/no_orb+psi_alpha_0.shape[0]/no_orb-1), np.array([np.abs(trial_wfr[j*no_orb+k])**2. for j in range(int(trial_wfr.shape[0]/no_orb))]))\n",
    "            #ax.plot(np.arange(-trial_wfl.shape[0]/8+1, 0), np.array([np.abs(trial_wfl[j*8+k])**2. for j in range(int(trial_wfl.shape[0]/8)-1, 0, -1)]))\n",
    "            #ax.plot(np.arange(psi_alpha_0.shape[0]/8), np.array([np.abs(psi_alpha_0[j*8+k,0])**2. for j in range(int(psi_alpha_0.shape[0]/8))]))\n",
    "            #ax.plot(np.arange(psi_alpha_0.shape[0]/8, trial_wfr.shape[0]/8+psi_alpha_0.shape[0]/8-1), np.array([np.abs(trial_wfr[j*8+k])**2. for j in range(int(trial_wfr.shape[0]/8)-1)]))\n",
    "            #plt.xlim(-100, 100)\n",
    "            #plt.ylim(0, 0.002)\n",
    "            ax.axhline(0, c='k', alpha=0.7)\n",
    "        \n",
    "        '''if i==0:\n",
    "            fig, axs = plt.subplots(4, 2, figsize=(15,15))\n",
    "            for k in range(0, 8):\n",
    "                ax = axs.flatten()[k]\n",
    "                ax.plot(np.arange(-trial_wfl.shape[0]/8+1, 0), np.array([np.abs(trial_wfl[j*8+k])**2. for j in range(int(trial_wfl.shape[0]/8)-1, 0, -1)]))\n",
    "                ax.plot(np.arange(psi_alpha_0.shape[0]/8), np.array([np.abs(psi_alpha_0[j*8+k,0])**2. for j in range(int(psi_alpha_0.shape[0]/8))]))\n",
    "                ax.plot(np.arange(psi_alpha_0.shape[0]/8, trial_wfr.shape[0]/8+psi_alpha_0.shape[0]/8-1), np.array([np.abs(trial_wfr[j*8+k])**2. for j in range(int(trial_wfr.shape[0]/8)-1)]))\n",
    "                #plt.xlim(-100, 100)\n",
    "                #plt.ylim(0, 0.002)\n",
    "                ax.axhline(0, c='k', alpha=0.7)\n",
    "            print('left lead')\n",
    "            print(np.array([trial_wfl[j*1:(j+1)*1].T.conj()@trial_wfl[j*1:(j+1)*1] for j in range(int(trial_wfl.shape[0]/1)-1, -1, -1)]))\n",
    "            plt.plot(np.arange(-trial_wfl.shape[0]/1+1, 1), np.array([trial_wfl[j*1:(j+1)*1].T.conj()@trial_wfl[j*1:(j+1)*1] for j in range(int(trial_wfl.shape[0]/1)-1, -1, -1)]))\n",
    "            plt.plot(np.arange(psi_alpha_0.shape[0]/1), np.array([psi_alpha_0[j*1:(j+1)*1,0].T.conj()@psi_alpha_0[j*1:(j+1)*1,0] for j in range(int(psi_alpha_0.shape[0]/1))]))\n",
    "            plt.plot(np.arange(psi_alpha_0.shape[0]/1-1, trial_wfr.shape[0]/1+psi_alpha_0.shape[0]/1-1), np.array([trial_wfr[j*1:(j+1)*1].T.conj()@trial_wfr[j*1:(j+1)*1] for j in range(int(trial_wfr.shape[0]/1))]))\n",
    "            #plt.xlim(-100, 100)'''\n",
    "        #print(psi_alpha_0[-8:])\n",
    "        #print(wf_in_leads(q_e, L_out, Phi, 0)[-8:])\n",
    "        #print(syst.leads[1].inter_cell_hopping().T.conj()@psi_alpha_0[-8:])\n",
    "        #print(psi_alpha_0[-8:]/wf_in_leads(q_e, L_out, Phi, 0)[-8:])\n",
    "        #print(i)\n",
    "        #print(E)\n",
    "        #print(psi_alpha_0)\n",
    "        #print(q_e)\n",
    "        #print(np.abs(np.array([L_out[i,i] for i in range(len(L_out))])))\n",
    "        #print(Phi[:,3])\n",
    "    \n",
    "    #print(no_cells_rleads)\n",
    "    no_cell_runiform = int(max(no_cells_rleads)/2)\n",
    "    #print('no_cell_runiform')\n",
    "    #print(no_cell_runiform)\n",
    "    e_compare = []\n",
    "    wavefunc_lleads = []\n",
    "    no_cells_lleads = []\n",
    "    wavefunc_rleads = []\n",
    "    no_cells_rleads = []\n",
    "    wavefunc_scat = []\n",
    "    for i in range(len(e_subarray)):\n",
    "        #print(i)\n",
    "        #print(e_division[i])\n",
    "        try:\n",
    "            E, psi_alpha_0, q_e, L_out, Phi = bound_state(syst, e_division[i], return_wf=True, params=params)\n",
    "        except:\n",
    "            continue\n",
    "        e_compare.append(E)\n",
    "        wavefunc_scat.append(psi_alpha_0)\n",
    "        trial_wfr, no_cellsr = long_wf_in_leads(q_e, L_out, Phi, lead_no=1, fixed_no_cells=no_cell_runiform, no_orb=no_orb)\n",
    "        trial_wfl, no_cellsl = long_wf_in_leads(q_e, L_out, Phi, lead_no=0, fixed_no_cells=no_cell_runiform, no_orb=no_orb)\n",
    "        no_cells_lleads.append(no_cellsl)\n",
    "        no_cells_rleads.append(no_cellsr)\n",
    "        wavefunc_lleads.append(trial_wfl)\n",
    "        wavefunc_rleads.append(trial_wfr)\n",
    "    \n",
    "    if all_out:\n",
    "        return e_compare, wavefunc_lleads, wavefunc_rleads, wavefunc_scat, no_cells_lleads, no_cells_rleads\n",
    "    else:\n",
    "        return e_compare, wavefunc_rleads, no_cells_rleads"
   ]
  },
  {
   "cell_type": "code",
   "execution_count": 5,
   "id": "a9d32318-0c21-4d9d-8dec-d1de4e532e9f",
   "metadata": {},
   "outputs": [],
   "source": [
    "# transform from vecs and vecslmbdainv of kwant.modes to eigenvectors@eigenvalues and eigevectors following\n",
    "# https://gitlab.kwant-project.org/kwant/kwant/-/merge_requests/39\n",
    "def inverse_A_B_alt(syst, vecslmbdainv, vecs, params):\n",
    "    hop = syst.leads[0].inter_cell_hopping(params=params)\n",
    "    B = np.sqrt(np.linalg.norm(hop))*np.identity(hop.shape[0])\n",
    "    A = hop@np.linalg.inv(B).T.conj()\n",
    "    B_dagger_inv = np.linalg.inv(B.T.conj())\n",
    "    A_dagger_inv = np.linalg.inv(A.T.conj())\n",
    "    phi_lmbda = A_dagger_inv@vecs\n",
    "    phi = B_dagger_inv@vecslmbdainv\n",
    "    return phi, phi_lmbda"
   ]
  },
  {
   "cell_type": "code",
   "execution_count": 6,
   "id": "c9c0de31-c5d2-4d09-8ab1-0570fd146233",
   "metadata": {},
   "outputs": [],
   "source": [
    "# Get StabilisedModes given system and energy\n",
    "def vecs_vecslmbdainv(syst, energy, params, lead_no=1):\n",
    "    _, stab = syst.leads[lead_no].modes(energy, params=params)\n",
    "    evan_vecs = slice(2 * stab.nmodes, None)\n",
    "    u_out = stab.vecs[:, evan_vecs]\n",
    "    ulinv_out = stab.vecslmbdainv[:, evan_vecs]\n",
    "    return ulinv_out, u_out"
   ]
  },
  {
   "cell_type": "markdown",
   "id": "f9479c0c-2492-4a39-96de-b49e955a9ef8",
   "metadata": {},
   "source": [
    "# Boundstate algorithms"
   ]
  },
  {
   "cell_type": "markdown",
   "id": "667431b1-027a-49dc-92cf-1537a26ef7a2",
   "metadata": {},
   "source": [
    "This is the feature version due to Joseph Weston taken from https://gitlab.kwant-project.org/jbweston/kwant/-/blob/feature/boundstate/kwant/physics/boundstate.py This version of the boundstate algorithm, albeit it has a lot of internal functions and was a little bit more opaque to look into, has a much more efficient root finder than the original version due to Mathieu Istas, posted below. We calculate the boundstate energies in our system using these methods first. In order to construct lead wavefunctions beyond the first unit cell, we then put the energies into the Istas version."
   ]
  },
  {
   "cell_type": "code",
   "execution_count": 7,
   "id": "d229e6e2-2626-4ca3-afc3-547a9d736a62",
   "metadata": {},
   "outputs": [],
   "source": [
    "# Copyright 2011-2019 Kwant authors.\n",
    "#\n",
    "# This file is part of Kwant.  It is subject to the license terms in the file\n",
    "# LICENSE.rst found in the top-level directory of this distribution and at\n",
    "# http://kwant-project.org/license.  A list of Kwant authors can be found in\n",
    "# the file AUTHORS.rst at the top-level directory of this distribution and at\n",
    "# http://kwant-project.org/authors.\n",
    "\n",
    "# This is the feature version due to Joseph Weston taken from\n",
    "#https://gitlab.kwant-project.org/jbweston/kwant/-/blob/feature/boundstate/kwant/physics/boundstate.py\n",
    "#This version of the boundstate algorithm, albeit it has a lot of internal functions and was a little bit more\n",
    "#opaque to look into, has a much more efficient root finder than the original version due to Mathieu Istas,\n",
    "#posted below. We calculate the boundstate energies in our system using these methods first. In order to construct\n",
    "#lead wavefunctions beyond the first unit cell, we then put the energies into the Istas version.\n",
    "\n",
    "from packaging import version\n",
    "\n",
    "import numpy as np\n",
    "import scipy.linalg\n",
    "import scipy.optimize\n",
    "import scipy.sparse as sp\n",
    "\n",
    "__all__ = [\"find_boundstates\"]\n",
    "\n",
    "# TODO: remove this when we depend on scipy > 1.1\n",
    "#1.3.1 here\n",
    "if version.parse(scipy.__version__) > version.parse(\"1.1\"):\n",
    "    null_space = scipy.linalg.null_space\n",
    "else:\n",
    "\n",
    "    def null_space(A, rcond=None):\n",
    "        u, s, vh = scipy.linalg.svd(A, full_matrices=True)\n",
    "        M, N = u.shape[0], vh.shape[1]\n",
    "        if rcond is None:\n",
    "            rcond = np.finfo(s.dtype).eps * max(M, N)\n",
    "        tol = np.amax(s) * rcond\n",
    "        num = np.sum(s > tol, dtype=int)\n",
    "        Q = vh[num:, :].T.conj()\n",
    "        return Q\n",
    "\n",
    "\n",
    "# If available, use MUMPS support for shift-inverse sparse diagonalization\n",
    "# Can import mumps alright.\n",
    "try:\n",
    "    from kwant.linalg import mumps\n",
    "except ImportError:\n",
    "    sparse_diag = sp.linalg.eigsh\n",
    "else:\n",
    "\n",
    "    class _LuInv(sp.linalg.LinearOperator):\n",
    "        def __init__(self, A):\n",
    "            inst = mumps.MUMPSContext()\n",
    "            inst.analyze(A)\n",
    "            inst.factor(A)\n",
    "            self.solve = inst.solve\n",
    "            super().__init__(A.dtype, A.shape)\n",
    "\n",
    "        def _matvec(self, x):\n",
    "            return self.solve(x.astype(self.dtype))\n",
    "\n",
    "    def sparse_diag(matrix, k, sigma, **kwargs):\n",
    "        if sigma == 0:\n",
    "            shifted_matrix = matrix\n",
    "        else:\n",
    "            shifted_matrix = matrix - sigma * sp.identity(matrix.shape[0])\n",
    "        return sp.linalg.eigsh(matrix, k, sigma=sigma, OPinv=_LuInv(shifted_matrix),\n",
    "                               **kwargs)\n",
    "\n",
    "\"\"\"syst: kwant.system.FiniteSystem\n",
    "\"\"\"\n",
    "\n",
    "def find_boundstates(\n",
    "    syst,\n",
    "    min_energy,\n",
    "    max_energy,\n",
    "    params=None,\n",
    "    sparse=True,\n",
    "    check_hermiticity=True,\n",
    "    rtol=1e-3,\n",
    "):\n",
    "    \"\"\"Return boundstates of an open system in an energy window\n",
    "\n",
    "    Parameters\n",
    "    ----------\n",
    "    syst : kwant.system.FiniteSystem\n",
    "        Must have leads.\n",
    "    min_energy, max_energy : float\n",
    "        The lower and upper bounds in energy to search for boundstates.\n",
    "    params : dict, optional\n",
    "        The keyword arguments to 'syst'.\n",
    "    sparse : bool, default: True\n",
    "        If True use sparse linear algebra, otherwise use dense.\n",
    "    check_hermiticity : bool, default: True\n",
    "        If True, checks the Hermiticity of the system Hamiltonian\n",
    "    rtol : float, default: 1E-3\n",
    "        boundstates that are closer together than\n",
    "        'rtol * (max_energy - min_energy)' may be missed.\n",
    "\n",
    "    Returns\n",
    "    -------\n",
    "    energies : 1D float array\n",
    "        The energies of the bound states.\n",
    "    wavefunctions : 2D complex array\n",
    "        The columns are the bound state wavefunctions defined\n",
    "        over the scattering region.\n",
    "    \"\"\"\n",
    "\n",
    "    # TODO: apply lru_cache to this once\n",
    "    # https://github.com/scipy/scipy/issues/10846 is solved.\n",
    "    def min_eigenvalue(energy):\n",
    "        H_eff = make_linsys(\n",
    "            syst,\n",
    "            energy,\n",
    "            params=params,\n",
    "            sparse=sparse,\n",
    "            check_hermiticity=check_hermiticity,\n",
    "        )\n",
    "        try:\n",
    "            if sparse:\n",
    "                if H_eff.shape[0] <= 2:\n",
    "                    raise ValueError(\n",
    "                        \"The system is too small to use sparse diagonalization. \"\n",
    "                        \"Try setting 'sparse=False'.\"\n",
    "                    )\n",
    "                vals = sparse_diag(\n",
    "                    H_eff.tocsc(), k=1, sigma=1e-10, which=\"LM\", return_eigenvectors=False\n",
    "                )\n",
    "                '''print('energy:')\n",
    "                print(energy)\n",
    "                print('Direct Diagonalisation:')\n",
    "                print(spi.linalg.eigvals(H_eff.toarray()))\n",
    "                print('sparce f:')\n",
    "                print(vals[np.argmin(np.abs(vals))]'''\n",
    "                return vals[0]\n",
    "            else:\n",
    "                vals = np.linalg.eigvalsh(H_eff)\n",
    "                which = np.argmin(np.abs(vals))\n",
    "                return vals[which]\n",
    "        except RuntimeError:  # Some problem diagonalizing\n",
    "            return np.inf\n",
    "\n",
    "    if syst.site_ranges is not None:\n",
    "        tot_norbs = syst.site_ranges[-1][-1]\n",
    "    else:\n",
    "        _, norbs = syst.hamiltonian_submatrix(params=params, return_norb=True)[:2]\n",
    "        tot_norbs = sum(norbs)\n",
    "\n",
    "    # Grid the energy window and search for roots in the sub-windows\n",
    "    # where the min-eigenvalue changes sign. These will either be\n",
    "    # true roots or discontinuities. Note that if there are >1 roots\n",
    "    # in the same sub-window then at least one of them will be missed.\n",
    "    '''print('f(0):')\n",
    "    print(min_eigenvalue(0))\n",
    "    print('f(1e-16)')\n",
    "    print(min_eigenvalue(1e-16))\n",
    "    print('f(3e-16)')\n",
    "    print(min_eigenvalue(3e-16))\n",
    "    print('f(1e-15)')\n",
    "    print(min_eigenvalue(1e-15))'''\n",
    "    \n",
    "    '''print('f(0):')\n",
    "    print(min_eigenvalue(0.))'''\n",
    "    #print('tot_norbs')\n",
    "    #print(tot_norbs)\n",
    "    \n",
    "    energies = np.linspace(\n",
    "        min_energy, max_energy, int((max_energy - min_energy) / rtol)\n",
    "    )\n",
    "    intervals = zip(energies, energies[1:])\n",
    "    \n",
    "    '''f_E = []\n",
    "    for e in energies:\n",
    "        print(e)\n",
    "        f_E.append(min_eigenvalue(e))\n",
    "    plt.scatter(energies, f_E)'''\n",
    "    \n",
    "    candidates = []\n",
    "    for a, b in intervals:\n",
    "        try:\n",
    "            if np.sign(min_eigenvalue(a)) != np.sign(min_eigenvalue(b)):\n",
    "                candidate = scipy.optimize.brentq(min_eigenvalue, a, b)\n",
    "                candidates.append(candidate)\n",
    "        except RuntimeError: #some problems with lead modes\n",
    "            continue\n",
    "    \n",
    "    \n",
    "    # Check which candidate points give actual boundstates.\n",
    "    energies = []\n",
    "    states = []\n",
    "    for energy in candidates:\n",
    "        vecs = extract_boundstates(syst, energy, params=params, sparse=sparse)\n",
    "        # vecs.shape[1] == 0 if there were no boundstates found\n",
    "        energies.append([energy] * vecs.shape[1])\n",
    "        # Here we discard the mode part of the solution just to\n",
    "        # make the output format more uniform (wavefunction has\n",
    "        # same number of components at all energies).\n",
    "        states.append(vecs[:tot_norbs, :])\n",
    "\n",
    "    if not energies:\n",
    "        return np.empty((0,)), np.empty((tot_norbs, 0))\n",
    "    else:\n",
    "        return np.hstack(energies), np.hstack(states)\n",
    "\n",
    "\n",
    "def extract_boundstates(\n",
    "    syst, energy=0, params=None, sparse=True, check_hermiticity=True, tol=1e-8\n",
    "):\n",
    "    \"\"\"Return any true boundstates of 'syst' at 'energy'\n",
    "\n",
    "    Params\n",
    "    ------\n",
    "    syst : kwant.FiniteSystem\n",
    "        Must have leads\n",
    "    energy : float\n",
    "    params : dict, optional\n",
    "        Keyword arguments to 'syst'\n",
    "    sparse : bool, default: True\n",
    "        If True, returns sparse matrices\n",
    "    check_hermiticity : bool, default: True\n",
    "        If True, check the system Hamiltonian for hermiticity\n",
    "\n",
    "    Returns\n",
    "    -------\n",
    "    vecs : 2D array\n",
    "        The columns are bound state wavefunctions.\n",
    "        The first N rows is in the tight-binding basis of the\n",
    "        scattering region, and the remaining rows are in the\n",
    "        basis of stabilized evanescent modes of the leads.\n",
    "\n",
    "    Notes\n",
    "    -----\n",
    "    We diagonalize the linear system returned by 'make_linsys', and\n",
    "    search for zero eigenvalues. We then look for vectors in the basis\n",
    "    of zero-eigenvalue eigenvectors that satisfy the bound state condition,\n",
    "    eq. 19 of https://doi.org/10.21468/SciPostPhys.4.5.026.\n",
    "    \"\"\"\n",
    "\n",
    "    lhs, T = make_linsys(\n",
    "        syst,\n",
    "        energy,\n",
    "        params=params,\n",
    "        sparse=sparse,\n",
    "        check_hermiticity=check_hermiticity,\n",
    "        return_validation=True,\n",
    "        which=\"hermitian\",\n",
    "    )\n",
    "\n",
    "    if sparse:\n",
    "        if lhs.shape[0] <= 2:\n",
    "            raise ValueError(\n",
    "                \"The system is too small to use sparse diagonalization. \"\n",
    "                \"Try setting 'sparse=False'.\"\n",
    "            )\n",
    "        k = min(6, lhs.shape[0] - 2)  # 6 is the default for sp.linalg.eigsh\n",
    "        try_again = True\n",
    "        # Solve the eigenproblem with successively large values of 'k' until\n",
    "        # we get all the zero eigenvalues. (In most cases this loop will\n",
    "        # run once).\n",
    "        while try_again:\n",
    "            vals, vecs = sparse_diag(lhs.tocsc(), k=k, sigma=1e-10, which=\"LM\")\n",
    "            zeros = np.abs(vals) < tol  # TODO: make this check better\n",
    "            if not np.all(zeros):  # we have found all the zero eigenvalues\n",
    "                try_again = False\n",
    "            else:\n",
    "                k *= 2  # try again with twice the number of eigenvalues\n",
    "                if k >= lhs.shape[0] - 1:\n",
    "                    raise ValueError(\n",
    "                        \"More eigenvalues are 0 than can be obtained by \"\n",
    "                        \"sparse diagonalization. Try setting 'sparse=False'.\"\n",
    "                    )\n",
    "    else:\n",
    "        vals, vecs = np.linalg.eigh(lhs)\n",
    "        zeros = np.abs(vals) < tol  # TODO make this check better\n",
    "\n",
    "    if not np.any(zeros):\n",
    "        return np.empty((lhs.shape[0], 0))\n",
    "\n",
    "\n",
    "    zero_vecs = vecs[:, zeros]\n",
    "    # To find the true boundstates we find the null space of the operator\n",
    "    # in eq 19 (T) in the basis of zero-eigenvalue vectors.\n",
    "    p = T @ zero_vecs\n",
    "    if np.allclose(p, 0):\n",
    "        # 'zero_vecs' are already a basis for the null space of T\n",
    "        return zero_vecs\n",
    "    else:\n",
    "        # TODO: not sure about this value for 'rcond', we need to ensure\n",
    "        #       that rcond is sufficiently large in the case that p is\n",
    "        #       zero (i.e. zero_vecs are individually boundstates).\n",
    "        bound_states = null_space(p, rcond=tol / np.max(np.abs(p)))\n",
    "        # transform back to original basis\n",
    "        # TODO: rotate the basis so the bound states have the correct symmetries\n",
    "        return np.asarray(zero_vecs @ bound_states)\n",
    "\n",
    "\n",
    "def make_linsys(\n",
    "    syst,\n",
    "    energy=0,\n",
    "    params=None,\n",
    "    sparse=True,\n",
    "    check_hermiticity=True,\n",
    "    return_validation=False,\n",
    "    which=\"hermitian\",\n",
    "):\n",
    "    \"\"\"Return the linear system for finding boundstates\n",
    "\n",
    "    Returns ether the linear system defined in equation 12 or equation 11\n",
    "    of https://doi.org/10.21468/SciPostPhys.4.5.026, and the linear\n",
    "    operator defined in equation 19 of the same article.\n",
    "\n",
    "    Params\n",
    "    ------\n",
    "    syst : kwant.FiniteSystem\n",
    "        Must have leads\n",
    "    energy : float\n",
    "    params : dict, optional\n",
    "        Keyword arguments to 'syst'\n",
    "    sparse : bool, default: True\n",
    "        If True, returns sparse matrices\n",
    "    check_hermiticity : bool, default: True\n",
    "        If True, check the system Hamiltonian for hermiticity\n",
    "    return_validation: bool, default: False\n",
    "        If True, also return the linear operator used for\n",
    "        checking for true bound states (equation 19 of the article).\n",
    "    which : str, default: \"hermitian\"\n",
    "        Which linear system to return. If \"hermitian\" returns the\n",
    "        linear system defined in equation 12, if \"svd\" returns\n",
    "        the linear system defined in equation 11.\n",
    "\n",
    "    Returns\n",
    "    -------\n",
    "    lhs : 2D array or sparse matrix\n",
    "        The linear system for finding boundstates\n",
    "    T : 2D array or sparse matrix\n",
    "        A linear operator for checking bound states.\n",
    "        zero-eigenvalue eigenvectors of 'lhs' that are in the\n",
    "        null-space of 'T' are true bound states. Only returned\n",
    "        if 'return_validation' is True.\n",
    "    \"\"\"\n",
    "    if not syst.leads:\n",
    "        raise ValueError(\"'syst' must have leads attached\")\n",
    "    if any(interface.shape[0] == 0 for interface in syst.lead_interfaces):\n",
    "        raise ValueError(\n",
    "            \"All the leads of 'syst' must have non-zero \" \"inter-cell hopping\"\n",
    "        )\n",
    "\n",
    "    lhs, norb = syst.hamiltonian_submatrix(\n",
    "        params=params, sparse=sparse, return_norb=True\n",
    "    )[:2]\n",
    "    offsets = np.empty(norb.shape[0] + 1, int)\n",
    "    offsets[0] = 0\n",
    "    offsets[1:] = np.cumsum(norb)\n",
    "    scattering_region_norbs = offsets[-1]\n",
    "\n",
    "    if check_hermiticity and len(lhs.data):\n",
    "        rtol = 1e-13\n",
    "        atol = 1e-300\n",
    "        tol = rtol * np.max(np.abs(lhs.data)) + atol\n",
    "        if np.any(np.abs((lhs - lhs.T.conj()).data) > tol):\n",
    "            raise ValueError(\n",
    "                \"System Hamiltonian is not Hermitian. \"\n",
    "                \"Use option `check_hermiticity=False` \"\n",
    "                \"if this is intentional.\"\n",
    "            )\n",
    "\n",
    "    if sparse:\n",
    "        lhs = lhs - energy * sp.identity(lhs.shape[0])\n",
    "    else:\n",
    "        lhs.flat[:: (offsets[-1] + 1)] -= energy\n",
    "\n",
    "    phi_e = []\n",
    "    svd_vs = []\n",
    "    transfs = []\n",
    "    for leadnum, interface in enumerate(syst.lead_interfaces):\n",
    "        lead = syst.leads[leadnum]\n",
    "        _, stab = lead.modes(energy, params=params)\n",
    "        svd_v = stab.sqrt_hop\n",
    "        # Evanescent modes (schur vectors) are stored after\n",
    "        # the 2*nmodes propagating (in/out) modes\n",
    "        evan_vecs = slice(2 * stab.nmodes, None)\n",
    "        u_out = stab.vecs[:, evan_vecs]\n",
    "        ulinv_out = stab.vecslmbdainv[:, evan_vecs]\n",
    "\n",
    "        # Construct a matrix of 1's that translates the\n",
    "        # inter-cell hopping to a proper hopping\n",
    "        # from the system to the lead.\n",
    "        iface_orbs = np.r_[tuple(slice(offsets[i], offsets[i + 1]) for i in interface)]\n",
    "\n",
    "        n_lead_orbs = svd_v.shape[0]\n",
    "        if n_lead_orbs != len(iface_orbs):\n",
    "            msg = (\n",
    "                \"Lead {0} has hopping with dimensions \"\n",
    "                \"incompatible with its interface dimension.\"\n",
    "            )\n",
    "            raise ValueError(msg.format(leadnum))\n",
    "\n",
    "        coords = np.r_[[np.arange(len(iface_orbs))], [iface_orbs]]\n",
    "        transf = sp.csc_matrix(\n",
    "            (np.ones(len(iface_orbs)), coords), shape=(iface_orbs.size, lhs.shape[0])\n",
    "        )\n",
    "\n",
    "        phi_e.append(ulinv_out)\n",
    "        svd_vs.append(svd_v)\n",
    "        # We are saving these for use in '_validation_operator', where we\n",
    "        # expect each projector to project *from the scattering region only*,\n",
    "        # hence the slice up to 'scattering_region_norbs'\n",
    "        transfs.append(transf[:, :scattering_region_norbs])\n",
    "\n",
    "        if which == \"hermitian\":\n",
    "            A, B, C = _hermitian_matrices(svd_v, transf, u_out, ulinv_out)\n",
    "        elif which == \"svd\":\n",
    "            A, B, C = _svd_matrices(svd_v, transf, u_out, ulinv_out)\n",
    "        else:\n",
    "            raise ValueError(\"'which' must be 'hermitian' or 'svd'\")\n",
    "\n",
    "        if sparse:\n",
    "            A = sp.csc_matrix(A)\n",
    "            B = sp.csc_matrix(B)\n",
    "            C = sp.csc_matrix(C)\n",
    "            lhs = sp.bmat([[lhs, A], [B, C]])\n",
    "        else:\n",
    "            lhs = np.block([[lhs, A], [B, C]])\n",
    "\n",
    "    if return_validation:\n",
    "        return (\n",
    "            lhs,\n",
    "            _validation_operator(\n",
    "                phi_e=phi_e,\n",
    "                svd_vs=svd_vs,\n",
    "                transfs=transfs,\n",
    "                orb_offsets=offsets,\n",
    "                sparse=sparse,\n",
    "            ),\n",
    "        )\n",
    "    else:\n",
    "        return lhs\n",
    "\n",
    "\n",
    "# Equation 12\n",
    "def _hermitian_matrices(svd_v, transf, u_out, ulinv_out):\n",
    "    A = transf.T @ svd_v @ u_out\n",
    "    B = A.conj().T\n",
    "    C = -u_out.T.conj() @ ulinv_out\n",
    "    return A, B, C\n",
    "\n",
    "\n",
    "# Equation 11\n",
    "def _svd_matrices(svd_v, transf, u_out, ulinv_out):\n",
    "    A = transf.T @ svd_v @ u_out\n",
    "    B = svd_v.conj().T @ transf\n",
    "    C = -ulinv_out\n",
    "    return A, B, C\n",
    "\n",
    "\n",
    "# Equation 19\n",
    "def _validation_operator(phi_e, svd_vs, transfs, orb_offsets, sparse):\n",
    "\n",
    "    syst_size = orb_offsets[-1]\n",
    "    mode_size = sum(phi.shape[1] for phi in phi_e)\n",
    "    sol_size = syst_size + mode_size\n",
    "\n",
    "    p_psi = sp.csc_matrix(\n",
    "        (np.ones(syst_size), (np.arange(syst_size),) * 2), shape=(syst_size, sol_size)\n",
    "    )\n",
    "    p_q = sp.csc_matrix(\n",
    "        (np.ones(mode_size), (np.arange(mode_size), np.arange(syst_size, sol_size))),\n",
    "        shape=(mode_size, sol_size),\n",
    "    )\n",
    "\n",
    "    svd_v = np.vstack(svd_vs)\n",
    "    transf = sp.vstack(transfs)\n",
    "    # The states are the *columns*, so use hstack rather than vstack\n",
    "    phi = np.hstack(phi_e)\n",
    "\n",
    "    r = svd_v.conj().T @ (transf @ p_psi) - phi @ p_q\n",
    "\n",
    "    if sparse:\n",
    "        r = sp.csc_matrix(r)\n",
    "\n",
    "    return r\n"
   ]
  },
  {
   "cell_type": "markdown",
   "id": "f325d863-d0ad-4952-ba68-bb9a16d3b4b9",
   "metadata": {},
   "source": [
    "Boundstate algorithm due to Mathieu Istas found at https://gitlab.kwant-project.org/jbweston/kwant/-/blob/boundstate/kwant/physics/boundstate.py All imported packages are taken from the same folder in the above link. This version of the boundstate algorithm follows the original paper (https://scipost.org/SciPostPhys.4.5.026) more closely, and allows for construction of lead wavefunctions beyond the first unit cell, which the Weston version above does not, without needing to change the source code for kwant.modes to bring the evanescent modes back into the basis of eigenvectors (rather the Schur vectors)."
   ]
  },
  {
   "cell_type": "code",
   "execution_count": 8,
   "id": "75e93ffc-19bd-485b-8e38-0c7a3c6ca868",
   "metadata": {},
   "outputs": [],
   "source": [
    "# Copyright 2011-2018 Kwant authors.\n",
    "#\n",
    "# This file is part of Kwant.  It is subject to the license terms in the file\n",
    "# LICENSE.rst found in the top-level directory of this distribution and at\n",
    "# http://kwant-project.org/license.  A list of Kwant authors can be found in\n",
    "# the file AUTHORS.rst at the top-level directory of this distribution and at\n",
    "# http://kwant-project.org/authors.\n",
    "\n",
    "import numpy as np\n",
    "from scipy.optimize import newton, brentq, minimize_scalar\n",
    "from _boundstate_hermitian import eig_values, false_positive_BS, eig_val_derivative\n",
    "from _boundstate_svd import singular_values\n",
    "from _boundstate_common import *\n",
    "\n",
    "__all__ = ['bound_state', 'wf_in_leads']\n",
    "\n",
    "def bound_state(syst, E_range, args=(), params=None, tol=1e-8, sparse=False, \n",
    "                return_wf=False, maxiter=100, eig_val=2, need_orth=True):\n",
    "    \"\"\"Find a single bound state in the energy window '(emin, emax)'.\n",
    "\n",
    "    Parameters\n",
    "    ----------\n",
    "    syst : kwant.system.FiniteSystem\n",
    "        Must have at least one lead attached. If you need to find bound\n",
    "        states of a finite system, use an eigensolver.\n",
    "    emin, emax : float\n",
    "        The energy bounds in which to search for bound states.\n",
    "    E_0: starting point of the newton method\n",
    "    args : tuple\n",
    "        Positional arguments to the system.\n",
    "    params : dict\n",
    "        Keyword arguments to the system.\n",
    "    eps : float\n",
    "        Tolerance with which to find the bound state.\n",
    "    return_wavefunction : bool\n",
    "        Whether or not to return the bound state wavefunction.\n",
    "    maxiter: maximum number of steps used by the newton method\n",
    "    eig_val: the number of eigenvalue to be computed. Only if sparse \n",
    "             is True\n",
    "    need_orth: Whether to orthogonalize the leads modes. Only necessary \n",
    "               for degenerate eigenmodes\n",
    "\n",
    "    Returns\n",
    "    -------\n",
    "    E: energy of the bound state\n",
    "    if return _wf is True:\n",
    "        psi_alpha_0: wavefunction in the scattering region\n",
    "        lmb: Evanescent modes in the lead at a given energy\n",
    "        q_e: \n",
    "        Phi: \n",
    "    elements fo compute the wavefunction in the leads\n",
    "\n",
    "    Notes\n",
    "    -----\n",
    "    TODO: finish this docstring\n",
    "    Can use Newton method to find the root. Downside of this method: \n",
    "    -needs a good initial guess (i.e. first Taylor expansion term bigger\n",
    "     than others) \n",
    "    -assume that the minimal eigenvalue is a smooth function, which is \n",
    "     not the case when a mode opens in the lead, or when the minimal \n",
    "     eigenvalue changes\n",
    "    Upside: Fast\n",
    "    Brentq:\n",
    "    from scipy, \"Generally considered the best of the rootfinding routines here\"\n",
    "\n",
    "    Returns at most 1 bound state...\n",
    "    \"\"\"\n",
    "    mat = extract_kwant_matrices(syst, sparse=sparse, args=args, params=params)\n",
    "\n",
    "    # To use Singular value decomposition and look for a minimum\n",
    "    return SVD_formulation(mat, E_range, tol, return_wf=return_wf, sparse=sparse)\n",
    "    # To use eigenvalue decomposition and look for a root\n",
    "    # return Hermitian_formulation(mat, E_0, return_wf=return_wf)\n",
    "\n",
    "def SVD_formulation(mat, E_range, tol, return_wf=False, sparse=False, sigma=None, sing_values=1):\n",
    "    \"\"\"\n",
    "    Compute the singular values of Eq.11\n",
    "    \"\"\"\n",
    "    def min_sing(e):\n",
    "        return min(singular_values(*mat, e, sparse=sparse, uv=False, sing_values=1))\n",
    "\n",
    "    minimum = minimize_scalar(min_sing, method='Bounded', bounds=E_range, \n",
    "                              options={'xatol': tol})\n",
    "    if minimum.fun > tol:\n",
    "        print(minimum.fun)\n",
    "        return None\n",
    "\n",
    "    E = minimum.x\n",
    "    if return_wf:\n",
    "        #print('here')\n",
    "        #print(minimum)\n",
    "        S, Wh, L_out, X_out = singular_values(*mat, E, sparse=sparse,\n",
    "                                              uv=True, sigma=sigma,\n",
    "                                              sing_values=sing_values)\n",
    "        \n",
    "        psi_alpha_0, q_e, L_out, Phi = compute_wf(S, Wh.conj().T, L_out, \n",
    "                                                X_out, mat[0].shape[0], \n",
    "                                                tol=tol,schur_modes=False)\n",
    "        return E, psi_alpha_0, q_e, L_out, Phi\n",
    "    else:\n",
    "        return E\n",
    "\n",
    "def Hermitian_formulation(mat, E_0, return_wf=False, fprime=eig_val_derivative):\n",
    "\n",
    "    def min_eig(e, *mat, sparse=sparse):\n",
    "        eig = eig_values(*mat, e, sparse=sparse, uv=False, sing_values=1)\n",
    "        idx = np.argmin(abs(eig))\n",
    "        return eig[idx]\n",
    "\n",
    "    try:\n",
    "        E = newton(min_eig, E_0, fprime=fprime, tol=tol, args=(*mat, sparse))\n",
    "\n",
    "        if not false_positive_BS(*mat, E, eps=eps):\n",
    "            print('False positive, no bound state')\n",
    "            return None\n",
    "        if return_wf:\n",
    "            S, Wh, L_out, X_out = eig_values(*mat, E, sparse=sparse,\n",
    "                                             uv=True)\n",
    "            psi_alpha_0, q_e, L_out, Phi = compute_wf(S, Wh.conj().T, L_out, \n",
    "                                                X_out, mat[0].shape, \n",
    "                                                tol=tol,schur_modes=False)\n",
    "            return E, psi_alpha_0, q_e, L_out, Phi\n",
    "        else:\n",
    "            return E\n",
    "\n",
    "    except RuntimeError:\n",
    "        print('no bound states found')\n",
    "\n",
    "def wf_in_leads(q_e, L_out, Phi, j):\n",
    "    \"\"\"\n",
    "    Compute the bound state wavefunction in the jth cell of the lead.\n",
    "    According to M.W. notes, the first unit cell is labbelled by 1.\n",
    "    Eq.7 in the paper\n",
    "    \"\"\"\n",
    "    return Phi @ np.linalg.matrix_power(L_out, j) @ q_e \n"
   ]
  },
  {
   "cell_type": "markdown",
   "id": "ea5fd04c-e1d4-46b9-87ac-e80b63a704df",
   "metadata": {},
   "source": [
    "# Non-Working case example"
   ]
  },
  {
   "cell_type": "markdown",
   "id": "83942ca2-ea5c-4ec2-82de-f9e798244c25",
   "metadata": {},
   "source": [
    "## Two-orbital BdG"
   ]
  },
  {
   "cell_type": "markdown",
   "id": "31469e9f-92d8-4c71-b59a-dabd6267d347",
   "metadata": {},
   "source": [
    "We encounter some major problems when we try to implement the simplest BdG Hamiltonian: (-mu+A k_x^2) tau_z + Delta tau_x. Compare to the previous case, where we have a B field splitting and mixing the two spin states, the only difference is that the hopping not has a sigma_z basis. However, If the Hamiltonian only has the (-mu+A*k_x^2)*tau_z term, it will still be well-behaved as above. This is the simplest case we have managed to reduce to to capture the faulty problems we have encountered in more involved models."
   ]
  },
  {
   "cell_type": "markdown",
   "id": "7b35039d-a9b4-4b1b-8f88-fda8f2c2fb37",
   "metadata": {},
   "source": [
    "### System creation"
   ]
  },
  {
   "cell_type": "code",
   "execution_count": 102,
   "id": "f103f4a8-b73b-4e3e-b744-b411f2e08c34",
   "metadata": {},
   "outputs": [],
   "source": [
    "params = dict(\n",
    "    mu = 0.,\n",
    "    A = 1,\n",
    "    Delta=1e-3\n",
    ")\n",
    "\n",
    "def make_system1(params, L=11):\n",
    "    a = 1\n",
    "    mu, A, Delta = params.values()\n",
    "    \n",
    "    lat = kwant.lattice.chain()\n",
    "    syst = kwant.Builder()\n",
    "    \n",
    "    # Pauli matrices\n",
    "    sigma_0 = np.array([[1, 0], [0, 1]])\n",
    "    sigma_x = np.array([[0, 1], [1, 0]])\n",
    "    sigma_y = np.array([[0, -1j], [1j, 0]])\n",
    "    sigma_z = np.array([[1, 0], [0, -1]])\n",
    "    \n",
    "    ham = (2.*A/(a**2.)-mu)*sigma_z\n",
    "    hop = -A/(a**2.)*sigma_z\n",
    "    \n",
    "    ham_leads = ham + Delta*sigma_x\n",
    "    hop_leads = hop\n",
    "    \n",
    "    syst[(lat(x) for x in range(-L*100, 0))] = ham_leads\n",
    "    syst[(lat(x) for x in range(0, L))] = ham\n",
    "    syst[(lat(x) for x in range(L, 101*L))] = ham_leads\n",
    "    syst[((lat(x), lat(x+1)) for x in range(-L*100, 101*L-1))] = hop\n",
    "    \n",
    "    sym_left = kwant.TranslationalSymmetry([-1])\n",
    "    lead0 = kwant.Builder(sym_left)\n",
    "    lead0[(lat(-L*100-1))] = ham_leads\n",
    "    lead0[lat.neighbors()] = hop_leads\n",
    "    sym_right = kwant.TranslationalSymmetry([1])\n",
    "    lead1 = kwant.Builder(sym_right)\n",
    "    lead1[(lat(101*L))] =  ham_leads\n",
    "    lead1[lat.neighbors()] = hop_leads\n",
    "    \n",
    "    syst.attach_lead(lead0)\n",
    "    syst.attach_lead(lead1)\n",
    "\n",
    "    return syst.finalized()\n",
    "\n",
    "syst = make_system1(params)"
   ]
  },
  {
   "cell_type": "code",
   "execution_count": 103,
   "id": "20f3bad0-6243-4dc5-ac97-8e1d016b7a85",
   "metadata": {},
   "outputs": [
    {
     "data": {
      "text/plain": [
       "[<matplotlib.lines.Line2D at 0x15e8180d0>,\n",
       " <matplotlib.lines.Line2D at 0x15e818130>]"
      ]
     },
     "execution_count": 103,
     "metadata": {},
     "output_type": "execute_result"
    },
    {
     "data": {
      "image/png": "[encoded data removed]",
      "text/plain": [
       "<Figure size 432x288 with 1 Axes>"
      ]
     },
     "metadata": {
      "needs_background": "light"
     },
     "output_type": "display_data"
    }
   ],
   "source": [
    "from matplotlib import pyplot as plt\n",
    "bands=kwant.physics.Bands(syst.leads[1], params=params)\n",
    "momenta=np.linspace(-np.pi,np.pi,101)\n",
    "en=[bands(k) for k in momenta]\n",
    "x=np.array(en)\n",
    "en=(x)\n",
    "plt.plot(momenta, en)\n",
    "#plt.axhline(1.4)"
   ]
  },
  {
   "cell_type": "code",
   "execution_count": null,
   "id": "33c15e23-d43d-4a1c-80d0-7247ca5d3118",
   "metadata": {},
   "outputs": [],
   "source": []
  },
  {
   "cell_type": "markdown",
   "id": "df932be4-2f96-4fa9-a053-8b4eb7d7dc3a",
   "metadata": {},
   "source": [
    "### Scanning boundstate energies and extracting boundstate wavefunctions"
   ]
  },
  {
   "cell_type": "code",
   "execution_count": 104,
   "id": "34f5bb20-584c-42b9-9727-dadaa149382c",
   "metadata": {},
   "outputs": [],
   "source": [
    "energies, wavefunctions = find_boundstates(syst, -2e-3, 2e-3, rtol=1e-5, params=params)"
   ]
  },
  {
   "cell_type": "code",
   "execution_count": 105,
   "id": "8bf3e400-fa4f-482f-809a-ef45d6579b13",
   "metadata": {},
   "outputs": [
    {
     "data": {
      "text/plain": [
       "array([-0.0018708 , -0.00169075, -0.00153278, -0.00139742, -0.00128482,\n",
       "       -0.00119455, -0.0011254 , -0.00107527, -0.00092758,  0.00092758,\n",
       "        0.00107527,  0.0011254 ,  0.00119455,  0.00128482,  0.00139742,\n",
       "        0.00153278,  0.00169075,  0.0018708 ])"
      ]
     },
     "execution_count": 105,
     "metadata": {},
     "output_type": "execute_result"
    }
   ],
   "source": [
    "energies"
   ]
  },
  {
   "cell_type": "code",
   "execution_count": 106,
   "id": "bab4f1a6-2b72-4576-ac5e-18356f927988",
   "metadata": {},
   "outputs": [
    {
     "name": "stdout",
     "output_type": "stream",
     "text": [
      "0\n",
      "[-0.0018708 -0.0018708]\n",
      "9.528705086208331e-05\n",
      "1\n",
      "[-0.00169075 -0.00169075]\n",
      "8.439534118077452e-05\n",
      "2\n",
      "[-0.00153278 -0.00153278]\n",
      "7.319116545890352e-05\n",
      "3\n",
      "[-0.00139742 -0.00139742]\n",
      "6.180005866550657e-05\n",
      "4\n",
      "[-0.00128482 -0.00128482]\n",
      "5.045663877485567e-05\n",
      "5\n",
      "[-0.00119455 -0.00119455]\n",
      "3.951272752995389e-05\n",
      "6\n",
      "[-0.0011254 -0.0011254]\n",
      "2.9402969634863894e-05\n",
      "7\n",
      "[-0.00107527 -0.00107527]\n",
      "2.056167963490322e-05\n",
      "8\n",
      "[-0.00092758 -0.00092758]\n",
      "9\n",
      "[0.00092758 0.00092758]\n",
      "10\n",
      "[0.00107527 0.00107527]\n",
      "2.0561679635157162e-05\n",
      "11\n",
      "[0.0011254 0.0011254]\n",
      "2.940296963490167e-05\n",
      "12\n",
      "[0.00119455 0.00119455]\n",
      "3.951272753011462e-05\n",
      "13\n",
      "[0.00128482 0.00128482]\n",
      "5.045663877507547e-05\n",
      "14\n",
      "[0.00139742 0.00139742]\n",
      "6.18000586653992e-05\n",
      "15\n",
      "[0.00153278 0.00153278]\n",
      "7.319116545887476e-05\n",
      "16\n",
      "[0.00169075 0.00169075]\n",
      "8.439534118100552e-05\n",
      "17\n",
      "[0.0018708 0.0018708]\n",
      "9.528705086238204e-05\n",
      "9.528705086208331e-05\n",
      "8.439534118077452e-05\n",
      "7.319116545890352e-05\n",
      "6.180005866550657e-05\n",
      "5.045663877485567e-05\n",
      "3.951272752995389e-05\n",
      "2.9402969634863894e-05\n",
      "2.056167963490322e-05\n",
      "2.0561679635157162e-05\n",
      "2.940296963490167e-05\n",
      "3.951272753011462e-05\n",
      "5.045663877507547e-05\n",
      "6.18000586653992e-05\n",
      "7.319116545887476e-05\n",
      "8.439534118100552e-05\n",
      "9.528705086238204e-05\n"
     ]
    },
    {
     "data": {
      "image/png": "[encoded data removed]",
      "text/plain": [
       "<Figure size 1080x1080 with 36 Axes>"
      ]
     },
     "metadata": {
      "needs_background": "light"
     },
     "output_type": "display_data"
    }
   ],
   "source": [
    "e_compare, wavefunc_lleads, wavefunc_rleads, wavefunc_scat, no_cells_lleads, no_cells_rleads = istas_scan(energies, syst, params=params, all_out=True)"
   ]
  },
  {
   "cell_type": "code",
   "execution_count": 107,
   "id": "7743d666-6685-403a-b642-ff98bb4117a6",
   "metadata": {},
   "outputs": [
    {
     "data": {
      "text/plain": [
       "array([-0.00092758,  0.00092758])"
      ]
     },
     "execution_count": 107,
     "metadata": {},
     "output_type": "execute_result"
    }
   ],
   "source": [
    "np.array(e_compare)"
   ]
  },
  {
   "cell_type": "markdown",
   "id": "5c719655-6c3c-4419-a808-3e56ece5e755",
   "metadata": {},
   "source": [
    "### The wavefunctions are now discontinuous. Moreover, the wavefunctions of the two states does not seem to observe PHS."
   ]
  },
  {
   "cell_type": "markdown",
   "id": "9ce645fd-6ff7-4bd4-bd0e-7fe7e0bd0ab1",
   "metadata": {},
   "source": [
    "### Comparing Istas and Weston wavefunctions"
   ]
  },
  {
   "cell_type": "code",
   "execution_count": 165,
   "id": "8e3af878-038c-4fcd-83ab-f786a8438e5f",
   "metadata": {},
   "outputs": [
    {
     "data": {
      "text/plain": [
       "(700.0, 1511.0)"
      ]
     },
     "execution_count": 165,
     "metadata": {},
     "output_type": "execute_result"
    },
    {
     "data": {
      "image/png": "[encoded data removed]",
      "text/plain": [
       "<Figure size 432x288 with 1 Axes>"
      ]
     },
     "metadata": {
      "needs_background": "light"
     },
     "output_type": "display_data"
    }
   ],
   "source": [
    "#plt.plot(np.arange(len(wavefunctions[:,8])/2), np.abs(wavefunctions[:,8][::2])**2.)\n",
    "plt.plot(np.arange(len(wavefunc_scat[0].flatten())/2), np.abs(wavefunc_scat[0].flatten()[::2])**2.)\n",
    "plt.plot(np.arange(-len(wavefunc_lleads[0])/2+1, 1), np.abs(wavefunc_lleads[0][::2])**2.)\n",
    "plt.plot(np.arange(len(wavefunc_scat[0].flatten())/2, len(wavefunc_lleads[0])/2+len(wavefunc_scat[0].flatten())/2), np.abs(wavefunc_rleads[0][::2])**2.)\n",
    "plt.axvline(100*11, c='k', ls='--', alpha=0.7)\n",
    "plt.axvline(101*11, c='k', ls='--', alpha=0.7)\n",
    "plt.xlim(1100-400, 1111+400)"
   ]
  },
  {
   "cell_type": "code",
   "execution_count": 170,
   "id": "54450419-ad6c-465e-bb9f-6e638c36fd8f",
   "metadata": {},
   "outputs": [
    {
     "data": {
      "text/plain": [
       "(1000.0, 1211.0)"
      ]
     },
     "execution_count": 170,
     "metadata": {},
     "output_type": "execute_result"
    },
    {
     "data": {
      "image/png": "[encoded data removed]",
      "text/plain": [
       "<Figure size 432x288 with 1 Axes>"
      ]
     },
     "metadata": {
      "needs_background": "light"
     },
     "output_type": "display_data"
    }
   ],
   "source": [
    "plt.plot(np.arange(len(wavefunc_scat[0].flatten())/2), np.real(wavefunc_scat[0].flatten()[::2]))\n",
    "plt.plot(np.arange(-len(wavefunc_lleads[0])/2+1, 1), np.real(wavefunc_lleads[0][::2]))\n",
    "plt.plot(np.arange(len(wavefunc_scat[0].flatten())/2, len(wavefunc_lleads[0])/2+len(wavefunc_scat[0].flatten())/2), np.real(wavefunc_rleads[0][::2]))\n",
    "plt.axvline(100*11, c='k', ls='--', alpha=0.7)\n",
    "plt.axvline(101*11, c='k', ls='--', alpha=0.7)\n",
    "plt.xlim(1100-100, 1111+100)"
   ]
  },
  {
   "cell_type": "code",
   "execution_count": 172,
   "id": "3ca49985-d86b-4acf-ae13-055ceeb1b205",
   "metadata": {},
   "outputs": [
    {
     "data": {
      "text/plain": [
       "(700.0, 1511.0)"
      ]
     },
     "execution_count": 172,
     "metadata": {},
     "output_type": "execute_result"
    },
    {
     "data": {
      "image/png": "[encoded data removed]",
      "text/plain": [
       "<Figure size 432x288 with 1 Axes>"
      ]
     },
     "metadata": {
      "needs_background": "light"
     },
     "output_type": "display_data"
    }
   ],
   "source": [
    "plt.plot(np.arange(len(wavefunc_scat[0].flatten())/2), np.imag(wavefunc_scat[0].flatten()[::2]))\n",
    "plt.plot(np.arange(-len(wavefunc_lleads[0])/2+1, 1), np.imag(wavefunc_lleads[0][::2]))\n",
    "plt.plot(np.arange(len(wavefunc_scat[0].flatten())/2, len(wavefunc_lleads[0])/2+len(wavefunc_scat[0].flatten())/2), np.imag(wavefunc_rleads[0][::2]))\n",
    "plt.axvline(100*11, c='k', ls='--', alpha=0.7)\n",
    "plt.axvline(101*11, c='k', ls='--', alpha=0.7)\n",
    "plt.xlim(1100-400, 1111+400)"
   ]
  },
  {
   "cell_type": "code",
   "execution_count": null,
   "id": "fcfe1d5a-ba09-40a8-8031-45d74d1a8546",
   "metadata": {},
   "outputs": [],
   "source": []
  },
  {
   "cell_type": "code",
   "execution_count": 115,
   "id": "270ff72c-77af-4fe8-8b2b-555d8889da33",
   "metadata": {},
   "outputs": [
    {
     "data": {
      "text/plain": [
       "array([-0.99970051-0.02545794j, -0.99967429-0.02545668j,\n",
       "       -0.99969556-0.0254577j , ..., -0.99967687-0.02545685j,\n",
       "       -0.99966781-0.02545655j, -0.99967682-0.02545685j])"
      ]
     },
     "execution_count": 115,
     "metadata": {},
     "output_type": "execute_result"
    }
   ],
   "source": [
    "# Weston scat wavefunction / Istas scat wavefuntion at energy=-0.00092758\n",
    "wavefunctions[:,8]/wavefunc_scat[0].flatten()"
   ]
  },
  {
   "cell_type": "code",
   "execution_count": 116,
   "id": "db877008-f328-45d9-84b2-953fbf6b9a1b",
   "metadata": {},
   "outputs": [
    {
     "data": {
      "text/plain": [
       "0.9999999999999996"
      ]
     },
     "execution_count": 116,
     "metadata": {},
     "output_type": "execute_result"
    }
   ],
   "source": [
    "# The wavefunctions, despite having gone through the normalisation procedures detailed in the appendix of Istas et al.\n",
    "# do not sum to 1 in real space.\n",
    "np.sum(np.abs(wavefunc_scat[0].flatten())**2.)+np.sum(np.abs(wavefunc_lleads[0][2:])**2.)+np.sum(np.abs(wavefunc_rleads[0][2:])**2.)"
   ]
  },
  {
   "cell_type": "markdown",
   "id": "82e423cb-334e-45b0-831c-5ba506cf77e3",
   "metadata": {},
   "source": [
    "The same continuity between scattering region and leads are observed in the Weston wavefunctions as well. However, due to the evanescent modes usually being stored as Schur rather than eigenvectors, we only calculate the wavefunction at j=0 cells and see if it agrees with the last unit cell in the scattering region. It does in this working example."
   ]
  },
  {
   "cell_type": "code",
   "execution_count": 120,
   "id": "7319168a-65f5-4032-8eff-3281c2a309df",
   "metadata": {},
   "outputs": [],
   "source": [
    "weston_psi = extract_boundstates(syst, energy=energies[8], params=params)"
   ]
  },
  {
   "cell_type": "code",
   "execution_count": 121,
   "id": "655f2e4b-4cd5-41e3-b81a-e4dff952c795",
   "metadata": {},
   "outputs": [
    {
     "data": {
      "text/plain": [
       "(4426, 1)"
      ]
     },
     "execution_count": 121,
     "metadata": {},
     "output_type": "execute_result"
    }
   ],
   "source": [
    "weston_psi.shape"
   ]
  },
  {
   "cell_type": "code",
   "execution_count": 124,
   "id": "68ee28cc-c796-4bf2-a189-fd01a71aee1a",
   "metadata": {},
   "outputs": [
    {
     "data": {
      "text/plain": [
       "array([-0.99703285+0.07697725j, -0.99703285+0.07697725j,\n",
       "       -0.99703285+0.07697725j, ..., -0.99703285+0.07697725j,\n",
       "       -0.99703285+0.07697725j, -0.99703285+0.07697725j])"
      ]
     },
     "execution_count": 124,
     "metadata": {},
     "output_type": "execute_result"
    }
   ],
   "source": [
    "weston_psi.flatten()[:4422]/wavefunctions[:,8]"
   ]
  },
  {
   "cell_type": "code",
   "execution_count": 125,
   "id": "c93a0cc6-1555-4064-9caf-0f0dfde6c335",
   "metadata": {},
   "outputs": [
    {
     "data": {
      "text/plain": [
       "array([1.34658276e-09+3.42914949e-11j, 8.82569644e-09+2.24751374e-10j,\n",
       "       1.73860129e-09+4.42744697e-11j, ...,\n",
       "       8.59278850e-09+2.18820241e-10j, 1.34658276e-09+3.42914950e-11j,\n",
       "       8.82569644e-09+2.24751374e-10j])"
      ]
     },
     "execution_count": 125,
     "metadata": {},
     "output_type": "execute_result"
    }
   ],
   "source": [
    "wavefunctions[:,8]"
   ]
  },
  {
   "cell_type": "code",
   "execution_count": 126,
   "id": "b6de4bde-d25d-4e54-aa7f-1f7a4c657e55",
   "metadata": {},
   "outputs": [],
   "source": [
    "# transform vecs and vecslmbdainv to \"eigenvectors\" based on https://gitlab.kwant-project.org/kwant/kwant/-/merge_requests/39\n",
    "vecslmbdainv, vecs = vecs_vecslmbdainv(syst, energies[8], params, lead_no=1)\n",
    "phi, phi_lmbda = inverse_A_B_alt(syst, vecslmbdainv, vecs, params)"
   ]
  },
  {
   "cell_type": "code",
   "execution_count": 127,
   "id": "8a4543f2-84ca-4841-b739-26b7678ab7ef",
   "metadata": {},
   "outputs": [
    {
     "data": {
      "text/plain": [
       "array([[0.98900859+0.j, 0.91840549+0.j],\n",
       "       [0.98378235-0.j, 1.05759309+0.j]])"
      ]
     },
     "execution_count": 127,
     "metadata": {},
     "output_type": "execute_result"
    }
   ],
   "source": [
    "phi_lmbda/phi"
   ]
  },
  {
   "cell_type": "code",
   "execution_count": 128,
   "id": "1c9aa32a-fabe-4a28-a864-14b31c93bfcd",
   "metadata": {},
   "outputs": [
    {
     "data": {
      "text/plain": [
       "array([[-1.34522691e-09+6.94664954e-11j],\n",
       "       [-8.81681002e-09+4.55293370e-10j]])"
      ]
     },
     "execution_count": 128,
     "metadata": {},
     "output_type": "execute_result"
    }
   ],
   "source": [
    "#j=0 unit cell in right lead\n",
    "phi@weston_psi[-2:]"
   ]
  },
  {
   "cell_type": "code",
   "execution_count": 129,
   "id": "a180a244-3203-4132-a7ab-5b88788d5c29",
   "metadata": {},
   "outputs": [
    {
     "data": {
      "text/plain": [
       "array([[-1.34522691e-09+6.94664954e-11j],\n",
       "       [-8.81681002e-09+4.55293370e-10j]])"
      ]
     },
     "execution_count": 129,
     "metadata": {},
     "output_type": "execute_result"
    }
   ],
   "source": [
    "# last unit cell in scattering region\n",
    "weston_psi[-6:-4]"
   ]
  },
  {
   "cell_type": "code",
   "execution_count": 163,
   "id": "953bdf15-dd65-405a-a390-7900c9aa174a",
   "metadata": {},
   "outputs": [
    {
     "data": {
      "text/plain": [
       "array([[ 7.90040441e-09-4.07970881e-10j],\n",
       "       [-1.04173109e-08+5.37942020e-10j]])"
      ]
     },
     "execution_count": 163,
     "metadata": {},
     "output_type": "execute_result"
    }
   ],
   "source": [
    "weston_psi[-2:]"
   ]
  },
  {
   "cell_type": "markdown",
   "id": "92b3fa5c-5267-4add-b005-1167efe2f428",
   "metadata": {},
   "source": [
    "Weston wavefunctions seem to be continuous."
   ]
  },
  {
   "cell_type": "markdown",
   "id": "05ffe0ec-a55c-4b2d-8a7b-45dc0be34efd",
   "metadata": {},
   "source": [
    "### Diagonal matrix elements"
   ]
  },
  {
   "cell_type": "markdown",
   "id": "78f546bd-5d0b-4f0c-a475-90ec97c59c7a",
   "metadata": {},
   "source": [
    "Here we validate that the Istas wavefunctions are the energy eigenstates of the total (leads+scat) system Hamiltonian."
   ]
  },
  {
   "cell_type": "code",
   "execution_count": 131,
   "id": "b15d2e7a-6148-441c-a748-a9d43d4e3b90",
   "metadata": {},
   "outputs": [],
   "source": [
    "def finite_system1(params, L_leads, L=11):\n",
    "    a = 1\n",
    "    mu, A, Delta = params.values()\n",
    "    L_leads = int(L_leads)\n",
    "    \n",
    "    lat = kwant.lattice.chain()\n",
    "    syst = kwant.Builder()\n",
    "    \n",
    "    # Pauli matrices\n",
    "    sigma_0 = np.array([[1, 0], [0, 1]])\n",
    "    sigma_x = np.array([[0, 1], [1, 0]])\n",
    "    sigma_y = np.array([[0, -1j], [1j, 0]])\n",
    "    sigma_z = np.array([[1, 0], [0, -1]])\n",
    "    \n",
    "    ham = (2.*A/(a**2.)-mu)*sigma_z\n",
    "    hop = -A/(a**2.)*sigma_z\n",
    "    \n",
    "    ham_leads = ham + Delta*sigma_x\n",
    "    hop_leads = hop\n",
    "    \n",
    "    syst[(lat(x) for x in range(-L_leads-100*L+1, 0))] = ham_leads\n",
    "    syst[(lat(x) for x in range(0, L))] = ham\n",
    "    syst[(lat(x) for x in range(L, L_leads+101*L-1))] = ham_leads\n",
    "    syst[((lat(x), lat(x+1)) for x in range(-L_leads-100*L+1, L_leads+101*L-2))] = hop\n",
    "\n",
    "    return syst.finalized()"
   ]
  },
  {
   "cell_type": "code",
   "execution_count": 132,
   "id": "8ea6bc2f-cccd-4b36-a684-033aa6a5d35c",
   "metadata": {},
   "outputs": [],
   "source": [
    "normalisation_check = []\n",
    "eigenenergy_check = []\n",
    "finite_syst1 = finite_system1(params, no_cells_lleads[0])\n",
    "for i in range(len(wavefunc_scat)):\n",
    "    wavefunc_left_temp = np.c_[wavefunc_lleads[i][2:][::2][::-1], wavefunc_lleads[i][2:][1::2][::-1]].flatten()\n",
    "    psi0 = np.r_[wavefunc_left_temp, wavefunc_scat[i].flatten(), wavefunc_lleads[i][2:]]\n",
    "    norm = psi0.T.conj()@psi0\n",
    "    eigenenergy = psi0.T.conj()@finite_syst1.hamiltonian_submatrix()@psi0\n",
    "    normalisation_check.append(norm)\n",
    "    eigenenergy_check.append(eigenenergy)"
   ]
  },
  {
   "cell_type": "code",
   "execution_count": 133,
   "id": "f335a7d8-ffca-423e-b742-8f9c2cdbac68",
   "metadata": {},
   "outputs": [
    {
     "data": {
      "text/plain": [
       "[(0.9999999999999991+0j), (0.9999999999999982+0j)]"
      ]
     },
     "execution_count": 133,
     "metadata": {},
     "output_type": "execute_result"
    }
   ],
   "source": [
    "normalisation_check"
   ]
  },
  {
   "cell_type": "code",
   "execution_count": 134,
   "id": "b694c87d-4e84-4fb4-99e7-6fa5fa530fb8",
   "metadata": {},
   "outputs": [
    {
     "data": {
      "text/plain": [
       "array([-0.00092758,  0.00092758])"
      ]
     },
     "execution_count": 134,
     "metadata": {},
     "output_type": "execute_result"
    }
   ],
   "source": [
    "np.real(eigenenergy_check)"
   ]
  },
  {
   "cell_type": "code",
   "execution_count": 135,
   "id": "3abddfe2-0b84-4151-b34e-663b3f470695",
   "metadata": {},
   "outputs": [
    {
     "data": {
      "text/plain": [
       "[-0.0009275841974484921, 0.0009275841974484945]"
      ]
     },
     "execution_count": 135,
     "metadata": {},
     "output_type": "execute_result"
    }
   ],
   "source": [
    "e_compare"
   ]
  },
  {
   "cell_type": "markdown",
   "id": "1e32e730-acb6-4c26-bc1c-c6abf61f3339",
   "metadata": {},
   "source": []
  },
  {
   "cell_type": "markdown",
   "id": "559e80cb-5993-4bb6-9f33-4ec47a66c29c",
   "metadata": {},
   "source": [
    "e=-0.0009"
   ]
  },
  {
   "cell_type": "code",
   "execution_count": 136,
   "id": "58f1172c-3cf5-4b26-af01-77403df58b70",
   "metadata": {},
   "outputs": [],
   "source": [
    "finite_syst1 = finite_system1(params, no_cells_lleads[0])"
   ]
  },
  {
   "cell_type": "code",
   "execution_count": 137,
   "id": "7a2a3555-93ec-4444-b19e-cd265f39fd7f",
   "metadata": {},
   "outputs": [
    {
     "data": {
      "text/plain": [
       "167.0"
      ]
     },
     "execution_count": 137,
     "metadata": {},
     "output_type": "execute_result"
    }
   ],
   "source": [
    "no_cells_lleads[0]"
   ]
  },
  {
   "cell_type": "code",
   "execution_count": 138,
   "id": "f9015fc2-24eb-4d32-8d3a-3cb055a36072",
   "metadata": {},
   "outputs": [],
   "source": [
    "ind=0\n",
    "wavefunc_left_temp = np.c_[wavefunc_lleads[ind][2:][::2][::-1], wavefunc_lleads[ind][2:][1::2][::-1]].flatten()\n",
    "psi0 = np.r_[wavefunc_left_temp, wavefunc_scat[ind].flatten(), wavefunc_lleads[ind][2:]]"
   ]
  },
  {
   "cell_type": "code",
   "execution_count": 139,
   "id": "e30ab2f8-7d46-4c76-a3ae-033a1e698073",
   "metadata": {},
   "outputs": [
    {
     "data": {
      "text/plain": [
       "array([ 9.90747015e-01-2.53581147e-02j, -9.97220237e-01+1.53610097e-02j,\n",
       "       -9.27584197e-04+5.65495501e-16j, ...,\n",
       "       -9.27584197e-04+4.00837777e-16j,  9.90747015e-01-2.53581147e-02j,\n",
       "       -9.97220237e-01+1.53610097e-02j])"
      ]
     },
     "execution_count": 139,
     "metadata": {},
     "output_type": "execute_result"
    }
   ],
   "source": [
    "(finite_syst1.hamiltonian_submatrix()@psi0)/psi0"
   ]
  },
  {
   "cell_type": "code",
   "execution_count": 166,
   "id": "26489ede-ee2c-4809-982d-c6d63f7056f7",
   "metadata": {},
   "outputs": [
    {
     "data": {
      "text/plain": [
       "array([-1266., -1101., -1100.,  1110.,  1111.,  1276.])"
      ]
     },
     "execution_count": 166,
     "metadata": {},
     "output_type": "execute_result"
    }
   ],
   "source": [
    "ind=0\n",
    "sth = np.abs((finite_syst1.hamiltonian_submatrix()@psi0)/psi0)+e_compare[ind]\n",
    "((np.where(np.around(sth, 2)!=0)[0]+1)[1::2]/2)-(no_cells_lleads[0]+11*100)"
   ]
  },
  {
   "cell_type": "markdown",
   "id": "bbd30c53-304f-44be-b41d-758ef4dabd86",
   "metadata": {},
   "source": [
    "Deviations at edges of leads, and boundaries between leads and scattering region. Why do these deviations occur?"
   ]
  },
  {
   "cell_type": "markdown",
   "id": "793fc151-2d3f-4b7c-bd04-7b615b42a262",
   "metadata": {},
   "source": [
    "e=0.0009"
   ]
  },
  {
   "cell_type": "code",
   "execution_count": 141,
   "id": "4037e33a-a92b-484d-9878-ef748fae70e9",
   "metadata": {},
   "outputs": [],
   "source": [
    "ind=1\n",
    "wavefunc_left_temp = np.c_[wavefunc_lleads[ind][2:][::2][::-1], wavefunc_lleads[ind][2:][1::2][::-1]].flatten()\n",
    "psi0 = np.r_[wavefunc_left_temp, wavefunc_scat[ind].flatten(), wavefunc_lleads[ind][2:]]"
   ]
  },
  {
   "cell_type": "code",
   "execution_count": 142,
   "id": "8d60c6b3-b729-4ff6-8e0d-04b12382d2b2",
   "metadata": {},
   "outputs": [
    {
     "data": {
      "text/plain": [
       "array([ 1.00047836e+00+2.46785673e-02j, -9.77807883e-01-3.15270640e-02j,\n",
       "        9.27584197e-04-1.08479545e-15j, ...,\n",
       "        9.27584197e-04+1.85769188e-16j,  1.00047836e+00+2.46785673e-02j,\n",
       "       -9.77807883e-01-3.15270640e-02j])"
      ]
     },
     "execution_count": 142,
     "metadata": {},
     "output_type": "execute_result"
    }
   ],
   "source": [
    "(finite_syst1.hamiltonian_submatrix()@psi0)/psi0"
   ]
  },
  {
   "cell_type": "code",
   "execution_count": 143,
   "id": "7be6ea25-7dc6-4692-bda6-a5c391cb1b19",
   "metadata": {},
   "outputs": [
    {
     "data": {
      "text/plain": [
       "array([-177.,  -12.,  -11., 2199., 2200., 2365.])"
      ]
     },
     "execution_count": 143,
     "metadata": {},
     "output_type": "execute_result"
    }
   ],
   "source": [
    "ind=1\n",
    "sth = np.real((finite_syst1.hamiltonian_submatrix()@psi0)/psi0)-e_compare[ind]\n",
    "((np.where(np.around(sth, 2)!=0)[0]+1)[1::2]/2)-(no_cells_lleads[0]+11)"
   ]
  },
  {
   "cell_type": "code",
   "execution_count": null,
   "id": "5d6fb073-e8cb-4928-bf34-93d9837b43b5",
   "metadata": {},
   "outputs": [],
   "source": []
  }
 ],
 "metadata": {
  "kernelspec": {
   "display_name": "Python 3 (ipykernel)",
   "language": "python",
   "name": "python3"
  },
  "language_info": {
   "codemirror_mode": {
    "name": "ipython",
    "version": 3
   },
   "file_extension": ".py",
   "mimetype": "text/x-python",
   "name": "python",
   "nbconvert_exporter": "python",
   "pygments_lexer": "ipython3",
   "version": "3.9.6"
  }
 },
 "nbformat": 4,
 "nbformat_minor": 5
}
