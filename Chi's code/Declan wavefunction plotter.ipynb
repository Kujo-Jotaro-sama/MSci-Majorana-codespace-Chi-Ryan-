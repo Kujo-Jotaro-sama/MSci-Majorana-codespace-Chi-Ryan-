{
 "cells": [
  {
   "cell_type": "code",
   "execution_count": 3,
   "id": "48544032-8da3-45ca-a814-4145e49528f2",
   "metadata": {},
   "outputs": [],
   "source": [
    "from matplotlib import pyplot as plt\n",
    "import numpy as np"
   ]
  },
  {
   "cell_type": "code",
   "execution_count": 4,
   "id": "e2cdf7c8-4d40-46cd-92e0-05730ea45bb8",
   "metadata": {},
   "outputs": [],
   "source": [
    "def wavefunc_visualiser(psi, pt_index, size=61, orbital_no=8):\n",
    "    '''psi - boundstate wavefunction object. In general a (L, N) matrix (L being the size of the scattering region\n",
    "       Hamiltonian and N the number of solutions returned by the boundstate algorithm). \n",
    "       \n",
    "       pt_index -  an index that selects the eigenvector corresponding to the N'th boundstate energy. Could be irrelevant\n",
    "       for your purposes, in which case treat \"psi[:, pt_index]\" as your input wavefunction (if you only have one\n",
    "       wavefunction)\n",
    "       \n",
    "       size - number of lattice sites in the scattering region Hamiltonian\n",
    "       \n",
    "       orbital_no - number of orbitals per site.\n",
    "       \n",
    "    '''\n",
    "    wavefunc = psi[:, pt_index]\n",
    "    orbitals = []\n",
    "    labels = [r'$|\\psi_{0, \\uparrow}^{e}|^2$', r'$|\\psi_{0, \\downarrow}^{e}|^2$', r'$|\\psi_{1, \\uparrow}^{e}|^2$', r'$|\\psi_{1, \\downarrow}^{e}|^2$', r'$|\\psi_{0, \\uparrow}^{h}|^2$', r'$|\\psi_{0, \\downarrow}^{h}|^2$', r'$|\\psi_{1, \\uparrow}^{h}|^2$', r'$|\\psi_{1, \\downarrow}^{h}|^2$']\n",
    "    for i in range(orbital_no):\n",
    "        orbitals.append(wavefunc[i::orbital_no])\n",
    "    \n",
    "    fig, axes = plt.subplots(int(orbital_no/2), 2, figsize=(15,15))\n",
    "    for i in range(len(axes.ravel())):\n",
    "        axes.ravel()[i].plot(np.arange(0, size), np.abs(orbitals[i])**2.)\n",
    "        axes.ravel()[i].set(xlabel='Site indices', ylabel=labels[i])\n",
    "        axes.ravel()[i].xaxis.label.set_fontsize(16)\n",
    "        axes.ravel()[i].yaxis.label.set_fontsize(18)\n",
    "    \n",
    "    #print orbital probs\n",
    "    orbital_probs = []\n",
    "    for i in range(orbital_no):\n",
    "        orbital_prob = np.sum(np.abs(orbitals[i])**2.)\n",
    "        orbital_probs.append(orbital_prob)\n",
    "        print(orbital_prob)\n",
    "    \n",
    "    #print total prob\n",
    "    orbital_probs = np.array(orbital_probs)\n",
    "    print(np.sum(orbital_probs))\n",
    "    \n",
    "    return orbital_probs"
   ]
  }
 ],
 "metadata": {
  "kernelspec": {
   "display_name": "Python 3 (ipykernel)",
   "language": "python",
   "name": "python3"
  },
  "language_info": {
   "codemirror_mode": {
    "name": "ipython",
    "version": 3
   },
   "file_extension": ".py",
   "mimetype": "text/x-python",
   "name": "python",
   "nbconvert_exporter": "python",
   "pygments_lexer": "ipython3",
   "version": "3.9.6"
  }
 },
 "nbformat": 4,
 "nbformat_minor": 5
}
