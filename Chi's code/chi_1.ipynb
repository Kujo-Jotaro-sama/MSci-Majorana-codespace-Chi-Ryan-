{
 "cells": [
  {
   "cell_type": "code",
   "execution_count": 1,
   "metadata": {},
   "outputs": [
    {
     "name": "stdout",
     "output_type": "stream",
     "text": [
      "1.4.1\n"
     ]
    }
   ],
   "source": [
    "import kwant\n",
    "print(kwant.version.version)\n",
    "import numpy as np\n",
    "import scipy.linalg as linalg\n",
    "import matplotlib.pyplot as plt"
   ]
  },
  {
   "cell_type": "code",
   "execution_count": null,
   "metadata": {},
   "outputs": [],
   "source": []
  },
  {
   "cell_type": "markdown",
   "metadata": {},
   "source": [
    "## Params"
   ]
  },
  {
   "cell_type": "code",
   "execution_count": 4,
   "metadata": {},
   "outputs": [
    {
     "name": "stdout",
     "output_type": "stream",
     "text": [
      "tau:\n",
      "[[0. 0. 1. 0.]\n",
      " [0. 0. 0. 1.]\n",
      " [1. 0. 0. 0.]\n",
      " [0. 1. 0. 0.]]\n",
      "[[0.+0.j 0.+0.j 0.-1.j 0.-0.j]\n",
      " [0.+0.j 0.+0.j 0.-0.j 0.-1.j]\n",
      " [0.+1.j 0.+0.j 0.+0.j 0.+0.j]\n",
      " [0.+0.j 0.+1.j 0.+0.j 0.+0.j]]\n",
      "[[ 1.  0.  0.  0.]\n",
      " [ 0.  1.  0.  0.]\n",
      " [ 0.  0. -1. -0.]\n",
      " [ 0.  0. -0. -1.]]\n",
      "sigma:\n",
      "[[0. 1. 0. 0.]\n",
      " [1. 0. 0. 0.]\n",
      " [0. 0. 0. 1.]\n",
      " [0. 0. 1. 0.]]\n",
      "[[0.+0.j 0.-1.j 0.+0.j 0.-0.j]\n",
      " [0.+1.j 0.+0.j 0.+0.j 0.+0.j]\n",
      " [0.+0.j 0.-0.j 0.+0.j 0.-1.j]\n",
      " [0.+0.j 0.+0.j 0.+1.j 0.+0.j]]\n",
      "[[ 1.  0.  0.  0.]\n",
      " [ 0. -1.  0. -0.]\n",
      " [ 0.  0.  1.  0.]\n",
      " [ 0. -0.  0. -1.]]\n",
      "[0. 0. 1. 0.]\n",
      "[[ 0  1  0  0]\n",
      " [ 1  0  0  0]\n",
      " [ 0  0  0 -1]\n",
      " [ 0  0 -1  0]]\n",
      "[[ 0.  1.  0.  0.]\n",
      " [ 1.  0.  0.  0.]\n",
      " [ 0.  0.  0. -1.]\n",
      " [ 0.  0. -1.  0.]]\n",
      "[[ 0.  1.  0.  0.]\n",
      " [ 1.  0.  0.  0.]\n",
      " [ 0.  0.  0. -1.]\n",
      " [ 0.  0. -1.  0.]]\n"
     ]
    }
   ],
   "source": [
    "tau_x = np.kron(np.array([[0, 1], [1, 0]]), np.eye(2))\n",
    "tau_y = np.kron(np.array([[0, -1j], [1j, 0]]), np.eye(2))\n",
    "tau_z = np.kron(np.array([[1, 0], [0, -1]]), np.eye(2))\n",
    "sigma_x = np.kron(np.eye(2), np.array([[0, 1], [1, 0]]))\n",
    "sigma_y = np.kron(np.eye(2), np.array([[0, -1j], [1j, 0]]))\n",
    "sigma_z = np.kron(np.eye(2), np.array([[1, 0], [0, -1]]))\n",
    "\n",
    "mu = 0.5\n",
    "t = -1.\n",
    "B = 1.\n",
    "delta = 0.5\n",
    "alpha_so = 0.5\n",
    "V_N = np.array([1.25, 2.5, 5.])\n",
    "E = np.linspace(-2, 2, 101)\n",
    "print('tau:')\n",
    "print(tau_x)\n",
    "print(tau_y)\n",
    "print(tau_z)\n",
    "\n",
    "print('sigma:')\n",
    "print(sigma_x)\n",
    "print(sigma_y)\n",
    "print(sigma_z)\n",
    "\n",
    "e_up = np.array([1, 0, 0, 0])\n",
    "e_down = np.array([0, 1, 0, 0])\n",
    "h_up = np.array([0, 0, 1, 0])\n",
    "h_down = np.array([0, 0, 0, 1])\n",
    "print(tau_x.dot(e_up))\n",
    "\n",
    "tauzsigmax = np.kron(np.array([[1, 0], [0, -1]]), np.array([[0, 1], [1, 0]]))\n",
    "print(tauzsigmax)\n",
    "print(tau_z@sigma_x)\n",
    "print(np.matmul(tau_z, sigma_x))"
   ]
  },
  {
   "cell_type": "markdown",
   "metadata": {},
   "source": [
    "## Hamiltonian H and V"
   ]
  },
  {
   "cell_type": "code",
   "execution_count": 67,
   "metadata": {},
   "outputs": [
    {
     "name": "stdout",
     "output_type": "stream",
     "text": [
      "[[ 3.5  0.   0.5  0. ]\n",
      " [ 0.   1.5  0.   0.5]\n",
      " [ 0.5  0.  -1.5  0. ]\n",
      " [ 0.   0.5  0.  -3.5]]\n",
      "[[-1.+0.j   0.+0.5j  0.+0.j   0.+0.j ]\n",
      " [ 0.+0.5j -1.+0.j   0.+0.j   0.+0.j ]\n",
      " [ 0.+0.j   0.+0.j   1.+0.j   0.-0.5j]\n",
      " [ 0.+0.j   0.+0.j   0.-0.5j  1.+0.j ]]\n",
      "[[-1.-0.j   0.-0.5j  0.-0.j   0.-0.j ]\n",
      " [ 0.-0.5j -1.-0.j   0.-0.j   0.-0.j ]\n",
      " [ 0.-0.j   0.-0.j   1.-0.j   0.+0.5j]\n",
      " [ 0.-0.j   0.-0.j   0.+0.5j  1.-0.j ]]\n",
      "[[ 5.5+0.j   0. +0.j   0.5+0.j   0. +0.j  -1. -0.j   0. -0.5j  0. -0.j\n",
      "   0. -0.j ]\n",
      " [ 0. +0.j   3.5+0.j   0. +0.j   0.5+0.j   0. -0.5j -1. -0.j   0. -0.j\n",
      "   0. -0.j ]\n",
      " [ 0.5+0.j   0. +0.j   0.5+0.j   0. +0.j   0. -0.j   0. -0.j   1. -0.j\n",
      "   0. +0.5j]\n",
      " [ 0. +0.j   0.5+0.j   0. +0.j  -1.5+0.j   0. -0.j   0. -0.j   0. +0.5j\n",
      "   1. -0.j ]\n",
      " [ 1. +0.j   0. +0.j   0. +0.j   0. +0.j   0. +0.j   0. +0.j   0. +0.j\n",
      "   0. +0.j ]\n",
      " [ 0. +0.j   1. +0.j   0. +0.j   0. +0.j   0. +0.j   0. +0.j   0. +0.j\n",
      "   0. +0.j ]\n",
      " [ 0. +0.j   0. +0.j   1. +0.j   0. +0.j   0. +0.j   0. +0.j   0. +0.j\n",
      "   0. +0.j ]\n",
      " [ 0. +0.j   0. +0.j   0. +0.j   1. +0.j   0. +0.j   0. +0.j   0. +0.j\n",
      "   0. +0.j ]]\n",
      "[[ 1.-0.j  -0.-0.5j -0.+0.j  -0.+0.j   0.+0.j   0.+0.j   0.+0.j   0.+0.j ]\n",
      " [-0.-0.5j  1.-0.j  -0.+0.j  -0.+0.j   0.+0.j   0.+0.j   0.+0.j   0.+0.j ]\n",
      " [-0.+0.j  -0.+0.j  -1.+0.j   0.+0.5j  0.+0.j   0.+0.j   0.+0.j   0.+0.j ]\n",
      " [-0.+0.j  -0.+0.j   0.+0.5j -1.+0.j   0.+0.j   0.+0.j   0.+0.j   0.+0.j ]\n",
      " [ 0.+0.j   0.+0.j   0.+0.j   0.+0.j   1.+0.j   0.+0.j   0.+0.j   0.+0.j ]\n",
      " [ 0.+0.j   0.+0.j   0.+0.j   0.+0.j   0.+0.j   1.+0.j   0.+0.j   0.+0.j ]\n",
      " [ 0.+0.j   0.+0.j   0.+0.j   0.+0.j   0.+0.j   0.+0.j   1.+0.j   0.+0.j ]\n",
      " [ 0.+0.j   0.+0.j   0.+0.j   0.+0.j   0.+0.j   0.+0.j   0.+0.j   1.+0.j ]]\n",
      "[[ 0.  1.  0.  0.]\n",
      " [ 1.  0.  0.  0.]\n",
      " [ 0.  0.  0. -1.]\n",
      " [ 0.  0. -1.  0.]]\n"
     ]
    }
   ],
   "source": [
    "H = tau_z * (mu-2.*t) + sigma_z*B + tau_x*delta\n",
    "V = tau_z*t + 1j*np.matmul(tau_z, sigma_x)*alpha_so\n",
    "print(H)\n",
    "print(V)\n",
    "print(V.conj().T)\n",
    "matrix_1 = np.block([[H - E[0]*np.eye(4), V.conj().T], [np.eye(4), np.zeros((4, 4))]])\n",
    "matrix_2 = np.block([[-1.*V, np.zeros((4, 4))], [np.zeros((4, 4)), np.eye(4)]])\n",
    "print(matrix_1)\n",
    "print(matrix_2)\n",
    "print(np.matmul(tau_z, sigma_x))"
   ]
  },
  {
   "cell_type": "code",
   "execution_count": 107,
   "metadata": {},
   "outputs": [
    {
     "name": "stdout",
     "output_type": "stream",
     "text": [
      "[ 3.26687015-1.33513232j  3.26687015+1.33513232j -0.40316306-0.91512816j\n",
      " -0.40316306+0.91512816j  0.87399943-0.48592694j  0.87399943+0.48592694j\n",
      "  0.26229347-0.10719633j  0.26229347+0.10719633j]\n",
      "[[-0.28572863-0.47708811j  0.28575405-0.47707288j  0.01640334-0.05575483j\n",
      "  -0.03751583-0.04438731j  0.00494892+0.00304057j -0.00575519+0.00078402j\n",
      "   0.15688066+0.01476887j  0.15688026-0.0147731j ]\n",
      " [ 0.68092701+0.35893268j  0.68094614-0.3588964j  -0.01173273+0.03987946j\n",
      "  -0.02683375-0.03174867j -0.16320673-0.10027279j -0.18979608+0.02585574j\n",
      "  -0.17495075-0.13024192j  0.17494723-0.13024665j]\n",
      " [ 0.05090166+0.0186418j  -0.05090266+0.01863909j -0.18541578+0.63022668j\n",
      "   0.42406151+0.50173351j  0.12147637+0.07463402j -0.14126707+0.01924468j\n",
      "  -0.01098436-0.01073651j -0.01098407+0.0107368j ]\n",
      " [-0.10012389-0.1047226j  -0.10012947+0.10471726j  0.07102761-0.24142225j\n",
      "   0.16244613+0.19220011j  0.56706714+0.34840108j  0.65945268-0.08983662j\n",
      "   0.03900542+0.01280512j -0.03900508+0.01280617j]\n",
      " [-0.02380266-0.15576616j  0.02381096-0.15576489j  0.04440959+0.03748945j\n",
      "  -0.02549508+0.05222712j  0.00284786+0.00506228j -0.00464906+0.00348184j\n",
      "   0.49279037+0.25770441j  0.4927834 -0.25771773j]\n",
      " [ 0.14012644+0.16713858j  0.14013535-0.16713111j -0.03176461-0.02681488j\n",
      "  -0.01823573+0.03735621j -0.09391734-0.16694491j -0.15331766+0.11482493j\n",
      "  -0.3976512 -0.65906585j  0.39763339-0.65907659j]\n",
      " [ 0.01135284+0.0103461j  -0.01135339+0.01034549j -0.50198539-0.42376331j\n",
      "   0.28818453-0.59035104j  0.0699036 +0.12425873j -0.11411583+0.08546532j\n",
      "  -0.02154981-0.04974034j -0.02154847+0.04974093j]\n",
      " [-0.01503596-0.03820097j -0.015038  +0.03820017j  0.19229659+0.1623319j\n",
      "   0.11039545-0.22614701j  0.32631888+0.58005554j  0.53270723-0.39896298j\n",
      "   0.11032913+0.09391006j -0.11032659+0.09391305j]]\n",
      "[3.52916689 3.52916689 1.         1.         1.         1.\n",
      " 0.28335299 0.28335299]\n",
      "[False False False False False False  True  True]\n",
      "[[0.26229347-0.10719633j 0.        +0.j        ]\n",
      " [0.        +0.j         0.26229347+0.10719633j]]\n",
      "[[ 0.01135284+0.0103461j  -0.01503596-0.03820097j]\n",
      " [-0.01135339+0.01034549j -0.015038  +0.03820017j]\n",
      " [-0.50198539-0.42376331j  0.19229659+0.1623319j ]\n",
      " [ 0.28818453-0.59035104j  0.11039545-0.22614701j]\n",
      " [ 0.0699036 +0.12425873j  0.32631888+0.58005554j]\n",
      " [-0.11411583+0.08546532j  0.53270723-0.39896298j]\n",
      " [-0.02154981-0.04974034j  0.11032913+0.09391006j]\n",
      " [-0.02154847+0.04974093j -0.11032659+0.09391305j]]\n"
     ]
    }
   ],
   "source": [
    "w, vr = linalg.eig(matrix_1, b=matrix_2)\n",
    "print(w)\n",
    "print(vr)\n",
    "print(np.abs(w))\n",
    "print(np.around(np.abs(w), 14)<1.)\n",
    "lambda_e = np.diag(w[np.around(np.abs(w), 14)<1.])\n",
    "print(lambda_e)\n",
    "phi_e = vr[np.around(np.abs(w), 14)<1.].T\n",
    "print(phi_e)"
   ]
  },
  {
   "cell_type": "code",
   "execution_count": 106,
   "metadata": {},
   "outputs": [
    {
     "name": "stdout",
     "output_type": "stream",
     "text": [
      "[-0.08321139-0.03638051j  0.00583795-0.08562826j -0.91124275-0.60017424j\n",
      "  0.03825547-0.13512208j]\n"
     ]
    }
   ],
   "source": [
    "trial_soln = phi_e.T[0].T[0:4]\n",
    "trial_lambda = lambda_e[0][0]\n",
    "print(V.dot(trial_soln)+trial_lambda*(H-E[0]*np.eye(4)).dot(trial_soln)+trial_lambda**2.*V.conj().T.dot(trial_soln))"
   ]
  },
  {
   "cell_type": "markdown",
   "metadata": {},
   "source": [
    "## Lattice properties"
   ]
  },
  {
   "cell_type": "code",
   "execution_count": 5,
   "metadata": {},
   "outputs": [
    {
     "name": "stdout",
     "output_type": "stream",
     "text": [
      "<unnamed Monatomic lattice, vectors [10.0], origin [0.0]>\n"
     ]
    }
   ],
   "source": [
    "a = 10 # angstroms\n",
    "\n",
    "norbs = 4 # 2 atomic orbitals * 2 spins * particle-hole\n",
    "\n",
    "lat = kwant.lattice.chain(a)\n",
    "#chain (1D), cubic (3D), triangular, honeycomb, kagome\n",
    "print(lat)"
   ]
  },
  {
   "cell_type": "markdown",
   "metadata": {},
   "source": [
    "## JJ Hamiltonian + discretization"
   ]
  },
  {
   "cell_type": "code",
   "execution_count": null,
   "metadata": {},
   "outputs": [],
   "source": []
  }
 ],
 "metadata": {
  "kernelspec": {
   "display_name": "Python 3",
   "language": "python",
   "name": "python3"
  },
  "language_info": {
   "codemirror_mode": {
    "name": "ipython",
    "version": 3
   },
   "file_extension": ".py",
   "mimetype": "text/x-python",
   "name": "python",
   "nbconvert_exporter": "python",
   "pygments_lexer": "ipython3",
   "version": "3.7.4"
  }
 },
 "nbformat": 4,
 "nbformat_minor": 4
}
