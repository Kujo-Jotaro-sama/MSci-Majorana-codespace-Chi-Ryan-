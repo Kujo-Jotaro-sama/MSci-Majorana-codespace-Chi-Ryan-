{
 "cells": [
  {
   "cell_type": "code",
   "execution_count": null,
   "id": "3667c797-7276-4fcf-99c6-868300538e4f",
   "metadata": {},
   "outputs": [],
   "source": []
  },
  {
   "cell_type": "code",
   "execution_count": 1,
   "id": "0553432e-cb60-4552-93b3-be54300c9868",
   "metadata": {},
   "outputs": [],
   "source": [
    "# Copyright 2011-2019 Kwant authors.\n",
    "#\n",
    "# This file is part of Kwant.  It is subject to the license terms in the file\n",
    "# LICENSE.rst found in the top-level directory of this distribution and at\n",
    "# http://kwant-project.org/license.  A list of Kwant authors can be found in\n",
    "# the file AUTHORS.rst at the top-level directory of this distribution and at\n",
    "# http://kwant-project.org/authors.\n",
    "\n",
    "from packaging import version\n",
    "\n",
    "import numpy as np\n",
    "import scipy.linalg\n",
    "import scipy.optimize\n",
    "import scipy.sparse as sp\n",
    "\n",
    "__all__ = [\"find_boundstates\"]\n",
    "\n",
    "# TODO: remove this when we depend on scipy > 1.1\n",
    "#1.3.1 here\n",
    "if version.parse(scipy.__version__) > version.parse(\"1.1\"):\n",
    "    null_space = scipy.linalg.null_space\n",
    "else:\n",
    "\n",
    "    def null_space(A, rcond=None):\n",
    "        u, s, vh = scipy.linalg.svd(A, full_matrices=True)\n",
    "        M, N = u.shape[0], vh.shape[1]\n",
    "        if rcond is None:\n",
    "            rcond = np.finfo(s.dtype).eps * max(M, N)\n",
    "        tol = np.amax(s) * rcond\n",
    "        num = np.sum(s > tol, dtype=int)\n",
    "        Q = vh[num:, :].T.conj()\n",
    "        return Q\n",
    "\n",
    "\n",
    "# If available, use MUMPS support for shift-inverse sparse diagonalization\n",
    "# Can import mumps alright.\n",
    "try:\n",
    "    from kwant.linalg import mumps\n",
    "except ImportError:\n",
    "    sparse_diag = sp.linalg.eigsh\n",
    "else:\n",
    "\n",
    "    class _LuInv(sp.linalg.LinearOperator):\n",
    "        def __init__(self, A):\n",
    "            inst = mumps.MUMPSContext()\n",
    "            inst.analyze(A)\n",
    "            inst.factor(A)\n",
    "            self.solve = inst.solve\n",
    "            super().__init__(A.dtype, A.shape)\n",
    "\n",
    "        def _matvec(self, x):\n",
    "            return self.solve(x.astype(self.dtype))\n",
    "\n",
    "    def sparse_diag(matrix, k, sigma, **kwargs):\n",
    "        if sigma == 0:\n",
    "            shifted_matrix = matrix\n",
    "        else:\n",
    "            shifted_matrix = matrix - sigma * sp.identity(matrix.shape[0])\n",
    "        return sp.linalg.eigsh(matrix, k, sigma=sigma, OPinv=_LuInv(shifted_matrix),\n",
    "                               **kwargs)\n",
    "\n",
    "\"\"\"syst: kwant.system.FiniteSystem\n",
    "\"\"\"\n",
    "\n",
    "def find_boundstates(\n",
    "    syst,\n",
    "    min_energy,\n",
    "    max_energy,\n",
    "    params=None,\n",
    "    sparse=True,\n",
    "    check_hermiticity=True,\n",
    "    rtol=1e-3,\n",
    "):\n",
    "    \"\"\"Return boundstates of an open system in an energy window\n",
    "\n",
    "    Parameters\n",
    "    ----------\n",
    "    syst : kwant.system.FiniteSystem\n",
    "        Must have leads.\n",
    "    min_energy, max_energy : float\n",
    "        The lower and upper bounds in energy to search for boundstates.\n",
    "    params : dict, optional\n",
    "        The keyword arguments to 'syst'.\n",
    "    sparse : bool, default: True\n",
    "        If True use sparse linear algebra, otherwise use dense.\n",
    "    check_hermiticity : bool, default: True\n",
    "        If True, checks the Hermiticity of the system Hamiltonian\n",
    "    rtol : float, default: 1E-3\n",
    "        boundstates that are closer together than\n",
    "        'rtol * (max_energy - min_energy)' may be missed.\n",
    "\n",
    "    Returns\n",
    "    -------\n",
    "    energies : 1D float array\n",
    "        The energies of the bound states.\n",
    "    wavefunctions : 2D complex array\n",
    "        The columns are the bound state wavefunctions defined\n",
    "        over the scattering region.\n",
    "    \"\"\"\n",
    "\n",
    "    # TODO: apply lru_cache to this once\n",
    "    # https://github.com/scipy/scipy/issues/10846 is solved.\n",
    "    def min_eigenvalue(energy):\n",
    "        H_eff = make_linsys(\n",
    "            syst,\n",
    "            energy,\n",
    "            params=params,\n",
    "            sparse=sparse,\n",
    "            check_hermiticity=check_hermiticity,\n",
    "        )\n",
    "        try:\n",
    "            if sparse:\n",
    "                if H_eff.shape[0] <= 2:\n",
    "                    raise ValueError(\n",
    "                        \"The system is too small to use sparse diagonalization. \"\n",
    "                        \"Try setting 'sparse=False'.\"\n",
    "                    )\n",
    "                vals = sparse_diag(\n",
    "                    H_eff.tocsc(), k=1, sigma=1e-10, which=\"LM\", return_eigenvectors=False\n",
    "                )\n",
    "                '''print('energy:')\n",
    "                print(energy)\n",
    "                print('Direct Diagonalisation:')\n",
    "                print(spi.linalg.eigvals(H_eff.toarray()))\n",
    "                print('sparce f:')\n",
    "                print(vals[np.argmin(np.abs(vals))]'''\n",
    "                return vals[0]\n",
    "            else:\n",
    "                vals = np.linalg.eigvalsh(H_eff)\n",
    "                which = np.argmin(np.abs(vals))\n",
    "                return vals[which]\n",
    "        except RuntimeError:  # Some problem diagonalizing\n",
    "            return np.inf\n",
    "\n",
    "    if syst.site_ranges is not None:\n",
    "        tot_norbs = syst.site_ranges[-1][-1]\n",
    "    else:\n",
    "        _, norbs = syst.hamiltonian_submatrix(params=params, return_norb=True)[:2]\n",
    "        tot_norbs = sum(norbs)\n",
    "\n",
    "    # Grid the energy window and search for roots in the sub-windows\n",
    "    # where the min-eigenvalue changes sign. These will either be\n",
    "    # true roots or discontinuities. Note that if there are >1 roots\n",
    "    # in the same sub-window then at least one of them will be missed.\n",
    "    '''print('f(0):')\n",
    "    print(min_eigenvalue(0))\n",
    "    print('f(1e-16)')\n",
    "    print(min_eigenvalue(1e-16))\n",
    "    print('f(3e-16)')\n",
    "    print(min_eigenvalue(3e-16))\n",
    "    print('f(1e-15)')\n",
    "    print(min_eigenvalue(1e-15))'''\n",
    "    \n",
    "    '''print('f(0):')\n",
    "    print(min_eigenvalue(0.))'''\n",
    "    \n",
    "    energies = np.linspace(\n",
    "        min_energy, max_energy, int((max_energy - min_energy) / rtol)\n",
    "    )\n",
    "    intervals = zip(energies, energies[1:])\n",
    "    \n",
    "    '''f_E = []\n",
    "    for e in energies:\n",
    "        print(e)\n",
    "        f_E.append(min_eigenvalue(e))\n",
    "    plt.scatter(energies, f_E)'''\n",
    "    \n",
    "    candidates = []\n",
    "    for a, b in intervals:\n",
    "        try:\n",
    "            if np.sign(min_eigenvalue(a)) != np.sign(min_eigenvalue(b)):\n",
    "                candidate = scipy.optimize.brentq(min_eigenvalue, a, b)\n",
    "                candidates.append(candidate)\n",
    "        except RuntimeError: #some problems with lead modes\n",
    "            continue\n",
    "    \n",
    "    \n",
    "    # Check which candidate points give actual boundstates.\n",
    "    energies = []\n",
    "    states = []\n",
    "    for energy in candidates:\n",
    "        vecs = extract_boundstates(syst, energy, params=params, sparse=sparse)\n",
    "        # vecs.shape[1] == 0 if there were no boundstates found\n",
    "        energies.append([energy] * vecs.shape[1])\n",
    "        # Here we discard the mode part of the solution just to\n",
    "        # make the output format more uniform (wavefunction has\n",
    "        # same number of components at all energies).\n",
    "        states.append(vecs[:tot_norbs, :])\n",
    "\n",
    "    if not energies:\n",
    "        return np.empty((0,)), np.empty((tot_norbs, 0))\n",
    "    else:\n",
    "        return np.hstack(energies), np.hstack(states)\n",
    "\n",
    "\n",
    "def extract_boundstates(\n",
    "    syst, energy=0, params=None, sparse=True, check_hermiticity=True, tol=1e-8\n",
    "):\n",
    "    \"\"\"Return any true boundstates of 'syst' at 'energy'\n",
    "\n",
    "    Params\n",
    "    ------\n",
    "    syst : kwant.FiniteSystem\n",
    "        Must have leads\n",
    "    energy : float\n",
    "    params : dict, optional\n",
    "        Keyword arguments to 'syst'\n",
    "    sparse : bool, default: True\n",
    "        If True, returns sparse matrices\n",
    "    check_hermiticity : bool, default: True\n",
    "        If True, check the system Hamiltonian for hermiticity\n",
    "\n",
    "    Returns\n",
    "    -------\n",
    "    vecs : 2D array\n",
    "        The columns are bound state wavefunctions.\n",
    "        The first N rows is in the tight-binding basis of the\n",
    "        scattering region, and the remaining rows are in the\n",
    "        basis of stabilized evanescent modes of the leads.\n",
    "\n",
    "    Notes\n",
    "    -----\n",
    "    We diagonalize the linear system returned by 'make_linsys', and\n",
    "    search for zero eigenvalues. We then look for vectors in the basis\n",
    "    of zero-eigenvalue eigenvectors that satisfy the bound state condition,\n",
    "    eq. 19 of https://doi.org/10.21468/SciPostPhys.4.5.026.\n",
    "    \"\"\"\n",
    "\n",
    "    lhs, T = make_linsys(\n",
    "        syst,\n",
    "        energy,\n",
    "        params=params,\n",
    "        sparse=sparse,\n",
    "        check_hermiticity=check_hermiticity,\n",
    "        return_validation=True,\n",
    "        which=\"hermitian\",\n",
    "    )\n",
    "\n",
    "    if sparse:\n",
    "        if lhs.shape[0] <= 2:\n",
    "            raise ValueError(\n",
    "                \"The system is too small to use sparse diagonalization. \"\n",
    "                \"Try setting 'sparse=False'.\"\n",
    "            )\n",
    "        k = min(6, lhs.shape[0] - 2)  # 6 is the default for sp.linalg.eigsh\n",
    "        try_again = True\n",
    "        # Solve the eigenproblem with successively large values of 'k' until\n",
    "        # we get all the zero eigenvalues. (In most cases this loop will\n",
    "        # run once).\n",
    "        while try_again:\n",
    "            vals, vecs = sparse_diag(lhs.tocsc(), k=k, sigma=1e-10, which=\"LM\")\n",
    "            zeros = np.abs(vals) < tol  # TODO: make this check better\n",
    "            if not np.all(zeros):  # we have found all the zero eigenvalues\n",
    "                try_again = False\n",
    "            else:\n",
    "                k *= 2  # try again with twice the number of eigenvalues\n",
    "                if k >= lhs.shape[0] - 1:\n",
    "                    raise ValueError(\n",
    "                        \"More eigenvalues are 0 than can be obtained by \"\n",
    "                        \"sparse diagonalization. Try setting 'sparse=False'.\"\n",
    "                    )\n",
    "    else:\n",
    "        vals, vecs = np.linalg.eigh(lhs)\n",
    "        zeros = np.abs(vals) < tol  # TODO make this check better\n",
    "\n",
    "    if not np.any(zeros):\n",
    "        return np.empty((lhs.shape[0], 0))\n",
    "\n",
    "\n",
    "    zero_vecs = vecs[:, zeros]\n",
    "    # To find the true boundstates we find the null space of the operator\n",
    "    # in eq 19 (T) in the basis of zero-eigenvalue vectors.\n",
    "    p = T @ zero_vecs\n",
    "    if np.allclose(p, 0):\n",
    "        # 'zero_vecs' are already a basis for the null space of T\n",
    "        return zero_vecs\n",
    "    else:\n",
    "        # TODO: not sure about this value for 'rcond', we need to ensure\n",
    "        #       that rcond is sufficiently large in the case that p is\n",
    "        #       zero (i.e. zero_vecs are individually boundstates).\n",
    "        bound_states = null_space(p, rcond=tol / np.max(np.abs(p)))\n",
    "        # transform back to original basis\n",
    "        # TODO: rotate the basis so the bound states have the correct symmetries\n",
    "        return np.asarray(zero_vecs @ bound_states)\n",
    "\n",
    "\n",
    "def make_linsys(\n",
    "    syst,\n",
    "    energy=0,\n",
    "    params=None,\n",
    "    sparse=True,\n",
    "    check_hermiticity=True,\n",
    "    return_validation=False,\n",
    "    which=\"hermitian\",\n",
    "):\n",
    "    \"\"\"Return the linear system for finding boundstates\n",
    "\n",
    "    Returns ether the linear system defined in equation 12 or equation 11\n",
    "    of https://doi.org/10.21468/SciPostPhys.4.5.026, and the linear\n",
    "    operator defined in equation 19 of the same article.\n",
    "\n",
    "    Params\n",
    "    ------\n",
    "    syst : kwant.FiniteSystem\n",
    "        Must have leads\n",
    "    energy : float\n",
    "    params : dict, optional\n",
    "        Keyword arguments to 'syst'\n",
    "    sparse : bool, default: True\n",
    "        If True, returns sparse matrices\n",
    "    check_hermiticity : bool, default: True\n",
    "        If True, check the system Hamiltonian for hermiticity\n",
    "    return_validation: bool, default: False\n",
    "        If True, also return the linear operator used for\n",
    "        checking for true bound states (equation 19 of the article).\n",
    "    which : str, default: \"hermitian\"\n",
    "        Which linear system to return. If \"hermitian\" returns the\n",
    "        linear system defined in equation 12, if \"svd\" returns\n",
    "        the linear system defined in equation 11.\n",
    "\n",
    "    Returns\n",
    "    -------\n",
    "    lhs : 2D array or sparse matrix\n",
    "        The linear system for finding boundstates\n",
    "    T : 2D array or sparse matrix\n",
    "        A linear operator for checking bound states.\n",
    "        zero-eigenvalue eigenvectors of 'lhs' that are in the\n",
    "        null-space of 'T' are true bound states. Only returned\n",
    "        if 'return_validation' is True.\n",
    "    \"\"\"\n",
    "    if not syst.leads:\n",
    "        raise ValueError(\"'syst' must have leads attached\")\n",
    "    if any(interface.shape[0] == 0 for interface in syst.lead_interfaces):\n",
    "        raise ValueError(\n",
    "            \"All the leads of 'syst' must have non-zero \" \"inter-cell hopping\"\n",
    "        )\n",
    "\n",
    "    lhs, norb = syst.hamiltonian_submatrix(\n",
    "        params=params, sparse=sparse, return_norb=True\n",
    "    )[:2]\n",
    "    offsets = np.empty(norb.shape[0] + 1, int)\n",
    "    offsets[0] = 0\n",
    "    offsets[1:] = np.cumsum(norb)\n",
    "    scattering_region_norbs = offsets[-1]\n",
    "\n",
    "    if check_hermiticity and len(lhs.data):\n",
    "        rtol = 1e-13\n",
    "        atol = 1e-300\n",
    "        tol = rtol * np.max(np.abs(lhs.data)) + atol\n",
    "        if np.any(np.abs((lhs - lhs.T.conj()).data) > tol):\n",
    "            raise ValueError(\n",
    "                \"System Hamiltonian is not Hermitian. \"\n",
    "                \"Use option `check_hermiticity=False` \"\n",
    "                \"if this is intentional.\"\n",
    "            )\n",
    "\n",
    "    if sparse:\n",
    "        lhs = lhs - energy * sp.identity(lhs.shape[0])\n",
    "    else:\n",
    "        lhs.flat[:: (offsets[-1] + 1)] -= energy\n",
    "\n",
    "    phi_e = []\n",
    "    svd_vs = []\n",
    "    transfs = []\n",
    "    for leadnum, interface in enumerate(syst.lead_interfaces):\n",
    "        lead = syst.leads[leadnum]\n",
    "        _, stab = lead.modes(energy, params=params)\n",
    "        svd_v = stab.sqrt_hop\n",
    "        # Evanescent modes (schur vectors) are stored after\n",
    "        # the 2*nmodes propagating (in/out) modes\n",
    "        evan_vecs = slice(2 * stab.nmodes, None)\n",
    "        u_out = stab.vecs[:, evan_vecs]\n",
    "        ulinv_out = stab.vecslmbdainv[:, evan_vecs]\n",
    "\n",
    "        # Construct a matrix of 1's that translates the\n",
    "        # inter-cell hopping to a proper hopping\n",
    "        # from the system to the lead.\n",
    "        iface_orbs = np.r_[tuple(slice(offsets[i], offsets[i + 1]) for i in interface)]\n",
    "\n",
    "        n_lead_orbs = svd_v.shape[0]\n",
    "        if n_lead_orbs != len(iface_orbs):\n",
    "            msg = (\n",
    "                \"Lead {0} has hopping with dimensions \"\n",
    "                \"incompatible with its interface dimension.\"\n",
    "            )\n",
    "            raise ValueError(msg.format(leadnum))\n",
    "\n",
    "        coords = np.r_[[np.arange(len(iface_orbs))], [iface_orbs]]\n",
    "        transf = sp.csc_matrix(\n",
    "            (np.ones(len(iface_orbs)), coords), shape=(iface_orbs.size, lhs.shape[0])\n",
    "        )\n",
    "\n",
    "        phi_e.append(ulinv_out)\n",
    "        svd_vs.append(svd_v)\n",
    "        # We are saving these for use in '_validation_operator', where we\n",
    "        # expect each projector to project *from the scattering region only*,\n",
    "        # hence the slice up to 'scattering_region_norbs'\n",
    "        transfs.append(transf[:, :scattering_region_norbs])\n",
    "\n",
    "        if which == \"hermitian\":\n",
    "            A, B, C = _hermitian_matrices(svd_v, transf, u_out, ulinv_out)\n",
    "        elif which == \"svd\":\n",
    "            A, B, C = _svd_matrices(svd_v, transf, u_out, ulinv_out)\n",
    "        else:\n",
    "            raise ValueError(\"'which' must be 'hermitian' or 'svd'\")\n",
    "\n",
    "        if sparse:\n",
    "            A = sp.csc_matrix(A)\n",
    "            B = sp.csc_matrix(B)\n",
    "            C = sp.csc_matrix(C)\n",
    "            lhs = sp.bmat([[lhs, A], [B, C]])\n",
    "        else:\n",
    "            lhs = np.block([[lhs, A], [B, C]])\n",
    "\n",
    "    if return_validation:\n",
    "        return (\n",
    "            lhs,\n",
    "            _validation_operator(\n",
    "                phi_e=phi_e,\n",
    "                svd_vs=svd_vs,\n",
    "                transfs=transfs,\n",
    "                orb_offsets=offsets,\n",
    "                sparse=sparse,\n",
    "            ),\n",
    "        )\n",
    "    else:\n",
    "        return lhs\n",
    "\n",
    "\n",
    "# Equation 12\n",
    "def _hermitian_matrices(svd_v, transf, u_out, ulinv_out):\n",
    "    A = transf.T @ svd_v @ u_out\n",
    "    B = A.conj().T\n",
    "    C = -u_out.T.conj() @ ulinv_out\n",
    "    return A, B, C\n",
    "\n",
    "\n",
    "# Equation 11\n",
    "def _svd_matrices(svd_v, transf, u_out, ulinv_out):\n",
    "    A = transf.T @ svd_v @ u_out\n",
    "    B = svd_v.conj().T @ transf\n",
    "    C = -ulinv_out\n",
    "    return A, B, C\n",
    "\n",
    "\n",
    "# Equation 19\n",
    "def _validation_operator(phi_e, svd_vs, transfs, orb_offsets, sparse):\n",
    "\n",
    "    syst_size = orb_offsets[-1]\n",
    "    mode_size = sum(phi.shape[1] for phi in phi_e)\n",
    "    sol_size = syst_size + mode_size\n",
    "\n",
    "    p_psi = sp.csc_matrix(\n",
    "        (np.ones(syst_size), (np.arange(syst_size),) * 2), shape=(syst_size, sol_size)\n",
    "    )\n",
    "    p_q = sp.csc_matrix(\n",
    "        (np.ones(mode_size), (np.arange(mode_size), np.arange(syst_size, sol_size))),\n",
    "        shape=(mode_size, sol_size),\n",
    "    )\n",
    "\n",
    "    svd_v = np.vstack(svd_vs)\n",
    "    transf = sp.vstack(transfs)\n",
    "    # The states are the *columns*, so use hstack rather than vstack\n",
    "    phi = np.hstack(phi_e)\n",
    "\n",
    "    r = svd_v.conj().T @ (transf @ p_psi) - phi @ p_q\n",
    "\n",
    "    if sparse:\n",
    "        r = sp.csc_matrix(r)\n",
    "\n",
    "    return r\n"
   ]
  },
  {
   "cell_type": "code",
   "execution_count": 18,
   "id": "0cf9e164-b9d7-40a0-afd8-667b03b5f295",
   "metadata": {},
   "outputs": [
    {
     "name": "stdout",
     "output_type": "stream",
     "text": [
      "1.602176634e-19\n"
     ]
    },
    {
     "data": {
      "text/plain": [
       "0.3999192989789583"
      ]
     },
     "execution_count": 18,
     "metadata": {},
     "output_type": "execute_result"
    }
   ],
   "source": [
    "import kwant\n",
    "import tinyarray\n",
    "import numpy as np\n",
    "import scipy as spi\n",
    "import scipy.constants as const\n",
    "import scipy.signal as signal\n",
    "\n",
    "import matplotlib.pyplot as plt \n",
    "import matplotlib.colors as colors\n",
    "print(const.e)\n",
    "plt.rcParams.update({'font.size': 20})\n",
    "\n",
    "from scipy.signal import argrelextrema\n",
    "\n",
    "mu_B = const.physical_constants['Bohr magneton'][0]\n",
    "B = 14.7*mu_B*2./2./const.e*1000.\n",
    "B/100.*47."
   ]
  },
  {
   "cell_type": "code",
   "execution_count": 68,
   "id": "dbc73761-19f6-4e62-8e0f-339f3d7a3eaf",
   "metadata": {},
   "outputs": [
    {
     "data": {
      "text/plain": [
       "0.3535533905932738"
      ]
     },
     "execution_count": 68,
     "metadata": {},
     "output_type": "execute_result"
    }
   ],
   "source": [
    "np.sqrt(2)*350./1400."
   ]
  },
  {
   "cell_type": "code",
   "execution_count": 3,
   "id": "5dcce72b-7093-4f19-8a02-2c3110807ae5",
   "metadata": {},
   "outputs": [],
   "source": [
    "## realistic parameters InAs with Al shell\n",
    "# Energy unit: meV, length unit: A\n",
    "#g = 14.7 #https://doi.org/10.1016/0375-9601(67)90541-5\n",
    "\n",
    "def make_system_mixed(L_A=3700., W=1400., a=6.0583*10., m=0.023, alpha=350., mu=0., delta=0.182, B=0., phi=0., eta=None):\n",
    "    \n",
    "    #a = 6.0583 #https://en.wikipedia.org/wiki/Indium_arsenide\n",
    "    L = int(np.round(L_A/a))\n",
    "    t = (const.hbar**2.)/(2.*m*const.m_e*(a*1e-10)**2.)/const.e*1000.\n",
    "    E_plus = (6.*const.hbar**2.)/(m*const.m_e*(W*1e-10)**2.)/const.e*1000.\n",
    "    E_minus = (-2.*const.hbar**2.)/(m*const.m_e*(W*1e-10)**2.)/const.e*1000.\n",
    "    if eta is None:\n",
    "        eta = np.sqrt(2)*alpha/W\n",
    "    else:\n",
    "        eta = eta\n",
    "    nu = alpha/(2.*a)\n",
    "    #B = g*mu_B*B_Tesla/2./const.e*1000.\n",
    "    print('Parameters: L, t, E_plus, E_minus, eta, nu, B')\n",
    "    print([L, t, E_plus, E_minus, eta, nu, B])\n",
    "    lat = kwant.lattice.chain()\n",
    "    syst = kwant.Builder()\n",
    "    \n",
    "    # Pauli matrices\n",
    "    t_x = np.kron(np.kron(np.array([[0, 1], [1, 0]]), np.eye(2)), np.eye(2)) # e-h subspace\n",
    "    t_y = np.kron(np.kron(np.array([[0, -1j], [1j, 0]]), np.eye(2)), np.eye(2))\n",
    "    t_z = np.kron(np.kron(np.array([[1, 0], [0, -1]]), np.eye(2)), np.eye(2))\n",
    "    sigma_x = np.kron(np.kron(np.eye(2), np.array([[0, 1], [1, 0]])), np.eye(2)) # subband subspace\n",
    "    sigma_y = np.kron(np.kron(np.eye(2), np.array([[0, -1j], [1j, 0]])), np.eye(2))\n",
    "    sigma_z = np.kron(np.kron(np.eye(2), np.array([[1, 0], [0, -1]])), np.eye(2))\n",
    "    s_x = np.kron(np.kron(np.eye(2), np.eye(2)), np.array([[0, 1], [1, 0]])) # spin subspace\n",
    "    s_y = np.kron(np.kron(np.eye(2), np.eye(2)), np.array([[0, -1j], [1j, 0]]))\n",
    "    s_z = np.kron(np.kron(np.eye(2), np.eye(2)), np.array([[1, 0], [0, -1]]))\n",
    "    \n",
    "    #### Define the scattering region. ####\n",
    "    ham = (2.*t+E_plus-mu)*t_z + E_minus*sigma_z@t_z + eta*s_x@sigma_y@t_z + B*s_x\n",
    "    hop = -t*t_z + 1j*nu*s_y@t_z\n",
    "    ham_scl = delta*(np.cos(-phi/2.)*t_x - np.sin(-phi/2.)*t_y)\n",
    "    ham_scr = delta*(np.cos(phi/2.)*t_x - np.sin(phi/2.)*t_y)\n",
    "    \n",
    "    syst[(lat(x) for x in range(0, L))] = ham\n",
    "    syst[((lat(x), lat(x+1)) for x in range(0, L-1))] = hop\n",
    "        \n",
    "    \n",
    "    #### Define the leads. ####\n",
    "    sym_left = kwant.TranslationalSymmetry([-1])\n",
    "    lead0 = kwant.Builder(sym_left)\n",
    "    lead0[(lat(-1))] = ham+ham_scl\n",
    "    lead0[lat.neighbors()] = hop.T.conj()\n",
    "    sym_right = kwant.TranslationalSymmetry([1])\n",
    "    lead1 = kwant.Builder(sym_right)\n",
    "    lead1[(lat(L))] =  ham+ham_scr\n",
    "    lead1[lat.neighbors()] = hop.T.conj()\n",
    "\n",
    "    #### Attach the leads and return the system. ####\n",
    "    syst.attach_lead(lead0)\n",
    "    syst.attach_lead(lead1)\n",
    "\n",
    "    return syst.finalized()"
   ]
  },
  {
   "cell_type": "code",
   "execution_count": 4,
   "id": "a58e1bf5-6a4a-403d-976b-fb22236259ea",
   "metadata": {},
   "outputs": [],
   "source": [
    "def phi_scan(phi_array=[0, 4.*np.pi], L_A=3700., W=1400., a=6.0583*10, m=0.023, alpha=350., mu=0.887, delta=0.182, B=0., eta=None):\n",
    "    energy_arrays=[]\n",
    "    wavefunc_arrays=[]\n",
    "    for i in np.linspace(phi_array[0], phi_array[1], 41):\n",
    "        print(i)\n",
    "        syst = make_system_mixed(L_A=L_A, W=W, a=a, m=m, alpha=alpha, mu=mu, delta=delta, B=B, phi=i, eta=eta)\n",
    "        energies, wavefunctions = find_boundstates(syst, -1.1*delta, 1.1*delta, rtol=1e-2*delta)\n",
    "        energy_arrays.append(energies)\n",
    "        wavefunc_arrays.append(wavefunctions)\n",
    "        print(energies)\n",
    "    return energy_arrays, wavefunc_arrays"
   ]
  },
  {
   "cell_type": "code",
   "execution_count": 5,
   "id": "535f9692-eb94-4606-97c0-40c7873eaf9d",
   "metadata": {},
   "outputs": [],
   "source": [
    "def phi_plot(energy_array, delta=0.182, title=r'$L=1000, B=0.0182, \\mu=0, \\Delta=0.182$'):\n",
    "    ex=[]\n",
    "    ey=[]\n",
    "    \n",
    "    phi = np.linspace(0, 4*np.pi, 41)\n",
    "    for i in range(len(energy_array)):\n",
    "        for j in range(len(energy_array[i])):\n",
    "            ex.append(phi[i])\n",
    "            ey.append(energy_array[i][j])\n",
    "        \n",
    "    ex = np.array(ex)\n",
    "    ey = np.array(ey)/delta\n",
    "    #plt.axhline(gap/delta, color='r')\n",
    "    #plt.axhline(-gap/delta, color='r')\n",
    "    plt.scatter(ex, ey, s=5)\n",
    "    #plt.xlim(B_range[0], B_range[1])\n",
    "    plt.xlabel(r'$\\phi$')\n",
    "    plt.ylabel(r'$E/\\Delta$')\n",
    "    #plt.ylim(-1, 1)\n",
    "    #plt.title(title, fontsize=14)"
   ]
  },
  {
   "cell_type": "code",
   "execution_count": null,
   "id": "302b9966-da78-4562-a24b-fd7b70d9003a",
   "metadata": {},
   "outputs": [],
   "source": [
    "phi_eta_tp_trial, _ = phi_scan(B=14.7*mu_B*2./2./const.e*1000./100.*47., eta=0.1)"
   ]
  },
  {
   "cell_type": "code",
   "execution_count": null,
   "id": "a6325213-5610-40b8-8dd8-264c45109e2a",
   "metadata": {},
   "outputs": [],
   "source": [
    "phi_eta_tp_trial2, _ = phi_scan(B=14.7*mu_B*2./2./const.e*1000./100.*47., eta=0.2)\n",
    "#pickle.dump(phi_eta_tp_trial2, open('./phi_eta_tp_trial2', 'wb'))"
   ]
  },
  {
   "cell_type": "code",
   "execution_count": null,
   "id": "df9db239-d627-4525-8a76-e8efcae08a8c",
   "metadata": {},
   "outputs": [],
   "source": [
    "phi_eta_tp_triala, _ = phi_scan(B=14.7*mu_B*2./2./const.e*1000./100.*53., eta=0.1)\n",
    "#pickle.dump(phi_eta_tp_triala, open('./phi_eta_tp_triala', 'wb'))"
   ]
  },
  {
   "cell_type": "code",
   "execution_count": null,
   "id": "7ce08bbe-2850-47ee-93d9-12f792ca475a",
   "metadata": {},
   "outputs": [],
   "source": [
    "phi_eta_tp_trialb, _ = phi_scan(B=14.7*mu_B*2./2./const.e*1000./100.*53., eta=0.2)\n",
    "#pickle.dump(phi_eta_tp_trialb, open('./phi_eta_tp_trialb', 'wb'))"
   ]
  },
  {
   "cell_type": "code",
   "execution_count": null,
   "id": "c365ec32-0a90-479b-8f97-a907de1648bd",
   "metadata": {},
   "outputs": [],
   "source": [
    "phi_eta_tp_trialc, _ = phi_scan(B=0.521, eta=0.2)"
   ]
  },
  {
   "cell_type": "code",
   "execution_count": null,
   "id": "3135cb96-96e4-46e2-a8e6-31658607f39f",
   "metadata": {},
   "outputs": [],
   "source": [
    "phi_eta_tp_triald, _ = phi_scan(B=0.579, eta=0.3)"
   ]
  },
  {
   "cell_type": "code",
   "execution_count": 88,
   "id": "421da4c0-ec98-4a3c-bdf0-71ca5acca4b5",
   "metadata": {},
   "outputs": [],
   "source": [
    "import pickle\n",
    "#pickle.dump(phi_eta_tp_triald, open('./phi_eta_tp_triald', 'wb'))"
   ]
  },
  {
   "cell_type": "code",
   "execution_count": 8,
   "id": "c8507ce5-1a25-4ad2-9c7e-8b1dfac76940",
   "metadata": {},
   "outputs": [
    {
     "data": {
      "image/png": "[encoded data removed]",
      "text/plain": [
       "<Figure size 432x288 with 1 Axes>"
      ]
     },
     "metadata": {
      "needs_background": "light"
     },
     "output_type": "display_data"
    }
   ],
   "source": [
    "phi_plot(phi_eta_tp_trial)"
   ]
  },
  {
   "cell_type": "code",
   "execution_count": 13,
   "id": "490f5afb-017e-4c53-bbb3-8689916268ce",
   "metadata": {},
   "outputs": [
    {
     "data": {
      "image/png": "[encoded data removed]",
      "text/plain": [
       "<Figure size 432x288 with 1 Axes>"
      ]
     },
     "metadata": {
      "needs_background": "light"
     },
     "output_type": "display_data"
    }
   ],
   "source": [
    "phi_plot(phi_eta_tp_trial2)"
   ]
  },
  {
   "cell_type": "code",
   "execution_count": 14,
   "id": "4587fdff-c3dc-468c-9b17-6c0854d56689",
   "metadata": {},
   "outputs": [
    {
     "data": {
      "image/png": "[encoded data removed]",
      "text/plain": [
       "<Figure size 432x288 with 1 Axes>"
      ]
     },
     "metadata": {
      "needs_background": "light"
     },
     "output_type": "display_data"
    }
   ],
   "source": [
    "phi_plot(phi_eta_tp_triala)"
   ]
  },
  {
   "cell_type": "code",
   "execution_count": 15,
   "id": "b90fd0ef-9791-4a76-be15-8925945ca599",
   "metadata": {},
   "outputs": [
    {
     "data": {
      "image/png": "[encoded data removed]",
      "text/plain": [
       "<Figure size 432x288 with 1 Axes>"
      ]
     },
     "metadata": {
      "needs_background": "light"
     },
     "output_type": "display_data"
    }
   ],
   "source": [
    "phi_plot(phi_eta_tp_trialb)"
   ]
  },
  {
   "cell_type": "code",
   "execution_count": 81,
   "id": "06b03fd7-8e2d-4501-ad5f-17efed551174",
   "metadata": {},
   "outputs": [
    {
     "data": {
      "image/png": "[encoded data removed]",
      "text/plain": [
       "<Figure size 432x288 with 1 Axes>"
      ]
     },
     "metadata": {
      "needs_background": "light"
     },
     "output_type": "display_data"
    }
   ],
   "source": [
    "phi_plot(phi_eta_tp_trialc)"
   ]
  },
  {
   "cell_type": "code",
   "execution_count": 89,
   "id": "f261bdcb-9b1c-42a7-8d57-5259d187e702",
   "metadata": {},
   "outputs": [
    {
     "data": {
      "image/png": "[encoded data removed]",
      "text/plain": [
       "<Figure size 432x288 with 1 Axes>"
      ]
     },
     "metadata": {
      "needs_background": "light"
     },
     "output_type": "display_data"
    }
   ],
   "source": [
    "phi_plot(phi_eta_tp_triald)"
   ]
  },
  {
   "cell_type": "markdown",
   "id": "607ee15e-cbc1-4352-9e91-724827be1553",
   "metadata": {},
   "source": [
    "# Check phase"
   ]
  },
  {
   "cell_type": "code",
   "execution_count": 6,
   "id": "22b9fabf-7486-42a7-a88d-6f29e183a846",
   "metadata": {},
   "outputs": [],
   "source": [
    "import pickle\n",
    "phase_data = pickle.load(open('./Data/2D_colorplot_vary_etaB', 'rb'))"
   ]
  },
  {
   "cell_type": "code",
   "execution_count": 8,
   "id": "9f1d76e6-da02-459c-8597-9205476710ce",
   "metadata": {},
   "outputs": [
    {
     "name": "stdout",
     "output_type": "stream",
     "text": [
      "(501, 201)\n"
     ]
    }
   ],
   "source": [
    "print(phase_data.shape)"
   ]
  },
  {
   "cell_type": "code",
   "execution_count": 59,
   "id": "6063fe13-34ee-446b-bd62-575aa257148a",
   "metadata": {},
   "outputs": [],
   "source": [
    "phase_boundary_array = []\n",
    "for i in range(501):\n",
    "    phase_boundary_array.append(argrelextrema(phase_data[i], np.less)[0])\n",
    "phase_boundary_array = np.array(phase_boundary_array)\n",
    "B_boundary_array = np.array([np.linspace(0, 14.7*mu_B*2./2./const.e*1000., 201)[phase_boundary_array[i]] for i in range(501)])"
   ]
  },
  {
   "cell_type": "code",
   "execution_count": 171,
   "id": "b7f189e2-3629-4a86-a6f1-c02c2ab14c00",
   "metadata": {},
   "outputs": [],
   "source": [
    "sim_eta_arr=np.linspace(0.3,0.4,21)\n",
    "f = lambda eta: np.linspace(0.37+0.7*(eta-0.3),0.37+0.7*(eta-0.3)+0.24,49)"
   ]
  },
  {
   "cell_type": "code",
   "execution_count": 184,
   "id": "c95253ba-4a8d-4e15-b98f-fd947c16d529",
   "metadata": {},
   "outputs": [
    {
     "data": {
      "text/plain": [
       "array([0.37  , 0.3735, 0.377 , 0.3805, 0.384 , 0.3875, 0.391 , 0.3945,\n",
       "       0.398 , 0.4015, 0.405 , 0.4085, 0.412 , 0.4155, 0.419 , 0.4225,\n",
       "       0.426 , 0.4295, 0.433 , 0.4365, 0.44  ])"
      ]
     },
     "execution_count": 184,
     "metadata": {},
     "output_type": "execute_result"
    }
   ],
   "source": [
    "f(sim_eta_arr)[0]"
   ]
  },
  {
   "cell_type": "code",
   "execution_count": 200,
   "id": "dd2b20df-799f-487c-a703-dcd43b6a1246",
   "metadata": {},
   "outputs": [
    {
     "data": {
      "image/png": "[encoded data removed]",
      "text/plain": [
       "<Figure size 432x288 with 2 Axes>"
      ]
     },
     "metadata": {
      "needs_background": "light"
     },
     "output_type": "display_data"
    }
   ],
   "source": [
    "plt.imshow(phase_data, aspect = 'auto', extent=[0.,14.7*mu_B*2./2./const.e*1000.,0., 0.5],\n",
    "origin='lower')\n",
    "plt.xlabel(r'$B$ (meV)')\n",
    "plt.ylabel(r'$\\eta$ (meV)')\n",
    "cbar = plt.colorbar()\n",
    "cbar.ax.set_ylabel(r'$\\Delta_i$ (meV)')\n",
    "plt.plot(B_boundary_array, np.linspace(0, 0.5, 501), c='r')\n",
    "plt.plot(f(sim_eta_arr)[0], np.linspace(0.3, 0.4, 21), c='#00ffff', lw=2, ls='-.')\n",
    "plt.plot(f(sim_eta_arr)[-1], np.linspace(0.3, 0.4, 21), c='#00ffff', lw=2, ls='-.')\n",
    "plt.plot([f(sim_eta_arr)[0][0], f(sim_eta_arr)[-1][0]], [0.3, 0.3], c='#00ffff', lw=2, ls='-.')\n",
    "plt.plot([f(sim_eta_arr)[0][-1], f(sim_eta_arr)[-1][-1]], [0.4, 0.4], c='#00ffff', lw=2, ls='-.')\n",
    "plt.scatter([B_rescale], [0.], s=80, marker='v', c='#ffec72', zorder=100)\n",
    "plt.scatter([B_rescale2], [0.2], s=150, marker='*', c='#b9ff4f', zorder=100)\n",
    "plt.scatter([B_ref], [0.353], s=70, marker='D', c='#ff5a8e', zorder=100)\n",
    "plt.savefig('./phase space_thesis', dpi=300, bbox_inches='tight')"
   ]
  },
  {
   "cell_type": "code",
   "execution_count": null,
   "id": "9857b694-b31b-47ca-b1bb-e831ed0d44d6",
   "metadata": {},
   "outputs": [],
   "source": [
    "'o', 'v', '^', '<', '>', '8', 's', 'p', '*', 'h', 'H', 'D', 'd', 'P', 'X'"
   ]
  },
  {
   "cell_type": "code",
   "execution_count": 93,
   "id": "52e2ae7e-57f7-440a-b50e-c65f23f16eff",
   "metadata": {},
   "outputs": [
    {
     "data": {
      "text/plain": [
       "array([0.40417376, 0.64242355])"
      ]
     },
     "execution_count": 93,
     "metadata": {},
     "output_type": "execute_result"
    }
   ],
   "source": [
    "B_boundary_array[353]"
   ]
  },
  {
   "cell_type": "code",
   "execution_count": 205,
   "id": "6ee11d7b-bba1-4519-8bea-11d73488942d",
   "metadata": {},
   "outputs": [
    {
     "data": {
      "text/plain": [
       "array([0.22123195])"
      ]
     },
     "execution_count": 205,
     "metadata": {},
     "output_type": "execute_result"
    }
   ],
   "source": [
    "np.diff(B_boundary_array[0])"
   ]
  },
  {
   "cell_type": "code",
   "execution_count": 206,
   "id": "e4666bc8-6301-4c2c-9074-ec839c7a0a5b",
   "metadata": {},
   "outputs": [
    {
     "data": {
      "text/plain": [
       "array([0.24250426])"
      ]
     },
     "execution_count": 206,
     "metadata": {},
     "output_type": "execute_result"
    }
   ],
   "source": [
    "np.diff(B_boundary_array[-1])"
   ]
  },
  {
   "cell_type": "markdown",
   "id": "1515a7c3-bb83-4e7c-a931-506399309a3c",
   "metadata": {},
   "source": [
    "# rescale B"
   ]
  },
  {
   "cell_type": "code",
   "execution_count": 71,
   "id": "9b965708-6aaf-4263-90e8-570096e540a9",
   "metadata": {},
   "outputs": [],
   "source": [
    "B_ref = 14.7*mu_B*2./2./const.e*1000./100.*53.\n",
    "B_ref_pos = (B_ref-B_boundary_array[200][0])/(B_boundary_array[200][1]-B_boundary_array[200][0])"
   ]
  },
  {
   "cell_type": "code",
   "execution_count": 78,
   "id": "36036727-ac71-4b3c-ad70-11f652a53d54",
   "metadata": {},
   "outputs": [
    {
     "data": {
      "text/plain": [
       "0.450972826508187"
      ]
     },
     "execution_count": 78,
     "metadata": {},
     "output_type": "execute_result"
    }
   ],
   "source": [
    "14.7*mu_B*2./2./const.e*1000./100.*53."
   ]
  },
  {
   "cell_type": "code",
   "execution_count": 72,
   "id": "2415252c-f12b-4478-84fc-72ee7753b561",
   "metadata": {},
   "outputs": [
    {
     "data": {
      "text/plain": [
       "0.40176557434558136"
      ]
     },
     "execution_count": 72,
     "metadata": {},
     "output_type": "execute_result"
    }
   ],
   "source": [
    "B_rescale = B_boundary_array[0][0]+B_ref_pos*(B_boundary_array[0][1] - B_boundary_array[0][0])\n",
    "B_rescale"
   ]
  },
  {
   "cell_type": "code",
   "execution_count": 73,
   "id": "32f859b1-7b8d-4735-9e52-ac8a5cad28e2",
   "metadata": {},
   "outputs": [
    {
     "data": {
      "text/plain": [
       "0.3999192989789583"
      ]
     },
     "execution_count": 73,
     "metadata": {},
     "output_type": "execute_result"
    }
   ],
   "source": [
    "14.7*mu_B*2./2./const.e*1000./100.*47."
   ]
  },
  {
   "cell_type": "code",
   "execution_count": 74,
   "id": "cfdc40d5-55cf-43d3-8fa2-a67a74b1f9f1",
   "metadata": {},
   "outputs": [
    {
     "data": {
      "text/plain": [
       "0.5390321342119038"
      ]
     },
     "execution_count": 74,
     "metadata": {},
     "output_type": "execute_result"
    }
   ],
   "source": [
    "B_rescale2 = B_boundary_array[353][0]+B_ref_pos*(B_boundary_array[353][1] - B_boundary_array[353][0])\n",
    "B_rescale2"
   ]
  },
  {
   "cell_type": "code",
   "execution_count": null,
   "id": "307a1dbf-a6f6-4f50-8556-eb9658eb65d0",
   "metadata": {},
   "outputs": [],
   "source": []
  },
  {
   "cell_type": "markdown",
   "id": "5ba9ff70-2bbb-4b1d-927d-37aa76c104d7",
   "metadata": {},
   "source": [
    "# Rescale 2"
   ]
  },
  {
   "cell_type": "code",
   "execution_count": 118,
   "id": "a1498e59-01b2-4cde-894e-08625489ac6f",
   "metadata": {},
   "outputs": [],
   "source": [
    "B_ref = 14.7*mu_B*2./2./const.e*1000./100.*72.\n",
    "B_ref_pos = (B_ref-B_boundary_array[353][0])/(B_boundary_array[353][1]-B_boundary_array[353][0])"
   ]
  },
  {
   "cell_type": "code",
   "execution_count": 201,
   "id": "21bde064-a64a-4875-8a56-36af8845d1af",
   "metadata": {},
   "outputs": [
    {
     "data": {
      "text/plain": [
       "0.6126423303507447"
      ]
     },
     "execution_count": 201,
     "metadata": {},
     "output_type": "execute_result"
    }
   ],
   "source": [
    "B_ref"
   ]
  },
  {
   "cell_type": "code",
   "execution_count": 119,
   "id": "c01ebce1-b354-4111-9058-eafb44f1f005",
   "metadata": {},
   "outputs": [
    {
     "data": {
      "text/plain": [
       "0.4701178993316478"
      ]
     },
     "execution_count": 119,
     "metadata": {},
     "output_type": "execute_result"
    }
   ],
   "source": [
    "B_rescale = B_boundary_array[0][0]+B_ref_pos*(B_boundary_array[0][1] - B_boundary_array[0][0])\n",
    "B_rescale"
   ]
  },
  {
   "cell_type": "code",
   "execution_count": 120,
   "id": "52f34ec2-09f2-4011-953e-68e04ad7e6b0",
   "metadata": {},
   "outputs": [
    {
     "data": {
      "text/plain": [
       "0.5206396192824471"
      ]
     },
     "execution_count": 120,
     "metadata": {},
     "output_type": "execute_result"
    }
   ],
   "source": [
    "B_rescale2 = B_boundary_array[200][0]+B_ref_pos*(B_boundary_array[200][1] - B_boundary_array[200][0])\n",
    "B_rescale2"
   ]
  },
  {
   "cell_type": "code",
   "execution_count": 121,
   "id": "36340a94-9a14-4c1b-9c2d-42adf5df1fa7",
   "metadata": {},
   "outputs": [
    {
     "data": {
      "text/plain": [
       "0.5791384529096884"
      ]
     },
     "execution_count": 121,
     "metadata": {},
     "output_type": "execute_result"
    }
   ],
   "source": [
    "B_rescale3 = B_boundary_array[300][0]+B_ref_pos*(B_boundary_array[300][1] - B_boundary_array[300][0])\n",
    "B_rescale3"
   ]
  },
  {
   "cell_type": "code",
   "execution_count": null,
   "id": "761ce01b-87de-4e7a-b084-e2dd11cac20a",
   "metadata": {},
   "outputs": [],
   "source": []
  }
 ],
 "metadata": {
  "kernelspec": {
   "display_name": "Python 3 (ipykernel)",
   "language": "python",
   "name": "python3"
  },
  "language_info": {
   "codemirror_mode": {
    "name": "ipython",
    "version": 3
   },
   "file_extension": ".py",
   "mimetype": "text/x-python",
   "name": "python",
   "nbconvert_exporter": "python",
   "pygments_lexer": "ipython3",
   "version": "3.9.6"
  }
 },
 "nbformat": 4,
 "nbformat_minor": 5
}
