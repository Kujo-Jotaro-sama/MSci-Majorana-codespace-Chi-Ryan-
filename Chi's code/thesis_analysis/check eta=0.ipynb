{
 "cells": [
  {
   "cell_type": "code",
   "execution_count": null,
   "id": "32f57a23-1f0f-4f7e-90fa-171e9e69eeba",
   "metadata": {},
   "outputs": [],
   "source": []
  },
  {
   "cell_type": "code",
   "execution_count": 1,
   "id": "c2c888a6-0286-48d4-8bd2-53f062a63a5e",
   "metadata": {},
   "outputs": [],
   "source": [
    "import pickle\n",
    "e_phi_B_scan_without_eta = []\n",
    "for i in range(1, 101):\n",
    "    e_temp = pickle.load(open('../debugged_probes/data/e_phi_B_rerun_without_eta/e_B_index_%i' % (i), 'rb'))\n",
    "    e_phi_B_scan_without_eta.append(e_temp)"
   ]
  },
  {
   "cell_type": "code",
   "execution_count": null,
   "id": "8af9fa82-23f5-44d1-bf21-ee83a768525c",
   "metadata": {},
   "outputs": [],
   "source": []
  }
 ],
 "metadata": {
  "kernelspec": {
   "display_name": "Python 3 (ipykernel)",
   "language": "python",
   "name": "python3"
  },
  "language_info": {
   "codemirror_mode": {
    "name": "ipython",
    "version": 3
   },
   "file_extension": ".py",
   "mimetype": "text/x-python",
   "name": "python",
   "nbconvert_exporter": "python",
   "pygments_lexer": "ipython3",
   "version": "3.9.6"
  }
 },
 "nbformat": 4,
 "nbformat_minor": 5
}
