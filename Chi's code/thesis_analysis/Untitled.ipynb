{
 "cells": [
  {
   "cell_type": "code",
   "execution_count": null,
   "id": "841774d3-acef-4f76-8b05-57633ad15b05",
   "metadata": {},
   "outputs": [],
   "source": []
  },
  {
   "cell_type": "code",
   "execution_count": 1,
   "id": "6226425d-7c78-47a1-9ce2-d6a03c986e47",
   "metadata": {},
   "outputs": [
    {
     "name": "stdout",
     "output_type": "stream",
     "text": [
      "1.602176634e-19\n"
     ]
    },
    {
     "data": {
      "text/plain": [
       "0.8508921254871452"
      ]
     },
     "execution_count": 1,
     "metadata": {},
     "output_type": "execute_result"
    }
   ],
   "source": [
    "import kwant\n",
    "import tinyarray\n",
    "import numpy as np\n",
    "import scipy as spi\n",
    "import scipy.constants as const\n",
    "import scipy.signal as signal\n",
    "\n",
    "import matplotlib.pyplot as plt \n",
    "import matplotlib.colors as colors\n",
    "print(const.e)\n",
    "plt.rcParams.update({'font.size': 20})\n",
    "\n",
    "mu_B = const.physical_constants['Bohr magneton'][0]\n",
    "B = 14.7*mu_B*2./2./const.e*1000.\n",
    "B"
   ]
  },
  {
   "cell_type": "code",
   "execution_count": 2,
   "id": "8adfb6da-da4f-4f8f-8ba2-c4c060da8bbf",
   "metadata": {},
   "outputs": [],
   "source": [
    "## realistic parameters InAs with Al shell\n",
    "# Energy unit: meV, length unit: A\n",
    "#g = 14.7 #https://doi.org/10.1016/0375-9601(67)90541-5\n",
    "\n",
    "def make_system_mixed(L_A=3700., W=1400., a=6.0583*10., m=0.023, alpha=350., mu=0., delta=0.182, B=0., phi=0., eta=None):\n",
    "    \n",
    "    #a = 6.0583 #https://en.wikipedia.org/wiki/Indium_arsenide\n",
    "    L = int(np.round(L_A/a))\n",
    "    t = (const.hbar**2.)/(2.*m*const.m_e*(a*1e-10)**2.)/const.e*1000.\n",
    "    E_plus = (6.*const.hbar**2.)/(m*const.m_e*(W*1e-10)**2.)/const.e*1000.\n",
    "    E_minus = (-2.*const.hbar**2.)/(m*const.m_e*(W*1e-10)**2.)/const.e*1000.\n",
    "    if eta is None:\n",
    "        eta = np.sqrt(2)*alpha/W\n",
    "    else:\n",
    "        eta = eta\n",
    "    nu = alpha/(2.*a)\n",
    "    #B = g*mu_B*B_Tesla/2./const.e*1000.\n",
    "    print('Parameters: L, t, E_plus, E_minus, eta, nu, B')\n",
    "    print([L, t, E_plus, E_minus, eta, nu, B])\n",
    "    lat = kwant.lattice.chain()\n",
    "    syst = kwant.Builder()\n",
    "    \n",
    "    # Pauli matrices\n",
    "    t_x = np.kron(np.kron(np.array([[0, 1], [1, 0]]), np.eye(2)), np.eye(2)) # e-h subspace\n",
    "    t_y = np.kron(np.kron(np.array([[0, -1j], [1j, 0]]), np.eye(2)), np.eye(2))\n",
    "    t_z = np.kron(np.kron(np.array([[1, 0], [0, -1]]), np.eye(2)), np.eye(2))\n",
    "    sigma_x = np.kron(np.kron(np.eye(2), np.array([[0, 1], [1, 0]])), np.eye(2)) # subband subspace\n",
    "    sigma_y = np.kron(np.kron(np.eye(2), np.array([[0, -1j], [1j, 0]])), np.eye(2))\n",
    "    sigma_z = np.kron(np.kron(np.eye(2), np.array([[1, 0], [0, -1]])), np.eye(2))\n",
    "    s_x = np.kron(np.kron(np.eye(2), np.eye(2)), np.array([[0, 1], [1, 0]])) # spin subspace\n",
    "    s_y = np.kron(np.kron(np.eye(2), np.eye(2)), np.array([[0, -1j], [1j, 0]]))\n",
    "    s_z = np.kron(np.kron(np.eye(2), np.eye(2)), np.array([[1, 0], [0, -1]]))\n",
    "    \n",
    "    #### Define the scattering region. ####\n",
    "    ham = (2.*t+E_plus-mu)*t_z + E_minus*sigma_z@t_z + eta*s_x@sigma_y@t_z + B*s_x\n",
    "    hop = -t*t_z + 1j*nu*s_y@t_z\n",
    "    ham_scl = delta*(np.cos(-phi/2.)*t_x - np.sin(-phi/2.)*t_y)\n",
    "    ham_scr = delta*(np.cos(phi/2.)*t_x - np.sin(phi/2.)*t_y)\n",
    "    \n",
    "    syst[(lat(x) for x in range(0, L))] = ham\n",
    "    syst[((lat(x), lat(x+1)) for x in range(0, L-1))] = hop\n",
    "        \n",
    "    \n",
    "    #### Define the leads. ####\n",
    "    sym_left = kwant.TranslationalSymmetry([-1])\n",
    "    lead0 = kwant.Builder(sym_left)\n",
    "    lead0[(lat(-1))] = ham+ham_scl\n",
    "    lead0[lat.neighbors()] = hop.T.conj()\n",
    "    sym_right = kwant.TranslationalSymmetry([1])\n",
    "    lead1 = kwant.Builder(sym_right)\n",
    "    lead1[(lat(L))] =  ham+ham_scr\n",
    "    lead1[lat.neighbors()] = hop.T.conj()\n",
    "\n",
    "    #### Attach the leads and return the system. ####\n",
    "    syst.attach_lead(lead0)\n",
    "    syst.attach_lead(lead1)\n",
    "\n",
    "    return syst.finalized()"
   ]
  },
  {
   "cell_type": "code",
   "execution_count": 14,
   "id": "f0c5cc8b-a1b8-4bf3-b67c-35a42b804cb3",
   "metadata": {},
   "outputs": [
    {
     "data": {
      "text/plain": [
       "0.36197780743103836"
      ]
     },
     "execution_count": 14,
     "metadata": {},
     "output_type": "execute_result"
    }
   ],
   "source": [
    "ABSOL_MU"
   ]
  },
  {
   "cell_type": "code",
   "execution_count": 15,
   "id": "558833e4-34aa-4fda-9377-061777407c7d",
   "metadata": {},
   "outputs": [
    {
     "name": "stdout",
     "output_type": "stream",
     "text": [
      "Parameters: L, t, E_plus, E_minus, eta, nu, B\n",
      "[61, 44.767152195754, 1.0141922225789335, -0.3380640741929778, 0.5, 2.8768699654775607, 0.0]\n",
      "0.41063003169885676\n",
      "0.7726078391298952\n"
     ]
    },
    {
     "data": {
      "text/plain": [
       "\"print('Spectral gap:')\\nprint(np.min(en[:,4]))\\nprint(np.min(en[:,5]))\\nprint('Fermi momentum')\\nk_F = np.abs(np.linspace(-np.pi,np.pi,100001)[np.argmin(en[:,4])])/6.0583e-10\\nprint(k_F)\\nprint('Fermi wavelength:')\\nprint(2.*np.pi/k_F)\\n# Fermi wavelength comparable to junction length\\nlocal_minima = signal.argrelextrema(en[:,4], np.less)\\nprint(local_minima)\\nprint(en[local_minima, 4])\\nprint(np.abs(np.linspace(-np.pi,np.pi,100001)[local_minima]))\""
      ]
     },
     "execution_count": 15,
     "metadata": {},
     "output_type": "execute_result"
    },
    {
     "data": {
      "image/png": "[encoded data removed]",
      "text/plain": [
       "<Figure size 432x288 with 1 Axes>"
      ]
     },
     "metadata": {
      "needs_background": "light"
     },
     "output_type": "display_data"
    }
   ],
   "source": [
    "#mu above crossing 0.36197780743103836\n",
    "syst = make_system_mixed(L_A=3700., W=1400., a=6.083*10, m=0.023, alpha=350., mu=0., delta=0., B=0., phi=0., eta=0.5)\n",
    "bands=kwant.physics.Bands(syst.leads[1])\n",
    "momenta=np.linspace(-np.pi,np.pi,10001)\n",
    "energies=[bands(k) for k in momenta]\n",
    "x=np.array(energies)\n",
    "en=(x)\n",
    "plt.plot(momenta, en)\n",
    "plt.xlabel(r'$k\\ [a^{-1}]$')\n",
    "plt.ylabel(r'$E$')\n",
    "plt.xlim(-1, 1)\n",
    "plt.ylim(-5, 5)\n",
    "print(bands(0.)[4])\n",
    "plt.axhline(bands(0.)[4])\n",
    "print(bands(0.)[4]+ABSOL_MU)\n",
    "\n",
    "#ABSOL_MU = 0.887-bands(0.)[4]\n",
    "\n",
    "\n",
    "'''print('Spectral gap:')\n",
    "print(np.min(en[:,4]))\n",
    "print(np.min(en[:,5]))\n",
    "print('Fermi momentum')\n",
    "k_F = np.abs(np.linspace(-np.pi,np.pi,100001)[np.argmin(en[:,4])])/6.0583e-10\n",
    "print(k_F)\n",
    "print('Fermi wavelength:')\n",
    "print(2.*np.pi/k_F)\n",
    "# Fermi wavelength comparable to junction length\n",
    "local_minima = signal.argrelextrema(en[:,4], np.less)\n",
    "print(local_minima)\n",
    "print(en[local_minima, 4])\n",
    "print(np.abs(np.linspace(-np.pi,np.pi,100001)[local_minima]))'''"
   ]
  },
  {
   "cell_type": "code",
   "execution_count": null,
   "id": "23caf70c-4ec1-49da-8ba9-4ed3a821b3b7",
   "metadata": {},
   "outputs": [],
   "source": []
  }
 ],
 "metadata": {
  "kernelspec": {
   "display_name": "Python 3 (ipykernel)",
   "language": "python",
   "name": "python3"
  },
  "language_info": {
   "codemirror_mode": {
    "name": "ipython",
    "version": 3
   },
   "file_extension": ".py",
   "mimetype": "text/x-python",
   "name": "python",
   "nbconvert_exporter": "python",
   "pygments_lexer": "ipython3",
   "version": "3.9.6"
  }
 },
 "nbformat": 4,
 "nbformat_minor": 5
}
