{
 "cells": [
  {
   "cell_type": "code",
   "execution_count": null,
   "id": "10ca1128-752e-4297-a017-0ff100d0b937",
   "metadata": {},
   "outputs": [],
   "source": []
  },
  {
   "cell_type": "code",
   "execution_count": 1,
   "id": "2105a452-b6a2-4e7e-ade5-8e50810c3f4f",
   "metadata": {},
   "outputs": [],
   "source": [
    "# Copyright 2011-2019 Kwant authors.\n",
    "#\n",
    "# This file is part of Kwant.  It is subject to the license terms in the file\n",
    "# LICENSE.rst found in the top-level directory of this distribution and at\n",
    "# http://kwant-project.org/license.  A list of Kwant authors can be found in\n",
    "# the file AUTHORS.rst at the top-level directory of this distribution and at\n",
    "# http://kwant-project.org/authors.\n",
    "\n",
    "from packaging import version\n",
    "\n",
    "import numpy as np\n",
    "import scipy.linalg\n",
    "import scipy.optimize\n",
    "import scipy.sparse as sp\n",
    "\n",
    "__all__ = [\"find_boundstates\"]\n",
    "\n",
    "# TODO: remove this when we depend on scipy > 1.1\n",
    "#1.3.1 here\n",
    "if version.parse(scipy.__version__) > version.parse(\"1.1\"):\n",
    "    null_space = scipy.linalg.null_space\n",
    "else:\n",
    "\n",
    "    def null_space(A, rcond=None):\n",
    "        u, s, vh = scipy.linalg.svd(A, full_matrices=True)\n",
    "        M, N = u.shape[0], vh.shape[1]\n",
    "        if rcond is None:\n",
    "            rcond = np.finfo(s.dtype).eps * max(M, N)\n",
    "        tol = np.amax(s) * rcond\n",
    "        num = np.sum(s > tol, dtype=int)\n",
    "        Q = vh[num:, :].T.conj()\n",
    "        return Q\n",
    "\n",
    "\n",
    "# If available, use MUMPS support for shift-inverse sparse diagonalization\n",
    "# Can import mumps alright.\n",
    "try:\n",
    "    from kwant.linalg import mumps\n",
    "except ImportError:\n",
    "    sparse_diag = sp.linalg.eigsh\n",
    "else:\n",
    "\n",
    "    class _LuInv(sp.linalg.LinearOperator):\n",
    "        def __init__(self, A):\n",
    "            inst = mumps.MUMPSContext()\n",
    "            inst.analyze(A)\n",
    "            inst.factor(A)\n",
    "            self.solve = inst.solve\n",
    "            super().__init__(A.dtype, A.shape)\n",
    "\n",
    "        def _matvec(self, x):\n",
    "            return self.solve(x.astype(self.dtype))\n",
    "\n",
    "    def sparse_diag(matrix, k, sigma, **kwargs):\n",
    "        if sigma == 0:\n",
    "            shifted_matrix = matrix\n",
    "        else:\n",
    "            shifted_matrix = matrix - sigma * sp.identity(matrix.shape[0])\n",
    "        return sp.linalg.eigsh(matrix, k, sigma=sigma, OPinv=_LuInv(shifted_matrix),\n",
    "                               **kwargs)\n",
    "\n",
    "\"\"\"syst: kwant.system.FiniteSystem\n",
    "\"\"\"\n",
    "\n",
    "def find_boundstates(\n",
    "    syst,\n",
    "    min_energy,\n",
    "    max_energy,\n",
    "    params=None,\n",
    "    sparse=True,\n",
    "    check_hermiticity=True,\n",
    "    rtol=1e-3,\n",
    "):\n",
    "    \"\"\"Return boundstates of an open system in an energy window\n",
    "\n",
    "    Parameters\n",
    "    ----------\n",
    "    syst : kwant.system.FiniteSystem\n",
    "        Must have leads.\n",
    "    min_energy, max_energy : float\n",
    "        The lower and upper bounds in energy to search for boundstates.\n",
    "    params : dict, optional\n",
    "        The keyword arguments to 'syst'.\n",
    "    sparse : bool, default: True\n",
    "        If True use sparse linear algebra, otherwise use dense.\n",
    "    check_hermiticity : bool, default: True\n",
    "        If True, checks the Hermiticity of the system Hamiltonian\n",
    "    rtol : float, default: 1E-3\n",
    "        boundstates that are closer together than\n",
    "        'rtol * (max_energy - min_energy)' may be missed.\n",
    "\n",
    "    Returns\n",
    "    -------\n",
    "    energies : 1D float array\n",
    "        The energies of the bound states.\n",
    "    wavefunctions : 2D complex array\n",
    "        The columns are the bound state wavefunctions defined\n",
    "        over the scattering region.\n",
    "    \"\"\"\n",
    "\n",
    "    # TODO: apply lru_cache to this once\n",
    "    # https://github.com/scipy/scipy/issues/10846 is solved.\n",
    "    def min_eigenvalue(energy):\n",
    "        H_eff = make_linsys(\n",
    "            syst,\n",
    "            energy,\n",
    "            params=params,\n",
    "            sparse=sparse,\n",
    "            check_hermiticity=check_hermiticity,\n",
    "        )\n",
    "        try:\n",
    "            if sparse:\n",
    "                if H_eff.shape[0] <= 2:\n",
    "                    raise ValueError(\n",
    "                        \"The system is too small to use sparse diagonalization. \"\n",
    "                        \"Try setting 'sparse=False'.\"\n",
    "                    )\n",
    "                vals = sparse_diag(\n",
    "                    H_eff.tocsc(), k=1, sigma=1e-10, which=\"LM\", return_eigenvectors=False\n",
    "                )\n",
    "                '''print('energy:')\n",
    "                print(energy)\n",
    "                print('Direct Diagonalisation:')\n",
    "                print(spi.linalg.eigvals(H_eff.toarray()))\n",
    "                print('sparce f:')\n",
    "                print(vals[np.argmin(np.abs(vals))]'''\n",
    "                return vals[0]\n",
    "            else:\n",
    "                vals = np.linalg.eigvalsh(H_eff)\n",
    "                which = np.argmin(np.abs(vals))\n",
    "                return vals[which]\n",
    "        except RuntimeError:  # Some problem diagonalizing\n",
    "            return np.inf\n",
    "\n",
    "    if syst.site_ranges is not None:\n",
    "        tot_norbs = syst.site_ranges[-1][-1]\n",
    "    else:\n",
    "        _, norbs = syst.hamiltonian_submatrix(params=params, return_norb=True)[:2]\n",
    "        tot_norbs = sum(norbs)\n",
    "\n",
    "    # Grid the energy window and search for roots in the sub-windows\n",
    "    # where the min-eigenvalue changes sign. These will either be\n",
    "    # true roots or discontinuities. Note that if there are >1 roots\n",
    "    # in the same sub-window then at least one of them will be missed.\n",
    "    '''print('f(0):')\n",
    "    print(min_eigenvalue(0))\n",
    "    print('f(1e-16)')\n",
    "    print(min_eigenvalue(1e-16))\n",
    "    print('f(3e-16)')\n",
    "    print(min_eigenvalue(3e-16))\n",
    "    print('f(1e-15)')\n",
    "    print(min_eigenvalue(1e-15))'''\n",
    "    \n",
    "    '''print('f(0):')\n",
    "    print(min_eigenvalue(0.))'''\n",
    "    \n",
    "    energies = np.linspace(\n",
    "        min_energy, max_energy, int((max_energy - min_energy) / rtol)\n",
    "    )\n",
    "    intervals = zip(energies, energies[1:])\n",
    "    \n",
    "    '''f_E = []\n",
    "    for e in energies:\n",
    "        print(e)\n",
    "        f_E.append(min_eigenvalue(e))\n",
    "    plt.scatter(energies, f_E)'''\n",
    "    \n",
    "    candidates = []\n",
    "    for a, b in intervals:\n",
    "        try:\n",
    "            if np.sign(min_eigenvalue(a)) != np.sign(min_eigenvalue(b)):\n",
    "                candidate = scipy.optimize.brentq(min_eigenvalue, a, b)\n",
    "                candidates.append(candidate)\n",
    "        except RuntimeError: #some problems with lead modes\n",
    "            continue\n",
    "    \n",
    "    \n",
    "    # Check which candidate points give actual boundstates.\n",
    "    energies = []\n",
    "    states = []\n",
    "    for energy in candidates:\n",
    "        vecs = extract_boundstates(syst, energy, params=params, sparse=sparse)\n",
    "        # vecs.shape[1] == 0 if there were no boundstates found\n",
    "        energies.append([energy] * vecs.shape[1])\n",
    "        # Here we discard the mode part of the solution just to\n",
    "        # make the output format more uniform (wavefunction has\n",
    "        # same number of components at all energies).\n",
    "        states.append(vecs[:tot_norbs, :])\n",
    "\n",
    "    if not energies:\n",
    "        return np.empty((0,)), np.empty((tot_norbs, 0))\n",
    "    else:\n",
    "        return np.hstack(energies), np.hstack(states)\n",
    "\n",
    "\n",
    "def extract_boundstates(\n",
    "    syst, energy=0, params=None, sparse=True, check_hermiticity=True, tol=1e-8\n",
    "):\n",
    "    \"\"\"Return any true boundstates of 'syst' at 'energy'\n",
    "\n",
    "    Params\n",
    "    ------\n",
    "    syst : kwant.FiniteSystem\n",
    "        Must have leads\n",
    "    energy : float\n",
    "    params : dict, optional\n",
    "        Keyword arguments to 'syst'\n",
    "    sparse : bool, default: True\n",
    "        If True, returns sparse matrices\n",
    "    check_hermiticity : bool, default: True\n",
    "        If True, check the system Hamiltonian for hermiticity\n",
    "\n",
    "    Returns\n",
    "    -------\n",
    "    vecs : 2D array\n",
    "        The columns are bound state wavefunctions.\n",
    "        The first N rows is in the tight-binding basis of the\n",
    "        scattering region, and the remaining rows are in the\n",
    "        basis of stabilized evanescent modes of the leads.\n",
    "\n",
    "    Notes\n",
    "    -----\n",
    "    We diagonalize the linear system returned by 'make_linsys', and\n",
    "    search for zero eigenvalues. We then look for vectors in the basis\n",
    "    of zero-eigenvalue eigenvectors that satisfy the bound state condition,\n",
    "    eq. 19 of https://doi.org/10.21468/SciPostPhys.4.5.026.\n",
    "    \"\"\"\n",
    "\n",
    "    lhs, T = make_linsys(\n",
    "        syst,\n",
    "        energy,\n",
    "        params=params,\n",
    "        sparse=sparse,\n",
    "        check_hermiticity=check_hermiticity,\n",
    "        return_validation=True,\n",
    "        which=\"hermitian\",\n",
    "    )\n",
    "\n",
    "    if sparse:\n",
    "        if lhs.shape[0] <= 2:\n",
    "            raise ValueError(\n",
    "                \"The system is too small to use sparse diagonalization. \"\n",
    "                \"Try setting 'sparse=False'.\"\n",
    "            )\n",
    "        k = min(6, lhs.shape[0] - 2)  # 6 is the default for sp.linalg.eigsh\n",
    "        try_again = True\n",
    "        # Solve the eigenproblem with successively large values of 'k' until\n",
    "        # we get all the zero eigenvalues. (In most cases this loop will\n",
    "        # run once).\n",
    "        while try_again:\n",
    "            vals, vecs = sparse_diag(lhs.tocsc(), k=k, sigma=1e-10, which=\"LM\")\n",
    "            zeros = np.abs(vals) < tol  # TODO: make this check better\n",
    "            if not np.all(zeros):  # we have found all the zero eigenvalues\n",
    "                try_again = False\n",
    "            else:\n",
    "                k *= 2  # try again with twice the number of eigenvalues\n",
    "                if k >= lhs.shape[0] - 1:\n",
    "                    raise ValueError(\n",
    "                        \"More eigenvalues are 0 than can be obtained by \"\n",
    "                        \"sparse diagonalization. Try setting 'sparse=False'.\"\n",
    "                    )\n",
    "    else:\n",
    "        vals, vecs = np.linalg.eigh(lhs)\n",
    "        zeros = np.abs(vals) < tol  # TODO make this check better\n",
    "\n",
    "    if not np.any(zeros):\n",
    "        return np.empty((lhs.shape[0], 0))\n",
    "\n",
    "\n",
    "    zero_vecs = vecs[:, zeros]\n",
    "    # To find the true boundstates we find the null space of the operator\n",
    "    # in eq 19 (T) in the basis of zero-eigenvalue vectors.\n",
    "    p = T @ zero_vecs\n",
    "    if np.allclose(p, 0):\n",
    "        # 'zero_vecs' are already a basis for the null space of T\n",
    "        return zero_vecs\n",
    "    else:\n",
    "        # TODO: not sure about this value for 'rcond', we need to ensure\n",
    "        #       that rcond is sufficiently large in the case that p is\n",
    "        #       zero (i.e. zero_vecs are individually boundstates).\n",
    "        bound_states = null_space(p, rcond=tol / np.max(np.abs(p)))\n",
    "        # transform back to original basis\n",
    "        # TODO: rotate the basis so the bound states have the correct symmetries\n",
    "        return np.asarray(zero_vecs @ bound_states)\n",
    "\n",
    "\n",
    "def make_linsys(\n",
    "    syst,\n",
    "    energy=0,\n",
    "    params=None,\n",
    "    sparse=True,\n",
    "    check_hermiticity=True,\n",
    "    return_validation=False,\n",
    "    which=\"hermitian\",\n",
    "):\n",
    "    \"\"\"Return the linear system for finding boundstates\n",
    "\n",
    "    Returns ether the linear system defined in equation 12 or equation 11\n",
    "    of https://doi.org/10.21468/SciPostPhys.4.5.026, and the linear\n",
    "    operator defined in equation 19 of the same article.\n",
    "\n",
    "    Params\n",
    "    ------\n",
    "    syst : kwant.FiniteSystem\n",
    "        Must have leads\n",
    "    energy : float\n",
    "    params : dict, optional\n",
    "        Keyword arguments to 'syst'\n",
    "    sparse : bool, default: True\n",
    "        If True, returns sparse matrices\n",
    "    check_hermiticity : bool, default: True\n",
    "        If True, check the system Hamiltonian for hermiticity\n",
    "    return_validation: bool, default: False\n",
    "        If True, also return the linear operator used for\n",
    "        checking for true bound states (equation 19 of the article).\n",
    "    which : str, default: \"hermitian\"\n",
    "        Which linear system to return. If \"hermitian\" returns the\n",
    "        linear system defined in equation 12, if \"svd\" returns\n",
    "        the linear system defined in equation 11.\n",
    "\n",
    "    Returns\n",
    "    -------\n",
    "    lhs : 2D array or sparse matrix\n",
    "        The linear system for finding boundstates\n",
    "    T : 2D array or sparse matrix\n",
    "        A linear operator for checking bound states.\n",
    "        zero-eigenvalue eigenvectors of 'lhs' that are in the\n",
    "        null-space of 'T' are true bound states. Only returned\n",
    "        if 'return_validation' is True.\n",
    "    \"\"\"\n",
    "    if not syst.leads:\n",
    "        raise ValueError(\"'syst' must have leads attached\")\n",
    "    if any(interface.shape[0] == 0 for interface in syst.lead_interfaces):\n",
    "        raise ValueError(\n",
    "            \"All the leads of 'syst' must have non-zero \" \"inter-cell hopping\"\n",
    "        )\n",
    "\n",
    "    lhs, norb = syst.hamiltonian_submatrix(\n",
    "        params=params, sparse=sparse, return_norb=True\n",
    "    )[:2]\n",
    "    offsets = np.empty(norb.shape[0] + 1, int)\n",
    "    offsets[0] = 0\n",
    "    offsets[1:] = np.cumsum(norb)\n",
    "    scattering_region_norbs = offsets[-1]\n",
    "\n",
    "    if check_hermiticity and len(lhs.data):\n",
    "        rtol = 1e-13\n",
    "        atol = 1e-300\n",
    "        tol = rtol * np.max(np.abs(lhs.data)) + atol\n",
    "        if np.any(np.abs((lhs - lhs.T.conj()).data) > tol):\n",
    "            raise ValueError(\n",
    "                \"System Hamiltonian is not Hermitian. \"\n",
    "                \"Use option `check_hermiticity=False` \"\n",
    "                \"if this is intentional.\"\n",
    "            )\n",
    "\n",
    "    if sparse:\n",
    "        lhs = lhs - energy * sp.identity(lhs.shape[0])\n",
    "    else:\n",
    "        lhs.flat[:: (offsets[-1] + 1)] -= energy\n",
    "\n",
    "    phi_e = []\n",
    "    svd_vs = []\n",
    "    transfs = []\n",
    "    for leadnum, interface in enumerate(syst.lead_interfaces):\n",
    "        lead = syst.leads[leadnum]\n",
    "        _, stab = lead.modes(energy, params=params)\n",
    "        svd_v = stab.sqrt_hop\n",
    "        # Evanescent modes (schur vectors) are stored after\n",
    "        # the 2*nmodes propagating (in/out) modes\n",
    "        evan_vecs = slice(2 * stab.nmodes, None)\n",
    "        u_out = stab.vecs[:, evan_vecs]\n",
    "        ulinv_out = stab.vecslmbdainv[:, evan_vecs]\n",
    "\n",
    "        # Construct a matrix of 1's that translates the\n",
    "        # inter-cell hopping to a proper hopping\n",
    "        # from the system to the lead.\n",
    "        iface_orbs = np.r_[tuple(slice(offsets[i], offsets[i + 1]) for i in interface)]\n",
    "\n",
    "        n_lead_orbs = svd_v.shape[0]\n",
    "        if n_lead_orbs != len(iface_orbs):\n",
    "            msg = (\n",
    "                \"Lead {0} has hopping with dimensions \"\n",
    "                \"incompatible with its interface dimension.\"\n",
    "            )\n",
    "            raise ValueError(msg.format(leadnum))\n",
    "\n",
    "        coords = np.r_[[np.arange(len(iface_orbs))], [iface_orbs]]\n",
    "        transf = sp.csc_matrix(\n",
    "            (np.ones(len(iface_orbs)), coords), shape=(iface_orbs.size, lhs.shape[0])\n",
    "        )\n",
    "\n",
    "        phi_e.append(ulinv_out)\n",
    "        svd_vs.append(svd_v)\n",
    "        # We are saving these for use in '_validation_operator', where we\n",
    "        # expect each projector to project *from the scattering region only*,\n",
    "        # hence the slice up to 'scattering_region_norbs'\n",
    "        transfs.append(transf[:, :scattering_region_norbs])\n",
    "\n",
    "        if which == \"hermitian\":\n",
    "            A, B, C = _hermitian_matrices(svd_v, transf, u_out, ulinv_out)\n",
    "        elif which == \"svd\":\n",
    "            A, B, C = _svd_matrices(svd_v, transf, u_out, ulinv_out)\n",
    "        else:\n",
    "            raise ValueError(\"'which' must be 'hermitian' or 'svd'\")\n",
    "\n",
    "        if sparse:\n",
    "            A = sp.csc_matrix(A)\n",
    "            B = sp.csc_matrix(B)\n",
    "            C = sp.csc_matrix(C)\n",
    "            lhs = sp.bmat([[lhs, A], [B, C]])\n",
    "        else:\n",
    "            lhs = np.block([[lhs, A], [B, C]])\n",
    "\n",
    "    if return_validation:\n",
    "        return (\n",
    "            lhs,\n",
    "            _validation_operator(\n",
    "                phi_e=phi_e,\n",
    "                svd_vs=svd_vs,\n",
    "                transfs=transfs,\n",
    "                orb_offsets=offsets,\n",
    "                sparse=sparse,\n",
    "            ),\n",
    "        )\n",
    "    else:\n",
    "        return lhs\n",
    "\n",
    "\n",
    "# Equation 12\n",
    "def _hermitian_matrices(svd_v, transf, u_out, ulinv_out):\n",
    "    A = transf.T @ svd_v @ u_out\n",
    "    B = A.conj().T\n",
    "    C = -u_out.T.conj() @ ulinv_out\n",
    "    return A, B, C\n",
    "\n",
    "\n",
    "# Equation 11\n",
    "def _svd_matrices(svd_v, transf, u_out, ulinv_out):\n",
    "    A = transf.T @ svd_v @ u_out\n",
    "    B = svd_v.conj().T @ transf\n",
    "    C = -ulinv_out\n",
    "    return A, B, C\n",
    "\n",
    "\n",
    "# Equation 19\n",
    "def _validation_operator(phi_e, svd_vs, transfs, orb_offsets, sparse):\n",
    "\n",
    "    syst_size = orb_offsets[-1]\n",
    "    mode_size = sum(phi.shape[1] for phi in phi_e)\n",
    "    sol_size = syst_size + mode_size\n",
    "\n",
    "    p_psi = sp.csc_matrix(\n",
    "        (np.ones(syst_size), (np.arange(syst_size),) * 2), shape=(syst_size, sol_size)\n",
    "    )\n",
    "    p_q = sp.csc_matrix(\n",
    "        (np.ones(mode_size), (np.arange(mode_size), np.arange(syst_size, sol_size))),\n",
    "        shape=(mode_size, sol_size),\n",
    "    )\n",
    "\n",
    "    svd_v = np.vstack(svd_vs)\n",
    "    transf = sp.vstack(transfs)\n",
    "    # The states are the *columns*, so use hstack rather than vstack\n",
    "    phi = np.hstack(phi_e)\n",
    "\n",
    "    r = svd_v.conj().T @ (transf @ p_psi) - phi @ p_q\n",
    "\n",
    "    if sparse:\n",
    "        r = sp.csc_matrix(r)\n",
    "\n",
    "    return r\n"
   ]
  },
  {
   "cell_type": "code",
   "execution_count": 2,
   "id": "6eaa7029-91b5-4c83-a147-479f7284a452",
   "metadata": {},
   "outputs": [],
   "source": [
    "# Copyright 2011-2018 Kwant authors.\n",
    "#\n",
    "# This file is part of Kwant.  It is subject to the license terms in the file\n",
    "# LICENSE.rst found in the top-level directory of this distribution and at\n",
    "# http://kwant-project.org/license.  A list of Kwant authors can be found in\n",
    "# the file AUTHORS.rst at the top-level directory of this distribution and at\n",
    "# http://kwant-project.org/authors.\n",
    "\n",
    "import numpy as np\n",
    "from scipy.optimize import newton, brentq, minimize_scalar\n",
    "from _boundstate_hermitian import eig_values, false_positive_BS, eig_val_derivative\n",
    "from _boundstate_svd import singular_values\n",
    "from _boundstate_common import *\n",
    "\n",
    "__all__ = ['bound_state', 'wf_in_leads']\n",
    "\n",
    "def bound_state(syst, E_range, args=(), params=None, tol=1e-8, sparse=False, \n",
    "                return_wf=False, maxiter=100, eig_val=2, need_orth=True):\n",
    "    \"\"\"Find a single bound state in the energy window '(emin, emax)'.\n",
    "\n",
    "    Parameters\n",
    "    ----------\n",
    "    syst : kwant.system.FiniteSystem\n",
    "        Must have at least one lead attached. If you need to find bound\n",
    "        states of a finite system, use an eigensolver.\n",
    "    emin, emax : float\n",
    "        The energy bounds in which to search for bound states.\n",
    "    E_0: starting point of the newton method\n",
    "    args : tuple\n",
    "        Positional arguments to the system.\n",
    "    params : dict\n",
    "        Keyword arguments to the system.\n",
    "    eps : float\n",
    "        Tolerance with which to find the bound state.\n",
    "    return_wavefunction : bool\n",
    "        Whether or not to return the bound state wavefunction.\n",
    "    maxiter: maximum number of steps used by the newton method\n",
    "    eig_val: the number of eigenvalue to be computed. Only if sparse \n",
    "             is True\n",
    "    need_orth: Whether to orthogonalize the leads modes. Only necessary \n",
    "               for degenerate eigenmodes\n",
    "\n",
    "    Returns\n",
    "    -------\n",
    "    E: energy of the bound state\n",
    "    if return _wf is True:\n",
    "        psi_alpha_0: wavefunction in the scattering region\n",
    "        lmb: Evanescent modes in the lead at a given energy\n",
    "        q_e: \n",
    "        Phi: \n",
    "    elements fo compute the wavefunction in the leads\n",
    "\n",
    "    Notes\n",
    "    -----\n",
    "    TODO: finish this docstring\n",
    "    Can use Newton method to find the root. Downside of this method: \n",
    "    -needs a good initial guess (i.e. first Taylor expansion term bigger\n",
    "     than others) \n",
    "    -assume that the minimal eigenvalue is a smooth function, which is \n",
    "     not the case when a mode opens in the lead, or when the minimal \n",
    "     eigenvalue changes\n",
    "    Upside: Fast\n",
    "    Brentq:\n",
    "    from scipy, \"Generally considered the best of the rootfinding routines here\"\n",
    "\n",
    "    Returns at most 1 bound state...\n",
    "    \"\"\"\n",
    "    mat = extract_kwant_matrices(syst, sparse=sparse, args=args, params=params)\n",
    "\n",
    "    # To use Singular value decomposition and look for a minimum\n",
    "    return SVD_formulation(mat, E_range, tol, return_wf=return_wf, sparse=sparse)\n",
    "    # To use eigenvalue decomposition and look for a root\n",
    "    # return Hermitian_formulation(mat, E_0, return_wf=return_wf)\n",
    "\n",
    "def SVD_formulation(mat, E_range, tol, return_wf=False, sparse=False, sigma=None, sing_values=1):\n",
    "    \"\"\"\n",
    "    Compute the singular values of Eq.11\n",
    "    \"\"\"\n",
    "    def min_sing(e):\n",
    "        return min(singular_values(*mat, e, sparse=sparse, uv=False, sing_values=1))\n",
    "\n",
    "    minimum = minimize_scalar(min_sing, method='Bounded', bounds=E_range, \n",
    "                              options={'xatol': tol})\n",
    "    if minimum.fun > tol:\n",
    "        print(minimum.fun)\n",
    "        return None\n",
    "\n",
    "    E = minimum.x\n",
    "    if return_wf:\n",
    "        #print('here')\n",
    "        #print(minimum)\n",
    "        S, Wh, L_out, X_out = singular_values(*mat, E, sparse=sparse,\n",
    "                                              uv=True, sigma=sigma,\n",
    "                                              sing_values=sing_values)\n",
    "        \n",
    "        psi_alpha_0, q_e, L_out, Phi = compute_wf(S, Wh.conj().T, L_out, \n",
    "                                                X_out, mat[0].shape[0], \n",
    "                                                tol=tol,schur_modes=False)\n",
    "        return E, psi_alpha_0, q_e, L_out, Phi\n",
    "    else:\n",
    "        return E\n",
    "\n",
    "def Hermitian_formulation(mat, E_0, return_wf=False, fprime=eig_val_derivative):\n",
    "\n",
    "    def min_eig(e, *mat, sparse=sparse):\n",
    "        eig = eig_values(*mat, e, sparse=sparse, uv=False, sing_values=1)\n",
    "        idx = np.argmin(abs(eig))\n",
    "        return eig[idx]\n",
    "\n",
    "    try:\n",
    "        E = newton(min_eig, E_0, fprime=fprime, tol=tol, args=(*mat, sparse))\n",
    "\n",
    "        if not false_positive_BS(*mat, E, eps=eps):\n",
    "            print('False positive, no bound state')\n",
    "            return None\n",
    "        if return_wf:\n",
    "            S, Wh, L_out, X_out = eig_values(*mat, E, sparse=sparse,\n",
    "                                             uv=True)\n",
    "            psi_alpha_0, q_e, L_out, Phi = compute_wf(S, Wh.conj().T, L_out, \n",
    "                                                X_out, mat[0].shape, \n",
    "                                                tol=tol,schur_modes=False)\n",
    "            return E, psi_alpha_0, q_e, L_out, Phi\n",
    "        else:\n",
    "            return E\n",
    "\n",
    "    except RuntimeError:\n",
    "        print('no bound states found')\n",
    "\n",
    "def wf_in_leads(q_e, L_out, Phi, j):\n",
    "    \"\"\"\n",
    "    Compute the bound state wavefunction in the jth cell of the lead.\n",
    "    According to M.W. notes, the first unit cell is labbelled by 1.\n",
    "    Eq.7 in the paper\n",
    "    \"\"\"\n",
    "    return Phi @ np.linalg.matrix_power(L_out, j) @ q_e \n"
   ]
  },
  {
   "cell_type": "code",
   "execution_count": 3,
   "id": "8862196f-5aad-4563-a46e-365298d012e4",
   "metadata": {},
   "outputs": [],
   "source": [
    "# code chunk useful for selecting every n elements to separate the wavefunctions in the two leads.\n",
    "def select_in_groups_strided(a, M, N): # Keep first M, delete next N and so on.\n",
    "    K = M+N\n",
    "    na = a.size\n",
    "    nrows = (1+((na-1)//K))\n",
    "    n = a.strides[0]\n",
    "    out = np.lib.index_tricks.as_strided(a, shape=(nrows,K), strides=(K*n,n))\n",
    "    N = M*(na//K) + (na - (K*(na//K)))\n",
    "    return out[:,:M].ravel()[:N]"
   ]
  },
  {
   "cell_type": "code",
   "execution_count": 4,
   "id": "686d4ae6-c545-4520-8cc2-2ab7e1dc54d0",
   "metadata": {},
   "outputs": [],
   "source": [
    "# returns the wave function in the leads up to a given last-cell magnitude, or a given number of cells.\n",
    "def long_wf_in_leads(q_e, L_out, Phi, lead_no=1, fixed_no_cells=None, limit=100., no_orb=2):\n",
    "    '''return wavefunction with leads with number of unit cells'''\n",
    "    no_orb = int(no_orb)\n",
    "    if fixed_no_cells is None:\n",
    "        j=0\n",
    "        quick_wf = wf_in_leads(q_e, L_out, Phi, 0)\n",
    "        wave_func_array = quick_wf\n",
    "        first_site_amplitude = quick_wf.T.conj()@quick_wf\n",
    "        last_site_amplitude = first_site_amplitude\n",
    "        while last_site_amplitude > first_site_amplitude/limit:\n",
    "            j+=1\n",
    "            quick_wfj = wf_in_leads(q_e, L_out, Phi, j)\n",
    "            wave_func_array = np.vstack((wave_func_array, quick_wfj))\n",
    "            last_site_amplitude = quick_wfj.T.conj()@quick_wfj\n",
    "        wave_func_array = np.array(wave_func_array)\n",
    "        if lead_no==0:\n",
    "            return select_in_groups_strided(wave_func_array, no_orb, no_orb), wave_func_array.shape[0]/(no_orb*2)\n",
    "        elif lead_no==1:\n",
    "            return select_in_groups_strided(wave_func_array[no_orb:], no_orb, no_orb), wave_func_array.shape[0]/(no_orb*2)\n",
    "    else:\n",
    "        wave_func_array = wf_in_leads(q_e, L_out, Phi, 0)\n",
    "        for i in range(0, fixed_no_cells):\n",
    "            quick_wfj = wf_in_leads(q_e, L_out, Phi, i+1)\n",
    "            wave_func_array = np.vstack((wave_func_array, quick_wfj))\n",
    "        wave_func_array = np.array(wave_func_array)\n",
    "        if lead_no==0:\n",
    "            return select_in_groups_strided(wave_func_array, no_orb, no_orb), wave_func_array.shape[0]/(no_orb*2)\n",
    "        elif lead_no==1:\n",
    "            return select_in_groups_strided(wave_func_array[no_orb:], no_orb, no_orb), wave_func_array.shape[0]/(no_orb*2)"
   ]
  },
  {
   "cell_type": "code",
   "execution_count": 5,
   "id": "6278b9f1-a01d-46e6-9d12-78aa1508968f",
   "metadata": {},
   "outputs": [
    {
     "data": {
      "text/plain": [
       "2"
      ]
     },
     "execution_count": 5,
     "metadata": {},
     "output_type": "execute_result"
    }
   ],
   "source": [
    "4//2"
   ]
  },
  {
   "cell_type": "code",
   "execution_count": 6,
   "id": "7986a559-fa50-4c7e-a6ef-5b81a7dbda70",
   "metadata": {},
   "outputs": [],
   "source": [
    "# re-inputs the bound-state energies into the Istas version bound-state code to extract lead wave functions.\n",
    "# has a plot function inside to visualise the overall wave function of each state in each orbital.\n",
    "# code not optimised. Only for showing the problem we have encountered with the algorithm.\n",
    "def istas_scan(e_subarray, syst, params=None, all_out=False, no_orb=4, draw=True, collapse_spin=False, collapse_e_h=False, collapse_all=False):\n",
    "    '''\n",
    "    Extract the wavefunction, including the part in the leads, using the Istas bound state code, given\n",
    "    a pre-calculated list of bound state energies for a system. Also renders a plot of the real-space\n",
    "    probability distribution (each column for a different orbital, and each row for a different bound\n",
    "    state. Empty subplots means that that Weston bound state is not recognised by Istas as a true bound state.)\n",
    "    \n",
    "            Parameters:\n",
    "                    e_subarray (list-like): The pre-calculated boundstate energies\n",
    "                    syst (Kwant.InfiniteSystem): The system with the correct parameter matching\n",
    "                                                 the pre-calculated bound states.\n",
    "                    params (dictionary): Parameters for syst.\n",
    "                    all_out (bool): whether to output all parts of the wavefunction, or just the part in the right lead\n",
    "                                    (This was for our own purposes where for our matrix element calculations only the\n",
    "                                    right lead has non-zero contributions)\n",
    "                    no_orb (int): No. of orbitals per unit cell.\n",
    "\n",
    "            Returns:\n",
    "                    e_compare (list of floats): A list of bound state energies calculated by Istas.\n",
    "                    wavefunc_lleads (list of arrays): A list of left lead (index 0) wavefunctions, wavefunc_lleads[i]\n",
    "                                                      being the wavefunction for the state at E=e_compare[i]\n",
    "                    wavefunc_rleads (list of arrays): Same as above, except these are the wavefunctions in the right lead.\n",
    "                    wavefunc_scat (list of arrays): Same as above but for the scattering region.\n",
    "                    no_cells_lleads (list of floats): Number of unit cells I have calculated up to in the left lead.\n",
    "                                                      I have selected the arbitrary threshold of calculating further unit\n",
    "                                                      cells until the probability of that cell is 10,000 lower than the\n",
    "                                                      probability of the first unit cell in the lead.\n",
    "                    no_cells_rleads (list of floats): Same as above but for the right lead.\n",
    "    '''\n",
    "    no_orb = int(no_orb)\n",
    "    no_states = len(e_subarray)\n",
    "    e_division = np.array([[e_subarray[i], e_subarray[i]] for i in range(len(e_subarray))])\n",
    "    e_compare = []\n",
    "    wavefunc_lleads = []\n",
    "    no_cells_lleads = []\n",
    "    wavefunc_rleads = []\n",
    "    no_cells_rleads = []\n",
    "    wavefunc_scat = []\n",
    "    if draw:\n",
    "        if collapse_spin:\n",
    "            fig, axs = plt.subplots(no_states, int(np.around(no_orb/2)), figsize=(15,15))\n",
    "            for i in range(len(e_subarray)):\n",
    "                print(i)\n",
    "                print(e_division[i])\n",
    "                try:\n",
    "                    E, psi_alpha_0, q_e, L_out, Phi = bound_state(syst, e_division[i], return_wf=True, params=params)\n",
    "                except:\n",
    "                    continue\n",
    "                e_compare.append(E)\n",
    "                wavefunc_scat.append(psi_alpha_0)\n",
    "                trial_wfr, no_cellsr = long_wf_in_leads(q_e, L_out, Phi, lead_no=1, limit=10000., no_orb=no_orb)\n",
    "                trial_wfl, no_cellsl = long_wf_in_leads(q_e, L_out, Phi, lead_no=0, limit=10000., no_orb=no_orb)\n",
    "                no_cells_lleads.append(no_cellsl)\n",
    "                no_cells_rleads.append(no_cellsr)\n",
    "                wavefunc_lleads.append(trial_wfl)\n",
    "                wavefunc_rleads.append(trial_wfr)\n",
    "                #print(trial_wf)\n",
    "                #print(trial_wfr)\n",
    "                #print(trial_wfr.shape)\n",
    "                #print(trial_wfr.shape[0]/8)\n",
    "                #print(psi_alpha_0.shape)\n",
    "                for k in range(int(np.around(no_orb/2))):\n",
    "                    ax = axs[i][k]\n",
    "                    ax.plot(np.arange(-trial_wfl.shape[0]/no_orb+1, 1), np.array([np.abs(trial_wfl[j*no_orb+2*k])**2. + np.abs(trial_wfl[j*no_orb+2*k+1])**2. for j in range(int(trial_wfl.shape[0]/no_orb)-1, -1, -1)]))\n",
    "                        #[trial_wfl[j*no_orb:(j+1)*no_orb].T.conj()@trial_wfl[j*no_orb:(j+1)*no_orb] for j in range(int(trial_wfl.shape[0]/no_orb)-1, -1, -1)]))\n",
    "                    ax.plot(np.arange(psi_alpha_0.shape[0]/no_orb), np.array([np.abs(psi_alpha_0[j*no_orb+2*k,0])**2. + np.abs(psi_alpha_0[j*no_orb+2*k+1,0])**2. for j in range(int(psi_alpha_0.shape[0]/no_orb))]))\n",
    "                        #psi_alpha_0[j*no_orb:(j+1)*no_orb,0].T.conj()@psi_alpha_0[j*no_orb:(j+1)*no_orb,0] for j in range(int(psi_alpha_0.shape[0]/no_orb))]))\n",
    "                    ax.plot(np.arange(psi_alpha_0.shape[0]/no_orb-1, trial_wfr.shape[0]/no_orb+psi_alpha_0.shape[0]/no_orb-1), np.array([np.abs(trial_wfr[j*no_orb+2*k])**2. + np.abs(trial_wfr[j*no_orb+2*k+1])**2. for j in range(int(trial_wfr.shape[0]/no_orb))]))\n",
    "                    #ax.plot(np.arange(-trial_wfl.shape[0]/8+1, 0), np.array([np.abs(trial_wfl[j*8+k])**2. for j in range(int(trial_wfl.shape[0]/8)-1, 0, -1)]))\n",
    "                    #ax.plot(np.arange(psi_alpha_0.shape[0]/8), np.array([np.abs(psi_alpha_0[j*8+k,0])**2. for j in range(int(psi_alpha_0.shape[0]/8))]))\n",
    "                    #ax.plot(np.arange(psi_alpha_0.shape[0]/8, trial_wfr.shape[0]/8+psi_alpha_0.shape[0]/8-1), np.array([np.abs(trial_wfr[j*8+k])**2. for j in range(int(trial_wfr.shape[0]/8)-1)]))\n",
    "                    #plt.xlim(-100, 100)\n",
    "                    #plt.ylim(0, 0.002)\n",
    "                    #ax.set_xlim(-50, 50)\n",
    "                fig.text(0.5, 0.08, 'Orbitals (spin collapsed)', ha='center', fontsize=18)\n",
    "                fig.text(0.04, 0.5, 'Bound states', va='center', rotation='vertical', fontsize=18)\n",
    "        elif collapse_e_h:\n",
    "            fig, axs = plt.subplots(no_states, int(np.around(no_orb/2)), figsize=(15,15))\n",
    "            for i in range(len(e_subarray)):\n",
    "                print(i)\n",
    "                print(e_division[i])\n",
    "                try:\n",
    "                    E, psi_alpha_0, q_e, L_out, Phi = bound_state(syst, e_division[i], return_wf=True, params=params)\n",
    "                except:\n",
    "                    continue\n",
    "                e_compare.append(E)\n",
    "                wavefunc_scat.append(psi_alpha_0)\n",
    "                trial_wfr, no_cellsr = long_wf_in_leads(q_e, L_out, Phi, lead_no=1, limit=10000., no_orb=no_orb)\n",
    "                trial_wfl, no_cellsl = long_wf_in_leads(q_e, L_out, Phi, lead_no=0, limit=10000., no_orb=no_orb)\n",
    "                no_cells_lleads.append(no_cellsl)\n",
    "                no_cells_rleads.append(no_cellsr)\n",
    "                wavefunc_lleads.append(trial_wfl)\n",
    "                wavefunc_rleads.append(trial_wfr)\n",
    "                #print(trial_wf)\n",
    "                #print(trial_wfr)\n",
    "                #print(trial_wfr.shape)\n",
    "                #print(trial_wfr.shape[0]/8)\n",
    "                #print(psi_alpha_0.shape)\n",
    "                for k in range(int(np.around(no_orb/2))):\n",
    "                    ax = axs[i][k]\n",
    "                    ax.plot(np.arange(-trial_wfl.shape[0]/no_orb+1, 1), np.array([np.abs(trial_wfl[j*no_orb+k])**2. + np.abs(trial_wfl[(j+1)*no_orb-1-k])**2. for j in range(int(trial_wfl.shape[0]/no_orb)-1, -1, -1)]))\n",
    "                        #[trial_wfl[j*no_orb:(j+1)*no_orb].T.conj()@trial_wfl[j*no_orb:(j+1)*no_orb] for j in range(int(trial_wfl.shape[0]/no_orb)-1, -1, -1)]))\n",
    "                    ax.plot(np.arange(psi_alpha_0.shape[0]/no_orb), np.array([np.abs(psi_alpha_0[j*no_orb+k,0])**2. + np.abs(psi_alpha_0[(j+1)*no_orb-1-k,0])**2. for j in range(int(psi_alpha_0.shape[0]/no_orb))]))\n",
    "                        #psi_alpha_0[j*no_orb:(j+1)*no_orb,0].T.conj()@psi_alpha_0[j*no_orb:(j+1)*no_orb,0] for j in range(int(psi_alpha_0.shape[0]/no_orb))]))\n",
    "                    ax.plot(np.arange(psi_alpha_0.shape[0]/no_orb-1, trial_wfr.shape[0]/no_orb+psi_alpha_0.shape[0]/no_orb-1), np.array([np.abs(trial_wfr[j*no_orb+k])**2. + np.abs(trial_wfr[(j+1)*no_orb-1-k])**2. for j in range(int(trial_wfr.shape[0]/no_orb))]))\n",
    "                    #ax.plot(np.arange(-trial_wfl.shape[0]/8+1, 0), np.array([np.abs(trial_wfl[j*8+k])**2. for j in range(int(trial_wfl.shape[0]/8)-1, 0, -1)]))\n",
    "                    #ax.plot(np.arange(psi_alpha_0.shape[0]/8), np.array([np.abs(psi_alpha_0[j*8+k,0])**2. for j in range(int(psi_alpha_0.shape[0]/8))]))\n",
    "                    #ax.plot(np.arange(psi_alpha_0.shape[0]/8, trial_wfr.shape[0]/8+psi_alpha_0.shape[0]/8-1), np.array([np.abs(trial_wfr[j*8+k])**2. for j in range(int(trial_wfr.shape[0]/8)-1)]))\n",
    "                    #plt.xlim(-100, 100)\n",
    "                    #plt.ylim(0, 0.002)\n",
    "                    #ax.set_xlim(-50, 50)\n",
    "                fig.text(0.5, 0.08, 'Orbitals (e-h collapsed)', ha='center', fontsize=18)\n",
    "                fig.text(0.04, 0.5, 'Bound states', va='center', rotation='vertical', fontsize=18)\n",
    "        elif collapse_all:\n",
    "            fig, axs = plt.subplots(no_states, int(np.around(no_orb/4)), figsize=(15,15))\n",
    "            for i in range(len(e_subarray)):\n",
    "                print(i)\n",
    "                print(e_division[i])\n",
    "                try:\n",
    "                    E, psi_alpha_0, q_e, L_out, Phi = bound_state(syst, e_division[i], return_wf=True, params=params)\n",
    "                except:\n",
    "                    continue\n",
    "                e_compare.append(E)\n",
    "                wavefunc_scat.append(psi_alpha_0)\n",
    "                trial_wfr, no_cellsr = long_wf_in_leads(q_e, L_out, Phi, lead_no=1, limit=10000., no_orb=no_orb)\n",
    "                trial_wfl, no_cellsl = long_wf_in_leads(q_e, L_out, Phi, lead_no=0, limit=10000., no_orb=no_orb)\n",
    "                no_cells_lleads.append(no_cellsl)\n",
    "                no_cells_rleads.append(no_cellsr)\n",
    "                wavefunc_lleads.append(trial_wfl)\n",
    "                wavefunc_rleads.append(trial_wfr)\n",
    "                #print(trial_wf)\n",
    "                #print(trial_wfr)\n",
    "                #print(trial_wfr.shape)\n",
    "                #print(trial_wfr.shape[0]/8)\n",
    "                #print(psi_alpha_0.shape)\n",
    "                for k in range(int(np.around(no_orb/4))):\n",
    "                    ax = axs[i]\n",
    "                    ax.plot(np.arange(-trial_wfl.shape[0]/no_orb+1, 1), np.array([trial_wfl[j*no_orb:(j+1)*no_orb].T.conj()@trial_wfl[j*no_orb:(j+1)*no_orb] for j in range(int(trial_wfl.shape[0]/no_orb)-1, -1, -1)]))\n",
    "                    ax.plot(np.arange(psi_alpha_0.shape[0]/no_orb), np.array([psi_alpha_0[j*no_orb:(j+1)*no_orb,0].T.conj()@psi_alpha_0[j*no_orb:(j+1)*no_orb,0] for j in range(int(psi_alpha_0.shape[0]/no_orb))]))\n",
    "                    ax.plot(np.arange(psi_alpha_0.shape[0]/no_orb-1, trial_wfr.shape[0]/no_orb+psi_alpha_0.shape[0]/no_orb-1), np.array([trial_wfr[j*no_orb:(j+1)*no_orb].T.conj()@trial_wfr[j*no_orb:(j+1)*no_orb] for j in range(int(trial_wfr.shape[0]/no_orb))]))\n",
    "                    #ax.plot(np.arange(-trial_wfl.shape[0]/8+1, 0), np.array([np.abs(trial_wfl[j*8+k])**2. for j in range(int(trial_wfl.shape[0]/8)-1, 0, -1)]))\n",
    "                    #ax.plot(np.arange(psi_alpha_0.shape[0]/8), np.array([np.abs(psi_alpha_0[j*8+k,0])**2. for j in range(int(psi_alpha_0.shape[0]/8))]))\n",
    "                    #ax.plot(np.arange(psi_alpha_0.shape[0]/8, trial_wfr.shape[0]/8+psi_alpha_0.shape[0]/8-1), np.array([np.abs(trial_wfr[j*8+k])**2. for j in range(int(trial_wfr.shape[0]/8)-1)]))\n",
    "                    #plt.xlim(-100, 100)\n",
    "                    #plt.ylim(0, 0.002)\n",
    "                    #ax.set_xlim(-50, 50)\n",
    "                fig.text(0.5, 0.08, 'Sum over all orbitals', ha='center', fontsize=18)\n",
    "                fig.text(0.04, 0.5, 'Bound states', va='center', rotation='vertical', fontsize=18)\n",
    "        else: \n",
    "            fig, axs = plt.subplots(no_states, no_orb, figsize=(15,15))\n",
    "            for i in range(len(e_subarray)):\n",
    "                print(i)\n",
    "                print(e_division[i])\n",
    "                try:\n",
    "                    E, psi_alpha_0, q_e, L_out, Phi = bound_state(syst, e_division[i], return_wf=True, params=params)\n",
    "                except:\n",
    "                    continue\n",
    "                e_compare.append(E)\n",
    "                wavefunc_scat.append(psi_alpha_0)\n",
    "                trial_wfr, no_cellsr = long_wf_in_leads(q_e, L_out, Phi, lead_no=1, limit=10000., no_orb=no_orb)\n",
    "                trial_wfl, no_cellsl = long_wf_in_leads(q_e, L_out, Phi, lead_no=0, limit=10000., no_orb=no_orb)\n",
    "                no_cells_lleads.append(no_cellsl)\n",
    "                no_cells_rleads.append(no_cellsr)\n",
    "                wavefunc_lleads.append(trial_wfl)\n",
    "                wavefunc_rleads.append(trial_wfr)\n",
    "                #print(trial_wf)\n",
    "                #print(trial_wfr)\n",
    "                #print(trial_wfr.shape)\n",
    "                #print(trial_wfr.shape[0]/8)\n",
    "                #print(psi_alpha_0.shape)\n",
    "                for k in range(no_orb):\n",
    "                    ax = axs[i][k]\n",
    "                    ax.plot(np.arange(-trial_wfl.shape[0]/no_orb+1, 1), np.array([np.abs(trial_wfl[j*no_orb+k])**2. for j in range(int(trial_wfl.shape[0]/no_orb)-1, -1, -1)]))\n",
    "                        #[trial_wfl[j*no_orb:(j+1)*no_orb].T.conj()@trial_wfl[j*no_orb:(j+1)*no_orb] for j in range(int(trial_wfl.shape[0]/no_orb)-1, -1, -1)]))\n",
    "                    ax.plot(np.arange(psi_alpha_0.shape[0]/no_orb), np.array([np.abs(psi_alpha_0[j*no_orb+k,0])**2. for j in range(int(psi_alpha_0.shape[0]/no_orb))]))\n",
    "                        #psi_alpha_0[j*no_orb:(j+1)*no_orb,0].T.conj()@psi_alpha_0[j*no_orb:(j+1)*no_orb,0] for j in range(int(psi_alpha_0.shape[0]/no_orb))]))\n",
    "                    ax.plot(np.arange(psi_alpha_0.shape[0]/no_orb-1, trial_wfr.shape[0]/no_orb+psi_alpha_0.shape[0]/no_orb-1), np.array([np.abs(trial_wfr[j*no_orb+k])**2. for j in range(int(trial_wfr.shape[0]/no_orb))]))\n",
    "                    #ax.plot(np.arange(-trial_wfl.shape[0]/8+1, 0), np.array([np.abs(trial_wfl[j*8+k])**2. for j in range(int(trial_wfl.shape[0]/8)-1, 0, -1)]))\n",
    "                    #ax.plot(np.arange(psi_alpha_0.shape[0]/8), np.array([np.abs(psi_alpha_0[j*8+k,0])**2. for j in range(int(psi_alpha_0.shape[0]/8))]))\n",
    "                    #ax.plot(np.arange(psi_alpha_0.shape[0]/8, trial_wfr.shape[0]/8+psi_alpha_0.shape[0]/8-1), np.array([np.abs(trial_wfr[j*8+k])**2. for j in range(int(trial_wfr.shape[0]/8)-1)]))\n",
    "                    #plt.xlim(-100, 100)\n",
    "                    #plt.ylim(0, 0.002)\n",
    "                    #ax.set_xlim(-50, 50)\n",
    "                fig.text(0.5, 0.08, 'Orbitals', ha='center', fontsize=18)\n",
    "                fig.text(0.04, 0.5, 'Bound states', va='center', rotation='vertical', fontsize=18)\n",
    "    else:\n",
    "        for i in range(len(e_subarray)):\n",
    "            print(i)\n",
    "            print(e_division[i])\n",
    "            try:\n",
    "                E, psi_alpha_0, q_e, L_out, Phi = bound_state(syst, e_division[i], return_wf=True, params=params)\n",
    "            except:\n",
    "                continue\n",
    "            e_compare.append(E)\n",
    "            wavefunc_scat.append(psi_alpha_0)\n",
    "            trial_wfr, no_cellsr = long_wf_in_leads(q_e, L_out, Phi, lead_no=1, limit=10000., no_orb=no_orb)\n",
    "            trial_wfl, no_cellsl = long_wf_in_leads(q_e, L_out, Phi, lead_no=0, limit=10000., no_orb=no_orb)\n",
    "            no_cells_lleads.append(no_cellsl)\n",
    "            no_cells_rleads.append(no_cellsr)\n",
    "            wavefunc_lleads.append(trial_wfl)\n",
    "            wavefunc_rleads.append(trial_wfr)\n",
    "        \n",
    "        '''if i==0:\n",
    "            fig, axs = plt.subplots(4, 2, figsize=(15,15))\n",
    "            for k in range(0, 8):\n",
    "                ax = axs.flatten()[k]\n",
    "                ax.plot(np.arange(-trial_wfl.shape[0]/8+1, 0), np.array([np.abs(trial_wfl[j*8+k])**2. for j in range(int(trial_wfl.shape[0]/8)-1, 0, -1)]))\n",
    "                ax.plot(np.arange(psi_alpha_0.shape[0]/8), np.array([np.abs(psi_alpha_0[j*8+k,0])**2. for j in range(int(psi_alpha_0.shape[0]/8))]))\n",
    "                ax.plot(np.arange(psi_alpha_0.shape[0]/8, trial_wfr.shape[0]/8+psi_alpha_0.shape[0]/8-1), np.array([np.abs(trial_wfr[j*8+k])**2. for j in range(int(trial_wfr.shape[0]/8)-1)]))\n",
    "                #plt.xlim(-100, 100)\n",
    "                #plt.ylim(0, 0.002)\n",
    "                ax.axhline(0, c='k', alpha=0.7)\n",
    "            print('left lead')\n",
    "            print(np.array([trial_wfl[j*1:(j+1)*1].T.conj()@trial_wfl[j*1:(j+1)*1] for j in range(int(trial_wfl.shape[0]/1)-1, -1, -1)]))\n",
    "            plt.plot(np.arange(-trial_wfl.shape[0]/1+1, 1), np.array([trial_wfl[j*1:(j+1)*1].T.conj()@trial_wfl[j*1:(j+1)*1] for j in range(int(trial_wfl.shape[0]/1)-1, -1, -1)]))\n",
    "            plt.plot(np.arange(psi_alpha_0.shape[0]/1), np.array([psi_alpha_0[j*1:(j+1)*1,0].T.conj()@psi_alpha_0[j*1:(j+1)*1,0] for j in range(int(psi_alpha_0.shape[0]/1))]))\n",
    "            plt.plot(np.arange(psi_alpha_0.shape[0]/1-1, trial_wfr.shape[0]/1+psi_alpha_0.shape[0]/1-1), np.array([trial_wfr[j*1:(j+1)*1].T.conj()@trial_wfr[j*1:(j+1)*1] for j in range(int(trial_wfr.shape[0]/1))]))\n",
    "            #plt.xlim(-100, 100)'''\n",
    "        #print(psi_alpha_0[-8:])\n",
    "        #print(wf_in_leads(q_e, L_out, Phi, 0)[-8:])\n",
    "        #print(syst.leads[1].inter_cell_hopping().T.conj()@psi_alpha_0[-8:])\n",
    "        #print(psi_alpha_0[-8:]/wf_in_leads(q_e, L_out, Phi, 0)[-8:])\n",
    "        #print(i)\n",
    "        #print(E)\n",
    "        #print(psi_alpha_0)\n",
    "        #print(q_e)\n",
    "        #print(np.abs(np.array([L_out[i,i] for i in range(len(L_out))])))\n",
    "        #print(Phi[:,3])\n",
    "    #print(no_cells_rleads)\n",
    "    no_cell_runiform = int(max(no_cells_rleads)/2)\n",
    "    #print('no_cell_runiform')\n",
    "    #print(no_cell_runiform)\n",
    "    e_compare = []\n",
    "    wavefunc_lleads = []\n",
    "    no_cells_lleads = []\n",
    "    wavefunc_rleads = []\n",
    "    no_cells_rleads = []\n",
    "    wavefunc_scat = []\n",
    "    for i in range(len(e_subarray)):\n",
    "        #print(i)\n",
    "        #print(e_division[i])\n",
    "        try:\n",
    "            E, psi_alpha_0, q_e, L_out, Phi = bound_state(syst, e_division[i], return_wf=True, params=params)\n",
    "        except:\n",
    "            continue\n",
    "        e_compare.append(E)\n",
    "        wavefunc_scat.append(psi_alpha_0)\n",
    "        trial_wfr, no_cellsr = long_wf_in_leads(q_e, L_out, Phi, lead_no=1, fixed_no_cells=no_cell_runiform, no_orb=no_orb)\n",
    "        trial_wfl, no_cellsl = long_wf_in_leads(q_e, L_out, Phi, lead_no=0, fixed_no_cells=no_cell_runiform, no_orb=no_orb)\n",
    "        no_cells_lleads.append(no_cellsl)\n",
    "        no_cells_rleads.append(no_cellsr)\n",
    "        wavefunc_lleads.append(trial_wfl)\n",
    "        wavefunc_rleads.append(trial_wfr)\n",
    "    \n",
    "    if all_out:\n",
    "        return e_compare, wavefunc_lleads, wavefunc_rleads, wavefunc_scat, no_cells_lleads, no_cells_rleads\n",
    "    else:\n",
    "        return e_compare, wavefunc_rleads, no_cells_rleads"
   ]
  },
  {
   "cell_type": "code",
   "execution_count": 7,
   "id": "1494df1d-3086-4cff-b8c7-d1578587fae5",
   "metadata": {},
   "outputs": [],
   "source": [
    "# transform from vecs and vecslmbdainv of kwant.modes to eigenvectors@eigenvalues and eigenvectors following\n",
    "# https://gitlab.kwant-project.org/kwant/kwant/-/merge_requests/39\n",
    "def inverse_A_B_alt(syst, vecslmbdainv, vecs, params):\n",
    "    hop = syst.leads[0].inter_cell_hopping(params=params)\n",
    "    B = np.sqrt(np.linalg.norm(hop))*np.identity(hop.shape[0])\n",
    "    A = hop@np.linalg.inv(B).T.conj()\n",
    "    B_dagger_inv = np.linalg.inv(B.T.conj())\n",
    "    A_dagger_inv = np.linalg.inv(A.T.conj())\n",
    "    phi_lmbda = A_dagger_inv@vecs\n",
    "    phi = B_dagger_inv@vecslmbdainv\n",
    "    return phi, phi_lmbda"
   ]
  },
  {
   "cell_type": "code",
   "execution_count": 8,
   "id": "09f6264e-1afb-436c-aa73-e200f964db64",
   "metadata": {},
   "outputs": [],
   "source": [
    "# Get StabilisedModes given system and energy\n",
    "def vecs_vecslmbdainv(syst, energy, params, lead_no=1):\n",
    "    _, stab = syst.leads[lead_no].modes(energy, params=params)\n",
    "    evan_vecs = slice(2 * stab.nmodes, None)\n",
    "    u_out = stab.vecs[:, evan_vecs]\n",
    "    ulinv_out = stab.vecslmbdainv[:, evan_vecs]\n",
    "    return ulinv_out, u_out"
   ]
  },
  {
   "cell_type": "markdown",
   "id": "7df97fb2-b9bb-416b-95fd-b31e7e39725b",
   "metadata": {},
   "source": [
    "# System"
   ]
  },
  {
   "cell_type": "code",
   "execution_count": null,
   "id": "ae45f292-2fa0-4f61-a320-2032de879a9b",
   "metadata": {},
   "outputs": [],
   "source": []
  },
  {
   "cell_type": "code",
   "execution_count": 9,
   "id": "00f73b0d-d968-4d7f-b460-2f828eb7fe83",
   "metadata": {},
   "outputs": [
    {
     "name": "stdout",
     "output_type": "stream",
     "text": [
      "1.602176634e-19\n"
     ]
    }
   ],
   "source": [
    "import kwant\n",
    "import tinyarray\n",
    "import numpy as np\n",
    "import scipy as spi\n",
    "import scipy.constants as const\n",
    "import scipy.signal as signal\n",
    "\n",
    "import matplotlib.pyplot as plt \n",
    "import matplotlib.colors as colors\n",
    "print(const.e)\n",
    "plt.rcParams.update({'font.size': 20})"
   ]
  },
  {
   "cell_type": "code",
   "execution_count": 10,
   "id": "a8443c2c-aa47-47c9-b02c-13d6b059f8b5",
   "metadata": {},
   "outputs": [
    {
     "name": "stdout",
     "output_type": "stream",
     "text": [
      "4513.29322846401\n"
     ]
    }
   ],
   "source": [
    "a = 6.0583 #https://en.wikipedia.org/wiki/Indium_arsenide\n",
    "t = (const.hbar**2.)/(2.*0.023*const.m_e*(a*1e-10)**2.)/const.e*1000.\n",
    "print(t)"
   ]
  },
  {
   "cell_type": "code",
   "execution_count": 11,
   "id": "059dc2ca-bf7c-4a4e-a861-31c534c32e4f",
   "metadata": {},
   "outputs": [],
   "source": [
    "## realistic parameters InAs with Al shell\n",
    "# Energy unit: meV, length unit: A\n",
    "#g = 14.7 #https://doi.org/10.1016/0375-9601(67)90541-5\n",
    "\n",
    "def make_system_4orb(L_A=3700., a=6.0583, m=0.023, alpha=350., mu=0., delta=0.182, B=0.85, phi=0.):\n",
    "    \n",
    "    #a = 6.0583 #https://en.wikipedia.org/wiki/Indium_arsenide\n",
    "    L = int(np.round(L_A/a))\n",
    "    t = (const.hbar**2.)/(2.*m*const.m_e*(a*1e-10)**2.)/const.e*1000.\n",
    "    '''E_plus = (6.*const.hbar**2.)/(m*const.m_e*(W*1e-10)**2.)/const.e*1000.\n",
    "    E_minus = (-2.*const.hbar**2.)/(m*const.m_e*(W*1e-10)**2.)/const.e*1000.\n",
    "    if eta is None:\n",
    "        eta = np.sqrt(2)*alpha/W\n",
    "    else:\n",
    "        eta = eta'''\n",
    "    nu = alpha/(2.*a)\n",
    "    #B = g*mu_B*B_Tesla/2./const.e*1000.\n",
    "    print('Parameters: L, t, nu, B, mu, phi')\n",
    "    print([L, t, nu, B, mu, phi])\n",
    "    lat = kwant.lattice.chain()\n",
    "    syst = kwant.Builder()\n",
    "    \n",
    "    # Pauli matrices\n",
    "    t_x = np.kron(np.array([[0, 1], [1, 0]]), np.eye(2)) # e-h subspace\n",
    "    t_y = np.kron(np.array([[0, -1j], [1j, 0]]), np.eye(2))\n",
    "    t_z = np.kron(np.array([[1, 0], [0, -1]]), np.eye(2))\n",
    "    sigma_x = np.kron(np.eye(2), np.array([[0, 1], [1, 0]])) # spin subspace\n",
    "    sigma_y = np.kron(np.eye(2), np.array([[0, -1j], [1j, 0]]))\n",
    "    sigma_z = np.kron(np.eye(2), np.array([[1, 0], [0, -1]]))\n",
    "    \n",
    "    #### Define onsite and hopping ####\n",
    "    '''def onsite(site):\n",
    "        return (2.*t-mu-U_0*kwant.digest.gauss(repr(site), repr(salt)))*tau_z + B*tau_z@sigma_x'''\n",
    "    \n",
    "    #### Define the scattering region. ####\n",
    "    ham = (2.*t-mu)*t_z + B*sigma_x\n",
    "    hop = -t*t_z + 1j*nu*sigma_y@t_z\n",
    "    ham_scl = delta*(np.cos(-phi/2.)*t_x - np.sin(-phi/2.)*t_y)\n",
    "    ham_scr = delta*(np.cos(phi/2.)*t_x - np.sin(phi/2.)*t_y)\n",
    "    \n",
    "    syst[(lat(x) for x in range(0, L))] = ham\n",
    "    syst[((lat(x), lat(x+1)) for x in range(0, L-1))] = hop\n",
    "        \n",
    "    \n",
    "    #### Define the leads. ####\n",
    "    sym_left = kwant.TranslationalSymmetry([-1])\n",
    "    lead0 = kwant.Builder(sym_left)\n",
    "    lead0[(lat(-1))] = ham+ham_scl\n",
    "    lead0[lat.neighbors()] = hop.T.conj()\n",
    "    sym_right = kwant.TranslationalSymmetry([1])\n",
    "    lead1 = kwant.Builder(sym_right)\n",
    "    lead1[(lat(L))] =  ham+ham_scr\n",
    "    lead1[lat.neighbors()] = hop.T.conj()\n",
    "\n",
    "    #### Attach the leads and return the system. ####\n",
    "    syst.attach_lead(lead0)\n",
    "    syst.attach_lead(lead1)\n",
    "\n",
    "    return syst.finalized()"
   ]
  },
  {
   "cell_type": "code",
   "execution_count": 85,
   "id": "2082d2fb-7941-4106-bf13-96f9d8ac69d8",
   "metadata": {},
   "outputs": [
    {
     "data": {
      "text/plain": [
       "-0.18468589386759157"
      ]
     },
     "execution_count": 85,
     "metadata": {},
     "output_type": "execute_result"
    }
   ],
   "source": [
    "-0.2+0.01531410613240844"
   ]
  },
  {
   "cell_type": "code",
   "execution_count": 95,
   "id": "cdec667a-e5e8-4323-890e-e6636bd8747a",
   "metadata": {},
   "outputs": [
    {
     "name": "stdout",
     "output_type": "stream",
     "text": [
      "Parameters: L, t, nu, B, mu, phi\n",
      "[61, 45.13293228464011, 2.8885991119621015, 0.0, -0.3, 0.0]\n",
      "0.2154561279544287\n"
     ]
    },
    {
     "data": {
      "image/png": "[encoded data removed]",
      "text/plain": [
       "<Figure size 432x288 with 1 Axes>"
      ]
     },
     "metadata": {
      "needs_background": "light"
     },
     "output_type": "display_data"
    }
   ],
   "source": [
    "syst = make_system_4orb(B=0., a=60.583, mu=-0.3, delta=0.182)\n",
    "bands=kwant.physics.Bands(syst.leads[1])\n",
    "momenta=np.linspace(-np.pi,np.pi,10001)\n",
    "energies=[bands(k) for k in momenta]\n",
    "x=np.array(energies)\n",
    "en=(x)\n",
    "plt.plot(momenta, en)\n",
    "plt.xlabel(r'$k$')\n",
    "plt.ylabel(r'$E$')\n",
    "#gap_energy = np.min(en[:,2])\n",
    "plt.xlim(-1.5, 1.5)\n",
    "plt.ylim(-1.5, 1.5)\n",
    "print(np.min(en[:,2]))"
   ]
  },
  {
   "cell_type": "code",
   "execution_count": 96,
   "id": "e87f03ae-c5c3-4d6a-b107-6e7bea51cd8f",
   "metadata": {},
   "outputs": [
    {
     "data": {
      "text/plain": [
       "[array([0.21523833, 0.21523833]),\n",
       " array([0.20909751, 0.20909751]),\n",
       " array([0.20030153, 0.20030153]),\n",
       " array([0.19147073, 0.19147073]),\n",
       " array([0.18331726, 0.18331726]),\n",
       " array([0.17602343, 0.17602343]),\n",
       " array([0.16959151, 0.16959151]),\n",
       " array([0.16395835, 0.16395835]),\n",
       " array([0.15903911, 0.15903911]),\n",
       " array([0.15474568, 0.15474568, 0.21543705, 0.21543705]),\n",
       " array([0.15099489, 0.15099489, 0.21408528, 0.21408528])]"
      ]
     },
     "execution_count": 96,
     "metadata": {},
     "output_type": "execute_result"
    }
   ],
   "source": [
    "e_L_neg_mu_0"
   ]
  },
  {
   "cell_type": "code",
   "execution_count": null,
   "id": "19e99da4-bf7d-4512-a8b7-72aa3716f478",
   "metadata": {},
   "outputs": [],
   "source": [
    "for i in np.linspace(0, 2, 21):\n",
    "    plt.figure()\n",
    "    syst = make_system_4orb(B=i, a=60.583, mu=1.)\n",
    "    bands=kwant.physics.Bands(syst.leads[1])\n",
    "    momenta=np.linspace(-np.pi,np.pi,10001)\n",
    "    energies=[bands(k) for k in momenta]\n",
    "    x=np.array(energies)\n",
    "    en=(x)\n",
    "    plt.plot(momenta, en)\n",
    "    plt.xlabel(r'$k$')\n",
    "    plt.ylabel(r'$E$')\n",
    "    #gap_energy = np.min(en[:,2])\n",
    "    plt.xlim(-1.5, 1.5)\n",
    "    plt.ylim(-1.5, 1.5)\n",
    "    plt.title(r'$B=%.2g, \\mu=1$' % i, fontsize=18)\n",
    "    plt.savefig('./figures/band structure compare/B_ind=%i' % np.around(i*10.), dpi=300, bbox_inches='tight')\n",
    "    #print(np.min(en[:,2]))"
   ]
  },
  {
   "cell_type": "code",
   "execution_count": 66,
   "id": "49b2e1a0-fb1b-4837-a67a-a3527dd7c899",
   "metadata": {},
   "outputs": [],
   "source": [
    "def mu_scan_pi(mu_array=[1, -1.], L_A=3700., a=6.0583*10, m=0.023, alpha=350., phi=np.pi, delta=0.182, B=0.):\n",
    "    energy_arrays=[]\n",
    "    wavefunc_arrays=[]\n",
    "    for i in np.linspace(mu_array[0], mu_array[1], 21):\n",
    "        print(i)\n",
    "        syst = make_system_4orb(L_A=L_A, a=a, m=m, alpha=alpha, mu=i, delta=delta, B=B, phi=phi)\n",
    "        bands=kwant.physics.Bands(syst.leads[1])\n",
    "        momenta=np.linspace(-np.pi,np.pi,100001)\n",
    "        energies=[bands(k) for k in momenta]\n",
    "        x=np.array(energies)\n",
    "        en=(x)\n",
    "        band_bottom = np.min(en[:,2])\n",
    "        print('band bottom: %.2g' % (band_bottom))\n",
    "        energies, wavefunctions = find_boundstates(syst, -1e-2*delta, 1.1*band_bottom, rtol=1e-2*delta)\n",
    "        energy_arrays.append(energies)\n",
    "        wavefunc_arrays.append(wavefunctions)\n",
    "        print(energies)\n",
    "    return energy_arrays, wavefunc_arrays"
   ]
  },
  {
   "cell_type": "code",
   "execution_count": 90,
   "id": "12f5be02-e58a-47ff-8c4c-057873c43ac6",
   "metadata": {},
   "outputs": [],
   "source": [
    "def B_scan(B_array=[0, 1.2], L_A=3700., a=6.0583*10, m=0.023, alpha=350., phi=0., delta=0.182, mu=-1.):\n",
    "    energy_arrays=[]\n",
    "    wavefunc_arrays=[]\n",
    "    band_bottom_array = []\n",
    "    for i in np.linspace(B_array[0], B_array[1], 13):\n",
    "        print(i)\n",
    "        syst = make_system_4orb(L_A=L_A, a=a, m=m, alpha=alpha, mu=mu, delta=delta, B=i, phi=phi)\n",
    "        bands=kwant.physics.Bands(syst.leads[1])\n",
    "        momenta=np.linspace(-np.pi,np.pi,100001)\n",
    "        energies=[bands(k) for k in momenta]\n",
    "        x=np.array(energies)\n",
    "        en=(x)\n",
    "        band_bottom = np.min(en[:,2])\n",
    "        print('band bottom: %.2g' % (band_bottom))\n",
    "        energies, wavefunctions = find_boundstates(syst, -1e-2*delta, 1.1*band_bottom, rtol=1e-2*delta)\n",
    "        band_bottom_array.append(band_bottom)\n",
    "        energy_arrays.append(energies)\n",
    "        wavefunc_arrays.append(wavefunctions)\n",
    "        print(energies)\n",
    "    return energy_arrays, wavefunc_arrays, band_bottom_array"
   ]
  },
  {
   "cell_type": "code",
   "execution_count": 14,
   "id": "c688d5bc-f74e-47d0-a0f0-f5b4b08dae22",
   "metadata": {},
   "outputs": [],
   "source": [
    "def L_scan(L_array=[65., 3700.], mu=-0.3, a=6.0583*10, m=0.023, alpha=350., phi=0., delta=0.182, B=0.):\n",
    "    energy_arrays=[]\n",
    "    wavefunc_arrays=[]\n",
    "    temp_syst = make_system_4orb(L_A=3700., a=a, m=m, alpha=alpha, mu=mu, delta=delta, B=B, phi=phi)\n",
    "    bands=kwant.physics.Bands(temp_syst.leads[1])\n",
    "    momenta=np.linspace(-np.pi,np.pi,100001)\n",
    "    energies=[bands(k) for k in momenta]\n",
    "    x=np.array(energies)\n",
    "    en=(x)\n",
    "    band_bottom = np.min(en[:,2])\n",
    "    print('band bottom: %.2g' % (band_bottom))\n",
    "    for i in np.linspace(L_array[0], L_array[1], 11):\n",
    "        print(i)\n",
    "        syst = make_system_4orb(L_A=i, a=a, m=m, alpha=alpha, mu=mu, delta=delta, B=B, phi=phi)\n",
    "        energies, wavefunctions = find_boundstates(syst, -1e-2*delta, 1.1*band_bottom, rtol=1e-2*delta)\n",
    "        energy_arrays.append(energies)\n",
    "        wavefunc_arrays.append(wavefunctions)\n",
    "        print(energies)\n",
    "    return energy_arrays, wavefunc_arrays"
   ]
  },
  {
   "cell_type": "code",
   "execution_count": 72,
   "id": "ad0b5d38-7a11-4363-9e77-31b0f12f9f69",
   "metadata": {},
   "outputs": [],
   "source": [
    "def phi_plot(energy_array, figure_title, delta=0.182, title=r'$L=1000, B=0.0182, \\mu=0, \\Delta=0.182$'):\n",
    "    ex=[]\n",
    "    ey=[]\n",
    "    \n",
    "    phi = np.linspace(0, 4*np.pi, 5)\n",
    "    for i in range(len(energy_array)):\n",
    "        for j in range(len(energy_array[i])):\n",
    "            ex.append(phi[i])\n",
    "            ey.append(energy_array[i][j])\n",
    "        \n",
    "    ex = np.array(ex)\n",
    "    ey = np.array(ey)/delta\n",
    "    #plt.axhline(gap/delta, color='r')\n",
    "    #plt.axhline(-gap/delta, color='r')\n",
    "    plt.scatter(ex, ey, s=50)\n",
    "    #plt.xlim(B_range[0], B_range[1])\n",
    "    plt.xlabel(r'$\\phi$')\n",
    "    plt.ylabel(r'$\\epsilon/\\Delta$')\n",
    "    #plt.ylim(-1, 1)\n",
    "    #plt.title(title, fontsize=14)"
   ]
  },
  {
   "cell_type": "code",
   "execution_count": 30,
   "id": "fcca4189-273a-4dfb-a558-e6f128df2a62",
   "metadata": {},
   "outputs": [],
   "source": [
    "def L_plot(energy_array, delta=0.182):\n",
    "    ex=[]\n",
    "    ey=[]\n",
    "    \n",
    "    L = np.linspace(65, 3700, 11)\n",
    "    for i in range(len(energy_array)):\n",
    "        for j in range(len(energy_array[i])):\n",
    "            ex.append(L[i])\n",
    "            ey.append(energy_array[i][j])\n",
    "        \n",
    "    ex = np.array(ex)\n",
    "    ey = np.array(ey)\n",
    "    #plt.axhline(gap/delta, color='r')\n",
    "    #plt.axhline(-gap/delta, color='r')\n",
    "    plt.scatter(ex, ey, s=50)\n",
    "    #plt.xlim(B_range[0], B_range[1])\n",
    "    plt.xlabel(r'$\\L$')\n",
    "    plt.ylabel(r'$\\epsilon$')"
   ]
  },
  {
   "cell_type": "code",
   "execution_count": 50,
   "id": "d21a3cf6-b91b-42fd-bd97-29c102300ee9",
   "metadata": {},
   "outputs": [],
   "source": [
    "def L_dispers_plot(e_array0, e_array_pi, delta=0.182, mode='normal'):\n",
    "    ex=[]\n",
    "    ey=[]\n",
    "    \n",
    "    L = np.linspace(65, 3700, 11)\n",
    "    for i in range(len(e_array0)):\n",
    "        for j in range(len(e_array0[i])):\n",
    "            ex.append(L[i])\n",
    "            ey.append(e_array0[i][j]-e_array_pi[i][j])\n",
    "        \n",
    "    ex = np.array(ex)\n",
    "    ey = np.array(ey)\n",
    "    #plt.axhline(gap/delta, color='r')\n",
    "    #plt.axhline(-gap/delta, color='r')\n",
    "    if mode=='normal':\n",
    "        plt.scatter(ex, ey, s=50)\n",
    "        plt.xlabel(r'$\\L$')\n",
    "        plt.ylabel(r'$\\epsilon(0)-\\epsilon(\\pi)$')\n",
    "    if mode=='semilogy':\n",
    "        fig, ax = plt.subplots()\n",
    "        ax.scatter(ex, ey, s=50)\n",
    "        ax.set_yscale(\"symlog\")\n",
    "        ax.set_xlabel(r'$\\L$')\n",
    "        ax.set_ylabel(r'$\\epsilon(0)-\\epsilon(\\pi)$')\n",
    "    #plt.xlim(B_range[0], B_range[1])\n",
    "    "
   ]
  },
  {
   "cell_type": "code",
   "execution_count": null,
   "id": "7b82b160-3174-48a6-ab7b-29372ca0958e",
   "metadata": {},
   "outputs": [],
   "source": [
    "e_array_mu_pi, psi_array_mu_pi = mu_scan_pi()"
   ]
  },
  {
   "cell_type": "code",
   "execution_count": null,
   "id": "18a80938-ff23-48fb-88af-10df78c9dcce",
   "metadata": {},
   "outputs": [],
   "source": [
    "e_array_mu_0, psi_array_mu_0 = mu_scan_pi(phi=0.)"
   ]
  },
  {
   "cell_type": "code",
   "execution_count": null,
   "id": "464a001c-5f20-4a80-b90f-67e25be1d21b",
   "metadata": {},
   "outputs": [],
   "source": [
    "e_array_mu_pi_short, psi_array_mu_pi_short = mu_scan_pi(L_A=65.)"
   ]
  },
  {
   "cell_type": "code",
   "execution_count": null,
   "id": "99178453-9448-4969-921b-fc6ace484db9",
   "metadata": {},
   "outputs": [],
   "source": [
    "e_array_mu_0_short, psi_array_mu_0_short = mu_scan_pi(phi=0., L_A=65.)"
   ]
  },
  {
   "cell_type": "code",
   "execution_count": 91,
   "id": "be2df97b-6c8b-4ab1-92a2-f1c49d549eca",
   "metadata": {},
   "outputs": [],
   "source": [
    "phi_mu_array = [[e_array_mu_0[i], e_array_mu_pi[i], e_array_mu_0[i], e_array_mu_pi[i], e_array_mu_0[i]] for i in range(21)]"
   ]
  },
  {
   "cell_type": "code",
   "execution_count": null,
   "id": "669e3906-808d-423a-b65d-2874314d78da",
   "metadata": {},
   "outputs": [],
   "source": [
    "e_B_neg_mu_0, psi_B_neg_mu_0, band_bottom_0 = B_scan()"
   ]
  },
  {
   "cell_type": "code",
   "execution_count": null,
   "id": "9747ea3f-0b30-4baf-96dd-5d29b8fc7698",
   "metadata": {},
   "outputs": [],
   "source": [
    "e_B_neg_mu_pi, psi_B_neg_mu_pi, band_bottom_pi = B_scan(phi=np.pi)"
   ]
  },
  {
   "cell_type": "code",
   "execution_count": null,
   "id": "2ec79f71-2e1d-4760-8ed8-16a3c8138915",
   "metadata": {},
   "outputs": [],
   "source": [
    "e_L_neg_mu_0, psi_L_neg_mu_0 = L_scan()"
   ]
  },
  {
   "cell_type": "code",
   "execution_count": null,
   "id": "465c5877-a22b-45d5-81b0-d3985195a9e1",
   "metadata": {},
   "outputs": [],
   "source": [
    "e_L_neg_mu_pi, psi_L_neg_mu_pi = L_scan(phi=np.pi)"
   ]
  },
  {
   "cell_type": "code",
   "execution_count": null,
   "id": "fedd2a27-6c6a-4907-bd1e-c4e3a3cb97ca",
   "metadata": {},
   "outputs": [],
   "source": [
    "e_L_pos_mu_0, psi_L_pos_mu_0 = L_scan(mu=0.3)"
   ]
  },
  {
   "cell_type": "code",
   "execution_count": null,
   "id": "ae261aec-b3f4-4f86-929e-208e6af0050c",
   "metadata": {},
   "outputs": [],
   "source": [
    "e_L_pos_mu_pi, psi_L_pos_mu_pi = L_scan(mu=0.3, phi=np.pi)"
   ]
  },
  {
   "cell_type": "code",
   "execution_count": 64,
   "id": "7036d29c-bbe0-4033-8af0-ff41952fc1d9",
   "metadata": {},
   "outputs": [],
   "source": [
    "import pickle\n",
    "pickle.dump(e_L_pos_mu_pi, open('./data/e_L_pos_mu_pi', 'wb'))"
   ]
  },
  {
   "cell_type": "code",
   "execution_count": 90,
   "id": "79aee9ae-b4fc-46ac-ada3-c495fe8e355d",
   "metadata": {},
   "outputs": [],
   "source": [
    "import pickle\n",
    "e_array_mu_0 = pickle.load(open('./data/4-orb reconstruction/e_array_mu_0', 'rb'))"
   ]
  },
  {
   "cell_type": "markdown",
   "id": "a9e2a0ea-0b1d-46a3-99a5-d6bebc40a933",
   "metadata": {},
   "source": [
    "# Dispersion vs L"
   ]
  },
  {
   "cell_type": "code",
   "execution_count": 20,
   "id": "8638c68c-ead0-44c8-bf25-7107b61b440e",
   "metadata": {},
   "outputs": [
    {
     "data": {
      "text/plain": [
       "[array([0.19864795, 0.19864795]),\n",
       " array([0.1965054, 0.1965054]),\n",
       " array([0.19215198, 0.19215198]),\n",
       " array([0.1865528, 0.1865528]),\n",
       " array([0.18045778, 0.18045778]),\n",
       " array([0.17439318, 0.17439318]),\n",
       " array([0.16867074, 0.16867074]),\n",
       " array([0.16343998, 0.16343998]),\n",
       " array([0.15874716, 0.15874716]),\n",
       " array([0.15458085, 0.15458085, 0.21544676, 0.21544676]),\n",
       " array([0.15090149, 0.15090149, 0.21413412, 0.21413412])]"
      ]
     },
     "execution_count": 20,
     "metadata": {},
     "output_type": "execute_result"
    }
   ],
   "source": [
    "e_L_neg_mu_pi"
   ]
  },
  {
   "cell_type": "code",
   "execution_count": 56,
   "id": "a30aa241-99f6-4a8a-bbb9-ad7f31ad4224",
   "metadata": {},
   "outputs": [
    {
     "data": {
      "text/plain": [
       "Text(0.5, 1.0, '$\\\\mu=-0.3, \\\\phi=0, B=0$')"
      ]
     },
     "execution_count": 56,
     "metadata": {},
     "output_type": "execute_result"
    },
    {
     "data": {
      "image/png": "[encoded data removed]",
      "text/plain": [
       "<Figure size 432x288 with 1 Axes>"
      ]
     },
     "metadata": {
      "needs_background": "light"
     },
     "output_type": "display_data"
    }
   ],
   "source": [
    "#plt.plot(np.linspace(65, 3700, 11), [np.min(e_L_neg_mu_0[i]) for i in range(len(e_L_neg_mu_0))])\n",
    "L_plot(e_L_neg_mu_0)\n",
    "plt.title(r'$\\mu=-0.3, \\phi=0, B=0$', fontsize=18)"
   ]
  },
  {
   "cell_type": "code",
   "execution_count": 57,
   "id": "45507871-70d3-4e56-878d-16857dfadd32",
   "metadata": {},
   "outputs": [
    {
     "data": {
      "text/plain": [
       "Text(0.5, 1.0, '$\\\\mu=-0.3, \\\\phi=\\\\pi, B=0$')"
      ]
     },
     "execution_count": 57,
     "metadata": {},
     "output_type": "execute_result"
    },
    {
     "data": {
      "image/png": "[encoded data removed]",
      "text/plain": [
       "<Figure size 432x288 with 1 Axes>"
      ]
     },
     "metadata": {
      "needs_background": "light"
     },
     "output_type": "display_data"
    }
   ],
   "source": [
    "#plt.plot(np.linspace(65, 3700, 11), [np.min(e_L_neg_mu_pi[i]) for i in range(len(e_L_neg_mu_pi))])\n",
    "L_plot(e_L_neg_mu_pi)\n",
    "plt.title(r'$\\mu=-0.3, \\phi=\\pi, B=0$', fontsize=18)"
   ]
  },
  {
   "cell_type": "code",
   "execution_count": 61,
   "id": "3378c38f-ebac-407a-afbe-5b523431f42b",
   "metadata": {},
   "outputs": [
    {
     "data": {
      "text/plain": [
       "[<matplotlib.lines.Line2D at 0x1114d61c0>]"
      ]
     },
     "execution_count": 61,
     "metadata": {},
     "output_type": "execute_result"
    },
    {
     "data": {
      "image/png": "[encoded data removed]",
      "text/plain": [
       "<Figure size 432x288 with 1 Axes>"
      ]
     },
     "metadata": {
      "needs_background": "light"
     },
     "output_type": "display_data"
    }
   ],
   "source": [
    "plt.plot(np.linspace(65, 3700, 11), [np.min(e_L_neg_mu_0[i])-np.min(e_L_neg_mu_pi[i]) for i in range(len(e_L_neg_mu_0))])"
   ]
  },
  {
   "cell_type": "code",
   "execution_count": 44,
   "id": "71b18715-6b55-4d87-99a6-d016ef29240b",
   "metadata": {},
   "outputs": [
    {
     "data": {
      "image/png": "[encoded data removed]",
      "text/plain": [
       "<Figure size 432x288 with 1 Axes>"
      ]
     },
     "metadata": {
      "needs_background": "light"
     },
     "output_type": "display_data"
    }
   ],
   "source": [
    "L_dispers_plot(e_L_neg_mu_0, e_L_neg_mu_pi)"
   ]
  },
  {
   "cell_type": "code",
   "execution_count": 51,
   "id": "b2adc7b6-de9f-4d11-b1d4-be7823a6e5c3",
   "metadata": {},
   "outputs": [
    {
     "data": {
      "image/png": "[encoded data removed]",
      "text/plain": [
       "<Figure size 432x288 with 1 Axes>"
      ]
     },
     "metadata": {
      "needs_background": "light"
     },
     "output_type": "display_data"
    }
   ],
   "source": [
    "L_dispers_plot(e_L_neg_mu_0, e_L_neg_mu_pi, mode='semilogy')"
   ]
  },
  {
   "cell_type": "code",
   "execution_count": 62,
   "id": "d897bee3-5829-4323-8953-aa712fb7c72f",
   "metadata": {},
   "outputs": [
    {
     "data": {
      "text/plain": [
       "Text(0, 0.5, '$(\\\\epsilon(0)-\\\\epsilon(\\\\pi))/\\\\Delta$')"
      ]
     },
     "execution_count": 62,
     "metadata": {},
     "output_type": "execute_result"
    },
    {
     "data": {
      "image/png": "[encoded data removed]",
      "text/plain": [
       "<Figure size 432x288 with 1 Axes>"
      ]
     },
     "metadata": {
      "needs_background": "light"
     },
     "output_type": "display_data"
    }
   ],
   "source": [
    "plt.semilogy(np.linspace(65, 3700, 11), [(np.min(e_L_neg_mu_0[i])-np.min(e_L_neg_mu_pi[i]))/0.182 for i in range(len(e_L_neg_mu_0))])\n",
    "plt.xlabel(r'$L$')\n",
    "plt.ylabel(r'$(\\epsilon(0)-\\epsilon(\\pi))/\\Delta$')"
   ]
  },
  {
   "cell_type": "code",
   "execution_count": null,
   "id": "1b152c71-7a0e-43d8-ada8-fedd5a6f3d8d",
   "metadata": {},
   "outputs": [],
   "source": [
    "fig, ax = plt.subplots(figsize = (9, 6))\n",
    "ax.scatter(x, y, s=60, alpha=0.7, edgecolors=\"k\")\n",
    "\n",
    "# Set logarithmic scale on the x variable\n",
    "ax.set_xscale(\"log\");"
   ]
  },
  {
   "cell_type": "code",
   "execution_count": 35,
   "id": "b144150d-a303-4010-a238-4695ffc7a98e",
   "metadata": {},
   "outputs": [
    {
     "data": {
      "text/plain": [
       "(-100.0, 3800.0)"
      ]
     },
     "execution_count": 35,
     "metadata": {},
     "output_type": "execute_result"
    },
    {
     "data": {
      "image/png": "[encoded data removed]",
      "text/plain": [
       "<Figure size 432x288 with 1 Axes>"
      ]
     },
     "metadata": {
      "needs_background": "light"
     },
     "output_type": "display_data"
    }
   ],
   "source": [
    "L_plot(e_L_pos_mu_0)\n",
    "plt.xlim(-100, 3800)"
   ]
  },
  {
   "cell_type": "code",
   "execution_count": 38,
   "id": "842054fe-01df-4e4d-9787-2442996cc15a",
   "metadata": {},
   "outputs": [
    {
     "data": {
      "text/plain": [
       "(-100.0, 3800.0)"
      ]
     },
     "execution_count": 38,
     "metadata": {},
     "output_type": "execute_result"
    },
    {
     "data": {
      "image/png": "[encoded data removed]",
      "text/plain": [
       "<Figure size 432x288 with 1 Axes>"
      ]
     },
     "metadata": {
      "needs_background": "light"
     },
     "output_type": "display_data"
    }
   ],
   "source": [
    "L_plot(e_L_pos_mu_pi)\n",
    "plt.xlim(-100, 3800)"
   ]
  },
  {
   "cell_type": "markdown",
   "id": "a239d56a-5002-46d8-8782-2a58163923de",
   "metadata": {},
   "source": [
    "# dispersion as a function of B (negative mu)"
   ]
  },
  {
   "cell_type": "code",
   "execution_count": null,
   "id": "6896ff8a-bee8-4cb8-a6fd-6e4c240dd5ff",
   "metadata": {},
   "outputs": [],
   "source": []
  },
  {
   "cell_type": "code",
   "execution_count": 106,
   "id": "a36ab3bb-4580-46d5-a898-d751dce94ae0",
   "metadata": {},
   "outputs": [
    {
     "data": {
      "text/plain": [
       "<matplotlib.lines.Line2D at 0x15c408040>"
      ]
     },
     "execution_count": 106,
     "metadata": {},
     "output_type": "execute_result"
    },
    {
     "data": {
      "image/png": "[encoded data removed]",
      "text/plain": [
       "<Figure size 432x288 with 1 Axes>"
      ]
     },
     "metadata": {
      "needs_background": "light"
     },
     "output_type": "display_data"
    }
   ],
   "source": [
    "dispersion_B = [np.min(e_B_neg_mu_0[i])-np.min(e_B_neg_mu_pi[i]) for i in range(13)]\n",
    "plt.plot(np.linspace(0, 1.2, 13), dispersion_B, ls='', marker='*')\n",
    "plt.xlabel(r'$B$')\n",
    "plt.ylabel(r'$E(\\phi=0) - E(\\phi=\\pi)$')\n",
    "plt.title(r'$\\mu=-1$', fontsize=18)\n",
    "plt.axvline(np.sqrt(0.182**2.+1.), c='k', label=r'$B_c$')\n",
    "#plt.legend()"
   ]
  },
  {
   "cell_type": "markdown",
   "id": "7b3fde54-846f-47f3-a73c-6a6240c76942",
   "metadata": {},
   "source": [
    "# dispersion as a function of mu"
   ]
  },
  {
   "cell_type": "code",
   "execution_count": 87,
   "id": "d03cca28-c321-47c9-8914-86bf3d102433",
   "metadata": {},
   "outputs": [
    {
     "data": {
      "text/plain": [
       "Text(0.5, 1.0, 'Short junction (one N site)')"
      ]
     },
     "execution_count": 87,
     "metadata": {},
     "output_type": "execute_result"
    },
    {
     "data": {
      "image/png": "[encoded data removed]",
      "text/plain": [
       "<Figure size 432x288 with 1 Axes>"
      ]
     },
     "metadata": {
      "needs_background": "light"
     },
     "output_type": "display_data"
    }
   ],
   "source": [
    "dispersion = [np.min(e_array_mu_0_short[i])-np.min(e_array_mu_pi_short[i]) for i in range(8, 21)]\n",
    "plt.plot(np.linspace(0.2, -1, 21-8), dispersion)\n",
    "plt.axvline(-0.18468589386759157, c='k', label=r'$B_c$')\n",
    "plt.xlabel(r'$\\mu$')\n",
    "plt.ylabel(r'$E(\\phi=0) - E(\\phi=\\pi)$')\n",
    "plt.title('Short junction (one N site)', fontsize=18)"
   ]
  },
  {
   "cell_type": "code",
   "execution_count": 94,
   "id": "9509981a-1b4d-4c66-94c7-b621ca7447fd",
   "metadata": {},
   "outputs": [
    {
     "data": {
      "text/plain": [
       "<matplotlib.lines.Line2D at 0x111459eb0>"
      ]
     },
     "execution_count": 94,
     "metadata": {},
     "output_type": "execute_result"
    },
    {
     "data": {
      "image/png": "[encoded data removed]",
      "text/plain": [
       "<Figure size 432x288 with 1 Axes>"
      ]
     },
     "metadata": {
      "needs_background": "light"
     },
     "output_type": "display_data"
    }
   ],
   "source": [
    "dispersion = [np.min(e_array_mu_0_short[i])-np.min(e_array_mu_pi_short[i]) for i in range(8, 21)]\n",
    "plt.semilogy(np.linspace(0.2, -1, 21-8), dispersion)\n",
    "plt.xlabel(r'$\\mu$')\n",
    "plt.ylabel(r'$E(\\phi=0) - E(\\phi=\\pi)$')\n",
    "plt.title('Short junction (one N site)', fontsize=18)\n",
    "plt.axvline(-0.18468589386759157, c='k', label=r'$B_c$')"
   ]
  },
  {
   "cell_type": "code",
   "execution_count": 92,
   "id": "5676f5ec-7682-444b-8659-8781851c998f",
   "metadata": {},
   "outputs": [
    {
     "data": {
      "text/plain": [
       "<matplotlib.lines.Line2D at 0x111433970>"
      ]
     },
     "execution_count": 92,
     "metadata": {},
     "output_type": "execute_result"
    },
    {
     "data": {
      "image/png": "[encoded data removed]",
      "text/plain": [
       "<Figure size 432x288 with 1 Axes>"
      ]
     },
     "metadata": {
      "needs_background": "light"
     },
     "output_type": "display_data"
    }
   ],
   "source": [
    "dispersion = [np.min(phi_mu_array[i][0])-np.min(phi_mu_array[i][1]) for i in range(21)]\n",
    "plt.plot(np.linspace(1, -1, 21), dispersion)\n",
    "plt.xlabel(r'$\\mu$')\n",
    "plt.ylabel(r'$E(\\phi=0) - E(\\phi=\\pi)$')\n",
    "plt.axvline(-0.18468589386759157, c='k', label=r'$B_c$')"
   ]
  },
  {
   "cell_type": "code",
   "execution_count": 93,
   "id": "61f2b33c-2ab8-48e9-9db3-27c6fa818d91",
   "metadata": {},
   "outputs": [
    {
     "data": {
      "text/plain": [
       "<matplotlib.lines.Line2D at 0x111b6bca0>"
      ]
     },
     "execution_count": 93,
     "metadata": {},
     "output_type": "execute_result"
    },
    {
     "data": {
      "image/png": "[encoded data removed]",
      "text/plain": [
       "<Figure size 432x288 with 1 Axes>"
      ]
     },
     "metadata": {
      "needs_background": "light"
     },
     "output_type": "display_data"
    }
   ],
   "source": [
    "dispersion = [np.min(phi_mu_array[i][0])-np.min(phi_mu_array[i][1]) for i in range(21)]\n",
    "plt.semilogy(np.linspace(1, -1, 21), dispersion)\n",
    "plt.xlabel(r'$\\mu$')\n",
    "plt.ylabel(r'$E(\\phi=0) - E(\\phi=\\pi)$')\n",
    "plt.axvline(-0.18468589386759157, c='k', label=r'$B_c$')"
   ]
  },
  {
   "cell_type": "code",
   "execution_count": 83,
   "id": "bc082815-f202-4590-92fb-b9fbb1a3487a",
   "metadata": {},
   "outputs": [
    {
     "data": {
      "text/plain": [
       "array([0.00798246, 0.00798246])"
      ]
     },
     "execution_count": 83,
     "metadata": {},
     "output_type": "execute_result"
    }
   ],
   "source": [
    "phi_mu_array[2][1]"
   ]
  },
  {
   "cell_type": "code",
   "execution_count": null,
   "id": "6857e3da-55f3-47c3-a638-80164a50db27",
   "metadata": {},
   "outputs": [],
   "source": []
  },
  {
   "cell_type": "code",
   "execution_count": 81,
   "id": "56458bdb-592d-44f8-9f5e-824b2ff1e299",
   "metadata": {},
   "outputs": [
    {
     "data": {
      "text/plain": [
       "0.13227417431077668"
      ]
     },
     "execution_count": 81,
     "metadata": {},
     "output_type": "execute_result"
    }
   ],
   "source": [
    "np.min(phi_mu_array[2][0])-np.min(phi_mu_array[2][1])"
   ]
  },
  {
   "cell_type": "code",
   "execution_count": null,
   "id": "e8b0f8ba-6f50-4b8a-a788-ff9b691afe89",
   "metadata": {},
   "outputs": [],
   "source": [
    "for i in range(21):\n",
    "    plt.figure()\n",
    "    phi_plot(phi_mu_array[i], 'sth')\n",
    "    mu=np.linspace(1, -1, 21)\n",
    "    plt.title(r'$\\mu=%.2g, \\Delta=0.182, B=0, L=3700 A$' % mu[i], fontsize=18)\n",
    "    plt.savefig('../Dispersionless state/figures/epr as a function of mu (4-orb)/mu_ind=%i' % i, dpi=300, bbox_inches='tight')"
   ]
  },
  {
   "cell_type": "code",
   "execution_count": 52,
   "id": "e790c870-0d71-4789-bb8c-45b61b3fa13b",
   "metadata": {},
   "outputs": [
    {
     "data": {
      "text/plain": [
       "([array([0.14025664, 0.14025664, 0.14679879, 0.14679879])],\n",
       " [array([0.00798246, 0.00798246])])"
      ]
     },
     "execution_count": 52,
     "metadata": {},
     "output_type": "execute_result"
    }
   ],
   "source": [
    "[e_array_mu_0[2]], [e_array_mu_pi[2]]"
   ]
  },
  {
   "cell_type": "code",
   "execution_count": 36,
   "id": "9e2ce26b-d1ab-4cd3-925e-82aece64f80b",
   "metadata": {},
   "outputs": [
    {
     "data": {
      "text/plain": [
       "[array([0.14578374, 0.14578374]),\n",
       " array([0.14617019, 0.14617019]),\n",
       " array([0.14025664, 0.14025664, 0.14679879, 0.14679879]),\n",
       " array([0.13438372, 0.13438372, 0.14706993, 0.14706993]),\n",
       " array([0.12892835, 0.12892835, 0.14606575, 0.14606575]),\n",
       " array([0.12506707, 0.12506707, 0.1425051 , 0.1425051 ]),\n",
       " array([0.12392092, 0.12392092, 0.13482032, 0.13482032]),\n",
       " array([0.12579577, 0.12579577]),\n",
       " array([0.10386637, 0.10386637, 0.12887868, 0.12887868]),\n",
       " array([0.08695054, 0.08695054, 0.12584795, 0.12584795]),\n",
       " array([0.08528538, 0.08528538, 0.0968188 , 0.0968188 ]),\n",
       " array([0.03782142, 0.03782142, 0.11055044, 0.11055044]),\n",
       " array([0.0634677 , 0.0634677 , 0.15649491, 0.15649491]),\n",
       " array([0.15099489, 0.15099489, 0.21408528, 0.21408528]),\n",
       " array([0.24431788, 0.24431788]),\n",
       " array([0.33987015, 0.33987015]),\n",
       " array([0.43664547, 0.43664547]),\n",
       " array([0.53418608, 0.53418608]),\n",
       " array([0.63224306, 0.63224306]),\n",
       " array([0.73066688, 0.73066688]),\n",
       " array([0.82936145, 0.82936145])]"
      ]
     },
     "execution_count": 36,
     "metadata": {},
     "output_type": "execute_result"
    }
   ],
   "source": [
    "e_array_mu_0"
   ]
  },
  {
   "cell_type": "code",
   "execution_count": null,
   "id": "d3a2abe5-243c-42ba-971b-67b50771f73d",
   "metadata": {},
   "outputs": [],
   "source": []
  }
 ],
 "metadata": {
  "kernelspec": {
   "display_name": "Python 3 (ipykernel)",
   "language": "python",
   "name": "python3"
  },
  "language_info": {
   "codemirror_mode": {
    "name": "ipython",
    "version": 3
   },
   "file_extension": ".py",
   "mimetype": "text/x-python",
   "name": "python",
   "nbconvert_exporter": "python",
   "pygments_lexer": "ipython3",
   "version": "3.9.6"
  }
 },
 "nbformat": 4,
 "nbformat_minor": 5
}
