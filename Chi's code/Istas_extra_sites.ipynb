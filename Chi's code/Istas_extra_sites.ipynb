{
 "cells": [
  {
   "cell_type": "code",
   "execution_count": 1,
   "id": "e16e6da3-ce52-4cfd-a776-a18cbdd85d57",
   "metadata": {},
   "outputs": [],
   "source": [
    "# Copyright 2011-2019 Kwant authors.\n",
    "#\n",
    "# This file is part of Kwant.  It is subject to the license terms in the file\n",
    "# LICENSE.rst found in the top-level directory of this distribution and at\n",
    "# http://kwant-project.org/license.  A list of Kwant authors can be found in\n",
    "# the file AUTHORS.rst at the top-level directory of this distribution and at\n",
    "# http://kwant-project.org/authors.\n",
    "\n",
    "from packaging import version\n",
    "\n",
    "import numpy as np\n",
    "import scipy.linalg\n",
    "import scipy.optimize\n",
    "import scipy.sparse as sp\n",
    "\n",
    "__all__ = [\"find_boundstates\"]\n",
    "\n",
    "# TODO: remove this when we depend on scipy > 1.1\n",
    "#1.3.1 here\n",
    "if version.parse(scipy.__version__) > version.parse(\"1.1\"):\n",
    "    null_space = scipy.linalg.null_space\n",
    "else:\n",
    "\n",
    "    def null_space(A, rcond=None):\n",
    "        u, s, vh = scipy.linalg.svd(A, full_matrices=True)\n",
    "        M, N = u.shape[0], vh.shape[1]\n",
    "        if rcond is None:\n",
    "            rcond = np.finfo(s.dtype).eps * max(M, N)\n",
    "        tol = np.amax(s) * rcond\n",
    "        num = np.sum(s > tol, dtype=int)\n",
    "        Q = vh[num:, :].T.conj()\n",
    "        return Q\n",
    "\n",
    "\n",
    "# If available, use MUMPS support for shift-inverse sparse diagonalization\n",
    "# Can import mumps alright.\n",
    "try:\n",
    "    from kwant.linalg import mumps\n",
    "except ImportError:\n",
    "    sparse_diag = sp.linalg.eigsh\n",
    "else:\n",
    "\n",
    "    class _LuInv(sp.linalg.LinearOperator):\n",
    "        def __init__(self, A):\n",
    "            inst = mumps.MUMPSContext()\n",
    "            inst.analyze(A)\n",
    "            inst.factor(A)\n",
    "            self.solve = inst.solve\n",
    "            super().__init__(A.dtype, A.shape)\n",
    "\n",
    "        def _matvec(self, x):\n",
    "            return self.solve(x.astype(self.dtype))\n",
    "\n",
    "    def sparse_diag(matrix, k, sigma, **kwargs):\n",
    "        if sigma == 0:\n",
    "            shifted_matrix = matrix\n",
    "        else:\n",
    "            shifted_matrix = matrix - sigma * sp.identity(matrix.shape[0])\n",
    "        return sp.linalg.eigsh(matrix, k, sigma=sigma, OPinv=_LuInv(shifted_matrix),\n",
    "                               **kwargs)\n",
    "\n",
    "\"\"\"syst: kwant.system.FiniteSystem\n",
    "\"\"\"\n",
    "\n",
    "def find_boundstates(\n",
    "    syst,\n",
    "    min_energy,\n",
    "    max_energy,\n",
    "    params=None,\n",
    "    sparse=True,\n",
    "    check_hermiticity=True,\n",
    "    rtol=1e-3,\n",
    "):\n",
    "    \"\"\"Return boundstates of an open system in an energy window\n",
    "\n",
    "    Parameters\n",
    "    ----------\n",
    "    syst : kwant.system.FiniteSystem\n",
    "        Must have leads.\n",
    "    min_energy, max_energy : float\n",
    "        The lower and upper bounds in energy to search for boundstates.\n",
    "    params : dict, optional\n",
    "        The keyword arguments to 'syst'.\n",
    "    sparse : bool, default: True\n",
    "        If True use sparse linear algebra, otherwise use dense.\n",
    "    check_hermiticity : bool, default: True\n",
    "        If True, checks the Hermiticity of the system Hamiltonian\n",
    "    rtol : float, default: 1E-3\n",
    "        boundstates that are closer together than\n",
    "        'rtol * (max_energy - min_energy)' may be missed.\n",
    "\n",
    "    Returns\n",
    "    -------\n",
    "    energies : 1D float array\n",
    "        The energies of the bound states.\n",
    "    wavefunctions : 2D complex array\n",
    "        The columns are the bound state wavefunctions defined\n",
    "        over the scattering region.\n",
    "    \"\"\"\n",
    "\n",
    "    # TODO: apply lru_cache to this once\n",
    "    # https://github.com/scipy/scipy/issues/10846 is solved.\n",
    "    def min_eigenvalue(energy):\n",
    "        H_eff = make_linsys(\n",
    "            syst,\n",
    "            energy,\n",
    "            params=params,\n",
    "            sparse=sparse,\n",
    "            check_hermiticity=check_hermiticity,\n",
    "        )\n",
    "        try:\n",
    "            if sparse:\n",
    "                if H_eff.shape[0] <= 2:\n",
    "                    raise ValueError(\n",
    "                        \"The system is too small to use sparse diagonalization. \"\n",
    "                        \"Try setting 'sparse=False'.\"\n",
    "                    )\n",
    "                vals = sparse_diag(\n",
    "                    H_eff.tocsc(), k=1, sigma=1e-10, which=\"LM\", return_eigenvectors=False\n",
    "                )\n",
    "                '''print('energy:')\n",
    "                print(energy)\n",
    "                print('Direct Diagonalisation:')\n",
    "                print(spi.linalg.eigvals(H_eff.toarray()))\n",
    "                print('sparce f:')\n",
    "                print(vals[np.argmin(np.abs(vals))]'''\n",
    "                return vals[0]\n",
    "            else:\n",
    "                vals = np.linalg.eigvalsh(H_eff)\n",
    "                which = np.argmin(np.abs(vals))\n",
    "                return vals[which]\n",
    "        except RuntimeError:  # Some problem diagonalizing\n",
    "            return np.inf\n",
    "\n",
    "    if syst.site_ranges is not None:\n",
    "        tot_norbs = syst.site_ranges[-1][-1]\n",
    "    else:\n",
    "        _, norbs = syst.hamiltonian_submatrix(params=params, return_norb=True)[:2]\n",
    "        tot_norbs = sum(norbs)\n",
    "\n",
    "    # Grid the energy window and search for roots in the sub-windows\n",
    "    # where the min-eigenvalue changes sign. These will either be\n",
    "    # true roots or discontinuities. Note that if there are >1 roots\n",
    "    # in the same sub-window then at least one of them will be missed.\n",
    "    '''print('f(0):')\n",
    "    print(min_eigenvalue(0))\n",
    "    print('f(1e-16)')\n",
    "    print(min_eigenvalue(1e-16))\n",
    "    print('f(3e-16)')\n",
    "    print(min_eigenvalue(3e-16))\n",
    "    print('f(1e-15)')\n",
    "    print(min_eigenvalue(1e-15))'''\n",
    "    \n",
    "    '''print('f(0):')\n",
    "    print(min_eigenvalue(0.))'''\n",
    "    \n",
    "    energies = np.linspace(\n",
    "        min_energy, max_energy, int((max_energy - min_energy) / rtol)\n",
    "    )\n",
    "    intervals = zip(energies, energies[1:])\n",
    "    candidates = []\n",
    "    for a, b in intervals:\n",
    "        try:\n",
    "            if np.sign(min_eigenvalue(a)) != np.sign(min_eigenvalue(b)):\n",
    "                candidate = scipy.optimize.brentq(min_eigenvalue, a, b)\n",
    "                candidates.append(candidate)\n",
    "        except RuntimeError: #some problems with lead modes\n",
    "            continue\n",
    "    \n",
    "    '''f_E = []\n",
    "    for e in energies:\n",
    "        f_E.append(min_eigenvalue(e))\n",
    "    plt.scatter(energies, f_E)'''\n",
    "    \n",
    "    # Check which candidate points give actual boundstates.\n",
    "    energies = []\n",
    "    states = []\n",
    "    for energy in candidates:\n",
    "        vecs = extract_boundstates(syst, energy, params=params, sparse=sparse)\n",
    "        # vecs.shape[1] == 0 if there were no boundstates found\n",
    "        energies.append([energy] * vecs.shape[1])\n",
    "        # Here we discard the mode part of the solution just to\n",
    "        # make the output format more uniform (wavefunction has\n",
    "        # same number of components at all energies).\n",
    "        states.append(vecs[:tot_norbs, :])\n",
    "\n",
    "    if not energies:\n",
    "        return np.empty((0,)), np.empty((tot_norbs, 0))\n",
    "    else:\n",
    "        return np.hstack(energies), np.hstack(states)\n",
    "\n",
    "\n",
    "def extract_boundstates(\n",
    "    syst, energy=0, params=None, sparse=True, check_hermiticity=True, tol=1e-8\n",
    "):\n",
    "    \"\"\"Return any true boundstates of 'syst' at 'energy'\n",
    "\n",
    "    Params\n",
    "    ------\n",
    "    syst : kwant.FiniteSystem\n",
    "        Must have leads\n",
    "    energy : float\n",
    "    params : dict, optional\n",
    "        Keyword arguments to 'syst'\n",
    "    sparse : bool, default: True\n",
    "        If True, returns sparse matrices\n",
    "    check_hermiticity : bool, default: True\n",
    "        If True, check the system Hamiltonian for hermiticity\n",
    "\n",
    "    Returns\n",
    "    -------\n",
    "    vecs : 2D array\n",
    "        The columns are bound state wavefunctions.\n",
    "        The first N rows is in the tight-binding basis of the\n",
    "        scattering region, and the remaining rows are in the\n",
    "        basis of stabilized evanescent modes of the leads.\n",
    "\n",
    "    Notes\n",
    "    -----\n",
    "    We diagonalize the linear system returned by 'make_linsys', and\n",
    "    search for zero eigenvalues. We then look for vectors in the basis\n",
    "    of zero-eigenvalue eigenvectors that satisfy the bound state condition,\n",
    "    eq. 19 of https://doi.org/10.21468/SciPostPhys.4.5.026.\n",
    "    \"\"\"\n",
    "\n",
    "    lhs, T = make_linsys(\n",
    "        syst,\n",
    "        energy,\n",
    "        params=params,\n",
    "        sparse=sparse,\n",
    "        check_hermiticity=check_hermiticity,\n",
    "        return_validation=True,\n",
    "        which=\"hermitian\",\n",
    "    )\n",
    "\n",
    "    if sparse:\n",
    "        if lhs.shape[0] <= 2:\n",
    "            raise ValueError(\n",
    "                \"The system is too small to use sparse diagonalization. \"\n",
    "                \"Try setting 'sparse=False'.\"\n",
    "            )\n",
    "        k = min(6, lhs.shape[0] - 2)  # 6 is the default for sp.linalg.eigsh\n",
    "        try_again = True\n",
    "        # Solve the eigenproblem with successively large values of 'k' until\n",
    "        # we get all the zero eigenvalues. (In most cases this loop will\n",
    "        # run once).\n",
    "        while try_again:\n",
    "            vals, vecs = sparse_diag(lhs.tocsc(), k=k, sigma=1e-10, which=\"LM\")\n",
    "            zeros = np.abs(vals) < tol  # TODO: make this check better\n",
    "            if not np.all(zeros):  # we have found all the zero eigenvalues\n",
    "                try_again = False\n",
    "            else:\n",
    "                k *= 2  # try again with twice the number of eigenvalues\n",
    "                if k >= lhs.shape[0] - 1:\n",
    "                    raise ValueError(\n",
    "                        \"More eigenvalues are 0 than can be obtained by \"\n",
    "                        \"sparse diagonalization. Try setting 'sparse=False'.\"\n",
    "                    )\n",
    "    else:\n",
    "        vals, vecs = np.linalg.eigh(lhs)\n",
    "        zeros = np.abs(vals) < tol  # TODO make this check better\n",
    "\n",
    "    if not np.any(zeros):\n",
    "        return np.empty((lhs.shape[0], 0))\n",
    "\n",
    "\n",
    "    zero_vecs = vecs[:, zeros]\n",
    "    # To find the true boundstates we find the null space of the operator\n",
    "    # in eq 19 (T) in the basis of zero-eigenvalue vectors.\n",
    "    p = T @ zero_vecs\n",
    "    if np.allclose(p, 0):\n",
    "        # 'zero_vecs' are already a basis for the null space of T\n",
    "        return zero_vecs\n",
    "    else:\n",
    "        # TODO: not sure about this value for 'rcond', we need to ensure\n",
    "        #       that rcond is sufficiently large in the case that p is\n",
    "        #       zero (i.e. zero_vecs are individually boundstates).\n",
    "        bound_states = null_space(p, rcond=tol / np.max(np.abs(p)))\n",
    "        # transform back to original basis\n",
    "        # TODO: rotate the basis so the bound states have the correct symmetries\n",
    "        return np.asarray(zero_vecs @ bound_states)\n",
    "\n",
    "\n",
    "def make_linsys(\n",
    "    syst,\n",
    "    energy=0,\n",
    "    params=None,\n",
    "    sparse=True,\n",
    "    check_hermiticity=True,\n",
    "    return_validation=False,\n",
    "    which=\"hermitian\",\n",
    "):\n",
    "    \"\"\"Return the linear system for finding boundstates\n",
    "\n",
    "    Returns ether the linear system defined in equation 12 or equation 11\n",
    "    of https://doi.org/10.21468/SciPostPhys.4.5.026, and the linear\n",
    "    operator defined in equation 19 of the same article.\n",
    "\n",
    "    Params\n",
    "    ------\n",
    "    syst : kwant.FiniteSystem\n",
    "        Must have leads\n",
    "    energy : float\n",
    "    params : dict, optional\n",
    "        Keyword arguments to 'syst'\n",
    "    sparse : bool, default: True\n",
    "        If True, returns sparse matrices\n",
    "    check_hermiticity : bool, default: True\n",
    "        If True, check the system Hamiltonian for hermiticity\n",
    "    return_validation: bool, default: False\n",
    "        If True, also return the linear operator used for\n",
    "        checking for true bound states (equation 19 of the article).\n",
    "    which : str, default: \"hermitian\"\n",
    "        Which linear system to return. If \"hermitian\" returns the\n",
    "        linear system defined in equation 12, if \"svd\" returns\n",
    "        the linear system defined in equation 11.\n",
    "\n",
    "    Returns\n",
    "    -------\n",
    "    lhs : 2D array or sparse matrix\n",
    "        The linear system for finding boundstates\n",
    "    T : 2D array or sparse matrix\n",
    "        A linear operator for checking bound states.\n",
    "        zero-eigenvalue eigenvectors of 'lhs' that are in the\n",
    "        null-space of 'T' are true bound states. Only returned\n",
    "        if 'return_validation' is True.\n",
    "    \"\"\"\n",
    "    if not syst.leads:\n",
    "        raise ValueError(\"'syst' must have leads attached\")\n",
    "    if any(interface.shape[0] == 0 for interface in syst.lead_interfaces):\n",
    "        raise ValueError(\n",
    "            \"All the leads of 'syst' must have non-zero \" \"inter-cell hopping\"\n",
    "        )\n",
    "\n",
    "    lhs, norb = syst.hamiltonian_submatrix(\n",
    "        params=params, sparse=sparse, return_norb=True\n",
    "    )[:2]\n",
    "    offsets = np.empty(norb.shape[0] + 1, int)\n",
    "    offsets[0] = 0\n",
    "    offsets[1:] = np.cumsum(norb)\n",
    "    scattering_region_norbs = offsets[-1]\n",
    "\n",
    "    if check_hermiticity and len(lhs.data):\n",
    "        rtol = 1e-13\n",
    "        atol = 1e-300\n",
    "        tol = rtol * np.max(np.abs(lhs.data)) + atol\n",
    "        if np.any(np.abs((lhs - lhs.T.conj()).data) > tol):\n",
    "            raise ValueError(\n",
    "                \"System Hamiltonian is not Hermitian. \"\n",
    "                \"Use option `check_hermiticity=False` \"\n",
    "                \"if this is intentional.\"\n",
    "            )\n",
    "\n",
    "    if sparse:\n",
    "        lhs = lhs - energy * sp.identity(lhs.shape[0])\n",
    "    else:\n",
    "        lhs.flat[:: (offsets[-1] + 1)] -= energy\n",
    "\n",
    "    phi_e = []\n",
    "    svd_vs = []\n",
    "    transfs = []\n",
    "    for leadnum, interface in enumerate(syst.lead_interfaces):\n",
    "        lead = syst.leads[leadnum]\n",
    "        _, stab = lead.modes(energy, params=params)\n",
    "        svd_v = stab.sqrt_hop\n",
    "        # Evanescent modes (schur vectors) are stored after\n",
    "        # the 2*nmodes propagating (in/out) modes\n",
    "        evan_vecs = slice(2 * stab.nmodes, None)\n",
    "        u_out = stab.vecs[:, evan_vecs]\n",
    "        ulinv_out = stab.vecslmbdainv[:, evan_vecs]\n",
    "\n",
    "        # Construct a matrix of 1's that translates the\n",
    "        # inter-cell hopping to a proper hopping\n",
    "        # from the system to the lead.\n",
    "        iface_orbs = np.r_[tuple(slice(offsets[i], offsets[i + 1]) for i in interface)]\n",
    "\n",
    "        n_lead_orbs = svd_v.shape[0]\n",
    "        if n_lead_orbs != len(iface_orbs):\n",
    "            msg = (\n",
    "                \"Lead {0} has hopping with dimensions \"\n",
    "                \"incompatible with its interface dimension.\"\n",
    "            )\n",
    "            raise ValueError(msg.format(leadnum))\n",
    "\n",
    "        coords = np.r_[[np.arange(len(iface_orbs))], [iface_orbs]]\n",
    "        transf = sp.csc_matrix(\n",
    "            (np.ones(len(iface_orbs)), coords), shape=(iface_orbs.size, lhs.shape[0])\n",
    "        )\n",
    "\n",
    "        phi_e.append(ulinv_out)\n",
    "        svd_vs.append(svd_v)\n",
    "        # We are saving these for use in '_validation_operator', where we\n",
    "        # expect each projector to project *from the scattering region only*,\n",
    "        # hence the slice up to 'scattering_region_norbs'\n",
    "        transfs.append(transf[:, :scattering_region_norbs])\n",
    "\n",
    "        if which == \"hermitian\":\n",
    "            A, B, C = _hermitian_matrices(svd_v, transf, u_out, ulinv_out)\n",
    "        elif which == \"svd\":\n",
    "            A, B, C = _svd_matrices(svd_v, transf, u_out, ulinv_out)\n",
    "        else:\n",
    "            raise ValueError(\"'which' must be 'hermitian' or 'svd'\")\n",
    "\n",
    "        if sparse:\n",
    "            A = sp.csc_matrix(A)\n",
    "            B = sp.csc_matrix(B)\n",
    "            C = sp.csc_matrix(C)\n",
    "            lhs = sp.bmat([[lhs, A], [B, C]])\n",
    "        else:\n",
    "            lhs = np.block([[lhs, A], [B, C]])\n",
    "\n",
    "    if return_validation:\n",
    "        return (\n",
    "            lhs,\n",
    "            _validation_operator(\n",
    "                phi_e=phi_e,\n",
    "                svd_vs=svd_vs,\n",
    "                transfs=transfs,\n",
    "                orb_offsets=offsets,\n",
    "                sparse=sparse,\n",
    "            ),\n",
    "        )\n",
    "    else:\n",
    "        return lhs\n",
    "\n",
    "\n",
    "# Equation 12\n",
    "def _hermitian_matrices(svd_v, transf, u_out, ulinv_out):\n",
    "    A = transf.T @ svd_v @ u_out\n",
    "    B = A.conj().T\n",
    "    C = -u_out.T.conj() @ ulinv_out\n",
    "    return A, B, C\n",
    "\n",
    "\n",
    "# Equation 11\n",
    "def _svd_matrices(svd_v, transf, u_out, ulinv_out):\n",
    "    A = transf.T @ svd_v @ u_out\n",
    "    B = svd_v.conj().T @ transf\n",
    "    C = -ulinv_out\n",
    "    return A, B, C\n",
    "\n",
    "\n",
    "# Equation 19\n",
    "def _validation_operator(phi_e, svd_vs, transfs, orb_offsets, sparse):\n",
    "\n",
    "    syst_size = orb_offsets[-1]\n",
    "    mode_size = sum(phi.shape[1] for phi in phi_e)\n",
    "    sol_size = syst_size + mode_size\n",
    "\n",
    "    p_psi = sp.csc_matrix(\n",
    "        (np.ones(syst_size), (np.arange(syst_size),) * 2), shape=(syst_size, sol_size)\n",
    "    )\n",
    "    p_q = sp.csc_matrix(\n",
    "        (np.ones(mode_size), (np.arange(mode_size), np.arange(syst_size, sol_size))),\n",
    "        shape=(mode_size, sol_size),\n",
    "    )\n",
    "\n",
    "    svd_v = np.vstack(svd_vs)\n",
    "    transf = sp.vstack(transfs)\n",
    "    # The states are the *columns*, so use hstack rather than vstack\n",
    "    phi = np.hstack(phi_e)\n",
    "\n",
    "    r = svd_v.conj().T @ (transf @ p_psi) - phi @ p_q\n",
    "\n",
    "    if sparse:\n",
    "        r = sp.csc_matrix(r)\n",
    "\n",
    "    return r\n"
   ]
  },
  {
   "cell_type": "code",
   "execution_count": 2,
   "id": "72f4fc95-4809-4135-8490-6229c0e12d53",
   "metadata": {},
   "outputs": [],
   "source": [
    "# Copyright 2011-2018 Kwant authors.\n",
    "#\n",
    "# This file is part of Kwant.  It is subject to the license terms in the file\n",
    "# LICENSE.rst found in the top-level directory of this distribution and at\n",
    "# http://kwant-project.org/license.  A list of Kwant authors can be found in\n",
    "# the file AUTHORS.rst at the top-level directory of this distribution and at\n",
    "# http://kwant-project.org/authors.\n",
    "\n",
    "import numpy as np\n",
    "from scipy.optimize import newton, brentq, minimize_scalar\n",
    "from _boundstate_hermitian import eig_values, false_positive_BS, eig_val_derivative\n",
    "from _boundstate_svd import singular_values\n",
    "from _boundstate_common import *\n",
    "\n",
    "__all__ = ['bound_state', 'wf_in_leads']\n",
    "\n",
    "def bound_state(syst, E_range, args=(), params=None, tol=1e-8, sparse=False, \n",
    "                return_wf=False, maxiter=100, eig_val=2, need_orth=True):\n",
    "    \"\"\"Find a single bound state in the energy window '(emin, emax)'.\n",
    "\n",
    "    Parameters\n",
    "    ----------\n",
    "    syst : kwant.system.FiniteSystem\n",
    "        Must have at least one lead attached. If you need to find bound\n",
    "        states of a finite system, use an eigensolver.\n",
    "    emin, emax : float\n",
    "        The energy bounds in which to search for bound states.\n",
    "    E_0: starting point of the newton method\n",
    "    args : tuple\n",
    "        Positional arguments to the system.\n",
    "    params : dict\n",
    "        Keyword arguments to the system.\n",
    "    eps : float\n",
    "        Tolerance with which to find the bound state.\n",
    "    return_wavefunction : bool\n",
    "        Whether or not to return the bound state wavefunction.\n",
    "    maxiter: maximum number of steps used by the newton method\n",
    "    eig_val: the number of eigenvalue to be computed. Only if sparse \n",
    "             is True\n",
    "    need_orth: Whether to orthogonalize the leads modes. Only necessary \n",
    "               for degenerate eigenmodes\n",
    "\n",
    "    Returns\n",
    "    -------\n",
    "    E: energy of the bound state\n",
    "    if return _wf is True:\n",
    "        psi_alpha_0: wavefunction in the scattering region\n",
    "        lmb: Evanescent modes in the lead at a given energy\n",
    "        q_e: \n",
    "        Phi: \n",
    "    elements fo compute the wavefunction in the leads\n",
    "\n",
    "    Notes\n",
    "    -----\n",
    "    TODO: finish this docstring\n",
    "    Can use Newton method to find the root. Downside of this method: \n",
    "    -needs a good initial guess (i.e. first Taylor expansion term bigger\n",
    "     than others) \n",
    "    -assume that the minimal eigenvalue is a smooth function, which is \n",
    "     not the case when a mode opens in the lead, or when the minimal \n",
    "     eigenvalue changes\n",
    "    Upside: Fast\n",
    "    Brentq:\n",
    "    from scipy, \"Generally considered the best of the rootfinding routines here\"\n",
    "\n",
    "    Returns at most 1 bound state...\n",
    "    \"\"\"\n",
    "    mat = extract_kwant_matrices(syst, sparse=sparse, args=args, params=params)\n",
    "\n",
    "    # To use Singular value decomposition and look for a minimum\n",
    "    return SVD_formulation(mat, E_range, tol, return_wf=return_wf, sparse=sparse)\n",
    "    # To use eigenvalue decomposition and look for a root\n",
    "    # return Hermitian_formulation(mat, E_0, return_wf=return_wf)\n",
    "\n",
    "def SVD_formulation(mat, E_range, tol, return_wf=False, sparse=False, sigma=None, sing_values=1):\n",
    "    \"\"\"\n",
    "    Compute the singular values of Eq.11\n",
    "    \"\"\"\n",
    "    def min_sing(e):\n",
    "        return min(singular_values(*mat, e, sparse=sparse, uv=False, sing_values=1))\n",
    "\n",
    "    minimum = minimize_scalar(min_sing, method='Bounded', bounds=E_range, \n",
    "                              options={'xatol': tol})\n",
    "    if minimum.fun > tol:\n",
    "        print(minimum.fun)\n",
    "        return None\n",
    "\n",
    "    E = minimum.x\n",
    "    if return_wf:\n",
    "        #print('here')\n",
    "        #print(minimum)\n",
    "        S, Wh, L_out, X_out = singular_values(*mat, E, sparse=sparse,\n",
    "                                              uv=True, sigma=sigma,\n",
    "                                              sing_values=sing_values)\n",
    "        \n",
    "        psi_alpha_0, q_e, L_out, Phi = compute_wf(S, Wh.conj().T, L_out, \n",
    "                                                X_out, mat[0].shape[0], \n",
    "                                                tol=tol,schur_modes=False)\n",
    "        return E, psi_alpha_0, q_e, L_out, Phi\n",
    "    else:\n",
    "        return E\n",
    "\n",
    "def Hermitian_formulation(mat, E_0, return_wf=False, fprime=eig_val_derivative):\n",
    "\n",
    "    def min_eig(e, *mat, sparse=sparse):\n",
    "        eig = eig_values(*mat, e, sparse=sparse, uv=False, sing_values=1)\n",
    "        idx = np.argmin(abs(eig))\n",
    "        return eig[idx]\n",
    "\n",
    "    try:\n",
    "        E = newton(min_eig, E_0, fprime=fprime, tol=tol, args=(*mat, sparse))\n",
    "\n",
    "        if not false_positive_BS(*mat, E, eps=eps):\n",
    "            print('False positive, no bound state')\n",
    "            return None\n",
    "        if return_wf:\n",
    "            S, Wh, L_out, X_out = eig_values(*mat, E, sparse=sparse,\n",
    "                                             uv=True)\n",
    "            psi_alpha_0, q_e, L_out, Phi = compute_wf(S, Wh.conj().T, L_out, \n",
    "                                                X_out, mat[0].shape, \n",
    "                                                tol=tol,schur_modes=False)\n",
    "            return E, psi_alpha_0, q_e, L_out, Phi\n",
    "        else:\n",
    "            return E\n",
    "\n",
    "    except RuntimeError:\n",
    "        print('no bound states found')\n",
    "\n",
    "def wf_in_leads(q_e, L_out, Phi, j):\n",
    "    \"\"\"\n",
    "    Compute the bound state wavefunction in the jth cell of the lead.\n",
    "    According to M.W. notes, the first unit cell is labbelled by 1.\n",
    "    Eq.7 in the paper\n",
    "    \"\"\"\n",
    "    return Phi @ np.linalg.matrix_power(L_out, j) @ q_e \n"
   ]
  },
  {
   "cell_type": "code",
   "execution_count": 3,
   "id": "1c9374b8-e04d-4196-b39c-508fb52b6895",
   "metadata": {},
   "outputs": [],
   "source": [
    "def inverse_A_B_alt(syst, vecslmbdainv, vecs):\n",
    "    hop = syst.leads[0].inter_cell_hopping()\n",
    "    B = np.sqrt(np.linalg.norm(hop))*np.identity(hop.shape[0])\n",
    "    A = hop@np.linalg.inv(B).T.conj()\n",
    "    B_dagger_inv = np.linalg.inv(B.T.conj())\n",
    "    A_dagger_inv = np.linalg.inv(A.T.conj())\n",
    "    phi_lmbda = A_dagger_inv@vecs\n",
    "    phi = B_dagger_inv@vecslmbdainv\n",
    "    return phi, phi_lmbda"
   ]
  },
  {
   "cell_type": "code",
   "execution_count": 216,
   "id": "19b94629-99d8-42c8-9134-e7473ce476e4",
   "metadata": {},
   "outputs": [
    {
     "data": {
      "text/plain": [
       "array([[ 1.02869674e-03+4.08645195e-03j,  1.30282518e-03-3.83292949e-03j,\n",
       "         1.66383288e-03+3.06200655e-03j, -3.20832313e-04-4.83057736e-03j,\n",
       "        -2.98140980e-19+1.39163802e-19j,  3.90281384e-19+5.79742116e-19j,\n",
       "         2.28646289e-19-2.05729952e-19j,  7.21495500e-19-6.81865245e-20j],\n",
       "       [ 3.95272822e-03-1.20971400e-03j,  4.10060589e-03+1.28929774e-03j,\n",
       "         2.28640252e-03+4.20774199e-03j,  2.21940675e-04+3.34162601e-03j,\n",
       "         3.82749812e-18+1.74004675e-17j, -1.17380922e-17+4.17168608e-18j,\n",
       "         1.50864421e-17+9.24956413e-18j, -3.92492420e-18-1.16973577e-17j],\n",
       "       [ 1.24684998e-17-4.75089994e-18j,  1.28849078e-17+4.95247666e-18j,\n",
       "         7.24811954e-18+1.33395173e-17j,  6.28432158e-19+9.46235706e-18j,\n",
       "        -1.00243207e-03-4.13165892e-03j,  4.04863797e-03-1.29898865e-03j,\n",
       "        -3.54594990e-03-2.30735725e-03j,  1.44786399e-03+3.97473416e-03j],\n",
       "       [-4.31049314e-17+5.72976964e-17j, -4.23561505e-17-5.58325440e-17j,\n",
       "         1.71421167e-17+3.15469049e-17j,  6.43254318e-18+9.68506997e-17j,\n",
       "        -4.11106411e-03+9.98403717e-04j, -1.29299480e-03-4.02777478e-03j,\n",
       "         2.31795641e-03-3.56406426e-03j, -3.99487402e-03+1.45595515e-03j],\n",
       "       [-3.13430317e-03+2.67479341e-03j, -3.15971198e-03-2.64715283e-03j,\n",
       "         1.49164205e-03+2.74511807e-03j,  3.37059527e-04+5.07490066e-03j,\n",
       "         6.37795745e-17-1.59782572e-17j,  2.53761800e-17+7.11078564e-17j,\n",
       "        -3.64098071e-17+5.51857819e-17j,  7.21186477e-17-2.37166575e-17j],\n",
       "       [ 2.54706427e-03+3.37041915e-03j,  2.86454033e-03-3.09962117e-03j,\n",
       "        -2.37949404e-03-4.37906138e-03j,  2.00378524e-04+3.01697779e-03j,\n",
       "         1.38935539e-17-4.47937477e-18j,  5.08249571e-18+1.42696194e-17j,\n",
       "        -8.87423162e-18+1.16994112e-17j,  1.44700323e-17-4.77639689e-18j],\n",
       "       [ 9.04628937e-21+2.50480743e-20j,  1.08740302e-20-2.33945887e-20j,\n",
       "         3.47829555e-19+6.40126750e-19j, -2.69742541e-20-4.06132106e-19j,\n",
       "         3.38720404e-03-2.53463901e-03j, -2.77293763e-03-3.19454176e-03j,\n",
       "        -3.53295397e-03+2.36512082e-03j, -4.24550530e-03-2.32332411e-04j],\n",
       "       [ 5.92259425e-20-7.68610375e-20j,  5.82970032e-20+7.49466409e-20j,\n",
       "         1.62621414e-20+2.99253935e-20j, -9.24473632e-21-1.39193758e-19j,\n",
       "        -2.54669762e-03-3.40439272e-03j, -3.21156511e-03+2.78642450e-03j,\n",
       "        -2.35288085e-03-3.51589187e-03j,  2.32164140e-04-4.22378963e-03j]])"
      ]
     },
     "execution_count": 216,
     "metadata": {},
     "output_type": "execute_result"
    }
   ],
   "source": [
    "vecs = syst.leads[1].modes(energy=e_trial)[1].vecs\n",
    "vecslmbdainv = syst.leads[1].modes(energy=e_trial)[1].vecslmbdainv\n",
    "phi_recreated, phi_lmbda_recreated = inverse_A_B_alt(syst, vecslmbdainv, vecs)\n",
    "phi_recreated"
   ]
  },
  {
   "cell_type": "code",
   "execution_count": 218,
   "id": "3ed3ce2d-3b24-4742-a51c-b0bffb2ae92f",
   "metadata": {},
   "outputs": [
    {
     "name": "stdout",
     "output_type": "stream",
     "text": [
      "[[-1.01623193e-01-3.18222074e-01j]\n",
      " [-6.73096294e-02-3.46091153e-01j]\n",
      " [ 4.92041509e-01+1.35344675e-01j]\n",
      " [ 5.70644958e-02-9.38464581e-03j]\n",
      " [-2.77555756e-17+1.70002901e-15j]\n",
      " [ 1.71737624e-15+1.66533454e-16j]\n",
      " [ 1.17115519e-15-1.26287869e-15j]\n",
      " [-1.77158635e-16+1.72084569e-15j]]\n",
      "[[ 1.22231277e-04+5.23646168e-04j]\n",
      " [-1.69078978e-05-7.24344548e-05j]\n",
      " [ 1.13522186e-20+2.18122976e-19j]\n",
      " [ 4.86553513e-18+2.12371348e-17j]\n",
      " [ 8.95492040e-04+3.83634196e-03j]\n",
      " [-9.90241072e-04-4.24225253e-03j]\n",
      " [ 6.33074744e-20+1.79104792e-19j]\n",
      " [-9.59659455e-20-1.01027634e-20j]]\n",
      "[[-4.38470313e-03+3.30398887e-13j]\n",
      " [ 6.06523259e-04-8.35469430e-14j]\n",
      " [ 1.36311391e-16-9.01929782e-17j]\n",
      " [-2.05319862e-16+1.45774775e-16j]\n",
      " [-3.21232572e-02+1.99843761e-12j]\n",
      " [ 3.55221121e-02-2.73687799e-12j]\n",
      " [-1.29696005e-16-1.35157250e-17j]\n",
      " [ 4.89290553e-18-2.26942130e-17j]]\n"
     ]
    }
   ],
   "source": [
    "weston_bs = extract_boundstates(syst, energy=e_trial)\n",
    "print(weston_bs[-16:][8:])\n",
    "print(phi_recreated@weston_bs[-16:][8:])\n",
    "print(psi_alpha_0[-8:])"
   ]
  },
  {
   "cell_type": "code",
   "execution_count": 220,
   "id": "c5fbc29b-0e8f-4bb5-b05d-a12218482a11",
   "metadata": {},
   "outputs": [
    {
     "name": "stdout",
     "output_type": "stream",
     "text": [
      "0.008907867082523994\n",
      "0.07263659577592076\n"
     ]
    }
   ],
   "source": [
    "print(np.sum(np.abs(phi_recreated@weston_bs[-16:][8:])))\n",
    "print(np.sum(np.abs(psi_alpha_0[-8:])))"
   ]
  },
  {
   "cell_type": "code",
   "execution_count": 203,
   "id": "b12f2dbb-56c7-40cc-a98f-1ec6b915deb9",
   "metadata": {},
   "outputs": [
    {
     "name": "stdout",
     "output_type": "stream",
     "text": [
      "(152, 1)\n"
     ]
    },
    {
     "data": {
      "text/plain": [
       "16"
      ]
     },
     "execution_count": 203,
     "metadata": {},
     "output_type": "execute_result"
    }
   ],
   "source": [
    "print(psi_alpha_0.shape)\n",
    "168-152"
   ]
  },
  {
   "cell_type": "code",
   "execution_count": 199,
   "id": "0048f75f-3771-4ad6-a634-a624f2cfbf1c",
   "metadata": {},
   "outputs": [
    {
     "name": "stdout",
     "output_type": "stream",
     "text": [
      "here\n",
      "0.04392532928275438\n",
      "1.0120558031633384\n",
      "751.0\n"
     ]
    }
   ],
   "source": [
    "E, psi_alpha_0, q_e, L_out, Phi = bound_state(syst, [e_trial, e_trial], return_wf=True)\n",
    "\n",
    "psi_1 = wf_in_leads(q_e, L_out, Phi, 1)\n",
    "#print(np.sum(np.abs(psi_1)**2.))\n",
    "first_site_amplitude = psi_1.T.conj()@psi_1\n",
    "last_site_amplitude = first_site_amplitude\n",
    "j=1\n",
    "while last_site_amplitude > first_site_amplitude/100.:\n",
    "    j+=1\n",
    "    quick_wfj = wf_in_leads(q_e, L_out, Phi, j)\n",
    "    psi_1 = np.vstack((psi_1, quick_wfj))\n",
    "    last_site_amplitude = quick_wfj.T.conj()@quick_wfj\n",
    "print(np.sum(np.abs(psi_alpha_0)**2.))\n",
    "print(np.sum(np.abs(psi_1)**2.))\n",
    "print(psi_1.shape[0]/16)"
   ]
  },
  {
   "cell_type": "markdown",
   "id": "98485713-34a9-4028-ac1b-67b1f82d274f",
   "metadata": {},
   "source": [
    "# System creation"
   ]
  },
  {
   "cell_type": "code",
   "execution_count": 4,
   "id": "5e604b0f-6736-462b-89a5-3b79c7de884f",
   "metadata": {},
   "outputs": [
    {
     "name": "stdout",
     "output_type": "stream",
     "text": [
      "1.602176634e-19\n"
     ]
    }
   ],
   "source": [
    "import kwant\n",
    "import tinyarray\n",
    "import numpy as np\n",
    "import scipy as spi\n",
    "import scipy.constants as const\n",
    "import scipy.signal as signal\n",
    "\n",
    "import matplotlib.pyplot as plt \n",
    "import matplotlib.colors as colors\n",
    "print(const.e)\n",
    "from copy import copy"
   ]
  },
  {
   "cell_type": "code",
   "execution_count": 5,
   "id": "43dcb74f-27a7-402d-b629-09b1227416f7",
   "metadata": {},
   "outputs": [],
   "source": [
    "## realistic parameters InAs with Al shell\n",
    "# Energy unit: meV, length unit: A\n",
    "#g = 14.7 #https://doi.org/10.1016/0375-9601(67)90541-5\n",
    "\n",
    "def make_system_mixed(L_A=3700., W=1400., a=6.0583, m=0.023, alpha=350., mu=0., U_0=0., delta=0.182, B=0., phi=0., g=14.7, salt='chizhang', eta=None):\n",
    "    \n",
    "    #a = 6.0583 #https://en.wikipedia.org/wiki/Indium_arsenide\n",
    "    L = int(np.round(L_A/a))\n",
    "    t = (const.hbar**2.)/(2.*m*const.m_e*(a*1e-10)**2.)/const.e*1000.\n",
    "    E_plus = (6.*const.hbar**2.)/(m*const.m_e*(W*1e-10)**2.)/const.e*1000.\n",
    "    E_minus = (-2.*const.hbar**2.)/(m*const.m_e*(W*1e-10)**2.)/const.e*1000.\n",
    "    if eta is None:\n",
    "        eta = np.sqrt(2)*alpha/W\n",
    "    else:\n",
    "        eta = eta\n",
    "    nu = alpha/(2.*a)\n",
    "    #B = g*mu_B*B_Tesla/2./const.e*1000.\n",
    "    print('Parameters: L, t, E_plus, E_minus, eta, nu, B')\n",
    "    print([L, t, E_plus, E_minus, eta, nu, B])\n",
    "    lat = kwant.lattice.chain()\n",
    "    syst = kwant.Builder()\n",
    "    \n",
    "    # Pauli matrices\n",
    "    t_x = np.kron(np.kron(np.array([[0, 1], [1, 0]]), np.eye(2)), np.eye(2)) # e-h subspace\n",
    "    t_y = np.kron(np.kron(np.array([[0, -1j], [1j, 0]]), np.eye(2)), np.eye(2))\n",
    "    t_z = np.kron(np.kron(np.array([[1, 0], [0, -1]]), np.eye(2)), np.eye(2))\n",
    "    sigma_x = np.kron(np.kron(np.eye(2), np.array([[0, 1], [1, 0]])), np.eye(2)) # subband subspace\n",
    "    sigma_y = np.kron(np.kron(np.eye(2), np.array([[0, -1j], [1j, 0]])), np.eye(2))\n",
    "    sigma_z = np.kron(np.kron(np.eye(2), np.array([[1, 0], [0, -1]])), np.eye(2))\n",
    "    s_x = np.kron(np.kron(np.eye(2), np.eye(2)), np.array([[0, 1], [1, 0]])) # spin subspace\n",
    "    s_y = np.kron(np.kron(np.eye(2), np.eye(2)), np.array([[0, -1j], [1j, 0]]))\n",
    "    s_z = np.kron(np.kron(np.eye(2), np.eye(2)), np.array([[1, 0], [0, -1]]))\n",
    "    \n",
    "    #### Define onsite and hopping ####\n",
    "    '''def onsite(site):\n",
    "        return (2.*t-mu-U_0*kwant.digest.gauss(repr(site), repr(salt)))*tau_z + B*tau_z@sigma_x'''\n",
    "    \n",
    "    #### Define the scattering region. ####\n",
    "    ham = (2.*t+E_plus-mu)*t_z + E_minus*sigma_z@t_z + eta*s_x@sigma_y@t_z + B*s_x\n",
    "    hop = -t*t_z + 1j*nu*s_y@t_z\n",
    "    #ham_scl = delta*(np.cos(-phi/2.)*t_x@s_y@sigma_y - np.sin(-phi/2.)*t_y@s_y@sigma_y)\n",
    "    #ham_scr = delta*(np.cos(phi/2.)*t_x@s_y@sigma_y - np.sin(phi/2.)*t_y@s_y@sigma_y)\n",
    "    ham_scl = delta*(np.cos(0.)*t_x - np.sin(0.)*t_y)\n",
    "    ham_scr = delta*(np.cos(phi)*t_x - np.sin(phi)*t_y)\n",
    "    #ham_scl = delta*spi.linalg.expm(-1j*phi*t_z/2.)@t_y@s_y\n",
    "    #ham_scr = delta*spi.linalg.expm(1j*phi*t_z/2.)@t_y@s_y\n",
    "    \n",
    "    syst[(lat(x) for x in range(0, L))] = ham\n",
    "    syst[(lat(-1))] = ham+ham_scl\n",
    "    syst[(lat(L))] = ham+ham_scr\n",
    "    syst[(lat(int(np.round(L/2.))))] = ham-U_0*t_z\n",
    "    syst[((lat(x), lat(x+1)) for x in range(-1, L))] = hop\n",
    "    \n",
    "    '''#### Define callable methods ####\n",
    "    def plot_mu():\n",
    "        site_array = np.arange(0, W+2)\n",
    "        mu_array.append(mu)\n",
    "        plt.plot(site_array, mu_array)\n",
    "        plt.xlabel('sites')\n",
    "        plt.ylabel(r'$\\mu$')'''\n",
    "        \n",
    "    \n",
    "    #### Define the leads. ####\n",
    "    sym_left = kwant.TranslationalSymmetry([-1])\n",
    "    lead0 = kwant.Builder(sym_left)\n",
    "    lead0[(lat(-2))] = ham+ham_scl\n",
    "    lead0[lat.neighbors()] = hop\n",
    "    sym_right = kwant.TranslationalSymmetry([1])\n",
    "    lead1 = kwant.Builder(sym_right)\n",
    "    lead1[(lat(L+1))] =  ham+ham_scr\n",
    "    lead1[lat.neighbors()] = hop\n",
    "\n",
    "    #### Attach the leads and return the system. ####\n",
    "    syst.attach_lead(lead0)\n",
    "    syst.attach_lead(lead1)\n",
    "\n",
    "    return syst.finalized()"
   ]
  },
  {
   "cell_type": "code",
   "execution_count": 6,
   "id": "6ad5ca36-316b-4965-ab67-97d5e99f997b",
   "metadata": {},
   "outputs": [
    {
     "name": "stdout",
     "output_type": "stream",
     "text": [
      "Parameters: L, t, E_plus, E_minus, eta, nu, B\n",
      "[6, 0.4513293228464011, 1.0141922225789335, -0.3380640741929778, 0.3535533905932738, 0.28885991119621013, 0.85]\n"
     ]
    },
    {
     "data": {
      "image/png": "[encoded data removed]",
      "text/plain": [
       "<Figure size 1800x1200 with 1 Axes>"
      ]
     },
     "metadata": {
      "needs_background": "light"
     },
     "output_type": "display_data"
    },
    {
     "data": {
      "image/png": "[encoded data removed]",
      "text/plain": [
       "<Figure size 1800x1200 with 1 Axes>"
      ]
     },
     "execution_count": 6,
     "metadata": {},
     "output_type": "execute_result"
    }
   ],
   "source": [
    "syst = make_system_mixed(L_A=3700., W=1400., a=605.83, m=0.023, alpha=350., mu=0., U_0=0., delta=0.182, B=0.85, phi=0., g=14.7, salt='chizhang', eta=None)\n",
    "kwant.plot(syst, dpi=300)"
   ]
  },
  {
   "cell_type": "code",
   "execution_count": 42,
   "id": "bd455722-37b3-4925-866b-5fae24c15c92",
   "metadata": {},
   "outputs": [
    {
     "name": "stdout",
     "output_type": "stream",
     "text": [
      "Parameters: L, t, E_plus, E_minus, eta, nu, B\n",
      "[61, 45.13293228464011, 1.0141922225789335, -0.3380640741929778, 0.3535533905932738, 2.8885991119621015, 0.0]\n"
     ]
    },
    {
     "data": {
      "text/plain": [
       "<matplotlib.colorbar.Colorbar at 0x161083340>"
      ]
     },
     "execution_count": 42,
     "metadata": {},
     "output_type": "execute_result"
    },
    {
     "data": {
      "image/png": "[encoded data removed]",
      "text/plain": [
       "<Figure size 1080x1080 with 4 Axes>"
      ]
     },
     "metadata": {
      "needs_background": "light"
     },
     "output_type": "display_data"
    }
   ],
   "source": [
    "syst = make_system_mixed(a=6.0583*10., phi=np.pi/2.)\n",
    "ham_bdg = syst.hamiltonian_submatrix()\n",
    "\n",
    "norm1 = colors.TwoSlopeNorm(vcenter=0)\n",
    "norm2 = colors.TwoSlopeNorm(vcenter=0)\n",
    "\n",
    "fig, ((ax1, ax2)) = plt.subplots(1, 2, figsize=(15,15))\n",
    "im1 = ax1.imshow(np.real(ham_bdg), cmap='bwr', interpolation='none', norm=norm1)\n",
    "fig.colorbar(im1, ax=ax1)\n",
    "im2 = ax2.imshow(np.imag(ham_bdg), cmap='bwr', interpolation='none', norm=norm2)\n",
    "fig.colorbar(im2, ax=ax2)"
   ]
  },
  {
   "cell_type": "code",
   "execution_count": 43,
   "id": "450d0c10-c46c-4288-bff2-22ba53da801c",
   "metadata": {},
   "outputs": [
    {
     "name": "stdout",
     "output_type": "stream",
     "text": [
      "(91.61812086605212+0j)\n",
      "0.182\n"
     ]
    }
   ],
   "source": [
    "print(np.max(ham_bdg))\n",
    "print(np.min(np.abs(ham_bdg[ham_bdg!=0])))"
   ]
  },
  {
   "cell_type": "code",
   "execution_count": 11,
   "id": "7f6e2877-aea7-4dec-aeb5-fdc945bbf76a",
   "metadata": {},
   "outputs": [
    {
     "name": "stdout",
     "output_type": "stream",
     "text": [
      "Parameters: L, t, E_plus, E_minus, eta, nu, B\n",
      "[17, 4513.29322846401, 198.78167562547094, -66.26055854182366, 0.0, 28.885991119621014, 0.05]\n",
      "Spectral gap:\n",
      "0.13263789002080495\n",
      "Fermi momentum\n",
      "4.440892098500626e-16\n",
      "Fermi wavelength:\n",
      "1.414847550405688e+16\n",
      "(array([49792, 50000, 50208]),)\n",
      "[[0.18160471 0.13263789 0.18160471]]\n",
      "[1.30690254e-02 4.44089210e-16 1.30690254e-02]\n"
     ]
    },
    {
     "data": {
      "image/png": "[encoded data removed]",
      "text/plain": [
       "<Figure size 432x288 with 1 Axes>"
      ]
     },
     "metadata": {
      "needs_background": "light"
     },
     "output_type": "display_data"
    }
   ],
   "source": [
    "#syst = make_system_mixed(B=0., a=60.583, eta=0.)\n",
    "syst = make_system_mixed(L_A=100., W=100., a=6.0583, alpha=350., U_0=0., mu=132.3363682761002+0.2, delta=0.182, B=0.05, phi=np.pi, eta=0.)\n",
    "bands=kwant.physics.Bands(syst.leads[1])\n",
    "momenta=np.linspace(-np.pi,np.pi,100001)\n",
    "energies=[bands(k) for k in momenta]\n",
    "x=np.array(energies)\n",
    "en=(x)\n",
    "plt.plot(momenta, en)\n",
    "plt.xlabel(r'$k$')\n",
    "plt.ylabel(r'$E$')\n",
    "gap_energy = np.min(en[:,4])\n",
    "plt.xlim(-0.1, 0.1)\n",
    "plt.ylim(-2, 2)\n",
    "#plt.savefig('./Real params/dispersion a~60', dpi=300)\n",
    "\n",
    "print('Spectral gap:')\n",
    "print(np.min(en[:,4]))\n",
    "print('Fermi momentum')\n",
    "k_F = np.abs(np.linspace(-np.pi,np.pi,100001)[np.argmin(en[:,4])])\n",
    "print(k_F)\n",
    "print('Fermi wavelength:')\n",
    "print(2.*np.pi/k_F)\n",
    "# Fermi wavelength comparable to junction length\n",
    "\n",
    "#try the scipy function\n",
    "local_minima = signal.argrelextrema(en[:,4], np.less)\n",
    "print(local_minima)\n",
    "print(en[local_minima, 4])\n",
    "print(np.abs(np.linspace(-np.pi,np.pi,100001)[local_minima]))\n",
    "\n",
    "\n",
    "\n",
    "#calculating v_F\n",
    "#hbar_v_F_needtocopy = (en[50209, 4]-en[50208, 4])/(np.abs(np.linspace(-np.pi,np.pi,100001)[50209])-np.abs(np.linspace(-np.pi,np.pi,100001)[50208]))\n",
    "#np.abs(np.linspace(-np.pi,np.pi,100001)[50208])\n",
    "#hbar_v_F_needtocopy = hbar_v_F_needtocopy*1e-3*const.e/(1./6.0583e-10)\n",
    "#hbar_v_F_needtocopy"
   ]
  },
  {
   "cell_type": "code",
   "execution_count": 12,
   "id": "2872fdb9-98f0-4e0e-b54e-6100db94db97",
   "metadata": {},
   "outputs": [
    {
     "name": "stdout",
     "output_type": "stream",
     "text": [
      "204.93281590329696\n",
      "1.241544478586944e-07\n"
     ]
    }
   ],
   "source": [
    "#delta_B = copy(gap_energy)\n",
    "#delta_B = delta_B*1e-3*const.e\n",
    "hbar_v_F = copy(hbar_v_F_needtocopy)\n",
    "xi = hbar_v_F/delta_B\n",
    "print(xi/6.0583e-10)\n",
    "print(xi)"
   ]
  },
  {
   "cell_type": "markdown",
   "id": "45ce1c1b-9931-43d5-b00e-6b81a343fd86",
   "metadata": {},
   "source": [
    "# Scans and wavefunc extraction methods"
   ]
  },
  {
   "cell_type": "code",
   "execution_count": 13,
   "id": "5d2ceabe-7901-4993-b85c-7500880806b8",
   "metadata": {},
   "outputs": [],
   "source": [
    "def phi_scan(phi_array=[0, 4.*np.pi], L_A=3700., W=1400., a=6.0583*10, m=0.023, alpha=350., mu=0.887, U_0=0., delta=0.182, B=0., g=14.7, salt='chizhang', eta=None):\n",
    "    energy_arrays=[]\n",
    "    wavefunc_arrays=[]\n",
    "    for i in np.linspace(phi_array[0], phi_array[1], 41):\n",
    "        print(i)\n",
    "        syst = make_system_mixed(L_A=L_A, W=W, a=a, m=m, alpha=alpha, mu=mu, U_0=U_0, delta=delta, B=B, g=g, phi=i, salt='chizhang', eta=eta)\n",
    "        energies, wavefunctions = find_boundstates(syst, -1.1*delta, 1.1*delta, rtol=1e-2*delta)\n",
    "        energy_arrays.append(energies)\n",
    "        wavefunc_arrays.append(wavefunctions)\n",
    "        print(energies)\n",
    "    return energy_arrays, wavefunc_arrays"
   ]
  },
  {
   "cell_type": "code",
   "execution_count": 14,
   "id": "aaba5de1-a047-4ed5-956d-5c88e9579bae",
   "metadata": {},
   "outputs": [],
   "source": [
    "def phi_plot(energy_array, gap_energy1=None, delta=0.182, title=r'$L=3700, W=1400, mu=0.887, delta=0.182, B=0T$'):\n",
    "    ex=[]\n",
    "    ey=[]\n",
    "    \n",
    "    ex1=[]\n",
    "    ey1=[]\n",
    "    ex2=[]\n",
    "    ey2=[]\n",
    "    \n",
    "    phi = np.linspace(0, 4.*np.pi, 41)\n",
    "    phi1 = np.linspace(0, 4*np.pi, 101)\n",
    "    for i in range(len(energy_array)):\n",
    "        for j in range(len(energy_array[i])):\n",
    "            ex.append(phi[i])\n",
    "            ey.append(energy_array[i][j])\n",
    "    '''for i in range(len(analytic_array[0])):\n",
    "        for j in range(len(analytic_array[0][i])):\n",
    "            ex1.append(phi1[i])\n",
    "            ey1.append(analytic_array[0][i][j])\n",
    "    for i in range(len(analytic_array[1])):\n",
    "        for j in range(len(analytic_array[1][i])):\n",
    "            ex2.append(phi1[i])\n",
    "            ey2.append(analytic_array[1][i][j])'''\n",
    "        \n",
    "    ex = np.array(ex)\n",
    "    ey = np.array(ey)/delta\n",
    "    #plt.axhline(gap/delta, color='r')\n",
    "    #plt.axhline(-gap/delta, color='r')\n",
    "    plt.scatter(ex, ey, s=5)\n",
    "    #plt.scatter(ex1, ey1, s=5, c='orange', marker='_')\n",
    "    #plt.scatter(ex2, ey2, s=5, c='green', marker='_')\n",
    "    #plt.xlim(B_range[0], B_range[1])\n",
    "    plt.xlabel(r'$\\phi$')\n",
    "    plt.ylabel(r'$E/\\Delta$')\n",
    "    plt.xticks(ticks=np.linspace(0, 4.*np.pi, 5), labels=[r'$0$', r'$\\pi$', r'$2\\pi$', r'$3\\pi$', r'$4\\pi$'])\n",
    "    plt.xlim(0, 4.*np.pi)\n",
    "    plt.ylim(-1.05, 1.05)\n",
    "    if gap_energy1 is not None:\n",
    "        plt.axhline(gap_energy1/delta, color='r', ls='--', alpha=0.3)\n",
    "        plt.axhline(-gap_energy1/delta, color='r', ls='--', alpha=0.3)\n",
    "        #plt.axhline(0.15798419/delta, color='g', ls='--', alpha=0.3)\n",
    "        #plt.axhline(-0.15798419/delta, color='g', ls='--', alpha=0.3)\n",
    "    #for gap_energy2 in gap_energies2:\n",
    "    #    plt.axhline(gap_energy2, color='g', ls='--')\n",
    "    plt.title(title)\n",
    "    #plt.savefig('./subband transition/'+figure_title, dpi=300)"
   ]
  },
  {
   "cell_type": "code",
   "execution_count": 15,
   "id": "aaecf7c5-7882-48ac-9fc8-d30c01020c2f",
   "metadata": {},
   "outputs": [],
   "source": [
    "def select_in_groups_strided(a, M, N): # Keep first M, delete next N and so on.\n",
    "    K = M+N\n",
    "    na = a.size\n",
    "    nrows = (1+((na-1)//K))\n",
    "    n = a.strides[0]\n",
    "    out = np.lib.index_tricks.as_strided(a, shape=(nrows,K), strides=(K*n,n))\n",
    "    N = M*(na//K) + (na - (K*(na//K)))\n",
    "    return out[:,:M].ravel()[:N]"
   ]
  },
  {
   "cell_type": "code",
   "execution_count": 270,
   "id": "0cac004a-8601-4711-97bb-202609de34a8",
   "metadata": {},
   "outputs": [],
   "source": [
    "'''def long_wf_in_leads(q_e, L_out, Phi, lead_no=1, fixed_no_cells=None):\n",
    "    return wavefunction with leads with number of unit cells\n",
    "    if fixed_no_cells is None:\n",
    "        j=1\n",
    "        quick_wf = wf_in_leads(q_e, L_out, Phi, 1)\n",
    "        wave_func_array = quick_wf\n",
    "        first_site_amplitude = quick_wf.T.conj()@quick_wf\n",
    "        last_site_amplitude = first_site_amplitude\n",
    "        while last_site_amplitude > first_site_amplitude/100.:\n",
    "            j+=1\n",
    "            quick_wfj = wf_in_leads(q_e, L_out, Phi, j)\n",
    "            wave_func_array = np.vstack((wave_func_array, quick_wfj))\n",
    "            last_site_amplitude = quick_wfj.T.conj()@quick_wfj\n",
    "        wave_func_array = np.array(wave_func_array)\n",
    "        if lead_no==0:\n",
    "            return select_in_groups_strided(wave_func_array, 8, 8), wave_func_array.shape[0]/8\n",
    "        elif lead_no==1:\n",
    "            return select_in_groups_strided(wave_func_array[8:], 8, 8), wave_func_array.shape[0]/8\n",
    "    else:\n",
    "        wave_func_array = wf_in_leads(q_e, L_out, Phi, 1)\n",
    "        for i in range(1, fixed_no_cells):\n",
    "            quick_wfj = wf_in_leads(q_e, L_out, Phi, i+1)\n",
    "            wave_func_array = np.vstack((wave_func_array, quick_wfj))\n",
    "        wave_func_array = np.array(wave_func_array)\n",
    "        if lead_no==0:\n",
    "            return select_in_groups_strided(wave_func_array, 8, 8), wave_func_array.shape[0]/8\n",
    "        elif lead_no==1:\n",
    "            return select_in_groups_strided(wave_func_array[8:], 8, 8), wave_func_array.shape[0]/8'''"
   ]
  },
  {
   "cell_type": "code",
   "execution_count": 16,
   "id": "c36c1747-76f2-4f82-972f-0c04441504e3",
   "metadata": {},
   "outputs": [],
   "source": [
    "def long_wf_in_leads(q_e, L_out, Phi, lead_no=1, fixed_no_cells=None, limit=100., no_orb=2):\n",
    "    '''return wavefunction with leads with number of unit cells'''\n",
    "    no_orb = int(no_orb)\n",
    "    if fixed_no_cells is None:\n",
    "        j=0\n",
    "        quick_wf = wf_in_leads(q_e, L_out, Phi, 0)\n",
    "        wave_func_array = quick_wf\n",
    "        first_site_amplitude = quick_wf.T.conj()@quick_wf\n",
    "        last_site_amplitude = first_site_amplitude\n",
    "        while last_site_amplitude > first_site_amplitude/limit:\n",
    "            j+=1\n",
    "            quick_wfj = wf_in_leads(q_e, L_out, Phi, j)\n",
    "            wave_func_array = np.vstack((wave_func_array, quick_wfj))\n",
    "            last_site_amplitude = quick_wfj.T.conj()@quick_wfj\n",
    "        wave_func_array = np.array(wave_func_array)\n",
    "        if lead_no==0:\n",
    "            return select_in_groups_strided(wave_func_array, no_orb, no_orb), wave_func_array.shape[0]/(no_orb*2)\n",
    "        elif lead_no==1:\n",
    "            return select_in_groups_strided(wave_func_array[no_orb:], no_orb, no_orb), wave_func_array.shape[0]/(no_orb*2)\n",
    "    else:\n",
    "        wave_func_array = wf_in_leads(q_e, L_out, Phi, 0)\n",
    "        for i in range(0, fixed_no_cells):\n",
    "            quick_wfj = wf_in_leads(q_e, L_out, Phi, i+1)\n",
    "            wave_func_array = np.vstack((wave_func_array, quick_wfj))\n",
    "        wave_func_array = np.array(wave_func_array)\n",
    "        if lead_no==0:\n",
    "            return select_in_groups_strided(wave_func_array, no_orb, no_orb), wave_func_array.shape[0]/(no_orb*2)\n",
    "        elif lead_no==1:\n",
    "            return select_in_groups_strided(wave_func_array[no_orb:], no_orb, no_orb), wave_func_array.shape[0]/(no_orb*2)"
   ]
  },
  {
   "cell_type": "code",
   "execution_count": 17,
   "id": "3755c3d8-d0c2-4319-87f6-2165067fe69d",
   "metadata": {},
   "outputs": [],
   "source": [
    "def istas_scan(e_subarray, syst, all_out=False, plot_index=0, no_orb=8):\n",
    "    no_orb=int(no_orb)\n",
    "    e_division = np.array([[e_subarray[i], e_subarray[i]] for i in range(len(e_subarray))])\n",
    "    e_compare = []\n",
    "    wavefunc_lleads = []\n",
    "    no_cells_lleads = []\n",
    "    wavefunc_rleads = []\n",
    "    no_cells_rleads = []\n",
    "    wavefunc_scat = []\n",
    "    for i in range(len(e_subarray)):\n",
    "        #print(i)\n",
    "        #print(e_division[i])\n",
    "        E, psi_alpha_0, q_e, L_out, Phi = bound_state(syst, e_division[i], return_wf=True)\n",
    "        e_compare.append(E)\n",
    "        wavefunc_scat.append(psi_alpha_0)\n",
    "        trial_wfr, no_cellsr = long_wf_in_leads(q_e, L_out, Phi, lead_no=1, no_orb=no_orb)\n",
    "        trial_wfl, no_cellsl = long_wf_in_leads(q_e, L_out, Phi, lead_no=0, no_orb=no_orb)\n",
    "        no_cells_lleads.append(no_cellsl)\n",
    "        no_cells_rleads.append(no_cellsr)\n",
    "        wavefunc_lleads.append(trial_wfl)\n",
    "        wavefunc_rleads.append(trial_wfr)\n",
    "        #print(trial_wf)\n",
    "        #print(trial_wfr)\n",
    "        #print(trial_wfr.shape)\n",
    "        #print(trial_wfr.shape[0]/8)\n",
    "        #print(psi_alpha_0.shape)\n",
    "        if i==plot_index:\n",
    "            fig, axs = plt.subplots(int(no_orb/2), 2, figsize=(15,15))\n",
    "            for k in range(0, no_orb):\n",
    "                ax = axs.flatten()[k]\n",
    "                ax.plot(np.arange(-trial_wfl.shape[0]/no_orb+1, 1), np.array([np.abs(trial_wfl[j*no_orb+k])**2. for j in range(int(trial_wfl.shape[0]/no_orb)-1, -1, -1)]))\n",
    "                ax.plot(np.arange(psi_alpha_0.shape[0]/no_orb), np.array([np.abs(psi_alpha_0[j*no_orb+k,0])**2. for j in range(int(psi_alpha_0.shape[0]/no_orb))]))\n",
    "                ax.plot(np.arange(psi_alpha_0.shape[0]/no_orb-1, trial_wfr.shape[0]/no_orb+psi_alpha_0.shape[0]/no_orb-1), np.array([np.abs(trial_wfr[j*no_orb+k])**2. for j in range(int(trial_wfr.shape[0]/no_orb))]))\n",
    "                ax.axhline(0, c='k', alpha=0.7)\n",
    "                #ax.plot(np.arange(-trial_wfl.shape[0]/8+1, 0), np.array([np.abs(trial_wfl[j*8+k])**2. for j in range(int(trial_wfl.shape[0]/8)-1, 0, -1)]))\n",
    "                #ax.plot(np.arange(psi_alpha_0.shape[0]/8), np.array([np.abs(psi_alpha_0[j*8+k,0])**2. for j in range(int(psi_alpha_0.shape[0]/8))]))\n",
    "                #ax.plot(np.arange(psi_alpha_0.shape[0]/8, trial_wfr.shape[0]/8+psi_alpha_0.shape[0]/8-1), np.array([np.abs(trial_wfr[j*8+k])**2. for j in range(int(trial_wfr.shape[0]/8)-1)]))\n",
    "                #plt.xlim(-100, 100)\n",
    "                #plt.ylim(0, 0.002)\n",
    "                #ax.axhline(0, c='k', alpha=0.7)\n",
    "            #plt.plot(np.arange(-trial_wfl.shape[0]/8, 0), np.array([trial_wfl[j*8:(j+1)*8].T.conj()@trial_wfl[j*8:(j+1)*8] for j in range(int(trial_wfl.shape[0]/8), 0, -1)]))\n",
    "            #plt.plot(np.arange(psi_alpha_0.shape[0]/8), np.array([psi_alpha_0[j*8:(j+1)*8,0].T.conj()@psi_alpha_0[j*8:(j+1)*8,0] for j in range(int(psi_alpha_0.shape[0]/8))]))\n",
    "            #plt.plot(np.arange(psi_alpha_0.shape[0]/8, trial_wfr.shape[0]/8+psi_alpha_0.shape[0]/8), np.array([trial_wfr[j*8:(j+1)*8].T.conj()@trial_wfr[j*8:(j+1)*8] for j in range(int(trial_wfr.shape[0]/8))]))\n",
    "            #plt.xlim(-100, 100)\n",
    "        #print(psi_alpha_0[-8:])\n",
    "        #print(wf_in_leads(q_e, L_out, Phi, 0)[-8:])\n",
    "        #print(syst.leads[1].inter_cell_hopping().T.conj()@psi_alpha_0[-8:])\n",
    "        #print(psi_alpha_0[-8:]/wf_in_leads(q_e, L_out, Phi, 0)[-8:])\n",
    "        #print(i)\n",
    "        #print(E)\n",
    "        #print(psi_alpha_0)\n",
    "        #print(q_e)\n",
    "        #print(np.abs(np.array([L_out[i,i] for i in range(len(L_out))])))\n",
    "        #print(Phi[:,3])\n",
    "    \n",
    "    #print(no_cells_rleads)\n",
    "    no_cell_runiform = int(max(no_cells_rleads)/2)\n",
    "    #print('no_cell_runiform')\n",
    "    #print(no_cell_runiform)\n",
    "    e_compare = []\n",
    "    wavefunc_lleads = []\n",
    "    no_cells_lleads = []\n",
    "    wavefunc_rleads = []\n",
    "    no_cells_rleads = []\n",
    "    wavefunc_scat = []\n",
    "    for i in range(len(e_subarray)):\n",
    "        #print(i)\n",
    "        #print(e_division[i])\n",
    "        E, psi_alpha_0, q_e, L_out, Phi = bound_state(syst, e_division[i], return_wf=True)\n",
    "        e_compare.append(E)\n",
    "        wavefunc_scat.append(psi_alpha_0)\n",
    "        trial_wfr, no_cellsr = long_wf_in_leads(q_e, L_out, Phi, lead_no=1, fixed_no_cells=no_cell_runiform, no_orb=no_orb)\n",
    "        trial_wfl, no_cellsl = long_wf_in_leads(q_e, L_out, Phi, lead_no=0, fixed_no_cells=no_cell_runiform, no_orb=no_orb)\n",
    "        no_cells_lleads.append(no_cellsl)\n",
    "        no_cells_rleads.append(no_cellsr)\n",
    "        wavefunc_lleads.append(trial_wfl)\n",
    "        wavefunc_rleads.append(trial_wfr)\n",
    "    \n",
    "    if all_out:\n",
    "        return e_compare, wavefunc_lleads, wavefunc_rleads, wavefunc_scat, no_cells_lleads, no_cells_rleads\n",
    "    else:\n",
    "        return e_compare, wavefunc_rleads, no_cells_rleads"
   ]
  },
  {
   "cell_type": "code",
   "execution_count": 18,
   "id": "ddc4c8fd-2798-4aca-801a-ba117f877e66",
   "metadata": {},
   "outputs": [],
   "source": [
    "def band_gap(L_A=3700., W=1400., a=6.0583*10, m=0.023, alpha=350., mu=0.887, U_0=0., delta=0.182, B=0., g=14.7, salt='chizhang', eta=None, phi=0.):\n",
    "    syst = make_system_mixed(L_A=L_A, W=W, a=a, m=m, alpha=alpha, mu=mu, U_0=U_0, delta=delta, B=B, g=g, phi=phi, salt='chizhang', eta=eta)\n",
    "    bands=kwant.physics.Bands(syst.leads[1])\n",
    "    momenta=np.linspace(-np.pi,np.pi,100001)\n",
    "    energies=[bands(k) for k in momenta]\n",
    "    x=np.array(energies)\n",
    "    en=(x)\n",
    "    \n",
    "    return np.min(en[:,4])"
   ]
  },
  {
   "cell_type": "markdown",
   "id": "8cbc4d93-37b3-4177-9631-0a8f69b4e12f",
   "metadata": {},
   "source": [
    "# Data generation"
   ]
  },
  {
   "cell_type": "code",
   "execution_count": null,
   "id": "db9e92e0-1ff9-49df-8c83-d58b51b4a0aa",
   "metadata": {},
   "outputs": [],
   "source": [
    "e_array6_compare, psi_array6_compare = phi_scan(B=0.05, W=100., mu=132.3363682761002+0.2, eta=0., L_A=100., a=6.0583)"
   ]
  },
  {
   "cell_type": "code",
   "execution_count": 29,
   "id": "65c1b249-d069-4c8b-b338-b40146266bc4",
   "metadata": {},
   "outputs": [
    {
     "name": "stdout",
     "output_type": "stream",
     "text": [
      "Parameters: L, t, E_plus, E_minus, eta, nu, B\n",
      "[17, 4513.29322846401, 198.78167562547094, -66.26055854182366, 0.0, 28.885991119621014, 0.05]\n",
      "Parameters: L, t, E_plus, E_minus, eta, nu, B\n",
      "[17, 4513.29322846401, 198.78167562547094, -66.26055854182366, 0.0, 28.885991119621014, 0.05]\n",
      "Parameters: L, t, E_plus, E_minus, eta, nu, B\n",
      "[17, 4513.29322846401, 198.78167562547094, -66.26055854182366, 0.0, 28.885991119621014, 0.05]\n",
      "Parameters: L, t, E_plus, E_minus, eta, nu, B\n",
      "[17, 4513.29322846401, 198.78167562547094, -66.26055854182366, 0.0, 28.885991119621014, 0.05]\n"
     ]
    },
    {
     "data": {
      "text/plain": [
       "[<matplotlib.lines.Line2D at 0x11118d670>]"
      ]
     },
     "execution_count": 29,
     "metadata": {},
     "output_type": "execute_result"
    },
    {
     "data": {
      "image/png": "[encoded data removed]",
      "text/plain": [
       "<Figure size 432x288 with 1 Axes>"
      ]
     },
     "metadata": {
      "needs_background": "light"
     },
     "output_type": "display_data"
    }
   ],
   "source": [
    "phi_plot(e_array6_compare, gap_energy1=band_gap(B=0.05, W=100., mu=132.3363682761002+0.2, eta=0., L_A=100., a=6.0583))\n",
    "plt.plot(np.linspace(0, 4*np.pi, 41), [e_array6_compare[i][ind_array[i]]/0.182 if e_array6_compare[i].size!=0 else -band_gap(B=0.05, W=100., mu=132.3363682761002+0.2, eta=0., L_A=100., a=6.0583)/0.182 for i in range(41)])"
   ]
  },
  {
   "cell_type": "code",
   "execution_count": 19,
   "id": "df0038d7-d725-473d-82df-d7dd4d3ed404",
   "metadata": {},
   "outputs": [],
   "source": [
    "import pickle\n",
    "e_array6_compare = pickle.load(open('./Istas testing/data/e_array6_compare_extrasites', 'rb'))\n",
    "psi_array6_compare = pickle.load(open('./Istas testing/data/psi_array6_compare_extrasites', 'rb'))"
   ]
  },
  {
   "cell_type": "code",
   "execution_count": 38,
   "id": "4094a038-319b-425f-a279-73962c29ccb3",
   "metadata": {},
   "outputs": [],
   "source": [
    "import pickle\n",
    "pickle.dump(e_array6_compare, open('./Istas testing/data/e_array6_compare_extrasites', 'wb'))\n",
    "pickle.dump(psi_array6_compare, open('./Istas testing/data/psi_array6_compare_extrasites', 'wb'))"
   ]
  },
  {
   "cell_type": "markdown",
   "id": "0d2a76a2-f38a-43d8-9409-d92b5adbbd28",
   "metadata": {},
   "source": [
    "# Lead wavefunc"
   ]
  },
  {
   "cell_type": "code",
   "execution_count": null,
   "id": "74c8a5b2-d791-46d4-9ee0-80d8552dd490",
   "metadata": {},
   "outputs": [],
   "source": [
    "ind_array = [0]*5+[1]*11+[0]*9+[1]*11+[0]*5\n",
    "for i in range(len(e_array6_compare)):\n",
    "    if e_array6_compare[i].size == 0:\n",
    "        continue\n",
    "    else:\n",
    "        syst = make_system_mixed(L_A=100., W=100., a=6.0583, alpha=350., U_0=0., mu=132.3363682761002+0.2, delta=0.182, B=0.05, phi=np.pi/10.*i, eta=0.)\n",
    "        istas_scan(e_array6_compare[i], syst, plot_index=ind_array[i])\n",
    "        plt.suptitle(r'$L_A=100, W=100, a=6.0583, \\mu=132.3363682761002+0.2, B=0.05, \\phi=%.2f, \\eta=0$' % (np.pi/10.*i))\n",
    "        plt.savefig('./Istas testing/subband trivial unmixed/phi_id=%s' % (i), dpi=300)"
   ]
  },
  {
   "cell_type": "code",
   "execution_count": 21,
   "id": "a81a1712-e019-4651-9941-0afd420da408",
   "metadata": {},
   "outputs": [
    {
     "name": "stdout",
     "output_type": "stream",
     "text": [
      "Parameters: L, t, E_plus, E_minus, eta, nu, B\n",
      "[17, 4513.29322846401, 198.78167562547094, -66.26055854182366, 0.0, 28.885991119621014, 0.05]\n"
     ]
    },
    {
     "data": {
      "text/plain": [
       "([-0.07157870199954901,\n",
       "  -0.04770936460385166,\n",
       "  0.047709364604170704,\n",
       "  0.07157870200182202],\n",
       " [array([-2.52346392e-02+1.10027398e-03j,  1.00451625e-02-7.70000733e-04j,\n",
       "          3.45065164e-16-3.96746688e-17j, ...,\n",
       "          9.05451513e-03+8.58173384e-05j, -1.06715828e-18+1.03128237e-20j,\n",
       "         -9.30086913e-19+2.40116325e-21j]),\n",
       "  array([-8.55453319e-03+4.63520996e-04j,  2.90451739e-02+1.43691870e-03j,\n",
       "         -1.22185438e-17+4.04567077e-17j, ...,\n",
       "         -5.36823067e-03+3.89026571e-04j,  6.50041809e-19+4.25436679e-21j,\n",
       "         -4.73526420e-19+2.48165477e-20j]),\n",
       "  array([ 1.60821913e-02-1.02219778e-03j, -4.65961833e-02-1.34019257e-03j,\n",
       "         -1.72070319e-16-8.63178289e-17j, ...,\n",
       "          1.29927445e-02-3.60292169e-04j, -1.27973772e-18+6.99911823e-21j,\n",
       "         -1.43474231e-19+2.59757507e-20j]),\n",
       "  array([-1.99514384e-02-6.93364068e-04j, -4.18182470e-02+1.06115173e-03j,\n",
       "          4.77531416e-17-1.68462757e-18j, ...,\n",
       "          3.81843773e-03-2.30891330e-04j,  4.78729587e-19-4.05746093e-21j,\n",
       "         -5.88195761e-20+3.77776632e-21j])],\n",
       " [436.0, 436.0, 436.0, 436.0])"
      ]
     },
     "execution_count": 21,
     "metadata": {},
     "output_type": "execute_result"
    },
    {
     "data": {
      "image/png": "[encoded data removed]",
      "text/plain": [
       "<Figure size 1080x1080 with 8 Axes>"
      ]
     },
     "metadata": {
      "needs_background": "light"
     },
     "output_type": "display_data"
    }
   ],
   "source": [
    "syst = make_system_mixed(L_A=100., W=100., a=6.0583, alpha=350., U_0=0., mu=132.3363682761002+0.2, delta=0.182, B=0.05, phi=np.pi, eta=0.)\n",
    "istas_scan(e_array6_compare[10], syst, plot_index=1)\n",
    "#plt.savefig('./Istas testing/wavfunc comparison 1 total', dpi=300)"
   ]
  },
  {
   "cell_type": "code",
   "execution_count": 24,
   "id": "496dfc93-38f6-4e65-9acf-f6c2b4c64d9f",
   "metadata": {},
   "outputs": [
    {
     "name": "stdout",
     "output_type": "stream",
     "text": [
      "Parameters: L, t, E_plus, E_minus, eta, nu, B\n",
      "[17, 4513.29322846401, 198.78167562547094, -66.26055854182366, 0.0, 28.885991119621014, 0.05]\n"
     ]
    },
    {
     "data": {
      "text/plain": [
       "([-0.1323783445076588, 0.13237834450812647],\n",
       " [array([-1.48705950e-02-1.17396158e-03j, -4.01967857e-03-3.48188882e-03j,\n",
       "          3.59391157e-17-3.49919273e-17j, ...,\n",
       "          4.35740060e-03-9.24990733e-04j, -1.25281695e-19-8.69231859e-20j,\n",
       "         -1.49756937e-19+2.26702318e-20j]),\n",
       "  array([-1.40253145e-02-1.59714479e-04j,  1.43093288e-02+6.58788648e-03j,\n",
       "          2.16492300e-16-4.77098984e-17j, ...,\n",
       "          2.72009671e-03+1.07763099e-03j,  2.46281186e-19+7.61884004e-20j,\n",
       "         -4.71735318e-19-1.41887547e-19j])],\n",
       " [572.0, 572.0])"
      ]
     },
     "execution_count": 24,
     "metadata": {},
     "output_type": "execute_result"
    },
    {
     "data": {
      "image/png": "[encoded data removed]",
      "text/plain": [
       "<Figure size 1080x1080 with 8 Axes>"
      ]
     },
     "metadata": {
      "needs_background": "light"
     },
     "output_type": "display_data"
    }
   ],
   "source": [
    "syst = make_system_mixed(L_A=100., W=100., a=6.0583, alpha=350., U_0=0., mu=132.3363682761002+0.2, delta=0.182, B=0.05, phi=np.pi/10., eta=0.)\n",
    "istas_scan(e_array6_compare[1], syst, plot_index=0)\n",
    "#plt.savefig('./Istas testing/wavfunc comparison 2 total', dpi=300)"
   ]
  },
  {
   "cell_type": "code",
   "execution_count": 50,
   "id": "41374714-6db7-4d99-b09f-476adc5ba31e",
   "metadata": {},
   "outputs": [],
   "source": [
    "e_trial = e_array6_compare[10][0]"
   ]
  },
  {
   "cell_type": "code",
   "execution_count": 111,
   "id": "d888ea41-4438-4823-a725-3d95cd96407e",
   "metadata": {},
   "outputs": [
    {
     "data": {
      "text/plain": [
       "(1.7219461355411447e+29+0j)"
      ]
     },
     "execution_count": 111,
     "metadata": {},
     "output_type": "execute_result"
    }
   ],
   "source": [
    "hop = syst.hamiltonian(16, 17)\n",
    "np.linalg.det(hop)"
   ]
  },
  {
   "cell_type": "code",
   "execution_count": 46,
   "id": "570d4edc-22d5-4a6c-b6f9-06e2b04d0f6e",
   "metadata": {},
   "outputs": [
    {
     "data": {
      "text/plain": [
       "array([-5.23372641e-04-1.23397217e-04j,  7.23966186e-05+1.70691789e-05j,\n",
       "        1.22219016e-17-7.91702945e-19j, -1.42592442e-17-7.18840198e-18j,\n",
       "       -3.83433804e-03-9.04033964e-04j,  4.24003658e-03+9.99686788e-04j,\n",
       "       -1.10372940e-17-1.67441987e-17j,  1.41992067e-17+2.31186525e-17j])"
      ]
     },
     "execution_count": 46,
     "metadata": {},
     "output_type": "execute_result"
    }
   ],
   "source": [
    "psi_array6_compare[10][:,0][-8:]"
   ]
  },
  {
   "cell_type": "code",
   "execution_count": 149,
   "id": "f8cc8443-27dd-4b48-a669-441a99912ccd",
   "metadata": {},
   "outputs": [
    {
     "data": {
      "text/plain": [
       "array([ 3.58642454e-05+8.45582618e-06j, -4.93949142e-04-1.16459946e-04j,\n",
       "       -2.35589842e-17-3.71685631e-17j,  5.63872368e-17+1.98259227e-17j,\n",
       "       -4.22034035e-03-9.95042945e-04j,  3.85950160e-03+9.09966857e-04j,\n",
       "       -1.99794186e-17-9.52146895e-18j, -9.71209244e-18-9.10325006e-18j])"
      ]
     },
     "execution_count": 149,
     "metadata": {},
     "output_type": "execute_result"
    }
   ],
   "source": [
    "psi_array6_compare[10][:,0][8:16]"
   ]
  },
  {
   "cell_type": "code",
   "execution_count": 150,
   "id": "bd62ef0c-05c2-4507-92e2-5b97b2721c16",
   "metadata": {},
   "outputs": [
    {
     "data": {
      "text/plain": [
       "array([-5.55630663e-06-1.75608759e-06j,  4.48220497e-04+1.41661451e-04j,\n",
       "        7.85040723e-19-1.52902682e-18j,  2.74299444e-17+3.24180685e-18j,\n",
       "       -1.30064790e-03+4.11528362e-03j,  1.20314411e-03-3.80677912e-03j,\n",
       "        1.49368966e-18-1.39254864e-18j,  1.69586584e-18+8.08334129e-19j])"
      ]
     },
     "execution_count": 150,
     "metadata": {},
     "output_type": "execute_result"
    }
   ],
   "source": [
    "psi_array6_original[10][:,0][8:16]"
   ]
  },
  {
   "cell_type": "code",
   "execution_count": 151,
   "id": "7f0c7f38-c821-43db-a362-62a9cc7a0e3d",
   "metadata": {},
   "outputs": [
    {
     "data": {
      "text/plain": [
       "array([-6.30579208 +0.47112177j, -1.07660074 +0.08043558j,\n",
       "       12.97705394-22.07057429j,  2.11160967 +0.47322342j,\n",
       "        0.07485234 +1.00187112j,  0.07399992 +0.99046173j,\n",
       "       -3.97667803-10.08187101j, -6.7516036  -2.1497564j ])"
      ]
     },
     "execution_count": 151,
     "metadata": {},
     "output_type": "execute_result"
    }
   ],
   "source": [
    "psi_array6_compare[10][:,0][8:16]/psi_array6_original[10][:,0][8:16]"
   ]
  },
  {
   "cell_type": "code",
   "execution_count": 226,
   "id": "e962e3d2-d0b7-4c69-be48-e849eb7dd554",
   "metadata": {},
   "outputs": [
    {
     "name": "stdout",
     "output_type": "stream",
     "text": [
      "here\n",
      "[-4.38470313e-03+3.30398887e-13j  6.06523259e-04-8.35469430e-14j\n",
      "  1.36311391e-16-9.01929782e-17j -2.05319862e-16+1.45774775e-16j\n",
      " -3.21232572e-02+1.99843761e-12j  3.55221121e-02-2.73687799e-12j\n",
      " -1.29696005e-16-1.35157250e-17j  4.89290553e-18-2.26942130e-17j]\n",
      "[-2.55094519e-02+1.10721949e-03j  1.00058370e-02-7.53853985e-04j\n",
      "  2.98447223e-16-3.47636515e-17j -4.64842458e-16+1.16401983e-16j\n",
      " -4.40399911e-02+1.10581622e-03j  2.06180953e-02+7.43206688e-04j\n",
      " -8.05360015e-18-1.94547982e-17j  9.90315733e-17+2.83767604e-17j]\n",
      "(0.0023124030144868702+0j)\n",
      "(0.0023128318081612922+0j)\n",
      "(0.002313317599282904+0j)\n",
      "(0.0031190450005681132+0j)\n"
     ]
    }
   ],
   "source": [
    "E, psi_alpha_0, q_e, L_out, Phi = bound_state(syst, [e_trial, e_trial], return_wf=True)\n",
    "print(psi_alpha_0[:,0][-8:])\n",
    "trial_wf = wf_in_leads(q_e, L_out, Phi, 1)\n",
    "print(trial_wf[8:,0])\n",
    "print(psi_alpha_0[:,0][-24:-16].T.conj()@psi_alpha_0[:,0][-24:-16])\n",
    "print(psi_alpha_0[:,0][-16:-8].T.conj()@psi_alpha_0[:,0][-16:-8])\n",
    "print(psi_alpha_0[:,0][-8:].T.conj()@psi_alpha_0[:,0][-8:])\n",
    "print(trial_wf[8:,0].T.conj()@trial_wf[8:,0])"
   ]
  },
  {
   "cell_type": "code",
   "execution_count": 57,
   "id": "39e4e48d-1562-491d-ad4a-99a19a8cd1a8",
   "metadata": {},
   "outputs": [
    {
     "name": "stdout",
     "output_type": "stream",
     "text": [
      "[ 0.1193633 +0.02814266j  0.1193633 +0.02814266j  0.06503288+0.03722218j\n",
      "  0.02964708+0.05605984j  0.1193633 +0.02814266j  0.1193633 +0.02814266j\n",
      "  0.09749644+0.11894324j -0.84454808+0.80776102j]\n"
     ]
    }
   ],
   "source": [
    "print(psi_array6_compare[10][:,0][-8:]/psi_alpha_0[:,0][-8:])"
   ]
  },
  {
   "cell_type": "code",
   "execution_count": 66,
   "id": "bb2837f5-09b9-42e6-ace1-6a087d8c560f",
   "metadata": {},
   "outputs": [
    {
     "name": "stdout",
     "output_type": "stream",
     "text": [
      "[-2.52346392e-02+1.10027398e-03j  1.00451625e-02-7.70000733e-04j\n",
      "  3.45065164e-16-3.96746688e-17j -4.09893888e-16+1.37380794e-16j\n",
      " -4.40408267e-02+1.11755043e-03j  2.10118286e-02+7.30215369e-04j\n",
      " -8.03576408e-18-2.28786660e-17j  1.18185633e-16+3.38273148e-17j]\n"
     ]
    }
   ],
   "source": [
    "print(trial_wf[:,0][-8:])"
   ]
  },
  {
   "cell_type": "code",
   "execution_count": 73,
   "id": "5b4a3968-c644-4fcb-a913-0b7e96e97941",
   "metadata": {},
   "outputs": [
    {
     "name": "stdout",
     "output_type": "stream",
     "text": [
      "[ 0.17732675+0.00780074j  0.05961612+0.0047297j   0.30933256-0.15872373j\n",
      "  0.76605795+0.00428999j  0.72911107+0.01888758j  1.6277114 -0.05253427j\n",
      "  1.32282447-3.78862242j -0.00882741-0.13263646j]\n"
     ]
    }
   ],
   "source": [
    "print(psi_alpha_0[:,0][-8:]/trial_wf[:,0][-8:])"
   ]
  },
  {
   "cell_type": "code",
   "execution_count": 76,
   "id": "55e52afb-77a1-4993-bc40-bcabf22eee6d",
   "metadata": {},
   "outputs": [
    {
     "name": "stdout",
     "output_type": "stream",
     "text": [
      "[-4.13819939e-03+3.14507782e-13j  3.00462914e-04-5.97030005e-14j\n",
      "  1.66412175e-16-1.05266452e-16j -1.87345410e-16+1.73306209e-16j\n",
      " -3.23340721e-02+2.01374806e-12j  3.53571013e-02-2.72660483e-12j\n",
      " -1.72784450e-16-2.44238458e-17j  5.22423509e-17-1.45615235e-17j]\n"
     ]
    }
   ],
   "source": [
    "print(psi_alpha_0[:,0][-16:-8])"
   ]
  },
  {
   "cell_type": "code",
   "execution_count": 140,
   "id": "2ccbb8b5-9883-435c-9b15-f0a1d85ace03",
   "metadata": {},
   "outputs": [
    {
     "name": "stdout",
     "output_type": "stream",
     "text": [
      "[-3.88784636e-03+2.98308995e-13j -2.45954076e-06-3.60685367e-14j\n",
      "  2.18521371e-16-1.08130797e-16j -1.78875487e-16+1.65578618e-16j\n",
      " -3.25425252e-02+2.02897554e-12j  3.51890851e-02-2.71617403e-12j\n",
      " -2.18333428e-16-2.62778715e-17j  7.11548108e-17-2.89457109e-18j]\n",
      "[-4.38470313e-03+3.30398887e-13j  6.06523259e-04-8.35469430e-14j\n",
      "  1.36311391e-16-9.01929782e-17j -2.05319862e-16+1.45774775e-16j\n",
      " -3.21232572e-02+1.99843761e-12j  3.55221121e-02-2.73687799e-12j\n",
      " -1.29696005e-16-1.35157250e-17j  4.89290553e-18-2.26942130e-17j]\n",
      "[-4240.23058125+3.33776212e-09j   410.71599256+5.94722011e-07j\n",
      " -5592.92465718-5.76510944e+02j -4284.0717881 +9.20838315e+00j\n",
      "  4573.82632472-7.82056254e-10j  4465.25960825-7.15060217e-10j\n",
      "  5698.07525379-1.19529186e+02j  5660.43532179+1.31313868e+03j]\n"
     ]
    }
   ],
   "source": [
    "print(psi_alpha_0[:,0][-24:-16])\n",
    "print(psi_alpha_0[:,0][-8:])\n",
    "print((hop@psi_alpha_0[:,0][-24:-16])/psi_alpha_0[:,0][-16:-8])"
   ]
  },
  {
   "cell_type": "code",
   "execution_count": 91,
   "id": "0ec60b50-4fb8-44ec-9bc1-72cc1e169bfd",
   "metadata": {},
   "outputs": [],
   "source": [
    "psi_array6_original = pickle.load(open('./subband transition/data/psi_array6', 'rb'))"
   ]
  },
  {
   "cell_type": "code",
   "execution_count": 101,
   "id": "0bf24602-fda9-4d6b-afa9-1b30c8dd984e",
   "metadata": {},
   "outputs": [
    {
     "name": "stdout",
     "output_type": "stream",
     "text": [
      "[-2.02311104e+00-6.39410392e-01j  1.21299482e-02+3.83370701e-03j\n",
      " -1.04261699e-14-4.00747652e-15j -1.40977964e-13-6.70932146e-15j\n",
      " -5.46771268e+00+1.72999845e+01j  5.83545134e+00-1.84635191e+01j\n",
      "  5.67812226e-15+3.07235733e-15j -7.57481312e-15+7.57993072e-16j]\n",
      "[ 4.77458020e-04+1.50902058e-04j -4.09359341e-05-1.29379264e-05j\n",
      " -1.67527235e-19+1.02549220e-18j  3.69132459e-17+4.45183312e-18j\n",
      " -1.19546521e-03+3.78248287e-03j  1.30683886e-03-4.13487200e-03j\n",
      " -2.28764408e-18+1.86770765e-19j  4.83496994e-19-2.52785072e-18j]\n"
     ]
    }
   ],
   "source": [
    "print(hop@psi_array6_original[10][:,0][-16:-8])\n",
    "print(psi_array6_original[10][:,0][-8:])"
   ]
  },
  {
   "cell_type": "code",
   "execution_count": null,
   "id": "e6cf89fb-d449-4ce8-a680-1a73a20e98e5",
   "metadata": {},
   "outputs": [],
   "source": [
    "print(q_e[0:8])\n",
    "print(L_out[0:8,0:8])\n",
    "print(Phi[0:8,0:8])"
   ]
  },
  {
   "cell_type": "code",
   "execution_count": 143,
   "id": "ba68304e-ccea-4a2f-a66c-34ac08e40ea4",
   "metadata": {},
   "outputs": [
    {
     "name": "stdout",
     "output_type": "stream",
     "text": [
      "[ 1.25016006e-02+7.05367917e-04j -1.90656449e-02-1.14927888e-03j\n",
      "  1.30420162e-16-9.10224388e-17j  4.54245087e-16+8.37262356e-17j\n",
      " -2.05361223e-02+8.02209834e-04j  3.95099785e-02+1.07884498e-03j\n",
      " -1.59303353e-17+3.34293039e-17j -2.76685457e-16-5.99532544e-17j]\n",
      "[ 1.24831341e-02+6.88698430e-04j -1.93571380e-02-1.15516789e-03j\n",
      "  1.03168259e-16-7.69086790e-17j  4.03769127e-16+7.37486650e-17j\n",
      " -2.01563277e-02+8.14413552e-04j  3.95469875e-02+1.06623143e-03j\n",
      " -1.48110779e-17+2.78389118e-17j -2.32876802e-16-5.07010908e-17j]\n",
      "[-5.69741195e+01-3.21673030e+00j  8.56877249e+01+5.16665735e+00j\n",
      " -5.75503116e-13+4.13229472e-13j -2.05390859e-12-3.75251779e-13j\n",
      " -9.38268268e+01+3.58944470e+00j  1.77726912e+02+4.89231636e+00j\n",
      " -6.39059409e-14+1.52608060e-13j -1.24922276e-12-2.69620979e-13j]\n"
     ]
    }
   ],
   "source": [
    "print(wf_in_leads(q_e, L_out, Phi, 1)[0:8,0])\n",
    "print(wf_in_leads(q_e, L_out, Phi, 2)[0:8,0])\n",
    "print(hop@wf_in_leads(q_e, L_out, Phi, 1)[0:8,0])"
   ]
  },
  {
   "cell_type": "code",
   "execution_count": 137,
   "id": "0a6290ed-4ccc-418b-b845-69378efd8a27",
   "metadata": {},
   "outputs": [
    {
     "name": "stdout",
     "output_type": "stream",
     "text": [
      "[ 1.25016006e-02+7.05367917e-04j -1.90656449e-02-1.14927888e-03j\n",
      "  1.30420162e-16-9.10224388e-17j  4.54245087e-16+8.37262356e-17j\n",
      " -2.05361223e-02+8.02209834e-04j  3.95099785e-02+1.07884498e-03j\n",
      " -1.59303353e-17+3.34293039e-17j -2.76685457e-16-5.99532544e-17j]\n"
     ]
    }
   ],
   "source": [
    "print(wf_in_leads(q_e[0:8], L_out[0:8,0:8], Phi[0:8,0:8], 1)[:,0])"
   ]
  },
  {
   "cell_type": "code",
   "execution_count": 136,
   "id": "99479dc3-d4f0-44df-b9fb-3f5323ace6ad",
   "metadata": {},
   "outputs": [
    {
     "name": "stdout",
     "output_type": "stream",
     "text": [
      "[-5.69741195e+01-3.21673030e+00j  8.56877249e+01+5.16665735e+00j\n",
      " -5.75503116e-13+4.13229472e-13j -2.05390859e-12-3.75251779e-13j\n",
      " -9.38268268e+01+3.58944470e+00j  1.77726912e+02+4.89231636e+00j\n",
      " -6.39059409e-14+1.52608060e-13j -1.24922276e-12-2.69620979e-13j]\n"
     ]
    }
   ],
   "source": [
    "print(syst.leads[1].inter_cell_hopping()@wf_in_leads(q_e, L_out, Phi, 1)[0:8,0])"
   ]
  },
  {
   "cell_type": "code",
   "execution_count": 146,
   "id": "963b3f42-bf3e-47ad-bf87-368c12cdbcc9",
   "metadata": {},
   "outputs": [
    {
     "name": "stdout",
     "output_type": "stream",
     "text": [
      "0.00438470313\n",
      "0.012521483995926891\n"
     ]
    }
   ],
   "source": [
    "print(np.abs(-4.38470313e-03+3.30398887e-13j))\n",
    "print(np.abs(1.25016006e-02+7.05367917e-04j))"
   ]
  },
  {
   "cell_type": "markdown",
   "id": "e1cf3bdc-3250-4d7d-8863-c04186614eec",
   "metadata": {},
   "source": [
    "# Getting things through first to see what the signal from what we have so far is like"
   ]
  },
  {
   "cell_type": "code",
   "execution_count": 37,
   "id": "bafe45b5-2d45-44f8-a1f6-93bd91c34478",
   "metadata": {},
   "outputs": [],
   "source": [
    "## realistic parameters InAs with Al shell\n",
    "# Energy unit: meV, length unit: A\n",
    "#g = 14.7 #https://doi.org/10.1016/0375-9601(67)90541-5\n",
    "\n",
    "def differentiated_syst(L, W=1400., a=6.0583, m=0.023, alpha=350., mu=0., U_0=0., delta=0.182, B=0., phi=0., g=14.7, salt='chizhang', eta=None):\n",
    "    \n",
    "    #a = 6.0583 #https://en.wikipedia.org/wiki/Indium_arsenide\n",
    "    #L = int(np.round(L_A/a))\n",
    "    t = (const.hbar**2.)/(2.*m*const.m_e*(a*1e-10)**2.)/const.e*1000.\n",
    "    E_plus = (6.*const.hbar**2.)/(m*const.m_e*(W*1e-10)**2.)/const.e*1000.\n",
    "    E_minus = (-2.*const.hbar**2.)/(m*const.m_e*(W*1e-10)**2.)/const.e*1000.\n",
    "    if eta is None:\n",
    "        eta = np.sqrt(2)*alpha/W\n",
    "    else:\n",
    "        eta = eta\n",
    "    nu = alpha/(2.*a)\n",
    "    #B = g*mu_B*B_Tesla/2./const.e*1000.\n",
    "    print('Parameters: L, t, E_plus, E_minus, eta, nu, B')\n",
    "    print([L, t, E_plus, E_minus, eta, nu, B])\n",
    "    lat = kwant.lattice.chain()\n",
    "    syst = kwant.Builder()\n",
    "    \n",
    "    # Pauli matrices\n",
    "    t_x = np.kron(np.kron(np.array([[0, 1], [1, 0]]), np.eye(2)), np.eye(2)) # e-h subspace\n",
    "    t_y = np.kron(np.kron(np.array([[0, -1j], [1j, 0]]), np.eye(2)), np.eye(2))\n",
    "    t_z = np.kron(np.kron(np.array([[1, 0], [0, -1]]), np.eye(2)), np.eye(2))\n",
    "    sigma_x = np.kron(np.kron(np.eye(2), np.array([[0, 1], [1, 0]])), np.eye(2)) # subband subspace\n",
    "    sigma_y = np.kron(np.kron(np.eye(2), np.array([[0, -1j], [1j, 0]])), np.eye(2))\n",
    "    sigma_z = np.kron(np.kron(np.eye(2), np.array([[1, 0], [0, -1]])), np.eye(2))\n",
    "    s_x = np.kron(np.kron(np.eye(2), np.eye(2)), np.array([[0, 1], [1, 0]])) # spin subspace\n",
    "    s_y = np.kron(np.kron(np.eye(2), np.eye(2)), np.array([[0, -1j], [1j, 0]]))\n",
    "    s_z = np.kron(np.kron(np.eye(2), np.eye(2)), np.array([[1, 0], [0, -1]]))\n",
    "    \n",
    "    #### Define onsite and hopping ####\n",
    "    '''def onsite(site):\n",
    "        return (2.*t-mu-U_0*kwant.digest.gauss(repr(site), repr(salt)))*tau_z + B*tau_z@sigma_x'''\n",
    "    \n",
    "    #### Define the scattering region. ####\n",
    "    ham = (2.*t+E_plus-mu)*t_z + E_minus*sigma_z@t_z + eta*s_x@sigma_y@t_z + B*s_x\n",
    "    hop = -t*t_z + 1j*nu*s_y@t_z\n",
    "    #ham_scl = delta*(np.cos(-phi/2.)*t_x@s_y@sigma_y - np.sin(-phi/2.)*t_y@s_y@sigma_y)\n",
    "    #ham_scr = delta*(np.cos(phi/2.)*t_x@s_y@sigma_y - np.sin(phi/2.)*t_y@s_y@sigma_y)\n",
    "    ham_scl = delta*(np.cos(0.)*t_x - np.sin(0.)*t_y)\n",
    "    ham_scr = delta*(-np.sin(phi)*t_x - np.cos(phi)*t_y)\n",
    "    #ham_scl = delta*spi.linalg.expm(-1j*phi*t_z/2.)@t_y@s_y\n",
    "    #ham_scr = delta*spi.linalg.expm(1j*phi*t_z/2.)@t_y@s_y\n",
    "    \n",
    "    syst[(lat(x) for x in range(0, L))] = ham+ham_scr\n",
    "    #syst[(lat(-1))] = ham+ham_scl\n",
    "    #syst[(lat(L))] = ham+ham_scr\n",
    "    #syst[(lat(int(np.round(L/2.))))] = ham-U_0*t_z\n",
    "    syst[((lat(x), lat(x+1)) for x in range(0, L-1))] = hop\n",
    "    \n",
    "    '''#### Define callable methods ####\n",
    "    def plot_mu():\n",
    "        site_array = np.arange(0, W+2)\n",
    "        mu_array.append(mu)\n",
    "        plt.plot(site_array, mu_array)\n",
    "        plt.xlabel('sites')\n",
    "        plt.ylabel(r'$\\mu$')'''\n",
    "        \n",
    "    \n",
    "    '''#### Define the leads. ####\n",
    "    sym_left = kwant.TranslationalSymmetry([-1])\n",
    "    lead0 = kwant.Builder(sym_left)\n",
    "    lead0[(lat(-2))] = ham+ham_scl\n",
    "    lead0[lat.neighbors()] = hop\n",
    "    sym_right = kwant.TranslationalSymmetry([1])\n",
    "    lead1 = kwant.Builder(sym_right)\n",
    "    lead1[(lat(L+1))] =  ham+ham_scr\n",
    "    lead1[lat.neighbors()] = hop\n",
    "\n",
    "    #### Attach the leads and return the system. ####\n",
    "    syst.attach_lead(lead0)\n",
    "    syst.attach_lead(lead1)'''\n",
    "\n",
    "    return syst.finalized()"
   ]
  },
  {
   "cell_type": "code",
   "execution_count": 38,
   "id": "ebdbdf25-6987-4360-b4fc-93dc7adbdd7a",
   "metadata": {},
   "outputs": [
    {
     "name": "stdout",
     "output_type": "stream",
     "text": [
      "Parameters: L, t, E_plus, E_minus, eta, nu, B\n",
      "[10, 4513.29322846401, 1.0141922225789335, -0.3380640741929778, 0.3535533905932738, 28.885991119621014, 0.0]\n"
     ]
    },
    {
     "data": {
      "image/png": "[encoded data removed]",
      "text/plain": [
       "<Figure size 432x288 with 1 Axes>"
      ]
     },
     "metadata": {
      "needs_background": "light"
     },
     "output_type": "display_data"
    },
    {
     "data": {
      "image/png": "[encoded data removed]",
      "text/plain": [
       "<Figure size 432x288 with 1 Axes>"
      ]
     },
     "execution_count": 38,
     "metadata": {},
     "output_type": "execute_result"
    }
   ],
   "source": [
    "kwant.plot(differentiated_syst(L=10))"
   ]
  },
  {
   "cell_type": "code",
   "execution_count": 39,
   "id": "94ea5990-fc6e-44c2-974d-c0d4b122d5b8",
   "metadata": {},
   "outputs": [
    {
     "name": "stdout",
     "output_type": "stream",
     "text": [
      "Parameters: L, t, E_plus, E_minus, eta, nu, B\n",
      "[10, 4513.29322846401, 1.0141922225789335, -0.3380640741929778, 0.3535533905932738, 28.885991119621014, 0.0]\n"
     ]
    },
    {
     "data": {
      "text/plain": [
       "<matplotlib.colorbar.Colorbar at 0x16387d4c0>"
      ]
     },
     "execution_count": 39,
     "metadata": {},
     "output_type": "execute_result"
    },
    {
     "data": {
      "image/png": "[encoded data removed]",
      "text/plain": [
       "<Figure size 1080x1080 with 4 Axes>"
      ]
     },
     "metadata": {
      "needs_background": "light"
     },
     "output_type": "display_data"
    }
   ],
   "source": [
    "syst = differentiated_syst(L=10, phi=0.)\n",
    "ham_bdg = syst.hamiltonian_submatrix()\n",
    "\n",
    "norm1 = colors.TwoSlopeNorm(vcenter=0)\n",
    "norm2 = colors.TwoSlopeNorm(vcenter=0)\n",
    "\n",
    "fig, ((ax1, ax2)) = plt.subplots(1, 2, figsize=(15,15))\n",
    "im1 = ax1.imshow(np.real(ham_bdg), cmap='bwr', interpolation='none', norm=norm1)\n",
    "fig.colorbar(im1, ax=ax1)\n",
    "im2 = ax2.imshow(np.imag(ham_bdg), cmap='bwr', interpolation='none', norm=norm2)\n",
    "fig.colorbar(im2, ax=ax2)"
   ]
  },
  {
   "cell_type": "code",
   "execution_count": 324,
   "id": "70fad771-5360-4ef1-8b1e-d1cf5d00a380",
   "metadata": {},
   "outputs": [],
   "source": [
    "def M_vs_phi(e_array, L_A=100., W=100., a=6.0583, alpha=350., U_0=0., mu=132.3363682761002+0.2, delta=0.182, B=0.05, eta=0.):\n",
    "    M_array = []\n",
    "    empty_ind_array = []\n",
    "    for phi in np.linspace(0, 4*np.pi, 41):\n",
    "        if e_array[int(np.around(10*phi/np.pi))].size != 0:\n",
    "            print(phi)\n",
    "            print(int(np.around(10*phi/np.pi)))\n",
    "            syst = make_system_mixed(L_A=L_A, W=W, a=a, alpha=alpha, U_0=U_0, mu=mu, delta=delta, B=B, phi=phi, eta=eta)\n",
    "            e_play, wfr_play, n_cells_play = istas_scan(e_array[int(np.around(10*phi/np.pi))], syst)\n",
    "            e_play1 = e_play[int(len(e_play)/2-1)]\n",
    "            wfr_play1 = wfr_play[int(len(e_play)/2-1)]\n",
    "            n_cells_play1 = int(n_cells_play[int(len(e_play)/2-1)])\n",
    "            e_play2 = e_play[int(len(e_play)/2)]\n",
    "            wfr_play2 = wfr_play[int(len(e_play)/2)]\n",
    "            n_cells_play2 = int(n_cells_play[int(len(e_play)/2)])\n",
    "            syst_prime = differentiated_syst(int(n_cells_play1/2), W=W, a=a, alpha=alpha, U_0=U_0, mu=mu, delta=delta, B=B, phi=phi, eta=eta)\n",
    "            M_array.append(wfr_play1.T.conj()@syst_prime.hamiltonian_submatrix()@wfr_play2)\n",
    "        else:\n",
    "            M_array.append(0)\n",
    "            empty_ind_array.append(int(10*phi/np.pi))\n",
    "    return np.array(M_array), empty_ind_array"
   ]
  },
  {
   "cell_type": "code",
   "execution_count": 323,
   "id": "3a3a4c09-080a-4633-bdd6-5ea208cc61f5",
   "metadata": {},
   "outputs": [
    {
     "data": {
      "text/plain": [
       "11"
      ]
     },
     "execution_count": 323,
     "metadata": {},
     "output_type": "execute_result"
    }
   ],
   "source": [
    "int(np.around(10*3.4557519189487724/np.pi))"
   ]
  },
  {
   "cell_type": "code",
   "execution_count": 315,
   "id": "ea03ff69-a4fd-4c4e-85f3-0259dd1baf91",
   "metadata": {},
   "outputs": [
    {
     "data": {
      "text/plain": [
       "array([ 0.        ,  0.31415927,  0.62831853,  0.9424778 ,  1.25663706,\n",
       "        1.57079633,  1.88495559,  2.19911486,  2.51327412,  2.82743339,\n",
       "        3.14159265,  3.45575192,  3.76991118,  4.08407045,  4.39822972,\n",
       "        4.71238898,  5.02654825,  5.34070751,  5.65486678,  5.96902604,\n",
       "        6.28318531,  6.59734457,  6.91150384,  7.2256631 ,  7.53982237,\n",
       "        7.85398163,  8.1681409 ,  8.48230016,  8.79645943,  9.1106187 ,\n",
       "        9.42477796,  9.73893723, 10.05309649, 10.36725576, 10.68141502,\n",
       "       10.99557429, 11.30973355, 11.62389282, 11.93805208, 12.25221135,\n",
       "       12.56637061])"
      ]
     },
     "execution_count": 315,
     "metadata": {},
     "output_type": "execute_result"
    }
   ],
   "source": [
    "np.linspace(0, 4*np.pi, 41)"
   ]
  },
  {
   "cell_type": "code",
   "execution_count": 325,
   "id": "70d5ece4-c9be-4baa-960f-8ec30fe8fc94",
   "metadata": {},
   "outputs": [
    {
     "name": "stdout",
     "output_type": "stream",
     "text": [
      "0.3141592653589793\n",
      "1\n",
      "Parameters: L, t, E_plus, E_minus, eta, nu, B\n",
      "[17, 4513.29322846401, 198.78167562547094, -66.26055854182366, 0.0, 28.885991119621014, 0.05]\n",
      "Parameters: L, t, E_plus, E_minus, eta, nu, B\n",
      "[1141, 4513.29322846401, 198.78167562547094, -66.26055854182366, 0.0, 28.885991119621014, 0.05]\n",
      "0.6283185307179586\n",
      "2\n",
      "Parameters: L, t, E_plus, E_minus, eta, nu, B\n",
      "[17, 4513.29322846401, 198.78167562547094, -66.26055854182366, 0.0, 28.885991119621014, 0.05]\n",
      "Parameters: L, t, E_plus, E_minus, eta, nu, B\n",
      "[1140, 4513.29322846401, 198.78167562547094, -66.26055854182366, 0.0, 28.885991119621014, 0.05]\n",
      "0.9424777960769379\n",
      "3\n",
      "Parameters: L, t, E_plus, E_minus, eta, nu, B\n",
      "[17, 4513.29322846401, 198.78167562547094, -66.26055854182366, 0.0, 28.885991119621014, 0.05]\n",
      "Parameters: L, t, E_plus, E_minus, eta, nu, B\n",
      "[1153, 4513.29322846401, 198.78167562547094, -66.26055854182366, 0.0, 28.885991119621014, 0.05]\n",
      "1.2566370614359172\n",
      "4\n",
      "Parameters: L, t, E_plus, E_minus, eta, nu, B\n",
      "[17, 4513.29322846401, 198.78167562547094, -66.26055854182366, 0.0, 28.885991119621014, 0.05]\n",
      "Parameters: L, t, E_plus, E_minus, eta, nu, B\n",
      "[1046, 4513.29322846401, 198.78167562547094, -66.26055854182366, 0.0, 28.885991119621014, 0.05]\n",
      "1.5707963267948966\n",
      "5\n",
      "Parameters: L, t, E_plus, E_minus, eta, nu, B\n",
      "[17, 4513.29322846401, 198.78167562547094, -66.26055854182366, 0.0, 28.885991119621014, 0.05]\n",
      "Parameters: L, t, E_plus, E_minus, eta, nu, B\n",
      "[1159, 4513.29322846401, 198.78167562547094, -66.26055854182366, 0.0, 28.885991119621014, 0.05]\n",
      "1.8849555921538759\n",
      "6\n",
      "Parameters: L, t, E_plus, E_minus, eta, nu, B\n",
      "[17, 4513.29322846401, 198.78167562547094, -66.26055854182366, 0.0, 28.885991119621014, 0.05]\n",
      "Parameters: L, t, E_plus, E_minus, eta, nu, B\n",
      "[1091, 4513.29322846401, 198.78167562547094, -66.26055854182366, 0.0, 28.885991119621014, 0.05]\n",
      "2.199114857512855\n",
      "7\n",
      "Parameters: L, t, E_plus, E_minus, eta, nu, B\n",
      "[17, 4513.29322846401, 198.78167562547094, -66.26055854182366, 0.0, 28.885991119621014, 0.05]\n",
      "Parameters: L, t, E_plus, E_minus, eta, nu, B\n",
      "[931, 4513.29322846401, 198.78167562547094, -66.26055854182366, 0.0, 28.885991119621014, 0.05]\n",
      "2.5132741228718345\n",
      "8\n",
      "Parameters: L, t, E_plus, E_minus, eta, nu, B\n",
      "[17, 4513.29322846401, 198.78167562547094, -66.26055854182366, 0.0, 28.885991119621014, 0.05]\n",
      "Parameters: L, t, E_plus, E_minus, eta, nu, B\n",
      "[824, 4513.29322846401, 198.78167562547094, -66.26055854182366, 0.0, 28.885991119621014, 0.05]\n",
      "2.827433388230814\n",
      "9\n",
      "Parameters: L, t, E_plus, E_minus, eta, nu, B\n",
      "[17, 4513.29322846401, 198.78167562547094, -66.26055854182366, 0.0, 28.885991119621014, 0.05]\n",
      "Parameters: L, t, E_plus, E_minus, eta, nu, B\n",
      "[860, 4513.29322846401, 198.78167562547094, -66.26055854182366, 0.0, 28.885991119621014, 0.05]\n",
      "3.141592653589793\n",
      "10\n",
      "Parameters: L, t, E_plus, E_minus, eta, nu, B\n",
      "[17, 4513.29322846401, 198.78167562547094, -66.26055854182366, 0.0, 28.885991119621014, 0.05]\n",
      "Parameters: L, t, E_plus, E_minus, eta, nu, B\n",
      "[871, 4513.29322846401, 198.78167562547094, -66.26055854182366, 0.0, 28.885991119621014, 0.05]\n",
      "3.4557519189487724\n",
      "11\n",
      "Parameters: L, t, E_plus, E_minus, eta, nu, B\n",
      "[17, 4513.29322846401, 198.78167562547094, -66.26055854182366, 0.0, 28.885991119621014, 0.05]\n",
      "Parameters: L, t, E_plus, E_minus, eta, nu, B\n",
      "[814, 4513.29322846401, 198.78167562547094, -66.26055854182366, 0.0, 28.885991119621014, 0.05]\n",
      "3.7699111843077517\n",
      "12\n",
      "Parameters: L, t, E_plus, E_minus, eta, nu, B\n",
      "[17, 4513.29322846401, 198.78167562547094, -66.26055854182366, 0.0, 28.885991119621014, 0.05]\n",
      "Parameters: L, t, E_plus, E_minus, eta, nu, B\n",
      "[837, 4513.29322846401, 198.78167562547094, -66.26055854182366, 0.0, 28.885991119621014, 0.05]\n",
      "4.084070449666731\n",
      "13\n",
      "Parameters: L, t, E_plus, E_minus, eta, nu, B\n",
      "[17, 4513.29322846401, 198.78167562547094, -66.26055854182366, 0.0, 28.885991119621014, 0.05]\n",
      "Parameters: L, t, E_plus, E_minus, eta, nu, B\n",
      "[931, 4513.29322846401, 198.78167562547094, -66.26055854182366, 0.0, 28.885991119621014, 0.05]\n",
      "4.39822971502571\n",
      "14\n",
      "Parameters: L, t, E_plus, E_minus, eta, nu, B\n",
      "[17, 4513.29322846401, 198.78167562547094, -66.26055854182366, 0.0, 28.885991119621014, 0.05]\n",
      "Parameters: L, t, E_plus, E_minus, eta, nu, B\n",
      "[1016, 4513.29322846401, 198.78167562547094, -66.26055854182366, 0.0, 28.885991119621014, 0.05]\n",
      "4.71238898038469\n",
      "15\n",
      "Parameters: L, t, E_plus, E_minus, eta, nu, B\n",
      "[17, 4513.29322846401, 198.78167562547094, -66.26055854182366, 0.0, 28.885991119621014, 0.05]\n",
      "Parameters: L, t, E_plus, E_minus, eta, nu, B\n",
      "[1344, 4513.29322846401, 198.78167562547094, -66.26055854182366, 0.0, 28.885991119621014, 0.05]\n",
      "5.026548245743669\n",
      "16\n",
      "Parameters: L, t, E_plus, E_minus, eta, nu, B\n",
      "[17, 4513.29322846401, 198.78167562547094, -66.26055854182366, 0.0, 28.885991119621014, 0.05]\n",
      "Parameters: L, t, E_plus, E_minus, eta, nu, B\n",
      "[1092, 4513.29322846401, 198.78167562547094, -66.26055854182366, 0.0, 28.885991119621014, 0.05]\n",
      "5.340707511102648\n",
      "17\n",
      "Parameters: L, t, E_plus, E_minus, eta, nu, B\n",
      "[17, 4513.29322846401, 198.78167562547094, -66.26055854182366, 0.0, 28.885991119621014, 0.05]\n",
      "Parameters: L, t, E_plus, E_minus, eta, nu, B\n",
      "[1510, 4513.29322846401, 198.78167562547094, -66.26055854182366, 0.0, 28.885991119621014, 0.05]\n",
      "5.654866776461628\n",
      "18\n",
      "Parameters: L, t, E_plus, E_minus, eta, nu, B\n",
      "[17, 4513.29322846401, 198.78167562547094, -66.26055854182366, 0.0, 28.885991119621014, 0.05]\n",
      "Parameters: L, t, E_plus, E_minus, eta, nu, B\n",
      "[2306, 4513.29322846401, 198.78167562547094, -66.26055854182366, 0.0, 28.885991119621014, 0.05]\n",
      "5.969026041820607\n",
      "19\n",
      "Parameters: L, t, E_plus, E_minus, eta, nu, B\n",
      "[17, 4513.29322846401, 198.78167562547094, -66.26055854182366, 0.0, 28.885991119621014, 0.05]\n",
      "Parameters: L, t, E_plus, E_minus, eta, nu, B\n",
      "[1142, 4513.29322846401, 198.78167562547094, -66.26055854182366, 0.0, 28.885991119621014, 0.05]\n",
      "6.5973445725385655\n",
      "21\n",
      "Parameters: L, t, E_plus, E_minus, eta, nu, B\n",
      "[17, 4513.29322846401, 198.78167562547094, -66.26055854182366, 0.0, 28.885991119621014, 0.05]\n",
      "Parameters: L, t, E_plus, E_minus, eta, nu, B\n",
      "[1130, 4513.29322846401, 198.78167562547094, -66.26055854182366, 0.0, 28.885991119621014, 0.05]\n",
      "6.911503837897545\n",
      "22\n",
      "Parameters: L, t, E_plus, E_minus, eta, nu, B\n",
      "[17, 4513.29322846401, 198.78167562547094, -66.26055854182366, 0.0, 28.885991119621014, 0.05]\n",
      "Parameters: L, t, E_plus, E_minus, eta, nu, B\n",
      "[1099, 4513.29322846401, 198.78167562547094, -66.26055854182366, 0.0, 28.885991119621014, 0.05]\n",
      "7.225663103256524\n",
      "23\n",
      "Parameters: L, t, E_plus, E_minus, eta, nu, B\n",
      "[17, 4513.29322846401, 198.78167562547094, -66.26055854182366, 0.0, 28.885991119621014, 0.05]\n",
      "Parameters: L, t, E_plus, E_minus, eta, nu, B\n",
      "[1094, 4513.29322846401, 198.78167562547094, -66.26055854182366, 0.0, 28.885991119621014, 0.05]\n",
      "7.5398223686155035\n",
      "24\n",
      "Parameters: L, t, E_plus, E_minus, eta, nu, B\n",
      "[17, 4513.29322846401, 198.78167562547094, -66.26055854182366, 0.0, 28.885991119621014, 0.05]\n",
      "Parameters: L, t, E_plus, E_minus, eta, nu, B\n",
      "[1046, 4513.29322846401, 198.78167562547094, -66.26055854182366, 0.0, 28.885991119621014, 0.05]\n",
      "7.853981633974483\n",
      "25\n",
      "Parameters: L, t, E_plus, E_minus, eta, nu, B\n",
      "[17, 4513.29322846401, 198.78167562547094, -66.26055854182366, 0.0, 28.885991119621014, 0.05]\n",
      "Parameters: L, t, E_plus, E_minus, eta, nu, B\n",
      "[1159, 4513.29322846401, 198.78167562547094, -66.26055854182366, 0.0, 28.885991119621014, 0.05]\n",
      "8.168140899333462\n",
      "26\n",
      "Parameters: L, t, E_plus, E_minus, eta, nu, B\n",
      "[17, 4513.29322846401, 198.78167562547094, -66.26055854182366, 0.0, 28.885991119621014, 0.05]\n",
      "Parameters: L, t, E_plus, E_minus, eta, nu, B\n",
      "[1060, 4513.29322846401, 198.78167562547094, -66.26055854182366, 0.0, 28.885991119621014, 0.05]\n",
      "8.482300164692441\n",
      "27\n",
      "Parameters: L, t, E_plus, E_minus, eta, nu, B\n",
      "[17, 4513.29322846401, 198.78167562547094, -66.26055854182366, 0.0, 28.885991119621014, 0.05]\n",
      "Parameters: L, t, E_plus, E_minus, eta, nu, B\n",
      "[941, 4513.29322846401, 198.78167562547094, -66.26055854182366, 0.0, 28.885991119621014, 0.05]\n",
      "8.79645943005142\n",
      "28\n",
      "Parameters: L, t, E_plus, E_minus, eta, nu, B\n",
      "[17, 4513.29322846401, 198.78167562547094, -66.26055854182366, 0.0, 28.885991119621014, 0.05]\n",
      "Parameters: L, t, E_plus, E_minus, eta, nu, B\n",
      "[828, 4513.29322846401, 198.78167562547094, -66.26055854182366, 0.0, 28.885991119621014, 0.05]\n",
      "9.1106186954104\n",
      "29\n",
      "Parameters: L, t, E_plus, E_minus, eta, nu, B\n",
      "[17, 4513.29322846401, 198.78167562547094, -66.26055854182366, 0.0, 28.885991119621014, 0.05]\n",
      "Parameters: L, t, E_plus, E_minus, eta, nu, B\n",
      "[814, 4513.29322846401, 198.78167562547094, -66.26055854182366, 0.0, 28.885991119621014, 0.05]\n",
      "9.42477796076938\n",
      "30\n",
      "Parameters: L, t, E_plus, E_minus, eta, nu, B\n",
      "[17, 4513.29322846401, 198.78167562547094, -66.26055854182366, 0.0, 28.885991119621014, 0.05]\n",
      "Parameters: L, t, E_plus, E_minus, eta, nu, B\n",
      "[871, 4513.29322846401, 198.78167562547094, -66.26055854182366, 0.0, 28.885991119621014, 0.05]\n",
      "9.738937226128359\n",
      "31\n",
      "Parameters: L, t, E_plus, E_minus, eta, nu, B\n",
      "[17, 4513.29322846401, 198.78167562547094, -66.26055854182366, 0.0, 28.885991119621014, 0.05]\n",
      "Parameters: L, t, E_plus, E_minus, eta, nu, B\n",
      "[858, 4513.29322846401, 198.78167562547094, -66.26055854182366, 0.0, 28.885991119621014, 0.05]\n",
      "10.053096491487338\n",
      "32\n",
      "Parameters: L, t, E_plus, E_minus, eta, nu, B\n",
      "[17, 4513.29322846401, 198.78167562547094, -66.26055854182366, 0.0, 28.885991119621014, 0.05]\n",
      "Parameters: L, t, E_plus, E_minus, eta, nu, B\n",
      "[834, 4513.29322846401, 198.78167562547094, -66.26055854182366, 0.0, 28.885991119621014, 0.05]\n",
      "10.367255756846317\n",
      "33\n",
      "Parameters: L, t, E_plus, E_minus, eta, nu, B\n",
      "[17, 4513.29322846401, 198.78167562547094, -66.26055854182366, 0.0, 28.885991119621014, 0.05]\n",
      "Parameters: L, t, E_plus, E_minus, eta, nu, B\n",
      "[940, 4513.29322846401, 198.78167562547094, -66.26055854182366, 0.0, 28.885991119621014, 0.05]\n",
      "10.681415022205297\n",
      "34\n",
      "Parameters: L, t, E_plus, E_minus, eta, nu, B\n",
      "[17, 4513.29322846401, 198.78167562547094, -66.26055854182366, 0.0, 28.885991119621014, 0.05]\n",
      "Parameters: L, t, E_plus, E_minus, eta, nu, B\n",
      "[1060, 4513.29322846401, 198.78167562547094, -66.26055854182366, 0.0, 28.885991119621014, 0.05]\n",
      "10.995574287564276\n",
      "35\n",
      "Parameters: L, t, E_plus, E_minus, eta, nu, B\n",
      "[17, 4513.29322846401, 198.78167562547094, -66.26055854182366, 0.0, 28.885991119621014, 0.05]\n",
      "Parameters: L, t, E_plus, E_minus, eta, nu, B\n",
      "[1159, 4513.29322846401, 198.78167562547094, -66.26055854182366, 0.0, 28.885991119621014, 0.05]\n",
      "11.309733552923255\n",
      "36\n",
      "Parameters: L, t, E_plus, E_minus, eta, nu, B\n",
      "[17, 4513.29322846401, 198.78167562547094, -66.26055854182366, 0.0, 28.885991119621014, 0.05]\n",
      "Parameters: L, t, E_plus, E_minus, eta, nu, B\n",
      "[1092, 4513.29322846401, 198.78167562547094, -66.26055854182366, 0.0, 28.885991119621014, 0.05]\n",
      "11.623892818282235\n",
      "37\n",
      "Parameters: L, t, E_plus, E_minus, eta, nu, B\n",
      "[17, 4513.29322846401, 198.78167562547094, -66.26055854182366, 0.0, 28.885991119621014, 0.05]\n",
      "Parameters: L, t, E_plus, E_minus, eta, nu, B\n",
      "[1280, 4513.29322846401, 198.78167562547094, -66.26055854182366, 0.0, 28.885991119621014, 0.05]\n",
      "11.938052083641214\n",
      "38\n",
      "Parameters: L, t, E_plus, E_minus, eta, nu, B\n",
      "[17, 4513.29322846401, 198.78167562547094, -66.26055854182366, 0.0, 28.885991119621014, 0.05]\n",
      "Parameters: L, t, E_plus, E_minus, eta, nu, B\n",
      "[1299, 4513.29322846401, 198.78167562547094, -66.26055854182366, 0.0, 28.885991119621014, 0.05]\n",
      "12.252211349000193\n",
      "39\n",
      "Parameters: L, t, E_plus, E_minus, eta, nu, B\n",
      "[17, 4513.29322846401, 198.78167562547094, -66.26055854182366, 0.0, 28.885991119621014, 0.05]\n",
      "Parameters: L, t, E_plus, E_minus, eta, nu, B\n",
      "[1131, 4513.29322846401, 198.78167562547094, -66.26055854182366, 0.0, 28.885991119621014, 0.05]\n"
     ]
    }
   ],
   "source": [
    "M_array, empty_ind_array = M_vs_phi(e_array6_compare)"
   ]
  },
  {
   "cell_type": "code",
   "execution_count": 331,
   "id": "e0aa51db-1657-4af2-8138-7fca6b42bf5e",
   "metadata": {},
   "outputs": [
    {
     "data": {
      "text/plain": [
       "Text(0, 0.5, '$M^2$')"
      ]
     },
     "execution_count": 331,
     "metadata": {},
     "output_type": "execute_result"
    },
    {
     "data": {
      "image/png": "[encoded data removed]",
      "text/plain": [
       "<Figure size 432x288 with 1 Axes>"
      ]
     },
     "metadata": {
      "needs_background": "light"
     },
     "output_type": "display_data"
    }
   ],
   "source": [
    "plt.plot(np.linspace(0, 4*np.pi, 41), np.abs(M_array)**2.)\n",
    "plt.xlabel(r'$\\phi$')\n",
    "plt.ylabel(r'$M^2$')"
   ]
  },
  {
   "cell_type": "code",
   "execution_count": 388,
   "id": "1385b5f1-b00f-44dc-b19c-7280c05d378d",
   "metadata": {},
   "outputs": [
    {
     "name": "stdout",
     "output_type": "stream",
     "text": [
      "0.9930808647168323\n",
      "1.1178576731339092\n",
      "1.3743068157402507e-09\n",
      "5.713546382177732e-10\n"
     ]
    }
   ],
   "source": [
    "print(np.abs(M_array[10]))\n",
    "print(np.abs(M_array[11]))\n",
    "print(np.abs(M_array[12]))\n",
    "print(np.abs(M_array[13]))"
   ]
  },
  {
   "cell_type": "code",
   "execution_count": 300,
   "id": "fd4b63f1-90aa-4bb2-9b97-54aee5df53f2",
   "metadata": {},
   "outputs": [],
   "source": [
    "if []:\n",
    "    print('True')"
   ]
  },
  {
   "cell_type": "code",
   "execution_count": 287,
   "id": "33a375ae-f3c3-48ae-917c-4fe12db78990",
   "metadata": {},
   "outputs": [
    {
     "name": "stdout",
     "output_type": "stream",
     "text": [
      "Parameters: L, t, E_plus, E_minus, eta, nu, B\n",
      "[17, 4513.29322846401, 198.78167562547094, -66.26055854182366, 0.0, 28.885991119621014, 0.05]\n",
      "here\n",
      "[-2.55094519e-02+1.10721949e-03j  1.00058370e-02-7.53853985e-04j\n",
      "  2.98447223e-16-3.47636515e-17j ...  3.11108193e-03-1.85973702e-04j\n",
      " -3.98204197e-19+1.70259195e-21j -4.81240350e-19+2.74948648e-21j]\n",
      "(6008,)\n",
      "751.0\n",
      "(152, 1)\n",
      "here\n"
     ]
    },
    {
     "name": "stderr",
     "output_type": "stream",
     "text": [
      "/Users/afasjasd/anaconda3/envs/snakes/lib/python3.9/site-packages/numpy/core/_asarray.py:102: ComplexWarning: Casting complex values to real discards the imaginary part\n",
      "  return array(a, dtype, copy=False, order=order)\n",
      "/Users/afasjasd/anaconda3/envs/snakes/lib/python3.9/site-packages/numpy/core/_asarray.py:102: ComplexWarning: Casting complex values to real discards the imaginary part\n",
      "  return array(a, dtype, copy=False, order=order)\n"
     ]
    },
    {
     "name": "stdout",
     "output_type": "stream",
     "text": [
      "[-8.71700656e-03+4.41981887e-04j  2.86853187e-02+1.44008722e-03j\n",
      " -5.26957625e-17+3.07167539e-17j ... -8.01947740e-04+1.43862019e-04j\n",
      "  2.09744027e-19+8.11995203e-22j -1.12891075e-19+6.67835951e-21j]\n",
      "(6968,)\n",
      "871.0\n",
      "(152, 1)\n",
      "here\n"
     ]
    },
    {
     "name": "stderr",
     "output_type": "stream",
     "text": [
      "/Users/afasjasd/anaconda3/envs/snakes/lib/python3.9/site-packages/numpy/core/_asarray.py:102: ComplexWarning: Casting complex values to real discards the imaginary part\n",
      "  return array(a, dtype, copy=False, order=order)\n",
      "/Users/afasjasd/anaconda3/envs/snakes/lib/python3.9/site-packages/numpy/core/_asarray.py:102: ComplexWarning: Casting complex values to real discards the imaginary part\n",
      "  return array(a, dtype, copy=False, order=order)\n"
     ]
    },
    {
     "name": "stdout",
     "output_type": "stream",
     "text": [
      "[ 1.63548483e-02-9.99899924e-04j -4.61333990e-02-1.35105291e-03j\n",
      " -1.81698056e-16-7.37483580e-17j ...  1.13469764e-03-1.88726401e-04j\n",
      " -4.83382651e-19+1.23974451e-21j  6.04973084e-20+2.63277991e-21j]\n",
      "(6616,)\n",
      "827.0\n",
      "(152, 1)\n",
      "here\n"
     ]
    },
    {
     "name": "stderr",
     "output_type": "stream",
     "text": [
      "/Users/afasjasd/anaconda3/envs/snakes/lib/python3.9/site-packages/numpy/core/_asarray.py:102: ComplexWarning: Casting complex values to real discards the imaginary part\n",
      "  return array(a, dtype, copy=False, order=order)\n",
      "/Users/afasjasd/anaconda3/envs/snakes/lib/python3.9/site-packages/numpy/core/_asarray.py:102: ComplexWarning: Casting complex values to real discards the imaginary part\n",
      "  return array(a, dtype, copy=False, order=order)\n"
     ]
    },
    {
     "name": "stdout",
     "output_type": "stream",
     "text": [
      "[-1.95775753e-02-7.05699763e-04j -4.18174536e-02+1.05000971e-03j\n",
      "  2.45051492e-17-1.32403584e-18j ...  2.88668799e-05+1.84131196e-04j\n",
      "  1.76032378e-19-1.77824494e-21j  3.95863922e-20+4.34545132e-22j]\n",
      "(5944,)\n",
      "743.0\n",
      "(152, 1)\n",
      "no_cell_runiform\n",
      "871\n",
      "here\n"
     ]
    },
    {
     "name": "stderr",
     "output_type": "stream",
     "text": [
      "/Users/afasjasd/anaconda3/envs/snakes/lib/python3.9/site-packages/numpy/core/_asarray.py:102: ComplexWarning: Casting complex values to real discards the imaginary part\n",
      "  return array(a, dtype, copy=False, order=order)\n",
      "/Users/afasjasd/anaconda3/envs/snakes/lib/python3.9/site-packages/numpy/core/_asarray.py:102: ComplexWarning: Casting complex values to real discards the imaginary part\n",
      "  return array(a, dtype, copy=False, order=order)\n"
     ]
    },
    {
     "name": "stdout",
     "output_type": "stream",
     "text": [
      "here\n",
      "here\n",
      "here\n",
      "[1742.0, 1742.0, 1742.0, 1742.0]\n",
      "-0.04770936460385166\n",
      "[-8.71700656e-03+4.41981887e-04j  2.86853187e-02+1.44008722e-03j\n",
      " -5.26957625e-17+3.07167539e-17j ... -8.01947740e-04+1.43862019e-04j\n",
      "  2.09744027e-19+8.11995203e-22j -1.12891075e-19+6.67835951e-21j]\n",
      "1742\n",
      "Parameters: L, t, E_plus, E_minus, eta, nu, B\n",
      "[871, 4513.29322846401, 198.78167562547094, -66.26055854182366, 0.0, 28.885991119621014, 0.05]\n",
      "6968\n"
     ]
    },
    {
     "data": {
      "image/png": "[encoded data removed]",
      "text/plain": [
       "<Figure size 432x288 with 1 Axes>"
      ]
     },
     "metadata": {
      "needs_background": "light"
     },
     "output_type": "display_data"
    }
   ],
   "source": [
    "syst = make_system_mixed(L_A=100., W=100., a=6.0583, alpha=350., U_0=0., mu=132.3363682761002+0.2, delta=0.182, B=0.05, phi=np.pi, eta=0.)\n",
    "e_play, wfr_play, n_cells_play = istas_scan(e_array6_compare[10], syst)\n",
    "print(n_cells_play)\n",
    "e_play1 = e_play[1]\n",
    "wfr_play1 = wfr_play[1]\n",
    "n_cells_play1 = int(n_cells_play[1])\n",
    "e_play2 = e_play[2]\n",
    "wfr_play2 = wfr_play[2]\n",
    "n_cells_play2 = int(n_cells_play[2])\n",
    "print(e_play1)\n",
    "print(wfr_play1)\n",
    "print(n_cells_play1)\n",
    "syst_prime = differentiated_syst(int(n_cells_play1/2), W=100., a=6.0583, alpha=350., U_0=0., mu=132.3363682761002+0.2, delta=0.182, B=0.05, phi=np.pi, eta=0.)\n",
    "print(syst_prime.hamiltonian_submatrix().shape[0])"
   ]
  },
  {
   "cell_type": "code",
   "execution_count": 291,
   "id": "1d149d05-50c8-4d9c-9354-b87448eeebb1",
   "metadata": {},
   "outputs": [
    {
     "data": {
      "text/plain": [
       "(-0.9449555570452425+0.30539908165553975j)"
      ]
     },
     "execution_count": 291,
     "metadata": {},
     "output_type": "execute_result"
    }
   ],
   "source": [
    "wfr_play1.T.conj()@syst_prime.hamiltonian_submatrix()@wfr_play2"
   ]
  },
  {
   "cell_type": "code",
   "execution_count": 289,
   "id": "f69b2e3c-25f4-47bb-b4a9-7192ad1fb760",
   "metadata": {},
   "outputs": [
    {
     "data": {
      "text/plain": [
       "(6968, 6968)"
      ]
     },
     "execution_count": 289,
     "metadata": {},
     "output_type": "execute_result"
    }
   ],
   "source": [
    "syst_prime.hamiltonian_submatrix().shape"
   ]
  },
  {
   "cell_type": "markdown",
   "id": "7b4e38eb-1ab7-47b3-99e5-a437aee03040",
   "metadata": {},
   "source": [
    "# Testing"
   ]
  },
  {
   "cell_type": "code",
   "execution_count": 156,
   "id": "d0bc119b-bc34-4f5f-9ece-b719e25a0622",
   "metadata": {},
   "outputs": [],
   "source": [
    "def compute_wf(vals, vecs, L_leads, X_out_leads, scat_dim,\n",
    "               tol=1e-4, schur_modes=False):\n",
    "    \"\"\"\n",
    "    Extract and normalize the wavefunction from the eigenvectors of \n",
    "    the lhs (H_eff) matrix.\n",
    "\n",
    "    vals: eigenvalues of H_eff computed at the energy of the bound state\n",
    "    vecs: eigenvectors of H_eff computed at the energy of the bound state\n",
    "    L_leads: list of matrices with the evanescent modes in\n",
    "    X_leads:\n",
    "    scat_dim: int, number of sites in the scattering region\n",
    "    schur_modes: if True, bound state is returned in schur basis, it is \n",
    "                returned in the basis with Lambda diagonal otherwise\n",
    "    \"\"\"\n",
    "    zero_schur = (abs(vals) < tol)\n",
    "    # Psi_alpha_0 is the wavefunction of the bound states in the\n",
    "    # system.\n",
    "    psi_alpha_0, q_e = vecs[:scat_dim, zero_schur], vecs[scat_dim:, zero_schur]\n",
    "\n",
    "    Q = block_diag(*X_out_leads)\n",
    "    L_out = block_diag(*L_leads)\n",
    "\n",
    "    # When modes are degenerated, Lambda is not diagonal anymore\n",
    "    lmb, R = la.eig(L_out)\n",
    "    # R is already computed in extract_out_modes, is it faster to keep it in memory?\n",
    "    Phi = Q @ R\n",
    "\n",
    "    N = Phi.conj().T @ Phi\n",
    "\n",
    "    for i, l1 in enumerate(lmb):\n",
    "        for j, l2 in enumerate(lmb):\n",
    "            ll = np.conj(l1) * l2\n",
    "            N[i, j] *= ll / (1 - ll)\n",
    "\n",
    "    for i, psi in enumerate(psi_alpha_0.T): #loop if degeneracy\n",
    "        a = q_e[:, i]\n",
    "        norm = psi.conj().T @ psi\n",
    "        norm += a.conj().T @ N @ a\n",
    "        norm = np.sqrt(norm)\n",
    "        psi_alpha_0[:, i] /= norm\n",
    "        q_e[:, i] /= norm\n",
    "\n",
    "    if schur_modes:\n",
    "        return psi_alpha_0, q_e, L_out, Q\n",
    "    else:\n",
    "        return psi_alpha_0, R @ q_e, np.diag(lmb), Phi"
   ]
  },
  {
   "cell_type": "code",
   "execution_count": 157,
   "id": "fd4cf284-eca4-47cb-bf92-3ba0462fab78",
   "metadata": {},
   "outputs": [],
   "source": [
    "def block_diag(*arrs):\n",
    "    \"\"\"\n",
    "    Copied from old version of scipy, v0.8.0\n",
    "    Create a block diagonal matrix from the provided arrays.\n",
    "\n",
    "    Given the inputs `A`, `B` and `C`, the output will have these\n",
    "    arrays arranged on the diagonal::\n",
    "\n",
    "        [[A, 0, 0],\n",
    "         [0, B, 0],\n",
    "         [0, 0, C]]\n",
    "\n",
    "    If all the input arrays are square, the output is known as a\n",
    "    block diagonal matrix.\n",
    "\n",
    "    Parameters\n",
    "    ----------\n",
    "    A, B, C, ... : array-like, up to 2D\n",
    "        Input arrays.  A 1D array or array-like sequence with length n is\n",
    "        treated as a 2D array with shape (1,n).\n",
    "\n",
    "    Returns\n",
    "    -------\n",
    "    D : ndarray\n",
    "        Array with `A`, `B`, `C`, ... on the diagonal.  `D` has the\n",
    "        same dtype as `A`.\n",
    "\n",
    "    References\n",
    "    ----------\n",
    "    .. [1] Wikipedia, \"Block matrix\",\n",
    "           http://en.wikipedia.org/wiki/Block_diagonal_matrix\n",
    "\n",
    "    Examples\n",
    "    --------\n",
    "    >>> A = [[1, 0],\n",
    "    ...      [0, 1]]\n",
    "    >>> B = [[3, 4, 5],\n",
    "    ...      [6, 7, 8]]\n",
    "    >>> C = [[7]]\n",
    "    >>> print(block_diag(A, B, C))\n",
    "    [[1 0 0 0 0 0]\n",
    "     [0 1 0 0 0 0]\n",
    "     [0 0 3 4 5 0]\n",
    "     [0 0 6 7 8 0]\n",
    "     [0 0 0 0 0 7]]\n",
    "    >>> block_diag(1.0, [2, 3], [[4, 5], [6, 7]])\n",
    "    array([[ 1.,  0.,  0.,  0.,  0.],\n",
    "           [ 0.,  2.,  3.,  0.,  0.],\n",
    "           [ 0.,  0.,  0.,  4.,  5.],\n",
    "           [ 0.,  0.,  0.,  6.,  7.]])\n",
    "\n",
    "    \"\"\"\n",
    "    if arrs == ():\n",
    "        arrs = ([],)\n",
    "    arrs = [np.atleast_2d(a) for a in arrs]\n",
    "\n",
    "    bad_args = [k for k in range(len(arrs)) if arrs[k].ndim > 2]\n",
    "    if bad_args:\n",
    "        raise ValueError(\"arguments in the following positions have dimension \"\n",
    "                            \"greater than 2: %s\" % bad_args) \n",
    "\n",
    "    shapes = np.array([a.shape for a in arrs])\n",
    "    out = np.zeros(np.sum(shapes, axis=0), dtype=arrs[0].dtype)\n",
    "\n",
    "    r, c = 0, 0\n",
    "    for i, (rr, cc) in enumerate(shapes):\n",
    "        out[r:r + rr, c:c + cc] = arrs[i]\n",
    "        r += rr\n",
    "        c += cc\n",
    "    return out"
   ]
  },
  {
   "cell_type": "code",
   "execution_count": null,
   "id": "f6620df6-fe00-48f6-bf45-957f87ec78f2",
   "metadata": {},
   "outputs": [],
   "source": [
    "\n",
    "psi_alpha_0, q_e, L_out, Phi = compute_wf(S, Wh.conj().T, L_out, \n",
    "                                                X_out, mat[0].shape[0], \n",
    "                                                tol=tol,schur_modes=False)"
   ]
  }
 ],
 "metadata": {
  "kernelspec": {
   "display_name": "Python 3 (ipykernel)",
   "language": "python",
   "name": "python3"
  },
  "language_info": {
   "codemirror_mode": {
    "name": "ipython",
    "version": 3
   },
   "file_extension": ".py",
   "mimetype": "text/x-python",
   "name": "python",
   "nbconvert_exporter": "python",
   "pygments_lexer": "ipython3",
   "version": "3.9.6"
  }
 },
 "nbformat": 4,
 "nbformat_minor": 5
}
