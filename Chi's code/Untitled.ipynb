{
 "cells": [
  {
   "cell_type": "code",
   "execution_count": null,
   "id": "b984f8dd-99c1-4e0f-a1f7-ed9e4c1e731d",
   "metadata": {},
   "outputs": [],
   "source": [
    "import numpy as np\n",
    "import matplotlib.pyplot as plt\n",
    "#plt.style.use('/Users/cuizhengyi/Desktop/summerproject/code/genstyle.mplstyle')\n",
    "\n",
    "pi = np.pi\n",
    "h = 6.62607015e-34 # Planck's constant\n",
    "hbar = h / (2*pi)\n",
    "e = 1.602176634e-19  # Electron charge\n",
    "\n",
    "RQ = h/(4*e**2)  # Resistance quantum\n",
    "G0 = 2*e**2/h # Conductance quantum\n",
    "Phi0 = h/(2*e) # Flux quantum\n",
    "phi0 = hbar/(2*e) # Reduced flux quantumphase = np.linspace(0,2,21)*np.pi\n",
    "\n",
    "wcav = wcav = 0.044\n",
    "# scgap = 60e9 * 2 * pi *hbar\n",
    "\n",
    "phase = np.linspace(0,2,501)*pi\n",
    "\n",
    "def tau(channel):\n",
    "    t=1-channel**2\n",
    "    return t\n",
    "\n",
    "def inv_LJ(phase,tau): #single channel inverse indutctance. From Kos 2013 eq. 16.\n",
    "    return (1/4 * tau*(np.cos(phase) + tau*np.sin(phase/2)**4)/(1 - tau * np.sin(phase/2)**2)**(3/2))\n",
    "def dw_curv(phase,tau): #Curvature type (adiabatic) freq shift contribution. units ang. freq. From Park 2020 main text.\n",
    "    return inv_LJ(phase,tau)/hbar\n",
    "\n",
    "def E_A(phase, tau): #ABS energy. units energy\n",
    "    return  np.sqrt(1 - tau * np.sin(phase/2)**2)\n",
    "\n",
    "def w_A(phase, tau): #ABS transition frequency. units ang. freq\n",
    "    return 2 * E_A(phase,tau)/hbar\n",
    "\n",
    "def g(phase,tau): #ABS-resonator coupling strength. units ang. freq\n",
    "    return ( 1/hbar) *(np.sqrt(1-tau)/2) * (1/E_A(phase,tau) - E_A(phase,tau))\n",
    "\n",
    "def dw_JC(phase,tau): #Jaynes-Cummings type (dispersive) frequency shift contribution. units ang. freq. From Park 2020 eq. 7.\n",
    "    Delta_w = w_A(phase,tau) - wcav #ABS-res freq detuning\n",
    "    Sigma_w = w_A(phase,tau) + wcav #ABS-res freq sum\n",
    "    return  g(phase,tau)**2 * ( - 1/Delta_w - 1/Sigma_w)\n",
    "def dw_tot(phase,tau): #total ang. frequency shift. From Park 2020 eq. 6\n",
    "    Delta_w = w_A(phase,tau) - wcav #ABS-res freq detuning\n",
    "    Sigma_w = w_A(phase,tau) + wcav #ABS-res freq sum\n",
    "    return dw_curv(phase,tau) + g(phase,tau)**2 * (- 1/Delta_w - 1/Sigma_w)"
   ]
  }
 ],
 "metadata": {
  "kernelspec": {
   "display_name": "Python 3 (ipykernel)",
   "language": "python",
   "name": "python3"
  },
  "language_info": {
   "codemirror_mode": {
    "name": "ipython",
    "version": 3
   },
   "file_extension": ".py",
   "mimetype": "text/x-python",
   "name": "python",
   "nbconvert_exporter": "python",
   "pygments_lexer": "ipython3",
   "version": "3.9.6"
  }
 },
 "nbformat": 4,
 "nbformat_minor": 5
}
