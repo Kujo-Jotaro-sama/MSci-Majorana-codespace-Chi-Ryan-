{
 "cells": [
  {
   "cell_type": "code",
   "execution_count": 1,
   "id": "332ee349-556c-45b3-900b-2db4570983b4",
   "metadata": {},
   "outputs": [],
   "source": [
    "import numpy as np\n",
    "import scipy.linalg as la"
   ]
  },
  {
   "cell_type": "code",
   "execution_count": 9,
   "id": "f536522b-2d5d-4bb8-900a-e342634c4fa3",
   "metadata": {},
   "outputs": [],
   "source": [
    "test_mat = np.random.random((4, 4)) + np.random.random((4, 4))*1j"
   ]
  },
  {
   "cell_type": "code",
   "execution_count": 10,
   "id": "0dd17f75-a4c9-43ea-91b9-c3d11d3ecb0c",
   "metadata": {},
   "outputs": [
    {
     "data": {
      "text/plain": [
       "array([[0.86276495+0.22513275j, 0.58383579+0.03938007j,\n",
       "        0.90460099+0.58636318j, 0.94339296+0.01740009j],\n",
       "       [0.29459394+0.20240362j, 0.84241307+0.81771447j,\n",
       "        0.3288105 +0.81874447j, 0.95611293+0.75805393j],\n",
       "       [0.9353147 +0.48783791j, 0.72965166+0.47665204j,\n",
       "        0.6365914 +0.19143925j, 0.71323245+0.81054405j],\n",
       "       [0.53585144+0.85328374j, 0.30078655+0.73148258j,\n",
       "        0.93192221+0.30125734j, 0.2232171 +0.34540452j]])"
      ]
     },
     "execution_count": 10,
     "metadata": {},
     "output_type": "execute_result"
    }
   ],
   "source": [
    "test_mat"
   ]
  },
  {
   "cell_type": "code",
   "execution_count": 11,
   "id": "59f54324-ed26-4d78-a2be-ada5c7541d9f",
   "metadata": {},
   "outputs": [],
   "source": [
    "w, vl, vr = la.eig(test_mat, left=True)"
   ]
  },
  {
   "cell_type": "code",
   "execution_count": 12,
   "id": "5983d19b-a590-43fe-af02-0368748ed3ef",
   "metadata": {},
   "outputs": [
    {
     "data": {
      "text/plain": [
       "array([ 2.64789452+1.9073338j , -0.6881691 -0.64173444j,\n",
       "        0.45255655+0.42559161j,  0.15270456-0.11149998j])"
      ]
     },
     "execution_count": 12,
     "metadata": {},
     "output_type": "execute_result"
    }
   ],
   "source": [
    "w"
   ]
  },
  {
   "cell_type": "code",
   "execution_count": 13,
   "id": "664023bc-a169-4b8c-a0af-e7e12fcf2e0f",
   "metadata": {},
   "outputs": [
    {
     "data": {
      "text/plain": [
       "array([[ 0.48541774+0.0157002j , -0.26720769-0.32120686j,\n",
       "        -0.56752269+0.21089374j, -0.36690233+0.36966124j],\n",
       "       [ 0.48405627-0.05118453j, -0.19465987-0.14953669j,\n",
       "         0.68472377+0.j        , -0.00368651+0.13684765j],\n",
       "       [ 0.50797014+0.01582301j,  0.63175767+0.j        ,\n",
       "        -0.26378048+0.15741918j,  0.66438374+0.j        ],\n",
       "       [ 0.51856413+0.j        , -0.38689793+0.46515026j,\n",
       "         0.22092403+0.14637906j, -0.18368605-0.48460919j]])"
      ]
     },
     "execution_count": 13,
     "metadata": {},
     "output_type": "execute_result"
    }
   ],
   "source": [
    "vl"
   ]
  },
  {
   "cell_type": "code",
   "execution_count": 14,
   "id": "e8428522-638c-40fc-954c-5172196b8a40",
   "metadata": {},
   "outputs": [
    {
     "data": {
      "text/plain": [
       "array([[ 0.3953991 -0.32950725j, -0.15628881+0.34451008j,\n",
       "        -0.49176987-0.13771246j, -0.22664107-0.38819777j],\n",
       "       [ 0.53001564+0.j        , -0.39463786+0.17129525j,\n",
       "         0.82555394+0.j        , -0.40192906-0.08360078j],\n",
       "       [ 0.47662583-0.18696792j, -0.1317931 -0.46161693j,\n",
       "        -0.16900535-0.05568799j, -0.05252991+0.48248627j],\n",
       "       [ 0.43329378-0.06553815j,  0.66433869+0.j        ,\n",
       "        -0.13885999+0.08192864j,  0.62757299+0.j        ]])"
      ]
     },
     "execution_count": 14,
     "metadata": {},
     "output_type": "execute_result"
    }
   ],
   "source": [
    "vr"
   ]
  },
  {
   "cell_type": "code",
   "execution_count": 21,
   "id": "faf6d191-2457-4d5d-b965-69aa62e73eae",
   "metadata": {},
   "outputs": [
    {
     "data": {
      "text/plain": [
       "array([[ 0.91-0.28j,  0.  -0.j  ,  0.  +0.j  , -0.  +0.j  ],\n",
       "       [-0.  -0.j  , -0.36-0.84j, -0.  -0.j  , -0.  +0.j  ],\n",
       "       [ 0.  -0.j  ,  0.  -0.j  ,  0.83+0.26j, -0.  +0.j  ],\n",
       "       [ 0.  -0.j  , -0.  +0.j  ,  0.  -0.j  , -0.22+0.91j]])"
      ]
     },
     "execution_count": 21,
     "metadata": {},
     "output_type": "execute_result"
    }
   ],
   "source": [
    "np.around(vl.conj().T@vr, 2)"
   ]
  },
  {
   "cell_type": "code",
   "execution_count": 30,
   "id": "412794e1-0d20-4482-b844-6ba13095391c",
   "metadata": {},
   "outputs": [
    {
     "data": {
      "text/plain": [
       "array([[-1.44328993e-15+1.66533454e-16j, -9.99200722e-16+1.11022302e-16j,\n",
       "        -1.66533454e-15-5.55111512e-16j, -1.99840144e-15+3.05311332e-16j],\n",
       "       [-5.55111512e-17-1.08246745e-15j,  5.55111512e-16+3.33066907e-16j,\n",
       "         2.22044605e-16-1.66533454e-15j, -3.33066907e-16-1.11022302e-16j],\n",
       "       [-1.33226763e-15-1.11022302e-15j, -1.11022302e-15-9.43689571e-16j,\n",
       "        -1.99840144e-15-1.38777878e-15j, -1.88737914e-15-7.77156117e-16j],\n",
       "       [-2.22044605e-16-9.99200722e-16j, -3.88578059e-16-1.22124533e-15j,\n",
       "        -6.66133815e-16-1.88737914e-15j, -9.15933995e-16-9.43689571e-16j]])"
      ]
     },
     "execution_count": 30,
     "metadata": {},
     "output_type": "execute_result"
    }
   ],
   "source": [
    "(vr@np.diag(w)@np.linalg.inv(vr))-test_mat"
   ]
  },
  {
   "cell_type": "code",
   "execution_count": 32,
   "id": "6651e3cb-fdea-432b-a047-ef18d6b00729",
   "metadata": {},
   "outputs": [
    {
     "data": {
      "text/plain": [
       "array([[-4.44089210e-16-1.11022302e-15j,  2.22044605e-16+8.32667268e-16j,\n",
       "        -8.88178420e-16-5.55111512e-16j, -7.77156117e-16+1.66533454e-16j],\n",
       "       [ 8.88178420e-16-2.10942375e-15j,  3.33066907e-16+9.99200722e-16j,\n",
       "        -4.99600361e-16-1.22124533e-15j,  0.00000000e+00+1.11022302e-16j],\n",
       "       [-5.55111512e-16-1.88737914e-15j, -1.44328993e-15+2.77555756e-16j,\n",
       "        -1.88737914e-15-1.22124533e-15j, -1.66533454e-15-2.22044605e-16j],\n",
       "       [ 5.55111512e-16-9.99200722e-16j, -7.77156117e-16-2.22044605e-16j,\n",
       "        -7.77156117e-16-1.27675648e-15j, -7.77156117e-16+5.55111512e-17j]])"
      ]
     },
     "execution_count": 32,
     "metadata": {},
     "output_type": "execute_result"
    }
   ],
   "source": [
    "(vl@np.diag(w.conj())@np.linalg.inv(vl)).conj().T-test_mat"
   ]
  },
  {
   "cell_type": "code",
   "execution_count": null,
   "id": "576aa642-79a7-4e92-80f2-388589e40569",
   "metadata": {},
   "outputs": [],
   "source": []
  }
 ],
 "metadata": {
  "kernelspec": {
   "display_name": "Python 3 (ipykernel)",
   "language": "python",
   "name": "python3"
  },
  "language_info": {
   "codemirror_mode": {
    "name": "ipython",
    "version": 3
   },
   "file_extension": ".py",
   "mimetype": "text/x-python",
   "name": "python",
   "nbconvert_exporter": "python",
   "pygments_lexer": "ipython3",
   "version": "3.9.6"
  }
 },
 "nbformat": 4,
 "nbformat_minor": 5
}
