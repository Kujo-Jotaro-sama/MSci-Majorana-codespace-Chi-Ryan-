{
 "cells": [
  {
   "cell_type": "code",
   "execution_count": null,
   "id": "750cce1d-7a6c-4bed-8988-a3dc41887f62",
   "metadata": {},
   "outputs": [],
   "source": []
  },
  {
   "cell_type": "code",
   "execution_count": 24,
   "id": "9eb65849-756a-4603-8f1d-806a0cc933e6",
   "metadata": {},
   "outputs": [],
   "source": [
    "import numpy as np\n",
    "import kwant\n",
    "from scipy import linalg\n",
    "import matplotlib.colors as colors\n",
    "from matplotlib import pyplot as plt\n",
    "from scipy import sparse\n",
    "from scipy import constants as const\n",
    "plt.rcParams.update({'font.size': 20})"
   ]
  },
  {
   "cell_type": "code",
   "execution_count": 97,
   "id": "ea553d08-237e-4144-97af-0827a949240c",
   "metadata": {},
   "outputs": [],
   "source": [
    "def infinite_system1(params, L=11, lead_times=0):\n",
    "    a = 1\n",
    "    mu, A, Delta, phi = params.values()\n",
    "    \n",
    "    lat = kwant.lattice.chain()\n",
    "    syst = kwant.Builder()\n",
    "    \n",
    "    # Pauli matrices\n",
    "    sigma_0 = np.array([[1, 0], [0, 1]])\n",
    "    sigma_x = np.array([[0, 1], [1, 0]])\n",
    "    sigma_y = np.array([[0, -1j], [1j, 0]])\n",
    "    sigma_z = np.array([[1, 0], [0, -1]])\n",
    "    \n",
    "    ham = (2.*A/(a**2.)-mu)*sigma_z\n",
    "    hop = -A/(a**2.)*sigma_z\n",
    "    \n",
    "    ham_lead0 = ham + Delta*(np.cos(phi/2.)*sigma_x + np.sin(phi/2.)*sigma_y)\n",
    "    hop_lead0 = hop\n",
    "    ham_lead1 = ham + Delta*(np.cos(phi/2.)*sigma_x - np.sin(phi/2.)*sigma_y)\n",
    "    hop_lead1 = hop\n",
    "    \n",
    "    syst[(lat(x) for x in range(-L*lead_times, 0))] = ham_lead0\n",
    "    syst[(lat(x) for x in range(0, L))] = ham\n",
    "    syst[(lat(x) for x in range(L, (lead_times+1)*L))] = ham_lead1\n",
    "    syst[((lat(x), lat(x+1)) for x in range(-L*lead_times, (lead_times+1)*L-1))] = hop\n",
    "    \n",
    "    sym_left = kwant.TranslationalSymmetry([-1])\n",
    "    lead0 = kwant.Builder(sym_left)\n",
    "    lead0[(lat(-L*lead_times-1))] = ham_lead0\n",
    "    lead0[lat.neighbors()] = hop_lead0\n",
    "    sym_right = kwant.TranslationalSymmetry([1])\n",
    "    lead1 = kwant.Builder(sym_right)\n",
    "    lead1[(lat((lead_times+1)*L))] =  ham_lead1\n",
    "    lead1[lat.neighbors()] = hop_lead1\n",
    "    \n",
    "    syst.attach_lead(lead0)\n",
    "    syst.attach_lead(lead1)\n",
    "\n",
    "    return syst.finalized()"
   ]
  },
  {
   "cell_type": "code",
   "execution_count": 98,
   "id": "856da40f-9bf4-45e6-b759-c0513639483e",
   "metadata": {},
   "outputs": [],
   "source": [
    "def finite_system1(params, L=11, lead_times=0):\n",
    "    a = 1\n",
    "    mu, A, Delta, phi = params.values()\n",
    "    \n",
    "    lat = kwant.lattice.chain()\n",
    "    syst = kwant.Builder()\n",
    "    \n",
    "    # Pauli matrices\n",
    "    sigma_0 = np.array([[1, 0], [0, 1]])\n",
    "    sigma_x = np.array([[0, 1], [1, 0]])\n",
    "    sigma_y = np.array([[0, -1j], [1j, 0]])\n",
    "    sigma_z = np.array([[1, 0], [0, -1]])\n",
    "    \n",
    "    ham = (2.*A/(a**2.)-mu)*sigma_z\n",
    "    hop = -A/(a**2.)*sigma_z\n",
    "    \n",
    "    ham_lead0 = ham + Delta*(np.cos(phi/2.)*sigma_x + np.sin(phi/2.)*sigma_y)\n",
    "    hop_lead0 = hop\n",
    "    ham_lead1 = ham + Delta*(np.cos(phi/2.)*sigma_x - np.sin(phi/2.)*sigma_y)\n",
    "    hop_lead1 = hop\n",
    "    \n",
    "    syst[(lat(x) for x in range(-L*lead_times, 0))] = ham_lead0\n",
    "    syst[(lat(x) for x in range(0, L))] = ham\n",
    "    syst[(lat(x) for x in range(L, (lead_times+1)*L))] = ham_lead1\n",
    "    syst[((lat(x), lat(x+1)) for x in range(-L*lead_times, (lead_times+1)*L-1))] = hop\n",
    "    \n",
    "    '''sym_left = kwant.TranslationalSymmetry([-1])\n",
    "    lead0 = kwant.Builder(sym_left)\n",
    "    lead0[(lat(-L*lead_times-1))] = ham_lead0\n",
    "    lead0[lat.neighbors()] = hop_lead0\n",
    "    sym_right = kwant.TranslationalSymmetry([1])\n",
    "    lead1 = kwant.Builder(sym_right)\n",
    "    lead1[(lat((lead_times+1)*L))] =  ham_lead1\n",
    "    lead1[lat.neighbors()] = hop_lead1\n",
    "    \n",
    "    syst.attach_lead(lead0)\n",
    "    syst.attach_lead(lead1)'''\n",
    "\n",
    "    return syst.finalized()"
   ]
  },
  {
   "cell_type": "code",
   "execution_count": 17,
   "id": "b7bbede6-e3bc-4392-8929-3fd9271c781b",
   "metadata": {},
   "outputs": [
    {
     "name": "stdout",
     "output_type": "stream",
     "text": [
      "0.0010003852183314815\n"
     ]
    },
    {
     "data": {
      "text/plain": [
       "0.09990264638415525"
      ]
     },
     "execution_count": 17,
     "metadata": {},
     "output_type": "execute_result"
    },
    {
     "data": {
      "image/png": "[encoded data removed]",
      "text/plain": [
       "<Figure size 432x288 with 1 Axes>"
      ]
     },
     "metadata": {
      "needs_background": "light"
     },
     "output_type": "display_data"
    }
   ],
   "source": [
    "inf_syst = infinite_system1(dict(\n",
    "            mu = 1e-2,\n",
    "            A = 1,\n",
    "            Delta=1e-3,\n",
    "            phi=0.\n",
    "        ), lead_times=0)\n",
    "bands=kwant.physics.Bands(inf_syst.leads[0])\n",
    "momenta=np.linspace(-np.pi,np.pi,10001)\n",
    "energies=[bands(k) for k in momenta]\n",
    "x=np.array(energies)\n",
    "en=(x)\n",
    "plt.plot(momenta, en)\n",
    "print(np.min(en[:,1]))\n",
    "np.abs(momenta[np.argmin(en[:,1])])"
   ]
  },
  {
   "cell_type": "code",
   "execution_count": 20,
   "id": "7a64b451-d410-43fd-8749-9c7a6b43b58d",
   "metadata": {},
   "outputs": [],
   "source": [
    "def phi_scan():\n",
    "    energy_arrays=[]\n",
    "    wavefunc_arrays=[]\n",
    "    for i in np.linspace(0, 4*np.pi, 41):\n",
    "        print(i)\n",
    "        params = dict(\n",
    "            mu = 1e-2,\n",
    "            A = 1,\n",
    "            Delta=1e-3,\n",
    "            phi=i\n",
    "        )\n",
    "        syst = infinite_system1(params)\n",
    "        energies, wavefunctions = find_boundstates(syst, -1.1e-3, 1.1e-3, rtol=1e-5)\n",
    "        energy_arrays.append(energies)\n",
    "        wavefunc_arrays.append(wavefunctions)\n",
    "        print(energies)\n",
    "    return energy_arrays, wavefunc_arrays"
   ]
  },
  {
   "cell_type": "code",
   "execution_count": 21,
   "id": "cfc196cc-fbf0-4619-8828-d5a00c86f9b1",
   "metadata": {},
   "outputs": [
    {
     "name": "stdout",
     "output_type": "stream",
     "text": [
      "0.0\n",
      "[-0.00099504  0.00099504]\n",
      "0.3141592653589793\n",
      "[-0.00097649  0.00097649]\n",
      "0.6283185307179586\n",
      "[-0.00093272  0.00093272]\n",
      "0.9424777960769379\n",
      "[-0.00086715  0.00086715]\n",
      "1.2566370614359172\n",
      "[-0.00078187  0.00078187]\n",
      "1.5707963267948966\n",
      "[-0.00067921  0.00067921]\n",
      "1.8849555921538759\n",
      "[-0.00056176  0.00056176]\n",
      "2.199114857512855\n",
      "[-0.00043231  0.00043231]\n",
      "2.5132741228718345\n",
      "[-0.00029386  0.00029386]\n",
      "2.827433388230814\n",
      "[-0.00014986  0.00014986]\n",
      "3.141592653589793\n",
      "[-2.35240294e-05  2.35240294e-05]\n",
      "3.4557519189487724\n",
      "[-0.00014986  0.00014986]\n",
      "3.7699111843077517\n",
      "[-0.00029386  0.00029386]\n",
      "4.084070449666731\n",
      "[-0.00043231  0.00043231]\n",
      "4.39822971502571\n",
      "[-0.00056176  0.00056176]\n",
      "4.71238898038469\n",
      "[-0.00067921  0.00067921]\n",
      "5.026548245743669\n",
      "[-0.00078187  0.00078187]\n",
      "5.340707511102648\n",
      "[-0.00086715  0.00086715]\n",
      "5.654866776461628\n",
      "[-0.00093272  0.00093272]\n",
      "5.969026041820607\n",
      "[-0.00097649  0.00097649]\n",
      "6.283185307179586\n",
      "[-0.00099504  0.00099504]\n",
      "6.5973445725385655\n",
      "[-0.00097649  0.00097649]\n",
      "6.911503837897545\n",
      "[-0.00093272  0.00093272]\n",
      "7.225663103256524\n",
      "[-0.00086715  0.00086715]\n",
      "7.5398223686155035\n",
      "[-0.00078187  0.00078187]\n",
      "7.853981633974483\n",
      "[-0.00067921  0.00067921]\n",
      "8.168140899333462\n",
      "[-0.00056176  0.00056176]\n",
      "8.482300164692441\n",
      "[-0.00043231  0.00043231]\n",
      "8.79645943005142\n",
      "[-0.00029386  0.00029386]\n",
      "9.1106186954104\n",
      "[-0.00014986  0.00014986]\n",
      "9.42477796076938\n",
      "[-2.35240294e-05  2.35240294e-05]\n",
      "9.738937226128359\n",
      "[-0.00014986  0.00014986]\n",
      "10.053096491487338\n",
      "[-0.00029386  0.00029386]\n",
      "10.367255756846317\n",
      "[-0.00043231  0.00043231]\n",
      "10.681415022205297\n",
      "[-0.00056176  0.00056176]\n",
      "10.995574287564276\n",
      "[-0.00067921  0.00067921]\n",
      "11.309733552923255\n",
      "[-0.00078187  0.00078187]\n",
      "11.623892818282235\n",
      "[-0.00086715  0.00086715]\n",
      "11.938052083641214\n",
      "[-0.00093272  0.00093272]\n",
      "12.252211349000193\n",
      "[-0.00097649  0.00097649]\n",
      "12.566370614359172\n",
      "[-0.00099504  0.00099504]\n"
     ]
    }
   ],
   "source": [
    "e_array, psi_array = phi_scan()"
   ]
  },
  {
   "cell_type": "code",
   "execution_count": 22,
   "id": "3ef31780-e8f6-4e54-9d8b-e038e07394f4",
   "metadata": {},
   "outputs": [],
   "source": [
    "e_array = np.array(e_array)"
   ]
  },
  {
   "cell_type": "code",
   "execution_count": 26,
   "id": "64b9284b-0400-4169-b42f-30632a5f5ba9",
   "metadata": {},
   "outputs": [
    {
     "data": {
      "text/plain": [
       "Text(0.5, 1.0, '$\\\\Delta=1e-3, \\\\mu=1e-2$')"
      ]
     },
     "execution_count": 26,
     "metadata": {},
     "output_type": "execute_result"
    },
    {
     "data": {
      "image/png": "[encoded data removed]",
      "text/plain": [
       "<Figure size 432x288 with 1 Axes>"
      ]
     },
     "metadata": {
      "needs_background": "light"
     },
     "output_type": "display_data"
    }
   ],
   "source": [
    "plt.plot(np.linspace(0, 4*np.pi, 41), e_array/1e-3)\n",
    "plt.xlabel(r'$\\phi$')\n",
    "plt.ylabel(r'$E/\\Delta$')\n",
    "plt.title(r'$\\Delta=1e-3, \\mu=1e-2$')"
   ]
  },
  {
   "cell_type": "markdown",
   "id": "970b4c7d-d49d-4c2d-8b4f-b7543f2a50ad",
   "metadata": {},
   "source": [
    "# Istas wavefunc"
   ]
  },
  {
   "cell_type": "code",
   "execution_count": 27,
   "id": "6cac75dc-f234-4154-8366-a60744726918",
   "metadata": {},
   "outputs": [],
   "source": [
    "# Copyright 2011-2018 Kwant authors.\n",
    "#\n",
    "# This file is part of Kwant.  It is subject to the license terms in the file\n",
    "# LICENSE.rst found in the top-level directory of this distribution and at\n",
    "# http://kwant-project.org/license.  A list of Kwant authors can be found in\n",
    "# the file AUTHORS.rst at the top-level directory of this distribution and at\n",
    "# http://kwant-project.org/authors.\n",
    "\n",
    "import numpy as np\n",
    "from scipy.optimize import newton, brentq, minimize_scalar\n",
    "from _boundstate_hermitian import eig_values, false_positive_BS, eig_val_derivative\n",
    "from _boundstate_svd import singular_values\n",
    "from _boundstate_common import *\n",
    "\n",
    "__all__ = ['bound_state', 'wf_in_leads']\n",
    "\n",
    "def bound_state(syst, E_range, args=(), params=None, tol=1e-8, sparse=False, \n",
    "                return_wf=False, maxiter=100, eig_val=2, need_orth=True):\n",
    "    \"\"\"Find a single bound state in the energy window '(emin, emax)'.\n",
    "\n",
    "    Parameters\n",
    "    ----------\n",
    "    syst : kwant.system.FiniteSystem\n",
    "        Must have at least one lead attached. If you need to find bound\n",
    "        states of a finite system, use an eigensolver.\n",
    "    emin, emax : float\n",
    "        The energy bounds in which to search for bound states.\n",
    "    E_0: starting point of the newton method\n",
    "    args : tuple\n",
    "        Positional arguments to the system.\n",
    "    params : dict\n",
    "        Keyword arguments to the system.\n",
    "    eps : float\n",
    "        Tolerance with which to find the bound state.\n",
    "    return_wavefunction : bool\n",
    "        Whether or not to return the bound state wavefunction.\n",
    "    maxiter: maximum number of steps used by the newton method\n",
    "    eig_val: the number of eigenvalue to be computed. Only if sparse \n",
    "             is True\n",
    "    need_orth: Whether to orthogonalize the leads modes. Only necessary \n",
    "               for degenerate eigenmodes\n",
    "\n",
    "    Returns\n",
    "    -------\n",
    "    E: energy of the bound state\n",
    "    if return _wf is True:\n",
    "        psi_alpha_0: wavefunction in the scattering region\n",
    "        lmb: Evanescent modes in the lead at a given energy\n",
    "        q_e: \n",
    "        Phi: \n",
    "    elements fo compute the wavefunction in the leads\n",
    "\n",
    "    Notes\n",
    "    -----\n",
    "    TODO: finish this docstring\n",
    "    Can use Newton method to find the root. Downside of this method: \n",
    "    -needs a good initial guess (i.e. first Taylor expansion term bigger\n",
    "     than others) \n",
    "    -assume that the minimal eigenvalue is a smooth function, which is \n",
    "     not the case when a mode opens in the lead, or when the minimal \n",
    "     eigenvalue changes\n",
    "    Upside: Fast\n",
    "    Brentq:\n",
    "    from scipy, \"Generally considered the best of the rootfinding routines here\"\n",
    "\n",
    "    Returns at most 1 bound state...\n",
    "    \"\"\"\n",
    "    mat = extract_kwant_matrices(syst, sparse=sparse, args=args, params=params)\n",
    "\n",
    "    # To use Singular value decomposition and look for a minimum\n",
    "    return SVD_formulation(mat, E_range, tol, return_wf=return_wf, sparse=sparse)\n",
    "    # To use eigenvalue decomposition and look for a root\n",
    "    # return Hermitian_formulation(mat, E_0, return_wf=return_wf)\n",
    "\n",
    "def SVD_formulation(mat, E_range, tol, return_wf=False, sparse=False, sigma=None, sing_values=1):\n",
    "    \"\"\"\n",
    "    Compute the singular values of Eq.11\n",
    "    \"\"\"\n",
    "    def min_sing(e):\n",
    "        return min(singular_values(*mat, e, sparse=sparse, uv=False, sing_values=1))\n",
    "\n",
    "    minimum = minimize_scalar(min_sing, method='Bounded', bounds=E_range, \n",
    "                              options={'xatol': tol})\n",
    "    if minimum.fun > tol:\n",
    "        print(minimum.fun)\n",
    "        return None\n",
    "\n",
    "    E = minimum.x\n",
    "    if return_wf:\n",
    "        #print('here')\n",
    "        #print(minimum)\n",
    "        S, Wh, L_out, X_out = singular_values(*mat, E, sparse=sparse,\n",
    "                                              uv=True, sigma=sigma,\n",
    "                                              sing_values=sing_values)\n",
    "        \n",
    "        psi_alpha_0, q_e, L_out, Phi = compute_wf(S, Wh.conj().T, L_out, \n",
    "                                                X_out, mat[0].shape[0], \n",
    "                                                tol=tol,schur_modes=False)\n",
    "        return E, psi_alpha_0, q_e, L_out, Phi\n",
    "    else:\n",
    "        return E\n",
    "\n",
    "def Hermitian_formulation(mat, E_0, return_wf=False, fprime=eig_val_derivative):\n",
    "\n",
    "    def min_eig(e, *mat, sparse=sparse):\n",
    "        eig = eig_values(*mat, e, sparse=sparse, uv=False, sing_values=1)\n",
    "        idx = np.argmin(abs(eig))\n",
    "        return eig[idx]\n",
    "\n",
    "    try:\n",
    "        E = newton(min_eig, E_0, fprime=fprime, tol=tol, args=(*mat, sparse))\n",
    "\n",
    "        if not false_positive_BS(*mat, E, eps=eps):\n",
    "            print('False positive, no bound state')\n",
    "            return None\n",
    "        if return_wf:\n",
    "            S, Wh, L_out, X_out = eig_values(*mat, E, sparse=sparse,\n",
    "                                             uv=True)\n",
    "            psi_alpha_0, q_e, L_out, Phi = compute_wf(S, Wh.conj().T, L_out, \n",
    "                                                X_out, mat[0].shape, \n",
    "                                                tol=tol,schur_modes=False)\n",
    "            return E, psi_alpha_0, q_e, L_out, Phi\n",
    "        else:\n",
    "            return E\n",
    "\n",
    "    except RuntimeError:\n",
    "        print('no bound states found')\n",
    "\n",
    "def wf_in_leads(q_e, L_out, Phi, j):\n",
    "    \"\"\"\n",
    "    Compute the bound state wavefunction in the jth cell of the lead.\n",
    "    According to M.W. notes, the first unit cell is labbelled by 1.\n",
    "    Eq.7 in the paper\n",
    "    \"\"\"\n",
    "    return Phi @ np.linalg.matrix_power(L_out, j) @ q_e \n"
   ]
  },
  {
   "cell_type": "markdown",
   "id": "1955c2e6-0a0b-4d24-b90f-fc85e2ae4cef",
   "metadata": {},
   "source": [
    "# Functions"
   ]
  },
  {
   "cell_type": "code",
   "execution_count": 28,
   "id": "19f2e68b-abb0-45c6-ae1a-ef48c04f7e7f",
   "metadata": {},
   "outputs": [],
   "source": [
    "# code chunk useful for selecting every n elements to separate the wavefunctions in the two leads.\n",
    "def select_in_groups_strided(a, M, N): # Keep first M, delete next N and so on.\n",
    "    K = M+N\n",
    "    na = a.size\n",
    "    nrows = (1+((na-1)//K))\n",
    "    n = a.strides[0]\n",
    "    out = np.lib.index_tricks.as_strided(a, shape=(nrows,K), strides=(K*n,n))\n",
    "    N = M*(na//K) + (na - (K*(na//K)))\n",
    "    return out[:,:M].ravel()[:N]"
   ]
  },
  {
   "cell_type": "code",
   "execution_count": 29,
   "id": "a32d9c5d-96c2-4003-b838-001d14395491",
   "metadata": {},
   "outputs": [],
   "source": [
    "# returns the wave function in the leads up to a given last-cell magnitude, or a given number of cells.\n",
    "def long_wf_in_leads(q_e, L_out, Phi, lead_no=1, fixed_no_cells=None, limit=100., no_orb=2):\n",
    "    '''return wavefunction with leads with number of unit cells'''\n",
    "    no_orb = int(no_orb)\n",
    "    if fixed_no_cells is None:\n",
    "        j=0\n",
    "        quick_wf = wf_in_leads(q_e, L_out, Phi, 0)\n",
    "        wave_func_array = quick_wf\n",
    "        first_site_amplitude = quick_wf.T.conj()@quick_wf\n",
    "        last_site_amplitude = first_site_amplitude\n",
    "        while last_site_amplitude > first_site_amplitude/limit:\n",
    "            j+=1\n",
    "            quick_wfj = wf_in_leads(q_e, L_out, Phi, j)\n",
    "            wave_func_array = np.vstack((wave_func_array, quick_wfj))\n",
    "            last_site_amplitude = quick_wfj.T.conj()@quick_wfj\n",
    "        wave_func_array = np.array(wave_func_array)\n",
    "        if lead_no==0:\n",
    "            return select_in_groups_strided(wave_func_array, no_orb, no_orb), wave_func_array.shape[0]/(no_orb*2)\n",
    "        elif lead_no==1:\n",
    "            return select_in_groups_strided(wave_func_array[no_orb:], no_orb, no_orb), wave_func_array.shape[0]/(no_orb*2)\n",
    "    else:\n",
    "        wave_func_array = wf_in_leads(q_e, L_out, Phi, 0)\n",
    "        for i in range(0, fixed_no_cells):\n",
    "            quick_wfj = wf_in_leads(q_e, L_out, Phi, i+1)\n",
    "            wave_func_array = np.vstack((wave_func_array, quick_wfj))\n",
    "        wave_func_array = np.array(wave_func_array)\n",
    "        if lead_no==0:\n",
    "            return select_in_groups_strided(wave_func_array, no_orb, no_orb), wave_func_array.shape[0]/(no_orb*2)\n",
    "        elif lead_no==1:\n",
    "            return select_in_groups_strided(wave_func_array[no_orb:], no_orb, no_orb), wave_func_array.shape[0]/(no_orb*2)"
   ]
  },
  {
   "cell_type": "code",
   "execution_count": 59,
   "id": "c20e25ca-0335-48b1-84c3-eca3912f2d32",
   "metadata": {},
   "outputs": [],
   "source": [
    "# re-inputs the bound-state energies into the Istas version bound-state code to extract lead wave functions.\n",
    "# has a plot function inside to visualise the overall wave function of each state in each orbital.\n",
    "# code not optimised. Only for showing the problem we have encountered with the algorithm.\n",
    "def istas_scan(e_subarray, syst, params=None, all_out=False, no_orb=2, draw=True):\n",
    "    '''\n",
    "    Extract the wavefunction, including the part in the leads, using the Istas bound state code, given\n",
    "    a pre-calculated list of bound state energies for a system. Also renders a plot of the real-space\n",
    "    probability distribution (each column for a different orbital, and each row for a different bound\n",
    "    state. Empty subplots means that that Weston bound state is not recognised by Istas as a true bound state.)\n",
    "    \n",
    "            Parameters:\n",
    "                    e_subarray (list-like): The pre-calculated boundstate energies\n",
    "                    syst (Kwant.InfiniteSystem): The system with the correct parameter matching\n",
    "                                                 the pre-calculated bound states.\n",
    "                    params (dictionary): Parameters for syst.\n",
    "                    all_out (bool): whether to output all parts of the wavefunction, or just the part in the right lead\n",
    "                                    (This was for our own purposes where for our matrix element calculations only the\n",
    "                                    right lead has non-zero contributions)\n",
    "                    no_orb (int): No. of orbitals per unit cell.\n",
    "\n",
    "            Returns:\n",
    "                    e_compare (list of floats): A list of bound state energies calculated by Istas.\n",
    "                    wavefunc_lleads (list of arrays): A list of left lead (index 0) wavefunctions, wavefunc_lleads[i]\n",
    "                                                      being the wavefunction for the state at E=e_compare[i]\n",
    "                    wavefunc_rleads (list of arrays): Same as above, except these are the wavefunctions in the right lead.\n",
    "                    wavefunc_scat (list of arrays): Same as above but for the scattering region.\n",
    "                    no_cells_lleads (list of floats): Number of unit cells I have calculated up to in the left lead.\n",
    "                                                      I have selected the arbitrary threshold of calculating further unit\n",
    "                                                      cells until the probability of that cell is 10,000 lower than the\n",
    "                                                      probability of the first unit cell in the lead.\n",
    "                    no_cells_rleads (list of floats): Same as above but for the right lead.\n",
    "    '''\n",
    "    no_orb = int(no_orb)\n",
    "    no_states = len(e_subarray)\n",
    "    e_division = np.array([[e_subarray[i], e_subarray[i]] for i in range(len(e_subarray))])\n",
    "    e_compare = []\n",
    "    wavefunc_lleads = []\n",
    "    no_cells_lleads = []\n",
    "    wavefunc_rleads = []\n",
    "    no_cells_rleads = []\n",
    "    wavefunc_scat = []\n",
    "    if draw:\n",
    "        fig, axs = plt.subplots(no_states, 2, figsize=(15,15))\n",
    "        for i in range(len(e_subarray)):\n",
    "            print(i)\n",
    "            print(e_division[i])\n",
    "            try:\n",
    "                E, psi_alpha_0, q_e, L_out, Phi = bound_state(syst, e_division[i], return_wf=True, params=params)\n",
    "            except:\n",
    "                continue\n",
    "            e_compare.append(E)\n",
    "            wavefunc_scat.append(psi_alpha_0)\n",
    "            trial_wfr, no_cellsr = long_wf_in_leads(q_e, L_out, Phi, lead_no=1, limit=10000., no_orb=no_orb)\n",
    "            trial_wfl, no_cellsl = long_wf_in_leads(q_e, L_out, Phi, lead_no=0, limit=10000., no_orb=no_orb)\n",
    "            no_cells_lleads.append(no_cellsl)\n",
    "            no_cells_rleads.append(no_cellsr)\n",
    "            wavefunc_lleads.append(trial_wfl)\n",
    "            wavefunc_rleads.append(trial_wfr)\n",
    "            #print(trial_wf)\n",
    "            #print(trial_wfr)\n",
    "            #print(trial_wfr.shape)\n",
    "            #print(trial_wfr.shape[0]/8)\n",
    "            #print(psi_alpha_0.shape)\n",
    "            for k in range(no_orb):\n",
    "                ax = axs[i][k]\n",
    "                ax.plot(np.arange(-trial_wfl.shape[0]/no_orb+1, 1), np.array([np.abs(trial_wfl[j*no_orb+k])**2. for j in range(int(trial_wfl.shape[0]/no_orb)-1, -1, -1)]))\n",
    "                    #[trial_wfl[j*no_orb:(j+1)*no_orb].T.conj()@trial_wfl[j*no_orb:(j+1)*no_orb] for j in range(int(trial_wfl.shape[0]/no_orb)-1, -1, -1)]))\n",
    "                ax.plot(np.arange(psi_alpha_0.shape[0]/no_orb), np.array([np.abs(psi_alpha_0[j*no_orb+k,0])**2. for j in range(int(psi_alpha_0.shape[0]/no_orb))]))\n",
    "                    #psi_alpha_0[j*no_orb:(j+1)*no_orb,0].T.conj()@psi_alpha_0[j*no_orb:(j+1)*no_orb,0] for j in range(int(psi_alpha_0.shape[0]/no_orb))]))\n",
    "                ax.plot(np.arange(psi_alpha_0.shape[0]/no_orb-1, trial_wfr.shape[0]/no_orb+psi_alpha_0.shape[0]/no_orb-1), np.array([np.abs(trial_wfr[j*no_orb+k])**2. for j in range(int(trial_wfr.shape[0]/no_orb))]))\n",
    "                #ax.plot(np.arange(-trial_wfl.shape[0]/8+1, 0), np.array([np.abs(trial_wfl[j*8+k])**2. for j in range(int(trial_wfl.shape[0]/8)-1, 0, -1)]))\n",
    "                #ax.plot(np.arange(psi_alpha_0.shape[0]/8), np.array([np.abs(psi_alpha_0[j*8+k,0])**2. for j in range(int(psi_alpha_0.shape[0]/8))]))\n",
    "                #ax.plot(np.arange(psi_alpha_0.shape[0]/8, trial_wfr.shape[0]/8+psi_alpha_0.shape[0]/8-1), np.array([np.abs(trial_wfr[j*8+k])**2. for j in range(int(trial_wfr.shape[0]/8)-1)]))\n",
    "                #plt.xlim(-100, 100)\n",
    "                #plt.ylim(0, 0.002)\n",
    "                #ax.set_xlim(-100, 100)\n",
    "            fig.text(0.5, 0.08, 'Orbitals', ha='center', fontsize=18)\n",
    "            fig.text(0.04, 0.5, 'Bound states', va='center', rotation='vertical', fontsize=18)\n",
    "    else:\n",
    "        for i in range(len(e_subarray)):\n",
    "            print(i)\n",
    "            print(e_division[i])\n",
    "            try:\n",
    "                E, psi_alpha_0, q_e, L_out, Phi = bound_state(syst, e_division[i], return_wf=True, params=params)\n",
    "            except:\n",
    "                continue\n",
    "            e_compare.append(E)\n",
    "            wavefunc_scat.append(psi_alpha_0)\n",
    "            trial_wfr, no_cellsr = long_wf_in_leads(q_e, L_out, Phi, lead_no=1, limit=10000., no_orb=no_orb)\n",
    "            trial_wfl, no_cellsl = long_wf_in_leads(q_e, L_out, Phi, lead_no=0, limit=10000., no_orb=no_orb)\n",
    "            no_cells_lleads.append(no_cellsl)\n",
    "            no_cells_rleads.append(no_cellsr)\n",
    "            wavefunc_lleads.append(trial_wfl)\n",
    "            wavefunc_rleads.append(trial_wfr)\n",
    "        \n",
    "        '''if i==0:\n",
    "            fig, axs = plt.subplots(4, 2, figsize=(15,15))\n",
    "            for k in range(0, 8):\n",
    "                ax = axs.flatten()[k]\n",
    "                ax.plot(np.arange(-trial_wfl.shape[0]/8+1, 0), np.array([np.abs(trial_wfl[j*8+k])**2. for j in range(int(trial_wfl.shape[0]/8)-1, 0, -1)]))\n",
    "                ax.plot(np.arange(psi_alpha_0.shape[0]/8), np.array([np.abs(psi_alpha_0[j*8+k,0])**2. for j in range(int(psi_alpha_0.shape[0]/8))]))\n",
    "                ax.plot(np.arange(psi_alpha_0.shape[0]/8, trial_wfr.shape[0]/8+psi_alpha_0.shape[0]/8-1), np.array([np.abs(trial_wfr[j*8+k])**2. for j in range(int(trial_wfr.shape[0]/8)-1)]))\n",
    "                #plt.xlim(-100, 100)\n",
    "                #plt.ylim(0, 0.002)\n",
    "                ax.axhline(0, c='k', alpha=0.7)\n",
    "            print('left lead')\n",
    "            print(np.array([trial_wfl[j*1:(j+1)*1].T.conj()@trial_wfl[j*1:(j+1)*1] for j in range(int(trial_wfl.shape[0]/1)-1, -1, -1)]))\n",
    "            plt.plot(np.arange(-trial_wfl.shape[0]/1+1, 1), np.array([trial_wfl[j*1:(j+1)*1].T.conj()@trial_wfl[j*1:(j+1)*1] for j in range(int(trial_wfl.shape[0]/1)-1, -1, -1)]))\n",
    "            plt.plot(np.arange(psi_alpha_0.shape[0]/1), np.array([psi_alpha_0[j*1:(j+1)*1,0].T.conj()@psi_alpha_0[j*1:(j+1)*1,0] for j in range(int(psi_alpha_0.shape[0]/1))]))\n",
    "            plt.plot(np.arange(psi_alpha_0.shape[0]/1-1, trial_wfr.shape[0]/1+psi_alpha_0.shape[0]/1-1), np.array([trial_wfr[j*1:(j+1)*1].T.conj()@trial_wfr[j*1:(j+1)*1] for j in range(int(trial_wfr.shape[0]/1))]))\n",
    "            #plt.xlim(-100, 100)'''\n",
    "        #print(psi_alpha_0[-8:])\n",
    "        #print(wf_in_leads(q_e, L_out, Phi, 0)[-8:])\n",
    "        #print(syst.leads[1].inter_cell_hopping().T.conj()@psi_alpha_0[-8:])\n",
    "        #print(psi_alpha_0[-8:]/wf_in_leads(q_e, L_out, Phi, 0)[-8:])\n",
    "        #print(i)\n",
    "        #print(E)\n",
    "        #print(psi_alpha_0)\n",
    "        #print(q_e)\n",
    "        #print(np.abs(np.array([L_out[i,i] for i in range(len(L_out))])))\n",
    "        #print(Phi[:,3])\n",
    "    #print(no_cells_rleads)\n",
    "    no_cell_runiform = int(max(no_cells_rleads)/2)\n",
    "    #print('no_cell_runiform')\n",
    "    #print(no_cell_runiform)\n",
    "    e_compare = []\n",
    "    wavefunc_lleads = []\n",
    "    no_cells_lleads = []\n",
    "    wavefunc_rleads = []\n",
    "    no_cells_rleads = []\n",
    "    wavefunc_scat = []\n",
    "    for i in range(len(e_subarray)):\n",
    "        #print(i)\n",
    "        #print(e_division[i])\n",
    "        try:\n",
    "            E, psi_alpha_0, q_e, L_out, Phi = bound_state(syst, e_division[i], return_wf=True, params=params)\n",
    "        except:\n",
    "            continue\n",
    "        e_compare.append(E)\n",
    "        wavefunc_scat.append(psi_alpha_0)\n",
    "        trial_wfr, no_cellsr = long_wf_in_leads(q_e, L_out, Phi, lead_no=1, fixed_no_cells=no_cell_runiform, no_orb=no_orb)\n",
    "        trial_wfl, no_cellsl = long_wf_in_leads(q_e, L_out, Phi, lead_no=0, fixed_no_cells=no_cell_runiform, no_orb=no_orb)\n",
    "        no_cells_lleads.append(no_cellsl)\n",
    "        no_cells_rleads.append(no_cellsr)\n",
    "        wavefunc_lleads.append(trial_wfl)\n",
    "        wavefunc_rleads.append(trial_wfr)\n",
    "    \n",
    "    if all_out:\n",
    "        return e_compare, wavefunc_lleads, wavefunc_rleads, wavefunc_scat, no_cells_lleads, no_cells_rleads\n",
    "    else:\n",
    "        return e_compare, wavefunc_rleads, no_cells_rleads"
   ]
  },
  {
   "cell_type": "code",
   "execution_count": 31,
   "id": "22e5a196-ac97-4856-a87f-bb6d5d645f6b",
   "metadata": {},
   "outputs": [],
   "source": [
    "# transform from vecs and vecslmbdainv of kwant.modes to eigenvectors@eigenvalues and eigenvectors following\n",
    "# https://gitlab.kwant-project.org/kwant/kwant/-/merge_requests/39\n",
    "def inverse_A_B_alt(syst, vecslmbdainv, vecs, params):\n",
    "    hop = syst.leads[0].inter_cell_hopping(params=params)\n",
    "    B = np.sqrt(np.linalg.norm(hop))*np.identity(hop.shape[0])\n",
    "    A = hop@np.linalg.inv(B).T.conj()\n",
    "    B_dagger_inv = np.linalg.inv(B.T.conj())\n",
    "    A_dagger_inv = np.linalg.inv(A.T.conj())\n",
    "    phi_lmbda = A_dagger_inv@vecs\n",
    "    phi = B_dagger_inv@vecslmbdainv\n",
    "    return phi, phi_lmbda"
   ]
  },
  {
   "cell_type": "code",
   "execution_count": 32,
   "id": "c80ab3f8-d19e-467e-9b61-fa67be3b183c",
   "metadata": {},
   "outputs": [],
   "source": [
    "# Get StabilisedModes given system and energy\n",
    "def vecs_vecslmbdainv(syst, energy, params, lead_no=1):\n",
    "    _, stab = syst.leads[lead_no].modes(energy, params=params)\n",
    "    evan_vecs = slice(2 * stab.nmodes, None)\n",
    "    u_out = stab.vecs[:, evan_vecs]\n",
    "    ulinv_out = stab.vecslmbdainv[:, evan_vecs]\n",
    "    return ulinv_out, u_out"
   ]
  },
  {
   "cell_type": "code",
   "execution_count": 44,
   "id": "53d12841-ad5d-4de6-9a74-19e71b579660",
   "metadata": {},
   "outputs": [],
   "source": []
  },
  {
   "cell_type": "code",
   "execution_count": null,
   "id": "c4ce30ac-82c1-4c8f-b1e2-f2b91ca24cc8",
   "metadata": {},
   "outputs": [],
   "source": [
    "for i in range(41):\n",
    "    syst = infinite_system1(dict(\n",
    "            mu = 1e-2,\n",
    "            A = 1,\n",
    "            Delta=1e-3,\n",
    "            phi=np.pi/10.*i\n",
    "        ), lead_times=0)\n",
    "    energies_Istas, wavefunc_lleads, wavefunc_rleads, wavefunc_scat, no_cells_lleads, no_cells_rleads = istas_scan(e_array[i], syst, all_out=True)\n",
    "    plt.suptitle(r'$\\phi=%.2f, \\mu=1e-2, \\Delta=1e-3$' % (np.pi/10.*i))\n",
    "    #plt.savefig('./figs/mu>>delta/phi=%s' % (int(i)), dpi=300, bbox_inches='tight')"
   ]
  },
  {
   "cell_type": "code",
   "execution_count": 182,
   "id": "58c27695-567a-4b84-bd43-8d141d651120",
   "metadata": {},
   "outputs": [
    {
     "name": "stdout",
     "output_type": "stream",
     "text": [
      "0\n",
      "0\n",
      "[-0.00099504 -0.00099504]\n",
      "1\n",
      "[0.00099504 0.00099504]\n",
      "1\n",
      "0\n",
      "[-0.00097649 -0.00097649]\n",
      "1\n",
      "[0.00097649 0.00097649]\n",
      "2\n",
      "0\n",
      "[-0.00093272 -0.00093272]\n",
      "1\n",
      "[0.00093272 0.00093272]\n",
      "3\n",
      "0\n",
      "[-0.00086715 -0.00086715]\n",
      "1\n",
      "[0.00086715 0.00086715]\n",
      "4\n",
      "0\n",
      "[-0.00078187 -0.00078187]\n",
      "1\n",
      "[0.00078187 0.00078187]\n",
      "5\n",
      "0\n",
      "[-0.00067921 -0.00067921]\n",
      "1\n",
      "[0.00067921 0.00067921]\n",
      "6\n",
      "0\n",
      "[-0.00056176 -0.00056176]\n",
      "1\n",
      "[0.00056176 0.00056176]\n",
      "7\n",
      "0\n",
      "[-0.00043231 -0.00043231]\n",
      "1\n",
      "[0.00043231 0.00043231]\n",
      "8\n",
      "0\n",
      "[-0.00029386 -0.00029386]\n",
      "1\n",
      "[0.00029386 0.00029386]\n",
      "9\n",
      "0\n",
      "[-0.00014986 -0.00014986]\n",
      "1\n",
      "[0.00014986 0.00014986]\n",
      "10\n",
      "0\n",
      "[-2.35240294e-05 -2.35240294e-05]\n",
      "1\n",
      "[2.35240294e-05 2.35240294e-05]\n",
      "11\n",
      "0\n",
      "[-0.00014986 -0.00014986]\n",
      "1\n",
      "[0.00014986 0.00014986]\n",
      "12\n",
      "0\n",
      "[-0.00029386 -0.00029386]\n",
      "1\n",
      "[0.00029386 0.00029386]\n",
      "13\n",
      "0\n",
      "[-0.00043231 -0.00043231]\n",
      "1\n",
      "[0.00043231 0.00043231]\n",
      "14\n",
      "0\n",
      "[-0.00056176 -0.00056176]\n",
      "1\n",
      "[0.00056176 0.00056176]\n",
      "15\n",
      "0\n",
      "[-0.00067921 -0.00067921]\n",
      "1\n",
      "[0.00067921 0.00067921]\n",
      "16\n",
      "0\n",
      "[-0.00078187 -0.00078187]\n",
      "1\n",
      "[0.00078187 0.00078187]\n",
      "17\n",
      "0\n",
      "[-0.00086715 -0.00086715]\n",
      "1\n",
      "[0.00086715 0.00086715]\n",
      "18\n",
      "0\n",
      "[-0.00093272 -0.00093272]\n",
      "1\n",
      "[0.00093272 0.00093272]\n",
      "19\n",
      "0\n",
      "[-0.00097649 -0.00097649]\n",
      "1\n",
      "[0.00097649 0.00097649]\n",
      "20\n",
      "0\n",
      "[-0.00099504 -0.00099504]\n",
      "1\n",
      "[0.00099504 0.00099504]\n",
      "21\n",
      "0\n",
      "[-0.00097649 -0.00097649]\n",
      "1\n",
      "[0.00097649 0.00097649]\n",
      "22\n",
      "0\n",
      "[-0.00093272 -0.00093272]\n",
      "1\n",
      "[0.00093272 0.00093272]\n",
      "23\n",
      "0\n",
      "[-0.00086715 -0.00086715]\n",
      "1\n",
      "[0.00086715 0.00086715]\n",
      "24\n",
      "0\n",
      "[-0.00078187 -0.00078187]\n",
      "1\n",
      "[0.00078187 0.00078187]\n",
      "25\n",
      "0\n",
      "[-0.00067921 -0.00067921]\n",
      "1\n",
      "[0.00067921 0.00067921]\n",
      "26\n",
      "0\n",
      "[-0.00056176 -0.00056176]\n",
      "1\n",
      "[0.00056176 0.00056176]\n",
      "27\n",
      "0\n",
      "[-0.00043231 -0.00043231]\n",
      "1\n",
      "[0.00043231 0.00043231]\n",
      "28\n",
      "0\n",
      "[-0.00029386 -0.00029386]\n",
      "1\n",
      "[0.00029386 0.00029386]\n",
      "29\n",
      "0\n",
      "[-0.00014986 -0.00014986]\n",
      "1\n",
      "[0.00014986 0.00014986]\n",
      "30\n",
      "0\n",
      "[-2.35240294e-05 -2.35240294e-05]\n",
      "1\n",
      "[2.35240294e-05 2.35240294e-05]\n",
      "31\n",
      "0\n",
      "[-0.00014986 -0.00014986]\n",
      "1\n",
      "[0.00014986 0.00014986]\n",
      "32\n",
      "0\n",
      "[-0.00029386 -0.00029386]\n",
      "1\n",
      "[0.00029386 0.00029386]\n",
      "33\n",
      "0\n",
      "[-0.00043231 -0.00043231]\n",
      "1\n",
      "[0.00043231 0.00043231]\n",
      "34\n",
      "0\n",
      "[-0.00056176 -0.00056176]\n",
      "1\n",
      "[0.00056176 0.00056176]\n",
      "35\n",
      "0\n",
      "[-0.00067921 -0.00067921]\n",
      "1\n",
      "[0.00067921 0.00067921]\n",
      "36\n",
      "0\n",
      "[-0.00078187 -0.00078187]\n",
      "1\n",
      "[0.00078187 0.00078187]\n",
      "37\n",
      "0\n",
      "[-0.00086715 -0.00086715]\n",
      "1\n",
      "[0.00086715 0.00086715]\n",
      "38\n",
      "0\n",
      "[-0.00093272 -0.00093272]\n",
      "1\n",
      "[0.00093272 0.00093272]\n",
      "39\n",
      "0\n",
      "[-0.00097649 -0.00097649]\n",
      "1\n",
      "[0.00097649 0.00097649]\n",
      "40\n",
      "0\n",
      "[-0.00099504 -0.00099504]\n",
      "1\n",
      "[0.00099504 0.00099504]\n"
     ]
    }
   ],
   "source": [
    "norm_check_array = []\n",
    "eigen_check_array = []\n",
    "for i in range(41):\n",
    "    print(i)\n",
    "    syst = infinite_system1(dict(\n",
    "            mu = 1e-2,\n",
    "            A = 1,\n",
    "            Delta=1e-3,\n",
    "            phi=np.pi/10.*i\n",
    "        ), lead_times=0)\n",
    "    energies_Istas, wavefunc_lleads, wavefunc_rleads, wavefunc_scat, no_cells_lleads, no_cells_rleads = istas_scan(e_array[i], syst, all_out=True, draw=False)\n",
    "    \n",
    "    normalisation_check = []\n",
    "    eigenenergy_check = []\n",
    "    finite_syst1 = finite_system1(dict(\n",
    "                mu = 1e-2,\n",
    "                A = 1,\n",
    "                Delta=1e-3,\n",
    "                phi=np.pi/10.*i\n",
    "            ), no_cells_lleads[0]-1)\n",
    "    for j in range(len(wavefunc_scat)):\n",
    "        wavefunc_left_temp = np.c_[wavefunc_lleads[j][2:][::2][::-1], wavefunc_lleads[j][2:][1::2][::-1]].flatten()\n",
    "        psi0 = np.r_[wavefunc_left_temp, wavefunc_scat[j].flatten(), wavefunc_rleads[j][2:]]\n",
    "        norm = psi0.T.conj()@psi0\n",
    "        eigenenergy = psi0.T.conj()@finite_syst1.hamiltonian_submatrix()@psi0\n",
    "        normalisation_check.append(norm)\n",
    "        eigenenergy_check.append(eigenenergy)\n",
    "    norm_check_array.append(normalisation_check)\n",
    "    eigen_check_array.append(eigenenergy_check)"
   ]
  },
  {
   "cell_type": "code",
   "execution_count": 183,
   "id": "bd64e03c-0264-456c-8b02-8d1b6a08ec3d",
   "metadata": {},
   "outputs": [],
   "source": [
    "norm_check_array = np.array(norm_check_array)\n",
    "eigen_check_array = np.array(eigen_check_array)"
   ]
  },
  {
   "cell_type": "code",
   "execution_count": 184,
   "id": "18a1f648-3b59-4c27-9244-358107ef3120",
   "metadata": {},
   "outputs": [
    {
     "data": {
      "text/plain": [
       "array([-7.11420022e-05+1.97215226e-31j,  7.11420022e-05-2.56379794e-30j])"
      ]
     },
     "execution_count": 184,
     "metadata": {},
     "output_type": "execute_result"
    }
   ],
   "source": [
    "eigen_check_array[10]"
   ]
  },
  {
   "cell_type": "code",
   "execution_count": 185,
   "id": "2ceac294-71c7-4435-8630-8ba20d6574b6",
   "metadata": {},
   "outputs": [
    {
     "name": "stderr",
     "output_type": "stream",
     "text": [
      "/Users/afasjasd/anaconda3/envs/snakes/lib/python3.9/site-packages/numpy/core/_asarray.py:102: ComplexWarning: Casting complex values to real discards the imaginary part\n",
      "  return array(a, dtype, copy=False, order=order)\n"
     ]
    },
    {
     "data": {
      "text/plain": [
       "<matplotlib.lines.Line2D at 0x11965c9a0>"
      ]
     },
     "execution_count": 185,
     "metadata": {},
     "output_type": "execute_result"
    },
    {
     "data": {
      "image/png": "[encoded data removed]",
      "text/plain": [
       "<Figure size 432x288 with 1 Axes>"
      ]
     },
     "metadata": {
      "needs_background": "light"
     },
     "output_type": "display_data"
    }
   ],
   "source": [
    "plt.plot(np.linspace(0, 4*np.pi, 41), norm_check_array)\n",
    "plt.xlabel(r'$\\phi$')\n",
    "plt.ylabel(r'$\\langle \\psi_n | \\psi_n \\rangle$')\n",
    "plt.axhline(1, c='k', ls='--', alpha=0.3)"
   ]
  },
  {
   "cell_type": "code",
   "execution_count": 186,
   "id": "7e8994f5-101b-407a-b698-d79bc06bbab5",
   "metadata": {},
   "outputs": [
    {
     "data": {
      "text/plain": [
       "<matplotlib.lines.Line2D at 0x11b9ea280>"
      ]
     },
     "execution_count": 186,
     "metadata": {},
     "output_type": "execute_result"
    },
    {
     "data": {
      "image/png": "[encoded data removed]",
      "text/plain": [
       "<Figure size 432x288 with 1 Axes>"
      ]
     },
     "metadata": {
      "needs_background": "light"
     },
     "output_type": "display_data"
    }
   ],
   "source": [
    "plt.plot(np.linspace(0, 4*np.pi, 41), np.real(eigen_check_array)/1e-3, c='b', label='finite system')\n",
    "plt.plot(np.linspace(0, 4*np.pi, 41), e_array/1e-3, c='r', label='BS energies')\n",
    "plt.legend(fontsize=12)\n",
    "plt.xlabel(r'$\\phi$')\n",
    "plt.ylabel(r'$E/\\Delta$')\n",
    "plt.axhline(1, c='k', ls='--', alpha=0.3)\n",
    "plt.axhline(-1, c='k', ls='--', alpha=0.3)"
   ]
  },
  {
   "cell_type": "code",
   "execution_count": null,
   "id": "57bb0681-5edb-49ac-816e-570a09aac8a4",
   "metadata": {},
   "outputs": [],
   "source": [
    "for i in range(41):\n",
    "    print(i)\n",
    "    syst = infinite_system1(dict(\n",
    "            mu = 1e-2,\n",
    "            A = 1,\n",
    "            Delta=1e-3,\n",
    "            phi=np.pi/10.*i\n",
    "        ), lead_times=0)\n",
    "    energies_Istas, wavefunc_lleads, wavefunc_rleads, wavefunc_scat, no_cells_lleads, no_cells_rleads = istas_scan(e_array[i], syst, all_out=True, draw=False)\n",
    "\n",
    "    finite_syst1 = finite_system1(dict(\n",
    "                mu = 1e-2,\n",
    "                A = 1,\n",
    "                Delta=1e-3,\n",
    "                phi=np.pi/10.*i\n",
    "            ), no_cells_lleads[0]-1)\n",
    "    \n",
    "    ind=0\n",
    "    wavefunc_left_temp = np.c_[wavefunc_lleads[ind][2:][::2][::-1], wavefunc_lleads[ind][2:][1::2][::-1]].flatten()\n",
    "    psi0 = np.r_[wavefunc_left_temp, wavefunc_scat[ind].flatten(), wavefunc_rleads[ind][2:]]\n",
    "    \n",
    "    sth = np.abs((finite_syst1.hamiltonian_submatrix()@psi0)/psi0)+energies_Istas[ind]\n",
    "    plt.figure()\n",
    "    plt.plot(np.arange(-(no_cells_lleads[0]+1)*2, len(sth)-(no_cells_lleads[0]+1)*2)/2., sth)\n",
    "    plt.xlabel('site index')\n",
    "    plt.ylabel('deviation from SE')\n",
    "    plt.title(r'$\\phi=%.2f$' % (np.pi/10.*i))\n",
    "    plt.savefig('./figs/deviation from SE/phi=%s' % (int(i)), dpi=300, bbox_inches='tight')"
   ]
  },
  {
   "cell_type": "code",
   "execution_count": 187,
   "id": "a9b470eb-2447-4a57-a660-9e310f86fc3e",
   "metadata": {},
   "outputs": [],
   "source": [
    "syst = infinite_system1(dict(\n",
    "            mu = 1e-2,\n",
    "            A = 1,\n",
    "            Delta=1e-3,\n",
    "            phi=np.pi/10.*10.\n",
    "        ), lead_times=0)"
   ]
  },
  {
   "cell_type": "code",
   "execution_count": 188,
   "id": "44b88d56-9f8b-4b44-8397-e0df3a0677d1",
   "metadata": {},
   "outputs": [
    {
     "name": "stdout",
     "output_type": "stream",
     "text": [
      "0\n",
      "[-2.35240294e-05 -2.35240294e-05]\n",
      "1\n",
      "[2.35240294e-05 2.35240294e-05]\n"
     ]
    }
   ],
   "source": [
    "energies_Istas, wavefunc_lleads, wavefunc_rleads, wavefunc_scat, no_cells_lleads, no_cells_rleads = istas_scan(e_array[10], syst, all_out=True, draw=False)\n",
    "#plt.savefig('./figs/mu>>delta zoomed/trial', dpi=300, bbox_inches='tight')"
   ]
  },
  {
   "cell_type": "code",
   "execution_count": 189,
   "id": "571cb3a1-b83a-4780-9b41-bdbc145da11e",
   "metadata": {},
   "outputs": [],
   "source": [
    "def finite_system1(params, L_leads, L=11):\n",
    "    a = 1\n",
    "    mu, A, Delta, phi = params.values()\n",
    "    L_leads = int(L_leads)\n",
    "    \n",
    "    lat = kwant.lattice.chain()\n",
    "    syst = kwant.Builder()\n",
    "    \n",
    "    # Pauli matrices\n",
    "    sigma_0 = np.array([[1, 0], [0, 1]])\n",
    "    sigma_x = np.array([[0, 1], [1, 0]])\n",
    "    sigma_y = np.array([[0, -1j], [1j, 0]])\n",
    "    sigma_z = np.array([[1, 0], [0, -1]])\n",
    "    \n",
    "    ham = (2.*A/(a**2.)-mu)*sigma_z\n",
    "    hop = -A/(a**2.)*sigma_z\n",
    "    \n",
    "    ham_lead0 = ham + Delta*(np.cos(phi/2.)*sigma_x + np.sin(phi/2.)*sigma_y)\n",
    "    hop_lead0 = hop\n",
    "    ham_lead1 = ham + Delta*(np.cos(phi/2.)*sigma_x - np.sin(phi/2.)*sigma_y)\n",
    "    hop_lead1 = hop\n",
    "    \n",
    "    syst[(lat(x) for x in range(-L_leads, 0))] = ham_lead0\n",
    "    syst[(lat(x) for x in range(0, L))] = ham\n",
    "    syst[(lat(x) for x in range(L, L_leads+L))] = ham_lead1\n",
    "    syst[((lat(x), lat(x+1)) for x in range(-L_leads, L_leads+L-1))] = hop\n",
    "\n",
    "    return syst.finalized()"
   ]
  },
  {
   "cell_type": "markdown",
   "id": "4f27ef76-eef8-4aa0-b34c-93de41c329a2",
   "metadata": {},
   "source": [
    "# Mat ele calc"
   ]
  },
  {
   "cell_type": "code",
   "execution_count": 273,
   "id": "642034ab-045d-4690-b19a-09229fe4c33f",
   "metadata": {},
   "outputs": [],
   "source": [
    "def finite_system2(params, L_leads, L=11):\n",
    "    a = 1\n",
    "    mu, A, Delta, phi = params.values()\n",
    "    L_leads = int(L_leads)\n",
    "    \n",
    "    lat = kwant.lattice.chain()\n",
    "    syst = kwant.Builder()\n",
    "    \n",
    "    # Pauli matrices\n",
    "    sigma_0 = np.array([[1, 0], [0, 1]])\n",
    "    sigma_x = np.array([[0, 1], [1, 0]])\n",
    "    sigma_y = np.array([[0, -1j], [1j, 0]])\n",
    "    sigma_z = np.array([[1, 0], [0, -1]])\n",
    "    \n",
    "    ham = 0.*sigma_z\n",
    "    #hop = -A/(a**2.)*sigma_z\n",
    "    \n",
    "    ham_lead0 = ham + Delta*(-0.5*np.sin(phi/2.)*sigma_x + 0.5*np.cos(phi/2.)*sigma_y)\n",
    "    #hop_lead0 = hop\n",
    "    ham_lead1 = ham + Delta*(-0.5*np.sin(phi/2.)*sigma_x - 0.5*np.cos(phi/2.)*sigma_y)\n",
    "    #hop_lead1 = hop\n",
    "    \n",
    "    syst[(lat(x) for x in range(-L_leads, 0))] = ham_lead0\n",
    "    syst[(lat(x) for x in range(0, L))] = ham\n",
    "    syst[(lat(x) for x in range(L, L_leads+L))] = ham_lead1\n",
    "    #syst[((lat(x), lat(x+1)) for x in range(-L_leads, L_leads+L-1))] = hop\n",
    "\n",
    "    return syst.finalized()"
   ]
  },
  {
   "cell_type": "code",
   "execution_count": 274,
   "id": "9fbbbc39-cc49-4986-94cb-98c39b0fbcba",
   "metadata": {},
   "outputs": [
    {
     "data": {
      "image/png": "[encoded data removed]",
      "text/plain": [
       "<Figure size 432x288 with 1 Axes>"
      ]
     },
     "metadata": {
      "needs_background": "light"
     },
     "output_type": "display_data"
    },
    {
     "data": {
      "image/png": "[encoded data removed]",
      "text/plain": [
       "<Figure size 432x288 with 1 Axes>"
      ]
     },
     "execution_count": 274,
     "metadata": {},
     "output_type": "execute_result"
    }
   ],
   "source": [
    "kwant.plot(finite_system2(dict(\n",
    "                mu = 1e-2,\n",
    "                A = 1,\n",
    "                Delta=1e-3,\n",
    "                phi=np.pi/10.*i\n",
    "            ), 10))"
   ]
  },
  {
   "cell_type": "code",
   "execution_count": 276,
   "id": "a703a4d3-cfa4-4983-9707-de271b1a7eb8",
   "metadata": {},
   "outputs": [
    {
     "data": {
      "text/plain": [
       "<matplotlib.colorbar.Colorbar at 0x119587940>"
      ]
     },
     "execution_count": 276,
     "metadata": {},
     "output_type": "execute_result"
    },
    {
     "data": {
      "image/png": "[encoded data removed]",
      "text/plain": [
       "<Figure size 1080x1080 with 4 Axes>"
      ]
     },
     "metadata": {
      "needs_background": "light"
     },
     "output_type": "display_data"
    }
   ],
   "source": [
    "ham_bdg = finite_system2(dict(\n",
    "                mu = 1e-2,\n",
    "                A = 1,\n",
    "                Delta=1e-3,\n",
    "                phi=np.pi/10.*i\n",
    "            ), 10).hamiltonian_submatrix()\n",
    "\n",
    "norm1 = colors.TwoSlopeNorm(vcenter=0)\n",
    "norm2 = colors.TwoSlopeNorm(vcenter=0)\n",
    "\n",
    "fig, (ax1, ax2) = plt.subplots(1, 2, figsize=(15,15))\n",
    "im1 = ax1.imshow(np.real(ham_bdg), cmap='bwr', interpolation='none', norm=norm1)\n",
    "fig.colorbar(im1, ax=ax1)\n",
    "im2 = ax2.imshow(np.imag(ham_bdg), cmap='bwr', interpolation='none', norm=norm2)\n",
    "fig.colorbar(im2, ax=ax2)"
   ]
  },
  {
   "cell_type": "code",
   "execution_count": 281,
   "id": "805a4e2c-91a7-41c3-9b07-82520702a118",
   "metadata": {},
   "outputs": [
    {
     "data": {
      "text/plain": [
       "array([[ 0.,  0.],\n",
       "       [ 0., -0.]])"
      ]
     },
     "execution_count": 281,
     "metadata": {},
     "output_type": "execute_result"
    }
   ],
   "source": [
    "finite_system2(dict(\n",
    "                mu = 1e-2,\n",
    "                A = 1,\n",
    "                Delta=1e-3,\n",
    "                phi=np.pi/10.*i\n",
    "            ), 10).hamiltonian(10, 10)"
   ]
  },
  {
   "cell_type": "code",
   "execution_count": 282,
   "id": "79f06768-8ec0-4493-baad-46f06edb3ed0",
   "metadata": {},
   "outputs": [
    {
     "name": "stdout",
     "output_type": "stream",
     "text": [
      "0\n",
      "0\n",
      "[-0.00099504 -0.00099504]\n",
      "1\n",
      "[0.00099504 0.00099504]\n",
      "1\n",
      "0\n",
      "[-0.00097649 -0.00097649]\n",
      "1\n",
      "[0.00097649 0.00097649]\n",
      "2\n",
      "0\n",
      "[-0.00093272 -0.00093272]\n",
      "1\n",
      "[0.00093272 0.00093272]\n",
      "3\n",
      "0\n",
      "[-0.00086715 -0.00086715]\n",
      "1\n",
      "[0.00086715 0.00086715]\n",
      "4\n",
      "0\n",
      "[-0.00078187 -0.00078187]\n",
      "1\n",
      "[0.00078187 0.00078187]\n",
      "5\n",
      "0\n",
      "[-0.00067921 -0.00067921]\n",
      "1\n",
      "[0.00067921 0.00067921]\n",
      "6\n",
      "0\n",
      "[-0.00056176 -0.00056176]\n",
      "1\n",
      "[0.00056176 0.00056176]\n",
      "7\n",
      "0\n",
      "[-0.00043231 -0.00043231]\n",
      "1\n",
      "[0.00043231 0.00043231]\n",
      "8\n",
      "0\n",
      "[-0.00029386 -0.00029386]\n",
      "1\n",
      "[0.00029386 0.00029386]\n",
      "9\n",
      "0\n",
      "[-0.00014986 -0.00014986]\n",
      "1\n",
      "[0.00014986 0.00014986]\n",
      "10\n",
      "0\n",
      "[-2.35240294e-05 -2.35240294e-05]\n",
      "1\n",
      "[2.35240294e-05 2.35240294e-05]\n",
      "11\n",
      "0\n",
      "[-0.00014986 -0.00014986]\n",
      "1\n",
      "[0.00014986 0.00014986]\n",
      "12\n",
      "0\n",
      "[-0.00029386 -0.00029386]\n",
      "1\n",
      "[0.00029386 0.00029386]\n",
      "13\n",
      "0\n",
      "[-0.00043231 -0.00043231]\n",
      "1\n",
      "[0.00043231 0.00043231]\n",
      "14\n",
      "0\n",
      "[-0.00056176 -0.00056176]\n",
      "1\n",
      "[0.00056176 0.00056176]\n",
      "15\n",
      "0\n",
      "[-0.00067921 -0.00067921]\n",
      "1\n",
      "[0.00067921 0.00067921]\n",
      "16\n",
      "0\n",
      "[-0.00078187 -0.00078187]\n",
      "1\n",
      "[0.00078187 0.00078187]\n",
      "17\n",
      "0\n",
      "[-0.00086715 -0.00086715]\n",
      "1\n",
      "[0.00086715 0.00086715]\n",
      "18\n",
      "0\n",
      "[-0.00093272 -0.00093272]\n",
      "1\n",
      "[0.00093272 0.00093272]\n",
      "19\n",
      "0\n",
      "[-0.00097649 -0.00097649]\n",
      "1\n",
      "[0.00097649 0.00097649]\n",
      "20\n",
      "0\n",
      "[-0.00099504 -0.00099504]\n",
      "1\n",
      "[0.00099504 0.00099504]\n",
      "21\n",
      "0\n",
      "[-0.00097649 -0.00097649]\n",
      "1\n",
      "[0.00097649 0.00097649]\n",
      "22\n",
      "0\n",
      "[-0.00093272 -0.00093272]\n",
      "1\n",
      "[0.00093272 0.00093272]\n",
      "23\n",
      "0\n",
      "[-0.00086715 -0.00086715]\n",
      "1\n",
      "[0.00086715 0.00086715]\n",
      "24\n",
      "0\n",
      "[-0.00078187 -0.00078187]\n",
      "1\n",
      "[0.00078187 0.00078187]\n",
      "25\n",
      "0\n",
      "[-0.00067921 -0.00067921]\n",
      "1\n",
      "[0.00067921 0.00067921]\n",
      "26\n",
      "0\n",
      "[-0.00056176 -0.00056176]\n",
      "1\n",
      "[0.00056176 0.00056176]\n",
      "27\n",
      "0\n",
      "[-0.00043231 -0.00043231]\n",
      "1\n",
      "[0.00043231 0.00043231]\n",
      "28\n",
      "0\n",
      "[-0.00029386 -0.00029386]\n",
      "1\n",
      "[0.00029386 0.00029386]\n",
      "29\n",
      "0\n",
      "[-0.00014986 -0.00014986]\n",
      "1\n",
      "[0.00014986 0.00014986]\n",
      "30\n",
      "0\n",
      "[-2.35240294e-05 -2.35240294e-05]\n",
      "1\n",
      "[2.35240294e-05 2.35240294e-05]\n",
      "31\n",
      "0\n",
      "[-0.00014986 -0.00014986]\n",
      "1\n",
      "[0.00014986 0.00014986]\n",
      "32\n",
      "0\n",
      "[-0.00029386 -0.00029386]\n",
      "1\n",
      "[0.00029386 0.00029386]\n",
      "33\n",
      "0\n",
      "[-0.00043231 -0.00043231]\n",
      "1\n",
      "[0.00043231 0.00043231]\n",
      "34\n",
      "0\n",
      "[-0.00056176 -0.00056176]\n",
      "1\n",
      "[0.00056176 0.00056176]\n",
      "35\n",
      "0\n",
      "[-0.00067921 -0.00067921]\n",
      "1\n",
      "[0.00067921 0.00067921]\n",
      "36\n",
      "0\n",
      "[-0.00078187 -0.00078187]\n",
      "1\n",
      "[0.00078187 0.00078187]\n",
      "37\n",
      "0\n",
      "[-0.00086715 -0.00086715]\n",
      "1\n",
      "[0.00086715 0.00086715]\n",
      "38\n",
      "0\n",
      "[-0.00093272 -0.00093272]\n",
      "1\n",
      "[0.00093272 0.00093272]\n",
      "39\n",
      "0\n",
      "[-0.00097649 -0.00097649]\n",
      "1\n",
      "[0.00097649 0.00097649]\n",
      "40\n",
      "0\n",
      "[-0.00099504 -0.00099504]\n",
      "1\n",
      "[0.00099504 0.00099504]\n"
     ]
    }
   ],
   "source": [
    "mat_ele_array = []\n",
    "for i in range(41):\n",
    "    print(i)\n",
    "    syst = infinite_system1(dict(\n",
    "            mu = 1e-2,\n",
    "            A = 1,\n",
    "            Delta=1e-3,\n",
    "            phi=np.pi/10.*i\n",
    "        ), lead_times=0)\n",
    "    energies_Istas, wavefunc_lleads, wavefunc_rleads, wavefunc_scat, no_cells_lleads, no_cells_rleads = istas_scan(e_array[i], syst, all_out=True, draw=False)\n",
    "\n",
    "\n",
    "    finite_syst = finite_system2(dict(\n",
    "                mu = 1e-2,\n",
    "                A = 1,\n",
    "                Delta=1e-3,\n",
    "                phi=np.pi/10.*i\n",
    "            ), no_cells_lleads[0]-1)\n",
    "\n",
    "    psi0_array = []\n",
    "\n",
    "    for j in range(len(wavefunc_scat)):\n",
    "        wavefunc_left_temp = np.c_[wavefunc_lleads[j][2:][::2][::-1], wavefunc_lleads[j][2:][1::2][::-1]].flatten()\n",
    "        psi0 = np.r_[wavefunc_left_temp, wavefunc_scat[j].flatten(), wavefunc_rleads[j][2:]]\n",
    "        psi0_array.append(psi0)\n",
    "\n",
    "    mat_ele = psi0_array[0].conj().T@finite_syst.hamiltonian_submatrix()@psi0_array[1]\n",
    "    mat_ele_array.append(mat_ele)"
   ]
  },
  {
   "cell_type": "code",
   "execution_count": 283,
   "id": "5413dd81-22d4-49c2-8d64-b313aabc4caf",
   "metadata": {},
   "outputs": [],
   "source": [
    "mat_ele_array = np.array(mat_ele_array)"
   ]
  },
  {
   "cell_type": "code",
   "execution_count": 284,
   "id": "8cfb9209-837a-4036-be21-571b1bf51509",
   "metadata": {},
   "outputs": [
    {
     "data": {
      "text/plain": [
       "Text(0, 0.5, '$|M|^2$')"
      ]
     },
     "execution_count": 284,
     "metadata": {},
     "output_type": "execute_result"
    },
    {
     "data": {
      "image/png": "[encoded data removed]",
      "text/plain": [
       "<Figure size 432x288 with 1 Axes>"
      ]
     },
     "metadata": {
      "needs_background": "light"
     },
     "output_type": "display_data"
    }
   ],
   "source": [
    "plt.plot(np.linspace(0, 4*np.pi, 41), np.abs(mat_ele_array)**2.)\n",
    "plt.xlabel(r'$\\phi$')\n",
    "plt.ylabel(r'$|M|^2$')"
   ]
  },
  {
   "cell_type": "code",
   "execution_count": 285,
   "id": "01c19bc6-af4d-4c12-b61a-111332c8c125",
   "metadata": {},
   "outputs": [
    {
     "name": "stderr",
     "output_type": "stream",
     "text": [
      "/var/folders/tq/z3lkw8s95r1g4v3_7b8tv3_w0000gn/T/ipykernel_31072/2604626324.py:3: RuntimeWarning: invalid value encountered in sqrt\n",
      "  return delta*np.sqrt(1.-tau*np.sin(phi/2.)**2.)\n"
     ]
    }
   ],
   "source": [
    "from scipy import optimize as op\n",
    "def E_A_analytic(phi, tau, delta):\n",
    "    return delta*np.sqrt(1.-tau*np.sin(phi/2.)**2.)\n",
    "#plt.plot(np.linspace(0, 4*np.pi, 41), E_A_analytic(np.linspace(0, 4*np.pi, 41), 0.4, 1e-3))\n",
    "\n",
    "popt, pcov = op.curve_fit(E_A_analytic, np.linspace(0, 4*np.pi, 41), np.abs(e_array[:,1]), p0=[0.9, 1e-3])"
   ]
  },
  {
   "cell_type": "code",
   "execution_count": 286,
   "id": "8962f592-9d78-4595-85e9-1348104bc573",
   "metadata": {},
   "outputs": [
    {
     "data": {
      "text/plain": [
       "array([9.99589521e-01, 9.75827218e-04])"
      ]
     },
     "execution_count": 286,
     "metadata": {},
     "output_type": "execute_result"
    }
   ],
   "source": [
    "popt"
   ]
  },
  {
   "cell_type": "code",
   "execution_count": 287,
   "id": "d18c4cb3-1fad-418f-820c-add23903e827",
   "metadata": {},
   "outputs": [
    {
     "data": {
      "text/plain": [
       "array([2.92055072e-04, 2.21612867e-06])"
      ]
     },
     "execution_count": 287,
     "metadata": {},
     "output_type": "execute_result"
    }
   ],
   "source": [
    "np.sqrt(np.diagonal(pcov))"
   ]
  },
  {
   "cell_type": "code",
   "execution_count": 288,
   "id": "de2b6c56-c6cd-4fae-9d4b-72c009c5a1fd",
   "metadata": {},
   "outputs": [
    {
     "data": {
      "text/plain": [
       "<matplotlib.legend.Legend at 0x11bb0e400>"
      ]
     },
     "execution_count": 288,
     "metadata": {},
     "output_type": "execute_result"
    },
    {
     "data": {
      "image/png": "[encoded data removed]",
      "text/plain": [
       "<Figure size 432x288 with 1 Axes>"
      ]
     },
     "metadata": {
      "needs_background": "light"
     },
     "output_type": "display_data"
    }
   ],
   "source": [
    "plt.plot(np.linspace(0, 4*np.pi, 41), np.abs(e_array[:,1]), marker='x', ls='', label='BS energy')\n",
    "plt.plot(np.linspace(0, 4*np.pi, 41), E_A_analytic(np.linspace(0, 4*np.pi, 41), *popt), label='curve_fit')\n",
    "plt.xlabel(r'$\\phi$')\n",
    "plt.ylabel(r'$E_A$')\n",
    "plt.legend()"
   ]
  },
  {
   "cell_type": "code",
   "execution_count": 293,
   "id": "872292fb-d8e6-4a33-9ad0-5518e5fc62c6",
   "metadata": {},
   "outputs": [
    {
     "data": {
      "text/plain": [
       "<matplotlib.legend.Legend at 0x165298310>"
      ]
     },
     "execution_count": 293,
     "metadata": {},
     "output_type": "execute_result"
    },
    {
     "data": {
      "image/png": "[encoded data removed]",
      "text/plain": [
       "<Figure size 432x288 with 1 Axes>"
      ]
     },
     "metadata": {
      "needs_background": "light"
     },
     "output_type": "display_data"
    }
   ],
   "source": [
    "def M_analytic(E_A, tau):\n",
    "    delta=1e-3\n",
    "    return delta*np.sqrt(1.-tau)/2.*(delta/E_A - E_A/delta)\n",
    "\n",
    "plt.plot(np.linspace(0, 4*np.pi, 41), np.abs(mat_ele_array)**2., label='Finite mat ele', marker='x', ls='', markersize=10)\n",
    "plt.plot(np.linspace(0, 4*np.pi, 41), M_analytic(e_array[:,1], popt[0])**2., label='Analytic')\n",
    "plt.xlabel(r'$\\phi$')\n",
    "plt.ylabel(r'$|M|^2$')\n",
    "plt.legend(fontsize=12)"
   ]
  },
  {
   "cell_type": "code",
   "execution_count": 302,
   "id": "240ab998-21ec-4078-a79b-50825a16332d",
   "metadata": {},
   "outputs": [
    {
     "data": {
      "text/plain": [
       "<matplotlib.lines.Line2D at 0x1199a9370>"
      ]
     },
     "execution_count": 302,
     "metadata": {},
     "output_type": "execute_result"
    },
    {
     "data": {
      "image/png": "[encoded data removed]",
      "text/plain": [
       "<Figure size 576x216 with 1 Axes>"
      ]
     },
     "metadata": {
      "needs_background": "light"
     },
     "output_type": "display_data"
    }
   ],
   "source": [
    "plt.figure(figsize=(4*2, 1.5*2))\n",
    "plt.plot(np.linspace(0, 4*np.pi, 41), np.abs(mat_ele_array)**2.-M_analytic(e_array[:,1], popt[0])**2.)\n",
    "plt.xlabel(r'$\\phi$')\n",
    "plt.ylabel('Residue')\n",
    "plt.ylim(-1e-10, 1e-9)\n",
    "plt.axhline(0, c='k', ls='--', alpha=0.3)"
   ]
  },
  {
   "cell_type": "markdown",
   "id": "2778ad67-07d7-4845-accd-24859935d6c4",
   "metadata": {},
   "source": [
    "# infinite length limit"
   ]
  },
  {
   "cell_type": "code",
   "execution_count": 318,
   "id": "12da2bd5-d13e-4970-9abc-a3159df5efb3",
   "metadata": {},
   "outputs": [
    {
     "name": "stdout",
     "output_type": "stream",
     "text": [
      "0\n",
      "1\n",
      "2\n",
      "3\n",
      "4\n",
      "5\n",
      "6\n",
      "7\n",
      "8\n",
      "9\n",
      "10\n",
      "11\n",
      "12\n",
      "13\n",
      "14\n",
      "15\n",
      "16\n",
      "17\n",
      "18\n",
      "19\n",
      "20\n",
      "21\n",
      "22\n",
      "23\n",
      "24\n",
      "25\n",
      "26\n",
      "27\n",
      "28\n",
      "29\n",
      "30\n",
      "31\n",
      "32\n",
      "33\n",
      "34\n",
      "35\n",
      "36\n",
      "37\n",
      "38\n",
      "39\n",
      "40\n"
     ]
    }
   ],
   "source": [
    "inf_mat_ele_array = []\n",
    "for i in range(41):\n",
    "    print(i)\n",
    "    Delta=1e-3\n",
    "    phi=np.pi/10.*i\n",
    "\n",
    "    syst = infinite_system1(dict(\n",
    "        mu = 1e-2,\n",
    "        A = 1,\n",
    "        Delta=Delta,\n",
    "        phi=phi\n",
    "    ))\n",
    "    infor_array = []\n",
    "    for j in range(len(e_array[i])):\n",
    "        infor_array.append(bound_state(syst, [e_array[i,j], e_array[i,j]], return_wf=True))\n",
    "\n",
    "    sigma_0 = np.array([[1, 0], [0, 1]])\n",
    "    sigma_x = np.array([[0, 1], [1, 0]])\n",
    "    sigma_y = np.array([[0, -1j], [1j, 0]])\n",
    "    sigma_z = np.array([[1, 0], [0, -1]])\n",
    "\n",
    "    ham_lead0 = Delta*(-0.5*np.sin(phi/2.)*sigma_x + 0.5*np.cos(phi/2.)*sigma_y)\n",
    "    ham_lead1 = Delta*(-0.5*np.sin(phi/2.)*sigma_x - 0.5*np.cos(phi/2.)*sigma_y)\n",
    "    H_prime = block_diag(ham_lead0, ham_lead1)\n",
    "\n",
    "    H_tilda = infor_array[0][4].conj().T@H_prime@infor_array[1][4]\n",
    "\n",
    "    lmb0 = np.diagonal(infor_array[0][3])\n",
    "    lmb1 = np.diagonal(infor_array[1][3])\n",
    "    for j, l1 in enumerate(lmb0):\n",
    "        for k, l2 in enumerate(lmb1):\n",
    "            ll = np.conj(l1) * l2\n",
    "            H_tilda[j, k] *= ll / (1. - ll)\n",
    "\n",
    "    mat_ele = infor_array[0][2].conj().T@H_tilda@infor_array[1][2]\n",
    "    inf_mat_ele_array.append(mat_ele)"
   ]
  },
  {
   "cell_type": "code",
   "execution_count": 323,
   "id": "9cc88ba9-ecff-450d-9d6d-d93c6d9ec54c",
   "metadata": {},
   "outputs": [],
   "source": [
    "inf_mat_ele_array = np.array(inf_mat_ele_array).flatten()"
   ]
  },
  {
   "cell_type": "code",
   "execution_count": 324,
   "id": "a5afdae8-b480-450c-84db-fa936881c444",
   "metadata": {},
   "outputs": [
    {
     "data": {
      "text/plain": [
       "array([-3.04931861e-19+2.35136346e-18j,  3.71361503e-06-3.68352010e-06j,\n",
       "        5.54520160e-06-6.75368197e-06j,  7.31267626e-06-9.59342805e-06j,\n",
       "        9.04004351e-06-1.23158674e-05j, -1.08411884e-05+1.51035241e-05j,\n",
       "       -1.30126708e-05+1.83911096e-05j, -1.62823840e-05+2.32381683e-05j,\n",
       "       -2.27914511e-05+3.27735599e-05j, -4.26661187e-05+6.21233405e-05j,\n",
       "       -3.36753195e-16+4.73060757e-04j,  4.26661187e-05+6.21233405e-05j,\n",
       "        2.27914511e-05+3.27735599e-05j,  1.62823840e-05+2.32381683e-05j,\n",
       "        1.30126708e-05+1.83911096e-05j,  1.08411884e-05+1.51035241e-05j,\n",
       "       -9.04004351e-06-1.23158674e-05j, -7.31267626e-06-9.59342805e-06j,\n",
       "       -5.54520160e-06-6.75368197e-06j, -3.71361503e-06-3.68352010e-06j,\n",
       "        3.46944695e-18-1.54566572e-17j,  3.71361503e-06-3.68352010e-06j,\n",
       "        5.54520160e-06-6.75368197e-06j,  7.31267626e-06-9.59342805e-06j,\n",
       "        9.04004351e-06-1.23158674e-05j, -1.08411884e-05+1.51035241e-05j,\n",
       "       -1.30126708e-05+1.83911096e-05j, -1.62823840e-05+2.32381683e-05j,\n",
       "       -2.27914511e-05+3.27735599e-05j, -4.26661187e-05+6.21233405e-05j,\n",
       "        2.66318001e-15+4.73060757e-04j,  4.26661187e-05+6.21233405e-05j,\n",
       "        2.27914511e-05+3.27735599e-05j,  1.62823840e-05+2.32381683e-05j,\n",
       "        1.30126708e-05+1.83911096e-05j,  1.08411884e-05+1.51035241e-05j,\n",
       "       -9.04004351e-06-1.23158674e-05j, -7.31267626e-06-9.59342805e-06j,\n",
       "       -5.54520160e-06-6.75368197e-06j, -3.71361503e-06-3.68352010e-06j,\n",
       "        3.46944695e-18-1.69677640e-17j])"
      ]
     },
     "execution_count": 324,
     "metadata": {},
     "output_type": "execute_result"
    }
   ],
   "source": [
    "inf_mat_ele_array"
   ]
  },
  {
   "cell_type": "code",
   "execution_count": 326,
   "id": "a7a60346-dae7-4aa7-98e9-cc978a7747bf",
   "metadata": {},
   "outputs": [
    {
     "data": {
      "text/plain": [
       "<matplotlib.legend.Legend at 0x11bc41850>"
      ]
     },
     "execution_count": 326,
     "metadata": {},
     "output_type": "execute_result"
    },
    {
     "data": {
      "image/png": "[encoded data removed]",
      "text/plain": [
       "<Figure size 432x288 with 1 Axes>"
      ]
     },
     "metadata": {
      "needs_background": "light"
     },
     "output_type": "display_data"
    }
   ],
   "source": [
    "plt.plot(np.linspace(0, 4*np.pi, 41), np.abs(mat_ele_array)**2., label='Finite mat ele', marker='x', ls='', markersize=10)\n",
    "plt.plot(np.linspace(0, 4*np.pi, 41), np.abs(inf_mat_ele_array)**2., label='Inf Eq', marker='x', ls='', markersize=10)\n",
    "plt.plot(np.linspace(0, 4*np.pi, 41), M_analytic(e_array[:,1], popt[0])**2., label='Analytic')\n",
    "plt.xlabel(r'$\\phi$')\n",
    "plt.ylabel(r'$|M|^2$')\n",
    "plt.legend(fontsize=12)"
   ]
  },
  {
   "cell_type": "code",
   "execution_count": 344,
   "id": "699aa15e-00c0-4570-91b2-011d60be1945",
   "metadata": {},
   "outputs": [
    {
     "data": {
      "text/plain": [
       "Text(0.5, 1.0, 'Percentage difference between inf and fin')"
      ]
     },
     "execution_count": 344,
     "metadata": {},
     "output_type": "execute_result"
    },
    {
     "data": {
      "image/png": "[encoded data removed]",
      "text/plain": [
       "<Figure size 576x144 with 1 Axes>"
      ]
     },
     "metadata": {
      "needs_background": "light"
     },
     "output_type": "display_data"
    }
   ],
   "source": [
    "plt.figure(figsize=(4*2, 1*2))\n",
    "#plt.plot(np.linspace(0, 4*np.pi, 41), (np.abs(mat_ele_array)**2.-M_analytic(e_array[:,1], popt[0])**2.)/(M_analytic(e_array[:,1], popt[0])**2.), label='Finite mat ele', marker='x', ls='', markersize=10)\n",
    "plt.plot(np.linspace(0, 4*np.pi, 41), (np.abs(inf_mat_ele_array)**2.-np.abs(mat_ele_array)**2.)/(np.abs(mat_ele_array)**2.), marker='x', ls='', markersize=10)\n",
    "#plt.plot(np.linspace(0, 4*np.pi, 41), M_analytic(e_array[:,1], popt[0])**2., label='Analytic')\n",
    "plt.xlabel(r'$\\phi$')\n",
    "plt.ylabel('(Inf-fin)/fin')\n",
    "plt.title('Percentage difference between inf and fin')\n",
    "#plt.legend(fontsize=12)"
   ]
  },
  {
   "cell_type": "code",
   "execution_count": 343,
   "id": "6fa7b24f-b7d1-4bb5-95bf-b8fc15a40219",
   "metadata": {},
   "outputs": [
    {
     "data": {
      "text/plain": [
       "Text(0.5, 1.0, 'Abs difference between inf and fin')"
      ]
     },
     "execution_count": 343,
     "metadata": {},
     "output_type": "execute_result"
    },
    {
     "data": {
      "image/png": "[encoded data removed]",
      "text/plain": [
       "<Figure size 576x144 with 1 Axes>"
      ]
     },
     "metadata": {
      "needs_background": "light"
     },
     "output_type": "display_data"
    }
   ],
   "source": [
    "plt.figure(figsize=(4*2, 1*2))\n",
    "#plt.plot(np.linspace(0, 4*np.pi, 41), (np.abs(mat_ele_array)**2.-M_analytic(e_array[:,1], popt[0])**2.)/(M_analytic(e_array[:,1], popt[0])**2.), label='Finite mat ele', marker='x', ls='', markersize=10)\n",
    "plt.plot(np.linspace(0, 4*np.pi, 41), (np.abs(inf_mat_ele_array)**2.-np.abs(mat_ele_array)**2.), marker='x', ls='', markersize=10)\n",
    "#plt.plot(np.linspace(0, 4*np.pi, 41), M_analytic(e_array[:,1], popt[0])**2., label='Analytic')\n",
    "plt.xlabel(r'$\\phi$')\n",
    "plt.ylabel('Inf-fin')\n",
    "plt.title('Abs difference between inf and fin')\n",
    "#plt.legend(fontsize=12)"
   ]
  },
  {
   "cell_type": "code",
   "execution_count": 349,
   "id": "c0c8f057-7775-4978-be0c-4c47ef28af0a",
   "metadata": {},
   "outputs": [
    {
     "data": {
      "text/plain": [
       "array([0.41833276, 0.02843115, 0.00943839, 0.00835766, 0.00544772,\n",
       "       0.01932738, 0.02123056, 0.01188341, 0.01540183, 0.0210747 ,\n",
       "       0.02043451, 0.0210747 , 0.01540183, 0.01188341, 0.02123056,\n",
       "       0.01932738, 0.00544772, 0.00835766, 0.00943839, 0.02843115,\n",
       "       2.62528375, 0.02843115, 0.00943839, 0.00835766, 0.00544772,\n",
       "       0.01932738, 0.02123056, 0.01188341, 0.01540183, 0.0210747 ,\n",
       "       0.02043451, 0.0210747 , 0.01540183, 0.01188341, 0.02123056,\n",
       "       0.01932738, 0.00544772, 0.00835766, 0.00943839, 0.02843115,\n",
       "       2.28380029])"
      ]
     },
     "execution_count": 349,
     "metadata": {},
     "output_type": "execute_result"
    }
   ],
   "source": [
    "(np.abs(inf_mat_ele_array)**2.-np.abs(mat_ele_array)**2.)/(np.abs(mat_ele_array)**2.)"
   ]
  },
  {
   "cell_type": "code",
   "execution_count": 345,
   "id": "3a6cc410-08b3-4f49-a1f0-c22e6a629445",
   "metadata": {},
   "outputs": [
    {
     "data": {
      "text/plain": [
       "<matplotlib.legend.Legend at 0x11c0d4490>"
      ]
     },
     "execution_count": 345,
     "metadata": {},
     "output_type": "execute_result"
    },
    {
     "data": {
      "image/png": "[encoded data removed]",
      "text/plain": [
       "<Figure size 576x144 with 1 Axes>"
      ]
     },
     "metadata": {
      "needs_background": "light"
     },
     "output_type": "display_data"
    }
   ],
   "source": [
    "plt.figure(figsize=(4*2, 1*2))\n",
    "plt.plot(np.linspace(0, 4*np.pi, 41), (np.abs(mat_ele_array)**2.-M_analytic(e_array[:,1], popt[0])**2.)/(M_analytic(e_array[:,1], popt[0])**2.), label='Finite mat ele', marker='x', ls='', markersize=10)\n",
    "plt.plot(np.linspace(0, 4*np.pi, 41), (np.abs(inf_mat_ele_array)**2.-M_analytic(e_array[:,1], popt[0])**2.)/(M_analytic(e_array[:,1], popt[0])**2.), label='Inf Eq', marker='x', ls='', markersize=10)\n",
    "#plt.plot(np.linspace(0, 4*np.pi, 41), M_analytic(e_array[:,1], popt[0])**2., label='Analytic')\n",
    "plt.xlabel(r'$\\phi$')\n",
    "plt.ylabel('Percentage difference')\n",
    "plt.legend(fontsize=12)"
   ]
  },
  {
   "cell_type": "code",
   "execution_count": 346,
   "id": "8b6beb36-73f3-4ce5-9ecb-7900507aaac4",
   "metadata": {},
   "outputs": [
    {
     "data": {
      "text/plain": [
       "(-1e-10, 1e-09)"
      ]
     },
     "execution_count": 346,
     "metadata": {},
     "output_type": "execute_result"
    },
    {
     "data": {
      "image/png": "[encoded data removed]",
      "text/plain": [
       "<Figure size 576x144 with 1 Axes>"
      ]
     },
     "metadata": {
      "needs_background": "light"
     },
     "output_type": "display_data"
    }
   ],
   "source": [
    "plt.figure(figsize=(4*2, 1*2))\n",
    "plt.plot(np.linspace(0, 4*np.pi, 41), (np.abs(mat_ele_array)**2.-M_analytic(e_array[:,1], popt[0])**2.), label='Finite mat ele', marker='x', ls='', markersize=10)\n",
    "plt.plot(np.linspace(0, 4*np.pi, 41), (np.abs(inf_mat_ele_array)**2.-M_analytic(e_array[:,1], popt[0])**2.), label='Inf Eq', marker='x', ls='', markersize=10)\n",
    "#plt.plot(np.linspace(0, 4*np.pi, 41), M_analytic(e_array[:,1], popt[0])**2., label='Analytic')\n",
    "plt.xlabel(r'$\\phi$')\n",
    "plt.ylabel('Residue')\n",
    "plt.legend(fontsize=12)\n",
    "plt.ylim(-1e-10, 1e-9)"
   ]
  },
  {
   "cell_type": "code",
   "execution_count": 313,
   "id": "b5eda738-37d1-4c93-9d46-958e34567252",
   "metadata": {},
   "outputs": [
    {
     "name": "stdout",
     "output_type": "stream",
     "text": [
      "[[ 4.97426510e-05-0.00049752j  4.94958793e-05-0.00049505j\n",
      "   0.00000000e+00+0.j          0.00000000e+00+0.j        ]\n",
      " [ 4.94958793e-05-0.00049505j  4.97426510e-05-0.00049752j\n",
      "   0.00000000e+00+0.j          0.00000000e+00+0.j        ]\n",
      " [ 0.00000000e+00+0.j          0.00000000e+00+0.j\n",
      "  -4.97426510e-05+0.00049752j -4.94958793e-05+0.00049505j]\n",
      " [ 0.00000000e+00+0.j          0.00000000e+00+0.j\n",
      "  -4.94958793e-05+0.00049505j -4.97426510e-05+0.00049752j]]\n",
      "[[ 0.04991321-4.99225429e-01j -0.00248939-1.13736535e-05j\n",
      "   0.        +0.00000000e+00j  0.        -0.00000000e+00j]\n",
      " [ 0.00244236+4.81708715e-04j  0.04991321-4.99225429e-01j\n",
      "  -0.        +0.00000000e+00j  0.        +0.00000000e+00j]\n",
      " [ 0.        +0.00000000e+00j  0.        -0.00000000e+00j\n",
      "  -0.04991321+4.99225429e-01j  0.00248939+1.13736535e-05j]\n",
      " [-0.        +0.00000000e+00j  0.        +0.00000000e+00j\n",
      "  -0.00244236-4.81708715e-04j -0.04991321+4.99225429e-01j]]\n",
      "[[5.62189357e-36]]\n"
     ]
    }
   ],
   "source": [
    "#E, psi_alpha_0, q_e, L_out, Phi\n",
    "Delta=1e-3\n",
    "phi=0.\n",
    "\n",
    "syst = infinite_system1(dict(\n",
    "    mu = 1e-2,\n",
    "    A = 1,\n",
    "    Delta=1e-3,\n",
    "    phi=0.\n",
    "))\n",
    "infor_array = []\n",
    "for i in range(len(e_array[0])):\n",
    "    infor_array.append(bound_state(syst, [e_array[0,i], e_array[0,i]], return_wf=True))\n",
    "\n",
    "sigma_0 = np.array([[1, 0], [0, 1]])\n",
    "sigma_x = np.array([[0, 1], [1, 0]])\n",
    "sigma_y = np.array([[0, -1j], [1j, 0]])\n",
    "sigma_z = np.array([[1, 0], [0, -1]])\n",
    "\n",
    "ham_lead0 = Delta*(-0.5*np.sin(phi/2.)*sigma_x + 0.5*np.cos(phi/2.)*sigma_y)\n",
    "ham_lead1 = Delta*(-0.5*np.sin(phi/2.)*sigma_x - 0.5*np.cos(phi/2.)*sigma_y)\n",
    "H_prime = block_diag(ham_lead0, ham_lead1)\n",
    "\n",
    "H_tilda = infor_array[0][4].conj().T@H_prime@infor_array[1][4]\n",
    "print(H_tilda)\n",
    "\n",
    "lmb0 = np.diagonal(infor_array[0][3])\n",
    "lmb1 = np.diagonal(infor_array[1][3])\n",
    "for i, l1 in enumerate(lmb0):\n",
    "    for j, l2 in enumerate(lmb1):\n",
    "        ll = np.conj(l1) * l2\n",
    "        H_tilda[i, j] *= ll / (1. - ll)\n",
    "print(H_tilda)\n",
    "\n",
    "mat_ele = infor_array[0][2].conj().T@H_tilda@infor_array[1][2]\n",
    "print(np.abs(mat_ele)**2.)"
   ]
  },
  {
   "cell_type": "code",
   "execution_count": 306,
   "id": "93dd3975-6ed4-4a7b-9d05-cdfa8cc52bcf",
   "metadata": {},
   "outputs": [
    {
     "data": {
      "text/plain": [
       "array([[-0.000000e+00+0.j    , -6.123234e-20+0.0005j,\n",
       "         0.000000e+00+0.j    ,  0.000000e+00+0.j    ],\n",
       "       [-6.123234e-20-0.0005j, -0.000000e+00+0.j    ,\n",
       "         0.000000e+00+0.j    ,  0.000000e+00+0.j    ],\n",
       "       [ 0.000000e+00+0.j    ,  0.000000e+00+0.j    ,\n",
       "         0.000000e+00+0.j    , -6.123234e-20-0.0005j],\n",
       "       [ 0.000000e+00+0.j    ,  0.000000e+00+0.j    ,\n",
       "        -6.123234e-20+0.0005j,  0.000000e+00+0.j    ]])"
      ]
     },
     "execution_count": 306,
     "metadata": {},
     "output_type": "execute_result"
    }
   ],
   "source": [
    "Delta=1e-3\n",
    "sigma_0 = np.array([[1, 0], [0, 1]])\n",
    "sigma_x = np.array([[0, 1], [1, 0]])\n",
    "sigma_y = np.array([[0, -1j], [1j, 0]])\n",
    "sigma_z = np.array([[1, 0], [0, -1]])\n",
    "\n",
    "ham_lead0 = Delta*(-0.5*np.sin(phi/2.)*sigma_x + 0.5*np.cos(phi/2.)*sigma_y)\n",
    "ham_lead1 = Delta*(-0.5*np.sin(phi/2.)*sigma_x - 0.5*np.cos(phi/2.)*sigma_y)\n",
    "block_diag(ham_lead0, ham_lead1)\n"
   ]
  },
  {
   "cell_type": "code",
   "execution_count": 252,
   "id": "b7d01439-a033-4161-bded-43db20bf6189",
   "metadata": {},
   "outputs": [
    {
     "data": {
      "text/plain": [
       "array([[0.99450445+0.09982642j, 0.        +0.j        ,\n",
       "        0.        +0.j        , 0.        +0.j        ],\n",
       "       [0.        +0.j        , 0.99450445-0.09982642j,\n",
       "        0.        +0.j        , 0.        +0.j        ],\n",
       "       [0.        +0.j        , 0.        +0.j        ,\n",
       "        0.99450445+0.09982642j, 0.        +0.j        ],\n",
       "       [0.        +0.j        , 0.        +0.j        ,\n",
       "        0.        +0.j        , 0.99450445-0.09982642j]])"
      ]
     },
     "execution_count": 252,
     "metadata": {},
     "output_type": "execute_result"
    }
   ],
   "source": [
    "#E, psi_alpha_0, q_e, L_out, Phi\n",
    "infor_array[0][3]"
   ]
  },
  {
   "cell_type": "code",
   "execution_count": null,
   "id": "30774020-36e4-4c76-bd9b-2d7d1fd9dd86",
   "metadata": {},
   "outputs": [],
   "source": []
  },
  {
   "cell_type": "code",
   "execution_count": 205,
   "id": "b8fbd2ed-a67e-4ccf-b00e-17e05e2037f7",
   "metadata": {},
   "outputs": [
    {
     "name": "stdout",
     "output_type": "stream",
     "text": [
      "0\n",
      "[-0.00099504 -0.00099504]\n",
      "1\n",
      "[0.00099504 0.00099504]\n",
      "(0.00025244642252261794-1.0108592559692257e-14j)\n"
     ]
    }
   ],
   "source": [
    "i=0\n",
    "syst = infinite_system1(dict(\n",
    "        mu = 1e-2,\n",
    "        A = 1,\n",
    "        Delta=1e-3,\n",
    "        phi=np.pi/10.*i\n",
    "    ), lead_times=0)\n",
    "energies_Istas, wavefunc_lleads, wavefunc_rleads, wavefunc_scat, no_cells_lleads, no_cells_rleads = istas_scan(e_array[i], syst, all_out=True, draw=False)\n",
    "\n",
    "\n",
    "finite_syst = finite_system2(dict(\n",
    "            mu = 1e-2,\n",
    "            A = 1,\n",
    "            Delta=1e-3,\n",
    "            phi=np.pi/10.*i\n",
    "        ), no_cells_lleads[0]-1)\n",
    "\n",
    "psi0_array = []\n",
    "\n",
    "for j in range(len(wavefunc_scat)):\n",
    "    wavefunc_left_temp = np.c_[wavefunc_lleads[j][2:][::2][::-1], wavefunc_lleads[j][2:][1::2][::-1]].flatten()\n",
    "    psi0 = np.r_[wavefunc_left_temp, wavefunc_scat[j].flatten(), wavefunc_rleads[j][2:]]\n",
    "    psi0_array.append(psi0)\n",
    "\n",
    "mat_ele = psi0_array[0].conj().T@finite_syst.hamiltonian_submatrix()@psi0_array[1]\n",
    "print(mat_ele)\n"
   ]
  },
  {
   "cell_type": "code",
   "execution_count": 144,
   "id": "7e4d6177-0bea-458e-9749-79cf2f6f7e49",
   "metadata": {},
   "outputs": [
    {
     "data": {
      "text/plain": [
       "array([ 0.01838817+0.01737108j, -0.01722221-0.01708265j])"
      ]
     },
     "execution_count": 144,
     "metadata": {},
     "output_type": "execute_result"
    }
   ],
   "source": [
    "wavefunc_rleads[0][:2]"
   ]
  },
  {
   "cell_type": "code",
   "execution_count": 143,
   "id": "e10862af-d360-4b0f-a6e5-e2b3e221bfa8",
   "metadata": {},
   "outputs": [
    {
     "data": {
      "text/plain": [
       "array([ 0.02529583-7.56809146e-19j, -0.0242502 +5.91017124e-04j,\n",
       "        0.02561086+2.02593247e-03j, -0.02473501-1.51045506e-03j,\n",
       "        0.02569479+4.03358391e-03j, -0.02494831-3.59534774e-03j,\n",
       "        0.02554687+6.00483825e-03j, -0.02488777-5.64077614e-03j,\n",
       "        0.02516842+7.92190787e-03j, -0.02455405-7.62428863e-03j,\n",
       "        0.02456286+9.76749405e-03j, -0.02395082-9.52411321e-03j,\n",
       "        0.02373566+1.15249431e-02j, -0.02308468-1.13193965e-02j,\n",
       "        0.02269428+1.31783967e-02j, -0.02196516-1.29904325e-02j,\n",
       "        0.02144812+1.47129349e-02j, -0.02060454-1.45188793e-02j,\n",
       "        0.02000842+1.61147108e-02j, -0.01901775-1.58879597e-02j,\n",
       "        0.01838817+1.73710753e-02j, -0.01722221-1.70826461e-02j])"
      ]
     },
     "execution_count": 143,
     "metadata": {},
     "output_type": "execute_result"
    }
   ],
   "source": [
    "wavefunc_scat[0].flatten()"
   ]
  },
  {
   "cell_type": "code",
   "execution_count": 147,
   "id": "2082a0d6-36f4-4307-b366-8fb8a4e4d715",
   "metadata": {},
   "outputs": [
    {
     "data": {
      "text/plain": [
       "8150.0"
      ]
     },
     "execution_count": 147,
     "metadata": {},
     "output_type": "execute_result"
    }
   ],
   "source": [
    "no_cells_lleads[0]*4+11*2"
   ]
  },
  {
   "cell_type": "code",
   "execution_count": 190,
   "id": "03550343-6a63-4e93-ab0b-181c7d97a324",
   "metadata": {},
   "outputs": [],
   "source": [
    "normalisation_check = []\n",
    "eigenenergy_check = []\n",
    "finite_syst1 = finite_system1(dict(\n",
    "            mu = 1e-2,\n",
    "            A = 1,\n",
    "            Delta=1e-3,\n",
    "            phi=np.pi/10.*10.\n",
    "        ), no_cells_lleads[0]-1)\n",
    "for i in range(len(wavefunc_scat)):\n",
    "    wavefunc_left_temp = np.c_[wavefunc_lleads[i][2:][::2][::-1], wavefunc_lleads[i][2:][1::2][::-1]].flatten()\n",
    "    psi0 = np.r_[wavefunc_left_temp, wavefunc_scat[i].flatten(), wavefunc_rleads[i][2:]]\n",
    "    norm = psi0.T.conj()@psi0\n",
    "    eigenenergy = psi0.T.conj()@finite_syst1.hamiltonian_submatrix()@psi0\n",
    "    normalisation_check.append(norm)\n",
    "    eigenenergy_check.append(eigenenergy)"
   ]
  },
  {
   "cell_type": "code",
   "execution_count": 191,
   "id": "f197498d-37d1-486b-a98b-ef9369b0ba32",
   "metadata": {},
   "outputs": [
    {
     "data": {
      "text/plain": [
       "[(0.990478910253955+0j), (0.9904789102539269+0j)]"
      ]
     },
     "execution_count": 191,
     "metadata": {},
     "output_type": "execute_result"
    }
   ],
   "source": [
    "normalisation_check"
   ]
  },
  {
   "cell_type": "code",
   "execution_count": 192,
   "id": "69885b32-47e6-4d01-b40c-66f2fbf8afa6",
   "metadata": {},
   "outputs": [
    {
     "data": {
      "text/plain": [
       "[(-7.114200223382294e-05+1.9721522630525295e-31j),\n",
       " (7.114200223367183e-05-2.5637979419682884e-30j)]"
      ]
     },
     "execution_count": 192,
     "metadata": {},
     "output_type": "execute_result"
    }
   ],
   "source": [
    "eigenenergy_check"
   ]
  },
  {
   "cell_type": "code",
   "execution_count": 193,
   "id": "aba61154-3a8e-445d-8162-7af10fcc7e69",
   "metadata": {},
   "outputs": [],
   "source": [
    "ind=0\n",
    "wavefunc_left_temp = np.c_[wavefunc_lleads[ind][2:][::2][::-1], wavefunc_lleads[ind][2:][1::2][::-1]].flatten()\n",
    "psi0 = np.r_[wavefunc_left_temp, wavefunc_scat[ind].flatten(), wavefunc_rleads[ind][2:]]"
   ]
  },
  {
   "cell_type": "code",
   "execution_count": 194,
   "id": "36cf4fd6-72e7-4717-a16f-07d03d7063bc",
   "metadata": {},
   "outputs": [
    {
     "data": {
      "text/plain": [
       "array([ 8.31357497e-01+1.44070115e-13j, -1.05576604e+00-5.54907021e-14j,\n",
       "       -2.35240294e-05+1.82684012e-16j, ...,\n",
       "       -2.35240294e-05+2.67901832e-16j,  8.31357497e-01+3.48855876e-13j,\n",
       "       -1.05576604e+00-1.38603303e-13j])"
      ]
     },
     "execution_count": 194,
     "metadata": {},
     "output_type": "execute_result"
    }
   ],
   "source": [
    "(finite_syst1.hamiltonian_submatrix()@psi0)/psi0"
   ]
  },
  {
   "cell_type": "code",
   "execution_count": 195,
   "id": "0914f7d0-894c-4855-bb28-b87d47f26cf4",
   "metadata": {},
   "outputs": [
    {
     "data": {
      "text/plain": [
       "461.0"
      ]
     },
     "execution_count": 195,
     "metadata": {},
     "output_type": "execute_result"
    }
   ],
   "source": [
    "no_cells_lleads[0]"
   ]
  },
  {
   "cell_type": "code",
   "execution_count": 198,
   "id": "94546867-74bf-4f48-81ae-2071ba3b35bb",
   "metadata": {},
   "outputs": [
    {
     "name": "stdout",
     "output_type": "stream",
     "text": [
      "[-461.0, 468.5]\n"
     ]
    },
    {
     "data": {
      "image/png": "[encoded data removed]",
      "text/plain": [
       "<Figure size 432x288 with 1 Axes>"
      ]
     },
     "metadata": {
      "needs_background": "light"
     },
     "output_type": "display_data"
    }
   ],
   "source": [
    "ind=0\n",
    "sth = np.abs((finite_syst1.hamiltonian_submatrix()@psi0)/psi0)+energies_Istas[ind]\n",
    "plt.plot(np.arange(-(no_cells_lleads[0]+1)*2, len(sth)-(no_cells_lleads[0]+1)*2)/2., sth)\n",
    "print((((np.where(np.around(sth, 7)!=0)[0]+1)[1::2]/2)-(no_cells_lleads[0]+1)).tolist())\n",
    "#plt.xlabel('site index')\n",
    "#plt.ylabel('deviation from SE')"
   ]
  },
  {
   "cell_type": "code",
   "execution_count": 48,
   "id": "12c219cc-ba04-4099-9640-e2dd964c9d95",
   "metadata": {},
   "outputs": [],
   "source": [
    "params = dict(\n",
    "    mu = 0.,\n",
    "    A = 1,\n",
    "    Delta=1e-3,\n",
    "    phi=0\n",
    ")\n",
    "\n",
    "def finite_system1(params, L=11, lead_times=100):\n",
    "    a = 1\n",
    "    mu, A, Delta, phi = params.values()\n",
    "    \n",
    "    lat = kwant.lattice.chain()\n",
    "    syst = kwant.Builder()\n",
    "    \n",
    "    # Pauli matrices\n",
    "    sigma_0 = np.array([[1, 0], [0, 1]])\n",
    "    sigma_x = np.array([[0, 1], [1, 0]])\n",
    "    sigma_y = np.array([[0, -1j], [1j, 0]])\n",
    "    sigma_z = np.array([[1, 0], [0, -1]])\n",
    "    \n",
    "    ham = (2.*A/(a**2.)-mu)*sigma_z\n",
    "    hop = -A/(a**2.)*sigma_z\n",
    "    \n",
    "    ham_lead0 = ham + Delta*(np.cos(phi/2.)*sigma_x + np.sin(phi/2.)*sigma_y)\n",
    "    hop_lead0 = hop\n",
    "    ham_lead1 = ham + Delta*(np.cos(phi/2.)*sigma_x - np.sin(phi/2.)*sigma_y)\n",
    "    hop_lead1 = hop\n",
    "    \n",
    "    syst[(lat(x) for x in range(-L*lead_times, 0))] = ham_lead0\n",
    "    syst[(lat(x) for x in range(0, L))] = ham\n",
    "    syst[(lat(x) for x in range(L, (lead_times+1)*L))] = ham_lead1\n",
    "    syst[((lat(x), lat(x+1)) for x in range(-L*lead_times, (lead_times+1)*L-1))] = hop\n",
    "    \n",
    "    '''sym_left = kwant.TranslationalSymmetry([-1])\n",
    "    lead0 = kwant.Builder(sym_left)\n",
    "    lead0[(lat(-L*100-1))] = ham_leads\n",
    "    lead0[lat.neighbors()] = hop_leads\n",
    "    sym_right = kwant.TranslationalSymmetry([1])\n",
    "    lead1 = kwant.Builder(sym_right)\n",
    "    lead1[(lat(101*L))] =  ham_leads\n",
    "    lead1[lat.neighbors()] = hop_leads\n",
    "    \n",
    "    syst.attach_lead(lead0)\n",
    "    syst.attach_lead(lead1)'''\n",
    "\n",
    "    return syst.finalized()\n",
    "\n",
    "syst = finite_system1(dict(\n",
    "    mu = 0.,\n",
    "    A = 1,\n",
    "    Delta=1e-3,\n",
    "    phi=np.pi\n",
    "))"
   ]
  },
  {
   "cell_type": "code",
   "execution_count": 49,
   "id": "b1d2e268-8bf8-415c-8530-7472cd01cb19",
   "metadata": {},
   "outputs": [
    {
     "data": {
      "image/png": "[encoded data removed]",
      "text/plain": [
       "<Figure size 432x288 with 1 Axes>"
      ]
     },
     "metadata": {
      "needs_background": "light"
     },
     "output_type": "display_data"
    },
    {
     "data": {
      "image/png": "[encoded data removed]",
      "text/plain": [
       "<Figure size 432x288 with 1 Axes>"
      ]
     },
     "execution_count": 49,
     "metadata": {},
     "output_type": "execute_result"
    }
   ],
   "source": [
    "kwant.plot(syst)"
   ]
  },
  {
   "cell_type": "code",
   "execution_count": 50,
   "id": "8fd0d2c6-56e8-4d14-acf5-0742cea081a5",
   "metadata": {},
   "outputs": [
    {
     "data": {
      "text/plain": [
       "array([[ 2.,  0.],\n",
       "       [ 0., -2.]])"
      ]
     },
     "execution_count": 50,
     "metadata": {},
     "output_type": "execute_result"
    }
   ],
   "source": [
    "syst.hamiltonian(1100, 1100)"
   ]
  },
  {
   "cell_type": "code",
   "execution_count": 51,
   "id": "c6fdaf28-716e-4f90-9d94-38811549167a",
   "metadata": {},
   "outputs": [
    {
     "data": {
      "text/plain": [
       "array([[ 2.,  0.],\n",
       "       [ 0., -2.]])"
      ]
     },
     "execution_count": 51,
     "metadata": {},
     "output_type": "execute_result"
    }
   ],
   "source": [
    "syst.hamiltonian(1110, 1110)"
   ]
  },
  {
   "cell_type": "code",
   "execution_count": 52,
   "id": "1e42ad08-db43-4ec6-8169-877c06532c86",
   "metadata": {},
   "outputs": [
    {
     "data": {
      "text/plain": [
       "array([[ 2.000000e+00+0.j   ,  6.123234e-20+0.001j],\n",
       "       [ 6.123234e-20-0.001j, -2.000000e+00+0.j   ]])"
      ]
     },
     "execution_count": 52,
     "metadata": {},
     "output_type": "execute_result"
    }
   ],
   "source": [
    "syst.hamiltonian(2000, 2000)"
   ]
  },
  {
   "cell_type": "code",
   "execution_count": 53,
   "id": "4f450bc4-96a5-4e76-9746-b417e7da1d33",
   "metadata": {},
   "outputs": [],
   "source": [
    "syst_mat_sparse = sparse.csr_matrix(syst.hamiltonian_submatrix())\n",
    "eig, psi = sparse.linalg.eigs(syst_mat_sparse, k=10, sigma=1e-4)"
   ]
  },
  {
   "cell_type": "code",
   "execution_count": 55,
   "id": "9416d7d1-613a-46a3-805d-13511abd8b5e",
   "metadata": {},
   "outputs": [
    {
     "data": {
      "text/plain": [
       "(0.0006939003964372228-1.050105470853271e-19j)"
      ]
     },
     "execution_count": 55,
     "metadata": {},
     "output_type": "execute_result"
    }
   ],
   "source": [
    "eig[0]"
   ]
  },
  {
   "cell_type": "code",
   "execution_count": 68,
   "id": "f2601dfe-1079-4fa9-b9fa-adcb42c1c2b0",
   "metadata": {},
   "outputs": [
    {
     "name": "stdout",
     "output_type": "stream",
     "text": [
      "0\n",
      "1\n",
      "2\n",
      "3\n",
      "4\n",
      "5\n",
      "6\n",
      "7\n",
      "8\n",
      "9\n",
      "10\n",
      "11\n",
      "12\n",
      "13\n",
      "14\n",
      "15\n",
      "16\n",
      "17\n",
      "18\n",
      "19\n",
      "20\n",
      "21\n",
      "22\n",
      "23\n",
      "24\n",
      "25\n",
      "26\n",
      "27\n",
      "28\n",
      "29\n",
      "30\n",
      "31\n",
      "32\n",
      "33\n",
      "34\n",
      "35\n",
      "36\n",
      "37\n",
      "38\n",
      "39\n",
      "40\n"
     ]
    }
   ],
   "source": [
    "e_fin_array = []\n",
    "psi_fin_array = []\n",
    "for i in range(41):\n",
    "    print(i)\n",
    "    syst = finite_system1(dict(\n",
    "        mu = 0.,\n",
    "        A = 1,\n",
    "        Delta=1,\n",
    "        phi=np.pi/10.*i\n",
    "    ))\n",
    "    syst_mat_sparse = sparse.csr_matrix(syst.hamiltonian_submatrix())\n",
    "    eig, psi = sparse.linalg.eigs(syst_mat_sparse, k=10, sigma=1e-4)\n",
    "    e_fin_array.append(eig[0])\n",
    "    psi_fin_array.append(psi[:,0])\n",
    "e_fin_array = np.array(e_fin_array)\n",
    "psi_fin_array = np.array(psi_fin_array)"
   ]
  },
  {
   "cell_type": "code",
   "execution_count": 60,
   "id": "034f45a6-dd6b-45df-b4d0-3aa3ae7ab5ac",
   "metadata": {},
   "outputs": [
    {
     "data": {
      "text/plain": [
       "[<matplotlib.lines.Line2D at 0x15a3009d0>]"
      ]
     },
     "execution_count": 60,
     "metadata": {},
     "output_type": "execute_result"
    },
    {
     "data": {
      "image/png": "[encoded data removed]",
      "text/plain": [
       "<Figure size 432x288 with 1 Axes>"
      ]
     },
     "metadata": {
      "needs_background": "light"
     },
     "output_type": "display_data"
    }
   ],
   "source": [
    "plt.plot(np.linspace(0, 4*np.pi, 41), np.abs(e_fin_array))\n",
    "plt.plot(np.linspace(0, 4*np.pi, 41), -np.abs(e_fin_array))"
   ]
  },
  {
   "cell_type": "code",
   "execution_count": 67,
   "id": "11f576af-da5e-42c1-a1f3-4a49d546a2ca",
   "metadata": {},
   "outputs": [
    {
     "data": {
      "text/plain": [
       "[<matplotlib.lines.Line2D at 0x15a417220>]"
      ]
     },
     "execution_count": 67,
     "metadata": {},
     "output_type": "execute_result"
    },
    {
     "data": {
      "image/png": "[encoded data removed]",
      "text/plain": [
       "<Figure size 432x288 with 1 Axes>"
      ]
     },
     "metadata": {
      "needs_background": "light"
     },
     "output_type": "display_data"
    }
   ],
   "source": [
    "plt.plot(np.linspace(0, 4*np.pi, 41), np.abs(e_fin_array))\n",
    "plt.plot(np.linspace(0, 4*np.pi, 41), -np.abs(e_fin_array))"
   ]
  },
  {
   "cell_type": "code",
   "execution_count": 63,
   "id": "7b107ac1-246b-4aa8-b57e-deace5bdd047",
   "metadata": {},
   "outputs": [
    {
     "data": {
      "text/plain": [
       "[<matplotlib.lines.Line2D at 0x15a34b100>]"
      ]
     },
     "execution_count": 63,
     "metadata": {},
     "output_type": "execute_result"
    },
    {
     "data": {
      "image/png": "[encoded data removed]",
      "text/plain": [
       "<Figure size 432x288 with 1 Axes>"
      ]
     },
     "metadata": {
      "needs_background": "light"
     },
     "output_type": "display_data"
    }
   ],
   "source": [
    "plt.plot(np.linspace(0, 4*np.pi, 41), np.abs(e_fin_array))\n",
    "plt.plot(np.linspace(0, 4*np.pi, 41), -np.abs(e_fin_array))"
   ]
  },
  {
   "cell_type": "code",
   "execution_count": 65,
   "id": "3f617ceb-c8e3-4803-9e93-7d2a4a22cf3e",
   "metadata": {},
   "outputs": [
    {
     "data": {
      "text/plain": [
       "[<matplotlib.lines.Line2D at 0x15a3a3c40>]"
      ]
     },
     "execution_count": 65,
     "metadata": {},
     "output_type": "execute_result"
    },
    {
     "data": {
      "image/png": "[encoded data removed]",
      "text/plain": [
       "<Figure size 432x288 with 1 Axes>"
      ]
     },
     "metadata": {
      "needs_background": "light"
     },
     "output_type": "display_data"
    }
   ],
   "source": [
    "plt.plot(np.linspace(0, 4*np.pi, 41), np.abs(e_fin_array))\n",
    "plt.plot(np.linspace(0, 4*np.pi, 41), -np.abs(e_fin_array))"
   ]
  },
  {
   "cell_type": "code",
   "execution_count": 69,
   "id": "911bf093-49ad-4f43-9e33-c088492b4681",
   "metadata": {},
   "outputs": [
    {
     "data": {
      "text/plain": [
       "[<matplotlib.lines.Line2D at 0x15a44fe20>]"
      ]
     },
     "execution_count": 69,
     "metadata": {},
     "output_type": "execute_result"
    },
    {
     "data": {
      "image/png": "[encoded data removed]",
      "text/plain": [
       "<Figure size 432x288 with 1 Axes>"
      ]
     },
     "metadata": {
      "needs_background": "light"
     },
     "output_type": "display_data"
    }
   ],
   "source": [
    "plt.plot(np.linspace(0, 4*np.pi, 41), np.abs(e_fin_array))\n",
    "plt.plot(np.linspace(0, 4*np.pi, 41), -np.abs(e_fin_array))"
   ]
  },
  {
   "cell_type": "code",
   "execution_count": 153,
   "id": "0f7262e0-3f5b-4895-84ac-7f0176360b3b",
   "metadata": {},
   "outputs": [
    {
     "data": {
      "text/plain": [
       "1.0"
      ]
     },
     "execution_count": 153,
     "metadata": {},
     "output_type": "execute_result"
    }
   ],
   "source": [
    "np.sum(np.abs(psi[:,0])**2.)"
   ]
  },
  {
   "cell_type": "code",
   "execution_count": 100,
   "id": "53daccb5-e317-4a35-a2b8-98994aff9987",
   "metadata": {},
   "outputs": [
    {
     "data": {
      "text/plain": [
       "Text(0.5, 1.0, 'Hole (zoomed in)')"
      ]
     },
     "execution_count": 100,
     "metadata": {},
     "output_type": "execute_result"
    },
    {
     "data": {
      "image/png": "[encoded data removed]",
      "text/plain": [
       "<Figure size 1080x1080 with 4 Axes>"
      ]
     },
     "metadata": {
      "needs_background": "light"
     },
     "output_type": "display_data"
    }
   ],
   "source": [
    "ind=0\n",
    "\n",
    "fig, ((ax1, ax2), (ax3, ax4)) = plt.subplots(2, 2, figsize=(15,15))\n",
    "ax1.plot(np.arange(len(psi[:,ind])/2), np.abs(psi[:,ind][::2])**2.)\n",
    "ax1.axvline(100*11, c='k', ls='--', alpha=0.7)\n",
    "ax1.axvline(101*11, c='k', ls='--', alpha=0.7)\n",
    "ax1.set_xlabel('Site index')\n",
    "ax1.set_ylabel('Prob. Amp.')\n",
    "ax1.set_title('Particle', fontsize=18)\n",
    "\n",
    "ax2.plot(np.arange(len(psi[:,ind])/2), np.abs(psi[:,ind][1::2])**2.)\n",
    "ax2.axvline(100*11, c='k', ls='--', alpha=0.7)\n",
    "ax2.axvline(101*11-1, c='k', ls='--', alpha=0.7)\n",
    "ax2.set_xlabel('Site index')\n",
    "ax2.set_ylabel('Prob. Amp.')\n",
    "ax2.set_title('Hole', fontsize=18)\n",
    "\n",
    "ax3.plot(np.arange(len(psi[:,ind])/2), np.abs(psi[:,ind][::2])**2.)\n",
    "ax3.axvline(100*11, c='k', ls='--', alpha=0.7)\n",
    "ax3.axvline(101*11-1, c='k', ls='--', alpha=0.7)\n",
    "ax3.set_xlim(100*11-300, 100*11+300)\n",
    "ax3.set_xlabel('Site index')\n",
    "ax3.set_ylabel('Prob. Amp.')\n",
    "ax3.set_title('Particle (zoomed in)', fontsize=18)\n",
    "\n",
    "ax4.plot(np.arange(len(psi[:,ind])/2), np.abs(psi[:,ind][1::2])**2.)\n",
    "ax4.axvline(100*11, c='k', ls='--', alpha=0.7)\n",
    "ax4.axvline(101*11, c='k', ls='--', alpha=0.7)\n",
    "ax4.set_xlim(100*11-300, 100*11+300)\n",
    "ax4.set_xlabel('Site index')\n",
    "ax4.set_ylabel('Prob. Amp.')\n",
    "ax4.set_title('Hole (zoomed in)', fontsize=18)\n",
    "\n",
    "#plt.plot(np.arange(len(psi[:,ind])/2), np.abs(psi[:,ind][::2])**2.)\n",
    "#plt.plot(np.arange(-len(wavefunc_lleads[0])/2+1, 1), np.abs(wavefunc_lleads[0][::2])**2.)\n",
    "#plt.plot(np.arange(len(wavefunc_scat[0].flatten())/2, len(wavefunc_lleads[0])/2+len(wavefunc_scat[0].flatten())/2), np.abs(wavefunc_rleads[0][::2])**2.)\n",
    "#plt.axvline(100*11, c='k', ls='--', alpha=0.7)\n",
    "#plt.axvline(101*11, c='k', ls='--', alpha=0.7)"
   ]
  },
  {
   "cell_type": "code",
   "execution_count": 154,
   "id": "bf21ea1e-c9b1-418d-b735-5c0ea2ec4c10",
   "metadata": {},
   "outputs": [
    {
     "data": {
      "text/plain": [
       "Text(0.5, 1.0, 'Hole (zoomed in)')"
      ]
     },
     "execution_count": 154,
     "metadata": {},
     "output_type": "execute_result"
    },
    {
     "data": {
      "image/png": "[encoded data removed]",
      "text/plain": [
       "<Figure size 1080x1080 with 4 Axes>"
      ]
     },
     "metadata": {
      "needs_background": "light"
     },
     "output_type": "display_data"
    }
   ],
   "source": [
    "ind=0\n",
    "\n",
    "fig, ((ax1, ax2), (ax3, ax4)) = plt.subplots(2, 2, figsize=(15,15))\n",
    "ax1.plot(np.arange(len(psi[:,ind])/2), np.abs(psi[:,ind][::2])**2.)\n",
    "ax1.axvline(100*11, c='k', ls='--', alpha=0.7)\n",
    "ax1.axvline(101*11, c='k', ls='--', alpha=0.7)\n",
    "ax1.set_xlabel('Site index')\n",
    "ax1.set_ylabel('Prob. Amp.')\n",
    "ax1.set_title('Particle', fontsize=18)\n",
    "\n",
    "ax2.plot(np.arange(len(psi[:,ind])/2), np.abs(psi[:,ind][1::2])**2.)\n",
    "ax2.axvline(100*11, c='k', ls='--', alpha=0.7)\n",
    "ax2.axvline(101*11-1, c='k', ls='--', alpha=0.7)\n",
    "ax2.set_xlabel('Site index')\n",
    "ax2.set_ylabel('Prob. Amp.')\n",
    "ax2.set_title('Hole', fontsize=18)\n",
    "\n",
    "ax3.plot(np.arange(len(psi[:,ind])/2), np.abs(psi[:,ind][::2])**2.)\n",
    "ax3.axvline(100*11, c='k', ls='--', alpha=0.7)\n",
    "ax3.axvline(101*11-1, c='k', ls='--', alpha=0.7)\n",
    "ax3.set_xlim(100*11-300, 100*11+300)\n",
    "ax3.set_xlabel('Site index')\n",
    "ax3.set_ylabel('Prob. Amp.')\n",
    "ax3.set_title('Particle (zoomed in)', fontsize=18)\n",
    "\n",
    "ax4.plot(np.arange(len(psi[:,ind])/2), np.abs(psi[:,ind][1::2])**2.)\n",
    "ax4.axvline(100*11, c='k', ls='--', alpha=0.7)\n",
    "ax4.axvline(101*11, c='k', ls='--', alpha=0.7)\n",
    "ax4.set_xlim(100*11-300, 100*11+300)\n",
    "ax4.set_xlabel('Site index')\n",
    "ax4.set_ylabel('Prob. Amp.')\n",
    "ax4.set_title('Hole (zoomed in)', fontsize=18)\n",
    "\n",
    "#plt.plot(np.arange(len(psi[:,ind])/2), np.abs(psi[:,ind][::2])**2.)\n",
    "#plt.plot(np.arange(-len(wavefunc_lleads[0])/2+1, 1), np.abs(wavefunc_lleads[0][::2])**2.)\n",
    "#plt.plot(np.arange(len(wavefunc_scat[0].flatten())/2, len(wavefunc_lleads[0])/2+len(wavefunc_scat[0].flatten())/2), np.abs(wavefunc_rleads[0][::2])**2.)\n",
    "#plt.axvline(100*11, c='k', ls='--', alpha=0.7)\n",
    "#plt.axvline(101*11, c='k', ls='--', alpha=0.7)"
   ]
  },
  {
   "cell_type": "code",
   "execution_count": null,
   "id": "349d8d9e-5da7-4ff7-8ba4-c4324cbb3ad5",
   "metadata": {},
   "outputs": [],
   "source": []
  },
  {
   "cell_type": "code",
   "execution_count": null,
   "id": "9e06ae5f-f53f-457e-b25b-86a3642a82e9",
   "metadata": {},
   "outputs": [],
   "source": [
    "for i in range(len(e_array)):\n",
    "    print(i)\n",
    "    state_ind=0\n",
    "    \n",
    "    syst = finite_system1(dict(\n",
    "        mu = 0.,\n",
    "        A = 1,\n",
    "        Delta=1e-3,\n",
    "        phi=np.pi/10.*i\n",
    "    ))\n",
    "    syst_mat_sparse = sparse.csr_matrix(syst.hamiltonian_submatrix())\n",
    "    eig, psi = sparse.linalg.eigs(syst_mat_sparse, k=10, sigma=e_array[i, 0])\n",
    "\n",
    "    fig, ((ax1, ax2), (ax3, ax4)) = plt.subplots(2, 2, figsize=(15,15))\n",
    "    ax1.plot(np.arange(len(psi[:,state_ind])/2), np.abs(psi[:,state_ind][::2])**2.)\n",
    "    ax1.axvline(100*11, c='k', ls='--', alpha=0.7)\n",
    "    ax1.axvline(101*11, c='k', ls='--', alpha=0.7)\n",
    "    ax1.set_xlabel('Site index')\n",
    "    ax1.set_ylabel('Prob. Amp.')\n",
    "    ax1.set_title('Particle', fontsize=18)\n",
    "\n",
    "    ax2.plot(np.arange(len(psi[:,state_ind])/2), np.abs(psi[:,state_ind][1::2])**2.)\n",
    "    ax2.axvline(100*11, c='k', ls='--', alpha=0.7)\n",
    "    ax2.axvline(101*11-1, c='k', ls='--', alpha=0.7)\n",
    "    ax2.set_xlabel('Site index')\n",
    "    ax2.set_ylabel('Prob. Amp.')\n",
    "    ax2.set_title('Hole', fontsize=18)\n",
    "\n",
    "    ax3.plot(np.arange(len(psi[:,state_ind])/2), np.abs(psi[:,state_ind][::2])**2.)\n",
    "    ax3.axvline(100*11, c='k', ls='--', alpha=0.7)\n",
    "    ax3.axvline(101*11-1, c='k', ls='--', alpha=0.7)\n",
    "    ax3.set_xlim(100*11-300, 100*11+300)\n",
    "    ax3.set_xlabel('Site index')\n",
    "    ax3.set_ylabel('Prob. Amp.')\n",
    "    ax3.set_title('Particle (zoomed in)', fontsize=18)\n",
    "\n",
    "    ax4.plot(np.arange(len(psi[:,state_ind])/2), np.abs(psi[:,state_ind][1::2])**2.)\n",
    "    ax4.axvline(100*11, c='k', ls='--', alpha=0.7)\n",
    "    ax4.axvline(101*11, c='k', ls='--', alpha=0.7)\n",
    "    ax4.set_xlim(100*11-300, 100*11+300)\n",
    "    ax4.set_xlabel('Site index')\n",
    "    ax4.set_ylabel('Prob. Amp.')\n",
    "    ax4.set_title('Hole (zoomed in)', fontsize=18)\n",
    "    \n",
    "    plt.savefig('./Finite systems/test1/phi_ind=%s' % (i), dpi=300, bbox_inches='tight')"
   ]
  },
  {
   "cell_type": "code",
   "execution_count": 17,
   "id": "8d73ab5a-7081-480c-a349-204b27235ff7",
   "metadata": {},
   "outputs": [
    {
     "data": {
      "text/plain": [
       "<matplotlib.lines.Line2D at 0x108fe2580>"
      ]
     },
     "execution_count": 17,
     "metadata": {},
     "output_type": "execute_result"
    },
    {
     "data": {
      "image/png": "[encoded data removed]",
      "text/plain": [
       "<Figure size 432x288 with 1 Axes>"
      ]
     },
     "metadata": {
      "needs_background": "light"
     },
     "output_type": "display_data"
    }
   ],
   "source": [
    "ind=5\n",
    "\n",
    "plt.plot(np.arange(len(psi[:,ind])/2), np.abs(psi[:,ind][::2])**2.)\n",
    "#plt.plot(np.arange(-len(wavefunc_lleads[0])/2+1, 1), np.abs(wavefunc_lleads[0][::2])**2.)\n",
    "#plt.plot(np.arange(len(wavefunc_scat[0].flatten())/2, len(wavefunc_lleads[0])/2+len(wavefunc_scat[0].flatten())/2), np.abs(wavefunc_rleads[0][::2])**2.)\n",
    "plt.axvline(100*11, c='k', ls='--', alpha=0.7)\n",
    "plt.axvline(101*11, c='k', ls='--', alpha=0.7)\n",
    "#plt.xlim(1100-400, 1111+400)"
   ]
  },
  {
   "cell_type": "code",
   "execution_count": 103,
   "id": "dfe70825-e7e9-48a1-ae88-7e2c5c540acb",
   "metadata": {},
   "outputs": [
    {
     "data": {
      "text/plain": [
       "[<matplotlib.lines.Line2D at 0x15e8180d0>,\n",
       " <matplotlib.lines.Line2D at 0x15e818130>]"
      ]
     },
     "execution_count": 103,
     "metadata": {},
     "output_type": "execute_result"
    },
    {
     "data": {
      "image/png": "[encoded data removed]",
      "text/plain": [
       "<Figure size 432x288 with 1 Axes>"
      ]
     },
     "metadata": {
      "needs_background": "light"
     },
     "output_type": "display_data"
    }
   ],
   "source": [
    "from matplotlib import pyplot as plt\n",
    "bands=kwant.physics.Bands(syst.leads[1], params=params)\n",
    "momenta=np.linspace(-np.pi,np.pi,101)\n",
    "en=[bands(k) for k in momenta]\n",
    "x=np.array(en)\n",
    "en=(x)\n",
    "plt.plot(momenta, en)\n",
    "#plt.axhline(1.4)"
   ]
  },
  {
   "cell_type": "code",
   "execution_count": 166,
   "id": "460a094c-9634-4a59-b3a5-c2130565e9b7",
   "metadata": {},
   "outputs": [
    {
     "data": {
      "text/plain": [
       "40"
      ]
     },
     "execution_count": 166,
     "metadata": {},
     "output_type": "execute_result"
    }
   ],
   "source": [
    "i"
   ]
  },
  {
   "cell_type": "markdown",
   "id": "8ed3c90a-e7c3-4f0e-9cb0-86586bfc0db4",
   "metadata": {},
   "source": [
    "# Matrix element"
   ]
  },
  {
   "cell_type": "code",
   "execution_count": 163,
   "id": "c428ff4c-5d6f-422c-b332-96a7c86e1f4d",
   "metadata": {},
   "outputs": [],
   "source": [
    "params = dict(\n",
    "    mu = 0.,\n",
    "    A = 1,\n",
    "    Delta=1e-3,\n",
    "    phi=0\n",
    ")\n",
    "\n",
    "def finite_system_prime(params, L=11, lead_times=100):\n",
    "    a = 1\n",
    "    mu, A, Delta, phi = params.values()\n",
    "    \n",
    "    lat = kwant.lattice.chain()\n",
    "    syst = kwant.Builder()\n",
    "    \n",
    "    # Pauli matrices\n",
    "    sigma_0 = np.array([[1, 0], [0, 1]])\n",
    "    sigma_x = np.array([[0, 1], [1, 0]])\n",
    "    sigma_y = np.array([[0, -1j], [1j, 0]])\n",
    "    sigma_z = np.array([[1, 0], [0, -1]])\n",
    "    \n",
    "    ham = (2.*A/(a**2.)-mu)*sigma_z\n",
    "    hop = -A/(a**2.)*sigma_z\n",
    "    \n",
    "    ham_lead0 = ham + Delta*(-0.5*np.sin(phi/2.)*sigma_x + 0.5*np.cos(phi/2.)*sigma_y)\n",
    "    hop_lead0 = hop\n",
    "    ham_lead1 = ham + Delta*(-0.5*np.sin(phi/2.)*sigma_x - 0.5*np.cos(phi/2.)*sigma_y)\n",
    "    hop_lead1 = hop\n",
    "    \n",
    "    syst[(lat(x) for x in range(-L*lead_times, 0))] = ham_lead0\n",
    "    syst[(lat(x) for x in range(0, L))] = ham\n",
    "    syst[(lat(x) for x in range(L, (lead_times+1)*L))] = ham_lead1\n",
    "    syst[((lat(x), lat(x+1)) for x in range(-L*lead_times, (lead_times+1)*L-1))] = hop\n",
    "    \n",
    "    '''sym_left = kwant.TranslationalSymmetry([-1])\n",
    "    lead0 = kwant.Builder(sym_left)\n",
    "    lead0[(lat(-L*100-1))] = ham_leads\n",
    "    lead0[lat.neighbors()] = hop_leads\n",
    "    sym_right = kwant.TranslationalSymmetry([1])\n",
    "    lead1 = kwant.Builder(sym_right)\n",
    "    lead1[(lat(101*L))] =  ham_leads\n",
    "    lead1[lat.neighbors()] = hop_leads\n",
    "    \n",
    "    syst.attach_lead(lead0)\n",
    "    syst.attach_lead(lead1)'''\n",
    "\n",
    "    return syst.finalized()\n",
    "\n",
    "syst_prime = finite_system_prime(dict(\n",
    "    mu = 0.,\n",
    "    A = 1,\n",
    "    Delta=1e-3,\n",
    "    phi=np.pi\n",
    "))"
   ]
  },
  {
   "cell_type": "code",
   "execution_count": 210,
   "id": "c4706290-f33a-4a75-b7a2-ebbaf0fad046",
   "metadata": {},
   "outputs": [
    {
     "name": "stdout",
     "output_type": "stream",
     "text": [
      "0\n",
      "1\n",
      "2\n",
      "3\n",
      "4\n",
      "5\n",
      "6\n",
      "7\n",
      "8\n",
      "9\n",
      "10\n",
      "11\n",
      "12\n",
      "13\n",
      "14\n",
      "15\n",
      "16\n",
      "17\n",
      "18\n",
      "19\n",
      "20\n",
      "21\n",
      "22\n",
      "23\n",
      "24\n",
      "25\n",
      "26\n",
      "27\n",
      "28\n",
      "29\n",
      "30\n",
      "31\n",
      "32\n",
      "33\n",
      "34\n",
      "35\n",
      "36\n",
      "37\n",
      "38\n",
      "39\n",
      "40\n"
     ]
    }
   ],
   "source": [
    "E_ham_array = []\n",
    "for i in range(len(e_array)):\n",
    "    print(i)\n",
    "    syst = finite_system1(dict(\n",
    "            mu = 0.,\n",
    "            A = 1,\n",
    "            Delta=1e-3,\n",
    "            phi=np.pi/10.*i\n",
    "        ))\n",
    "    syst_mat_sparse = sparse.csr_matrix(syst.hamiltonian_submatrix())\n",
    "    eig0, psi0 = sparse.linalg.eigs(syst_mat_sparse, k=10, sigma=e_array[i, 0])\n",
    "    \n",
    "    E = psi0[:,0].T.conj()@syst.hamiltonian_submatrix()@psi0[:,0]\n",
    "    E_ham_array.append(E)"
   ]
  },
  {
   "cell_type": "code",
   "execution_count": 209,
   "id": "411fa7e7-95f4-4dd6-b373-3990638aa7ac",
   "metadata": {},
   "outputs": [],
   "source": [
    "import sys\n",
    "import numpy\n",
    "numpy.set_printoptions(threshold=100)"
   ]
  },
  {
   "cell_type": "code",
   "execution_count": null,
   "id": "ed9b803e-0779-48c1-b5d8-ccad9966c7c9",
   "metadata": {},
   "outputs": [],
   "source": [
    "syst_prime.hamiltonian_submatrix()"
   ]
  },
  {
   "cell_type": "code",
   "execution_count": null,
   "id": "56a22707-143c-4c2b-9e98-c42a26d3dd7b",
   "metadata": {},
   "outputs": [],
   "source": [
    "syst = finite_system1(dict(\n",
    "        mu = 0.,\n",
    "        A = 1,\n",
    "        Delta=1e-3,\n",
    "        phi=0.\n",
    "    ))\n",
    "syst_mat_sparse = sparse.csr_matrix(syst.hamiltonian_submatrix())\n",
    "eig0, psi0 = sparse.linalg.eigs(syst_mat_sparse, k=10, sigma=e_array[0, 0])\n",
    "\n",
    "print(eig0[0])\n",
    "(syst.hamiltonian_submatrix()@psi0[:,0])/psi0[:,0]"
   ]
  },
  {
   "cell_type": "code",
   "execution_count": 226,
   "id": "5bd45185-ed7c-419d-8d87-6a47bb53883b",
   "metadata": {},
   "outputs": [
    {
     "data": {
      "text/plain": [
       "[<matplotlib.lines.Line2D at 0x1585ca6a0>]"
      ]
     },
     "execution_count": 226,
     "metadata": {},
     "output_type": "execute_result"
    },
    {
     "data": {
      "image/png": "[encoded data removed]",
      "text/plain": [
       "<Figure size 432x288 with 1 Axes>"
      ]
     },
     "metadata": {
      "needs_background": "light"
     },
     "output_type": "display_data"
    }
   ],
   "source": [
    "E_ham_array = np.array(E_ham_array)\n",
    "plt.plot(np.linspace(0, 4*np.pi, 41), np.abs(E_ham_array))\n",
    "plt.plot(np.linspace(0, 4*np.pi, 41), e_array[:,1])"
   ]
  },
  {
   "cell_type": "code",
   "execution_count": 227,
   "id": "0e2a82b5-f21c-4cd1-8246-f35f024b039d",
   "metadata": {},
   "outputs": [],
   "source": [
    "from scipy import optimize as op\n",
    "def E_A_analytic(phi, tau, delta):\n",
    "    return delta*np.sqrt(1.-tau*np.sin(phi/2.)**2.)\n",
    "#plt.plot(np.linspace(0, 4*np.pi, 41), E_A_analytic(np.linspace(0, 4*np.pi, 41), 0.4, 1e-3))\n",
    "\n",
    "popt, pcov = op.curve_fit(E_A_analytic, np.linspace(0, 4*np.pi, 41), np.abs(E_ham_array), p0=[0.5, 1e-3])"
   ]
  },
  {
   "cell_type": "code",
   "execution_count": 235,
   "id": "db2a89a6-9264-4419-8a80-ca0c729f984a",
   "metadata": {},
   "outputs": [
    {
     "data": {
      "text/plain": [
       "<matplotlib.legend.Legend at 0x1094dd370>"
      ]
     },
     "execution_count": 235,
     "metadata": {},
     "output_type": "execute_result"
    },
    {
     "data": {
      "image/png": "[encoded data removed]",
      "text/plain": [
       "<Figure size 432x288 with 1 Axes>"
      ]
     },
     "metadata": {
      "needs_background": "light"
     },
     "output_type": "display_data"
    }
   ],
   "source": [
    "plt.plot(np.linspace(0, 4*np.pi, 41), np.abs(E_ham_array), marker='x', ls='', label='Finite diag')\n",
    "plt.plot(np.linspace(0, 4*np.pi, 41), E_A_analytic(np.linspace(0, 4*np.pi, 41), *popt), label='curve_fit')\n",
    "plt.xlabel(r'$\\Phi$')\n",
    "plt.ylabel(r'$E_A$')\n",
    "plt.legend()"
   ]
  },
  {
   "cell_type": "code",
   "execution_count": 238,
   "id": "4c013b79-c825-44d5-90cc-9ed6694cf4a9",
   "metadata": {},
   "outputs": [
    {
     "data": {
      "text/plain": [
       "array([2.10826195e-03, 8.40197860e-07])"
      ]
     },
     "execution_count": 238,
     "metadata": {},
     "output_type": "execute_result"
    }
   ],
   "source": [
    "np.sqrt(np.diag(pcov))"
   ]
  },
  {
   "cell_type": "code",
   "execution_count": 71,
   "id": "d9e23f89-62ca-433f-911a-107e56639b3a",
   "metadata": {},
   "outputs": [
    {
     "ename": "NameError",
     "evalue": "name 'e_array' is not defined",
     "output_type": "error",
     "traceback": [
      "\u001b[0;31m---------------------------------------------------------------------------\u001b[0m",
      "\u001b[0;31mNameError\u001b[0m                                 Traceback (most recent call last)",
      "\u001b[0;32m/var/folders/tq/z3lkw8s95r1g4v3_7b8tv3_w0000gn/T/ipykernel_3656/1901998444.py\u001b[0m in \u001b[0;36m<module>\u001b[0;34m\u001b[0m\n\u001b[0;32m----> 1\u001b[0;31m \u001b[0me_array\u001b[0m\u001b[0;34m\u001b[0m\u001b[0;34m\u001b[0m\u001b[0m\n\u001b[0m",
      "\u001b[0;31mNameError\u001b[0m: name 'e_array' is not defined"
     ]
    }
   ],
   "source": []
  },
  {
   "cell_type": "code",
   "execution_count": 181,
   "id": "c05b5ca1-9a23-4959-9c95-5aa08abfe1f9",
   "metadata": {},
   "outputs": [],
   "source": [
    "M_array = []\n",
    "for i in range(len(e_array)):\n",
    "    print(i)\n",
    "    syst = finite_system1(dict(\n",
    "            mu = 0.,\n",
    "            A = 1,\n",
    "            Delta=1e-3,\n",
    "            phi=np.pi/10.*i\n",
    "        ))\n",
    "    syst_mat_sparse = sparse.csr_matrix(syst.hamiltonian_submatrix())\n",
    "    eig0, psi0 = sparse.linalg.eigs(syst_mat_sparse, k=10, sigma=e_array[i, 0])\n",
    "    eig1, psi1 = sparse.linalg.eigs(syst_mat_sparse, k=10, sigma=e_array[i, 1])\n",
    "\n",
    "    syst_prime = finite_system_prime(dict(\n",
    "        mu = 0.,\n",
    "        A = 1,\n",
    "        Delta=1e-3,\n",
    "        phi=np.pi/10.*i\n",
    "    ))\n",
    "    M = psi1[:,0].T.conj()@syst_prime.hamiltonian_submatrix()@psi0[:,0]\n",
    "    M_array.append(M)"
   ]
  },
  {
   "cell_type": "code",
   "execution_count": 241,
   "id": "899102c8-39b1-4e31-8410-1e2f2756aba3",
   "metadata": {},
   "outputs": [
    {
     "data": {
      "text/plain": [
       "<matplotlib.legend.Legend at 0x15878abb0>"
      ]
     },
     "execution_count": 241,
     "metadata": {},
     "output_type": "execute_result"
    },
    {
     "data": {
      "image/png": "[encoded data removed]",
      "text/plain": [
       "<Figure size 432x288 with 1 Axes>"
      ]
     },
     "metadata": {
      "needs_background": "light"
     },
     "output_type": "display_data"
    }
   ],
   "source": [
    "M_array = np.array(M_array)\n",
    "plt.plot(np.linspace(0, 4*np.pi, 41), np.abs(M_array), label='Finite diag')\n",
    "plt.plot(np.linspace(0, 4*np.pi, 41), M_analytic(e_array[:,1], popt[0]), label='Analytic')\n",
    "plt.xlabel(r'$\\Phi$')\n",
    "plt.ylabel(r'$|M|$')\n",
    "plt.legend()"
   ]
  },
  {
   "cell_type": "code",
   "execution_count": 70,
   "id": "385d5344-98fc-4c2d-b298-3aa5f0289fcb",
   "metadata": {},
   "outputs": [
    {
     "ename": "NameError",
     "evalue": "name 'e_array' is not defined",
     "output_type": "error",
     "traceback": [
      "\u001b[0;31m---------------------------------------------------------------------------\u001b[0m",
      "\u001b[0;31mNameError\u001b[0m                                 Traceback (most recent call last)",
      "\u001b[0;32m/var/folders/tq/z3lkw8s95r1g4v3_7b8tv3_w0000gn/T/ipykernel_3656/330535385.py\u001b[0m in \u001b[0;36m<module>\u001b[0;34m\u001b[0m\n\u001b[1;32m      3\u001b[0m     \u001b[0;32mreturn\u001b[0m \u001b[0mdelta\u001b[0m\u001b[0;34m*\u001b[0m\u001b[0mnp\u001b[0m\u001b[0;34m.\u001b[0m\u001b[0msqrt\u001b[0m\u001b[0;34m(\u001b[0m\u001b[0;36m1.\u001b[0m\u001b[0;34m-\u001b[0m\u001b[0mtau\u001b[0m\u001b[0;34m)\u001b[0m\u001b[0;34m/\u001b[0m\u001b[0;36m2.\u001b[0m\u001b[0;34m*\u001b[0m\u001b[0;34m(\u001b[0m\u001b[0mdelta\u001b[0m\u001b[0;34m/\u001b[0m\u001b[0mE_A\u001b[0m \u001b[0;34m-\u001b[0m \u001b[0mE_A\u001b[0m\u001b[0;34m/\u001b[0m\u001b[0mdelta\u001b[0m\u001b[0;34m)\u001b[0m\u001b[0;34m\u001b[0m\u001b[0;34m\u001b[0m\u001b[0m\n\u001b[1;32m      4\u001b[0m \u001b[0;34m\u001b[0m\u001b[0m\n\u001b[0;32m----> 5\u001b[0;31m \u001b[0mplt\u001b[0m\u001b[0;34m.\u001b[0m\u001b[0mplot\u001b[0m\u001b[0;34m(\u001b[0m\u001b[0mnp\u001b[0m\u001b[0;34m.\u001b[0m\u001b[0mlinspace\u001b[0m\u001b[0;34m(\u001b[0m\u001b[0;36m0\u001b[0m\u001b[0;34m,\u001b[0m \u001b[0;36m4\u001b[0m\u001b[0;34m*\u001b[0m\u001b[0mnp\u001b[0m\u001b[0;34m.\u001b[0m\u001b[0mpi\u001b[0m\u001b[0;34m,\u001b[0m \u001b[0;36m41\u001b[0m\u001b[0;34m)\u001b[0m\u001b[0;34m,\u001b[0m \u001b[0mM_analytic\u001b[0m\u001b[0;34m(\u001b[0m\u001b[0me_array\u001b[0m\u001b[0;34m[\u001b[0m\u001b[0;34m:\u001b[0m\u001b[0;34m,\u001b[0m\u001b[0;36m1\u001b[0m\u001b[0;34m]\u001b[0m\u001b[0;34m,\u001b[0m \u001b[0;36m0\u001b[0m\u001b[0;34m)\u001b[0m\u001b[0;34m)\u001b[0m\u001b[0;34m\u001b[0m\u001b[0;34m\u001b[0m\u001b[0m\n\u001b[0m",
      "\u001b[0;31mNameError\u001b[0m: name 'e_array' is not defined"
     ]
    }
   ],
   "source": [
    "def M_analytic(E_A, tau):\n",
    "    delta=popt[0]\n",
    "    return delta*np.sqrt(1.-tau)/2.*(delta/E_A - E_A/delta)\n",
    "\n",
    "plt.plot(np.linspace(0, 4*np.pi, 41), M_analytic(e_array[:,1], 0))"
   ]
  },
  {
   "cell_type": "markdown",
   "id": "cdc8f189-e8cb-4b53-881d-57730bc2a3f7",
   "metadata": {},
   "source": [
    "# Comparing lead modes (Istas) with lead modes direct diag"
   ]
  },
  {
   "cell_type": "code",
   "execution_count": 104,
   "id": "9df69e8c-39db-4009-8423-39fba2cb2b9d",
   "metadata": {},
   "outputs": [
    {
     "data": {
      "text/plain": [
       "array([-0.00092758,  0.00092758])"
      ]
     },
     "execution_count": 104,
     "metadata": {},
     "output_type": "execute_result"
    }
   ],
   "source": [
    "e_array[0]"
   ]
  },
  {
   "cell_type": "code",
   "execution_count": 115,
   "id": "277f5916-4ad6-4b55-9368-3a688ea3d527",
   "metadata": {},
   "outputs": [
    {
     "name": "stdout",
     "output_type": "stream",
     "text": [
      "[1.01830699-0.01864527j 0.98169301-0.01797486j 1.01830699+0.01864527j\n",
      " 0.98169301+0.01797486j]\n",
      "selection trial\n",
      "[[ 0.37621917+0.3362081j  -0.50042296+0.06444851j]\n",
      " [-0.00275397-0.50454848j -0.28766523+0.41451835j]]\n"
     ]
    }
   ],
   "source": [
    "syst = infinite_system1(dict(\n",
    "    mu = 0.,\n",
    "    A = 1,\n",
    "    Delta=1e-3,\n",
    "    phi=np.pi\n",
    "))\n",
    "\n",
    "def explicit_diagonalisation(syst, en):\n",
    "    #following eq (5) of Istas et al.\n",
    "    ham = syst.leads[0].cell_hamiltonian(params=params)\n",
    "    hop = syst.leads[0].inter_cell_hopping(params=params)\n",
    "    #print(hop)\n",
    "    #print('check if h_hop is invertible')\n",
    "    #print(np.linalg.inv(hop))\n",
    "    #print(ham)\n",
    "    #print(hop)\n",
    "    A = np.block([[ham-en*np.identity(ham.shape[0]), hop.T.conj()], [np.identity(ham.shape[0]), np.zeros(ham.shape)]])\n",
    "    B = np.block([[-hop, np.zeros(ham.shape)], [np.zeros(ham.shape), np.identity(ham.shape[0])]])\n",
    "    #print(A)\n",
    "    eigvals, eigvecs = linalg.eig(A, b=B)\n",
    "    lambdas = 1./eigvals\n",
    "    '''print('lambdas')\n",
    "    print(lambdas)\n",
    "    print('size of lambdas')\n",
    "    print(np.abs(lambdas))\n",
    "    print('phase of lambdas')\n",
    "    print(np.angle(lambdas))\n",
    "    print('eigenvectors')\n",
    "    print(eigvecs)\n",
    "    print(eigvecs[2:4]/eigvecs[0:2])''' #checking if the lowest half of the eigenvectors are related to the top part by the corresponding eigenvalues.\n",
    "    return lambdas, eigvecs\n",
    "    \n",
    "lambdas, eigvecs = explicit_diagonalisation(syst, e_array[10, 0])\n",
    "lmbda = lambdas\n",
    "print(lambdas)\n",
    "phi = eigvecs[0:2]\n",
    "phi_lmbda = eigvecs[2:4]\n",
    "print('selection trial')\n",
    "print(phi[:,np.abs(lambdas)<1.])"
   ]
  },
  {
   "cell_type": "code",
   "execution_count": 110,
   "id": "e5df25d8-f391-4826-858f-f7304acb081f",
   "metadata": {},
   "outputs": [
    {
     "data": {
      "text/plain": [
       "array([0.50340518, 0.50340518])"
      ]
     },
     "execution_count": 110,
     "metadata": {},
     "output_type": "execute_result"
    }
   ],
   "source": [
    "np.abs(phi[:,1])"
   ]
  },
  {
   "cell_type": "markdown",
   "id": "add5c4ef-e469-41f2-9369-c8ea07442249",
   "metadata": {},
   "source": [
    "# Lead curve fitting (are the evan modes correct?)"
   ]
  },
  {
   "cell_type": "code",
   "execution_count": 111,
   "id": "5978dcf0-9125-4e4a-8327-03a4038c6531",
   "metadata": {},
   "outputs": [],
   "source": [
    "#k_plus = np.sqrt(1j*np.sqrt(delta**2. - E_A**2.))/const.hbar\n",
    "#k_minus = np.sqrt(-1j*np.sqrt(delta**2. - E_A**2.))/const.hbar\n"
   ]
  },
  {
   "cell_type": "code",
   "execution_count": 140,
   "id": "80543a02-ff56-498f-b1ac-181901313c1d",
   "metadata": {},
   "outputs": [
    {
     "name": "stdout",
     "output_type": "stream",
     "text": [
      "(-0.9275841974472097+0.3736141815372672j)\n"
     ]
    },
    {
     "data": {
      "image/png": "[encoded data removed]",
      "text/plain": [
       "<Figure size 432x288 with 1 Axes>"
      ]
     },
     "metadata": {
      "needs_background": "light"
     },
     "output_type": "display_data"
    }
   ],
   "source": [
    "syst = infinite_system1(dict(\n",
    "    mu = 0.,\n",
    "    A = 1,\n",
    "    Delta=1e-3,\n",
    "    phi=0.\n",
    "))\n",
    "lambdas, eigvecs = explicit_diagonalisation(syst, e_array[0, 0])\n",
    "lmb0 = lambdas[1]\n",
    "lmb1 = lambdas[3]\n",
    "Phi0 = eigvecs[:2,1]\n",
    "Phi1 = eigvecs[:2,3]\n",
    "\n",
    "lead_mode0 = np.array([(lmb0**i)*Phi0 for i in range(1000)])\n",
    "lead_mode1 = np.array([(lmb1**i)*Phi1 for i in range(1000)])\n",
    "plt.plot(np.arange(1000), np.abs(lead_mode0[:,0])**2.)\n",
    "plt.plot(np.arange(1000), np.abs(lead_mode1[:,0])**2.)\n",
    "plt.plot(np.arange(1000), np.abs(lead_mode0[:,1])**2.)\n",
    "plt.plot(np.arange(1000), np.abs(lead_mode1[:,1])**2.)\n",
    "print(Phi0[1]/Phi0[0])"
   ]
  },
  {
   "cell_type": "code",
   "execution_count": 145,
   "id": "6bbcddcf-cf75-4605-a613-dd8e27c3ffdc",
   "metadata": {},
   "outputs": [
    {
     "data": {
      "text/plain": [
       "[<matplotlib.lines.Line2D at 0x1573c94f0>]"
      ]
     },
     "execution_count": 145,
     "metadata": {},
     "output_type": "execute_result"
    },
    {
     "data": {
      "image/png": "[encoded data removed]",
      "text/plain": [
       "<Figure size 432x288 with 1 Axes>"
      ]
     },
     "metadata": {
      "needs_background": "light"
     },
     "output_type": "display_data"
    }
   ],
   "source": [
    "q_e = np.array([-0.10516328+0.03270303j, -0.00542438+0.00732433j])\n",
    "q_e = np.array([0.5+0.5j, 0.5-0.5j])\n",
    "trial_wf = q_e[0]*lead_mode0 + q_e[1]*lead_mode1\n",
    "plt.plot(np.arange(1000), np.abs(trial_wf[:,0])**2.)\n",
    "plt.plot(np.arange(1000), np.abs(trial_wf[:,1])**2.)"
   ]
  },
  {
   "cell_type": "code",
   "execution_count": null,
   "id": "1b105a38-01e8-4bac-9779-e5ba030da7db",
   "metadata": {},
   "outputs": [],
   "source": [
    "k_plus = np.sqrt(1j*np.sqrt(delta**2. - E_A**2.))/const.hbar\n",
    "k_minus = np.sqrt(-1j*np.sqrt(delta**2. - E_A**2.))/const.hbar\n"
   ]
  },
  {
   "cell_type": "code",
   "execution_count": 10,
   "id": "277e192c-658e-44a2-a28e-47aba0492627",
   "metadata": {},
   "outputs": [],
   "source": [
    "# Copyright 2011-2019 Kwant authors.\n",
    "#\n",
    "# This file is part of Kwant.  It is subject to the license terms in the file\n",
    "# LICENSE.rst found in the top-level directory of this distribution and at\n",
    "# http://kwant-project.org/license.  A list of Kwant authors can be found in\n",
    "# the file AUTHORS.rst at the top-level directory of this distribution and at\n",
    "# http://kwant-project.org/authors.\n",
    "\n",
    "from packaging import version\n",
    "\n",
    "import numpy as np\n",
    "import scipy.linalg\n",
    "import scipy.optimize\n",
    "import scipy.sparse as sp\n",
    "\n",
    "__all__ = [\"find_boundstates\"]\n",
    "\n",
    "# TODO: remove this when we depend on scipy > 1.1\n",
    "#1.3.1 here\n",
    "if version.parse(scipy.__version__) > version.parse(\"1.1\"):\n",
    "    null_space = scipy.linalg.null_space\n",
    "else:\n",
    "\n",
    "    def null_space(A, rcond=None):\n",
    "        u, s, vh = scipy.linalg.svd(A, full_matrices=True)\n",
    "        M, N = u.shape[0], vh.shape[1]\n",
    "        if rcond is None:\n",
    "            rcond = np.finfo(s.dtype).eps * max(M, N)\n",
    "        tol = np.amax(s) * rcond\n",
    "        num = np.sum(s > tol, dtype=int)\n",
    "        Q = vh[num:, :].T.conj()\n",
    "        return Q\n",
    "\n",
    "\n",
    "# If available, use MUMPS support for shift-inverse sparse diagonalization\n",
    "# Can import mumps alright.\n",
    "try:\n",
    "    from kwant.linalg import mumps\n",
    "except ImportError:\n",
    "    sparse_diag = sp.linalg.eigsh\n",
    "else:\n",
    "\n",
    "    class _LuInv(sp.linalg.LinearOperator):\n",
    "        def __init__(self, A):\n",
    "            inst = mumps.MUMPSContext()\n",
    "            inst.analyze(A)\n",
    "            inst.factor(A)\n",
    "            self.solve = inst.solve\n",
    "            super().__init__(A.dtype, A.shape)\n",
    "\n",
    "        def _matvec(self, x):\n",
    "            return self.solve(x.astype(self.dtype))\n",
    "\n",
    "    def sparse_diag(matrix, k, sigma, **kwargs):\n",
    "        if sigma == 0:\n",
    "            shifted_matrix = matrix\n",
    "        else:\n",
    "            shifted_matrix = matrix - sigma * sp.identity(matrix.shape[0])\n",
    "        return sp.linalg.eigsh(matrix, k, sigma=sigma, OPinv=_LuInv(shifted_matrix),\n",
    "                               **kwargs)\n",
    "\n",
    "\"\"\"syst: kwant.system.FiniteSystem\n",
    "\"\"\"\n",
    "\n",
    "def find_boundstates(\n",
    "    syst,\n",
    "    min_energy,\n",
    "    max_energy,\n",
    "    params=None,\n",
    "    sparse=True,\n",
    "    check_hermiticity=True,\n",
    "    rtol=1e-3,\n",
    "):\n",
    "    \"\"\"Return boundstates of an open system in an energy window\n",
    "\n",
    "    Parameters\n",
    "    ----------\n",
    "    syst : kwant.system.FiniteSystem\n",
    "        Must have leads.\n",
    "    min_energy, max_energy : float\n",
    "        The lower and upper bounds in energy to search for boundstates.\n",
    "    params : dict, optional\n",
    "        The keyword arguments to 'syst'.\n",
    "    sparse : bool, default: True\n",
    "        If True use sparse linear algebra, otherwise use dense.\n",
    "    check_hermiticity : bool, default: True\n",
    "        If True, checks the Hermiticity of the system Hamiltonian\n",
    "    rtol : float, default: 1E-3\n",
    "        boundstates that are closer together than\n",
    "        'rtol * (max_energy - min_energy)' may be missed.\n",
    "\n",
    "    Returns\n",
    "    -------\n",
    "    energies : 1D float array\n",
    "        The energies of the bound states.\n",
    "    wavefunctions : 2D complex array\n",
    "        The columns are the bound state wavefunctions defined\n",
    "        over the scattering region.\n",
    "    \"\"\"\n",
    "\n",
    "    # TODO: apply lru_cache to this once\n",
    "    # https://github.com/scipy/scipy/issues/10846 is solved.\n",
    "    def min_eigenvalue(energy):\n",
    "        H_eff = make_linsys(\n",
    "            syst,\n",
    "            energy,\n",
    "            params=params,\n",
    "            sparse=sparse,\n",
    "            check_hermiticity=check_hermiticity,\n",
    "        )\n",
    "        try:\n",
    "            if sparse:\n",
    "                if H_eff.shape[0] <= 2:\n",
    "                    raise ValueError(\n",
    "                        \"The system is too small to use sparse diagonalization. \"\n",
    "                        \"Try setting 'sparse=False'.\"\n",
    "                    )\n",
    "                vals = sparse_diag(\n",
    "                    H_eff.tocsc(), k=1, sigma=1e-10, which=\"LM\", return_eigenvectors=False\n",
    "                )\n",
    "                '''print('energy:')\n",
    "                print(energy)\n",
    "                print('Direct Diagonalisation:')\n",
    "                print(spi.linalg.eigvals(H_eff.toarray()))\n",
    "                print('sparce f:')\n",
    "                print(vals[np.argmin(np.abs(vals))]'''\n",
    "                return vals[0]\n",
    "            else:\n",
    "                vals = np.linalg.eigvalsh(H_eff)\n",
    "                which = np.argmin(np.abs(vals))\n",
    "                return vals[which]\n",
    "        except RuntimeError:  # Some problem diagonalizing\n",
    "            return np.inf\n",
    "\n",
    "    if syst.site_ranges is not None:\n",
    "        tot_norbs = syst.site_ranges[-1][-1]\n",
    "    else:\n",
    "        _, norbs = syst.hamiltonian_submatrix(params=params, return_norb=True)[:2]\n",
    "        tot_norbs = sum(norbs)\n",
    "\n",
    "    # Grid the energy window and search for roots in the sub-windows\n",
    "    # where the min-eigenvalue changes sign. These will either be\n",
    "    # true roots or discontinuities. Note that if there are >1 roots\n",
    "    # in the same sub-window then at least one of them will be missed.\n",
    "    '''print('f(0):')\n",
    "    print(min_eigenvalue(0))\n",
    "    print('f(1e-16)')\n",
    "    print(min_eigenvalue(1e-16))\n",
    "    print('f(3e-16)')\n",
    "    print(min_eigenvalue(3e-16))\n",
    "    print('f(1e-15)')\n",
    "    print(min_eigenvalue(1e-15))'''\n",
    "    \n",
    "    '''print('f(0):')\n",
    "    print(min_eigenvalue(0.))'''\n",
    "    \n",
    "    energies = np.linspace(\n",
    "        min_energy, max_energy, int((max_energy - min_energy) / rtol)\n",
    "    )\n",
    "    intervals = zip(energies, energies[1:])\n",
    "    \n",
    "    '''f_E = []\n",
    "    for e in energies:\n",
    "        print(e)\n",
    "        f_E.append(min_eigenvalue(e))\n",
    "    plt.scatter(energies, f_E)'''\n",
    "    \n",
    "    candidates = []\n",
    "    for a, b in intervals:\n",
    "        try:\n",
    "            if np.sign(min_eigenvalue(a)) != np.sign(min_eigenvalue(b)):\n",
    "                candidate = scipy.optimize.brentq(min_eigenvalue, a, b)\n",
    "                candidates.append(candidate)\n",
    "        except RuntimeError: #some problems with lead modes\n",
    "            continue\n",
    "    \n",
    "    \n",
    "    # Check which candidate points give actual boundstates.\n",
    "    energies = []\n",
    "    states = []\n",
    "    for energy in candidates:\n",
    "        vecs = extract_boundstates(syst, energy, params=params, sparse=sparse)\n",
    "        # vecs.shape[1] == 0 if there were no boundstates found\n",
    "        energies.append([energy] * vecs.shape[1])\n",
    "        # Here we discard the mode part of the solution just to\n",
    "        # make the output format more uniform (wavefunction has\n",
    "        # same number of components at all energies).\n",
    "        states.append(vecs[:tot_norbs, :])\n",
    "\n",
    "    if not energies:\n",
    "        return np.empty((0,)), np.empty((tot_norbs, 0))\n",
    "    else:\n",
    "        return np.hstack(energies), np.hstack(states)\n",
    "\n",
    "\n",
    "def extract_boundstates(\n",
    "    syst, energy=0, params=None, sparse=True, check_hermiticity=True, tol=1e-8\n",
    "):\n",
    "    \"\"\"Return any true boundstates of 'syst' at 'energy'\n",
    "\n",
    "    Params\n",
    "    ------\n",
    "    syst : kwant.FiniteSystem\n",
    "        Must have leads\n",
    "    energy : float\n",
    "    params : dict, optional\n",
    "        Keyword arguments to 'syst'\n",
    "    sparse : bool, default: True\n",
    "        If True, returns sparse matrices\n",
    "    check_hermiticity : bool, default: True\n",
    "        If True, check the system Hamiltonian for hermiticity\n",
    "\n",
    "    Returns\n",
    "    -------\n",
    "    vecs : 2D array\n",
    "        The columns are bound state wavefunctions.\n",
    "        The first N rows is in the tight-binding basis of the\n",
    "        scattering region, and the remaining rows are in the\n",
    "        basis of stabilized evanescent modes of the leads.\n",
    "\n",
    "    Notes\n",
    "    -----\n",
    "    We diagonalize the linear system returned by 'make_linsys', and\n",
    "    search for zero eigenvalues. We then look for vectors in the basis\n",
    "    of zero-eigenvalue eigenvectors that satisfy the bound state condition,\n",
    "    eq. 19 of https://doi.org/10.21468/SciPostPhys.4.5.026.\n",
    "    \"\"\"\n",
    "\n",
    "    lhs, T = make_linsys(\n",
    "        syst,\n",
    "        energy,\n",
    "        params=params,\n",
    "        sparse=sparse,\n",
    "        check_hermiticity=check_hermiticity,\n",
    "        return_validation=True,\n",
    "        which=\"hermitian\",\n",
    "    )\n",
    "\n",
    "    if sparse:\n",
    "        if lhs.shape[0] <= 2:\n",
    "            raise ValueError(\n",
    "                \"The system is too small to use sparse diagonalization. \"\n",
    "                \"Try setting 'sparse=False'.\"\n",
    "            )\n",
    "        k = min(6, lhs.shape[0] - 2)  # 6 is the default for sp.linalg.eigsh\n",
    "        try_again = True\n",
    "        # Solve the eigenproblem with successively large values of 'k' until\n",
    "        # we get all the zero eigenvalues. (In most cases this loop will\n",
    "        # run once).\n",
    "        while try_again:\n",
    "            vals, vecs = sparse_diag(lhs.tocsc(), k=k, sigma=1e-10, which=\"LM\")\n",
    "            zeros = np.abs(vals) < tol  # TODO: make this check better\n",
    "            if not np.all(zeros):  # we have found all the zero eigenvalues\n",
    "                try_again = False\n",
    "            else:\n",
    "                k *= 2  # try again with twice the number of eigenvalues\n",
    "                if k >= lhs.shape[0] - 1:\n",
    "                    raise ValueError(\n",
    "                        \"More eigenvalues are 0 than can be obtained by \"\n",
    "                        \"sparse diagonalization. Try setting 'sparse=False'.\"\n",
    "                    )\n",
    "    else:\n",
    "        vals, vecs = np.linalg.eigh(lhs)\n",
    "        zeros = np.abs(vals) < tol  # TODO make this check better\n",
    "\n",
    "    if not np.any(zeros):\n",
    "        return np.empty((lhs.shape[0], 0))\n",
    "\n",
    "\n",
    "    zero_vecs = vecs[:, zeros]\n",
    "    # To find the true boundstates we find the null space of the operator\n",
    "    # in eq 19 (T) in the basis of zero-eigenvalue vectors.\n",
    "    p = T @ zero_vecs\n",
    "    if np.allclose(p, 0):\n",
    "        # 'zero_vecs' are already a basis for the null space of T\n",
    "        return zero_vecs\n",
    "    else:\n",
    "        # TODO: not sure about this value for 'rcond', we need to ensure\n",
    "        #       that rcond is sufficiently large in the case that p is\n",
    "        #       zero (i.e. zero_vecs are individually boundstates).\n",
    "        bound_states = null_space(p, rcond=tol / np.max(np.abs(p)))\n",
    "        # transform back to original basis\n",
    "        # TODO: rotate the basis so the bound states have the correct symmetries\n",
    "        return np.asarray(zero_vecs @ bound_states)\n",
    "\n",
    "\n",
    "def make_linsys(\n",
    "    syst,\n",
    "    energy=0,\n",
    "    params=None,\n",
    "    sparse=True,\n",
    "    check_hermiticity=True,\n",
    "    return_validation=False,\n",
    "    which=\"hermitian\",\n",
    "):\n",
    "    \"\"\"Return the linear system for finding boundstates\n",
    "\n",
    "    Returns ether the linear system defined in equation 12 or equation 11\n",
    "    of https://doi.org/10.21468/SciPostPhys.4.5.026, and the linear\n",
    "    operator defined in equation 19 of the same article.\n",
    "\n",
    "    Params\n",
    "    ------\n",
    "    syst : kwant.FiniteSystem\n",
    "        Must have leads\n",
    "    energy : float\n",
    "    params : dict, optional\n",
    "        Keyword arguments to 'syst'\n",
    "    sparse : bool, default: True\n",
    "        If True, returns sparse matrices\n",
    "    check_hermiticity : bool, default: True\n",
    "        If True, check the system Hamiltonian for hermiticity\n",
    "    return_validation: bool, default: False\n",
    "        If True, also return the linear operator used for\n",
    "        checking for true bound states (equation 19 of the article).\n",
    "    which : str, default: \"hermitian\"\n",
    "        Which linear system to return. If \"hermitian\" returns the\n",
    "        linear system defined in equation 12, if \"svd\" returns\n",
    "        the linear system defined in equation 11.\n",
    "\n",
    "    Returns\n",
    "    -------\n",
    "    lhs : 2D array or sparse matrix\n",
    "        The linear system for finding boundstates\n",
    "    T : 2D array or sparse matrix\n",
    "        A linear operator for checking bound states.\n",
    "        zero-eigenvalue eigenvectors of 'lhs' that are in the\n",
    "        null-space of 'T' are true bound states. Only returned\n",
    "        if 'return_validation' is True.\n",
    "    \"\"\"\n",
    "    if not syst.leads:\n",
    "        raise ValueError(\"'syst' must have leads attached\")\n",
    "    if any(interface.shape[0] == 0 for interface in syst.lead_interfaces):\n",
    "        raise ValueError(\n",
    "            \"All the leads of 'syst' must have non-zero \" \"inter-cell hopping\"\n",
    "        )\n",
    "\n",
    "    lhs, norb = syst.hamiltonian_submatrix(\n",
    "        params=params, sparse=sparse, return_norb=True\n",
    "    )[:2]\n",
    "    offsets = np.empty(norb.shape[0] + 1, int)\n",
    "    offsets[0] = 0\n",
    "    offsets[1:] = np.cumsum(norb)\n",
    "    scattering_region_norbs = offsets[-1]\n",
    "\n",
    "    if check_hermiticity and len(lhs.data):\n",
    "        rtol = 1e-13\n",
    "        atol = 1e-300\n",
    "        tol = rtol * np.max(np.abs(lhs.data)) + atol\n",
    "        if np.any(np.abs((lhs - lhs.T.conj()).data) > tol):\n",
    "            raise ValueError(\n",
    "                \"System Hamiltonian is not Hermitian. \"\n",
    "                \"Use option `check_hermiticity=False` \"\n",
    "                \"if this is intentional.\"\n",
    "            )\n",
    "\n",
    "    if sparse:\n",
    "        lhs = lhs - energy * sp.identity(lhs.shape[0])\n",
    "    else:\n",
    "        lhs.flat[:: (offsets[-1] + 1)] -= energy\n",
    "\n",
    "    phi_e = []\n",
    "    svd_vs = []\n",
    "    transfs = []\n",
    "    for leadnum, interface in enumerate(syst.lead_interfaces):\n",
    "        lead = syst.leads[leadnum]\n",
    "        _, stab = lead.modes(energy, params=params)\n",
    "        svd_v = stab.sqrt_hop\n",
    "        # Evanescent modes (schur vectors) are stored after\n",
    "        # the 2*nmodes propagating (in/out) modes\n",
    "        evan_vecs = slice(2 * stab.nmodes, None)\n",
    "        u_out = stab.vecs[:, evan_vecs]\n",
    "        ulinv_out = stab.vecslmbdainv[:, evan_vecs]\n",
    "\n",
    "        # Construct a matrix of 1's that translates the\n",
    "        # inter-cell hopping to a proper hopping\n",
    "        # from the system to the lead.\n",
    "        iface_orbs = np.r_[tuple(slice(offsets[i], offsets[i + 1]) for i in interface)]\n",
    "\n",
    "        n_lead_orbs = svd_v.shape[0]\n",
    "        if n_lead_orbs != len(iface_orbs):\n",
    "            msg = (\n",
    "                \"Lead {0} has hopping with dimensions \"\n",
    "                \"incompatible with its interface dimension.\"\n",
    "            )\n",
    "            raise ValueError(msg.format(leadnum))\n",
    "\n",
    "        coords = np.r_[[np.arange(len(iface_orbs))], [iface_orbs]]\n",
    "        transf = sp.csc_matrix(\n",
    "            (np.ones(len(iface_orbs)), coords), shape=(iface_orbs.size, lhs.shape[0])\n",
    "        )\n",
    "\n",
    "        phi_e.append(ulinv_out)\n",
    "        svd_vs.append(svd_v)\n",
    "        # We are saving these for use in '_validation_operator', where we\n",
    "        # expect each projector to project *from the scattering region only*,\n",
    "        # hence the slice up to 'scattering_region_norbs'\n",
    "        transfs.append(transf[:, :scattering_region_norbs])\n",
    "\n",
    "        if which == \"hermitian\":\n",
    "            A, B, C = _hermitian_matrices(svd_v, transf, u_out, ulinv_out)\n",
    "        elif which == \"svd\":\n",
    "            A, B, C = _svd_matrices(svd_v, transf, u_out, ulinv_out)\n",
    "        else:\n",
    "            raise ValueError(\"'which' must be 'hermitian' or 'svd'\")\n",
    "\n",
    "        if sparse:\n",
    "            A = sp.csc_matrix(A)\n",
    "            B = sp.csc_matrix(B)\n",
    "            C = sp.csc_matrix(C)\n",
    "            lhs = sp.bmat([[lhs, A], [B, C]])\n",
    "        else:\n",
    "            lhs = np.block([[lhs, A], [B, C]])\n",
    "\n",
    "    if return_validation:\n",
    "        return (\n",
    "            lhs,\n",
    "            _validation_operator(\n",
    "                phi_e=phi_e,\n",
    "                svd_vs=svd_vs,\n",
    "                transfs=transfs,\n",
    "                orb_offsets=offsets,\n",
    "                sparse=sparse,\n",
    "            ),\n",
    "        )\n",
    "    else:\n",
    "        return lhs\n",
    "\n",
    "\n",
    "# Equation 12\n",
    "def _hermitian_matrices(svd_v, transf, u_out, ulinv_out):\n",
    "    A = transf.T @ svd_v @ u_out\n",
    "    B = A.conj().T\n",
    "    C = -u_out.T.conj() @ ulinv_out\n",
    "    return A, B, C\n",
    "\n",
    "\n",
    "# Equation 11\n",
    "def _svd_matrices(svd_v, transf, u_out, ulinv_out):\n",
    "    A = transf.T @ svd_v @ u_out\n",
    "    B = svd_v.conj().T @ transf\n",
    "    C = -ulinv_out\n",
    "    return A, B, C\n",
    "\n",
    "\n",
    "# Equation 19\n",
    "def _validation_operator(phi_e, svd_vs, transfs, orb_offsets, sparse):\n",
    "\n",
    "    syst_size = orb_offsets[-1]\n",
    "    mode_size = sum(phi.shape[1] for phi in phi_e)\n",
    "    sol_size = syst_size + mode_size\n",
    "\n",
    "    p_psi = sp.csc_matrix(\n",
    "        (np.ones(syst_size), (np.arange(syst_size),) * 2), shape=(syst_size, sol_size)\n",
    "    )\n",
    "    p_q = sp.csc_matrix(\n",
    "        (np.ones(mode_size), (np.arange(mode_size), np.arange(syst_size, sol_size))),\n",
    "        shape=(mode_size, sol_size),\n",
    "    )\n",
    "\n",
    "    svd_v = np.vstack(svd_vs)\n",
    "    transf = sp.vstack(transfs)\n",
    "    # The states are the *columns*, so use hstack rather than vstack\n",
    "    phi = np.hstack(phi_e)\n",
    "\n",
    "    r = svd_v.conj().T @ (transf @ p_psi) - phi @ p_q\n",
    "\n",
    "    if sparse:\n",
    "        r = sp.csc_matrix(r)\n",
    "\n",
    "    return r\n"
   ]
  },
  {
   "cell_type": "code",
   "execution_count": null,
   "id": "0b00149e-8e5c-4a32-8007-a3ee49715fac",
   "metadata": {},
   "outputs": [],
   "source": []
  }
 ],
 "metadata": {
  "kernelspec": {
   "display_name": "Python 3 (ipykernel)",
   "language": "python",
   "name": "python3"
  },
  "language_info": {
   "codemirror_mode": {
    "name": "ipython",
    "version": 3
   },
   "file_extension": ".py",
   "mimetype": "text/x-python",
   "name": "python",
   "nbconvert_exporter": "python",
   "pygments_lexer": "ipython3",
   "version": "3.9.6"
  }
 },
 "nbformat": 4,
 "nbformat_minor": 5
}
