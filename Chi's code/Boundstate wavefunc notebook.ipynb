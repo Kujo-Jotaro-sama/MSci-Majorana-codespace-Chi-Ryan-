{
 "cells": [
  {
   "cell_type": "markdown",
   "id": "0bae094f-b1f9-4476-9d46-883ad9fed0a6",
   "metadata": {},
   "source": [
    "While extracting the boundstate wavefunctions for matrix element calculations, we noticed that the wavefunctions are sometimes discontinuous at the boundaries, and vary erractically as a function of parameters. Here we report the discontinuity problem."
   ]
  },
  {
   "cell_type": "markdown",
   "id": "416b6b10-5277-4463-a7c9-83e2f6d54b62",
   "metadata": {},
   "source": [
    "All the functions and boundstate codes are put at the back of the notebook for presentation purposes. We need to run those cells first before running the rest."
   ]
  },
  {
   "cell_type": "markdown",
   "id": "e86c1faa-55b7-4fca-a1a3-385feb42df09",
   "metadata": {},
   "source": [
    "# Working case example"
   ]
  },
  {
   "cell_type": "markdown",
   "id": "53c039f6-8220-48b1-9a41-b568c0a209b7",
   "metadata": {},
   "source": [
    "## Two-orbital boundstate w/ on-site Pauli matrices"
   ]
  },
  {
   "cell_type": "markdown",
   "id": "7220af57-1a87-462d-8143-42f2fbad74f2",
   "metadata": {},
   "source": [
    "Here we construct a system with two orbitals, gapped by sigma_x, y, and z in the leads. The purpose of selecting all three bases is to show that when non-commutating Pauli matrices are selected as basis for on-site elements, the boundstate wavefunctions are still well-behaved."
   ]
  },
  {
   "cell_type": "markdown",
   "id": "c86c9757-9193-4cab-9c10-afaeb4ca0fd7",
   "metadata": {},
   "source": [
    "### System creation"
   ]
  },
  {
   "cell_type": "code",
   "execution_count": 1,
   "id": "139e4759-7a82-487c-bfcd-d4babd6055d2",
   "metadata": {},
   "outputs": [],
   "source": [
    "import numpy as np\n",
    "import kwant\n",
    "from scipy import linalg\n",
    "import matplotlib.colors as colors\n",
    "np.set_printoptions(threshold=40)"
   ]
  },
  {
   "cell_type": "code",
   "execution_count": 9,
   "id": "68e4a0da-3e1f-482b-82ca-3681905bf388",
   "metadata": {},
   "outputs": [],
   "source": [
    "params = dict(\n",
    "    mu = 2.,\n",
    "    A = 1,\n",
    "    B_x=1,\n",
    "    B_y=1,\n",
    "    B_z=1\n",
    ")\n",
    "\n",
    "def make_system1(params, L=11):\n",
    "    a = 1\n",
    "    mu, A, B_x, B_y, B_z = params.values()\n",
    "    \n",
    "    lat = kwant.lattice.chain()\n",
    "    syst = kwant.Builder()\n",
    "    \n",
    "    # Pauli matrices\n",
    "    sigma_0 = np.array([[1, 0], [0, 1]])\n",
    "    sigma_x = np.array([[0, 1], [1, 0]])\n",
    "    sigma_y = np.array([[0, -1j], [1j, 0]])\n",
    "    sigma_z = np.array([[1, 0], [0, -1]])\n",
    "    \n",
    "    ham = (2.*A/(a**2.)-mu)*sigma_0\n",
    "    hop = -A/(a**2.)*sigma_0\n",
    "    \n",
    "    ham_leads = ham + B_x*sigma_x + B_y*sigma_y + B_z*sigma_z\n",
    "    hop_leads = hop\n",
    "    \n",
    "    syst[(lat(-1))] = ham_leads\n",
    "    syst[(lat(x) for x in range(0, L))] = ham\n",
    "    syst[(lat(L))] = ham_leads\n",
    "    syst[((lat(x), lat(x+1)) for x in range(-1, L))] = hop\n",
    "    \n",
    "    sym_left = kwant.TranslationalSymmetry([-1])\n",
    "    lead0 = kwant.Builder(sym_left)\n",
    "    lead0[(lat(-2))] = ham_leads\n",
    "    lead0[lat.neighbors()] = hop_leads\n",
    "    sym_right = kwant.TranslationalSymmetry([1])\n",
    "    lead1 = kwant.Builder(sym_right)\n",
    "    lead1[(lat(L+1))] =  ham_leads\n",
    "    lead1[lat.neighbors()] = hop_leads\n",
    "    \n",
    "    syst.attach_lead(lead0)\n",
    "    syst.attach_lead(lead1)\n",
    "\n",
    "    return syst.finalized()\n",
    "\n",
    "syst = make_system1(params)"
   ]
  },
  {
   "cell_type": "code",
   "execution_count": 10,
   "id": "a7765c6b-5f60-4309-9ae4-90f301b94ff8",
   "metadata": {},
   "outputs": [
    {
     "data": {
      "text/plain": [
       "[<matplotlib.lines.Line2D at 0x10f69c490>,\n",
       " <matplotlib.lines.Line2D at 0x10f69c5b0>]"
      ]
     },
     "execution_count": 10,
     "metadata": {},
     "output_type": "execute_result"
    },
    {
     "data": {
      "image/png": "[encoded data removed]",
      "text/plain": [
       "<Figure size 432x288 with 1 Axes>"
      ]
     },
     "metadata": {
      "needs_background": "light"
     },
     "output_type": "display_data"
    }
   ],
   "source": [
    "from matplotlib import pyplot as plt\n",
    "bands=kwant.physics.Bands(syst.leads[1], params=params)\n",
    "momenta=np.linspace(-np.pi,np.pi,101)\n",
    "en=[bands(k) for k in momenta]\n",
    "x=np.array(en)\n",
    "en=(x)\n",
    "plt.plot(momenta, en)\n",
    "#plt.axhline(1.4)"
   ]
  },
  {
   "cell_type": "markdown",
   "id": "5a03e310-97e2-49a5-94aa-e3a1d84a3e31",
   "metadata": {},
   "source": [
    "### Scanning boundstate energies and extracting boundstate wavefunctions"
   ]
  },
  {
   "cell_type": "markdown",
   "id": "e3c570a4-7838-423c-bf62-72acf32589e8",
   "metadata": {},
   "source": [
    "We scan the boundstate energies using the Weston version due to its solver being better implemented and more efficient. We then re-import the energies back into the Istas version to calculate the lead wavefunctions beyond the j=0 unit cell, which we cannot do in the Weston version due to the evanescent modes being saved as Schur vectors rather than eigenvectors (conversion to latter requires changing the kwant.modes source code)."
   ]
  },
  {
   "cell_type": "code",
   "execution_count": 11,
   "id": "703cba31-e1a2-46ca-9fda-f98c713ae3b7",
   "metadata": {},
   "outputs": [],
   "source": [
    "energies, wavefunctions = find_boundstates(syst, -4, 4, rtol=1e-2, params=params)"
   ]
  },
  {
   "cell_type": "code",
   "execution_count": 12,
   "id": "f9e504b2-cc5f-47de-bdba-bc2d66f81ca1",
   "metadata": {},
   "outputs": [
    {
     "data": {
      "text/plain": [
       "array([-2.30833431, -1.94025026, -1.76469903, -1.63067309, -1.4843453 ,\n",
       "       -1.11739914, -0.82088082, -0.69059751, -0.27181163, -0.16712528,\n",
       "        0.16712528,  0.27181163,  0.69059751,  0.82088082,  1.11739914,\n",
       "        1.4843453 ,  1.63067309,  1.76469903,  1.94025026,  2.30833431])"
      ]
     },
     "execution_count": 12,
     "metadata": {},
     "output_type": "execute_result"
    }
   ],
   "source": [
    "energies"
   ]
  },
  {
   "cell_type": "code",
   "execution_count": 13,
   "id": "53f5565f-3e6a-4f0b-a4eb-ed7ac6e80acc",
   "metadata": {},
   "outputs": [
    {
     "name": "stdout",
     "output_type": "stream",
     "text": [
      "0\n",
      "[-2.30833431 -2.30833431]\n",
      "0.3673049643878748\n",
      "1\n",
      "[-1.94025026 -1.94025026]\n",
      "2\n",
      "[-1.76469903 -1.76469903]\n",
      "3\n",
      "[-1.63067309 -1.63067309]\n",
      "0.13334578733990182\n",
      "4\n",
      "[-1.4843453 -1.4843453]\n",
      "5\n",
      "[-1.11739914 -1.11739914]\n",
      "6\n",
      "[-0.82088082 -0.82088082]\n",
      "0.12677852082424607\n",
      "7\n",
      "[-0.69059751 -0.69059751]\n",
      "8\n",
      "[-0.27181163 -0.27181163]\n",
      "9\n",
      "[-0.16712528 -0.16712528]\n",
      "0.2377325665704427\n",
      "10\n",
      "[0.16712528 0.16712528]\n",
      "0.23773256657044267\n",
      "11\n",
      "[0.27181163 0.27181163]\n",
      "12\n",
      "[0.69059751 0.69059751]\n",
      "13\n",
      "[0.82088082 0.82088082]\n",
      "0.12677852082424632\n",
      "14\n",
      "[1.11739914 1.11739914]\n",
      "15\n",
      "[1.4843453 1.4843453]\n",
      "16\n",
      "[1.63067309 1.63067309]\n",
      "0.13334578733990193\n",
      "17\n",
      "[1.76469903 1.76469903]\n",
      "18\n",
      "[1.94025026 1.94025026]\n",
      "19\n",
      "[2.30833431 2.30833431]\n",
      "0.36730496438787524\n",
      "0.3673049643878748\n",
      "0.13334578733990182\n",
      "0.12677852082424607\n",
      "0.2377325665704427\n",
      "0.23773256657044267\n",
      "0.12677852082424632\n",
      "0.13334578733990193\n",
      "0.36730496438787524\n"
     ]
    },
    {
     "data": {
      "image/png": "[encoded data removed]",
      "text/plain": [
       "<Figure size 1080x1080 with 40 Axes>"
      ]
     },
     "metadata": {
      "needs_background": "light"
     },
     "output_type": "display_data"
    }
   ],
   "source": [
    "e_compare, wavefunc_lleads, wavefunc_rleads, wavefunc_scat, no_cells_lleads, no_cells_rleads = istas_scan(energies, syst, params=params, all_out=True)"
   ]
  },
  {
   "cell_type": "code",
   "execution_count": 14,
   "id": "2ab2940e-d2d3-49ed-b3af-aa4e1eb7dff9",
   "metadata": {},
   "outputs": [
    {
     "data": {
      "text/plain": [
       "array([-1.94025026, -1.76469903, -1.4843453 , -1.11739914, -0.69059751,\n",
       "       -0.27181163,  0.27181163,  0.69059751,  1.11739914,  1.4843453 ,\n",
       "        1.76469903,  1.94025026])"
      ]
     },
     "execution_count": 14,
     "metadata": {},
     "output_type": "execute_result"
    }
   ],
   "source": [
    "np.array(e_compare)"
   ]
  },
  {
   "cell_type": "markdown",
   "id": "bcbc7ef4-cf80-47bf-96b5-4b987b6b653d",
   "metadata": {},
   "source": [
    "Some solutions from the Weston version are clearly unphysical, and hence not reproduced by the Istas version which follows the original paper better. One example is the state at energy=-0.16712528, the mode decomposition at which energy reveals there are 0 evanescent modes, and hence impossible to be a boundstate."
   ]
  },
  {
   "cell_type": "markdown",
   "id": "bfb3f7c7-9ace-4e09-ae26-1e07157de291",
   "metadata": {},
   "source": [
    "The physical solutions that are obtained also from the Istas version matches with those obtained from the Weston version up to different normalisation, which is expected since kwant.modes normalises states to be unit current, while Istas nromalises them to be unit probability."
   ]
  },
  {
   "cell_type": "markdown",
   "id": "5fe33344-ae47-4003-9efa-dee0cf9ef7f6",
   "metadata": {},
   "source": [
    "All the physical solutions are continuous, and give particle-in-a-box like solutions as expected."
   ]
  },
  {
   "cell_type": "markdown",
   "id": "8485dd42-0be8-4e5f-a91d-ccc58306d487",
   "metadata": {},
   "source": [
    "### Comparing Istas and Weston wavefunctions"
   ]
  },
  {
   "cell_type": "code",
   "execution_count": 15,
   "id": "75b24d03-b0d5-408d-9487-3c595da56c6b",
   "metadata": {},
   "outputs": [
    {
     "data": {
      "text/plain": [
       "array([-0.21669613+0.97402677j, -0.21669613+0.97402677j,\n",
       "       -0.21669613+0.97402677j, -0.21669613+0.97402677j,\n",
       "       -0.21669613+0.97402677j, -0.21669613+0.97402677j,\n",
       "       -0.21669613+0.97402677j, -0.21669613+0.97402677j,\n",
       "       -0.21669613+0.97402677j, -0.21669613+0.97402677j,\n",
       "       -0.21669613+0.97402677j, -0.21669613+0.97402677j,\n",
       "       -0.21669613+0.97402677j, -0.21669613+0.97402677j,\n",
       "       -0.21669613+0.97402677j, -0.21669613+0.97402677j,\n",
       "       -0.21669613+0.97402677j, -0.21669613+0.97402677j,\n",
       "       -0.21669613+0.97402677j, -0.21669613+0.97402677j,\n",
       "       -0.21669613+0.97402677j, -0.21669613+0.97402677j,\n",
       "       -0.21669613+0.97402677j, -0.21669613+0.97402677j,\n",
       "       -0.21669613+0.97402677j, -0.21669613+0.97402677j])"
      ]
     },
     "execution_count": 15,
     "metadata": {},
     "output_type": "execute_result"
    }
   ],
   "source": [
    "# Weston scat wavefunction / Istas scat wavefuntion at energy=-1.94\n",
    "wavefunctions[:,1]/wavefunc_scat[0].flatten()"
   ]
  },
  {
   "cell_type": "code",
   "execution_count": 16,
   "id": "3b3acce1-f398-4798-8b47-94439ddca03d",
   "metadata": {},
   "outputs": [
    {
     "data": {
      "text/plain": [
       "0.9999999999999999"
      ]
     },
     "execution_count": 16,
     "metadata": {},
     "output_type": "execute_result"
    }
   ],
   "source": [
    "# All parts of the wavefunctions from Istas added together gives 1, as expected.\n",
    "np.sum(np.abs(wavefunc_scat[0].flatten())**2.)+np.sum(np.abs(wavefunc_lleads[0][2:])**2.)+np.sum(np.abs(wavefunc_rleads[0][2:])**2.)"
   ]
  },
  {
   "cell_type": "markdown",
   "id": "854b082a-f291-4ed3-922e-7cf0064d0397",
   "metadata": {},
   "source": [
    "The same continuity between scattering region and leads are observed in the Weston wavefunctions as well. However, due to the evanescent modes usually being stored as Schur rather than eigenvectors, we only calculate the wavefunction at j=0 cells and see if it agrees with the last unit cell in the scattering region. It does in this working example."
   ]
  },
  {
   "cell_type": "code",
   "execution_count": 17,
   "id": "d3424a11-03e4-4b5e-a6b7-ead9cb51f097",
   "metadata": {},
   "outputs": [],
   "source": [
    "weston_psi = extract_boundstates(syst, energy=energies[1], params=params)"
   ]
  },
  {
   "cell_type": "code",
   "execution_count": 18,
   "id": "83197701-9e94-4257-aa03-92545be65396",
   "metadata": {},
   "outputs": [],
   "source": [
    "# transform vecs and vecslmbdainv to \"eigenvectors\" based on https://gitlab.kwant-project.org/kwant/kwant/-/merge_requests/39\n",
    "vecslmbdainv, vecs = vecs_vecslmbdainv(syst, energies[1], params, lead_no=1)\n",
    "phi, phi_lmbda = inverse_A_B_alt(syst, vecslmbdainv, vecs, params)"
   ]
  },
  {
   "cell_type": "code",
   "execution_count": 19,
   "id": "aa300e9a-5ef5-4e19-80bb-cbdb24fae0e1",
   "metadata": {},
   "outputs": [
    {
     "data": {
      "text/plain": [
       "array([[0.03437006-0.00717923j],\n",
       "       [0.0152081 +0.00995253j]])"
      ]
     },
     "execution_count": 19,
     "metadata": {},
     "output_type": "execute_result"
    }
   ],
   "source": [
    "#j=0 unit cell in right lead\n",
    "phi@weston_psi[-1:]"
   ]
  },
  {
   "cell_type": "code",
   "execution_count": 20,
   "id": "aca3d957-bcc5-4806-ba0e-723058b1a2f0",
   "metadata": {},
   "outputs": [
    {
     "data": {
      "text/plain": [
       "array([[0.03437006-0.00717923j],\n",
       "       [0.0152081 +0.00995253j]])"
      ]
     },
     "execution_count": 20,
     "metadata": {},
     "output_type": "execute_result"
    }
   ],
   "source": [
    "# last unit cell in scattering region\n",
    "weston_psi[-4:-2]"
   ]
  },
  {
   "cell_type": "markdown",
   "id": "817edd55-e52c-4007-bd8b-17270aa356fb",
   "metadata": {},
   "source": [
    "This shows that in working cases, both the Weston and Istas implementations work as intended. As presented below, in non-working cases, the Istas implementation has problems with wavefunction continuity."
   ]
  },
  {
   "cell_type": "markdown",
   "id": "d1643e79-da2a-467b-8d6d-f54069d59406",
   "metadata": {},
   "source": [
    "### Diagonal matrix elements"
   ]
  },
  {
   "cell_type": "markdown",
   "id": "64a1e96a-4398-4c3a-9f64-4d24cbf20c35",
   "metadata": {},
   "source": [
    "Here we validate that the Istas wavefunctions are the energy eigenstates of the total (leads+scat) system Hamiltonian."
   ]
  },
  {
   "cell_type": "code",
   "execution_count": 21,
   "id": "278e9107-d1c0-4a67-af3e-39394d83fe1e",
   "metadata": {},
   "outputs": [],
   "source": [
    "def finite_system1(params, L_leads, L=11):\n",
    "    a = 1\n",
    "    mu, A, B_x, B_y, B_z = params.values()\n",
    "    L_leads = int(L_leads)\n",
    "    \n",
    "    lat = kwant.lattice.chain()\n",
    "    syst = kwant.Builder()\n",
    "    \n",
    "    # Pauli matrices\n",
    "    sigma_0 = np.array([[1, 0], [0, 1]])\n",
    "    sigma_x = np.array([[0, 1], [1, 0]])\n",
    "    sigma_y = np.array([[0, -1j], [1j, 0]])\n",
    "    sigma_z = np.array([[1, 0], [0, -1]])\n",
    "    \n",
    "    ham = (2.*A/(a**2.)-mu)*sigma_0\n",
    "    hop = -A/(a**2.)*sigma_0\n",
    "    \n",
    "    ham_leads = ham + B_x*sigma_x + B_y*sigma_y + B_z*sigma_z\n",
    "    hop_leads = hop\n",
    "    \n",
    "    syst[(lat(x) for x in range(-L_leads, 0))] = ham_leads\n",
    "    syst[(lat(x) for x in range(0, L))] = ham\n",
    "    syst[(lat(x) for x in range(L, L_leads+L))] = ham_leads\n",
    "    syst[((lat(x), lat(x+1)) for x in range(-L_leads, L_leads+L-1))] = hop\n",
    "\n",
    "    return syst.finalized()"
   ]
  },
  {
   "cell_type": "code",
   "execution_count": 22,
   "id": "1a2b9f22-67d3-4b78-bdd4-f2c35e894298",
   "metadata": {},
   "outputs": [],
   "source": [
    "normalisation_check = []\n",
    "eigenenergy_check = []\n",
    "finite_syst1 = finite_system1(params, no_cells_lleads[0])\n",
    "for i in range(len(wavefunc_scat)):\n",
    "    wavefunc_left_temp = np.c_[wavefunc_lleads[i][2:][::2][::-1], wavefunc_lleads[i][2:][1::2][::-1]].flatten()\n",
    "    psi0 = np.r_[wavefunc_left_temp, wavefunc_scat[i].flatten(), wavefunc_lleads[i][2:]]\n",
    "    norm = psi0.T.conj()@psi0\n",
    "    eigenenergy = psi0.T.conj()@finite_syst1.hamiltonian_submatrix()@psi0\n",
    "    normalisation_check.append(norm)\n",
    "    eigenenergy_check.append(eigenenergy)"
   ]
  },
  {
   "cell_type": "code",
   "execution_count": 23,
   "id": "74f4c421-e581-4992-8370-32e2b3ba85fb",
   "metadata": {},
   "outputs": [
    {
     "data": {
      "text/plain": [
       "[(0.9999999999999998+0j),\n",
       " (0.9999999999999999+0j),\n",
       " (0.9999999999999998+0j),\n",
       " (1+0j),\n",
       " (1.0000000000000002+0j),\n",
       " (0.9951142601207325+0j),\n",
       " (0.9951142601207315+0j),\n",
       " (0.9999999999999998+0j),\n",
       " (1+0j),\n",
       " (1+0j),\n",
       " (1.0000000000000002+0j),\n",
       " (1+0j)]"
      ]
     },
     "execution_count": 23,
     "metadata": {},
     "output_type": "execute_result"
    }
   ],
   "source": [
    "normalisation_check"
   ]
  },
  {
   "cell_type": "code",
   "execution_count": 24,
   "id": "bf53b658-8314-48a4-9eb6-98d41991caf4",
   "metadata": {},
   "outputs": [
    {
     "data": {
      "text/plain": [
       "array([-1.94025026, -1.75683031, -1.4843453 , -1.07619017, -0.69059751,\n",
       "       -0.13322924,  0.13322924,  0.69059751,  1.07619017,  1.4843453 ,\n",
       "        1.75683031,  1.94025026])"
      ]
     },
     "execution_count": 24,
     "metadata": {},
     "output_type": "execute_result"
    }
   ],
   "source": [
    "np.real(eigenenergy_check)"
   ]
  },
  {
   "cell_type": "code",
   "execution_count": 25,
   "id": "cd5feae4-5ac9-499d-8e7f-efbd5da970f6",
   "metadata": {},
   "outputs": [
    {
     "data": {
      "text/plain": [
       "[-1.9402502594652855,\n",
       " -1.7646990264319466,\n",
       " -1.4843452974354765,\n",
       " -1.1173991401151413,\n",
       " -0.690597510124125,\n",
       " -0.27181163437275924,\n",
       " 0.2718116343727586,\n",
       " 0.6905975101241248,\n",
       " 1.117399140115141,\n",
       " 1.4843452974354765,\n",
       " 1.7646990264319466,\n",
       " 1.9402502594652853]"
      ]
     },
     "execution_count": 25,
     "metadata": {},
     "output_type": "execute_result"
    }
   ],
   "source": [
    "e_compare"
   ]
  },
  {
   "cell_type": "markdown",
   "id": "ce9c183f-336b-4e3c-b642-bc063ee4a365",
   "metadata": {},
   "source": [
    "The deviations between eigenenergy_check, which is calculated by psi^dagger H psi, and e_compare, the Istas boundstate energies is because of deviations at certain sites. Two of them happen at the edge of the finite system, which we expect since the lead wavefunctions are calculated assuming translational invariance. At some energy levels, however, there are deviations at other sites, which do not seem physical. Below are two examples (e=-1.940, e=-0.272) illustrating what we wrote above."
   ]
  },
  {
   "cell_type": "markdown",
   "id": "770f7ba6-1a3b-4c35-8880-95011de28cf4",
   "metadata": {},
   "source": [
    "e=-1.940"
   ]
  },
  {
   "cell_type": "code",
   "execution_count": 26,
   "id": "cfce9a35-43c6-48c0-941e-79e280f9d601",
   "metadata": {},
   "outputs": [],
   "source": [
    "finite_syst1 = finite_system1(params, no_cells_lleads[0])"
   ]
  },
  {
   "cell_type": "code",
   "execution_count": 27,
   "id": "df5e7b8d-08c1-4194-a29b-fd8a17d967e2",
   "metadata": {},
   "outputs": [],
   "source": [
    "ind=0\n",
    "wavefunc_left_temp = np.c_[wavefunc_lleads[ind][2:][::2][::-1], wavefunc_lleads[ind][2:][1::2][::-1]].flatten()\n",
    "psi0 = np.r_[wavefunc_left_temp, wavefunc_scat[ind].flatten(), wavefunc_lleads[ind][2:]]"
   ]
  },
  {
   "cell_type": "code",
   "execution_count": 28,
   "id": "6876958e-96e6-4224-ade8-6e78fdbdc09d",
   "metadata": {},
   "outputs": [
    {
     "data": {
      "text/plain": [
       "array([-1.64405063-1.08600773e-15j, -1.64405063+1.75478971e-15j,\n",
       "       -1.94025026-1.13894570e-15j, ..., -1.94025026+1.29942016e-15j,\n",
       "       -1.64405063-1.08600773e-15j, -1.64405063+1.75478971e-15j])"
      ]
     },
     "execution_count": 28,
     "metadata": {},
     "output_type": "execute_result"
    }
   ],
   "source": [
    "(finite_syst1.hamiltonian_submatrix()@psi0)/psi0"
   ]
  },
  {
   "cell_type": "markdown",
   "id": "c20cfea0-023e-4522-a0a9-9f8bf1531a0d",
   "metadata": {},
   "source": [
    "(H@psi)/psi, where / is entry by entry division. We expect to see the eigenvalue -1.940 everywhere. This does not happen only at the edge of the finite system, as it is missing hopping from the L+1 site for correction. So this wavefunction behaves as expected. We can mark the index of the unit cells where (H@psi)/psi deviates from E (inndex 0 marks the first scattering region site. Lead wavefunctions are all 39 unit cells long for this Hamiltonian)"
   ]
  },
  {
   "cell_type": "code",
   "execution_count": 29,
   "id": "d832745e-5be4-4557-bfdc-4b582c5317cc",
   "metadata": {},
   "outputs": [
    {
     "data": {
      "text/plain": [
       "array([-39.,  49.])"
      ]
     },
     "execution_count": 29,
     "metadata": {},
     "output_type": "execute_result"
    }
   ],
   "source": [
    "ind=0\n",
    "sth = np.abs((finite_syst1.hamiltonian_submatrix()@psi0)/psi0)+e_compare[ind]\n",
    "((np.where(np.around(sth, 2)!=0)[0]+1)[1::2]/2)-(no_cells_lleads[0]+1)"
   ]
  },
  {
   "cell_type": "markdown",
   "id": "f71746e2-ee66-4924-abc1-d838bcdf2b49",
   "metadata": {},
   "source": [
    "e=-0.272"
   ]
  },
  {
   "cell_type": "code",
   "execution_count": 30,
   "id": "96f5e3a6-613c-4ad0-a41d-925d38fc422f",
   "metadata": {},
   "outputs": [],
   "source": [
    "ind=5\n",
    "wavefunc_left_temp = np.c_[wavefunc_lleads[ind][2:][::2][::-1], wavefunc_lleads[ind][2:][1::2][::-1]].flatten()\n",
    "psi0 = np.r_[wavefunc_left_temp, wavefunc_scat[ind].flatten(), wavefunc_lleads[ind][2:]]"
   ]
  },
  {
   "cell_type": "code",
   "execution_count": 31,
   "id": "38c81a47-d8e7-4135-a561-86368e23e73b",
   "metadata": {},
   "outputs": [
    {
     "data": {
      "text/plain": [
       "array([ 0.66794104-4.06314456e-15j,  0.66794104-2.26324274e-15j,\n",
       "       -0.27181163-7.24155439e-16j, ..., -0.27181163+9.41409628e-16j,\n",
       "        0.66794104-4.06314456e-15j,  0.66794104-2.11483338e-15j])"
      ]
     },
     "execution_count": 31,
     "metadata": {},
     "output_type": "execute_result"
    }
   ],
   "source": [
    "(finite_syst1.hamiltonian_submatrix()@psi0)/psi0"
   ]
  },
  {
   "cell_type": "code",
   "execution_count": 32,
   "id": "25e879c7-e062-4f60-ae85-49976e73f9da",
   "metadata": {},
   "outputs": [
    {
     "data": {
      "text/plain": [
       "array([-39.,   5.,  11.,  12.,  49.])"
      ]
     },
     "execution_count": 32,
     "metadata": {},
     "output_type": "execute_result"
    }
   ],
   "source": [
    "ind=5\n",
    "sth = np.real((finite_syst1.hamiltonian_submatrix()@psi0)/psi0)-e_compare[ind]\n",
    "((np.where(np.around(sth, 2)!=0)[0]+1)[1::2]/2)-(no_cells_lleads[0]+1)"
   ]
  },
  {
   "cell_type": "markdown",
   "id": "fdd0e387-8485-4135-b526-aced0f0147dd",
   "metadata": {},
   "source": [
    "For this energy state, deviation occurs not only at the end of the finite leads, but also in the middle and near the edge of the scattering region. The deviation is also assymetric about the centre of the finite system, which again is problematic since the system has inversion symmetry."
   ]
  },
  {
   "cell_type": "markdown",
   "id": "51ceaf68-2afa-40c9-98c7-b39cdffcae74",
   "metadata": {},
   "source": [
    "We look at where the deviations occur for all 12 states."
   ]
  },
  {
   "cell_type": "code",
   "execution_count": 33,
   "id": "6cd26604-b5b8-4062-86c4-8d8a497b8263",
   "metadata": {},
   "outputs": [],
   "source": [
    "deviation_index_array = []\n",
    "for i in range(len(e_compare)):\n",
    "    ind=i\n",
    "    wavefunc_left_temp = np.c_[wavefunc_lleads[ind][2:][::2][::-1], wavefunc_lleads[ind][2:][1::2][::-1]].flatten()\n",
    "    psi0 = np.r_[wavefunc_left_temp, wavefunc_scat[ind].flatten(), wavefunc_lleads[ind][2:]]\n",
    "    sth = np.real((finite_syst1.hamiltonian_submatrix()@psi0)/psi0)-e_compare[ind]\n",
    "    deviation_index_array.append(((np.where(np.around(sth, 2)!=0)[0]+1)[1::2]/2)-(no_cells_lleads[0]+1))"
   ]
  },
  {
   "cell_type": "code",
   "execution_count": 34,
   "id": "bb2ea3d7-bbdc-4b09-a8cd-506893b26164",
   "metadata": {},
   "outputs": [
    {
     "data": {
      "text/plain": [
       "[array([-39.,  49.]),\n",
       " array([-39.,   5.,  11.,  12.,  49.]),\n",
       " array([-39.,  49.]),\n",
       " array([-39.,   5.,  11.,  12.,  49.]),\n",
       " array([-39.,  49.]),\n",
       " array([-39.,   5.,  11.,  12.,  49.]),\n",
       " array([-39.,   5.,  11.,  12.,  49.]),\n",
       " array([-39.,  49.]),\n",
       " array([-39.,   5.,  11.,  12.,  49.]),\n",
       " array([-39.,  49.]),\n",
       " array([-39.,   5.,  11.,  12.,  49.]),\n",
       " array([-39.,  49.])]"
      ]
     },
     "execution_count": 34,
     "metadata": {},
     "output_type": "execute_result"
    }
   ],
   "source": [
    "deviation_index_array"
   ]
  },
  {
   "cell_type": "markdown",
   "id": "3bf71e37-f728-43ae-9291-e17aaac24964",
   "metadata": {},
   "source": [
    "Deviations from local Schrodinger's equation for even parity boundstate solutions. This corroborates the fact that for even parity solutions psi^dagger@H@psi deviates from E much more than for odd parity solutions. Bug in my code? Direction of hopping in the finite system different from that in the infinite system?"
   ]
  },
  {
   "cell_type": "code",
   "execution_count": 45,
   "id": "f1aaef88-d581-4733-93af-493c06114036",
   "metadata": {},
   "outputs": [],
   "source": [
    "mode_no = []\n",
    "for i in range(len(energies)):\n",
    "    _, stab = syst.leads[1].modes(energies[i])\n",
    "    svd_v = stab.sqrt_hop\n",
    "    evan_vecs = slice(2 * stab.nmodes, None)\n",
    "    u_out = stab.vecs[:, evan_vecs]\n",
    "    ulinv_out = stab.vecslmbdainv[:, evan_vecs]\n",
    "    mode_no.append(stab.nmodes)"
   ]
  },
  {
   "cell_type": "code",
   "execution_count": 46,
   "id": "fb389448-161c-4035-aa99-27e7652ab5da",
   "metadata": {},
   "outputs": [
    {
     "data": {
      "text/plain": [
       "[1, 1, 1, 1, 1, 1, 1, 1, 1, 2, 2, 1, 1, 1, 1, 1, 1, 1, 1, 1]"
      ]
     },
     "execution_count": 46,
     "metadata": {},
     "output_type": "execute_result"
    }
   ],
   "source": [
    "mode_no"
   ]
  },
  {
   "cell_type": "markdown",
   "id": "7f9915d2-fae3-4a70-8c1a-52bd713ddf49",
   "metadata": {},
   "source": [
    "# Non-Working case example"
   ]
  },
  {
   "cell_type": "markdown",
   "id": "b16b4499-59c2-4272-be56-138a89f7d4c5",
   "metadata": {},
   "source": [
    "## Two-orbital BdG"
   ]
  },
  {
   "cell_type": "markdown",
   "id": "e78e38fa-306f-4bdb-acee-9d3aeaaa2919",
   "metadata": {},
   "source": [
    "We encounter some major problems when we try to implement the simplest BdG Hamiltonian: (-mu+A k_x^2) tau_z + Delta tau_x. Compare to the previous case, where we have a B field splitting and mixing the two spin states, the only difference is that the hopping not has a sigma_z basis. However, If the Hamiltonian only has the (-mu+A*k_x^2)*tau_z term, it will still be well-behaved as above. This is the simplest case we have managed to reduce to to capture the faulty problems we have encountered in more involved models."
   ]
  },
  {
   "cell_type": "markdown",
   "id": "4f795f7e-d5ea-4ffa-9f5b-84d92b078908",
   "metadata": {},
   "source": [
    "### System creation"
   ]
  },
  {
   "cell_type": "code",
   "execution_count": 47,
   "id": "dc1109ea-436f-485d-aa70-9b06166bc447",
   "metadata": {},
   "outputs": [],
   "source": [
    "params = dict(\n",
    "    mu = 0.,\n",
    "    A = 1,\n",
    "    Delta=1e-3\n",
    ")\n",
    "\n",
    "def make_system1(params, L=11):\n",
    "    a = 1\n",
    "    mu, A, Delta = params.values()\n",
    "    \n",
    "    lat = kwant.lattice.chain()\n",
    "    syst = kwant.Builder()\n",
    "    \n",
    "    # Pauli matrices\n",
    "    sigma_0 = np.array([[1, 0], [0, 1]])\n",
    "    sigma_x = np.array([[0, 1], [1, 0]])\n",
    "    sigma_y = np.array([[0, -1j], [1j, 0]])\n",
    "    sigma_z = np.array([[1, 0], [0, -1]])\n",
    "    \n",
    "    ham = (2.*A/(a**2.)-mu)*sigma_z\n",
    "    hop = -A/(a**2.)*sigma_z\n",
    "    \n",
    "    ham_leads = ham + Delta*sigma_x\n",
    "    hop_leads = hop\n",
    "    \n",
    "    syst[(lat(-1))] = ham_leads\n",
    "    syst[(lat(x) for x in range(0, L))] = ham\n",
    "    syst[(lat(L))] = ham_leads\n",
    "    syst[((lat(x), lat(x+1)) for x in range(-1, L))] = hop\n",
    "    \n",
    "    sym_left = kwant.TranslationalSymmetry([-1])\n",
    "    lead0 = kwant.Builder(sym_left)\n",
    "    lead0[(lat(-2))] = ham_leads\n",
    "    lead0[lat.neighbors()] = hop_leads\n",
    "    sym_right = kwant.TranslationalSymmetry([1])\n",
    "    lead1 = kwant.Builder(sym_right)\n",
    "    lead1[(lat(L+1))] =  ham_leads\n",
    "    lead1[lat.neighbors()] = hop_leads\n",
    "    \n",
    "    syst.attach_lead(lead0)\n",
    "    syst.attach_lead(lead1)\n",
    "\n",
    "    return syst.finalized()\n",
    "\n",
    "syst = make_system1(params)"
   ]
  },
  {
   "cell_type": "code",
   "execution_count": 48,
   "id": "8849949c-a7d6-48d4-9d29-54d5b282c123",
   "metadata": {},
   "outputs": [
    {
     "data": {
      "text/plain": [
       "[<matplotlib.lines.Line2D at 0x1103e8700>,\n",
       " <matplotlib.lines.Line2D at 0x1103e8760>]"
      ]
     },
     "execution_count": 48,
     "metadata": {},
     "output_type": "execute_result"
    },
    {
     "data": {
      "image/png": "[encoded data removed]",
      "text/plain": [
       "<Figure size 432x288 with 1 Axes>"
      ]
     },
     "metadata": {
      "needs_background": "light"
     },
     "output_type": "display_data"
    }
   ],
   "source": [
    "from matplotlib import pyplot as plt\n",
    "bands=kwant.physics.Bands(syst.leads[1], params=params)\n",
    "momenta=np.linspace(-np.pi,np.pi,101)\n",
    "en=[bands(k) for k in momenta]\n",
    "x=np.array(en)\n",
    "en=(x)\n",
    "plt.plot(momenta, en)\n",
    "#plt.axhline(1.4)"
   ]
  },
  {
   "cell_type": "code",
   "execution_count": null,
   "id": "48191286-3839-4b85-a302-c3e4d4cbc4bd",
   "metadata": {},
   "outputs": [],
   "source": []
  },
  {
   "cell_type": "markdown",
   "id": "f8ab6639-08e5-455e-ba54-0f69df83cd02",
   "metadata": {},
   "source": [
    "### Scanning boundstate energies and extracting boundstate wavefunctions"
   ]
  },
  {
   "cell_type": "code",
   "execution_count": 49,
   "id": "1226fc6e-3cbe-4bd2-84b7-e436ce73d3c5",
   "metadata": {},
   "outputs": [],
   "source": [
    "energies, wavefunctions = find_boundstates(syst, -2e-3, 2e-3, rtol=1e-5, params=params)"
   ]
  },
  {
   "cell_type": "code",
   "execution_count": 50,
   "id": "9adea9d1-b431-43ef-859a-95539256e250",
   "metadata": {},
   "outputs": [
    {
     "data": {
      "text/plain": [
       "array([-0.00092758,  0.00092758])"
      ]
     },
     "execution_count": 50,
     "metadata": {},
     "output_type": "execute_result"
    }
   ],
   "source": [
    "energies"
   ]
  },
  {
   "cell_type": "code",
   "execution_count": null,
   "id": "19b8b3b4-3961-4820-8331-d782103ca6ee",
   "metadata": {},
   "outputs": [],
   "source": [
    "0.9863329-0.01348157j"
   ]
  },
  {
   "cell_type": "code",
   "execution_count": 78,
   "id": "61d8ba37-4c1d-4346-965a-5c6176b9bb13",
   "metadata": {},
   "outputs": [
    {
     "name": "stdout",
     "output_type": "stream",
     "text": [
      "0\n",
      "[-0.00092758 -0.00092758]\n",
      "1\n",
      "[0.00092758 0.00092758]\n"
     ]
    },
    {
     "data": {
      "image/png": "[encoded data removed]",
      "text/plain": [
       "<Figure size 1080x1080 with 4 Axes>"
      ]
     },
     "metadata": {
      "needs_background": "light"
     },
     "output_type": "display_data"
    }
   ],
   "source": [
    "e_compare, wavefunc_lleads, wavefunc_rleads, wavefunc_scat, no_cells_lleads, no_cells_rleads = istas_scan(energies, syst, params=params, all_out=True)"
   ]
  },
  {
   "cell_type": "code",
   "execution_count": 52,
   "id": "59040390-7074-4514-8185-2fb0df5ecef8",
   "metadata": {},
   "outputs": [
    {
     "data": {
      "text/plain": [
       "array([-0.00092758,  0.00092758])"
      ]
     },
     "execution_count": 52,
     "metadata": {},
     "output_type": "execute_result"
    }
   ],
   "source": [
    "np.array(e_compare)"
   ]
  },
  {
   "cell_type": "markdown",
   "id": "b80c1b8e-f6a7-40b2-91c0-22db2fcfec81",
   "metadata": {},
   "source": [
    "### The wavefunctions are now discontinuous. Moreover, the lead part of the wavefunctions of the two states does not seem to observe PHS."
   ]
  },
  {
   "cell_type": "markdown",
   "id": "927f6100-e085-44ac-9d74-800f379bba45",
   "metadata": {},
   "source": [
    "### Comparing Istas and Weston wavefunctions"
   ]
  },
  {
   "cell_type": "code",
   "execution_count": 53,
   "id": "7e5430a3-10cd-45b0-8b71-20be66f53098",
   "metadata": {},
   "outputs": [
    {
     "data": {
      "text/plain": [
       "array([0.39177437+2.47140243j, 0.39177437+2.47140243j,\n",
       "       0.39177437+2.47140243j, 0.39177437+2.47140243j,\n",
       "       0.39177437+2.47140243j, 0.39177437+2.47140243j,\n",
       "       0.39177437+2.47140243j, 0.39177437+2.47140243j,\n",
       "       0.39177437+2.47140243j, 0.39177437+2.47140243j,\n",
       "       0.39177437+2.47140243j, 0.39177437+2.47140243j,\n",
       "       0.39177437+2.47140243j, 0.39177437+2.47140243j,\n",
       "       0.39177437+2.47140243j, 0.39177437+2.47140243j,\n",
       "       0.39177437+2.47140243j, 0.39177437+2.47140243j,\n",
       "       0.39177437+2.47140243j, 0.39177437+2.47140243j,\n",
       "       0.39177437+2.47140243j, 0.39177437+2.47140243j,\n",
       "       0.39177437+2.47140243j, 0.39177437+2.47140243j,\n",
       "       0.39177437+2.47140243j, 0.39177437+2.47140243j])"
      ]
     },
     "execution_count": 53,
     "metadata": {},
     "output_type": "execute_result"
    }
   ],
   "source": [
    "# Weston scat wavefunction / Istas scat wavefuntion at energy=-0.00092758\n",
    "wavefunctions[:,0]/wavefunc_scat[0].flatten()"
   ]
  },
  {
   "cell_type": "code",
   "execution_count": 54,
   "id": "91e7322f-f78d-43de-98a3-7c6180c4abf6",
   "metadata": {},
   "outputs": [
    {
     "data": {
      "text/plain": [
       "1.0867191590413185"
      ]
     },
     "execution_count": 54,
     "metadata": {},
     "output_type": "execute_result"
    }
   ],
   "source": [
    "# The wavefunctions, despite having gone through the normalisation procedures detailed in the appendix of Istas et al.\n",
    "# do not sum to 1 in real space.\n",
    "np.sum(np.abs(wavefunc_scat[0].flatten())**2.)+np.sum(np.abs(wavefunc_lleads[0][2:])**2.)+np.sum(np.abs(wavefunc_rleads[0][2:])**2.)"
   ]
  },
  {
   "cell_type": "markdown",
   "id": "16a97fe3-1c50-4008-a6d0-55ade5c5b245",
   "metadata": {},
   "source": [
    "Checking Weston"
   ]
  },
  {
   "cell_type": "code",
   "execution_count": 55,
   "id": "2de5076c-1bea-47d9-bde4-ee45f2daf388",
   "metadata": {},
   "outputs": [],
   "source": [
    "weston_psi = extract_boundstates(syst, energy=energies[0], params=params)"
   ]
  },
  {
   "cell_type": "code",
   "execution_count": 56,
   "id": "a226ff55-81c4-4e97-a794-0c00f5c0cfbe",
   "metadata": {},
   "outputs": [
    {
     "data": {
      "text/plain": [
       "array([-0.35027863-0.93664555j, -0.35027863-0.93664555j,\n",
       "       -0.35027863-0.93664555j, -0.35027863-0.93664555j,\n",
       "       -0.35027863-0.93664555j, -0.35027863-0.93664555j,\n",
       "       -0.35027863-0.93664555j, -0.35027863-0.93664555j,\n",
       "       -0.35027863-0.93664555j, -0.35027863-0.93664555j,\n",
       "       -0.35027863-0.93664555j, -0.35027863-0.93664555j,\n",
       "       -0.35027863-0.93664555j, -0.35027863-0.93664555j,\n",
       "       -0.35027863-0.93664555j, -0.35027863-0.93664555j,\n",
       "       -0.35027863-0.93664555j, -0.35027863-0.93664555j,\n",
       "       -0.35027863-0.93664555j, -0.35027863-0.93664555j,\n",
       "       -0.35027863-0.93664555j, -0.35027863-0.93664555j,\n",
       "       -0.35027863-0.93664555j, -0.35027863-0.93664555j,\n",
       "       -0.35027863-0.93664555j, -0.35027863-0.93664555j])"
      ]
     },
     "execution_count": 56,
     "metadata": {},
     "output_type": "execute_result"
    }
   ],
   "source": [
    "weston_psi.flatten()[:26]/wavefunctions[:,0]"
   ]
  },
  {
   "cell_type": "code",
   "execution_count": 57,
   "id": "5d1115e8-8123-4345-a252-f668d22a9750",
   "metadata": {},
   "outputs": [
    {
     "data": {
      "text/plain": [
       "array([ 0.02153053+0.1358195j , -0.03083302-0.19450177j,\n",
       "        0.02142199+0.13513483j, -0.03099225-0.19550619j,\n",
       "        0.02133333+0.13457551j, -0.03112272-0.19632927j,\n",
       "        0.02126445+0.13414103j, -0.03122433-0.19697023j,\n",
       "        0.0212153 +0.13383096j, -0.03129697-0.19742848j,\n",
       "        0.02118583+0.13364504j, -0.03134059-0.1977036j ,\n",
       "        0.02117601+0.13358309j, -0.03135513-0.19779534j,\n",
       "        0.02118583+0.13364504j, -0.03134059-0.1977036j ,\n",
       "        0.0212153 +0.13383096j, -0.03129697-0.19742848j,\n",
       "        0.02126445+0.13414103j, -0.03122433-0.19697023j,\n",
       "        0.02133333+0.13457551j, -0.03112272-0.19632927j,\n",
       "        0.02142199+0.13513483j, -0.03099225-0.19550619j,\n",
       "        0.02153053+0.1358195j , -0.03083302-0.19450177j])"
      ]
     },
     "execution_count": 57,
     "metadata": {},
     "output_type": "execute_result"
    }
   ],
   "source": [
    "wavefunctions[:,0]"
   ]
  },
  {
   "cell_type": "code",
   "execution_count": 62,
   "id": "e1a9a068-5653-4efb-995c-0c81d7c5e3ce",
   "metadata": {},
   "outputs": [],
   "source": [
    "# transform vecs and vecslmbdainv to \"eigenvectors\" based on https://gitlab.kwant-project.org/kwant/kwant/-/merge_requests/39\n",
    "vecslmbdainv, vecs = vecs_vecslmbdainv(syst, energies[0], params, lead_no=1)\n",
    "phi, phi_lmbda = inverse_A_B_alt(syst, vecslmbdainv, vecs, params)"
   ]
  },
  {
   "cell_type": "code",
   "execution_count": 63,
   "id": "57d73508-0e33-4c05-b3e3-23794eac5b02",
   "metadata": {},
   "outputs": [
    {
     "data": {
      "text/plain": [
       "array([[0.98900859+0.j, 0.91840549+0.j],\n",
       "       [0.98378235-0.j, 1.05759309+0.j]])"
      ]
     },
     "execution_count": 63,
     "metadata": {},
     "output_type": "execute_result"
    }
   ],
   "source": [
    "phi_lmbda/phi"
   ]
  },
  {
   "cell_type": "code",
   "execution_count": 64,
   "id": "8ed7558d-aa91-46b0-9a73-070ad556f289",
   "metadata": {},
   "outputs": [
    {
     "data": {
      "text/plain": [
       "array([[ 0.11967305-0.06774114j],\n",
       "       [-0.17137907+0.09700943j]])"
      ]
     },
     "execution_count": 64,
     "metadata": {},
     "output_type": "execute_result"
    }
   ],
   "source": [
    "#j=0 unit cell in right lead\n",
    "phi@weston_psi[-2:]"
   ]
  },
  {
   "cell_type": "code",
   "execution_count": 61,
   "id": "f4f0aafd-6ff3-4f9e-a617-9e396068ad46",
   "metadata": {},
   "outputs": [
    {
     "data": {
      "text/plain": [
       "array([[ 0.11967305-0.06774114j],\n",
       "       [-0.17137907+0.09700943j]])"
      ]
     },
     "execution_count": 61,
     "metadata": {},
     "output_type": "execute_result"
    }
   ],
   "source": [
    "# last unit cell in scattering region\n",
    "weston_psi[-6:-4]"
   ]
  },
  {
   "cell_type": "markdown",
   "id": "3d96b37d-aaaa-4f9a-9509-cc64cb89681f",
   "metadata": {},
   "source": [
    "Weston wavefunctions seem to be continuous."
   ]
  },
  {
   "cell_type": "markdown",
   "id": "1ab3de00-7596-45aa-adde-ad904c2131f6",
   "metadata": {},
   "source": [
    "### Diagonal matrix elements"
   ]
  },
  {
   "cell_type": "code",
   "execution_count": 65,
   "id": "0541d9dc-cb9e-4f72-ae79-5fa5329511e5",
   "metadata": {},
   "outputs": [],
   "source": [
    "def finite_system1(params, L_leads, L=11):\n",
    "    a = 1\n",
    "    mu, A, Delta = params.values()\n",
    "    L_leads = int(L_leads)\n",
    "    \n",
    "    lat = kwant.lattice.chain()\n",
    "    syst = kwant.Builder()\n",
    "    \n",
    "    # Pauli matrices\n",
    "    sigma_0 = np.array([[1, 0], [0, 1]])\n",
    "    sigma_x = np.array([[0, 1], [1, 0]])\n",
    "    sigma_y = np.array([[0, -1j], [1j, 0]])\n",
    "    sigma_z = np.array([[1, 0], [0, -1]])\n",
    "    \n",
    "    ham = (2.*A/(a**2.)-mu)*sigma_z\n",
    "    hop = -A/(a**2.)*sigma_z\n",
    "    \n",
    "    ham_leads = ham + Delta*sigma_x\n",
    "    hop_leads = hop\n",
    "    \n",
    "    syst[(lat(x) for x in range(-L_leads, 0))] = ham_leads\n",
    "    syst[(lat(x) for x in range(0, L))] = ham\n",
    "    syst[(lat(x) for x in range(L, L_leads+L))] = ham_leads\n",
    "    syst[((lat(x), lat(x+1)) for x in range(-L_leads, L_leads+L-1))] = hop\n",
    "\n",
    "    return syst.finalized()"
   ]
  },
  {
   "cell_type": "code",
   "execution_count": 66,
   "id": "9fd809ee-852f-428d-aaee-cfc533aaa4e3",
   "metadata": {},
   "outputs": [],
   "source": [
    "normalisation_check = []\n",
    "eigenenergy_check = []\n",
    "finite_syst1 = finite_system1(params, no_cells_lleads[0])\n",
    "for i in range(len(wavefunc_scat)):\n",
    "    wavefunc_left_temp = np.c_[wavefunc_lleads[i][2:][::2][::-1], wavefunc_lleads[i][2:][1::2][::-1]].flatten()\n",
    "    psi0 = np.r_[wavefunc_left_temp, wavefunc_scat[i].flatten(), wavefunc_lleads[i][2:]]\n",
    "    norm = psi0.T.conj()@psi0\n",
    "    eigenenergy = psi0.T.conj()@finite_syst1.hamiltonian_submatrix()@psi0\n",
    "    normalisation_check.append(norm)\n",
    "    eigenenergy_check.append(eigenenergy)"
   ]
  },
  {
   "cell_type": "code",
   "execution_count": 67,
   "id": "714ad491-e3bb-44f4-86a1-8a4e5c27966d",
   "metadata": {},
   "outputs": [
    {
     "data": {
      "text/plain": [
       "[(1.0867191590413132+0j), (0.9899534838777002+0j)]"
      ]
     },
     "execution_count": 67,
     "metadata": {},
     "output_type": "execute_result"
    }
   ],
   "source": [
    "normalisation_check"
   ]
  },
  {
   "cell_type": "code",
   "execution_count": 68,
   "id": "cd1ac878-cb6a-495d-9b55-c8ebef9eb1d7",
   "metadata": {},
   "outputs": [
    {
     "data": {
      "text/plain": [
       "array([-0.00111328,  0.00252872])"
      ]
     },
     "execution_count": 68,
     "metadata": {},
     "output_type": "execute_result"
    }
   ],
   "source": [
    "np.real(eigenenergy_check)"
   ]
  },
  {
   "cell_type": "code",
   "execution_count": 69,
   "id": "1c2ab348-98d8-4ebe-8f05-4c5096420c35",
   "metadata": {},
   "outputs": [
    {
     "data": {
      "text/plain": [
       "[-0.0009275841974067285, 0.0009275841974065175]"
      ]
     },
     "execution_count": 69,
     "metadata": {},
     "output_type": "execute_result"
    }
   ],
   "source": [
    "e_compare"
   ]
  },
  {
   "cell_type": "markdown",
   "id": "7ad98c70-9dd1-4055-bbb5-378134d20e75",
   "metadata": {},
   "source": []
  },
  {
   "cell_type": "markdown",
   "id": "b487d2c0-25b5-46a9-9625-3a6ebe1a2985",
   "metadata": {},
   "source": [
    "e=-0.0009"
   ]
  },
  {
   "cell_type": "code",
   "execution_count": 70,
   "id": "d7d7f725-0e90-4648-8d49-6aad16b08e77",
   "metadata": {},
   "outputs": [],
   "source": [
    "finite_syst1 = finite_system1(params, no_cells_lleads[0])"
   ]
  },
  {
   "cell_type": "code",
   "execution_count": 71,
   "id": "573b1003-5109-4d66-ab10-3441f5dc197b",
   "metadata": {},
   "outputs": [
    {
     "data": {
      "text/plain": [
       "169.0"
      ]
     },
     "execution_count": 71,
     "metadata": {},
     "output_type": "execute_result"
    }
   ],
   "source": [
    "no_cells_lleads[0]"
   ]
  },
  {
   "cell_type": "code",
   "execution_count": 72,
   "id": "52a00fc5-1f55-4b40-99e5-0a82b8a6cf4b",
   "metadata": {},
   "outputs": [],
   "source": [
    "ind=0\n",
    "wavefunc_left_temp = np.c_[wavefunc_lleads[ind][2:][::2][::-1], wavefunc_lleads[ind][2:][1::2][::-1]].flatten()\n",
    "psi0 = np.r_[wavefunc_left_temp, wavefunc_scat[ind].flatten(), wavefunc_lleads[ind][2:]]"
   ]
  },
  {
   "cell_type": "code",
   "execution_count": 73,
   "id": "3f8d2157-2e63-4437-b664-7e7e9f6628f0",
   "metadata": {},
   "outputs": [
    {
     "data": {
      "text/plain": [
       "array([ 9.86505048e-01-1.56267925e-02j, -9.89457820e-01+1.41364446e-02j,\n",
       "       -9.27584197e-04-2.80901954e-16j, ...,\n",
       "       -9.27584197e-04+4.85091496e-16j,  9.86505048e-01-1.56267925e-02j,\n",
       "       -9.89457820e-01+1.41364446e-02j])"
      ]
     },
     "execution_count": 73,
     "metadata": {},
     "output_type": "execute_result"
    }
   ],
   "source": [
    "(finite_syst1.hamiltonian_submatrix()@psi0)/psi0"
   ]
  },
  {
   "cell_type": "code",
   "execution_count": 74,
   "id": "093aa3cf-c01a-40e5-93f3-2bc25fcc76a7",
   "metadata": {},
   "outputs": [
    {
     "data": {
      "text/plain": [
       "array([-169.,   -2.,   -1.,   11.,   12.,  179.])"
      ]
     },
     "execution_count": 74,
     "metadata": {},
     "output_type": "execute_result"
    }
   ],
   "source": [
    "ind=0\n",
    "sth = np.abs((finite_syst1.hamiltonian_submatrix()@psi0)/psi0)+e_compare[ind]\n",
    "((np.where(np.around(sth, 2)!=0)[0]+1)[1::2]/2)-(no_cells_lleads[0]+1)"
   ]
  },
  {
   "cell_type": "markdown",
   "id": "0562882e-2c02-4d73-98f9-1b66da94402b",
   "metadata": {},
   "source": [
    "Deviations at edges of leads, and boundaries between leads and scattering region."
   ]
  },
  {
   "cell_type": "markdown",
   "id": "fdcb1513-251d-416b-879c-4fc115b28b0b",
   "metadata": {},
   "source": [
    "e=0.0009"
   ]
  },
  {
   "cell_type": "code",
   "execution_count": 75,
   "id": "0c8d99f9-072a-4555-aa63-401e408ab0a1",
   "metadata": {},
   "outputs": [],
   "source": [
    "ind=1\n",
    "wavefunc_left_temp = np.c_[wavefunc_lleads[ind][2:][::2][::-1], wavefunc_lleads[ind][2:][1::2][::-1]].flatten()\n",
    "psi0 = np.r_[wavefunc_left_temp, wavefunc_scat[ind].flatten(), wavefunc_lleads[ind][2:]]"
   ]
  },
  {
   "cell_type": "code",
   "execution_count": 76,
   "id": "e384bd26-43ff-42f4-8c72-35a1d5df3e7f",
   "metadata": {},
   "outputs": [
    {
     "data": {
      "text/plain": [
       "array([ 9.88569730e-01+1.56799307e-02j, -9.84644280e-01-1.59472010e-02j,\n",
       "        9.27584197e-04+2.91356415e-16j, ...,\n",
       "        9.27584197e-04-1.63649690e-16j,  9.88569730e-01+1.56799307e-02j,\n",
       "       -9.84644280e-01-1.59472010e-02j])"
      ]
     },
     "execution_count": 76,
     "metadata": {},
     "output_type": "execute_result"
    }
   ],
   "source": [
    "(finite_syst1.hamiltonian_submatrix()@psi0)/psi0"
   ]
  },
  {
   "cell_type": "code",
   "execution_count": 77,
   "id": "cc4f300c-a127-4b35-abaa-829638c8cca6",
   "metadata": {},
   "outputs": [
    {
     "data": {
      "text/plain": [
       "array([-169.,   -2.,   -1.,   11.,   12.,  179.])"
      ]
     },
     "execution_count": 77,
     "metadata": {},
     "output_type": "execute_result"
    }
   ],
   "source": [
    "ind=1\n",
    "sth = np.real((finite_syst1.hamiltonian_submatrix()@psi0)/psi0)-e_compare[ind]\n",
    "((np.where(np.around(sth, 2)!=0)[0]+1)[1::2]/2)-(no_cells_lleads[0]+1)"
   ]
  },
  {
   "cell_type": "markdown",
   "id": "77ed033a-133c-4a02-a059-adeb192d9a48",
   "metadata": {},
   "source": [
    "# Functions"
   ]
  },
  {
   "cell_type": "code",
   "execution_count": 4,
   "id": "cd5711fc-e0bb-4104-9d34-d1dd856279ff",
   "metadata": {},
   "outputs": [],
   "source": [
    "# code chunk useful for selecting every n elements to separate the wavefunctions in the two leads.\n",
    "def select_in_groups_strided(a, M, N): # Keep first M, delete next N and so on.\n",
    "    K = M+N\n",
    "    na = a.size\n",
    "    nrows = (1+((na-1)//K))\n",
    "    n = a.strides[0]\n",
    "    out = np.lib.index_tricks.as_strided(a, shape=(nrows,K), strides=(K*n,n))\n",
    "    N = M*(na//K) + (na - (K*(na//K)))\n",
    "    return out[:,:M].ravel()[:N]"
   ]
  },
  {
   "cell_type": "code",
   "execution_count": 5,
   "id": "a6c27f8b-0266-4967-bf60-9d239e426a98",
   "metadata": {},
   "outputs": [],
   "source": [
    "#returns the wavefunction in the leads up to a given last-cell magnitude, or a given number of cells.\n",
    "def long_wf_in_leads(q_e, L_out, Phi, lead_no=1, fixed_no_cells=None, limit=100., no_orb=2):\n",
    "    '''return wavefunction with leads with number of unit cells'''\n",
    "    no_orb = int(no_orb)\n",
    "    if fixed_no_cells is None:\n",
    "        j=0\n",
    "        quick_wf = wf_in_leads(q_e, L_out, Phi, 0)\n",
    "        wave_func_array = quick_wf\n",
    "        first_site_amplitude = quick_wf.T.conj()@quick_wf\n",
    "        last_site_amplitude = first_site_amplitude\n",
    "        while last_site_amplitude > first_site_amplitude/limit:\n",
    "            j+=1\n",
    "            quick_wfj = wf_in_leads(q_e, L_out, Phi, j)\n",
    "            wave_func_array = np.vstack((wave_func_array, quick_wfj))\n",
    "            last_site_amplitude = quick_wfj.T.conj()@quick_wfj\n",
    "        wave_func_array = np.array(wave_func_array)\n",
    "        if lead_no==0:\n",
    "            return select_in_groups_strided(wave_func_array, no_orb, no_orb), wave_func_array.shape[0]/(no_orb*2)\n",
    "        elif lead_no==1:\n",
    "            return select_in_groups_strided(wave_func_array[no_orb:], no_orb, no_orb), wave_func_array.shape[0]/(no_orb*2)\n",
    "    else:\n",
    "        wave_func_array = wf_in_leads(q_e, L_out, Phi, 0)\n",
    "        for i in range(0, fixed_no_cells):\n",
    "            quick_wfj = wf_in_leads(q_e, L_out, Phi, i+1)\n",
    "            wave_func_array = np.vstack((wave_func_array, quick_wfj))\n",
    "        wave_func_array = np.array(wave_func_array)\n",
    "        if lead_no==0:\n",
    "            return select_in_groups_strided(wave_func_array, no_orb, no_orb), wave_func_array.shape[0]/(no_orb*2)\n",
    "        elif lead_no==1:\n",
    "            return select_in_groups_strided(wave_func_array[no_orb:], no_orb, no_orb), wave_func_array.shape[0]/(no_orb*2)"
   ]
  },
  {
   "cell_type": "code",
   "execution_count": 6,
   "id": "938e6967-0968-4d23-8ff6-c9c5f126f652",
   "metadata": {},
   "outputs": [],
   "source": [
    "# re-inputs the boundstate energies into the Istas version boundstate code to extract lead wavefunctions.\n",
    "# has a plot function inside to visualise the overall wavefunction of each state in each orbital.\n",
    "# code not optimised. Only for showing the problem we have encountered with the algorithm.\n",
    "def istas_scan(e_subarray, syst, params=None, all_out=False, no_orb=2):\n",
    "    no_orb = int(no_orb)\n",
    "    no_states = len(e_subarray)\n",
    "    e_division = np.array([[e_subarray[i], e_subarray[i]] for i in range(len(e_subarray))])\n",
    "    e_compare = []\n",
    "    wavefunc_lleads = []\n",
    "    no_cells_lleads = []\n",
    "    wavefunc_rleads = []\n",
    "    no_cells_rleads = []\n",
    "    wavefunc_scat = []\n",
    "    fig, axs = plt.subplots(no_states, 2, figsize=(15,15))\n",
    "    for i in range(len(e_subarray)):\n",
    "        print(i)\n",
    "        print(e_division[i])\n",
    "        try:\n",
    "            E, psi_alpha_0, q_e, L_out, Phi = bound_state(syst, e_division[i], return_wf=True, params=params)\n",
    "        except:\n",
    "            continue\n",
    "        e_compare.append(E)\n",
    "        wavefunc_scat.append(psi_alpha_0)\n",
    "        trial_wfr, no_cellsr = long_wf_in_leads(q_e, L_out, Phi, lead_no=1, limit=10000., no_orb=no_orb)\n",
    "        trial_wfl, no_cellsl = long_wf_in_leads(q_e, L_out, Phi, lead_no=0, limit=10000., no_orb=no_orb)\n",
    "        no_cells_lleads.append(no_cellsl)\n",
    "        no_cells_rleads.append(no_cellsr)\n",
    "        wavefunc_lleads.append(trial_wfl)\n",
    "        wavefunc_rleads.append(trial_wfr)\n",
    "        #print(trial_wf)\n",
    "        #print(trial_wfr)\n",
    "        #print(trial_wfr.shape)\n",
    "        #print(trial_wfr.shape[0]/8)\n",
    "        #print(psi_alpha_0.shape)\n",
    "        for k in range(no_orb):\n",
    "            ax = axs[i][k]\n",
    "            ax.plot(np.arange(-trial_wfl.shape[0]/no_orb+1, 1), np.array([np.abs(trial_wfl[j*no_orb+k])**2. for j in range(int(trial_wfl.shape[0]/no_orb)-1, -1, -1)]))\n",
    "                #[trial_wfl[j*no_orb:(j+1)*no_orb].T.conj()@trial_wfl[j*no_orb:(j+1)*no_orb] for j in range(int(trial_wfl.shape[0]/no_orb)-1, -1, -1)]))\n",
    "            ax.plot(np.arange(psi_alpha_0.shape[0]/no_orb), np.array([np.abs(psi_alpha_0[j*no_orb+k,0])**2. for j in range(int(psi_alpha_0.shape[0]/no_orb))]))\n",
    "                #psi_alpha_0[j*no_orb:(j+1)*no_orb,0].T.conj()@psi_alpha_0[j*no_orb:(j+1)*no_orb,0] for j in range(int(psi_alpha_0.shape[0]/no_orb))]))\n",
    "            ax.plot(np.arange(psi_alpha_0.shape[0]/no_orb-1, trial_wfr.shape[0]/no_orb+psi_alpha_0.shape[0]/no_orb-1), np.array([np.abs(trial_wfr[j*no_orb+k])**2. for j in range(int(trial_wfr.shape[0]/no_orb))]))\n",
    "            #ax.plot(np.arange(-trial_wfl.shape[0]/8+1, 0), np.array([np.abs(trial_wfl[j*8+k])**2. for j in range(int(trial_wfl.shape[0]/8)-1, 0, -1)]))\n",
    "            #ax.plot(np.arange(psi_alpha_0.shape[0]/8), np.array([np.abs(psi_alpha_0[j*8+k,0])**2. for j in range(int(psi_alpha_0.shape[0]/8))]))\n",
    "            #ax.plot(np.arange(psi_alpha_0.shape[0]/8, trial_wfr.shape[0]/8+psi_alpha_0.shape[0]/8-1), np.array([np.abs(trial_wfr[j*8+k])**2. for j in range(int(trial_wfr.shape[0]/8)-1)]))\n",
    "            #plt.xlim(-100, 100)\n",
    "            #plt.ylim(0, 0.002)\n",
    "            ax.axhline(0, c='k', alpha=0.7)\n",
    "        \n",
    "        '''if i==0:\n",
    "            fig, axs = plt.subplots(4, 2, figsize=(15,15))\n",
    "            for k in range(0, 8):\n",
    "                ax = axs.flatten()[k]\n",
    "                ax.plot(np.arange(-trial_wfl.shape[0]/8+1, 0), np.array([np.abs(trial_wfl[j*8+k])**2. for j in range(int(trial_wfl.shape[0]/8)-1, 0, -1)]))\n",
    "                ax.plot(np.arange(psi_alpha_0.shape[0]/8), np.array([np.abs(psi_alpha_0[j*8+k,0])**2. for j in range(int(psi_alpha_0.shape[0]/8))]))\n",
    "                ax.plot(np.arange(psi_alpha_0.shape[0]/8, trial_wfr.shape[0]/8+psi_alpha_0.shape[0]/8-1), np.array([np.abs(trial_wfr[j*8+k])**2. for j in range(int(trial_wfr.shape[0]/8)-1)]))\n",
    "                #plt.xlim(-100, 100)\n",
    "                #plt.ylim(0, 0.002)\n",
    "                ax.axhline(0, c='k', alpha=0.7)\n",
    "            print('left lead')\n",
    "            print(np.array([trial_wfl[j*1:(j+1)*1].T.conj()@trial_wfl[j*1:(j+1)*1] for j in range(int(trial_wfl.shape[0]/1)-1, -1, -1)]))\n",
    "            plt.plot(np.arange(-trial_wfl.shape[0]/1+1, 1), np.array([trial_wfl[j*1:(j+1)*1].T.conj()@trial_wfl[j*1:(j+1)*1] for j in range(int(trial_wfl.shape[0]/1)-1, -1, -1)]))\n",
    "            plt.plot(np.arange(psi_alpha_0.shape[0]/1), np.array([psi_alpha_0[j*1:(j+1)*1,0].T.conj()@psi_alpha_0[j*1:(j+1)*1,0] for j in range(int(psi_alpha_0.shape[0]/1))]))\n",
    "            plt.plot(np.arange(psi_alpha_0.shape[0]/1-1, trial_wfr.shape[0]/1+psi_alpha_0.shape[0]/1-1), np.array([trial_wfr[j*1:(j+1)*1].T.conj()@trial_wfr[j*1:(j+1)*1] for j in range(int(trial_wfr.shape[0]/1))]))\n",
    "            #plt.xlim(-100, 100)'''\n",
    "        #print(psi_alpha_0[-8:])\n",
    "        #print(wf_in_leads(q_e, L_out, Phi, 0)[-8:])\n",
    "        #print(syst.leads[1].inter_cell_hopping().T.conj()@psi_alpha_0[-8:])\n",
    "        #print(psi_alpha_0[-8:]/wf_in_leads(q_e, L_out, Phi, 0)[-8:])\n",
    "        #print(i)\n",
    "        #print(E)\n",
    "        #print(psi_alpha_0)\n",
    "        #print(q_e)\n",
    "        #print(np.abs(np.array([L_out[i,i] for i in range(len(L_out))])))\n",
    "        #print(Phi[:,3])\n",
    "    \n",
    "    #print(no_cells_rleads)\n",
    "    no_cell_runiform = int(max(no_cells_rleads)/2)\n",
    "    #print('no_cell_runiform')\n",
    "    #print(no_cell_runiform)\n",
    "    e_compare = []\n",
    "    wavefunc_lleads = []\n",
    "    no_cells_lleads = []\n",
    "    wavefunc_rleads = []\n",
    "    no_cells_rleads = []\n",
    "    wavefunc_scat = []\n",
    "    for i in range(len(e_subarray)):\n",
    "        #print(i)\n",
    "        #print(e_division[i])\n",
    "        try:\n",
    "            E, psi_alpha_0, q_e, L_out, Phi = bound_state(syst, e_division[i], return_wf=True, params=params)\n",
    "        except:\n",
    "            continue\n",
    "        e_compare.append(E)\n",
    "        wavefunc_scat.append(psi_alpha_0)\n",
    "        trial_wfr, no_cellsr = long_wf_in_leads(q_e, L_out, Phi, lead_no=1, fixed_no_cells=no_cell_runiform, no_orb=no_orb)\n",
    "        trial_wfl, no_cellsl = long_wf_in_leads(q_e, L_out, Phi, lead_no=0, fixed_no_cells=no_cell_runiform, no_orb=no_orb)\n",
    "        no_cells_lleads.append(no_cellsl)\n",
    "        no_cells_rleads.append(no_cellsr)\n",
    "        wavefunc_lleads.append(trial_wfl)\n",
    "        wavefunc_rleads.append(trial_wfr)\n",
    "    \n",
    "    if all_out:\n",
    "        return e_compare, wavefunc_lleads, wavefunc_rleads, wavefunc_scat, no_cells_lleads, no_cells_rleads\n",
    "    else:\n",
    "        return e_compare, wavefunc_rleads, no_cells_rleads"
   ]
  },
  {
   "cell_type": "code",
   "execution_count": 7,
   "id": "ad18b99b-90f0-46ac-87c6-683feb04cf72",
   "metadata": {},
   "outputs": [],
   "source": [
    "# transform from vecs and vecslmbdainv of kwant.modes to eigenvectors@eigenvalues and eigevectors following\n",
    "# https://gitlab.kwant-project.org/kwant/kwant/-/merge_requests/39\n",
    "def inverse_A_B_alt(syst, vecslmbdainv, vecs, params):\n",
    "    hop = syst.leads[0].inter_cell_hopping(params=params)\n",
    "    B = np.sqrt(np.linalg.norm(hop))*np.identity(hop.shape[0])\n",
    "    A = hop@np.linalg.inv(B).T.conj()\n",
    "    B_dagger_inv = np.linalg.inv(B.T.conj())\n",
    "    A_dagger_inv = np.linalg.inv(A.T.conj())\n",
    "    phi_lmbda = A_dagger_inv@vecs\n",
    "    phi = B_dagger_inv@vecslmbdainv\n",
    "    return phi, phi_lmbda"
   ]
  },
  {
   "cell_type": "code",
   "execution_count": 8,
   "id": "92e51a20-16c9-4223-9ee3-68e5b8a3637e",
   "metadata": {},
   "outputs": [],
   "source": [
    "# Get StabilisedModes given system and energy\n",
    "def vecs_vecslmbdainv(syst, energy, params, lead_no=1):\n",
    "    _, stab = syst.leads[lead_no].modes(energy, params=params)\n",
    "    evan_vecs = slice(2 * stab.nmodes, None)\n",
    "    u_out = stab.vecs[:, evan_vecs]\n",
    "    ulinv_out = stab.vecslmbdainv[:, evan_vecs]\n",
    "    return ulinv_out, u_out"
   ]
  },
  {
   "cell_type": "markdown",
   "id": "54e11740-09b5-4644-8004-07385e7b1ede",
   "metadata": {},
   "source": [
    "# Boundstate algorithms"
   ]
  },
  {
   "cell_type": "markdown",
   "id": "71d2c490-a087-4c11-9b96-c4f8ad7cf211",
   "metadata": {},
   "source": [
    "This is the feature version due to Joseph Weston taken from https://gitlab.kwant-project.org/jbweston/kwant/-/blob/feature/boundstate/kwant/physics/boundstate.py This version of the boundstate algorithm, albeit it has a lot of internal functions and was a little bit more opaque to look into, has a much more efficient root finder than the original version due to Mathieu Istas, posted below. We calculate the boundstate energies in our system using these methods first. In order to construct lead wavefunctions beyond the first unit cell, we then put the energies into the Istas version."
   ]
  },
  {
   "cell_type": "code",
   "execution_count": 2,
   "id": "78194539-22c1-41de-969d-1e8647220b70",
   "metadata": {},
   "outputs": [],
   "source": [
    "# Copyright 2011-2019 Kwant authors.\n",
    "#\n",
    "# This file is part of Kwant.  It is subject to the license terms in the file\n",
    "# LICENSE.rst found in the top-level directory of this distribution and at\n",
    "# http://kwant-project.org/license.  A list of Kwant authors can be found in\n",
    "# the file AUTHORS.rst at the top-level directory of this distribution and at\n",
    "# http://kwant-project.org/authors.\n",
    "\n",
    "# This is the feature version due to Joseph Weston taken from\n",
    "#https://gitlab.kwant-project.org/jbweston/kwant/-/blob/feature/boundstate/kwant/physics/boundstate.py\n",
    "#This version of the boundstate algorithm, albeit it has a lot of internal functions and was a little bit more\n",
    "#opaque to look into, has a much more efficient root finder than the original version due to Mathieu Istas,\n",
    "#posted below. We calculate the boundstate energies in our system using these methods first. In order to construct\n",
    "#lead wavefunctions beyond the first unit cell, we then put the energies into the Istas version.\n",
    "\n",
    "from packaging import version\n",
    "\n",
    "import numpy as np\n",
    "import scipy.linalg\n",
    "import scipy.optimize\n",
    "import scipy.sparse as sp\n",
    "\n",
    "__all__ = [\"find_boundstates\"]\n",
    "\n",
    "# TODO: remove this when we depend on scipy > 1.1\n",
    "#1.3.1 here\n",
    "if version.parse(scipy.__version__) > version.parse(\"1.1\"):\n",
    "    null_space = scipy.linalg.null_space\n",
    "else:\n",
    "\n",
    "    def null_space(A, rcond=None):\n",
    "        u, s, vh = scipy.linalg.svd(A, full_matrices=True)\n",
    "        M, N = u.shape[0], vh.shape[1]\n",
    "        if rcond is None:\n",
    "            rcond = np.finfo(s.dtype).eps * max(M, N)\n",
    "        tol = np.amax(s) * rcond\n",
    "        num = np.sum(s > tol, dtype=int)\n",
    "        Q = vh[num:, :].T.conj()\n",
    "        return Q\n",
    "\n",
    "\n",
    "# If available, use MUMPS support for shift-inverse sparse diagonalization\n",
    "# Can import mumps alright.\n",
    "try:\n",
    "    from kwant.linalg import mumps\n",
    "except ImportError:\n",
    "    sparse_diag = sp.linalg.eigsh\n",
    "else:\n",
    "\n",
    "    class _LuInv(sp.linalg.LinearOperator):\n",
    "        def __init__(self, A):\n",
    "            inst = mumps.MUMPSContext()\n",
    "            inst.analyze(A)\n",
    "            inst.factor(A)\n",
    "            self.solve = inst.solve\n",
    "            super().__init__(A.dtype, A.shape)\n",
    "\n",
    "        def _matvec(self, x):\n",
    "            return self.solve(x.astype(self.dtype))\n",
    "\n",
    "    def sparse_diag(matrix, k, sigma, **kwargs):\n",
    "        if sigma == 0:\n",
    "            shifted_matrix = matrix\n",
    "        else:\n",
    "            shifted_matrix = matrix - sigma * sp.identity(matrix.shape[0])\n",
    "        return sp.linalg.eigsh(matrix, k, sigma=sigma, OPinv=_LuInv(shifted_matrix),\n",
    "                               **kwargs)\n",
    "\n",
    "\"\"\"syst: kwant.system.FiniteSystem\n",
    "\"\"\"\n",
    "\n",
    "def find_boundstates(\n",
    "    syst,\n",
    "    min_energy,\n",
    "    max_energy,\n",
    "    params=None,\n",
    "    sparse=True,\n",
    "    check_hermiticity=True,\n",
    "    rtol=1e-3,\n",
    "):\n",
    "    \"\"\"Return boundstates of an open system in an energy window\n",
    "\n",
    "    Parameters\n",
    "    ----------\n",
    "    syst : kwant.system.FiniteSystem\n",
    "        Must have leads.\n",
    "    min_energy, max_energy : float\n",
    "        The lower and upper bounds in energy to search for boundstates.\n",
    "    params : dict, optional\n",
    "        The keyword arguments to 'syst'.\n",
    "    sparse : bool, default: True\n",
    "        If True use sparse linear algebra, otherwise use dense.\n",
    "    check_hermiticity : bool, default: True\n",
    "        If True, checks the Hermiticity of the system Hamiltonian\n",
    "    rtol : float, default: 1E-3\n",
    "        boundstates that are closer together than\n",
    "        'rtol * (max_energy - min_energy)' may be missed.\n",
    "\n",
    "    Returns\n",
    "    -------\n",
    "    energies : 1D float array\n",
    "        The energies of the bound states.\n",
    "    wavefunctions : 2D complex array\n",
    "        The columns are the bound state wavefunctions defined\n",
    "        over the scattering region.\n",
    "    \"\"\"\n",
    "\n",
    "    # TODO: apply lru_cache to this once\n",
    "    # https://github.com/scipy/scipy/issues/10846 is solved.\n",
    "    def min_eigenvalue(energy):\n",
    "        H_eff = make_linsys(\n",
    "            syst,\n",
    "            energy,\n",
    "            params=params,\n",
    "            sparse=sparse,\n",
    "            check_hermiticity=check_hermiticity,\n",
    "        )\n",
    "        try:\n",
    "            if sparse:\n",
    "                if H_eff.shape[0] <= 2:\n",
    "                    raise ValueError(\n",
    "                        \"The system is too small to use sparse diagonalization. \"\n",
    "                        \"Try setting 'sparse=False'.\"\n",
    "                    )\n",
    "                vals = sparse_diag(\n",
    "                    H_eff.tocsc(), k=1, sigma=1e-10, which=\"LM\", return_eigenvectors=False\n",
    "                )\n",
    "                '''print('energy:')\n",
    "                print(energy)\n",
    "                print('Direct Diagonalisation:')\n",
    "                print(spi.linalg.eigvals(H_eff.toarray()))\n",
    "                print('sparce f:')\n",
    "                print(vals[np.argmin(np.abs(vals))]'''\n",
    "                return vals[0]\n",
    "            else:\n",
    "                vals = np.linalg.eigvalsh(H_eff)\n",
    "                which = np.argmin(np.abs(vals))\n",
    "                return vals[which]\n",
    "        except RuntimeError:  # Some problem diagonalizing\n",
    "            return np.inf\n",
    "\n",
    "    if syst.site_ranges is not None:\n",
    "        tot_norbs = syst.site_ranges[-1][-1]\n",
    "    else:\n",
    "        _, norbs = syst.hamiltonian_submatrix(params=params, return_norb=True)[:2]\n",
    "        tot_norbs = sum(norbs)\n",
    "\n",
    "    # Grid the energy window and search for roots in the sub-windows\n",
    "    # where the min-eigenvalue changes sign. These will either be\n",
    "    # true roots or discontinuities. Note that if there are >1 roots\n",
    "    # in the same sub-window then at least one of them will be missed.\n",
    "    '''print('f(0):')\n",
    "    print(min_eigenvalue(0))\n",
    "    print('f(1e-16)')\n",
    "    print(min_eigenvalue(1e-16))\n",
    "    print('f(3e-16)')\n",
    "    print(min_eigenvalue(3e-16))\n",
    "    print('f(1e-15)')\n",
    "    print(min_eigenvalue(1e-15))'''\n",
    "    \n",
    "    '''print('f(0):')\n",
    "    print(min_eigenvalue(0.))'''\n",
    "    #print('tot_norbs')\n",
    "    #print(tot_norbs)\n",
    "    \n",
    "    energies = np.linspace(\n",
    "        min_energy, max_energy, int((max_energy - min_energy) / rtol)\n",
    "    )\n",
    "    intervals = zip(energies, energies[1:])\n",
    "    \n",
    "    '''f_E = []\n",
    "    for e in energies:\n",
    "        print(e)\n",
    "        f_E.append(min_eigenvalue(e))\n",
    "    plt.scatter(energies, f_E)'''\n",
    "    \n",
    "    candidates = []\n",
    "    for a, b in intervals:\n",
    "        try:\n",
    "            if np.sign(min_eigenvalue(a)) != np.sign(min_eigenvalue(b)):\n",
    "                candidate = scipy.optimize.brentq(min_eigenvalue, a, b)\n",
    "                candidates.append(candidate)\n",
    "        except RuntimeError: #some problems with lead modes\n",
    "            continue\n",
    "    \n",
    "    \n",
    "    # Check which candidate points give actual boundstates.\n",
    "    energies = []\n",
    "    states = []\n",
    "    for energy in candidates:\n",
    "        vecs = extract_boundstates(syst, energy, params=params, sparse=sparse)\n",
    "        # vecs.shape[1] == 0 if there were no boundstates found\n",
    "        energies.append([energy] * vecs.shape[1])\n",
    "        # Here we discard the mode part of the solution just to\n",
    "        # make the output format more uniform (wavefunction has\n",
    "        # same number of components at all energies).\n",
    "        states.append(vecs[:tot_norbs, :])\n",
    "\n",
    "    if not energies:\n",
    "        return np.empty((0,)), np.empty((tot_norbs, 0))\n",
    "    else:\n",
    "        return np.hstack(energies), np.hstack(states)\n",
    "\n",
    "\n",
    "def extract_boundstates(\n",
    "    syst, energy=0, params=None, sparse=True, check_hermiticity=True, tol=1e-8\n",
    "):\n",
    "    \"\"\"Return any true boundstates of 'syst' at 'energy'\n",
    "\n",
    "    Params\n",
    "    ------\n",
    "    syst : kwant.FiniteSystem\n",
    "        Must have leads\n",
    "    energy : float\n",
    "    params : dict, optional\n",
    "        Keyword arguments to 'syst'\n",
    "    sparse : bool, default: True\n",
    "        If True, returns sparse matrices\n",
    "    check_hermiticity : bool, default: True\n",
    "        If True, check the system Hamiltonian for hermiticity\n",
    "\n",
    "    Returns\n",
    "    -------\n",
    "    vecs : 2D array\n",
    "        The columns are bound state wavefunctions.\n",
    "        The first N rows is in the tight-binding basis of the\n",
    "        scattering region, and the remaining rows are in the\n",
    "        basis of stabilized evanescent modes of the leads.\n",
    "\n",
    "    Notes\n",
    "    -----\n",
    "    We diagonalize the linear system returned by 'make_linsys', and\n",
    "    search for zero eigenvalues. We then look for vectors in the basis\n",
    "    of zero-eigenvalue eigenvectors that satisfy the bound state condition,\n",
    "    eq. 19 of https://doi.org/10.21468/SciPostPhys.4.5.026.\n",
    "    \"\"\"\n",
    "\n",
    "    lhs, T = make_linsys(\n",
    "        syst,\n",
    "        energy,\n",
    "        params=params,\n",
    "        sparse=sparse,\n",
    "        check_hermiticity=check_hermiticity,\n",
    "        return_validation=True,\n",
    "        which=\"hermitian\",\n",
    "    )\n",
    "\n",
    "    if sparse:\n",
    "        if lhs.shape[0] <= 2:\n",
    "            raise ValueError(\n",
    "                \"The system is too small to use sparse diagonalization. \"\n",
    "                \"Try setting 'sparse=False'.\"\n",
    "            )\n",
    "        k = min(6, lhs.shape[0] - 2)  # 6 is the default for sp.linalg.eigsh\n",
    "        try_again = True\n",
    "        # Solve the eigenproblem with successively large values of 'k' until\n",
    "        # we get all the zero eigenvalues. (In most cases this loop will\n",
    "        # run once).\n",
    "        while try_again:\n",
    "            vals, vecs = sparse_diag(lhs.tocsc(), k=k, sigma=1e-10, which=\"LM\")\n",
    "            zeros = np.abs(vals) < tol  # TODO: make this check better\n",
    "            if not np.all(zeros):  # we have found all the zero eigenvalues\n",
    "                try_again = False\n",
    "            else:\n",
    "                k *= 2  # try again with twice the number of eigenvalues\n",
    "                if k >= lhs.shape[0] - 1:\n",
    "                    raise ValueError(\n",
    "                        \"More eigenvalues are 0 than can be obtained by \"\n",
    "                        \"sparse diagonalization. Try setting 'sparse=False'.\"\n",
    "                    )\n",
    "    else:\n",
    "        vals, vecs = np.linalg.eigh(lhs)\n",
    "        zeros = np.abs(vals) < tol  # TODO make this check better\n",
    "\n",
    "    if not np.any(zeros):\n",
    "        return np.empty((lhs.shape[0], 0))\n",
    "\n",
    "\n",
    "    zero_vecs = vecs[:, zeros]\n",
    "    # To find the true boundstates we find the null space of the operator\n",
    "    # in eq 19 (T) in the basis of zero-eigenvalue vectors.\n",
    "    p = T @ zero_vecs\n",
    "    if np.allclose(p, 0):\n",
    "        # 'zero_vecs' are already a basis for the null space of T\n",
    "        return zero_vecs\n",
    "    else:\n",
    "        # TODO: not sure about this value for 'rcond', we need to ensure\n",
    "        #       that rcond is sufficiently large in the case that p is\n",
    "        #       zero (i.e. zero_vecs are individually boundstates).\n",
    "        bound_states = null_space(p, rcond=tol / np.max(np.abs(p)))\n",
    "        # transform back to original basis\n",
    "        # TODO: rotate the basis so the bound states have the correct symmetries\n",
    "        return np.asarray(zero_vecs @ bound_states)\n",
    "\n",
    "\n",
    "def make_linsys(\n",
    "    syst,\n",
    "    energy=0,\n",
    "    params=None,\n",
    "    sparse=True,\n",
    "    check_hermiticity=True,\n",
    "    return_validation=False,\n",
    "    which=\"hermitian\",\n",
    "):\n",
    "    \"\"\"Return the linear system for finding boundstates\n",
    "\n",
    "    Returns ether the linear system defined in equation 12 or equation 11\n",
    "    of https://doi.org/10.21468/SciPostPhys.4.5.026, and the linear\n",
    "    operator defined in equation 19 of the same article.\n",
    "\n",
    "    Params\n",
    "    ------\n",
    "    syst : kwant.FiniteSystem\n",
    "        Must have leads\n",
    "    energy : float\n",
    "    params : dict, optional\n",
    "        Keyword arguments to 'syst'\n",
    "    sparse : bool, default: True\n",
    "        If True, returns sparse matrices\n",
    "    check_hermiticity : bool, default: True\n",
    "        If True, check the system Hamiltonian for hermiticity\n",
    "    return_validation: bool, default: False\n",
    "        If True, also return the linear operator used for\n",
    "        checking for true bound states (equation 19 of the article).\n",
    "    which : str, default: \"hermitian\"\n",
    "        Which linear system to return. If \"hermitian\" returns the\n",
    "        linear system defined in equation 12, if \"svd\" returns\n",
    "        the linear system defined in equation 11.\n",
    "\n",
    "    Returns\n",
    "    -------\n",
    "    lhs : 2D array or sparse matrix\n",
    "        The linear system for finding boundstates\n",
    "    T : 2D array or sparse matrix\n",
    "        A linear operator for checking bound states.\n",
    "        zero-eigenvalue eigenvectors of 'lhs' that are in the\n",
    "        null-space of 'T' are true bound states. Only returned\n",
    "        if 'return_validation' is True.\n",
    "    \"\"\"\n",
    "    if not syst.leads:\n",
    "        raise ValueError(\"'syst' must have leads attached\")\n",
    "    if any(interface.shape[0] == 0 for interface in syst.lead_interfaces):\n",
    "        raise ValueError(\n",
    "            \"All the leads of 'syst' must have non-zero \" \"inter-cell hopping\"\n",
    "        )\n",
    "\n",
    "    lhs, norb = syst.hamiltonian_submatrix(\n",
    "        params=params, sparse=sparse, return_norb=True\n",
    "    )[:2]\n",
    "    offsets = np.empty(norb.shape[0] + 1, int)\n",
    "    offsets[0] = 0\n",
    "    offsets[1:] = np.cumsum(norb)\n",
    "    scattering_region_norbs = offsets[-1]\n",
    "\n",
    "    if check_hermiticity and len(lhs.data):\n",
    "        rtol = 1e-13\n",
    "        atol = 1e-300\n",
    "        tol = rtol * np.max(np.abs(lhs.data)) + atol\n",
    "        if np.any(np.abs((lhs - lhs.T.conj()).data) > tol):\n",
    "            raise ValueError(\n",
    "                \"System Hamiltonian is not Hermitian. \"\n",
    "                \"Use option `check_hermiticity=False` \"\n",
    "                \"if this is intentional.\"\n",
    "            )\n",
    "\n",
    "    if sparse:\n",
    "        lhs = lhs - energy * sp.identity(lhs.shape[0])\n",
    "    else:\n",
    "        lhs.flat[:: (offsets[-1] + 1)] -= energy\n",
    "\n",
    "    phi_e = []\n",
    "    svd_vs = []\n",
    "    transfs = []\n",
    "    for leadnum, interface in enumerate(syst.lead_interfaces):\n",
    "        lead = syst.leads[leadnum]\n",
    "        _, stab = lead.modes(energy, params=params)\n",
    "        svd_v = stab.sqrt_hop\n",
    "        # Evanescent modes (schur vectors) are stored after\n",
    "        # the 2*nmodes propagating (in/out) modes\n",
    "        evan_vecs = slice(2 * stab.nmodes, None)\n",
    "        u_out = stab.vecs[:, evan_vecs]\n",
    "        ulinv_out = stab.vecslmbdainv[:, evan_vecs]\n",
    "\n",
    "        # Construct a matrix of 1's that translates the\n",
    "        # inter-cell hopping to a proper hopping\n",
    "        # from the system to the lead.\n",
    "        iface_orbs = np.r_[tuple(slice(offsets[i], offsets[i + 1]) for i in interface)]\n",
    "\n",
    "        n_lead_orbs = svd_v.shape[0]\n",
    "        if n_lead_orbs != len(iface_orbs):\n",
    "            msg = (\n",
    "                \"Lead {0} has hopping with dimensions \"\n",
    "                \"incompatible with its interface dimension.\"\n",
    "            )\n",
    "            raise ValueError(msg.format(leadnum))\n",
    "\n",
    "        coords = np.r_[[np.arange(len(iface_orbs))], [iface_orbs]]\n",
    "        transf = sp.csc_matrix(\n",
    "            (np.ones(len(iface_orbs)), coords), shape=(iface_orbs.size, lhs.shape[0])\n",
    "        )\n",
    "\n",
    "        phi_e.append(ulinv_out)\n",
    "        svd_vs.append(svd_v)\n",
    "        # We are saving these for use in '_validation_operator', where we\n",
    "        # expect each projector to project *from the scattering region only*,\n",
    "        # hence the slice up to 'scattering_region_norbs'\n",
    "        transfs.append(transf[:, :scattering_region_norbs])\n",
    "\n",
    "        if which == \"hermitian\":\n",
    "            A, B, C = _hermitian_matrices(svd_v, transf, u_out, ulinv_out)\n",
    "        elif which == \"svd\":\n",
    "            A, B, C = _svd_matrices(svd_v, transf, u_out, ulinv_out)\n",
    "        else:\n",
    "            raise ValueError(\"'which' must be 'hermitian' or 'svd'\")\n",
    "\n",
    "        if sparse:\n",
    "            A = sp.csc_matrix(A)\n",
    "            B = sp.csc_matrix(B)\n",
    "            C = sp.csc_matrix(C)\n",
    "            lhs = sp.bmat([[lhs, A], [B, C]])\n",
    "        else:\n",
    "            lhs = np.block([[lhs, A], [B, C]])\n",
    "\n",
    "    if return_validation:\n",
    "        return (\n",
    "            lhs,\n",
    "            _validation_operator(\n",
    "                phi_e=phi_e,\n",
    "                svd_vs=svd_vs,\n",
    "                transfs=transfs,\n",
    "                orb_offsets=offsets,\n",
    "                sparse=sparse,\n",
    "            ),\n",
    "        )\n",
    "    else:\n",
    "        return lhs\n",
    "\n",
    "\n",
    "# Equation 12\n",
    "def _hermitian_matrices(svd_v, transf, u_out, ulinv_out):\n",
    "    A = transf.T @ svd_v @ u_out\n",
    "    B = A.conj().T\n",
    "    C = -u_out.T.conj() @ ulinv_out\n",
    "    return A, B, C\n",
    "\n",
    "\n",
    "# Equation 11\n",
    "def _svd_matrices(svd_v, transf, u_out, ulinv_out):\n",
    "    A = transf.T @ svd_v @ u_out\n",
    "    B = svd_v.conj().T @ transf\n",
    "    C = -ulinv_out\n",
    "    return A, B, C\n",
    "\n",
    "\n",
    "# Equation 19\n",
    "def _validation_operator(phi_e, svd_vs, transfs, orb_offsets, sparse):\n",
    "\n",
    "    syst_size = orb_offsets[-1]\n",
    "    mode_size = sum(phi.shape[1] for phi in phi_e)\n",
    "    sol_size = syst_size + mode_size\n",
    "\n",
    "    p_psi = sp.csc_matrix(\n",
    "        (np.ones(syst_size), (np.arange(syst_size),) * 2), shape=(syst_size, sol_size)\n",
    "    )\n",
    "    p_q = sp.csc_matrix(\n",
    "        (np.ones(mode_size), (np.arange(mode_size), np.arange(syst_size, sol_size))),\n",
    "        shape=(mode_size, sol_size),\n",
    "    )\n",
    "\n",
    "    svd_v = np.vstack(svd_vs)\n",
    "    transf = sp.vstack(transfs)\n",
    "    # The states are the *columns*, so use hstack rather than vstack\n",
    "    phi = np.hstack(phi_e)\n",
    "\n",
    "    r = svd_v.conj().T @ (transf @ p_psi) - phi @ p_q\n",
    "\n",
    "    if sparse:\n",
    "        r = sp.csc_matrix(r)\n",
    "\n",
    "    return r\n"
   ]
  },
  {
   "cell_type": "markdown",
   "id": "b69e2166-1f77-4461-986f-8d677281e2a3",
   "metadata": {},
   "source": [
    "Boundstate algorithm due to Mathieu Istas found at https://gitlab.kwant-project.org/jbweston/kwant/-/blob/boundstate/kwant/physics/boundstate.py All imported packages are taken from the same folder in the above link. This version of the boundstate algorithm follows the original paper (https://scipost.org/SciPostPhys.4.5.026) more closely, and allows for construction of lead wavefunctions beyond the first unit cell, which the Weston version above does not, without needing to change the source code for kwant.modes to bring the evanescent modes back into the basis of eigenvectors (rather the Schur vectors)."
   ]
  },
  {
   "cell_type": "code",
   "execution_count": 3,
   "id": "52e4f83b-b571-409a-b033-ae885aac7596",
   "metadata": {},
   "outputs": [],
   "source": [
    "# Copyright 2011-2018 Kwant authors.\n",
    "#\n",
    "# This file is part of Kwant.  It is subject to the license terms in the file\n",
    "# LICENSE.rst found in the top-level directory of this distribution and at\n",
    "# http://kwant-project.org/license.  A list of Kwant authors can be found in\n",
    "# the file AUTHORS.rst at the top-level directory of this distribution and at\n",
    "# http://kwant-project.org/authors.\n",
    "\n",
    "import numpy as np\n",
    "from scipy.optimize import newton, brentq, minimize_scalar\n",
    "from _boundstate_hermitian import eig_values, false_positive_BS, eig_val_derivative\n",
    "from _boundstate_svd import singular_values\n",
    "from _boundstate_common import *\n",
    "\n",
    "__all__ = ['bound_state', 'wf_in_leads']\n",
    "\n",
    "def bound_state(syst, E_range, args=(), params=None, tol=1e-8, sparse=False, \n",
    "                return_wf=False, maxiter=100, eig_val=2, need_orth=True):\n",
    "    \"\"\"Find a single bound state in the energy window '(emin, emax)'.\n",
    "\n",
    "    Parameters\n",
    "    ----------\n",
    "    syst : kwant.system.FiniteSystem\n",
    "        Must have at least one lead attached. If you need to find bound\n",
    "        states of a finite system, use an eigensolver.\n",
    "    emin, emax : float\n",
    "        The energy bounds in which to search for bound states.\n",
    "    E_0: starting point of the newton method\n",
    "    args : tuple\n",
    "        Positional arguments to the system.\n",
    "    params : dict\n",
    "        Keyword arguments to the system.\n",
    "    eps : float\n",
    "        Tolerance with which to find the bound state.\n",
    "    return_wavefunction : bool\n",
    "        Whether or not to return the bound state wavefunction.\n",
    "    maxiter: maximum number of steps used by the newton method\n",
    "    eig_val: the number of eigenvalue to be computed. Only if sparse \n",
    "             is True\n",
    "    need_orth: Whether to orthogonalize the leads modes. Only necessary \n",
    "               for degenerate eigenmodes\n",
    "\n",
    "    Returns\n",
    "    -------\n",
    "    E: energy of the bound state\n",
    "    if return _wf is True:\n",
    "        psi_alpha_0: wavefunction in the scattering region\n",
    "        lmb: Evanescent modes in the lead at a given energy\n",
    "        q_e: \n",
    "        Phi: \n",
    "    elements fo compute the wavefunction in the leads\n",
    "\n",
    "    Notes\n",
    "    -----\n",
    "    TODO: finish this docstring\n",
    "    Can use Newton method to find the root. Downside of this method: \n",
    "    -needs a good initial guess (i.e. first Taylor expansion term bigger\n",
    "     than others) \n",
    "    -assume that the minimal eigenvalue is a smooth function, which is \n",
    "     not the case when a mode opens in the lead, or when the minimal \n",
    "     eigenvalue changes\n",
    "    Upside: Fast\n",
    "    Brentq:\n",
    "    from scipy, \"Generally considered the best of the rootfinding routines here\"\n",
    "\n",
    "    Returns at most 1 bound state...\n",
    "    \"\"\"\n",
    "    mat = extract_kwant_matrices(syst, sparse=sparse, args=args, params=params)\n",
    "\n",
    "    # To use Singular value decomposition and look for a minimum\n",
    "    return SVD_formulation(mat, E_range, tol, return_wf=return_wf, sparse=sparse)\n",
    "    # To use eigenvalue decomposition and look for a root\n",
    "    # return Hermitian_formulation(mat, E_0, return_wf=return_wf)\n",
    "\n",
    "def SVD_formulation(mat, E_range, tol, return_wf=False, sparse=False, sigma=None, sing_values=1):\n",
    "    \"\"\"\n",
    "    Compute the singular values of Eq.11\n",
    "    \"\"\"\n",
    "    def min_sing(e):\n",
    "        return min(singular_values(*mat, e, sparse=sparse, uv=False, sing_values=1))\n",
    "\n",
    "    minimum = minimize_scalar(min_sing, method='Bounded', bounds=E_range, \n",
    "                              options={'xatol': tol})\n",
    "    if minimum.fun > tol:\n",
    "        print(minimum.fun)\n",
    "        return None\n",
    "\n",
    "    E = minimum.x\n",
    "    if return_wf:\n",
    "        #print('here')\n",
    "        #print(minimum)\n",
    "        S, Wh, L_out, X_out = singular_values(*mat, E, sparse=sparse,\n",
    "                                              uv=True, sigma=sigma,\n",
    "                                              sing_values=sing_values)\n",
    "        \n",
    "        psi_alpha_0, q_e, L_out, Phi = compute_wf(S, Wh.conj().T, L_out, \n",
    "                                                X_out, mat[0].shape[0], \n",
    "                                                tol=tol,schur_modes=False)\n",
    "        return E, psi_alpha_0, q_e, L_out, Phi\n",
    "    else:\n",
    "        return E\n",
    "\n",
    "def Hermitian_formulation(mat, E_0, return_wf=False, fprime=eig_val_derivative):\n",
    "\n",
    "    def min_eig(e, *mat, sparse=sparse):\n",
    "        eig = eig_values(*mat, e, sparse=sparse, uv=False, sing_values=1)\n",
    "        idx = np.argmin(abs(eig))\n",
    "        return eig[idx]\n",
    "\n",
    "    try:\n",
    "        E = newton(min_eig, E_0, fprime=fprime, tol=tol, args=(*mat, sparse))\n",
    "\n",
    "        if not false_positive_BS(*mat, E, eps=eps):\n",
    "            print('False positive, no bound state')\n",
    "            return None\n",
    "        if return_wf:\n",
    "            S, Wh, L_out, X_out = eig_values(*mat, E, sparse=sparse,\n",
    "                                             uv=True)\n",
    "            psi_alpha_0, q_e, L_out, Phi = compute_wf(S, Wh.conj().T, L_out, \n",
    "                                                X_out, mat[0].shape, \n",
    "                                                tol=tol,schur_modes=False)\n",
    "            return E, psi_alpha_0, q_e, L_out, Phi\n",
    "        else:\n",
    "            return E\n",
    "\n",
    "    except RuntimeError:\n",
    "        print('no bound states found')\n",
    "\n",
    "def wf_in_leads(q_e, L_out, Phi, j):\n",
    "    \"\"\"\n",
    "    Compute the bound state wavefunction in the jth cell of the lead.\n",
    "    According to M.W. notes, the first unit cell is labbelled by 1.\n",
    "    Eq.7 in the paper\n",
    "    \"\"\"\n",
    "    return Phi @ np.linalg.matrix_power(L_out, j) @ q_e \n"
   ]
  },
  {
   "cell_type": "code",
   "execution_count": null,
   "id": "821176ee-3f0e-4597-aef9-373794648b6f",
   "metadata": {},
   "outputs": [],
   "source": []
  }
 ],
 "metadata": {
  "kernelspec": {
   "display_name": "Python 3 (ipykernel)",
   "language": "python",
   "name": "python3"
  },
  "language_info": {
   "codemirror_mode": {
    "name": "ipython",
    "version": 3
   },
   "file_extension": ".py",
   "mimetype": "text/x-python",
   "name": "python",
   "nbconvert_exporter": "python",
   "pygments_lexer": "ipython3",
   "version": "3.9.6"
  }
 },
 "nbformat": 4,
 "nbformat_minor": 5
}
